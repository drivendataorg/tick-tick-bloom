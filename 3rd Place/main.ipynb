{
 "cells": [
  {
   "cell_type": "markdown",
   "metadata": {
    "id": "8nB9K-C3MlLJ"
   },
   "source": [
    "# 0. Directory tree"
   ]
  },
  {
   "cell_type": "code",
   "execution_count": 21,
   "metadata": {
    "id": "0LFtiFXzMoAF"
   },
   "outputs": [],
   "source": [
    ".\n",
    "├── create_datasets.py\n",
    "├── create_hrrr_uid_grid_mapping.py\n",
    "├── data\n",
    "│   ├── interim\n",
    "│   ├── processed\n",
    "│   └── raw\n",
    "├── download_hrrr_forecasts.py\n",
    "├── download_satellite_data.py\n",
    "├── environment.yml\n",
    "├── main.ipynb\n",
    "├── test.py\n",
    "└── train.py\n"
   ]
  },
  {
   "cell_type": "markdown",
   "metadata": {
    "id": "Wswyp3vmIKSw"
   },
   "source": [
    "# 1. Download datasets"
   ]
  },
  {
   "cell_type": "markdown",
   "metadata": {
    "id": "u949uy2ImQuL"
   },
   "source": [
    "## Option 1: Download preprocessed data"
   ]
  },
  {
   "cell_type": "code",
   "execution_count": 6,
   "metadata": {
    "id": "7mwpth5UmW7D"
   },
   "outputs": [
    {
     "name": "stdout",
     "output_type": "stream",
     "text": [
      "Downloading...\n",
      "From: https://drive.google.com/uc?id=1pIi1ypZ0r1lfqKkyc_2BOl4va7LJYPuD\n",
      "To: /home/karel/Desktop/bloom/src/satellite_data.zip\n",
      "100%|██████████████████████████████████████| 1.15G/1.15G [08:40<00:00, 2.21MB/s]\n",
      "Downloading...\n",
      "From: https://drive.google.com/uc?id=13DSr0C9gC9cjUze-MbUsWpyNsWjOkhwb\n",
      "To: /home/karel/Desktop/bloom/src/meta.zip\n",
      "100%|█████████████████████████████████████████| 533k/533k [00:00<00:00, 866kB/s]\n",
      "Downloading...\n",
      "From: https://drive.google.com/uc?id=1-170AoILkG-N9Vism_F4dim6iG7Z9dpM\n",
      "To: /home/karel/Desktop/bloom/src/hrrr.zip\n",
      "100%|██████████████████████████████████████| 55.2M/55.2M [00:23<00:00, 2.38MB/s]\n",
      "Downloading...\n",
      "From: https://drive.google.com/uc?id=13dWxOusuDyTIzVDfnZ8KY4ReDFnjF3Oh\n",
      "To: /home/karel/Desktop/bloom/src/processed.zip\n",
      "100%|██████████████████████████████████████| 5.89M/5.89M [00:02<00:00, 2.18MB/s]\n",
      "Downloading...\n",
      "From: https://drive.google.com/uc?id=1nAGnprRQcT9gtNTxYLui5Z1U1oUNS6aS\n",
      "To: /home/karel/Desktop/bloom/src/model.zip\n",
      "100%|██████████████████████████████████████| 4.64M/4.64M [00:02<00:00, 1.86MB/s]\n"
     ]
    }
   ],
   "source": [
    "!gdown -O satellite_data.zip 1pIi1ypZ0r1lfqKkyc_2BOl4va7LJYPuD \n",
    "!gdown -O meta.zip 13DSr0C9gC9cjUze-MbUsWpyNsWjOkhwb \n",
    "!gdown -O hrrr.zip 1-170AoILkG-N9Vism_F4dim6iG7Z9dpM \n",
    "!gdown -O processed.zip 13dWxOusuDyTIzVDfnZ8KY4ReDFnjF3Oh\n",
    "!gdown -O model.zip 1nAGnprRQcT9gtNTxYLui5Z1U1oUNS6aS\n",
    "\n",
    "!mkdir -p data\n",
    "!unzip -qqnd data/raw meta\n",
    "!unzip -qqnd data/interim satellite_data\n",
    "!unzip -qqnd data/interim hrrr\n",
    "!unzip -qqnd data/processed processed\n",
    "!unzip -qqn model "
   ]
  },
  {
   "cell_type": "markdown",
   "metadata": {
    "id": "JGeHIvQDH9Qv"
   },
   "source": [
    "## Option 2: Download data from multiple sources and preprocess"
   ]
  },
  {
   "attachments": {},
   "cell_type": "markdown",
   "metadata": {},
   "source": [
    "> _DrivenData note: The download scripts below use [PQDM](https://github.com/niedakh/pqdm) to parallelize downloads. If you find that your download runs crash, you may need to modify them to reduce the number of jobs, or switch from multiprocessing to multithreading._"
   ]
  },
  {
   "cell_type": "code",
   "execution_count": null,
   "metadata": {
    "id": "DFcEfqnHeKuI"
   },
   "outputs": [],
   "source": [
    "## Download satellite data\n",
    "# lsat=landsat\n",
    "# snel=sentinel\n",
    "!python download_satellite_data.py train lsat\n",
    "!python download_satellite_data.py train snel\n",
    "!python download_satellite_data.py test lsat\n",
    "!python download_satellite_data.py test snel"
   ]
  },
  {
   "cell_type": "code",
   "execution_count": null,
   "metadata": {
    "id": "LZhR2JfgkKyG"
   },
   "outputs": [],
   "source": [
    "#create a reference file to mapping sample locations to HRRR grids \n",
    "!python create_hrrr_uid_grid_mapping.py"
   ]
  },
  {
   "cell_type": "code",
   "execution_count": null,
   "metadata": {
    "id": "J523sB2QaSDx"
   },
   "outputs": [],
   "source": [
    "#Download temperature and specific humidity HRRR forecasts for locations and dates in the train and test metadata\n",
    "!python download_hrrr_forecasts.py 'TMP' '2 m above ground' \n",
    "!python download_hrrr_forecasts.py 'SPFH' '2 m above ground' "
   ]
  },
  {
   "cell_type": "code",
   "execution_count": null,
   "metadata": {
    "colab": {
     "base_uri": "https://localhost:8080/"
    },
    "id": "cw_XzCCClwhj",
    "outputId": "8248ba4f-493b-482a-abbd-16417609e0f8"
   },
   "outputs": [
    {
     "name": "stdout",
     "output_type": "stream",
     "text": [
      "426880\n",
      "707340\n",
      "425092\n",
      "702528\n",
      "24791 16867\n",
      "41400 10855\n",
      "lsat:  (16867, 28) (40714, 28)\n",
      "13405 6430\n",
      "21224 4803\n",
      "snel:  (6430, 27) (20978, 27)\n"
     ]
    }
   ],
   "source": [
    "#merge data to create the final train and test datasets\n",
    "!python create_datasets.py"
   ]
  },
  {
   "cell_type": "code",
   "execution_count": null,
   "metadata": {},
   "outputs": [],
   "source": []
  },
  {
   "cell_type": "markdown",
   "metadata": {
    "id": "zF83tvVRmCpz"
   },
   "source": [
    "# 2. Model"
   ]
  },
  {
   "cell_type": "code",
   "execution_count": 17,
   "metadata": {},
   "outputs": [
    {
     "name": "stdout",
     "output_type": "stream",
     "text": [
      "16880\n",
      "180\n",
      "88\n",
      "67\n",
      "100%|█████████████████████████████████████| 2180/2180 [00:00<00:00, 3041.64it/s]\n",
      "[LightGBM] [Warning] Auto-choosing col-wise multi-threading, the overhead of testing was 0.001028 seconds.\n",
      "You can set `force_col_wise=true` to remove the overhead.\n",
      "fininshed training region: midwest 0, best score: 0.816496580927726\n",
      "[LightGBM] [Warning] Auto-choosing col-wise multi-threading, the overhead of testing was 0.004292 seconds.\n",
      "You can set `force_col_wise=true` to remove the overhead.\n",
      "fininshed training region: midwest 1, best score: 0.7488308644489767\n",
      "[LightGBM] [Warning] Auto-choosing col-wise multi-threading, the overhead of testing was 0.001149 seconds.\n",
      "You can set `force_col_wise=true` to remove the overhead.\n",
      "fininshed training region: midwest 2, best score: 0.7588831362323394\n",
      "[LightGBM] [Warning] Auto-choosing col-wise multi-threading, the overhead of testing was 0.000868 seconds.\n",
      "You can set `force_col_wise=true` to remove the overhead.\n",
      "fininshed training region: midwest 3, best score: 0.8020853182721962\n",
      "[LightGBM] [Warning] Auto-choosing col-wise multi-threading, the overhead of testing was 0.000899 seconds.\n",
      "You can set `force_col_wise=true` to remove the overhead.\n",
      "fininshed training region: midwest 4, best score: 0.8357108940373449\n",
      "100%|█████████████████████████████████████| 1142/1142 [00:00<00:00, 2976.60it/s]\n",
      "[LightGBM] [Warning] Auto-choosing col-wise multi-threading, the overhead of testing was 0.000912 seconds.\n",
      "You can set `force_col_wise=true` to remove the overhead.\n",
      "fininshed training region: northeast 0, best score: 0.9706434774573919\n",
      "[LightGBM] [Warning] Auto-choosing col-wise multi-threading, the overhead of testing was 0.000808 seconds.\n",
      "You can set `force_col_wise=true` to remove the overhead.\n",
      "fininshed training region: northeast 1, best score: 0.8085045786386454\n",
      "[LightGBM] [Warning] Auto-choosing col-wise multi-threading, the overhead of testing was 0.000909 seconds.\n",
      "You can set `force_col_wise=true` to remove the overhead.\n",
      "fininshed training region: northeast 2, best score: 0.8471083712209392\n",
      "[LightGBM] [Warning] Auto-choosing col-wise multi-threading, the overhead of testing was 0.004057 seconds.\n",
      "You can set `force_col_wise=true` to remove the overhead.\n",
      "fininshed training region: northeast 3, best score: 0.8173647327741629\n",
      "[LightGBM] [Warning] Auto-choosing col-wise multi-threading, the overhead of testing was 0.000843 seconds.\n",
      "You can set `force_col_wise=true` to remove the overhead.\n",
      "fininshed training region: northeast 4, best score: 0.8567058737562387\n",
      "100%|█████████████████████████████████████| 9888/9888 [00:03<00:00, 2966.31it/s]\n",
      "[LightGBM] [Warning] Auto-choosing col-wise multi-threading, the overhead of testing was 0.001639 seconds.\n",
      "You can set `force_col_wise=true` to remove the overhead.\n",
      "fininshed training region: south 0, best score: 0.788104167873464\n",
      "[LightGBM] [Warning] Auto-choosing col-wise multi-threading, the overhead of testing was 0.002027 seconds.\n",
      "You can set `force_col_wise=true` to remove the overhead.\n",
      "fininshed training region: south 1, best score: 0.7759557821263746\n",
      "[LightGBM] [Warning] Auto-choosing col-wise multi-threading, the overhead of testing was 0.001736 seconds.\n",
      "You can set `force_col_wise=true` to remove the overhead.\n",
      "fininshed training region: south 2, best score: 0.7709404271929996\n",
      "[LightGBM] [Warning] Auto-choosing col-wise multi-threading, the overhead of testing was 0.001612 seconds.\n",
      "You can set `force_col_wise=true` to remove the overhead.\n",
      "fininshed training region: south 3, best score: 0.7609549060734853\n",
      "[LightGBM] [Warning] Auto-choosing col-wise multi-threading, the overhead of testing was 0.001955 seconds.\n",
      "You can set `force_col_wise=true` to remove the overhead.\n",
      "fininshed training region: south 4, best score: 0.7765822429911468\n",
      "100%|█████████████████████████████████████| 3657/3657 [00:01<00:00, 3048.85it/s]\n",
      "[LightGBM] [Warning] Auto-choosing col-wise multi-threading, the overhead of testing was 0.001095 seconds.\n",
      "You can set `force_col_wise=true` to remove the overhead.\n",
      "fininshed training region: west 0, best score: 0.37457458863219695\n",
      "[LightGBM] [Warning] Auto-choosing col-wise multi-threading, the overhead of testing was 0.001029 seconds.\n",
      "You can set `force_col_wise=true` to remove the overhead.\n",
      "fininshed training region: west 1, best score: 0.45306782902523784\n",
      "[LightGBM] [Warning] Auto-choosing col-wise multi-threading, the overhead of testing was 0.001034 seconds.\n",
      "You can set `force_col_wise=true` to remove the overhead.\n",
      "fininshed training region: west 2, best score: 0.4628086568175124\n",
      "[LightGBM] [Warning] Auto-choosing col-wise multi-threading, the overhead of testing was 0.001154 seconds.\n",
      "You can set `force_col_wise=true` to remove the overhead.\n",
      "fininshed training region: west 3, best score: 0.486036916353039\n",
      "[LightGBM] [Warning] Auto-choosing col-wise multi-threading, the overhead of testing was 0.001052 seconds.\n",
      "You can set `force_col_wise=true` to remove the overhead.\n",
      "fininshed training region: west 4, best score: 0.4866256928145855\n",
      "100%|█████████████████████████████████████| 5702/5702 [00:02<00:00, 2850.67it/s]\n",
      "[LightGBM] [Warning] Auto-choosing col-wise multi-threading, the overhead of testing was 0.001178 seconds.\n",
      "You can set `force_col_wise=true` to remove the overhead.\n",
      "fininshed training region: midwest 0, best score: 0.793367899598588\n",
      "[LightGBM] [Warning] Auto-choosing col-wise multi-threading, the overhead of testing was 0.001048 seconds.\n",
      "You can set `force_col_wise=true` to remove the overhead.\n",
      "fininshed training region: midwest 1, best score: 0.8015231948690669\n",
      "[LightGBM] [Warning] Auto-choosing col-wise multi-threading, the overhead of testing was 0.001214 seconds.\n",
      "You can set `force_col_wise=true` to remove the overhead.\n",
      "fininshed training region: midwest 2, best score: 0.8358328785053348\n",
      "[LightGBM] [Warning] Auto-choosing col-wise multi-threading, the overhead of testing was 0.001126 seconds.\n",
      "You can set `force_col_wise=true` to remove the overhead.\n",
      "fininshed training region: midwest 3, best score: 0.8644847484077995\n",
      "[LightGBM] [Warning] Auto-choosing col-wise multi-threading, the overhead of testing was 0.008234 seconds.\n",
      "You can set `force_col_wise=true` to remove the overhead.\n",
      "fininshed training region: midwest 4, best score: 0.7629052580823998\n",
      "100%|█████████████████████████████████████| 3740/3740 [00:01<00:00, 2891.37it/s]\n",
      "[LightGBM] [Warning] Auto-choosing col-wise multi-threading, the overhead of testing was 0.001169 seconds.\n",
      "You can set `force_col_wise=true` to remove the overhead.\n",
      "fininshed training region: northeast 0, best score: 0.8034628557978896\n",
      "[LightGBM] [Warning] Auto-choosing col-wise multi-threading, the overhead of testing was 0.001093 seconds.\n",
      "You can set `force_col_wise=true` to remove the overhead.\n",
      "fininshed training region: northeast 1, best score: 0.9919677414109795\n",
      "[LightGBM] [Warning] Auto-choosing col-wise multi-threading, the overhead of testing was 0.001111 seconds.\n",
      "You can set `force_col_wise=true` to remove the overhead.\n",
      "fininshed training region: northeast 2, best score: 0.9325891685506268\n",
      "[LightGBM] [Warning] Auto-choosing col-wise multi-threading, the overhead of testing was 0.000880 seconds.\n",
      "You can set `force_col_wise=true` to remove the overhead.\n",
      "fininshed training region: northeast 3, best score: 1.0269797953221864\n",
      "[LightGBM] [Warning] Auto-choosing col-wise multi-threading, the overhead of testing was 0.000994 seconds.\n",
      "You can set `force_col_wise=true` to remove the overhead.\n",
      "fininshed training region: northeast 4, best score: 0.8885233166386386\n",
      "100%|███████████████████████████████████| 21400/21400 [00:07<00:00, 2890.19it/s]\n",
      "[LightGBM] [Warning] Auto-choosing col-wise multi-threading, the overhead of testing was 0.001804 seconds.\n",
      "You can set `force_col_wise=true` to remove the overhead.\n",
      "fininshed training region: south 0, best score: 0.7750527167753938\n",
      "[LightGBM] [Warning] Auto-choosing col-wise multi-threading, the overhead of testing was 0.001631 seconds.\n",
      "You can set `force_col_wise=true` to remove the overhead.\n",
      "fininshed training region: south 1, best score: 0.7801693789990721\n",
      "[LightGBM] [Warning] Auto-choosing col-wise multi-threading, the overhead of testing was 0.001816 seconds.\n",
      "You can set `force_col_wise=true` to remove the overhead.\n"
     ]
    },
    {
     "name": "stdout",
     "output_type": "stream",
     "text": [
      "fininshed training region: south 2, best score: 0.7917484901417817\n",
      "[LightGBM] [Warning] Auto-choosing col-wise multi-threading, the overhead of testing was 0.001617 seconds.\n",
      "You can set `force_col_wise=true` to remove the overhead.\n",
      "fininshed training region: south 3, best score: 0.8166342120422185\n",
      "[LightGBM] [Warning] Auto-choosing col-wise multi-threading, the overhead of testing was 0.001664 seconds.\n",
      "You can set `force_col_wise=true` to remove the overhead.\n",
      "fininshed training region: south 4, best score: 0.777423945323351\n",
      "100%|█████████████████████████████████████| 9872/9872 [00:03<00:00, 2887.69it/s]\n",
      "[LightGBM] [Warning] Auto-choosing col-wise multi-threading, the overhead of testing was 0.001191 seconds.\n",
      "You can set `force_col_wise=true` to remove the overhead.\n",
      "fininshed training region: west 0, best score: 0.5033027882027534\n",
      "[LightGBM] [Warning] Auto-choosing col-wise multi-threading, the overhead of testing was 0.001749 seconds.\n",
      "You can set `force_col_wise=true` to remove the overhead.\n",
      "fininshed training region: west 1, best score: 0.5021367618718294\n",
      "[LightGBM] [Warning] Auto-choosing col-wise multi-threading, the overhead of testing was 0.001239 seconds.\n",
      "You can set `force_col_wise=true` to remove the overhead.\n",
      "fininshed training region: west 2, best score: 0.5285806213578249\n",
      "[LightGBM] [Warning] Auto-choosing col-wise multi-threading, the overhead of testing was 0.001325 seconds.\n",
      "You can set `force_col_wise=true` to remove the overhead.\n",
      "fininshed training region: west 3, best score: 0.5481163192796085\n",
      "[LightGBM] [Warning] Auto-choosing col-wise multi-threading, the overhead of testing was 0.001337 seconds.\n",
      "You can set `force_col_wise=true` to remove the overhead.\n",
      "fininshed training region: west 4, best score: 0.5303444228165807\n",
      "lsat score 0.7211043310389356\n",
      "snel score 0.7342033955850179\n",
      "0.70748584005964\n",
      "final score:  0.711692046347487\n",
      "[2. 1. 3. 4.]\n"
     ]
    }
   ],
   "source": [
    "#Train model. Models are saved in the model directory\n",
    "!python train.py "
   ]
  },
  {
   "cell_type": "code",
   "execution_count": 18,
   "metadata": {
    "colab": {
     "base_uri": "https://localhost:8080/"
    },
    "id": "pjHXNgIIbWqm",
    "outputId": "b2bbcf75-afe2-4dea-e5e9-3eb1afb9148c"
   },
   "outputs": [
    {
     "name": "stdout",
     "output_type": "stream",
     "text": [
      "(6510, 13) (6430, 27) (20978, 27)\n",
      "6433\n",
      "77\n",
      "88\n",
      "67\n",
      "100%|█████████████████████████████████████| 1565/1565 [00:00<00:00, 3070.72it/s]\n",
      "100%|█████████████████████████████████████| 1042/1042 [00:00<00:00, 3141.35it/s]\n",
      "100%|█████████████████████████████████████| 1507/1507 [00:00<00:00, 3136.75it/s]\n",
      "100%|█████████████████████████████████████| 2316/2316 [00:00<00:00, 3157.13it/s]\n",
      "100%|█████████████████████████████████████| 5592/5592 [00:01<00:00, 2930.13it/s]\n",
      "100%|█████████████████████████████████████| 3717/3717 [00:01<00:00, 2929.90it/s]\n",
      "100%|█████████████████████████████████████| 5038/5038 [00:01<00:00, 2951.14it/s]\n",
      "100%|█████████████████████████████████████| 6631/6631 [00:02<00:00, 2959.40it/s]\n",
      "filling 77 test samples w/o data with region average\n",
      "test.py:172: FutureWarning: The frame.append method is deprecated and will be removed from pandas in a future version. Use pandas.concat instead.\n",
      "  test = test.append(test_null)\n",
      "[4 2 3 1]\n",
      "uid,region,severity\n",
      "aabn,west,4\n",
      "aair,west,4\n",
      "aajw,northeast,2\n",
      "aalr,midwest,3\n",
      "aalw,west,4\n",
      "aamp,west,2\n",
      "aapj,west,4\n",
      "aaqf,northeast,2\n",
      "aauy,south,1\n"
     ]
    }
   ],
   "source": [
    "#Run inference on the test data. Writes predictions to solution.csv\n",
    "!python test.py\n",
    "!head solution.csv"
   ]
  }
 ],
 "metadata": {
  "colab": {
   "provenance": []
  },
  "kernelspec": {
   "display_name": "Python 3 (ipykernel)",
   "language": "python",
   "name": "python3"
  },
  "language_info": {
   "codemirror_mode": {
    "name": "ipython",
    "version": 3
   },
   "file_extension": ".py",
   "mimetype": "text/x-python",
   "name": "python",
   "nbconvert_exporter": "python",
   "pygments_lexer": "ipython3",
   "version": "3.8.16"
  }
 },
 "nbformat": 4,
 "nbformat_minor": 1
}
