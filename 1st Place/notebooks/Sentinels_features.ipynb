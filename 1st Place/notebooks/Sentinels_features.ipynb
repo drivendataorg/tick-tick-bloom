{
 "cells": [
  {
   "cell_type": "markdown",
   "metadata": {},
   "source": [
    "# Sentinels feature engineering\n",
    "This notebook perform the following steps:\n",
    "\n",
    "Read all available visual and SCL(scene classification) layers.\n",
    "Mask out the non-water regions by applying the mask created by selecting SCL==6 (water pixels).\n",
    "Extract water-related color features."
   ]
  },
  {
   "cell_type": "code",
   "execution_count": 1,
   "metadata": {},
   "outputs": [],
   "source": [
    "import pandas as pd\n",
    "import glob\n",
    "import numpy as np\n",
    "import matplotlib.pyplot as plt\n",
    "from skimage.io import imread\n",
    "import tqdm\n",
    "import cv2\n",
    "import seaborn as sns\n",
    "from sklearn.model_selection import StratifiedKFold\n",
    "from sklearn.metrics import mean_squared_error\n",
    "from scipy.stats import kruskal"
   ]
  },
  {
   "cell_type": "code",
   "execution_count": 2,
   "metadata": {},
   "outputs": [
    {
     "name": "stdout",
     "output_type": "stream",
     "text": [
      "Downloaded Sentinels files: 30047, water mask: 15023, img: 15024\n"
     ]
    }
   ],
   "source": [
    "# read competition related files\n",
    "meta = pd.read_csv('../inputs/metadata.csv')\n",
    "train = meta.copy()\n",
    "train.head(2)\n",
    "\n",
    "train_label = pd.read_csv('../inputs/train_labels.csv')\n",
    "test_pslabel = pd.read_csv('../inputs/submission_format.csv')\n",
    "\n",
    "water_files = set(glob.glob('../downloaded_data/Sentinel/W_*.png'))\n",
    "all_files = set(glob.glob('../downloaded_data/Sentinel/*.png'))\n",
    "imgs = list(all_files - water_files)\n",
    "\n",
    "print('Downloaded Sentinels files: {}, water mask: {}, img: {}'.format(\n",
    "    len(all_files), len(water_files), len(imgs)))\n",
    "\n",
    "df = pd.DataFrame({'files': list(water_files)})\n",
    "df['uid'] = df.files.str.split('_', expand=True)[2]\n",
    "\n",
    "lbls = pd.concat([test_pslabel, train_label])\n",
    "\n",
    "train = train.merge(df, on='uid', how='inner').merge(lbls, on='uid', how='inner')\n",
    "train['path'] = train.files.apply(lambda x: x.replace('W_', ''), 1)\n",
    "\n",
    "\n",
    "interested = train.copy()"
   ]
  },
  {
   "cell_type": "code",
   "execution_count": 3,
   "metadata": {},
   "outputs": [
    {
     "data": {
      "text/plain": [
       "train    10595\n",
       "test      4428\n",
       "Name: split, dtype: int64"
      ]
     },
     "execution_count": 3,
     "metadata": {},
     "output_type": "execute_result"
    }
   ],
   "source": [
    "interested.split.value_counts()"
   ]
  },
  {
   "cell_type": "code",
   "execution_count": 4,
   "metadata": {},
   "outputs": [],
   "source": [
    "r,g,b,gmax,gmin = [], [], [], [], []\n",
    "for i, row in interested.iterrows():\n",
    "    wm = imread(row.files)\n",
    "    img = imread(row.path)\n",
    "    water_scaled = np.stack([cv2.resize(wm, (img.shape[1], img.shape[0]))] * 3, -1) == 6\n",
    "    if water_scaled.sum() == 0:\n",
    "        r.append(np.nan)\n",
    "        g.append(np.nan)\n",
    "        b.append(np.nan)\n",
    "        gmax.append(np.nan)\n",
    "        gmin.append(np.nan)\n",
    "    else:\n",
    "        r.append(img[:, :, 0][water_scaled[:, :, 0]].mean())\n",
    "        g.append(img[:, :, 1][water_scaled[:, :, 1]].mean())\n",
    "        b.append(img[:, :, 2][water_scaled[:, :, 2]].mean())\n",
    "        gmax.append(np.percentile(img[:, :, 1][water_scaled[:, :, 1]], 95))\n",
    "        gmin.append(np.percentile(img[:, :, 1][water_scaled[:, :, 1]], 5))\n"
   ]
  },
  {
   "cell_type": "code",
   "execution_count": 9,
   "metadata": {},
   "outputs": [],
   "source": [
    "interested['R'] = r\n",
    "interested['G'] = g\n",
    "interested['B'] = b\n",
    "interested['GMax'] = gmax\n",
    "interested['GMin'] = gmin\n",
    "\n",
    "\n",
    "interested['G_R'] = interested.G / interested.R\n",
    "interested['G_B'] = interested.G / interested.B\n",
    "interested['R_B'] = interested.R / interested.B\n",
    "interested['GMax_B'] = interested.GMax / interested.B\n",
    "interested['GMin_B'] = interested.GMin / interested.B"
   ]
  },
  {
   "cell_type": "code",
   "execution_count": 10,
   "metadata": {},
   "outputs": [],
   "source": [
    "interested.to_csv('../outputs/Sentinels_available_features.csv', index=False)"
   ]
  },
  {
   "cell_type": "code",
   "execution_count": 11,
   "metadata": {},
   "outputs": [
    {
     "name": "stderr",
     "output_type": "stream",
     "text": [
      "/tmp/ipykernel_702581/2161233432.py:1: FutureWarning: The default value of numeric_only in DataFrame.corr is deprecated. In a future version, it will default to False. Select only valid columns or specify the value of numeric_only to silence this warning.\n",
      "  np.abs(interested[\n"
     ]
    },
    {
     "data": {
      "text/html": [
       "<div>\n",
       "<style scoped>\n",
       "    .dataframe tbody tr th:only-of-type {\n",
       "        vertical-align: middle;\n",
       "    }\n",
       "\n",
       "    .dataframe tbody tr th {\n",
       "        vertical-align: top;\n",
       "    }\n",
       "\n",
       "    .dataframe thead th {\n",
       "        text-align: right;\n",
       "    }\n",
       "</style>\n",
       "<table border=\"1\" class=\"dataframe\">\n",
       "  <thead>\n",
       "    <tr style=\"text-align: right;\">\n",
       "      <th></th>\n",
       "      <th>severity</th>\n",
       "    </tr>\n",
       "  </thead>\n",
       "  <tbody>\n",
       "    <tr>\n",
       "      <th>G_R</th>\n",
       "      <td>0.098202</td>\n",
       "    </tr>\n",
       "    <tr>\n",
       "      <th>GMax_B</th>\n",
       "      <td>0.104874</td>\n",
       "    </tr>\n",
       "    <tr>\n",
       "      <th>B</th>\n",
       "      <td>0.133577</td>\n",
       "    </tr>\n",
       "    <tr>\n",
       "      <th>GMax</th>\n",
       "      <td>0.160454</td>\n",
       "    </tr>\n",
       "    <tr>\n",
       "      <th>R</th>\n",
       "      <td>0.175333</td>\n",
       "    </tr>\n",
       "    <tr>\n",
       "      <th>GMin_B</th>\n",
       "      <td>0.225835</td>\n",
       "    </tr>\n",
       "    <tr>\n",
       "      <th>G</th>\n",
       "      <td>0.241006</td>\n",
       "    </tr>\n",
       "    <tr>\n",
       "      <th>GMin</th>\n",
       "      <td>0.253939</td>\n",
       "    </tr>\n",
       "    <tr>\n",
       "      <th>R_B</th>\n",
       "      <td>0.263560</td>\n",
       "    </tr>\n",
       "    <tr>\n",
       "      <th>G_B</th>\n",
       "      <td>0.306651</td>\n",
       "    </tr>\n",
       "    <tr>\n",
       "      <th>longitude</th>\n",
       "      <td>0.324348</td>\n",
       "    </tr>\n",
       "    <tr>\n",
       "      <th>latitude</th>\n",
       "      <td>0.339821</td>\n",
       "    </tr>\n",
       "    <tr>\n",
       "      <th>density</th>\n",
       "      <td>0.379389</td>\n",
       "    </tr>\n",
       "    <tr>\n",
       "      <th>severity</th>\n",
       "      <td>1.000000</td>\n",
       "    </tr>\n",
       "  </tbody>\n",
       "</table>\n",
       "</div>"
      ],
      "text/plain": [
       "           severity\n",
       "G_R        0.098202\n",
       "GMax_B     0.104874\n",
       "B          0.133577\n",
       "GMax       0.160454\n",
       "R          0.175333\n",
       "GMin_B     0.225835\n",
       "G          0.241006\n",
       "GMin       0.253939\n",
       "R_B        0.263560\n",
       "G_B        0.306651\n",
       "longitude  0.324348\n",
       "latitude   0.339821\n",
       "density    0.379389\n",
       "severity   1.000000"
      ]
     },
     "execution_count": 11,
     "metadata": {},
     "output_type": "execute_result"
    }
   ],
   "source": [
    "np.abs(interested[\n",
    "    (interested.split == 'train') & (interested.region.isin(['midwest', 'northeast']))\n",
    "].corr()[['severity']]).sort_values('severity')"
   ]
  },
  {
   "cell_type": "code",
   "execution_count": 12,
   "metadata": {},
   "outputs": [
    {
     "data": {
      "text/plain": [
       "<AxesSubplot: xlabel='severity', ylabel='G_B'>"
      ]
     },
     "execution_count": 12,
     "metadata": {},
     "output_type": "execute_result"
    },
    {
     "data": {
      "image/png": "[encoded data removed]",
      "text/plain": [
       "<Figure size 640x480 with 1 Axes>"
      ]
     },
     "metadata": {},
     "output_type": "display_data"
    }
   ],
   "source": [
    "sns.set(font_scale=1.2)\n",
    "sns.boxplot(data=interested, x='severity', y='G_B', showfliers = False)"
   ]
  }
 ],
 "metadata": {
  "kernelspec": {
   "display_name": "Python (rapidgenomics)",
   "language": "python",
   "name": "python3"
  },
  "language_info": {
   "codemirror_mode": {
    "name": "ipython",
    "version": 3
   },
   "file_extension": ".py",
   "mimetype": "text/x-python",
   "name": "python",
   "nbconvert_exporter": "python",
   "pygments_lexer": "ipython3",
   "version": "3.8.5"
  }
 },
 "nbformat": 4,
 "nbformat_minor": 4
}
