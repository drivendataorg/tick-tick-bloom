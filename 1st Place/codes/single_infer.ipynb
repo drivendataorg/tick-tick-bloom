{
 "cells": [
  {
   "cell_type": "markdown",
   "metadata": {},
   "source": [
    "# Single Instance infer"
   ]
  },
  {
   "cell_type": "code",
   "execution_count": 20,
   "metadata": {},
   "outputs": [],
   "source": [
    "import pandas as pd\n",
    "import seaborn as sns\n",
    "import numpy as np\n",
    "\n",
    "import glob\n",
    "import matplotlib.pyplot as plt\n",
    "from sklearn.metrics import mean_squared_error\n",
    "from sklearn.cluster import KMeans\n",
    "from sklearn.model_selection import GroupKFold\n",
    "from sklearn.neighbors import KDTree\n",
    "import tqdm\n",
    "from sklearn.ensemble import RandomForestRegressor\n",
    "import lightgbm as lgb\n",
    "from sklearn.decomposition import PCA\n",
    "import os\n",
    "from skimage.io import imread\n",
    "import cv2\n",
    "import pickle\n",
    "import warnings\n",
    "warnings.filterwarnings('ignore')"
   ]
  },
  {
   "cell_type": "code",
   "execution_count": 2,
   "metadata": {},
   "outputs": [],
   "source": [
    "test_columns = ['region', 'month', 'Visibility', 'Wind speed (gust)',\n",
    "       'Surface pressure', 'Orography', 'Temperature',\n",
    "       'Plant canopy surface water',\n",
    "       'Water equivalent of accumulated snow depth (deprecated)', 'Snow cover',\n",
    "       'Snow depth', 'Percent frozen precipitation', 'Precipitation rate',\n",
    "       'Categorical snow', 'Categorical ice pellets',\n",
    "       'Categorical freezing rain', 'Categorical rain', 'Surface roughness',\n",
    "       'Frictional velocity', 'Sensible heat net flux', 'Latent heat net flux',\n",
    "       'Ground heat flux', 'Vegetation Type',\n",
    "       'Convective available potential energy', 'Convective inhibition',\n",
    "       'Downward short-wave radiation flux',\n",
    "       'Downward long-wave radiation flux', 'Upward short-wave radiation flux',\n",
    "       'Upward long-wave radiation flux', 'Visible Beam Downward Solar Flux',\n",
    "       'Visible Diffuse Downward Solar Flux',\n",
    "       'Planetary boundary layer height', 'Land-sea mask',\n",
    "       'Sea ice area fraction', 'Lightning', 'Vegetation', 'unknown',\n",
    "       'Leaf Area Index', 'Cloud Forcing Net Solar Flux', 'R', 'G', 'B',\n",
    "       'GMax', 'GMin', 'G_R', 'G_B', 'R_B', 'GMax_B', 'GMin_B']"
   ]
  },
  {
   "cell_type": "code",
   "execution_count": 3,
   "metadata": {},
   "outputs": [],
   "source": [
    "def pseudo_round(x):\n",
    "    if x < 1.65:\n",
    "        return 1\n",
    "    elif x < 2.55:\n",
    "        return 2\n",
    "    elif x < 3.5:\n",
    "        return 3\n",
    "    elif x < 4.5:\n",
    "        return 4\n",
    "    else:\n",
    "        return 5"
   ]
  },
  {
   "cell_type": "code",
   "execution_count": 5,
   "metadata": {},
   "outputs": [],
   "source": [
    "meta = pd.read_csv('../inputs/metadata.csv')\n",
    "test = pd.read_csv('../inputs/submission_format.csv')\n",
    "train = pd.read_csv('../inputs/train_labels.csv')\n",
    "\n",
    "test = test.merge(meta, on='uid', how='inner')"
   ]
  },
  {
   "cell_type": "code",
   "execution_count": 52,
   "metadata": {},
   "outputs": [],
   "source": [
    "with open('../outputs/weights/kdt.bin', 'rb') as fp:\n",
    "    kdt, tdf = pickle.load(fp)\n",
    "\n",
    "lgb_models = []\n",
    "weights = glob.glob('../outputs/weights/model_*.bin')\n",
    "for w in weights:\n",
    "    loaded_model = lgb.Booster(model_file=w)\n",
    "    lgb_models.append(loaded_model)"
   ]
  },
  {
   "cell_type": "code",
   "execution_count": 21,
   "metadata": {},
   "outputs": [],
   "source": [
    "row = test.sample(1).iloc[0]"
   ]
  },
  {
   "cell_type": "code",
   "execution_count": 22,
   "metadata": {},
   "outputs": [
    {
     "data": {
      "text/plain": [
       "uid                nttf\n",
       "region             west\n",
       "severity              1\n",
       "latitude        35.1245\n",
       "longitude      -120.569\n",
       "date         2021-04-20\n",
       "split              test\n",
       "Name: 3422, dtype: object"
      ]
     },
     "execution_count": 22,
     "metadata": {},
     "output_type": "execute_result"
    }
   ],
   "source": [
    "row"
   ]
  },
  {
   "cell_type": "code",
   "execution_count": 14,
   "metadata": {},
   "outputs": [],
   "source": [
    "exist_nrrr = {x.split('.')[0]: x for x in os.listdir('../downloaded_data/nrrr/')}"
   ]
  },
  {
   "cell_type": "code",
   "execution_count": 72,
   "metadata": {},
   "outputs": [],
   "source": [
    "def predict_row(row):\n",
    "    knn = False\n",
    "    if row.region in ['south', 'west']:\n",
    "        knn = True\n",
    "    else:\n",
    "        nrrr_df_name = exist_nrrr.get(row['date'])\n",
    "        if nrrr_df_name:\n",
    "            nrrr_df = pd.read_csv('../downloaded_data/nrrr/' + nrrr_df_name, index_col=0)\n",
    "            if row.uid in set(nrrr_df.id.unique()):\n",
    "                nrrr_row = nrrr_df[nrrr_df.id == row.uid]\n",
    "            else:\n",
    "                knn = True\n",
    "        else:\n",
    "            knn = True\n",
    "\n",
    "    # try load water data\n",
    "    if not knn:\n",
    "        water_stats = []\n",
    "        im_file = glob.glob(f'../downloaded_data/Sentinel/{row.uid}*')\n",
    "        water_file = glob.glob(f'../downloaded_data/Sentinel/W_{row.uid}*')\n",
    "\n",
    "        if len(im_file) > 0 and len(water_file) > 0:\n",
    "            wm = imread(water_file[0])\n",
    "            img = imread(im_file[0])\n",
    "            water_scaled = np.stack([cv2.resize(wm, (img.shape[1], img.shape[0]))] * 3, -1) == 6\n",
    "            if water_scaled.sum() == 0:\n",
    "                water_stats.append({\n",
    "                    'uid': row.uid\n",
    "                })\n",
    "            else:\n",
    "                interested = {}\n",
    "                interested['R'] = img[:, :, 0][water_scaled[:, :, 0]].mean()\n",
    "                interested['G'] = img[:, :, 1][water_scaled[:, :, 1]].mean()\n",
    "                interested['B'] = img[:, :, 2][water_scaled[:, :, 2]].mean()\n",
    "                interested['GMax'] = np.percentile(img[:, :, 1][water_scaled[:, :, 1]], 95)\n",
    "                interested['GMin'] = np.percentile(img[:, :, 1][water_scaled[:, :, 1]], 5)\n",
    "\n",
    "\n",
    "                interested['G_R'] = interested['G'] / interested['R']\n",
    "                interested['G_B'] = interested['G'] / interested['B']\n",
    "                interested['R_B'] = interested['R'] / interested['B']\n",
    "                interested['GMax_B'] = interested['GMax'] / interested['B']\n",
    "                interested['GMin_B'] = interested['GMin'] / interested['B']\n",
    "                interested['uid'] = row.uid\n",
    "                water_stats.append(interested)\n",
    "        else:\n",
    "            water_stats.append({\n",
    "                'uid': row.uid\n",
    "            })\n",
    "        ws = pd.DataFrame(water_stats)\n",
    "\n",
    "        row_input = pd.DataFrame(row).T.merge(\n",
    "            nrrr_row.merge(ws, left_on='id', right_on='uid', how='left'), on='uid', how='left')\n",
    "\n",
    "        row_input['month'] = int(row.date.split('-')[1])\n",
    "        for e in set(test_columns) - set(row_input.columns):\n",
    "            row_input[e] = np.nan\n",
    "\n",
    "        row_input = row_input[test_columns]\n",
    "\n",
    "        row_input['region'] = row_input['region'].map({\n",
    "            'midwest': 0,\n",
    "            'south': 1,\n",
    "            'northeast': 2,\n",
    "            'west': 3\n",
    "        })\n",
    "\n",
    "\n",
    "        preds = []\n",
    "        for loaded_model in lgb_models:\n",
    "            preds.append(loaded_model.predict(row_input)[0])\n",
    "\n",
    "        out = pseudo_round(np.mean(preds))\n",
    "\n",
    "    else:\n",
    "        row_df = pd.DataFrame(row).T\n",
    "\n",
    "        distance, matches = kdt.query(row_df[['latitude', 'longitude']].values, k=100, return_distance=True)\n",
    "        pred = []\n",
    "        for i, x in enumerate(matches):\n",
    "            pred.append((tdf.iloc[x].severity * (1 / distance[i])).sum() / (1 / distance[i]).sum())\n",
    "        out = np.round(pred[0])\n",
    "        \n",
    "    return out"
   ]
  },
  {
   "cell_type": "code",
   "execution_count": 73,
   "metadata": {},
   "outputs": [
    {
     "name": "stderr",
     "output_type": "stream",
     "text": [
      "6510it [24:22,  4.45it/s]\n"
     ]
    }
   ],
   "source": [
    "preds = []\n",
    "for i, row in tqdm.tqdm(test.iterrows()):\n",
    "    preds.append(predict_row(row))"
   ]
  },
  {
   "cell_type": "code",
   "execution_count": 74,
   "metadata": {},
   "outputs": [],
   "source": [
    "test_sample = test.copy()"
   ]
  },
  {
   "cell_type": "code",
   "execution_count": 75,
   "metadata": {},
   "outputs": [],
   "source": [
    "test_sample['severity'] = preds"
   ]
  },
  {
   "cell_type": "code",
   "execution_count": 76,
   "metadata": {},
   "outputs": [
    {
     "data": {
      "text/plain": [
       "2.0    2273\n",
       "4.0    2222\n",
       "1.0    1504\n",
       "3.0     511\n",
       "Name: severity, dtype: int64"
      ]
     },
     "execution_count": 76,
     "metadata": {},
     "output_type": "execute_result"
    }
   ],
   "source": [
    "test_sample.severity.value_counts(0)"
   ]
  },
  {
   "cell_type": "code",
   "execution_count": 77,
   "metadata": {},
   "outputs": [],
   "source": [
    "st = pd.read_csv('../../../data2/tick_reproduce/outputs/submission.csv')"
   ]
  },
  {
   "cell_type": "code",
   "execution_count": 78,
   "metadata": {},
   "outputs": [
    {
     "data": {
      "text/plain": [
       "2    2288\n",
       "4    2222\n",
       "1    1498\n",
       "3     502\n",
       "Name: severity, dtype: int64"
      ]
     },
     "execution_count": 78,
     "metadata": {},
     "output_type": "execute_result"
    }
   ],
   "source": [
    "st.severity.value_counts()"
   ]
  },
  {
   "cell_type": "code",
   "execution_count": 62,
   "metadata": {},
   "outputs": [
    {
     "data": {
      "text/html": [
       "<div>\n",
       "<style scoped>\n",
       "    .dataframe tbody tr th:only-of-type {\n",
       "        vertical-align: middle;\n",
       "    }\n",
       "\n",
       "    .dataframe tbody tr th {\n",
       "        vertical-align: top;\n",
       "    }\n",
       "\n",
       "    .dataframe thead th {\n",
       "        text-align: right;\n",
       "    }\n",
       "</style>\n",
       "<table border=\"1\" class=\"dataframe\">\n",
       "  <thead>\n",
       "    <tr style=\"text-align: right;\">\n",
       "      <th></th>\n",
       "      <th>uid</th>\n",
       "      <th>region</th>\n",
       "      <th>severity</th>\n",
       "      <th>latitude</th>\n",
       "      <th>longitude</th>\n",
       "      <th>date</th>\n",
       "      <th>split</th>\n",
       "    </tr>\n",
       "  </thead>\n",
       "  <tbody>\n",
       "    <tr>\n",
       "      <th>0</th>\n",
       "      <td>aabn</td>\n",
       "      <td>west</td>\n",
       "      <td>4.0</td>\n",
       "      <td>36.559700</td>\n",
       "      <td>-121.510000</td>\n",
       "      <td>2016-08-31</td>\n",
       "      <td>test</td>\n",
       "    </tr>\n",
       "    <tr>\n",
       "      <th>1</th>\n",
       "      <td>aair</td>\n",
       "      <td>west</td>\n",
       "      <td>4.0</td>\n",
       "      <td>33.042600</td>\n",
       "      <td>-117.076000</td>\n",
       "      <td>2014-11-01</td>\n",
       "      <td>test</td>\n",
       "    </tr>\n",
       "    <tr>\n",
       "      <th>2</th>\n",
       "      <td>aajw</td>\n",
       "      <td>northeast</td>\n",
       "      <td>2.0</td>\n",
       "      <td>40.703968</td>\n",
       "      <td>-80.293050</td>\n",
       "      <td>2015-08-26</td>\n",
       "      <td>test</td>\n",
       "    </tr>\n",
       "    <tr>\n",
       "      <th>3</th>\n",
       "      <td>aalr</td>\n",
       "      <td>midwest</td>\n",
       "      <td>2.0</td>\n",
       "      <td>38.972500</td>\n",
       "      <td>-94.672930</td>\n",
       "      <td>2019-08-26</td>\n",
       "      <td>test</td>\n",
       "    </tr>\n",
       "    <tr>\n",
       "      <th>4</th>\n",
       "      <td>aalw</td>\n",
       "      <td>west</td>\n",
       "      <td>4.0</td>\n",
       "      <td>34.279000</td>\n",
       "      <td>-118.905000</td>\n",
       "      <td>2018-01-08</td>\n",
       "      <td>test</td>\n",
       "    </tr>\n",
       "    <tr>\n",
       "      <th>5</th>\n",
       "      <td>aamp</td>\n",
       "      <td>west</td>\n",
       "      <td>2.0</td>\n",
       "      <td>40.433930</td>\n",
       "      <td>-105.033400</td>\n",
       "      <td>2017-07-28</td>\n",
       "      <td>test</td>\n",
       "    </tr>\n",
       "    <tr>\n",
       "      <th>6</th>\n",
       "      <td>aapj</td>\n",
       "      <td>west</td>\n",
       "      <td>4.0</td>\n",
       "      <td>33.889200</td>\n",
       "      <td>-117.562000</td>\n",
       "      <td>2018-01-09</td>\n",
       "      <td>test</td>\n",
       "    </tr>\n",
       "    <tr>\n",
       "      <th>7</th>\n",
       "      <td>aaqf</td>\n",
       "      <td>northeast</td>\n",
       "      <td>1.0</td>\n",
       "      <td>39.820323</td>\n",
       "      <td>-79.921575</td>\n",
       "      <td>2013-08-17</td>\n",
       "      <td>test</td>\n",
       "    </tr>\n",
       "    <tr>\n",
       "      <th>8</th>\n",
       "      <td>aauy</td>\n",
       "      <td>south</td>\n",
       "      <td>2.0</td>\n",
       "      <td>36.313000</td>\n",
       "      <td>-79.114978</td>\n",
       "      <td>2020-02-26</td>\n",
       "      <td>test</td>\n",
       "    </tr>\n",
       "    <tr>\n",
       "      <th>9</th>\n",
       "      <td>aava</td>\n",
       "      <td>northeast</td>\n",
       "      <td>1.0</td>\n",
       "      <td>40.822010</td>\n",
       "      <td>-77.469960</td>\n",
       "      <td>2018-04-11</td>\n",
       "      <td>test</td>\n",
       "    </tr>\n",
       "    <tr>\n",
       "      <th>10</th>\n",
       "      <td>aavi</td>\n",
       "      <td>south</td>\n",
       "      <td>1.0</td>\n",
       "      <td>34.410000</td>\n",
       "      <td>-78.300000</td>\n",
       "      <td>2020-05-18</td>\n",
       "      <td>test</td>\n",
       "    </tr>\n",
       "    <tr>\n",
       "      <th>11</th>\n",
       "      <td>aavk</td>\n",
       "      <td>northeast</td>\n",
       "      <td>2.0</td>\n",
       "      <td>41.292492</td>\n",
       "      <td>-80.458330</td>\n",
       "      <td>2016-07-20</td>\n",
       "      <td>test</td>\n",
       "    </tr>\n",
       "    <tr>\n",
       "      <th>12</th>\n",
       "      <td>aaxc</td>\n",
       "      <td>west</td>\n",
       "      <td>4.0</td>\n",
       "      <td>34.446000</td>\n",
       "      <td>-119.876000</td>\n",
       "      <td>2020-03-18</td>\n",
       "      <td>test</td>\n",
       "    </tr>\n",
       "    <tr>\n",
       "      <th>13</th>\n",
       "      <td>aays</td>\n",
       "      <td>midwest</td>\n",
       "      <td>3.0</td>\n",
       "      <td>39.121060</td>\n",
       "      <td>-95.411180</td>\n",
       "      <td>2018-08-27</td>\n",
       "      <td>test</td>\n",
       "    </tr>\n",
       "    <tr>\n",
       "      <th>14</th>\n",
       "      <td>abdc</td>\n",
       "      <td>west</td>\n",
       "      <td>4.0</td>\n",
       "      <td>36.981800</td>\n",
       "      <td>-120.221000</td>\n",
       "      <td>2021-07-14</td>\n",
       "      <td>test</td>\n",
       "    </tr>\n",
       "    <tr>\n",
       "      <th>15</th>\n",
       "      <td>abdw</td>\n",
       "      <td>south</td>\n",
       "      <td>2.0</td>\n",
       "      <td>35.480000</td>\n",
       "      <td>-76.820000</td>\n",
       "      <td>2020-02-26</td>\n",
       "      <td>test</td>\n",
       "    </tr>\n",
       "    <tr>\n",
       "      <th>16</th>\n",
       "      <td>abeu</td>\n",
       "      <td>west</td>\n",
       "      <td>4.0</td>\n",
       "      <td>39.753300</td>\n",
       "      <td>-121.971000</td>\n",
       "      <td>2019-05-22</td>\n",
       "      <td>test</td>\n",
       "    </tr>\n",
       "    <tr>\n",
       "      <th>17</th>\n",
       "      <td>abhd</td>\n",
       "      <td>west</td>\n",
       "      <td>4.0</td>\n",
       "      <td>34.672100</td>\n",
       "      <td>-120.492000</td>\n",
       "      <td>2014-02-28</td>\n",
       "      <td>test</td>\n",
       "    </tr>\n",
       "    <tr>\n",
       "      <th>18</th>\n",
       "      <td>abit</td>\n",
       "      <td>midwest</td>\n",
       "      <td>2.0</td>\n",
       "      <td>48.973250</td>\n",
       "      <td>-100.371300</td>\n",
       "      <td>2017-08-01</td>\n",
       "      <td>test</td>\n",
       "    </tr>\n",
       "    <tr>\n",
       "      <th>19</th>\n",
       "      <td>abjq</td>\n",
       "      <td>west</td>\n",
       "      <td>4.0</td>\n",
       "      <td>34.945400</td>\n",
       "      <td>-120.417000</td>\n",
       "      <td>2017-09-26</td>\n",
       "      <td>test</td>\n",
       "    </tr>\n",
       "  </tbody>\n",
       "</table>\n",
       "</div>"
      ],
      "text/plain": [
       "     uid     region  severity   latitude   longitude        date split\n",
       "0   aabn       west       4.0  36.559700 -121.510000  2016-08-31  test\n",
       "1   aair       west       4.0  33.042600 -117.076000  2014-11-01  test\n",
       "2   aajw  northeast       2.0  40.703968  -80.293050  2015-08-26  test\n",
       "3   aalr    midwest       2.0  38.972500  -94.672930  2019-08-26  test\n",
       "4   aalw       west       4.0  34.279000 -118.905000  2018-01-08  test\n",
       "5   aamp       west       2.0  40.433930 -105.033400  2017-07-28  test\n",
       "6   aapj       west       4.0  33.889200 -117.562000  2018-01-09  test\n",
       "7   aaqf  northeast       1.0  39.820323  -79.921575  2013-08-17  test\n",
       "8   aauy      south       2.0  36.313000  -79.114978  2020-02-26  test\n",
       "9   aava  northeast       1.0  40.822010  -77.469960  2018-04-11  test\n",
       "10  aavi      south       1.0  34.410000  -78.300000  2020-05-18  test\n",
       "11  aavk  northeast       2.0  41.292492  -80.458330  2016-07-20  test\n",
       "12  aaxc       west       4.0  34.446000 -119.876000  2020-03-18  test\n",
       "13  aays    midwest       3.0  39.121060  -95.411180  2018-08-27  test\n",
       "14  abdc       west       4.0  36.981800 -120.221000  2021-07-14  test\n",
       "15  abdw      south       2.0  35.480000  -76.820000  2020-02-26  test\n",
       "16  abeu       west       4.0  39.753300 -121.971000  2019-05-22  test\n",
       "17  abhd       west       4.0  34.672100 -120.492000  2014-02-28  test\n",
       "18  abit    midwest       2.0  48.973250 -100.371300  2017-08-01  test\n",
       "19  abjq       west       4.0  34.945400 -120.417000  2017-09-26  test"
      ]
     },
     "execution_count": 62,
     "metadata": {},
     "output_type": "execute_result"
    }
   ],
   "source": [
    "test_sample.head(20)"
   ]
  },
  {
   "cell_type": "code",
   "execution_count": 51,
   "metadata": {},
   "outputs": [
    {
     "data": {
      "text/html": [
       "<div>\n",
       "<style scoped>\n",
       "    .dataframe tbody tr th:only-of-type {\n",
       "        vertical-align: middle;\n",
       "    }\n",
       "\n",
       "    .dataframe tbody tr th {\n",
       "        vertical-align: top;\n",
       "    }\n",
       "\n",
       "    .dataframe thead th {\n",
       "        text-align: right;\n",
       "    }\n",
       "</style>\n",
       "<table border=\"1\" class=\"dataframe\">\n",
       "  <thead>\n",
       "    <tr style=\"text-align: right;\">\n",
       "      <th></th>\n",
       "      <th>uid</th>\n",
       "      <th>region</th>\n",
       "      <th>severity</th>\n",
       "      <th>latitude</th>\n",
       "      <th>longitude</th>\n",
       "      <th>date</th>\n",
       "      <th>split</th>\n",
       "    </tr>\n",
       "  </thead>\n",
       "  <tbody>\n",
       "    <tr>\n",
       "      <th>0</th>\n",
       "      <td>aabn</td>\n",
       "      <td>west</td>\n",
       "      <td>2.0</td>\n",
       "      <td>36.559700</td>\n",
       "      <td>-121.510000</td>\n",
       "      <td>2016-08-31</td>\n",
       "      <td>test</td>\n",
       "    </tr>\n",
       "    <tr>\n",
       "      <th>1</th>\n",
       "      <td>aair</td>\n",
       "      <td>west</td>\n",
       "      <td>2.0</td>\n",
       "      <td>33.042600</td>\n",
       "      <td>-117.076000</td>\n",
       "      <td>2014-11-01</td>\n",
       "      <td>test</td>\n",
       "    </tr>\n",
       "    <tr>\n",
       "      <th>2</th>\n",
       "      <td>aajw</td>\n",
       "      <td>northeast</td>\n",
       "      <td>2.0</td>\n",
       "      <td>40.703968</td>\n",
       "      <td>-80.293050</td>\n",
       "      <td>2015-08-26</td>\n",
       "      <td>test</td>\n",
       "    </tr>\n",
       "    <tr>\n",
       "      <th>3</th>\n",
       "      <td>aalr</td>\n",
       "      <td>midwest</td>\n",
       "      <td>2.0</td>\n",
       "      <td>38.972500</td>\n",
       "      <td>-94.672930</td>\n",
       "      <td>2019-08-26</td>\n",
       "      <td>test</td>\n",
       "    </tr>\n",
       "    <tr>\n",
       "      <th>4</th>\n",
       "      <td>aalw</td>\n",
       "      <td>west</td>\n",
       "      <td>2.0</td>\n",
       "      <td>34.279000</td>\n",
       "      <td>-118.905000</td>\n",
       "      <td>2018-01-08</td>\n",
       "      <td>test</td>\n",
       "    </tr>\n",
       "    <tr>\n",
       "      <th>...</th>\n",
       "      <td>...</td>\n",
       "      <td>...</td>\n",
       "      <td>...</td>\n",
       "      <td>...</td>\n",
       "      <td>...</td>\n",
       "      <td>...</td>\n",
       "      <td>...</td>\n",
       "    </tr>\n",
       "    <tr>\n",
       "      <th>95</th>\n",
       "      <td>akao</td>\n",
       "      <td>west</td>\n",
       "      <td>2.0</td>\n",
       "      <td>35.426500</td>\n",
       "      <td>-118.832000</td>\n",
       "      <td>2019-10-15</td>\n",
       "      <td>test</td>\n",
       "    </tr>\n",
       "    <tr>\n",
       "      <th>96</th>\n",
       "      <td>akbk</td>\n",
       "      <td>midwest</td>\n",
       "      <td>2.0</td>\n",
       "      <td>38.516134</td>\n",
       "      <td>-95.706970</td>\n",
       "      <td>2017-10-02</td>\n",
       "      <td>test</td>\n",
       "    </tr>\n",
       "    <tr>\n",
       "      <th>97</th>\n",
       "      <td>akgs</td>\n",
       "      <td>midwest</td>\n",
       "      <td>1.0</td>\n",
       "      <td>47.606167</td>\n",
       "      <td>-86.818833</td>\n",
       "      <td>2019-08-25</td>\n",
       "      <td>test</td>\n",
       "    </tr>\n",
       "    <tr>\n",
       "      <th>98</th>\n",
       "      <td>akhe</td>\n",
       "      <td>south</td>\n",
       "      <td>2.0</td>\n",
       "      <td>39.309992</td>\n",
       "      <td>-80.034025</td>\n",
       "      <td>2017-07-26</td>\n",
       "      <td>test</td>\n",
       "    </tr>\n",
       "    <tr>\n",
       "      <th>99</th>\n",
       "      <td>akka</td>\n",
       "      <td>south</td>\n",
       "      <td>2.0</td>\n",
       "      <td>36.330000</td>\n",
       "      <td>-79.115917</td>\n",
       "      <td>2020-06-24</td>\n",
       "      <td>test</td>\n",
       "    </tr>\n",
       "  </tbody>\n",
       "</table>\n",
       "<p>100 rows × 7 columns</p>\n",
       "</div>"
      ],
      "text/plain": [
       "     uid     region  severity   latitude   longitude        date split\n",
       "0   aabn       west       2.0  36.559700 -121.510000  2016-08-31  test\n",
       "1   aair       west       2.0  33.042600 -117.076000  2014-11-01  test\n",
       "2   aajw  northeast       2.0  40.703968  -80.293050  2015-08-26  test\n",
       "3   aalr    midwest       2.0  38.972500  -94.672930  2019-08-26  test\n",
       "4   aalw       west       2.0  34.279000 -118.905000  2018-01-08  test\n",
       "..   ...        ...       ...        ...         ...         ...   ...\n",
       "95  akao       west       2.0  35.426500 -118.832000  2019-10-15  test\n",
       "96  akbk    midwest       2.0  38.516134  -95.706970  2017-10-02  test\n",
       "97  akgs    midwest       1.0  47.606167  -86.818833  2019-08-25  test\n",
       "98  akhe      south       2.0  39.309992  -80.034025  2017-07-26  test\n",
       "99  akka      south       2.0  36.330000  -79.115917  2020-06-24  test\n",
       "\n",
       "[100 rows x 7 columns]"
      ]
     },
     "execution_count": 51,
     "metadata": {},
     "output_type": "execute_result"
    }
   ],
   "source": [
    "test_sample"
   ]
  },
  {
   "cell_type": "code",
   "execution_count": 31,
   "metadata": {},
   "outputs": [
    {
     "data": {
      "text/plain": [
       "2.0"
      ]
     },
     "execution_count": 31,
     "metadata": {},
     "output_type": "execute_result"
    }
   ],
   "source": [
    "out"
   ]
  },
  {
   "cell_type": "code",
   "execution_count": 17,
   "metadata": {},
   "outputs": [
    {
     "data": {
      "text/html": [
       "<div>\n",
       "<style scoped>\n",
       "    .dataframe tbody tr th:only-of-type {\n",
       "        vertical-align: middle;\n",
       "    }\n",
       "\n",
       "    .dataframe tbody tr th {\n",
       "        vertical-align: top;\n",
       "    }\n",
       "\n",
       "    .dataframe thead th {\n",
       "        text-align: right;\n",
       "    }\n",
       "</style>\n",
       "<table border=\"1\" class=\"dataframe\">\n",
       "  <thead>\n",
       "    <tr style=\"text-align: right;\">\n",
       "      <th></th>\n",
       "      <th>R</th>\n",
       "      <th>G</th>\n",
       "      <th>B</th>\n",
       "      <th>GMax</th>\n",
       "      <th>GMin</th>\n",
       "      <th>G_R</th>\n",
       "      <th>G_B</th>\n",
       "      <th>R_B</th>\n",
       "      <th>GMax_B</th>\n",
       "      <th>GMin_B</th>\n",
       "      <th>uid</th>\n",
       "    </tr>\n",
       "  </thead>\n",
       "  <tbody>\n",
       "    <tr>\n",
       "      <th>0</th>\n",
       "      <td>25.748876</td>\n",
       "      <td>39.408174</td>\n",
       "      <td>49.739286</td>\n",
       "      <td>49.0</td>\n",
       "      <td>34.0</td>\n",
       "      <td>1.530481</td>\n",
       "      <td>0.792295</td>\n",
       "      <td>0.517677</td>\n",
       "      <td>0.985137</td>\n",
       "      <td>0.683564</td>\n",
       "      <td>dcud</td>\n",
       "    </tr>\n",
       "  </tbody>\n",
       "</table>\n",
       "</div>"
      ],
      "text/plain": [
       "           R          G          B  GMax  GMin       G_R       G_B       R_B  \\\n",
       "0  25.748876  39.408174  49.739286  49.0  34.0  1.530481  0.792295  0.517677   \n",
       "\n",
       "     GMax_B    GMin_B   uid  \n",
       "0  0.985137  0.683564  dcud  "
      ]
     },
     "execution_count": 17,
     "metadata": {},
     "output_type": "execute_result"
    }
   ],
   "source": [
    "ws"
   ]
  },
  {
   "cell_type": "code",
   "execution_count": 104,
   "metadata": {},
   "outputs": [
    {
     "data": {
      "text/html": [
       "<div>\n",
       "<style scoped>\n",
       "    .dataframe tbody tr th:only-of-type {\n",
       "        vertical-align: middle;\n",
       "    }\n",
       "\n",
       "    .dataframe tbody tr th {\n",
       "        vertical-align: top;\n",
       "    }\n",
       "\n",
       "    .dataframe thead th {\n",
       "        text-align: right;\n",
       "    }\n",
       "</style>\n",
       "<table border=\"1\" class=\"dataframe\">\n",
       "  <thead>\n",
       "    <tr style=\"text-align: right;\">\n",
       "      <th></th>\n",
       "      <th>uid</th>\n",
       "      <th>region</th>\n",
       "      <th>severity</th>\n",
       "      <th>latitude</th>\n",
       "      <th>longitude</th>\n",
       "      <th>date</th>\n",
       "      <th>split</th>\n",
       "    </tr>\n",
       "  </thead>\n",
       "  <tbody>\n",
       "    <tr>\n",
       "      <th>5182</th>\n",
       "      <td>uqxg</td>\n",
       "      <td>northeast</td>\n",
       "      <td>1</td>\n",
       "      <td>41.80497</td>\n",
       "      <td>-76.65939</td>\n",
       "      <td>2019-06-18</td>\n",
       "      <td>test</td>\n",
       "    </tr>\n",
       "  </tbody>\n",
       "</table>\n",
       "</div>"
      ],
      "text/plain": [
       "       uid     region severity  latitude longitude        date split\n",
       "5182  uqxg  northeast        1  41.80497 -76.65939  2019-06-18  test"
      ]
     },
     "execution_count": 104,
     "metadata": {},
     "output_type": "execute_result"
    }
   ],
   "source": [
    "pd.DataFrame(row).T"
   ]
  },
  {
   "cell_type": "code",
   "execution_count": 105,
   "metadata": {},
   "outputs": [],
   "source": [
    "row_input = pd.DataFrame(row).T.merge(\n",
    "    nrrr_row.merge(ws, left_on='id', right_on='uid', how='left'), on='uid', how='left')"
   ]
  },
  {
   "cell_type": "code",
   "execution_count": 109,
   "metadata": {},
   "outputs": [],
   "source": [
    "row_input['month'] = int(row.date.split('-')[1])"
   ]
  },
  {
   "cell_type": "code",
   "execution_count": 111,
   "metadata": {},
   "outputs": [],
   "source": [
    "for e in set(test_columns) - set(row_input.columns):\n",
    "    row_input[e] = np.nan"
   ]
  },
  {
   "cell_type": "code",
   "execution_count": 112,
   "metadata": {},
   "outputs": [],
   "source": [
    "row_input = row_input[test_columns]"
   ]
  },
  {
   "cell_type": "code",
   "execution_count": 116,
   "metadata": {},
   "outputs": [],
   "source": [
    "row_input['region'] = row_input['region'].map({\n",
    "    'midwest': 0,\n",
    "    'south': 1,\n",
    "    'northeast': 2,\n",
    "    'west': 3\n",
    "})\n"
   ]
  },
  {
   "cell_type": "code",
   "execution_count": 118,
   "metadata": {},
   "outputs": [],
   "source": [
    "preds = []\n",
    "weights = glob.glob('../outputs/weights/model_*.bin')\n",
    "for w in weights:\n",
    "    loaded_model = lgb.Booster(model_file=w)\n",
    "    preds.append(loaded_model.predict(row_input)[0])"
   ]
  },
  {
   "cell_type": "code",
   "execution_count": 121,
   "metadata": {},
   "outputs": [],
   "source": [
    "out = pseudo_round(np.mean(preds))"
   ]
  },
  {
   "cell_type": "code",
   "execution_count": 122,
   "metadata": {},
   "outputs": [
    {
     "data": {
      "text/plain": [
       "2"
      ]
     },
     "execution_count": 122,
     "metadata": {},
     "output_type": "execute_result"
    }
   ],
   "source": [
    "out"
   ]
  },
  {
   "cell_type": "code",
   "execution_count": 117,
   "metadata": {},
   "outputs": [
    {
     "data": {
      "text/plain": [
       "array([2.20572979])"
      ]
     },
     "execution_count": 117,
     "metadata": {},
     "output_type": "execute_result"
    }
   ],
   "source": [
    "loaded_model.predict(row_input)"
   ]
  },
  {
   "cell_type": "code",
   "execution_count": null,
   "metadata": {},
   "outputs": [],
   "source": []
  },
  {
   "cell_type": "code",
   "execution_count": 89,
   "metadata": {},
   "outputs": [
    {
     "data": {
      "text/html": [
       "<div>\n",
       "<style scoped>\n",
       "    .dataframe tbody tr th:only-of-type {\n",
       "        vertical-align: middle;\n",
       "    }\n",
       "\n",
       "    .dataframe tbody tr th {\n",
       "        vertical-align: top;\n",
       "    }\n",
       "\n",
       "    .dataframe thead th {\n",
       "        text-align: right;\n",
       "    }\n",
       "</style>\n",
       "<table border=\"1\" class=\"dataframe\">\n",
       "  <thead>\n",
       "    <tr style=\"text-align: right;\">\n",
       "      <th></th>\n",
       "      <th>R</th>\n",
       "      <th>G</th>\n",
       "      <th>B</th>\n",
       "      <th>GMax</th>\n",
       "      <th>GMin</th>\n",
       "      <th>G_R</th>\n",
       "      <th>G_B</th>\n",
       "      <th>R_B</th>\n",
       "      <th>GMax_B</th>\n",
       "      <th>GMin_B</th>\n",
       "      <th>uid</th>\n",
       "    </tr>\n",
       "  </thead>\n",
       "  <tbody>\n",
       "    <tr>\n",
       "      <th>0</th>\n",
       "      <td>79.625637</td>\n",
       "      <td>104.737358</td>\n",
       "      <td>83.825951</td>\n",
       "      <td>185.5</td>\n",
       "      <td>61.0</td>\n",
       "      <td>1.315372</td>\n",
       "      <td>1.249462</td>\n",
       "      <td>0.949892</td>\n",
       "      <td>2.212919</td>\n",
       "      <td>0.727698</td>\n",
       "      <td>uqxg</td>\n",
       "    </tr>\n",
       "  </tbody>\n",
       "</table>\n",
       "</div>"
      ],
      "text/plain": [
       "           R           G          B   GMax  GMin       G_R       G_B  \\\n",
       "0  79.625637  104.737358  83.825951  185.5  61.0  1.315372  1.249462   \n",
       "\n",
       "        R_B    GMax_B    GMin_B   uid  \n",
       "0  0.949892  2.212919  0.727698  uqxg  "
      ]
     },
     "execution_count": 89,
     "metadata": {},
     "output_type": "execute_result"
    }
   ],
   "source": [
    "ws"
   ]
  },
  {
   "cell_type": "code",
   "execution_count": 87,
   "metadata": {},
   "outputs": [
    {
     "data": {
      "text/plain": [
       "{'R': 79.62563700509604,\n",
       " 'G': 104.7373578988632,\n",
       " 'B': 83.82595060760487,\n",
       " 'GMax': 185.5,\n",
       " 'GMin': 61.0,\n",
       " 'G_R': 1.3153723076923078,\n",
       " 'G_B': 1.2494622147399925,\n",
       " 'R_B': 0.9498924429479985,\n",
       " 'GMax_B': 2.2129185372240925,\n",
       " 'GMin_B': 0.7276982790871679,\n",
       " 'uid': 'uqxg'}"
      ]
     },
     "execution_count": 87,
     "metadata": {},
     "output_type": "execute_result"
    }
   ],
   "source": [
    "interested"
   ]
  },
  {
   "cell_type": "code",
   "execution_count": 79,
   "metadata": {},
   "outputs": [
    {
     "data": {
      "text/plain": [
       "['../downloaded_data/Sentinel/W_uqxg_2019-06-15_S2A_MSIL2A_20190615T154911_R054_T18TUM_20201006T022848.png']"
      ]
     },
     "execution_count": 79,
     "metadata": {},
     "output_type": "execute_result"
    }
   ],
   "source": [
    "water_file"
   ]
  },
  {
   "cell_type": "code",
   "execution_count": null,
   "metadata": {},
   "outputs": [],
   "source": [
    "        wm = imread(row.files)\n",
    "        img = imread(row.path)\n",
    "        water_scaled = np.stack([cv2.resize(wm, (img.shape[1], img.shape[0]))] * 3, -1) == 6\n",
    "        if water_scaled.sum() == 0:\n",
    "            r.append(np.nan)\n",
    "            g.append(np.nan)\n",
    "            b.append(np.nan)\n",
    "            gmax.append(np.nan)\n",
    "            gmin.append(np.nan)\n",
    "        else:\n",
    "            r.append(img[:, :, 0][water_scaled[:, :, 0]].mean())\n",
    "            g.append(img[:, :, 1][water_scaled[:, :, 1]].mean())\n",
    "            b.append(img[:, :, 2][water_scaled[:, :, 2]].mean())\n",
    "            gmax.append(np.percentile(img[:, :, 1][water_scaled[:, :, 1]], 95))\n",
    "            gmin.append(np.percentile(img[:, :, 1][water_scaled[:, :, 1]], 5))\n"
   ]
  },
  {
   "cell_type": "code",
   "execution_count": 42,
   "metadata": {},
   "outputs": [
    {
     "data": {
      "text/html": [
       "<div>\n",
       "<style scoped>\n",
       "    .dataframe tbody tr th:only-of-type {\n",
       "        vertical-align: middle;\n",
       "    }\n",
       "\n",
       "    .dataframe tbody tr th {\n",
       "        vertical-align: top;\n",
       "    }\n",
       "\n",
       "    .dataframe thead th {\n",
       "        text-align: right;\n",
       "    }\n",
       "</style>\n",
       "<table border=\"1\" class=\"dataframe\">\n",
       "  <thead>\n",
       "    <tr style=\"text-align: right;\">\n",
       "      <th></th>\n",
       "      <th>id</th>\n",
       "      <th>Visibility</th>\n",
       "      <th>Wind speed (gust)</th>\n",
       "      <th>Lightning</th>\n",
       "      <th>Surface pressure</th>\n",
       "      <th>Orography</th>\n",
       "      <th>Temperature</th>\n",
       "      <th>Water equivalent of accumulated snow depth (deprecated)</th>\n",
       "      <th>Snow cover</th>\n",
       "      <th>Snow depth</th>\n",
       "      <th>...</th>\n",
       "      <th>Categorical ice pellets</th>\n",
       "      <th>Categorical freezing rain</th>\n",
       "      <th>Categorical rain</th>\n",
       "      <th>Vegetation Type</th>\n",
       "      <th>Convective available potential energy</th>\n",
       "      <th>Convective inhibition</th>\n",
       "      <th>Downward short-wave radiation flux</th>\n",
       "      <th>Planetary boundary layer height</th>\n",
       "      <th>Land-sea mask</th>\n",
       "      <th>Sea ice area fraction</th>\n",
       "    </tr>\n",
       "  </thead>\n",
       "  <tbody>\n",
       "    <tr>\n",
       "      <th>7</th>\n",
       "      <td>yhws</td>\n",
       "      <td>9800.0</td>\n",
       "      <td>3.524016</td>\n",
       "      <td>0.0</td>\n",
       "      <td>97760.0</td>\n",
       "      <td>276.151489</td>\n",
       "      <td>291.998169</td>\n",
       "      <td>0.0</td>\n",
       "      <td>0.0</td>\n",
       "      <td>0.0</td>\n",
       "      <td>...</td>\n",
       "      <td>0.0</td>\n",
       "      <td>0.0</td>\n",
       "      <td>0.0</td>\n",
       "      <td>12.0</td>\n",
       "      <td>230.0</td>\n",
       "      <td>0.0</td>\n",
       "      <td>0.0</td>\n",
       "      <td>0.0</td>\n",
       "      <td>1.0</td>\n",
       "      <td>0.0</td>\n",
       "    </tr>\n",
       "  </tbody>\n",
       "</table>\n",
       "<p>1 rows × 23 columns</p>\n",
       "</div>"
      ],
      "text/plain": [
       "     id  Visibility  Wind speed (gust)  Lightning  Surface pressure  \\\n",
       "7  yhws      9800.0           3.524016        0.0           97760.0   \n",
       "\n",
       "    Orography  Temperature  \\\n",
       "7  276.151489   291.998169   \n",
       "\n",
       "   Water equivalent of accumulated snow depth (deprecated)  Snow cover  \\\n",
       "7                                                0.0               0.0   \n",
       "\n",
       "   Snow depth  ...  Categorical ice pellets  Categorical freezing rain  \\\n",
       "7         0.0  ...                      0.0                        0.0   \n",
       "\n",
       "   Categorical rain  Vegetation Type  Convective available potential energy  \\\n",
       "7               0.0             12.0                                  230.0   \n",
       "\n",
       "   Convective inhibition  Downward short-wave radiation flux  \\\n",
       "7                    0.0                                 0.0   \n",
       "\n",
       "   Planetary boundary layer height  Land-sea mask  Sea ice area fraction  \n",
       "7                              0.0            1.0                    0.0  \n",
       "\n",
       "[1 rows x 23 columns]"
      ]
     },
     "execution_count": 42,
     "metadata": {},
     "output_type": "execute_result"
    }
   ],
   "source": [
    "nrrr_row"
   ]
  },
  {
   "cell_type": "code",
   "execution_count": null,
   "metadata": {},
   "outputs": [],
   "source": []
  }
 ],
 "metadata": {
  "kernelspec": {
   "display_name": "Python [conda env:tickrep]",
   "language": "python",
   "name": "conda-env-tickrep-py"
  },
  "language_info": {
   "codemirror_mode": {
    "name": "ipython",
    "version": 3
   },
   "file_extension": ".py",
   "mimetype": "text/x-python",
   "name": "python",
   "nbconvert_exporter": "python",
   "pygments_lexer": "ipython3",
   "version": "3.8.0"
  }
 },
 "nbformat": 4,
 "nbformat_minor": 4
}
