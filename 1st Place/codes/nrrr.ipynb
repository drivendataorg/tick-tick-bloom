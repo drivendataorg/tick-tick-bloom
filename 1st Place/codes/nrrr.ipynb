{
 "cells": [
  {
   "cell_type": "code",
   "execution_count": 1,
   "metadata": {},
   "outputs": [],
   "source": [
    "import io\n",
    "from datetime import date, timedelta, datetime\n",
    "import numpy as np\n",
    "import xarray as xr\n",
    "import requests\n",
    "import cartopy.crs as ccrs\n",
    "import cartopy.feature as cfeature\n",
    "import matplotlib.pyplot as plt\n",
    "import cmocean\n",
    "import pandas as pd\n",
    "# Not used directly, but used via xarray\n",
    "import cfgrib\n",
    "import tempfile\n",
    "import tqdm\n",
    "import wget\n",
    "import os\n",
    "\n",
    "from multiprocessing.pool import Pool"
   ]
  },
  {
   "cell_type": "code",
   "execution_count": 2,
   "metadata": {},
   "outputs": [
    {
     "name": "stdout",
     "output_type": "stream",
     "text": [
      "mkdir: cannot create directory ‘nrrr’: File exists\n",
      "mkdir: cannot create directory ‘file’: File exists\n"
     ]
    }
   ],
   "source": [
    "!mkdir nrrr file"
   ]
  },
  {
   "cell_type": "code",
   "execution_count": 3,
   "metadata": {},
   "outputs": [],
   "source": [
    "meta = pd.read_csv('./metadata.csv')"
   ]
  },
  {
   "cell_type": "code",
   "execution_count": 4,
   "metadata": {},
   "outputs": [],
   "source": [
    "def download_info(x):\n",
    "    unique_date, sub, cycle = x\n",
    "    sub = pd.read_json(sub)\n",
    "    \n",
    "    blob_container = 'https://noaa-hrrr-bdp-pds.s3.amazonaws.com'\n",
    "    sector = \"conus\"\n",
    "    yesterday = datetime.strptime(unique_date, \"%Y-%m-%d\")\n",
    "    # cycle = 0          # noon\n",
    "    forecast_hour = 1   # offset from cycle time\n",
    "    product = \"wrfsfcf\" # 2D surface levels\n",
    "\n",
    "    # Put it all together\n",
    "    file_path = f\"hrrr.t{cycle:02}z.{product}{forecast_hour:02}.grib2\"\n",
    "    url = f\"{blob_container}/hrrr.{yesterday:%Y%m%d}/{sector}/{file_path}\"\n",
    "\n",
    "    print(url)\n",
    "    filename = 'file/' + unique_date + url.split('/')[-1]\n",
    "    \n",
    "    wget.download(url, out=filename)\n",
    "        \n",
    "    ds = xr.open_dataset(filename, engine='cfgrib', \n",
    "                     backend_kwargs={'indexpath':''},\n",
    "                     filter_by_keys={'stepType': 'instant', 'typeOfLevel': 'surface'})\n",
    "    \n",
    "    sub_infos = []\n",
    "    for i, row in sub.iterrows():\n",
    "        lat = row.latitude\n",
    "        lon = row.longitude + 360\n",
    "\n",
    "        abslat = np.abs(ds.latitude-lat)\n",
    "        abslon = np.abs(ds.longitude-lon)\n",
    "        c = np.maximum(abslon, abslat)\n",
    "\n",
    "        ([xloc], [yloc]) = np.where(c == np.min(c))\n",
    "\n",
    "        meta_info = {'id': row['uid']}\n",
    "        for varname, da in ds.sel(y=xloc, x=yloc).data_vars.items():\n",
    "            meta_info[da.attrs['long_name']] = da.values.item()\n",
    "        sub_infos.append(meta_info)\n",
    "\n",
    "    sub_info = pd.DataFrame(sub_infos)\n",
    "    sub_info.to_csv('./nrrr/' + unique_date + '.csv')\n",
    "#     return all_info\n",
    "#     os.remove(filename)"
   ]
  },
  {
   "cell_type": "code",
   "execution_count": 5,
   "metadata": {},
   "outputs": [
    {
     "data": {
      "text/plain": [
       "6"
      ]
     },
     "execution_count": 5,
     "metadata": {},
     "output_type": "execute_result"
    }
   ],
   "source": [
    "exist = [x.split('.')[0] for x in os.listdir('./nrrr/')]\n",
    "len(exist)"
   ]
  },
  {
   "cell_type": "code",
   "execution_count": 6,
   "metadata": {
    "tags": []
   },
   "outputs": [
    {
     "name": "stdout",
     "output_type": "stream",
     "text": [
      "(1631,)\n"
     ]
    },
    {
     "name": "stderr",
     "output_type": "stream",
     "text": [
      "  0%|          | 0/1631 [00:00<?, ?it/s]"
     ]
    },
    {
     "name": "stdout",
     "output_type": "stream",
     "text": [
      "https://noaa-hrrr-bdp-pds.s3.amazonaws.com/hrrr.20171115/conus/hrrr.t01z.wrfsfcf01.grib2\n"
     ]
    },
    {
     "name": "stderr",
     "output_type": "stream",
     "text": [
      "  0%|          | 1/1631 [01:51<50:26:53, 111.42s/it]"
     ]
    },
    {
     "name": "stdout",
     "output_type": "stream",
     "text": [
      "https://noaa-hrrr-bdp-pds.s3.amazonaws.com/hrrr.20200610/conus/hrrr.t01z.wrfsfcf01.grib2\n"
     ]
    },
    {
     "name": "stderr",
     "output_type": "stream",
     "text": [
      "  0%|          | 2/1631 [04:46<67:17:09, 148.70s/it]"
     ]
    },
    {
     "name": "stdout",
     "output_type": "stream",
     "text": [
      "https://noaa-hrrr-bdp-pds.s3.amazonaws.com/hrrr.20140812/conus/hrrr.t01z.wrfsfcf01.grib2\n"
     ]
    },
    {
     "name": "stderr",
     "output_type": "stream",
     "text": [
      "  0%|          | 3/1631 [04:47<36:44:01, 81.23s/it] "
     ]
    },
    {
     "name": "stdout",
     "output_type": "stream",
     "text": [
      "https://noaa-hrrr-bdp-pds.s3.amazonaws.com/hrrr.20180627/conus/hrrr.t01z.wrfsfcf01.grib2\n"
     ]
    },
    {
     "name": "stderr",
     "output_type": "stream",
     "text": [
      "  0%|          | 4/1631 [05:46<32:45:36, 72.49s/it]"
     ]
    },
    {
     "name": "stdout",
     "output_type": "stream",
     "text": [
      "https://noaa-hrrr-bdp-pds.s3.amazonaws.com/hrrr.20131106/conus/hrrr.t01z.wrfsfcf01.grib2\n"
     ]
    },
    {
     "name": "stderr",
     "output_type": "stream",
     "text": [
      "  0%|          | 5/1631 [05:47<21:05:16, 46.69s/it]"
     ]
    },
    {
     "name": "stdout",
     "output_type": "stream",
     "text": [
      "https://noaa-hrrr-bdp-pds.s3.amazonaws.com/hrrr.20150824/conus/hrrr.t01z.wrfsfcf01.grib2\n"
     ]
    },
    {
     "name": "stderr",
     "output_type": "stream",
     "text": [
      "  0%|          | 6/1631 [07:59<34:16:54, 75.95s/it]"
     ]
    },
    {
     "name": "stdout",
     "output_type": "stream",
     "text": [
      "https://noaa-hrrr-bdp-pds.s3.amazonaws.com/hrrr.20141101/conus/hrrr.t01z.wrfsfcf01.grib2\n"
     ]
    },
    {
     "name": "stderr",
     "output_type": "stream",
     "text": [
      "  0%|          | 7/1631 [08:30<27:36:51, 61.21s/it]"
     ]
    },
    {
     "name": "stdout",
     "output_type": "stream",
     "text": [
      "https://noaa-hrrr-bdp-pds.s3.amazonaws.com/hrrr.20211018/conus/hrrr.t01z.wrfsfcf01.grib2\n"
     ]
    },
    {
     "name": "stderr",
     "output_type": "stream",
     "text": [
      "  0%|          | 8/1631 [09:12<24:48:00, 55.01s/it]"
     ]
    },
    {
     "name": "stdout",
     "output_type": "stream",
     "text": [
      "https://noaa-hrrr-bdp-pds.s3.amazonaws.com/hrrr.20150826/conus/hrrr.t01z.wrfsfcf01.grib2\n"
     ]
    },
    {
     "name": "stderr",
     "output_type": "stream",
     "text": [
      "  1%|          | 9/1631 [09:56<23:10:40, 51.44s/it]"
     ]
    },
    {
     "name": "stdout",
     "output_type": "stream",
     "text": [
      "https://noaa-hrrr-bdp-pds.s3.amazonaws.com/hrrr.20190826/conus/hrrr.t01z.wrfsfcf01.grib2\n"
     ]
    },
    {
     "name": "stderr",
     "output_type": "stream",
     "text": [
      "  1%|          | 10/1631 [10:47<23:07:53, 51.37s/it]"
     ]
    },
    {
     "name": "stdout",
     "output_type": "stream",
     "text": [
      "https://noaa-hrrr-bdp-pds.s3.amazonaws.com/hrrr.20180108/conus/hrrr.t01z.wrfsfcf01.grib2\n"
     ]
    },
    {
     "name": "stderr",
     "output_type": "stream",
     "text": [
      "  1%|          | 11/1631 [11:19<20:29:09, 45.52s/it]"
     ]
    },
    {
     "name": "stdout",
     "output_type": "stream",
     "text": [
      "https://noaa-hrrr-bdp-pds.s3.amazonaws.com/hrrr.20150818/conus/hrrr.t01z.wrfsfcf01.grib2\n"
     ]
    },
    {
     "name": "stderr",
     "output_type": "stream",
     "text": [
      "  1%|          | 12/1631 [11:56<19:20:00, 42.99s/it]"
     ]
    },
    {
     "name": "stdout",
     "output_type": "stream",
     "text": [
      "https://noaa-hrrr-bdp-pds.s3.amazonaws.com/hrrr.20170728/conus/hrrr.t01z.wrfsfcf01.grib2\n"
     ]
    },
    {
     "name": "stderr",
     "output_type": "stream",
     "text": [
      "  1%|          | 13/1631 [12:29<17:54:39, 39.85s/it]"
     ]
    },
    {
     "name": "stdout",
     "output_type": "stream",
     "text": [
      "https://noaa-hrrr-bdp-pds.s3.amazonaws.com/hrrr.20150707/conus/hrrr.t01z.wrfsfcf01.grib2\n"
     ]
    },
    {
     "name": "stderr",
     "output_type": "stream",
     "text": [
      "  1%|          | 14/1631 [14:48<31:21:11, 69.80s/it]"
     ]
    },
    {
     "name": "stdout",
     "output_type": "stream",
     "text": [
      "https://noaa-hrrr-bdp-pds.s3.amazonaws.com/hrrr.20180613/conus/hrrr.t01z.wrfsfcf01.grib2\n"
     ]
    },
    {
     "name": "stderr",
     "output_type": "stream",
     "text": [
      "  1%|          | 15/1631 [16:49<38:14:40, 85.20s/it]"
     ]
    },
    {
     "name": "stdout",
     "output_type": "stream",
     "text": [
      "https://noaa-hrrr-bdp-pds.s3.amazonaws.com/hrrr.20180109/conus/hrrr.t01z.wrfsfcf01.grib2\n"
     ]
    },
    {
     "name": "stderr",
     "output_type": "stream",
     "text": [
      "  1%|          | 16/1631 [17:56<35:45:58, 79.73s/it]"
     ]
    },
    {
     "name": "stdout",
     "output_type": "stream",
     "text": [
      "https://noaa-hrrr-bdp-pds.s3.amazonaws.com/hrrr.20130709/conus/hrrr.t01z.wrfsfcf01.grib2\n"
     ]
    },
    {
     "name": "stderr",
     "output_type": "stream",
     "text": [
      "  1%|          | 17/1631 [17:57<25:07:23, 56.04s/it]"
     ]
    },
    {
     "name": "stdout",
     "output_type": "stream",
     "text": [
      "https://noaa-hrrr-bdp-pds.s3.amazonaws.com/hrrr.20200813/conus/hrrr.t01z.wrfsfcf01.grib2\n"
     ]
    },
    {
     "name": "stderr",
     "output_type": "stream",
     "text": [
      "  1%|          | 18/1631 [20:00<34:13:05, 76.37s/it]"
     ]
    },
    {
     "name": "stdout",
     "output_type": "stream",
     "text": [
      "https://noaa-hrrr-bdp-pds.s3.amazonaws.com/hrrr.20130817/conus/hrrr.t01z.wrfsfcf01.grib2\n"
     ]
    },
    {
     "name": "stderr",
     "output_type": "stream",
     "text": [
      "  1%|          | 19/1631 [20:01<24:03:14, 53.72s/it]"
     ]
    },
    {
     "name": "stdout",
     "output_type": "stream",
     "text": [
      "https://noaa-hrrr-bdp-pds.s3.amazonaws.com/hrrr.20180813/conus/hrrr.t01z.wrfsfcf01.grib2\n"
     ]
    },
    {
     "name": "stderr",
     "output_type": "stream",
     "text": [
      "  1%|          | 20/1631 [21:04<25:14:42, 56.41s/it]"
     ]
    },
    {
     "name": "stdout",
     "output_type": "stream",
     "text": [
      "https://noaa-hrrr-bdp-pds.s3.amazonaws.com/hrrr.20170309/conus/hrrr.t01z.wrfsfcf01.grib2\n"
     ]
    },
    {
     "name": "stderr",
     "output_type": "stream",
     "text": [
      "  1%|▏         | 21/1631 [21:28<20:53:37, 46.72s/it]"
     ]
    },
    {
     "name": "stdout",
     "output_type": "stream",
     "text": [
      "https://noaa-hrrr-bdp-pds.s3.amazonaws.com/hrrr.20130729/conus/hrrr.t01z.wrfsfcf01.grib2\n"
     ]
    },
    {
     "name": "stderr",
     "output_type": "stream",
     "text": [
      "  1%|▏         | 22/1631 [21:29<14:44:15, 32.97s/it]"
     ]
    },
    {
     "name": "stdout",
     "output_type": "stream",
     "text": [
      "https://noaa-hrrr-bdp-pds.s3.amazonaws.com/hrrr.20171205/conus/hrrr.t01z.wrfsfcf01.grib2\n"
     ]
    },
    {
     "name": "stderr",
     "output_type": "stream",
     "text": [
      "  1%|▏         | 23/1631 [22:03<14:53:28, 33.34s/it]"
     ]
    },
    {
     "name": "stdout",
     "output_type": "stream",
     "text": [
      "https://noaa-hrrr-bdp-pds.s3.amazonaws.com/hrrr.20190606/conus/hrrr.t01z.wrfsfcf01.grib2\n"
     ]
    },
    {
     "name": "stderr",
     "output_type": "stream",
     "text": [
      "  1%|▏         | 24/1631 [22:46<16:06:16, 36.08s/it]"
     ]
    },
    {
     "name": "stdout",
     "output_type": "stream",
     "text": [
      "https://noaa-hrrr-bdp-pds.s3.amazonaws.com/hrrr.20200226/conus/hrrr.t01z.wrfsfcf01.grib2\n"
     ]
    },
    {
     "name": "stderr",
     "output_type": "stream",
     "text": [
      "  2%|▏         | 25/1631 [23:57<20:45:03, 46.52s/it]"
     ]
    },
    {
     "name": "stdout",
     "output_type": "stream",
     "text": [
      "https://noaa-hrrr-bdp-pds.s3.amazonaws.com/hrrr.20180411/conus/hrrr.t01z.wrfsfcf01.grib2\n"
     ]
    },
    {
     "name": "stderr",
     "output_type": "stream",
     "text": [
      "  2%|▏         | 26/1631 [26:19<33:33:24, 75.27s/it]"
     ]
    },
    {
     "name": "stdout",
     "output_type": "stream",
     "text": [
      "https://noaa-hrrr-bdp-pds.s3.amazonaws.com/hrrr.20200518/conus/hrrr.t01z.wrfsfcf01.grib2\n"
     ]
    },
    {
     "name": "stderr",
     "output_type": "stream",
     "text": [
      "  2%|▏         | 27/1631 [28:07<37:53:03, 85.03s/it]"
     ]
    },
    {
     "name": "stdout",
     "output_type": "stream",
     "text": [
      "https://noaa-hrrr-bdp-pds.s3.amazonaws.com/hrrr.20160720/conus/hrrr.t01z.wrfsfcf01.grib2\n"
     ]
    },
    {
     "name": "stderr",
     "output_type": "stream",
     "text": [
      "  2%|▏         | 28/1631 [28:50<32:19:10, 72.58s/it]"
     ]
    },
    {
     "name": "stdout",
     "output_type": "stream",
     "text": [
      "https://noaa-hrrr-bdp-pds.s3.amazonaws.com/hrrr.20180827/conus/hrrr.t01z.wrfsfcf01.grib2\n"
     ]
    },
    {
     "name": "stderr",
     "output_type": "stream",
     "text": [
      "  2%|▏         | 29/1631 [30:46<38:00:25, 85.41s/it]"
     ]
    },
    {
     "name": "stdout",
     "output_type": "stream",
     "text": [
      "https://noaa-hrrr-bdp-pds.s3.amazonaws.com/hrrr.20200318/conus/hrrr.t01z.wrfsfcf01.grib2\n"
     ]
    },
    {
     "name": "stderr",
     "output_type": "stream",
     "text": [
      "  2%|▏         | 30/1631 [32:21<39:17:48, 88.36s/it]"
     ]
    },
    {
     "name": "stdout",
     "output_type": "stream",
     "text": [
      "https://noaa-hrrr-bdp-pds.s3.amazonaws.com/hrrr.20190117/conus/hrrr.t01z.wrfsfcf01.grib2\n"
     ]
    },
    {
     "name": "stderr",
     "output_type": "stream",
     "text": [
      "  2%|▏         | 31/1631 [34:06<41:27:14, 93.27s/it]"
     ]
    },
    {
     "name": "stdout",
     "output_type": "stream",
     "text": [
      "https://noaa-hrrr-bdp-pds.s3.amazonaws.com/hrrr.20160621/conus/hrrr.t01z.wrfsfcf01.grib2\n"
     ]
    },
    {
     "name": "stderr",
     "output_type": "stream",
     "text": [
      "  2%|▏         | 32/1631 [36:07<45:12:08, 101.77s/it]"
     ]
    },
    {
     "name": "stdout",
     "output_type": "stream",
     "text": [
      "https://noaa-hrrr-bdp-pds.s3.amazonaws.com/hrrr.20150113/conus/hrrr.t01z.wrfsfcf01.grib2\n"
     ]
    },
    {
     "name": "stderr",
     "output_type": "stream",
     "text": [
      "  2%|▏         | 33/1631 [36:08<31:44:41, 71.52s/it] "
     ]
    },
    {
     "name": "stdout",
     "output_type": "stream",
     "text": [
      "https://noaa-hrrr-bdp-pds.s3.amazonaws.com/hrrr.20160608/conus/hrrr.t01z.wrfsfcf01.grib2\n"
     ]
    },
    {
     "name": "stderr",
     "output_type": "stream",
     "text": [
      "  2%|▏         | 34/1631 [37:49<35:35:01, 80.21s/it]"
     ]
    },
    {
     "name": "stdout",
     "output_type": "stream",
     "text": [
      "https://noaa-hrrr-bdp-pds.s3.amazonaws.com/hrrr.20160308/conus/hrrr.t01z.wrfsfcf01.grib2\n"
     ]
    },
    {
     "name": "stderr",
     "output_type": "stream",
     "text": [
      "  2%|▏         | 35/1631 [38:47<32:41:56, 73.76s/it]"
     ]
    },
    {
     "name": "stdout",
     "output_type": "stream",
     "text": [
      "https://noaa-hrrr-bdp-pds.s3.amazonaws.com/hrrr.20130115/conus/hrrr.t01z.wrfsfcf01.grib2\n"
     ]
    },
    {
     "name": "stderr",
     "output_type": "stream",
     "text": [
      "  2%|▏         | 36/1631 [38:48<22:59:57, 51.91s/it]"
     ]
    },
    {
     "name": "stdout",
     "output_type": "stream",
     "text": [
      "https://noaa-hrrr-bdp-pds.s3.amazonaws.com/hrrr.20210714/conus/hrrr.t01z.wrfsfcf01.grib2\n"
     ]
    },
    {
     "name": "stderr",
     "output_type": "stream",
     "text": [
      "  2%|▏         | 37/1631 [40:29<29:29:32, 66.61s/it]"
     ]
    },
    {
     "name": "stdout",
     "output_type": "stream",
     "text": [
      "https://noaa-hrrr-bdp-pds.s3.amazonaws.com/hrrr.20170619/conus/hrrr.t01z.wrfsfcf01.grib2\n"
     ]
    },
    {
     "name": "stderr",
     "output_type": "stream",
     "text": [
      "  2%|▏         | 38/1631 [41:45<30:42:23, 69.39s/it]"
     ]
    },
    {
     "name": "stdout",
     "output_type": "stream",
     "text": [
      "https://noaa-hrrr-bdp-pds.s3.amazonaws.com/hrrr.20160413/conus/hrrr.t01z.wrfsfcf01.grib2\n"
     ]
    },
    {
     "name": "stderr",
     "output_type": "stream",
     "text": [
      "  2%|▏         | 39/1631 [41:46<21:36:24, 48.86s/it]"
     ]
    },
    {
     "name": "stdout",
     "output_type": "stream",
     "text": [
      "https://noaa-hrrr-bdp-pds.s3.amazonaws.com/hrrr.20190702/conus/hrrr.t01z.wrfsfcf01.grib2\n"
     ]
    },
    {
     "name": "stderr",
     "output_type": "stream",
     "text": [
      "  2%|▏         | 40/1631 [44:27<36:28:16, 82.52s/it]"
     ]
    },
    {
     "name": "stdout",
     "output_type": "stream",
     "text": [
      "https://noaa-hrrr-bdp-pds.s3.amazonaws.com/hrrr.20190522/conus/hrrr.t01z.wrfsfcf01.grib2\n"
     ]
    },
    {
     "name": "stderr",
     "output_type": "stream",
     "text": [
      "  3%|▎         | 41/1631 [45:21<32:40:57, 74.00s/it]"
     ]
    },
    {
     "name": "stdout",
     "output_type": "stream",
     "text": [
      "https://noaa-hrrr-bdp-pds.s3.amazonaws.com/hrrr.20140228/conus/hrrr.t01z.wrfsfcf01.grib2\n"
     ]
    },
    {
     "name": "stderr",
     "output_type": "stream",
     "text": [
      "  3%|▎         | 42/1631 [45:22<22:59:23, 52.09s/it]"
     ]
    },
    {
     "name": "stdout",
     "output_type": "stream",
     "text": [
      "https://noaa-hrrr-bdp-pds.s3.amazonaws.com/hrrr.20140715/conus/hrrr.t01z.wrfsfcf01.grib2\n"
     ]
    },
    {
     "name": "stderr",
     "output_type": "stream",
     "text": [
      "  3%|▎         | 43/1631 [45:23<16:12:34, 36.75s/it]"
     ]
    },
    {
     "name": "stdout",
     "output_type": "stream",
     "text": [
      "https://noaa-hrrr-bdp-pds.s3.amazonaws.com/hrrr.20170801/conus/hrrr.t01z.wrfsfcf01.grib2\n"
     ]
    },
    {
     "name": "stderr",
     "output_type": "stream",
     "text": [
      "  3%|▎         | 44/1631 [46:43<21:55:42, 49.74s/it]"
     ]
    },
    {
     "name": "stdout",
     "output_type": "stream",
     "text": [
      "https://noaa-hrrr-bdp-pds.s3.amazonaws.com/hrrr.20190924/conus/hrrr.t01z.wrfsfcf01.grib2\n"
     ]
    },
    {
     "name": "stderr",
     "output_type": "stream",
     "text": [
      "  3%|▎         | 45/1631 [47:30<21:29:07, 48.77s/it]"
     ]
    },
    {
     "name": "stdout",
     "output_type": "stream",
     "text": [
      "https://noaa-hrrr-bdp-pds.s3.amazonaws.com/hrrr.20170926/conus/hrrr.t01z.wrfsfcf01.grib2\n"
     ]
    },
    {
     "name": "stderr",
     "output_type": "stream",
     "text": [
      "  3%|▎         | 46/1631 [48:19<21:33:39, 48.97s/it]"
     ]
    },
    {
     "name": "stdout",
     "output_type": "stream",
     "text": [
      "https://noaa-hrrr-bdp-pds.s3.amazonaws.com/hrrr.20160119/conus/hrrr.t01z.wrfsfcf01.grib2\n"
     ]
    },
    {
     "name": "stderr",
     "output_type": "stream",
     "text": [
      "  3%|▎         | 47/1631 [48:50<19:11:19, 43.61s/it]"
     ]
    },
    {
     "name": "stdout",
     "output_type": "stream",
     "text": [
      "https://noaa-hrrr-bdp-pds.s3.amazonaws.com/hrrr.20130820/conus/hrrr.t01z.wrfsfcf01.grib2\n"
     ]
    },
    {
     "name": "stderr",
     "output_type": "stream",
     "text": [
      "  3%|▎         | 48/1631 [48:51<13:32:53, 30.81s/it]"
     ]
    },
    {
     "name": "stdout",
     "output_type": "stream",
     "text": [
      "https://noaa-hrrr-bdp-pds.s3.amazonaws.com/hrrr.20170802/conus/hrrr.t01z.wrfsfcf01.grib2\n"
     ]
    },
    {
     "name": "stderr",
     "output_type": "stream",
     "text": [
      "  3%|▎         | 49/1631 [50:18<20:51:56, 47.48s/it]"
     ]
    },
    {
     "name": "stdout",
     "output_type": "stream",
     "text": [
      "https://noaa-hrrr-bdp-pds.s3.amazonaws.com/hrrr.20160622/conus/hrrr.t01z.wrfsfcf01.grib2\n"
     ]
    },
    {
     "name": "stderr",
     "output_type": "stream",
     "text": [
      "  3%|▎         | 50/1631 [52:07<28:58:31, 65.98s/it]"
     ]
    },
    {
     "name": "stdout",
     "output_type": "stream",
     "text": [
      "https://noaa-hrrr-bdp-pds.s3.amazonaws.com/hrrr.20150610/conus/hrrr.t01z.wrfsfcf01.grib2\n"
     ]
    },
    {
     "name": "stderr",
     "output_type": "stream",
     "text": [
      "  3%|▎         | 51/1631 [54:17<37:26:44, 85.32s/it]"
     ]
    },
    {
     "name": "stdout",
     "output_type": "stream",
     "text": [
      "https://noaa-hrrr-bdp-pds.s3.amazonaws.com/hrrr.20180403/conus/hrrr.t01z.wrfsfcf01.grib2\n"
     ]
    },
    {
     "name": "stderr",
     "output_type": "stream",
     "text": [
      "  3%|▎         | 52/1631 [55:01<31:55:38, 72.79s/it]"
     ]
    },
    {
     "name": "stdout",
     "output_type": "stream",
     "text": [
      "https://noaa-hrrr-bdp-pds.s3.amazonaws.com/hrrr.20160406/conus/hrrr.t01z.wrfsfcf01.grib2\n"
     ]
    },
    {
     "name": "stderr",
     "output_type": "stream",
     "text": [
      "  3%|▎         | 53/1631 [56:42<35:39:32, 81.35s/it]"
     ]
    },
    {
     "name": "stdout",
     "output_type": "stream",
     "text": [
      "https://noaa-hrrr-bdp-pds.s3.amazonaws.com/hrrr.20160517/conus/hrrr.t01z.wrfsfcf01.grib2\n"
     ]
    },
    {
     "name": "stderr",
     "output_type": "stream",
     "text": [
      "  3%|▎         | 54/1631 [57:24<30:26:39, 69.50s/it]"
     ]
    },
    {
     "name": "stdout",
     "output_type": "stream",
     "text": [
      "https://noaa-hrrr-bdp-pds.s3.amazonaws.com/hrrr.20171005/conus/hrrr.t01z.wrfsfcf01.grib2\n"
     ]
    },
    {
     "name": "stderr",
     "output_type": "stream",
     "text": [
      "  3%|▎         | 55/1631 [57:53<25:03:44, 57.25s/it]"
     ]
    },
    {
     "name": "stdout",
     "output_type": "stream",
     "text": [
      "https://noaa-hrrr-bdp-pds.s3.amazonaws.com/hrrr.20130716/conus/hrrr.t01z.wrfsfcf01.grib2\n"
     ]
    },
    {
     "name": "stderr",
     "output_type": "stream",
     "text": [
      "  3%|▎         | 56/1631 [57:54<17:39:20, 40.36s/it]"
     ]
    },
    {
     "name": "stdout",
     "output_type": "stream",
     "text": [
      "https://noaa-hrrr-bdp-pds.s3.amazonaws.com/hrrr.20160719/conus/hrrr.t01z.wrfsfcf01.grib2\n"
     ]
    },
    {
     "name": "stderr",
     "output_type": "stream",
     "text": [
      "  3%|▎         | 57/1631 [59:34<25:32:45, 58.43s/it]"
     ]
    },
    {
     "name": "stdout",
     "output_type": "stream",
     "text": [
      "https://noaa-hrrr-bdp-pds.s3.amazonaws.com/hrrr.20141203/conus/hrrr.t01z.wrfsfcf01.grib2\n"
     ]
    },
    {
     "name": "stderr",
     "output_type": "stream",
     "text": [
      "  4%|▎         | 58/1631 [1:00:19<23:48:44, 54.50s/it]"
     ]
    },
    {
     "name": "stdout",
     "output_type": "stream",
     "text": [
      "https://noaa-hrrr-bdp-pds.s3.amazonaws.com/hrrr.20160805/conus/hrrr.t01z.wrfsfcf01.grib2\n"
     ]
    },
    {
     "name": "stderr",
     "output_type": "stream",
     "text": [
      "  4%|▎         | 59/1631 [1:00:40<19:22:43, 44.38s/it]"
     ]
    },
    {
     "name": "stdout",
     "output_type": "stream",
     "text": [
      "https://noaa-hrrr-bdp-pds.s3.amazonaws.com/hrrr.20200512/conus/hrrr.t01z.wrfsfcf01.grib2\n"
     ]
    },
    {
     "name": "stderr",
     "output_type": "stream",
     "text": [
      "  4%|▎         | 60/1631 [1:01:48<22:24:42, 51.36s/it]"
     ]
    },
    {
     "name": "stdout",
     "output_type": "stream",
     "text": [
      "https://noaa-hrrr-bdp-pds.s3.amazonaws.com/hrrr.20150925/conus/hrrr.t01z.wrfsfcf01.grib2\n"
     ]
    },
    {
     "name": "stderr",
     "output_type": "stream",
     "text": [
      "  4%|▎         | 61/1631 [1:02:06<18:05:49, 41.50s/it]"
     ]
    },
    {
     "name": "stdout",
     "output_type": "stream",
     "text": [
      "https://noaa-hrrr-bdp-pds.s3.amazonaws.com/hrrr.20170612/conus/hrrr.t01z.wrfsfcf01.grib2\n"
     ]
    },
    {
     "name": "stderr",
     "output_type": "stream",
     "text": [
      "  4%|▍         | 62/1631 [1:03:25<22:54:05, 52.55s/it]"
     ]
    },
    {
     "name": "stdout",
     "output_type": "stream",
     "text": [
      "https://noaa-hrrr-bdp-pds.s3.amazonaws.com/hrrr.20170331/conus/hrrr.t01z.wrfsfcf01.grib2\n"
     ]
    },
    {
     "name": "stderr",
     "output_type": "stream",
     "text": [
      "  4%|▍         | 63/1631 [1:03:56<20:08:51, 46.26s/it]"
     ]
    },
    {
     "name": "stdout",
     "output_type": "stream",
     "text": [
      "https://noaa-hrrr-bdp-pds.s3.amazonaws.com/hrrr.20190319/conus/hrrr.t01z.wrfsfcf01.grib2\n"
     ]
    },
    {
     "name": "stderr",
     "output_type": "stream",
     "text": [
      "  4%|▍         | 64/1631 [1:05:16<24:33:17, 56.41s/it]"
     ]
    },
    {
     "name": "stdout",
     "output_type": "stream",
     "text": [
      "https://noaa-hrrr-bdp-pds.s3.amazonaws.com/hrrr.20170828/conus/hrrr.t01z.wrfsfcf01.grib2\n"
     ]
    },
    {
     "name": "stderr",
     "output_type": "stream",
     "text": [
      "  4%|▍         | 65/1631 [1:06:29<26:40:45, 61.33s/it]"
     ]
    },
    {
     "name": "stdout",
     "output_type": "stream",
     "text": [
      "https://noaa-hrrr-bdp-pds.s3.amazonaws.com/hrrr.20150422/conus/hrrr.t01z.wrfsfcf01.grib2\n"
     ]
    },
    {
     "name": "stderr",
     "output_type": "stream",
     "text": [
      "  4%|▍         | 66/1631 [1:08:24<33:39:54, 77.44s/it]"
     ]
    },
    {
     "name": "stdout",
     "output_type": "stream",
     "text": [
      "https://noaa-hrrr-bdp-pds.s3.amazonaws.com/hrrr.20190822/conus/hrrr.t01z.wrfsfcf01.grib2\n"
     ]
    },
    {
     "name": "stderr",
     "output_type": "stream",
     "text": [
      "  4%|▍         | 67/1631 [1:12:12<53:15:43, 122.60s/it]"
     ]
    },
    {
     "name": "stdout",
     "output_type": "stream",
     "text": [
      "https://noaa-hrrr-bdp-pds.s3.amazonaws.com/hrrr.20160524/conus/hrrr.t01z.wrfsfcf01.grib2\n"
     ]
    },
    {
     "name": "stderr",
     "output_type": "stream",
     "text": [
      "  4%|▍         | 68/1631 [1:15:04<59:40:42, 137.46s/it]"
     ]
    },
    {
     "name": "stdout",
     "output_type": "stream",
     "text": [
      "https://noaa-hrrr-bdp-pds.s3.amazonaws.com/hrrr.20161213/conus/hrrr.t01z.wrfsfcf01.grib2\n"
     ]
    },
    {
     "name": "stderr",
     "output_type": "stream",
     "text": [
      "  4%|▍         | 69/1631 [1:17:13<58:31:32, 134.89s/it]"
     ]
    },
    {
     "name": "stdout",
     "output_type": "stream",
     "text": [
      "https://noaa-hrrr-bdp-pds.s3.amazonaws.com/hrrr.20150414/conus/hrrr.t01z.wrfsfcf01.grib2\n"
     ]
    },
    {
     "name": "stderr",
     "output_type": "stream",
     "text": [
      "  4%|▍         | 70/1631 [1:18:00<46:59:38, 108.38s/it]"
     ]
    },
    {
     "name": "stdout",
     "output_type": "stream",
     "text": [
      "https://noaa-hrrr-bdp-pds.s3.amazonaws.com/hrrr.20200624/conus/hrrr.t01z.wrfsfcf01.grib2\n"
     ]
    },
    {
     "name": "stderr",
     "output_type": "stream",
     "text": [
      "  4%|▍         | 71/1631 [1:19:40<45:58:26, 106.09s/it]"
     ]
    },
    {
     "name": "stdout",
     "output_type": "stream",
     "text": [
      "https://noaa-hrrr-bdp-pds.s3.amazonaws.com/hrrr.20140722/conus/hrrr.t01z.wrfsfcf01.grib2\n"
     ]
    },
    {
     "name": "stderr",
     "output_type": "stream",
     "text": [
      "  4%|▍         | 72/1631 [1:19:41<32:16:58, 74.55s/it] "
     ]
    },
    {
     "name": "stdout",
     "output_type": "stream",
     "text": [
      "https://noaa-hrrr-bdp-pds.s3.amazonaws.com/hrrr.20200811/conus/hrrr.t01z.wrfsfcf01.grib2\n"
     ]
    },
    {
     "name": "stderr",
     "output_type": "stream",
     "text": [
      "  4%|▍         | 73/1631 [1:21:25<35:58:02, 83.11s/it]"
     ]
    },
    {
     "name": "stdout",
     "output_type": "stream",
     "text": [
      "https://noaa-hrrr-bdp-pds.s3.amazonaws.com/hrrr.20180620/conus/hrrr.t01z.wrfsfcf01.grib2\n"
     ]
    },
    {
     "name": "stderr",
     "output_type": "stream",
     "text": [
      "  5%|▍         | 74/1631 [1:22:19<32:13:52, 74.52s/it]"
     ]
    },
    {
     "name": "stdout",
     "output_type": "stream",
     "text": [
      "https://noaa-hrrr-bdp-pds.s3.amazonaws.com/hrrr.20151116/conus/hrrr.t01z.wrfsfcf01.grib2\n"
     ]
    },
    {
     "name": "stderr",
     "output_type": "stream",
     "text": [
      "  5%|▍         | 75/1631 [1:22:49<26:26:52, 61.19s/it]"
     ]
    },
    {
     "name": "stdout",
     "output_type": "stream",
     "text": [
      "https://noaa-hrrr-bdp-pds.s3.amazonaws.com/hrrr.20170825/conus/hrrr.t01z.wrfsfcf01.grib2\n"
     ]
    },
    {
     "name": "stderr",
     "output_type": "stream",
     "text": [
      "  5%|▍         | 76/1631 [1:23:37<24:44:52, 57.29s/it]"
     ]
    },
    {
     "name": "stdout",
     "output_type": "stream",
     "text": [
      "https://noaa-hrrr-bdp-pds.s3.amazonaws.com/hrrr.20201110/conus/hrrr.t01z.wrfsfcf01.grib2\n"
     ]
    },
    {
     "name": "stderr",
     "output_type": "stream",
     "text": [
      "  5%|▍         | 77/1631 [1:24:22<23:03:14, 53.41s/it]"
     ]
    },
    {
     "name": "stdout",
     "output_type": "stream",
     "text": [
      "https://noaa-hrrr-bdp-pds.s3.amazonaws.com/hrrr.20200715/conus/hrrr.t01z.wrfsfcf01.grib2\n"
     ]
    },
    {
     "name": "stderr",
     "output_type": "stream",
     "text": [
      "  5%|▍         | 78/1631 [1:27:17<38:53:01, 90.14s/it]"
     ]
    },
    {
     "name": "stdout",
     "output_type": "stream",
     "text": [
      "https://noaa-hrrr-bdp-pds.s3.amazonaws.com/hrrr.20130923/conus/hrrr.t01z.wrfsfcf01.grib2\n"
     ]
    },
    {
     "name": "stderr",
     "output_type": "stream",
     "text": [
      "  5%|▍         | 79/1631 [1:27:18<27:19:29, 63.38s/it]"
     ]
    },
    {
     "name": "stdout",
     "output_type": "stream",
     "text": [
      "https://noaa-hrrr-bdp-pds.s3.amazonaws.com/hrrr.20130212/conus/hrrr.t01z.wrfsfcf01.grib2\n"
     ]
    },
    {
     "name": "stderr",
     "output_type": "stream",
     "text": [
      "  5%|▍         | 80/1631 [1:27:19<19:14:17, 44.65s/it]"
     ]
    },
    {
     "name": "stdout",
     "output_type": "stream",
     "text": [
      "https://noaa-hrrr-bdp-pds.s3.amazonaws.com/hrrr.20150622/conus/hrrr.t01z.wrfsfcf01.grib2\n"
     ]
    },
    {
     "name": "stderr",
     "output_type": "stream",
     "text": [
      "  5%|▍         | 81/1631 [1:29:49<32:46:05, 76.11s/it]"
     ]
    },
    {
     "name": "stdout",
     "output_type": "stream",
     "text": [
      "https://noaa-hrrr-bdp-pds.s3.amazonaws.com/hrrr.20150506/conus/hrrr.t01z.wrfsfcf01.grib2\n"
     ]
    },
    {
     "name": "stderr",
     "output_type": "stream",
     "text": [
      "  5%|▌         | 82/1631 [1:31:47<38:12:24, 88.80s/it]"
     ]
    },
    {
     "name": "stdout",
     "output_type": "stream",
     "text": [
      "https://noaa-hrrr-bdp-pds.s3.amazonaws.com/hrrr.20140623/conus/hrrr.t01z.wrfsfcf01.grib2\n"
     ]
    },
    {
     "name": "stderr",
     "output_type": "stream",
     "text": [
      "  5%|▌         | 83/1631 [1:31:48<26:50:57, 62.44s/it]"
     ]
    },
    {
     "name": "stdout",
     "output_type": "stream",
     "text": [
      "https://noaa-hrrr-bdp-pds.s3.amazonaws.com/hrrr.20210816/conus/hrrr.t01z.wrfsfcf01.grib2\n"
     ]
    },
    {
     "name": "stderr",
     "output_type": "stream",
     "text": [
      "  5%|▌         | 84/1631 [1:33:17<30:11:52, 70.27s/it]"
     ]
    },
    {
     "name": "stdout",
     "output_type": "stream",
     "text": [
      "https://noaa-hrrr-bdp-pds.s3.amazonaws.com/hrrr.20160920/conus/hrrr.t01z.wrfsfcf01.grib2\n"
     ]
    },
    {
     "name": "stderr",
     "output_type": "stream",
     "text": [
      "  5%|▌         | 85/1631 [1:35:49<40:42:25, 94.79s/it]"
     ]
    },
    {
     "name": "stdout",
     "output_type": "stream",
     "text": [
      "https://noaa-hrrr-bdp-pds.s3.amazonaws.com/hrrr.20130423/conus/hrrr.t01z.wrfsfcf01.grib2\n"
     ]
    },
    {
     "name": "stderr",
     "output_type": "stream",
     "text": [
      "  5%|▌         | 86/1631 [1:35:50<28:35:56, 66.64s/it]"
     ]
    },
    {
     "name": "stdout",
     "output_type": "stream",
     "text": [
      "https://noaa-hrrr-bdp-pds.s3.amazonaws.com/hrrr.20200721/conus/hrrr.t01z.wrfsfcf01.grib2\n"
     ]
    },
    {
     "name": "stderr",
     "output_type": "stream",
     "text": [
      "  5%|▌         | 87/1631 [1:37:10<30:20:06, 70.73s/it]"
     ]
    },
    {
     "name": "stdout",
     "output_type": "stream",
     "text": [
      "https://noaa-hrrr-bdp-pds.s3.amazonaws.com/hrrr.20160802/conus/hrrr.t01z.wrfsfcf01.grib2\n"
     ]
    },
    {
     "name": "stderr",
     "output_type": "stream",
     "text": [
      "  5%|▌         | 88/1631 [1:37:41<25:15:11, 58.92s/it]"
     ]
    },
    {
     "name": "stdout",
     "output_type": "stream",
     "text": [
      "https://noaa-hrrr-bdp-pds.s3.amazonaws.com/hrrr.20190416/conus/hrrr.t01z.wrfsfcf01.grib2\n"
     ]
    },
    {
     "name": "stderr",
     "output_type": "stream",
     "text": [
      "  5%|▌         | 89/1631 [1:38:40<25:08:41, 58.70s/it]"
     ]
    },
    {
     "name": "stdout",
     "output_type": "stream",
     "text": [
      "https://noaa-hrrr-bdp-pds.s3.amazonaws.com/hrrr.20170821/conus/hrrr.t01z.wrfsfcf01.grib2\n"
     ]
    },
    {
     "name": "stderr",
     "output_type": "stream",
     "text": [
      "  6%|▌         | 90/1631 [1:41:09<36:49:34, 86.03s/it]"
     ]
    },
    {
     "name": "stdout",
     "output_type": "stream",
     "text": [
      "https://noaa-hrrr-bdp-pds.s3.amazonaws.com/hrrr.20200429/conus/hrrr.t01z.wrfsfcf01.grib2\n"
     ]
    },
    {
     "name": "stderr",
     "output_type": "stream",
     "text": [
      "  6%|▌         | 91/1631 [1:41:53<31:21:25, 73.30s/it]"
     ]
    },
    {
     "name": "stdout",
     "output_type": "stream",
     "text": [
      "https://noaa-hrrr-bdp-pds.s3.amazonaws.com/hrrr.20180822/conus/hrrr.t01z.wrfsfcf01.grib2\n"
     ]
    },
    {
     "name": "stderr",
     "output_type": "stream",
     "text": [
      "  6%|▌         | 92/1631 [1:42:59<30:22:43, 71.06s/it]"
     ]
    },
    {
     "name": "stdout",
     "output_type": "stream",
     "text": [
      "https://noaa-hrrr-bdp-pds.s3.amazonaws.com/hrrr.20200825/conus/hrrr.t01z.wrfsfcf01.grib2\n"
     ]
    },
    {
     "name": "stderr",
     "output_type": "stream",
     "text": [
      "  6%|▌         | 93/1631 [1:43:44<27:05:28, 63.41s/it]"
     ]
    },
    {
     "name": "stdout",
     "output_type": "stream",
     "text": [
      "https://noaa-hrrr-bdp-pds.s3.amazonaws.com/hrrr.20210428/conus/hrrr.t01z.wrfsfcf01.grib2\n"
     ]
    },
    {
     "name": "stderr",
     "output_type": "stream",
     "text": [
      "  6%|▌         | 94/1631 [1:46:09<37:32:17, 87.92s/it]"
     ]
    },
    {
     "name": "stdout",
     "output_type": "stream",
     "text": [
      "https://noaa-hrrr-bdp-pds.s3.amazonaws.com/hrrr.20130528/conus/hrrr.t01z.wrfsfcf01.grib2\n"
     ]
    },
    {
     "name": "stderr",
     "output_type": "stream",
     "text": [
      "  6%|▌         | 95/1631 [1:46:10<26:22:48, 61.83s/it]"
     ]
    },
    {
     "name": "stdout",
     "output_type": "stream",
     "text": [
      "https://noaa-hrrr-bdp-pds.s3.amazonaws.com/hrrr.20180513/conus/hrrr.t01z.wrfsfcf01.grib2\n"
     ]
    },
    {
     "name": "stderr",
     "output_type": "stream",
     "text": [
      "  6%|▌         | 96/1631 [1:46:38<21:57:40, 51.51s/it]"
     ]
    },
    {
     "name": "stdout",
     "output_type": "stream",
     "text": [
      "https://noaa-hrrr-bdp-pds.s3.amazonaws.com/hrrr.20150206/conus/hrrr.t01z.wrfsfcf01.grib2\n"
     ]
    },
    {
     "name": "stderr",
     "output_type": "stream",
     "text": [
      "  6%|▌         | 97/1631 [1:47:05<18:53:40, 44.34s/it]"
     ]
    },
    {
     "name": "stdout",
     "output_type": "stream",
     "text": [
      "https://noaa-hrrr-bdp-pds.s3.amazonaws.com/hrrr.20200311/conus/hrrr.t01z.wrfsfcf01.grib2\n"
     ]
    },
    {
     "name": "stderr",
     "output_type": "stream",
     "text": [
      "  6%|▌         | 98/1631 [1:49:05<28:26:57, 66.81s/it]"
     ]
    },
    {
     "name": "stdout",
     "output_type": "stream",
     "text": [
      "https://noaa-hrrr-bdp-pds.s3.amazonaws.com/hrrr.20130618/conus/hrrr.t01z.wrfsfcf01.grib2\n"
     ]
    },
    {
     "name": "stderr",
     "output_type": "stream",
     "text": [
      "  6%|▌         | 99/1631 [1:49:06<20:02:31, 47.10s/it]"
     ]
    },
    {
     "name": "stdout",
     "output_type": "stream",
     "text": [
      "https://noaa-hrrr-bdp-pds.s3.amazonaws.com/hrrr.20210518/conus/hrrr.t01z.wrfsfcf01.grib2\n"
     ]
    },
    {
     "name": "stderr",
     "output_type": "stream",
     "text": [
      "  6%|▌         | 100/1631 [1:51:01<28:42:07, 67.49s/it]"
     ]
    },
    {
     "name": "stdout",
     "output_type": "stream",
     "text": [
      "https://noaa-hrrr-bdp-pds.s3.amazonaws.com/hrrr.20180806/conus/hrrr.t01z.wrfsfcf01.grib2\n"
     ]
    },
    {
     "name": "stderr",
     "output_type": "stream",
     "text": [
      "  6%|▌         | 101/1631 [1:52:02<27:49:14, 65.46s/it]"
     ]
    },
    {
     "name": "stdout",
     "output_type": "stream",
     "text": [
      "https://noaa-hrrr-bdp-pds.s3.amazonaws.com/hrrr.20180407/conus/hrrr.t01z.wrfsfcf01.grib2\n"
     ]
    },
    {
     "name": "stderr",
     "output_type": "stream",
     "text": [
      "  6%|▋         | 102/1631 [1:52:31<23:11:21, 54.60s/it]"
     ]
    },
    {
     "name": "stdout",
     "output_type": "stream",
     "text": [
      "https://noaa-hrrr-bdp-pds.s3.amazonaws.com/hrrr.20140519/conus/hrrr.t01z.wrfsfcf01.grib2\n"
     ]
    },
    {
     "name": "stderr",
     "output_type": "stream",
     "text": [
      "  6%|▋         | 103/1631 [1:52:32<16:20:33, 38.50s/it]"
     ]
    },
    {
     "name": "stdout",
     "output_type": "stream",
     "text": [
      "https://noaa-hrrr-bdp-pds.s3.amazonaws.com/hrrr.20140227/conus/hrrr.t01z.wrfsfcf01.grib2\n"
     ]
    },
    {
     "name": "stderr",
     "output_type": "stream",
     "text": [
      "  6%|▋         | 104/1631 [1:52:33<11:33:04, 27.23s/it]"
     ]
    },
    {
     "name": "stdout",
     "output_type": "stream",
     "text": [
      "https://noaa-hrrr-bdp-pds.s3.amazonaws.com/hrrr.20190219/conus/hrrr.t01z.wrfsfcf01.grib2\n"
     ]
    },
    {
     "name": "stderr",
     "output_type": "stream",
     "text": [
      "  6%|▋         | 105/1631 [1:54:16<21:13:07, 50.06s/it]"
     ]
    },
    {
     "name": "stdout",
     "output_type": "stream",
     "text": [
      "https://noaa-hrrr-bdp-pds.s3.amazonaws.com/hrrr.20160822/conus/hrrr.t01z.wrfsfcf01.grib2\n"
     ]
    },
    {
     "name": "stderr",
     "output_type": "stream",
     "text": [
      "  6%|▋         | 106/1631 [1:55:04<20:55:50, 49.41s/it]"
     ]
    },
    {
     "name": "stdout",
     "output_type": "stream",
     "text": [
      "https://noaa-hrrr-bdp-pds.s3.amazonaws.com/hrrr.20180809/conus/hrrr.t01z.wrfsfcf01.grib2\n"
     ]
    },
    {
     "name": "stderr",
     "output_type": "stream",
     "text": [
      "  7%|▋         | 107/1631 [1:57:22<32:13:22, 76.12s/it]"
     ]
    },
    {
     "name": "stdout",
     "output_type": "stream",
     "text": [
      "https://noaa-hrrr-bdp-pds.s3.amazonaws.com/hrrr.20150806/conus/hrrr.t01z.wrfsfcf01.grib2\n"
     ]
    },
    {
     "name": "stderr",
     "output_type": "stream",
     "text": [
      "  7%|▋         | 108/1631 [1:59:14<36:43:43, 86.82s/it]"
     ]
    },
    {
     "name": "stdout",
     "output_type": "stream",
     "text": [
      "https://noaa-hrrr-bdp-pds.s3.amazonaws.com/hrrr.20180705/conus/hrrr.t01z.wrfsfcf01.grib2\n"
     ]
    },
    {
     "name": "stderr",
     "output_type": "stream",
     "text": [
      "  7%|▋         | 109/1631 [2:00:28<35:02:13, 82.87s/it]"
     ]
    },
    {
     "name": "stdout",
     "output_type": "stream",
     "text": [
      "https://noaa-hrrr-bdp-pds.s3.amazonaws.com/hrrr.20180221/conus/hrrr.t01z.wrfsfcf01.grib2\n"
     ]
    },
    {
     "name": "stderr",
     "output_type": "stream",
     "text": [
      "  7%|▋         | 110/1631 [2:02:15<38:09:25, 90.31s/it]"
     ]
    },
    {
     "name": "stdout",
     "output_type": "stream",
     "text": [
      "https://noaa-hrrr-bdp-pds.s3.amazonaws.com/hrrr.20170321/conus/hrrr.t01z.wrfsfcf01.grib2\n"
     ]
    },
    {
     "name": "stderr",
     "output_type": "stream",
     "text": [
      "  7%|▋         | 111/1631 [2:04:56<47:00:28, 111.33s/it]"
     ]
    },
    {
     "name": "stdout",
     "output_type": "stream",
     "text": [
      "https://noaa-hrrr-bdp-pds.s3.amazonaws.com/hrrr.20211012/conus/hrrr.t01z.wrfsfcf01.grib2\n"
     ]
    },
    {
     "name": "stderr",
     "output_type": "stream",
     "text": [
      "  7%|▋         | 112/1631 [2:06:50<47:20:14, 112.19s/it]"
     ]
    },
    {
     "name": "stdout",
     "output_type": "stream",
     "text": [
      "https://noaa-hrrr-bdp-pds.s3.amazonaws.com/hrrr.20130415/conus/hrrr.t01z.wrfsfcf01.grib2\n"
     ]
    },
    {
     "name": "stderr",
     "output_type": "stream",
     "text": [
      "  7%|▋         | 113/1631 [2:06:51<33:13:59, 78.81s/it] "
     ]
    },
    {
     "name": "stdout",
     "output_type": "stream",
     "text": [
      "https://noaa-hrrr-bdp-pds.s3.amazonaws.com/hrrr.20210524/conus/hrrr.t01z.wrfsfcf01.grib2\n"
     ]
    },
    {
     "name": "stderr",
     "output_type": "stream",
     "text": [
      "  7%|▋         | 114/1631 [2:10:09<48:16:16, 114.55s/it]"
     ]
    },
    {
     "name": "stdout",
     "output_type": "stream",
     "text": [
      "https://noaa-hrrr-bdp-pds.s3.amazonaws.com/hrrr.20130826/conus/hrrr.t01z.wrfsfcf01.grib2\n"
     ]
    },
    {
     "name": "stderr",
     "output_type": "stream",
     "text": [
      "  7%|▋         | 115/1631 [2:10:10<33:53:16, 80.47s/it] "
     ]
    },
    {
     "name": "stdout",
     "output_type": "stream",
     "text": [
      "https://noaa-hrrr-bdp-pds.s3.amazonaws.com/hrrr.20200608/conus/hrrr.t01z.wrfsfcf01.grib2\n"
     ]
    },
    {
     "name": "stderr",
     "output_type": "stream",
     "text": [
      "  7%|▋         | 116/1631 [2:10:44<27:58:03, 66.46s/it]"
     ]
    },
    {
     "name": "stdout",
     "output_type": "stream",
     "text": [
      "https://noaa-hrrr-bdp-pds.s3.amazonaws.com/hrrr.20170411/conus/hrrr.t01z.wrfsfcf01.grib2\n"
     ]
    },
    {
     "name": "stderr",
     "output_type": "stream",
     "text": [
      "  7%|▋         | 117/1631 [2:11:57<28:49:02, 68.52s/it]"
     ]
    },
    {
     "name": "stdout",
     "output_type": "stream",
     "text": [
      "https://noaa-hrrr-bdp-pds.s3.amazonaws.com/hrrr.20200902/conus/hrrr.t01z.wrfsfcf01.grib2\n"
     ]
    },
    {
     "name": "stderr",
     "output_type": "stream",
     "text": [
      "  7%|▋         | 118/1631 [2:12:25<23:45:03, 56.51s/it]"
     ]
    },
    {
     "name": "stdout",
     "output_type": "stream",
     "text": [
      "https://noaa-hrrr-bdp-pds.s3.amazonaws.com/hrrr.20210811/conus/hrrr.t01z.wrfsfcf01.grib2\n"
     ]
    },
    {
     "name": "stderr",
     "output_type": "stream",
     "text": [
      "  7%|▋         | 119/1631 [2:14:10<29:48:26, 70.97s/it]"
     ]
    },
    {
     "name": "stdout",
     "output_type": "stream",
     "text": [
      "https://noaa-hrrr-bdp-pds.s3.amazonaws.com/hrrr.20140805/conus/hrrr.t01z.wrfsfcf01.grib2\n"
     ]
    },
    {
     "name": "stderr",
     "output_type": "stream",
     "text": [
      "  7%|▋         | 120/1631 [2:15:04<27:41:16, 65.97s/it]"
     ]
    },
    {
     "name": "stdout",
     "output_type": "stream",
     "text": [
      "https://noaa-hrrr-bdp-pds.s3.amazonaws.com/hrrr.20150723/conus/hrrr.t01z.wrfsfcf01.grib2\n"
     ]
    },
    {
     "name": "stderr",
     "output_type": "stream",
     "text": [
      "  7%|▋         | 121/1631 [2:17:08<34:56:40, 83.31s/it]"
     ]
    },
    {
     "name": "stdout",
     "output_type": "stream",
     "text": [
      "https://noaa-hrrr-bdp-pds.s3.amazonaws.com/hrrr.20200924/conus/hrrr.t01z.wrfsfcf01.grib2\n"
     ]
    },
    {
     "name": "stderr",
     "output_type": "stream",
     "text": [
      "  7%|▋         | 122/1631 [2:20:16<48:03:33, 114.65s/it]"
     ]
    },
    {
     "name": "stdout",
     "output_type": "stream",
     "text": [
      "https://noaa-hrrr-bdp-pds.s3.amazonaws.com/hrrr.20161018/conus/hrrr.t01z.wrfsfcf01.grib2\n"
     ]
    },
    {
     "name": "stderr",
     "output_type": "stream",
     "text": [
      "  8%|▊         | 123/1631 [2:22:21<49:22:43, 117.88s/it]"
     ]
    },
    {
     "name": "stdout",
     "output_type": "stream",
     "text": [
      "https://noaa-hrrr-bdp-pds.s3.amazonaws.com/hrrr.20210720/conus/hrrr.t01z.wrfsfcf01.grib2\n"
     ]
    },
    {
     "name": "stderr",
     "output_type": "stream",
     "text": [
      "  8%|▊         | 124/1631 [2:23:19<41:47:50, 99.85s/it] "
     ]
    },
    {
     "name": "stdout",
     "output_type": "stream",
     "text": [
      "https://noaa-hrrr-bdp-pds.s3.amazonaws.com/hrrr.20200601/conus/hrrr.t01z.wrfsfcf01.grib2\n"
     ]
    },
    {
     "name": "stderr",
     "output_type": "stream",
     "text": [
      "  8%|▊         | 125/1631 [2:24:41<39:31:27, 94.48s/it]"
     ]
    },
    {
     "name": "stdout",
     "output_type": "stream",
     "text": [
      "https://noaa-hrrr-bdp-pds.s3.amazonaws.com/hrrr.20140813/conus/hrrr.t01z.wrfsfcf01.grib2\n"
     ]
    },
    {
     "name": "stderr",
     "output_type": "stream",
     "text": [
      "  8%|▊         | 126/1631 [2:24:42<27:45:55, 66.42s/it]"
     ]
    },
    {
     "name": "stdout",
     "output_type": "stream",
     "text": [
      "https://noaa-hrrr-bdp-pds.s3.amazonaws.com/hrrr.20160926/conus/hrrr.t01z.wrfsfcf01.grib2\n"
     ]
    },
    {
     "name": "stderr",
     "output_type": "stream",
     "text": [
      "  8%|▊         | 127/1631 [2:25:27<25:00:57, 59.88s/it]"
     ]
    },
    {
     "name": "stdout",
     "output_type": "stream",
     "text": [
      "https://noaa-hrrr-bdp-pds.s3.amazonaws.com/hrrr.20171004/conus/hrrr.t01z.wrfsfcf01.grib2\n"
     ]
    },
    {
     "name": "stderr",
     "output_type": "stream",
     "text": [
      "  8%|▊         | 128/1631 [2:26:03<22:00:44, 52.72s/it]"
     ]
    },
    {
     "name": "stdout",
     "output_type": "stream",
     "text": [
      "https://noaa-hrrr-bdp-pds.s3.amazonaws.com/hrrr.20141118/conus/hrrr.t01z.wrfsfcf01.grib2\n"
     ]
    },
    {
     "name": "stderr",
     "output_type": "stream",
     "text": [
      "  8%|▊         | 129/1631 [2:26:44<20:29:44, 49.12s/it]"
     ]
    },
    {
     "name": "stdout",
     "output_type": "stream",
     "text": [
      "https://noaa-hrrr-bdp-pds.s3.amazonaws.com/hrrr.20191120/conus/hrrr.t01z.wrfsfcf01.grib2\n"
     ]
    },
    {
     "name": "stderr",
     "output_type": "stream",
     "text": [
      "  8%|▊         | 130/1631 [2:27:49<22:29:52, 53.96s/it]"
     ]
    },
    {
     "name": "stdout",
     "output_type": "stream",
     "text": [
      "https://noaa-hrrr-bdp-pds.s3.amazonaws.com/hrrr.20161114/conus/hrrr.t01z.wrfsfcf01.grib2\n"
     ]
    },
    {
     "name": "stderr",
     "output_type": "stream",
     "text": [
      "  8%|▊         | 131/1631 [2:28:29<20:49:40, 49.99s/it]"
     ]
    },
    {
     "name": "stdout",
     "output_type": "stream",
     "text": [
      "https://noaa-hrrr-bdp-pds.s3.amazonaws.com/hrrr.20140610/conus/hrrr.t01z.wrfsfcf01.grib2\n"
     ]
    },
    {
     "name": "stderr",
     "output_type": "stream",
     "text": [
      "  8%|▊         | 132/1631 [2:28:30<14:41:24, 35.28s/it]"
     ]
    },
    {
     "name": "stdout",
     "output_type": "stream",
     "text": [
      "https://noaa-hrrr-bdp-pds.s3.amazonaws.com/hrrr.20190116/conus/hrrr.t01z.wrfsfcf01.grib2\n"
     ]
    },
    {
     "name": "stderr",
     "output_type": "stream",
     "text": [
      "  8%|▊         | 133/1631 [2:29:43<19:19:49, 46.45s/it]"
     ]
    },
    {
     "name": "stdout",
     "output_type": "stream",
     "text": [
      "https://noaa-hrrr-bdp-pds.s3.amazonaws.com/hrrr.20130812/conus/hrrr.t01z.wrfsfcf01.grib2\n"
     ]
    },
    {
     "name": "stderr",
     "output_type": "stream",
     "text": [
      "  8%|▊         | 134/1631 [2:29:44<13:38:28, 32.80s/it]"
     ]
    },
    {
     "name": "stdout",
     "output_type": "stream",
     "text": [
      "https://noaa-hrrr-bdp-pds.s3.amazonaws.com/hrrr.20200317/conus/hrrr.t01z.wrfsfcf01.grib2\n"
     ]
    },
    {
     "name": "stderr",
     "output_type": "stream",
     "text": [
      "  8%|▊         | 135/1631 [2:31:30<22:49:37, 54.93s/it]"
     ]
    },
    {
     "name": "stdout",
     "output_type": "stream",
     "text": [
      "https://noaa-hrrr-bdp-pds.s3.amazonaws.com/hrrr.20160915/conus/hrrr.t01z.wrfsfcf01.grib2\n"
     ]
    },
    {
     "name": "stderr",
     "output_type": "stream",
     "text": [
      "  8%|▊         | 136/1631 [2:31:31<16:05:14, 38.74s/it]"
     ]
    },
    {
     "name": "stdout",
     "output_type": "stream",
     "text": [
      "https://noaa-hrrr-bdp-pds.s3.amazonaws.com/hrrr.20160420/conus/hrrr.t01z.wrfsfcf01.grib2\n"
     ]
    },
    {
     "name": "stderr",
     "output_type": "stream",
     "text": [
      "  8%|▊         | 137/1631 [2:32:14<16:30:19, 39.77s/it]"
     ]
    },
    {
     "name": "stdout",
     "output_type": "stream",
     "text": [
      "https://noaa-hrrr-bdp-pds.s3.amazonaws.com/hrrr.20170201/conus/hrrr.t01z.wrfsfcf01.grib2\n"
     ]
    },
    {
     "name": "stderr",
     "output_type": "stream",
     "text": [
      "  8%|▊         | 138/1631 [2:32:46<15:33:44, 37.52s/it]"
     ]
    },
    {
     "name": "stdout",
     "output_type": "stream",
     "text": [
      "https://noaa-hrrr-bdp-pds.s3.amazonaws.com/hrrr.20170920/conus/hrrr.t01z.wrfsfcf01.grib2\n"
     ]
    },
    {
     "name": "stderr",
     "output_type": "stream",
     "text": [
      "  9%|▊         | 139/1631 [2:35:50<33:50:04, 81.64s/it]"
     ]
    },
    {
     "name": "stdout",
     "output_type": "stream",
     "text": [
      "https://noaa-hrrr-bdp-pds.s3.amazonaws.com/hrrr.20170810/conus/hrrr.t01z.wrfsfcf01.grib2\n"
     ]
    },
    {
     "name": "stderr",
     "output_type": "stream",
     "text": [
      "  9%|▊         | 140/1631 [2:37:13<33:59:07, 82.06s/it]"
     ]
    },
    {
     "name": "stdout",
     "output_type": "stream",
     "text": [
      "https://noaa-hrrr-bdp-pds.s3.amazonaws.com/hrrr.20190819/conus/hrrr.t01z.wrfsfcf01.grib2\n"
     ]
    },
    {
     "name": "stderr",
     "output_type": "stream",
     "text": [
      "  9%|▊         | 141/1631 [2:38:25<32:40:26, 78.94s/it]"
     ]
    },
    {
     "name": "stdout",
     "output_type": "stream",
     "text": [
      "https://noaa-hrrr-bdp-pds.s3.amazonaws.com/hrrr.20180408/conus/hrrr.t01z.wrfsfcf01.grib2\n"
     ]
    },
    {
     "name": "stderr",
     "output_type": "stream",
     "text": [
      "  9%|▊         | 142/1631 [2:39:15<29:06:02, 70.36s/it]"
     ]
    },
    {
     "name": "stdout",
     "output_type": "stream",
     "text": [
      "https://noaa-hrrr-bdp-pds.s3.amazonaws.com/hrrr.20210802/conus/hrrr.t01z.wrfsfcf01.grib2\n"
     ]
    },
    {
     "name": "stderr",
     "output_type": "stream",
     "text": [
      "  9%|▉         | 143/1631 [2:40:44<31:22:58, 75.93s/it]"
     ]
    },
    {
     "name": "stdout",
     "output_type": "stream",
     "text": [
      "https://noaa-hrrr-bdp-pds.s3.amazonaws.com/hrrr.20190716/conus/hrrr.t01z.wrfsfcf01.grib2\n"
     ]
    },
    {
     "name": "stderr",
     "output_type": "stream",
     "text": [
      "  9%|▉         | 144/1631 [2:42:37<35:52:29, 86.85s/it]"
     ]
    },
    {
     "name": "stdout",
     "output_type": "stream",
     "text": [
      "https://noaa-hrrr-bdp-pds.s3.amazonaws.com/hrrr.20181025/conus/hrrr.t01z.wrfsfcf01.grib2\n"
     ]
    },
    {
     "name": "stderr",
     "output_type": "stream",
     "text": [
      "  9%|▉         | 145/1631 [2:43:23<30:49:36, 74.68s/it]"
     ]
    },
    {
     "name": "stdout",
     "output_type": "stream",
     "text": [
      "https://noaa-hrrr-bdp-pds.s3.amazonaws.com/hrrr.20160417/conus/hrrr.t01z.wrfsfcf01.grib2\n"
     ]
    },
    {
     "name": "stderr",
     "output_type": "stream",
     "text": [
      "  9%|▉         | 146/1631 [2:43:47<24:33:56, 59.55s/it]"
     ]
    },
    {
     "name": "stdout",
     "output_type": "stream",
     "text": [
      "https://noaa-hrrr-bdp-pds.s3.amazonaws.com/hrrr.20160525/conus/hrrr.t01z.wrfsfcf01.grib2\n"
     ]
    },
    {
     "name": "stderr",
     "output_type": "stream",
     "text": [
      "  9%|▉         | 147/1631 [2:45:48<32:05:31, 77.85s/it]"
     ]
    },
    {
     "name": "stdout",
     "output_type": "stream",
     "text": [
      "https://noaa-hrrr-bdp-pds.s3.amazonaws.com/hrrr.20201117/conus/hrrr.t01z.wrfsfcf01.grib2\n"
     ]
    },
    {
     "name": "stderr",
     "output_type": "stream",
     "text": [
      "  9%|▉         | 148/1631 [2:46:42<29:06:46, 70.67s/it]"
     ]
    },
    {
     "name": "stdout",
     "output_type": "stream",
     "text": [
      "https://noaa-hrrr-bdp-pds.s3.amazonaws.com/hrrr.20190521/conus/hrrr.t01z.wrfsfcf01.grib2\n"
     ]
    },
    {
     "name": "stderr",
     "output_type": "stream",
     "text": [
      "  9%|▉         | 149/1631 [2:47:56<29:29:25, 71.64s/it]"
     ]
    },
    {
     "name": "stdout",
     "output_type": "stream",
     "text": [
      "https://noaa-hrrr-bdp-pds.s3.amazonaws.com/hrrr.20130730/conus/hrrr.t01z.wrfsfcf01.grib2\n"
     ]
    },
    {
     "name": "stderr",
     "output_type": "stream",
     "text": [
      "  9%|▉         | 150/1631 [2:47:57<20:44:53, 50.43s/it]"
     ]
    },
    {
     "name": "stdout",
     "output_type": "stream",
     "text": [
      "https://noaa-hrrr-bdp-pds.s3.amazonaws.com/hrrr.20211011/conus/hrrr.t01z.wrfsfcf01.grib2\n"
     ]
    },
    {
     "name": "stderr",
     "output_type": "stream",
     "text": [
      "  9%|▉         | 151/1631 [2:48:42<20:06:42, 48.92s/it]"
     ]
    },
    {
     "name": "stdout",
     "output_type": "stream",
     "text": [
      "https://noaa-hrrr-bdp-pds.s3.amazonaws.com/hrrr.20130516/conus/hrrr.t01z.wrfsfcf01.grib2\n"
     ]
    },
    {
     "name": "stderr",
     "output_type": "stream",
     "text": [
      "  9%|▉         | 152/1631 [2:48:43<14:11:04, 34.53s/it]"
     ]
    },
    {
     "name": "stdout",
     "output_type": "stream",
     "text": [
      "https://noaa-hrrr-bdp-pds.s3.amazonaws.com/hrrr.20130114/conus/hrrr.t01z.wrfsfcf01.grib2\n"
     ]
    },
    {
     "name": "stderr",
     "output_type": "stream",
     "text": [
      "  9%|▉         | 153/1631 [2:48:44<10:02:19, 24.45s/it]"
     ]
    },
    {
     "name": "stdout",
     "output_type": "stream",
     "text": [
      "https://noaa-hrrr-bdp-pds.s3.amazonaws.com/hrrr.20180925/conus/hrrr.t01z.wrfsfcf01.grib2\n"
     ]
    },
    {
     "name": "stderr",
     "output_type": "stream",
     "text": [
      "  9%|▉         | 154/1631 [2:49:27<12:18:26, 30.00s/it]"
     ]
    },
    {
     "name": "stdout",
     "output_type": "stream",
     "text": [
      "https://noaa-hrrr-bdp-pds.s3.amazonaws.com/hrrr.20210819/conus/hrrr.t01z.wrfsfcf01.grib2\n"
     ]
    },
    {
     "name": "stderr",
     "output_type": "stream",
     "text": [
      " 10%|▉         | 155/1631 [2:50:09<13:45:55, 33.57s/it]"
     ]
    },
    {
     "name": "stdout",
     "output_type": "stream",
     "text": [
      "https://noaa-hrrr-bdp-pds.s3.amazonaws.com/hrrr.20140425/conus/hrrr.t01z.wrfsfcf01.grib2\n"
     ]
    },
    {
     "name": "stderr",
     "output_type": "stream",
     "text": [
      " 10%|▉         | 156/1631 [2:50:10<9:44:33, 23.78s/it] "
     ]
    },
    {
     "name": "stdout",
     "output_type": "stream",
     "text": [
      "https://noaa-hrrr-bdp-pds.s3.amazonaws.com/hrrr.20150922/conus/hrrr.t01z.wrfsfcf01.grib2\n"
     ]
    },
    {
     "name": "stderr",
     "output_type": "stream",
     "text": [
      " 10%|▉         | 157/1631 [2:50:39<10:27:04, 25.53s/it]"
     ]
    },
    {
     "name": "stdout",
     "output_type": "stream",
     "text": [
      "https://noaa-hrrr-bdp-pds.s3.amazonaws.com/hrrr.20150324/conus/hrrr.t01z.wrfsfcf01.grib2\n"
     ]
    },
    {
     "name": "stderr",
     "output_type": "stream",
     "text": [
      " 10%|▉         | 158/1631 [2:52:09<18:17:50, 44.72s/it]"
     ]
    },
    {
     "name": "stdout",
     "output_type": "stream",
     "text": [
      "https://noaa-hrrr-bdp-pds.s3.amazonaws.com/hrrr.20190118/conus/hrrr.t01z.wrfsfcf01.grib2\n"
     ]
    },
    {
     "name": "stderr",
     "output_type": "stream",
     "text": [
      " 10%|▉         | 159/1631 [2:52:57<18:44:17, 45.83s/it]"
     ]
    },
    {
     "name": "stdout",
     "output_type": "stream",
     "text": [
      "https://noaa-hrrr-bdp-pds.s3.amazonaws.com/hrrr.20180425/conus/hrrr.t01z.wrfsfcf01.grib2\n"
     ]
    },
    {
     "name": "stderr",
     "output_type": "stream",
     "text": [
      " 10%|▉         | 160/1631 [2:53:43<18:41:41, 45.75s/it]"
     ]
    },
    {
     "name": "stdout",
     "output_type": "stream",
     "text": [
      "https://noaa-hrrr-bdp-pds.s3.amazonaws.com/hrrr.20130903/conus/hrrr.t01z.wrfsfcf01.grib2\n"
     ]
    },
    {
     "name": "stderr",
     "output_type": "stream",
     "text": [
      " 10%|▉         | 161/1631 [2:53:44<13:11:26, 32.30s/it]"
     ]
    },
    {
     "name": "stdout",
     "output_type": "stream",
     "text": [
      "https://noaa-hrrr-bdp-pds.s3.amazonaws.com/hrrr.20160810/conus/hrrr.t01z.wrfsfcf01.grib2\n"
     ]
    },
    {
     "name": "stderr",
     "output_type": "stream",
     "text": [
      " 10%|▉         | 162/1631 [2:53:45<9:20:28, 22.89s/it] "
     ]
    },
    {
     "name": "stdout",
     "output_type": "stream",
     "text": [
      "https://noaa-hrrr-bdp-pds.s3.amazonaws.com/hrrr.20190904/conus/hrrr.t01z.wrfsfcf01.grib2\n"
     ]
    },
    {
     "name": "stderr",
     "output_type": "stream",
     "text": [
      " 10%|▉         | 163/1631 [2:55:33<19:49:07, 48.60s/it]"
     ]
    },
    {
     "name": "stdout",
     "output_type": "stream",
     "text": [
      "https://noaa-hrrr-bdp-pds.s3.amazonaws.com/hrrr.20140422/conus/hrrr.t01z.wrfsfcf01.grib2\n"
     ]
    },
    {
     "name": "stderr",
     "output_type": "stream",
     "text": [
      " 10%|█         | 164/1631 [2:55:34<13:58:43, 34.30s/it]"
     ]
    },
    {
     "name": "stdout",
     "output_type": "stream",
     "text": [
      "https://noaa-hrrr-bdp-pds.s3.amazonaws.com/hrrr.20170228/conus/hrrr.t01z.wrfsfcf01.grib2\n"
     ]
    },
    {
     "name": "stderr",
     "output_type": "stream",
     "text": [
      " 10%|█         | 165/1631 [2:56:23<15:43:18, 38.61s/it]"
     ]
    },
    {
     "name": "stdout",
     "output_type": "stream",
     "text": [
      "https://noaa-hrrr-bdp-pds.s3.amazonaws.com/hrrr.20151207/conus/hrrr.t01z.wrfsfcf01.grib2\n"
     ]
    },
    {
     "name": "stderr",
     "output_type": "stream",
     "text": [
      " 10%|█         | 166/1631 [2:58:08<23:48:47, 58.52s/it]"
     ]
    },
    {
     "name": "stdout",
     "output_type": "stream",
     "text": [
      "https://noaa-hrrr-bdp-pds.s3.amazonaws.com/hrrr.20210928/conus/hrrr.t01z.wrfsfcf01.grib2\n"
     ]
    },
    {
     "name": "stderr",
     "output_type": "stream",
     "text": [
      " 10%|█         | 167/1631 [2:58:48<21:36:06, 53.12s/it]"
     ]
    },
    {
     "name": "stdout",
     "output_type": "stream",
     "text": [
      "https://noaa-hrrr-bdp-pds.s3.amazonaws.com/hrrr.20200623/conus/hrrr.t01z.wrfsfcf01.grib2\n"
     ]
    },
    {
     "name": "stderr",
     "output_type": "stream",
     "text": [
      " 10%|█         | 168/1631 [2:59:55<23:12:08, 57.09s/it]"
     ]
    },
    {
     "name": "stdout",
     "output_type": "stream",
     "text": [
      "https://noaa-hrrr-bdp-pds.s3.amazonaws.com/hrrr.20211108/conus/hrrr.t01z.wrfsfcf01.grib2\n"
     ]
    },
    {
     "name": "stderr",
     "output_type": "stream",
     "text": [
      " 10%|█         | 169/1631 [3:01:34<28:23:19, 69.90s/it]"
     ]
    },
    {
     "name": "stdout",
     "output_type": "stream",
     "text": [
      "https://noaa-hrrr-bdp-pds.s3.amazonaws.com/hrrr.20170719/conus/hrrr.t01z.wrfsfcf01.grib2\n"
     ]
    },
    {
     "name": "stderr",
     "output_type": "stream",
     "text": [
      " 10%|█         | 170/1631 [3:02:32<26:50:03, 66.12s/it]"
     ]
    },
    {
     "name": "stdout",
     "output_type": "stream",
     "text": [
      "https://noaa-hrrr-bdp-pds.s3.amazonaws.com/hrrr.20181107/conus/hrrr.t01z.wrfsfcf01.grib2\n"
     ]
    },
    {
     "name": "stderr",
     "output_type": "stream",
     "text": [
      " 10%|█         | 171/1631 [3:04:43<34:43:56, 85.64s/it]"
     ]
    },
    {
     "name": "stdout",
     "output_type": "stream",
     "text": [
      "https://noaa-hrrr-bdp-pds.s3.amazonaws.com/hrrr.20150915/conus/hrrr.t01z.wrfsfcf01.grib2\n"
     ]
    },
    {
     "name": "stderr",
     "output_type": "stream",
     "text": [
      " 11%|█         | 172/1631 [3:05:30<30:02:57, 74.15s/it]"
     ]
    },
    {
     "name": "stdout",
     "output_type": "stream",
     "text": [
      "https://noaa-hrrr-bdp-pds.s3.amazonaws.com/hrrr.20141125/conus/hrrr.t01z.wrfsfcf01.grib2\n"
     ]
    },
    {
     "name": "stderr",
     "output_type": "stream",
     "text": [
      " 11%|█         | 173/1631 [3:05:31<21:08:07, 52.19s/it]"
     ]
    },
    {
     "name": "stdout",
     "output_type": "stream",
     "text": [
      "https://noaa-hrrr-bdp-pds.s3.amazonaws.com/hrrr.20160812/conus/hrrr.t01z.wrfsfcf01.grib2\n"
     ]
    },
    {
     "name": "stderr",
     "output_type": "stream",
     "text": [
      " 11%|█         | 174/1631 [3:06:02<18:34:51, 45.91s/it]"
     ]
    },
    {
     "name": "stdout",
     "output_type": "stream",
     "text": [
      "https://noaa-hrrr-bdp-pds.s3.amazonaws.com/hrrr.20160408/conus/hrrr.t01z.wrfsfcf01.grib2\n"
     ]
    },
    {
     "name": "stderr",
     "output_type": "stream",
     "text": [
      " 11%|█         | 175/1631 [3:06:24<15:39:46, 38.73s/it]"
     ]
    },
    {
     "name": "stdout",
     "output_type": "stream",
     "text": [
      "https://noaa-hrrr-bdp-pds.s3.amazonaws.com/hrrr.20210817/conus/hrrr.t01z.wrfsfcf01.grib2\n"
     ]
    },
    {
     "name": "stderr",
     "output_type": "stream",
     "text": [
      " 11%|█         | 176/1631 [3:07:28<18:38:15, 46.11s/it]"
     ]
    },
    {
     "name": "stdout",
     "output_type": "stream",
     "text": [
      "https://noaa-hrrr-bdp-pds.s3.amazonaws.com/hrrr.20160404/conus/hrrr.t01z.wrfsfcf01.grib2\n"
     ]
    },
    {
     "name": "stderr",
     "output_type": "stream",
     "text": [
      " 11%|█         | 177/1631 [3:07:50<15:41:13, 38.84s/it]"
     ]
    },
    {
     "name": "stdout",
     "output_type": "stream",
     "text": [
      "https://noaa-hrrr-bdp-pds.s3.amazonaws.com/hrrr.20150520/conus/hrrr.t01z.wrfsfcf01.grib2\n"
     ]
    },
    {
     "name": "stderr",
     "output_type": "stream",
     "text": [
      " 11%|█         | 178/1631 [3:10:34<30:52:50, 76.51s/it]"
     ]
    },
    {
     "name": "stdout",
     "output_type": "stream",
     "text": [
      "https://noaa-hrrr-bdp-pds.s3.amazonaws.com/hrrr.20170718/conus/hrrr.t01z.wrfsfcf01.grib2\n"
     ]
    },
    {
     "name": "stderr",
     "output_type": "stream",
     "text": [
      " 11%|█         | 179/1631 [3:11:48<30:35:30, 75.85s/it]"
     ]
    },
    {
     "name": "stdout",
     "output_type": "stream",
     "text": [
      "https://noaa-hrrr-bdp-pds.s3.amazonaws.com/hrrr.20141008/conus/hrrr.t01z.wrfsfcf01.grib2\n"
     ]
    },
    {
     "name": "stderr",
     "output_type": "stream",
     "text": [
      " 11%|█         | 180/1631 [3:13:49<35:59:51, 89.31s/it]"
     ]
    },
    {
     "name": "stdout",
     "output_type": "stream",
     "text": [
      "https://noaa-hrrr-bdp-pds.s3.amazonaws.com/hrrr.20140414/conus/hrrr.t01z.wrfsfcf01.grib2\n"
     ]
    },
    {
     "name": "stderr",
     "output_type": "stream",
     "text": [
      " 11%|█         | 181/1631 [3:13:50<25:17:51, 62.81s/it]"
     ]
    },
    {
     "name": "stdout",
     "output_type": "stream",
     "text": [
      "https://noaa-hrrr-bdp-pds.s3.amazonaws.com/hrrr.20160418/conus/hrrr.t01z.wrfsfcf01.grib2\n"
     ]
    },
    {
     "name": "stderr",
     "output_type": "stream",
     "text": [
      " 11%|█         | 182/1631 [3:14:24<21:50:17, 54.26s/it]"
     ]
    },
    {
     "name": "stdout",
     "output_type": "stream",
     "text": [
      "https://noaa-hrrr-bdp-pds.s3.amazonaws.com/hrrr.20140819/conus/hrrr.t01z.wrfsfcf01.grib2\n"
     ]
    },
    {
     "name": "stderr",
     "output_type": "stream",
     "text": [
      " 11%|█         | 183/1631 [3:14:25<15:24:39, 38.31s/it]"
     ]
    },
    {
     "name": "stdout",
     "output_type": "stream",
     "text": [
      "https://noaa-hrrr-bdp-pds.s3.amazonaws.com/hrrr.20160503/conus/hrrr.t01z.wrfsfcf01.grib2\n"
     ]
    },
    {
     "name": "stderr",
     "output_type": "stream",
     "text": [
      " 11%|█▏        | 184/1631 [3:14:52<13:58:04, 34.75s/it]"
     ]
    },
    {
     "name": "stdout",
     "output_type": "stream",
     "text": [
      "https://noaa-hrrr-bdp-pds.s3.amazonaws.com/hrrr.20190403/conus/hrrr.t01z.wrfsfcf01.grib2\n"
     ]
    },
    {
     "name": "stderr",
     "output_type": "stream",
     "text": [
      " 11%|█▏        | 185/1631 [3:15:26<13:51:18, 34.49s/it]"
     ]
    },
    {
     "name": "stdout",
     "output_type": "stream",
     "text": [
      "https://noaa-hrrr-bdp-pds.s3.amazonaws.com/hrrr.20130627/conus/hrrr.t01z.wrfsfcf01.grib2\n"
     ]
    },
    {
     "name": "stderr",
     "output_type": "stream",
     "text": [
      " 11%|█▏        | 186/1631 [3:15:27<9:48:10, 24.42s/it] "
     ]
    },
    {
     "name": "stdout",
     "output_type": "stream",
     "text": [
      "https://noaa-hrrr-bdp-pds.s3.amazonaws.com/hrrr.20190320/conus/hrrr.t01z.wrfsfcf01.grib2\n"
     ]
    },
    {
     "name": "stderr",
     "output_type": "stream",
     "text": [
      " 11%|█▏        | 187/1631 [3:16:18<13:01:06, 32.46s/it]"
     ]
    },
    {
     "name": "stdout",
     "output_type": "stream",
     "text": [
      "https://noaa-hrrr-bdp-pds.s3.amazonaws.com/hrrr.20160722/conus/hrrr.t01z.wrfsfcf01.grib2\n"
     ]
    },
    {
     "name": "stderr",
     "output_type": "stream",
     "text": [
      " 12%|█▏        | 188/1631 [3:16:52<13:12:52, 32.97s/it]"
     ]
    },
    {
     "name": "stdout",
     "output_type": "stream",
     "text": [
      "https://noaa-hrrr-bdp-pds.s3.amazonaws.com/hrrr.20160718/conus/hrrr.t01z.wrfsfcf01.grib2\n"
     ]
    },
    {
     "name": "stderr",
     "output_type": "stream",
     "text": [
      " 12%|█▏        | 189/1631 [3:17:31<13:54:17, 34.71s/it]"
     ]
    },
    {
     "name": "stdout",
     "output_type": "stream",
     "text": [
      "https://noaa-hrrr-bdp-pds.s3.amazonaws.com/hrrr.20200706/conus/hrrr.t01z.wrfsfcf01.grib2\n"
     ]
    },
    {
     "name": "stderr",
     "output_type": "stream",
     "text": [
      " 12%|█▏        | 190/1631 [3:18:08<14:08:27, 35.33s/it]"
     ]
    },
    {
     "name": "stdout",
     "output_type": "stream",
     "text": [
      "https://noaa-hrrr-bdp-pds.s3.amazonaws.com/hrrr.20170607/conus/hrrr.t01z.wrfsfcf01.grib2\n"
     ]
    },
    {
     "name": "stderr",
     "output_type": "stream",
     "text": [
      " 12%|█▏        | 191/1631 [3:19:23<18:57:16, 47.39s/it]"
     ]
    },
    {
     "name": "stdout",
     "output_type": "stream",
     "text": [
      "https://noaa-hrrr-bdp-pds.s3.amazonaws.com/hrrr.20210420/conus/hrrr.t01z.wrfsfcf01.grib2\n"
     ]
    },
    {
     "name": "stderr",
     "output_type": "stream",
     "text": [
      " 12%|█▏        | 192/1631 [3:21:38<29:25:38, 73.62s/it]"
     ]
    },
    {
     "name": "stdout",
     "output_type": "stream",
     "text": [
      "https://noaa-hrrr-bdp-pds.s3.amazonaws.com/hrrr.20130227/conus/hrrr.t01z.wrfsfcf01.grib2\n"
     ]
    },
    {
     "name": "stderr",
     "output_type": "stream",
     "text": [
      " 12%|█▏        | 193/1631 [3:21:39<20:41:50, 51.82s/it]"
     ]
    },
    {
     "name": "stdout",
     "output_type": "stream",
     "text": [
      "https://noaa-hrrr-bdp-pds.s3.amazonaws.com/hrrr.20201007/conus/hrrr.t01z.wrfsfcf01.grib2\n"
     ]
    },
    {
     "name": "stderr",
     "output_type": "stream",
     "text": [
      " 12%|█▏        | 194/1631 [3:22:27<20:14:51, 50.72s/it]"
     ]
    },
    {
     "name": "stdout",
     "output_type": "stream",
     "text": [
      "https://noaa-hrrr-bdp-pds.s3.amazonaws.com/hrrr.20191025/conus/hrrr.t01z.wrfsfcf01.grib2\n"
     ]
    },
    {
     "name": "stderr",
     "output_type": "stream",
     "text": [
      " 12%|█▏        | 195/1631 [3:22:54<17:22:45, 43.57s/it]"
     ]
    },
    {
     "name": "stdout",
     "output_type": "stream",
     "text": [
      "https://noaa-hrrr-bdp-pds.s3.amazonaws.com/hrrr.20160518/conus/hrrr.t01z.wrfsfcf01.grib2\n"
     ]
    },
    {
     "name": "stderr",
     "output_type": "stream",
     "text": [
      " 12%|█▏        | 196/1631 [3:23:33<16:51:00, 42.27s/it]"
     ]
    },
    {
     "name": "stdout",
     "output_type": "stream",
     "text": [
      "https://noaa-hrrr-bdp-pds.s3.amazonaws.com/hrrr.20190801/conus/hrrr.t01z.wrfsfcf01.grib2\n"
     ]
    },
    {
     "name": "stderr",
     "output_type": "stream",
     "text": [
      " 12%|█▏        | 197/1631 [3:24:13<16:30:02, 41.42s/it]"
     ]
    },
    {
     "name": "stdout",
     "output_type": "stream",
     "text": [
      "https://noaa-hrrr-bdp-pds.s3.amazonaws.com/hrrr.20160727/conus/hrrr.t01z.wrfsfcf01.grib2\n"
     ]
    },
    {
     "name": "stderr",
     "output_type": "stream",
     "text": [
      " 12%|█▏        | 198/1631 [3:25:27<20:22:39, 51.19s/it]"
     ]
    },
    {
     "name": "stdout",
     "output_type": "stream",
     "text": [
      "https://noaa-hrrr-bdp-pds.s3.amazonaws.com/hrrr.20160607/conus/hrrr.t01z.wrfsfcf01.grib2\n"
     ]
    },
    {
     "name": "stderr",
     "output_type": "stream",
     "text": [
      " 12%|█▏        | 199/1631 [3:25:28<14:21:59, 36.12s/it]"
     ]
    },
    {
     "name": "stdout",
     "output_type": "stream",
     "text": [
      "https://noaa-hrrr-bdp-pds.s3.amazonaws.com/hrrr.20201111/conus/hrrr.t01z.wrfsfcf01.grib2\n"
     ]
    },
    {
     "name": "stderr",
     "output_type": "stream",
     "text": [
      " 12%|█▏        | 200/1631 [3:26:01<14:03:47, 35.38s/it]"
     ]
    },
    {
     "name": "stdout",
     "output_type": "stream",
     "text": [
      "https://noaa-hrrr-bdp-pds.s3.amazonaws.com/hrrr.20180503/conus/hrrr.t01z.wrfsfcf01.grib2\n"
     ]
    },
    {
     "name": "stderr",
     "output_type": "stream",
     "text": [
      " 12%|█▏        | 201/1631 [3:27:03<17:09:01, 43.18s/it]"
     ]
    },
    {
     "name": "stdout",
     "output_type": "stream",
     "text": [
      "https://noaa-hrrr-bdp-pds.s3.amazonaws.com/hrrr.20180702/conus/hrrr.t01z.wrfsfcf01.grib2\n"
     ]
    },
    {
     "name": "stderr",
     "output_type": "stream",
     "text": [
      " 12%|█▏        | 202/1631 [3:27:49<17:32:58, 44.21s/it]"
     ]
    },
    {
     "name": "stdout",
     "output_type": "stream",
     "text": [
      "https://noaa-hrrr-bdp-pds.s3.amazonaws.com/hrrr.20170817/conus/hrrr.t01z.wrfsfcf01.grib2\n"
     ]
    },
    {
     "name": "stderr",
     "output_type": "stream",
     "text": [
      " 12%|█▏        | 203/1631 [3:29:14<22:20:28, 56.32s/it]"
     ]
    },
    {
     "name": "stdout",
     "output_type": "stream",
     "text": [
      "https://noaa-hrrr-bdp-pds.s3.amazonaws.com/hrrr.20170725/conus/hrrr.t01z.wrfsfcf01.grib2\n"
     ]
    },
    {
     "name": "stderr",
     "output_type": "stream",
     "text": [
      " 13%|█▎        | 204/1631 [3:31:04<28:43:58, 72.49s/it]"
     ]
    },
    {
     "name": "stdout",
     "output_type": "stream",
     "text": [
      "https://noaa-hrrr-bdp-pds.s3.amazonaws.com/hrrr.20170815/conus/hrrr.t01z.wrfsfcf01.grib2\n"
     ]
    },
    {
     "name": "stderr",
     "output_type": "stream",
     "text": [
      " 13%|█▎        | 205/1631 [3:32:53<33:02:43, 83.42s/it]"
     ]
    },
    {
     "name": "stdout",
     "output_type": "stream",
     "text": [
      "https://noaa-hrrr-bdp-pds.s3.amazonaws.com/hrrr.20170517/conus/hrrr.t01z.wrfsfcf01.grib2\n"
     ]
    },
    {
     "name": "stderr",
     "output_type": "stream",
     "text": [
      " 13%|█▎        | 206/1631 [3:35:07<39:04:37, 98.72s/it]"
     ]
    },
    {
     "name": "stdout",
     "output_type": "stream",
     "text": [
      "https://noaa-hrrr-bdp-pds.s3.amazonaws.com/hrrr.20151012/conus/hrrr.t01z.wrfsfcf01.grib2\n"
     ]
    },
    {
     "name": "stderr",
     "output_type": "stream",
     "text": [
      " 13%|█▎        | 207/1631 [3:36:54<39:56:08, 100.96s/it]"
     ]
    },
    {
     "name": "stdout",
     "output_type": "stream",
     "text": [
      "https://noaa-hrrr-bdp-pds.s3.amazonaws.com/hrrr.20190516/conus/hrrr.t01z.wrfsfcf01.grib2\n"
     ]
    },
    {
     "name": "stderr",
     "output_type": "stream",
     "text": [
      " 13%|█▎        | 208/1631 [3:39:36<47:12:32, 119.43s/it]"
     ]
    },
    {
     "name": "stdout",
     "output_type": "stream",
     "text": [
      "https://noaa-hrrr-bdp-pds.s3.amazonaws.com/hrrr.20191114/conus/hrrr.t01z.wrfsfcf01.grib2\n"
     ]
    },
    {
     "name": "stderr",
     "output_type": "stream",
     "text": [
      " 13%|█▎        | 209/1631 [3:40:54<42:17:48, 107.08s/it]"
     ]
    },
    {
     "name": "stdout",
     "output_type": "stream",
     "text": [
      "https://noaa-hrrr-bdp-pds.s3.amazonaws.com/hrrr.20180717/conus/hrrr.t01z.wrfsfcf01.grib2\n"
     ]
    },
    {
     "name": "stderr",
     "output_type": "stream",
     "text": [
      " 13%|█▎        | 210/1631 [3:42:32<41:10:37, 104.32s/it]"
     ]
    },
    {
     "name": "stdout",
     "output_type": "stream",
     "text": [
      "https://noaa-hrrr-bdp-pds.s3.amazonaws.com/hrrr.20140418/conus/hrrr.t01z.wrfsfcf01.grib2\n"
     ]
    },
    {
     "name": "stderr",
     "output_type": "stream",
     "text": [
      " 13%|█▎        | 211/1631 [3:42:33<28:55:01, 73.31s/it] "
     ]
    },
    {
     "name": "stdout",
     "output_type": "stream",
     "text": [
      "https://noaa-hrrr-bdp-pds.s3.amazonaws.com/hrrr.20160801/conus/hrrr.t01z.wrfsfcf01.grib2\n"
     ]
    },
    {
     "name": "stderr",
     "output_type": "stream",
     "text": [
      " 13%|█▎        | 212/1631 [3:43:15<25:12:09, 63.94s/it]"
     ]
    },
    {
     "name": "stdout",
     "output_type": "stream",
     "text": [
      "https://noaa-hrrr-bdp-pds.s3.amazonaws.com/hrrr.20130530/conus/hrrr.t01z.wrfsfcf01.grib2\n"
     ]
    },
    {
     "name": "stderr",
     "output_type": "stream",
     "text": [
      " 13%|█▎        | 213/1631 [3:43:16<17:44:39, 45.05s/it]"
     ]
    },
    {
     "name": "stdout",
     "output_type": "stream",
     "text": [
      "https://noaa-hrrr-bdp-pds.s3.amazonaws.com/hrrr.20181129/conus/hrrr.t01z.wrfsfcf01.grib2\n"
     ]
    },
    {
     "name": "stderr",
     "output_type": "stream",
     "text": [
      " 13%|█▎        | 214/1631 [3:44:24<20:26:21, 51.93s/it]"
     ]
    },
    {
     "name": "stdout",
     "output_type": "stream",
     "text": [
      "https://noaa-hrrr-bdp-pds.s3.amazonaws.com/hrrr.20140716/conus/hrrr.t01z.wrfsfcf01.grib2\n"
     ]
    },
    {
     "name": "stderr",
     "output_type": "stream",
     "text": [
      " 13%|█▎        | 215/1631 [3:44:25<14:24:39, 36.64s/it]"
     ]
    },
    {
     "name": "stdout",
     "output_type": "stream",
     "text": [
      "https://noaa-hrrr-bdp-pds.s3.amazonaws.com/hrrr.20210621/conus/hrrr.t01z.wrfsfcf01.grib2\n"
     ]
    },
    {
     "name": "stderr",
     "output_type": "stream",
     "text": [
      " 13%|█▎        | 216/1631 [3:45:37<18:35:48, 47.31s/it]"
     ]
    },
    {
     "name": "stdout",
     "output_type": "stream",
     "text": [
      "https://noaa-hrrr-bdp-pds.s3.amazonaws.com/hrrr.20150127/conus/hrrr.t01z.wrfsfcf01.grib2\n"
     ]
    },
    {
     "name": "stderr",
     "output_type": "stream",
     "text": [
      " 13%|█▎        | 217/1631 [3:47:00<22:47:24, 58.02s/it]"
     ]
    },
    {
     "name": "stdout",
     "output_type": "stream",
     "text": [
      "https://noaa-hrrr-bdp-pds.s3.amazonaws.com/hrrr.20170214/conus/hrrr.t01z.wrfsfcf01.grib2\n"
     ]
    },
    {
     "name": "stderr",
     "output_type": "stream",
     "text": [
      " 13%|█▎        | 218/1631 [3:50:08<38:05:08, 97.03s/it]"
     ]
    },
    {
     "name": "stdout",
     "output_type": "stream",
     "text": [
      "https://noaa-hrrr-bdp-pds.s3.amazonaws.com/hrrr.20130402/conus/hrrr.t01z.wrfsfcf01.grib2\n"
     ]
    },
    {
     "name": "stderr",
     "output_type": "stream",
     "text": [
      " 13%|█▎        | 219/1631 [3:50:09<26:45:22, 68.22s/it]"
     ]
    },
    {
     "name": "stdout",
     "output_type": "stream",
     "text": [
      "https://noaa-hrrr-bdp-pds.s3.amazonaws.com/hrrr.20210128/conus/hrrr.t01z.wrfsfcf01.grib2\n"
     ]
    },
    {
     "name": "stderr",
     "output_type": "stream",
     "text": [
      " 13%|█▎        | 220/1631 [3:52:05<32:14:34, 82.26s/it]"
     ]
    },
    {
     "name": "stdout",
     "output_type": "stream",
     "text": [
      "https://noaa-hrrr-bdp-pds.s3.amazonaws.com/hrrr.20160713/conus/hrrr.t01z.wrfsfcf01.grib2\n"
     ]
    },
    {
     "name": "stderr",
     "output_type": "stream",
     "text": [
      " 14%|█▎        | 221/1631 [3:53:51<35:06:41, 89.65s/it]"
     ]
    },
    {
     "name": "stdout",
     "output_type": "stream",
     "text": [
      "https://noaa-hrrr-bdp-pds.s3.amazonaws.com/hrrr.20130209/conus/hrrr.t01z.wrfsfcf01.grib2\n"
     ]
    },
    {
     "name": "stderr",
     "output_type": "stream",
     "text": [
      " 14%|█▎        | 222/1631 [3:53:52<24:40:23, 63.04s/it]"
     ]
    },
    {
     "name": "stdout",
     "output_type": "stream",
     "text": [
      "https://noaa-hrrr-bdp-pds.s3.amazonaws.com/hrrr.20131112/conus/hrrr.t01z.wrfsfcf01.grib2\n"
     ]
    },
    {
     "name": "stderr",
     "output_type": "stream",
     "text": [
      " 14%|█▎        | 223/1631 [3:53:53<17:22:04, 44.41s/it]"
     ]
    },
    {
     "name": "stdout",
     "output_type": "stream",
     "text": [
      "https://noaa-hrrr-bdp-pds.s3.amazonaws.com/hrrr.20140922/conus/hrrr.t01z.wrfsfcf01.grib2\n"
     ]
    },
    {
     "name": "stderr",
     "output_type": "stream",
     "text": [
      " 14%|█▎        | 224/1631 [3:53:54<12:15:27, 31.36s/it]"
     ]
    },
    {
     "name": "stdout",
     "output_type": "stream",
     "text": [
      "https://noaa-hrrr-bdp-pds.s3.amazonaws.com/hrrr.20200109/conus/hrrr.t01z.wrfsfcf01.grib2\n"
     ]
    },
    {
     "name": "stderr",
     "output_type": "stream",
     "text": [
      " 14%|█▍        | 225/1631 [3:56:35<27:21:53, 70.07s/it]"
     ]
    },
    {
     "name": "stdout",
     "output_type": "stream",
     "text": [
      "https://noaa-hrrr-bdp-pds.s3.amazonaws.com/hrrr.20210824/conus/hrrr.t01z.wrfsfcf01.grib2\n"
     ]
    },
    {
     "name": "stderr",
     "output_type": "stream",
     "text": [
      " 14%|█▍        | 226/1631 [3:57:54<28:27:20, 72.91s/it]"
     ]
    },
    {
     "name": "stdout",
     "output_type": "stream",
     "text": [
      "https://noaa-hrrr-bdp-pds.s3.amazonaws.com/hrrr.20160127/conus/hrrr.t01z.wrfsfcf01.grib2\n"
     ]
    },
    {
     "name": "stderr",
     "output_type": "stream",
     "text": [
      " 14%|█▍        | 227/1631 [3:59:10<28:43:40, 73.66s/it]"
     ]
    },
    {
     "name": "stdout",
     "output_type": "stream",
     "text": [
      "https://noaa-hrrr-bdp-pds.s3.amazonaws.com/hrrr.20140508/conus/hrrr.t01z.wrfsfcf01.grib2\n"
     ]
    },
    {
     "name": "stderr",
     "output_type": "stream",
     "text": [
      " 14%|█▍        | 228/1631 [3:59:11<20:12:33, 51.86s/it]"
     ]
    },
    {
     "name": "stdout",
     "output_type": "stream",
     "text": [
      "https://noaa-hrrr-bdp-pds.s3.amazonaws.com/hrrr.20170808/conus/hrrr.t01z.wrfsfcf01.grib2\n"
     ]
    },
    {
     "name": "stderr",
     "output_type": "stream",
     "text": [
      " 14%|█▍        | 229/1631 [4:01:37<31:17:27, 80.35s/it]"
     ]
    },
    {
     "name": "stdout",
     "output_type": "stream",
     "text": [
      "https://noaa-hrrr-bdp-pds.s3.amazonaws.com/hrrr.20160329/conus/hrrr.t01z.wrfsfcf01.grib2\n"
     ]
    },
    {
     "name": "stderr",
     "output_type": "stream",
     "text": [
      " 14%|█▍        | 230/1631 [4:02:05<25:08:50, 64.62s/it]"
     ]
    },
    {
     "name": "stdout",
     "output_type": "stream",
     "text": [
      "https://noaa-hrrr-bdp-pds.s3.amazonaws.com/hrrr.20151112/conus/hrrr.t01z.wrfsfcf01.grib2\n"
     ]
    },
    {
     "name": "stderr",
     "output_type": "stream",
     "text": [
      " 14%|█▍        | 231/1631 [4:04:34<34:54:18, 89.76s/it]"
     ]
    },
    {
     "name": "stdout",
     "output_type": "stream",
     "text": [
      "https://noaa-hrrr-bdp-pds.s3.amazonaws.com/hrrr.20180423/conus/hrrr.t01z.wrfsfcf01.grib2\n"
     ]
    },
    {
     "name": "stderr",
     "output_type": "stream",
     "text": [
      " 14%|█▍        | 232/1631 [4:05:19<29:44:53, 76.55s/it]"
     ]
    },
    {
     "name": "stdout",
     "output_type": "stream",
     "text": [
      "https://noaa-hrrr-bdp-pds.s3.amazonaws.com/hrrr.20210825/conus/hrrr.t01z.wrfsfcf01.grib2\n"
     ]
    },
    {
     "name": "stderr",
     "output_type": "stream",
     "text": [
      " 14%|█▍        | 233/1631 [4:06:27<28:37:30, 73.71s/it]"
     ]
    },
    {
     "name": "stdout",
     "output_type": "stream",
     "text": [
      "https://noaa-hrrr-bdp-pds.s3.amazonaws.com/hrrr.20190724/conus/hrrr.t01z.wrfsfcf01.grib2\n"
     ]
    },
    {
     "name": "stderr",
     "output_type": "stream",
     "text": [
      " 14%|█▍        | 234/1631 [4:07:16<25:49:08, 66.53s/it]"
     ]
    },
    {
     "name": "stdout",
     "output_type": "stream",
     "text": [
      "https://noaa-hrrr-bdp-pds.s3.amazonaws.com/hrrr.20170327/conus/hrrr.t01z.wrfsfcf01.grib2\n"
     ]
    },
    {
     "name": "stderr",
     "output_type": "stream",
     "text": [
      " 14%|█▍        | 235/1631 [4:08:03<23:31:24, 60.66s/it]"
     ]
    },
    {
     "name": "stdout",
     "output_type": "stream",
     "text": [
      "https://noaa-hrrr-bdp-pds.s3.amazonaws.com/hrrr.20190813/conus/hrrr.t01z.wrfsfcf01.grib2\n"
     ]
    },
    {
     "name": "stderr",
     "output_type": "stream",
     "text": [
      " 14%|█▍        | 236/1631 [4:09:56<29:33:48, 76.29s/it]"
     ]
    },
    {
     "name": "stdout",
     "output_type": "stream",
     "text": [
      "https://noaa-hrrr-bdp-pds.s3.amazonaws.com/hrrr.20200422/conus/hrrr.t01z.wrfsfcf01.grib2\n"
     ]
    },
    {
     "name": "stderr",
     "output_type": "stream",
     "text": [
      " 15%|█▍        | 237/1631 [4:10:42<26:04:20, 67.33s/it]"
     ]
    },
    {
     "name": "stdout",
     "output_type": "stream",
     "text": [
      "https://noaa-hrrr-bdp-pds.s3.amazonaws.com/hrrr.20210615/conus/hrrr.t01z.wrfsfcf01.grib2\n"
     ]
    },
    {
     "name": "stderr",
     "output_type": "stream",
     "text": [
      " 15%|█▍        | 238/1631 [4:13:16<36:07:10, 93.35s/it]"
     ]
    },
    {
     "name": "stdout",
     "output_type": "stream",
     "text": [
      "https://noaa-hrrr-bdp-pds.s3.amazonaws.com/hrrr.20150805/conus/hrrr.t01z.wrfsfcf01.grib2\n"
     ]
    },
    {
     "name": "stderr",
     "output_type": "stream",
     "text": [
      " 15%|█▍        | 239/1631 [4:13:46<28:44:19, 74.32s/it]"
     ]
    },
    {
     "name": "stdout",
     "output_type": "stream",
     "text": [
      "https://noaa-hrrr-bdp-pds.s3.amazonaws.com/hrrr.20191204/conus/hrrr.t01z.wrfsfcf01.grib2\n"
     ]
    },
    {
     "name": "stderr",
     "output_type": "stream",
     "text": [
      " 15%|█▍        | 240/1631 [4:14:55<28:05:18, 72.69s/it]"
     ]
    },
    {
     "name": "stdout",
     "output_type": "stream",
     "text": [
      "https://noaa-hrrr-bdp-pds.s3.amazonaws.com/hrrr.20160816/conus/hrrr.t01z.wrfsfcf01.grib2\n"
     ]
    },
    {
     "name": "stderr",
     "output_type": "stream",
     "text": [
      " 15%|█▍        | 241/1631 [4:14:56<19:45:36, 51.18s/it]"
     ]
    },
    {
     "name": "stdout",
     "output_type": "stream",
     "text": [
      "https://noaa-hrrr-bdp-pds.s3.amazonaws.com/hrrr.20160412/conus/hrrr.t01z.wrfsfcf01.grib2\n"
     ]
    },
    {
     "name": "stderr",
     "output_type": "stream",
     "text": [
      " 15%|█▍        | 242/1631 [4:15:43<19:17:03, 49.98s/it]"
     ]
    },
    {
     "name": "stdout",
     "output_type": "stream",
     "text": [
      "https://noaa-hrrr-bdp-pds.s3.amazonaws.com/hrrr.20150108/conus/hrrr.t01z.wrfsfcf01.grib2\n"
     ]
    },
    {
     "name": "stderr",
     "output_type": "stream",
     "text": [
      " 15%|█▍        | 243/1631 [4:16:09<16:29:15, 42.76s/it]"
     ]
    },
    {
     "name": "stdout",
     "output_type": "stream",
     "text": [
      "https://noaa-hrrr-bdp-pds.s3.amazonaws.com/hrrr.20170615/conus/hrrr.t01z.wrfsfcf01.grib2\n"
     ]
    },
    {
     "name": "stderr",
     "output_type": "stream",
     "text": [
      " 15%|█▍        | 244/1631 [4:17:50<23:09:44, 60.12s/it]"
     ]
    },
    {
     "name": "stdout",
     "output_type": "stream",
     "text": [
      "https://noaa-hrrr-bdp-pds.s3.amazonaws.com/hrrr.20140505/conus/hrrr.t01z.wrfsfcf01.grib2\n"
     ]
    },
    {
     "name": "stderr",
     "output_type": "stream",
     "text": [
      " 15%|█▌        | 245/1631 [4:17:51<16:18:38, 42.37s/it]"
     ]
    },
    {
     "name": "stdout",
     "output_type": "stream",
     "text": [
      "https://noaa-hrrr-bdp-pds.s3.amazonaws.com/hrrr.20190205/conus/hrrr.t01z.wrfsfcf01.grib2\n"
     ]
    },
    {
     "name": "stderr",
     "output_type": "stream",
     "text": [
      " 15%|█▌        | 246/1631 [4:18:50<18:14:56, 47.43s/it]"
     ]
    },
    {
     "name": "stdout",
     "output_type": "stream",
     "text": [
      "https://noaa-hrrr-bdp-pds.s3.amazonaws.com/hrrr.20190812/conus/hrrr.t01z.wrfsfcf01.grib2\n"
     ]
    },
    {
     "name": "stderr",
     "output_type": "stream",
     "text": [
      " 15%|█▌        | 247/1631 [4:20:02<21:03:19, 54.77s/it]"
     ]
    },
    {
     "name": "stdout",
     "output_type": "stream",
     "text": [
      "https://noaa-hrrr-bdp-pds.s3.amazonaws.com/hrrr.20131017/conus/hrrr.t01z.wrfsfcf01.grib2\n"
     ]
    },
    {
     "name": "stderr",
     "output_type": "stream",
     "text": [
      " 15%|█▌        | 248/1631 [4:20:03<14:50:14, 38.62s/it]"
     ]
    },
    {
     "name": "stdout",
     "output_type": "stream",
     "text": [
      "https://noaa-hrrr-bdp-pds.s3.amazonaws.com/hrrr.20160825/conus/hrrr.t01z.wrfsfcf01.grib2\n"
     ]
    },
    {
     "name": "stderr",
     "output_type": "stream",
     "text": [
      " 15%|█▌        | 249/1631 [4:20:48<15:30:11, 40.38s/it]"
     ]
    },
    {
     "name": "stdout",
     "output_type": "stream",
     "text": [
      "https://noaa-hrrr-bdp-pds.s3.amazonaws.com/hrrr.20190115/conus/hrrr.t01z.wrfsfcf01.grib2\n"
     ]
    },
    {
     "name": "stderr",
     "output_type": "stream",
     "text": [
      " 15%|█▌        | 250/1631 [4:22:39<23:39:57, 61.69s/it]"
     ]
    },
    {
     "name": "stdout",
     "output_type": "stream",
     "text": [
      "https://noaa-hrrr-bdp-pds.s3.amazonaws.com/hrrr.20180815/conus/hrrr.t01z.wrfsfcf01.grib2\n"
     ]
    },
    {
     "name": "stderr",
     "output_type": "stream",
     "text": [
      " 15%|█▌        | 251/1631 [4:24:13<27:25:32, 71.55s/it]"
     ]
    },
    {
     "name": "stdout",
     "output_type": "stream",
     "text": [
      "https://noaa-hrrr-bdp-pds.s3.amazonaws.com/hrrr.20180111/conus/hrrr.t01z.wrfsfcf01.grib2\n"
     ]
    },
    {
     "name": "stderr",
     "output_type": "stream",
     "text": [
      " 15%|█▌        | 252/1631 [4:24:14<19:17:44, 50.37s/it]"
     ]
    },
    {
     "name": "stdout",
     "output_type": "stream",
     "text": [
      "https://noaa-hrrr-bdp-pds.s3.amazonaws.com/hrrr.20180917/conus/hrrr.t01z.wrfsfcf01.grib2\n"
     ]
    },
    {
     "name": "stderr",
     "output_type": "stream",
     "text": [
      " 16%|█▌        | 253/1631 [4:25:19<20:55:27, 54.66s/it]"
     ]
    },
    {
     "name": "stdout",
     "output_type": "stream",
     "text": [
      "https://noaa-hrrr-bdp-pds.s3.amazonaws.com/hrrr.20200514/conus/hrrr.t01z.wrfsfcf01.grib2\n"
     ]
    },
    {
     "name": "stderr",
     "output_type": "stream",
     "text": [
      " 16%|█▌        | 254/1631 [4:26:08<20:16:49, 53.02s/it]"
     ]
    },
    {
     "name": "stdout",
     "output_type": "stream",
     "text": [
      "https://noaa-hrrr-bdp-pds.s3.amazonaws.com/hrrr.20140408/conus/hrrr.t01z.wrfsfcf01.grib2\n"
     ]
    },
    {
     "name": "stderr",
     "output_type": "stream",
     "text": [
      " 16%|█▌        | 255/1631 [4:26:09<14:17:40, 37.40s/it]"
     ]
    },
    {
     "name": "stdout",
     "output_type": "stream",
     "text": [
      "https://noaa-hrrr-bdp-pds.s3.amazonaws.com/hrrr.20170830/conus/hrrr.t01z.wrfsfcf01.grib2\n"
     ]
    },
    {
     "name": "stderr",
     "output_type": "stream",
     "text": [
      " 16%|█▌        | 256/1631 [4:27:13<17:21:30, 45.45s/it]"
     ]
    },
    {
     "name": "stdout",
     "output_type": "stream",
     "text": [
      "https://noaa-hrrr-bdp-pds.s3.amazonaws.com/hrrr.20200728/conus/hrrr.t01z.wrfsfcf01.grib2\n"
     ]
    },
    {
     "name": "stderr",
     "output_type": "stream",
     "text": [
      " 16%|█▌        | 257/1631 [4:28:32<21:04:35, 55.22s/it]"
     ]
    },
    {
     "name": "stdout",
     "output_type": "stream",
     "text": [
      "https://noaa-hrrr-bdp-pds.s3.amazonaws.com/hrrr.20191017/conus/hrrr.t01z.wrfsfcf01.grib2\n"
     ]
    },
    {
     "name": "stderr",
     "output_type": "stream",
     "text": [
      " 16%|█▌        | 258/1631 [4:31:04<32:12:54, 84.47s/it]"
     ]
    },
    {
     "name": "stdout",
     "output_type": "stream",
     "text": [
      "https://noaa-hrrr-bdp-pds.s3.amazonaws.com/hrrr.20150908/conus/hrrr.t01z.wrfsfcf01.grib2\n"
     ]
    },
    {
     "name": "stderr",
     "output_type": "stream",
     "text": [
      " 16%|█▌        | 259/1631 [4:31:42<26:53:44, 70.57s/it]"
     ]
    },
    {
     "name": "stdout",
     "output_type": "stream",
     "text": [
      "https://noaa-hrrr-bdp-pds.s3.amazonaws.com/hrrr.20160808/conus/hrrr.t01z.wrfsfcf01.grib2\n"
     ]
    },
    {
     "name": "stderr",
     "output_type": "stream",
     "text": [
      " 16%|█▌        | 260/1631 [4:32:30<24:14:43, 63.66s/it]"
     ]
    },
    {
     "name": "stdout",
     "output_type": "stream",
     "text": [
      "https://noaa-hrrr-bdp-pds.s3.amazonaws.com/hrrr.20140825/conus/hrrr.t01z.wrfsfcf01.grib2\n"
     ]
    },
    {
     "name": "stderr",
     "output_type": "stream",
     "text": [
      " 16%|█▌        | 261/1631 [4:32:31<17:04:19, 44.86s/it]"
     ]
    },
    {
     "name": "stdout",
     "output_type": "stream",
     "text": [
      "https://noaa-hrrr-bdp-pds.s3.amazonaws.com/hrrr.20211004/conus/hrrr.t01z.wrfsfcf01.grib2\n"
     ]
    },
    {
     "name": "stderr",
     "output_type": "stream",
     "text": [
      " 16%|█▌        | 262/1631 [4:33:40<19:49:59, 52.15s/it]"
     ]
    },
    {
     "name": "stdout",
     "output_type": "stream",
     "text": [
      "https://noaa-hrrr-bdp-pds.s3.amazonaws.com/hrrr.20210614/conus/hrrr.t01z.wrfsfcf01.grib2\n"
     ]
    },
    {
     "name": "stderr",
     "output_type": "stream",
     "text": [
      " 16%|█▌        | 263/1631 [4:35:04<23:24:49, 61.61s/it]"
     ]
    },
    {
     "name": "stdout",
     "output_type": "stream",
     "text": [
      "https://noaa-hrrr-bdp-pds.s3.amazonaws.com/hrrr.20180521/conus/hrrr.t01z.wrfsfcf01.grib2\n"
     ]
    },
    {
     "name": "stderr",
     "output_type": "stream",
     "text": [
      " 16%|█▌        | 264/1631 [4:37:24<32:24:03, 85.33s/it]"
     ]
    },
    {
     "name": "stdout",
     "output_type": "stream",
     "text": [
      "https://noaa-hrrr-bdp-pds.s3.amazonaws.com/hrrr.20201210/conus/hrrr.t01z.wrfsfcf01.grib2\n"
     ]
    },
    {
     "name": "stderr",
     "output_type": "stream",
     "text": [
      " 16%|█▌        | 265/1631 [4:39:31<37:03:43, 97.67s/it]"
     ]
    },
    {
     "name": "stdout",
     "output_type": "stream",
     "text": [
      "https://noaa-hrrr-bdp-pds.s3.amazonaws.com/hrrr.20140114/conus/hrrr.t01z.wrfsfcf01.grib2\n"
     ]
    },
    {
     "name": "stderr",
     "output_type": "stream",
     "text": [
      " 16%|█▋        | 266/1631 [4:39:32<26:01:52, 68.65s/it]"
     ]
    },
    {
     "name": "stdout",
     "output_type": "stream",
     "text": [
      "https://noaa-hrrr-bdp-pds.s3.amazonaws.com/hrrr.20170913/conus/hrrr.t01z.wrfsfcf01.grib2\n"
     ]
    },
    {
     "name": "stderr",
     "output_type": "stream",
     "text": [
      " 16%|█▋        | 267/1631 [4:40:55<27:39:46, 73.01s/it]"
     ]
    },
    {
     "name": "stdout",
     "output_type": "stream",
     "text": [
      "https://noaa-hrrr-bdp-pds.s3.amazonaws.com/hrrr.20130328/conus/hrrr.t01z.wrfsfcf01.grib2\n"
     ]
    },
    {
     "name": "stderr",
     "output_type": "stream",
     "text": [
      " 16%|█▋        | 268/1631 [4:40:56<19:27:27, 51.39s/it]"
     ]
    },
    {
     "name": "stdout",
     "output_type": "stream",
     "text": [
      "https://noaa-hrrr-bdp-pds.s3.amazonaws.com/hrrr.20210129/conus/hrrr.t01z.wrfsfcf01.grib2\n"
     ]
    },
    {
     "name": "stderr",
     "output_type": "stream",
     "text": [
      " 16%|█▋        | 269/1631 [4:43:00<27:42:09, 73.22s/it]"
     ]
    },
    {
     "name": "stdout",
     "output_type": "stream",
     "text": [
      "https://noaa-hrrr-bdp-pds.s3.amazonaws.com/hrrr.20130918/conus/hrrr.t01z.wrfsfcf01.grib2\n"
     ]
    },
    {
     "name": "stderr",
     "output_type": "stream",
     "text": [
      " 17%|█▋        | 270/1631 [4:43:01<19:29:03, 51.54s/it]"
     ]
    },
    {
     "name": "stdout",
     "output_type": "stream",
     "text": [
      "https://noaa-hrrr-bdp-pds.s3.amazonaws.com/hrrr.20171030/conus/hrrr.t01z.wrfsfcf01.grib2\n"
     ]
    },
    {
     "name": "stderr",
     "output_type": "stream",
     "text": [
      " 17%|█▋        | 271/1631 [4:43:57<20:00:33, 52.97s/it]"
     ]
    },
    {
     "name": "stdout",
     "output_type": "stream",
     "text": [
      "https://noaa-hrrr-bdp-pds.s3.amazonaws.com/hrrr.20170803/conus/hrrr.t01z.wrfsfcf01.grib2\n"
     ]
    },
    {
     "name": "stderr",
     "output_type": "stream",
     "text": [
      " 17%|█▋        | 272/1631 [4:45:25<23:55:28, 63.38s/it]"
     ]
    },
    {
     "name": "stdout",
     "output_type": "stream",
     "text": [
      "https://noaa-hrrr-bdp-pds.s3.amazonaws.com/hrrr.20191015/conus/hrrr.t01z.wrfsfcf01.grib2\n"
     ]
    },
    {
     "name": "stderr",
     "output_type": "stream",
     "text": [
      " 17%|█▋        | 273/1631 [4:45:58<20:28:04, 54.26s/it]"
     ]
    },
    {
     "name": "stdout",
     "output_type": "stream",
     "text": [
      "https://noaa-hrrr-bdp-pds.s3.amazonaws.com/hrrr.20150923/conus/hrrr.t01z.wrfsfcf01.grib2\n"
     ]
    },
    {
     "name": "stderr",
     "output_type": "stream",
     "text": [
      " 17%|█▋        | 274/1631 [4:46:41<19:13:29, 51.00s/it]"
     ]
    },
    {
     "name": "stdout",
     "output_type": "stream",
     "text": [
      "https://noaa-hrrr-bdp-pds.s3.amazonaws.com/hrrr.20171002/conus/hrrr.t01z.wrfsfcf01.grib2\n"
     ]
    },
    {
     "name": "stderr",
     "output_type": "stream",
     "text": [
      " 17%|█▋        | 275/1631 [4:47:30<18:55:35, 50.25s/it]"
     ]
    },
    {
     "name": "stdout",
     "output_type": "stream",
     "text": [
      "https://noaa-hrrr-bdp-pds.s3.amazonaws.com/hrrr.20140814/conus/hrrr.t01z.wrfsfcf01.grib2\n"
     ]
    },
    {
     "name": "stderr",
     "output_type": "stream",
     "text": [
      " 17%|█▋        | 276/1631 [4:47:31<13:20:47, 35.46s/it]"
     ]
    },
    {
     "name": "stdout",
     "output_type": "stream",
     "text": [
      "https://noaa-hrrr-bdp-pds.s3.amazonaws.com/hrrr.20180927/conus/hrrr.t01z.wrfsfcf01.grib2\n"
     ]
    },
    {
     "name": "stderr",
     "output_type": "stream",
     "text": [
      " 17%|█▋        | 277/1631 [4:48:09<13:40:02, 36.34s/it]"
     ]
    },
    {
     "name": "stdout",
     "output_type": "stream",
     "text": [
      "https://noaa-hrrr-bdp-pds.s3.amazonaws.com/hrrr.20190825/conus/hrrr.t01z.wrfsfcf01.grib2\n"
     ]
    },
    {
     "name": "stderr",
     "output_type": "stream",
     "text": [
      " 17%|█▋        | 278/1631 [4:48:46<13:41:15, 36.42s/it]"
     ]
    },
    {
     "name": "stdout",
     "output_type": "stream",
     "text": [
      "https://noaa-hrrr-bdp-pds.s3.amazonaws.com/hrrr.20170726/conus/hrrr.t01z.wrfsfcf01.grib2\n"
     ]
    },
    {
     "name": "stderr",
     "output_type": "stream",
     "text": [
      " 17%|█▋        | 279/1631 [4:50:45<22:58:09, 61.16s/it]"
     ]
    },
    {
     "name": "stdout",
     "output_type": "stream",
     "text": [
      "https://noaa-hrrr-bdp-pds.s3.amazonaws.com/hrrr.20170717/conus/hrrr.t01z.wrfsfcf01.grib2\n"
     ]
    },
    {
     "name": "stderr",
     "output_type": "stream",
     "text": [
      " 17%|█▋        | 280/1631 [4:51:51<23:32:59, 62.75s/it]"
     ]
    },
    {
     "name": "stdout",
     "output_type": "stream",
     "text": [
      "https://noaa-hrrr-bdp-pds.s3.amazonaws.com/hrrr.20150721/conus/hrrr.t01z.wrfsfcf01.grib2\n"
     ]
    },
    {
     "name": "stderr",
     "output_type": "stream",
     "text": [
      " 17%|█▋        | 281/1631 [4:52:44<22:21:24, 59.62s/it]"
     ]
    },
    {
     "name": "stdout",
     "output_type": "stream",
     "text": [
      "https://noaa-hrrr-bdp-pds.s3.amazonaws.com/hrrr.20170328/conus/hrrr.t01z.wrfsfcf01.grib2\n"
     ]
    },
    {
     "name": "stderr",
     "output_type": "stream",
     "text": [
      " 17%|█▋        | 282/1631 [4:53:38<21:47:09, 58.14s/it]"
     ]
    },
    {
     "name": "stdout",
     "output_type": "stream",
     "text": [
      "https://noaa-hrrr-bdp-pds.s3.amazonaws.com/hrrr.20200527/conus/hrrr.t01z.wrfsfcf01.grib2\n"
     ]
    },
    {
     "name": "stderr",
     "output_type": "stream",
     "text": [
      " 17%|█▋        | 283/1631 [4:55:06<25:03:19, 66.91s/it]"
     ]
    },
    {
     "name": "stdout",
     "output_type": "stream",
     "text": [
      "https://noaa-hrrr-bdp-pds.s3.amazonaws.com/hrrr.20150409/conus/hrrr.t01z.wrfsfcf01.grib2\n"
     ]
    },
    {
     "name": "stderr",
     "output_type": "stream",
     "text": [
      " 17%|█▋        | 284/1631 [4:55:27<19:52:57, 53.14s/it]"
     ]
    },
    {
     "name": "stdout",
     "output_type": "stream",
     "text": [
      "https://noaa-hrrr-bdp-pds.s3.amazonaws.com/hrrr.20131205/conus/hrrr.t01z.wrfsfcf01.grib2\n"
     ]
    },
    {
     "name": "stderr",
     "output_type": "stream",
     "text": [
      " 17%|█▋        | 285/1631 [4:55:28<14:00:44, 37.48s/it]"
     ]
    },
    {
     "name": "stdout",
     "output_type": "stream",
     "text": [
      "https://noaa-hrrr-bdp-pds.s3.amazonaws.com/hrrr.20190613/conus/hrrr.t01z.wrfsfcf01.grib2\n"
     ]
    },
    {
     "name": "stderr",
     "output_type": "stream",
     "text": [
      " 18%|█▊        | 286/1631 [4:56:27<16:26:29, 44.01s/it]"
     ]
    },
    {
     "name": "stdout",
     "output_type": "stream",
     "text": [
      "https://noaa-hrrr-bdp-pds.s3.amazonaws.com/hrrr.20150310/conus/hrrr.t01z.wrfsfcf01.grib2\n"
     ]
    },
    {
     "name": "stderr",
     "output_type": "stream",
     "text": [
      " 18%|█▊        | 287/1631 [4:57:07<16:01:06, 42.91s/it]"
     ]
    },
    {
     "name": "stdout",
     "output_type": "stream",
     "text": [
      "https://noaa-hrrr-bdp-pds.s3.amazonaws.com/hrrr.20190914/conus/hrrr.t01z.wrfsfcf01.grib2\n"
     ]
    },
    {
     "name": "stderr",
     "output_type": "stream",
     "text": [
      " 18%|█▊        | 288/1631 [4:58:08<17:57:47, 48.15s/it]"
     ]
    },
    {
     "name": "stdout",
     "output_type": "stream",
     "text": [
      "https://noaa-hrrr-bdp-pds.s3.amazonaws.com/hrrr.20180508/conus/hrrr.t01z.wrfsfcf01.grib2\n"
     ]
    },
    {
     "name": "stderr",
     "output_type": "stream",
     "text": [
      " 18%|█▊        | 289/1631 [4:59:31<21:50:49, 58.61s/it]"
     ]
    },
    {
     "name": "stdout",
     "output_type": "stream",
     "text": [
      "https://noaa-hrrr-bdp-pds.s3.amazonaws.com/hrrr.20170713/conus/hrrr.t01z.wrfsfcf01.grib2\n"
     ]
    },
    {
     "name": "stderr",
     "output_type": "stream",
     "text": [
      " 18%|█▊        | 290/1631 [5:01:10<26:22:08, 70.79s/it]"
     ]
    },
    {
     "name": "stdout",
     "output_type": "stream",
     "text": [
      "https://noaa-hrrr-bdp-pds.s3.amazonaws.com/hrrr.20190410/conus/hrrr.t01z.wrfsfcf01.grib2\n"
     ]
    },
    {
     "name": "stderr",
     "output_type": "stream",
     "text": [
      " 18%|█▊        | 291/1631 [5:03:42<35:25:53, 95.19s/it]"
     ]
    },
    {
     "name": "stdout",
     "output_type": "stream",
     "text": [
      "https://noaa-hrrr-bdp-pds.s3.amazonaws.com/hrrr.20190810/conus/hrrr.t01z.wrfsfcf01.grib2\n"
     ]
    },
    {
     "name": "stderr",
     "output_type": "stream",
     "text": [
      " 18%|█▊        | 292/1631 [5:04:30<30:12:01, 81.20s/it]"
     ]
    },
    {
     "name": "stdout",
     "output_type": "stream",
     "text": [
      "https://noaa-hrrr-bdp-pds.s3.amazonaws.com/hrrr.20130811/conus/hrrr.t01z.wrfsfcf01.grib2\n"
     ]
    },
    {
     "name": "stderr",
     "output_type": "stream",
     "text": [
      " 18%|█▊        | 293/1631 [5:04:31<21:13:48, 57.12s/it]"
     ]
    },
    {
     "name": "stdout",
     "output_type": "stream",
     "text": [
      "https://noaa-hrrr-bdp-pds.s3.amazonaws.com/hrrr.20170627/conus/hrrr.t01z.wrfsfcf01.grib2\n"
     ]
    },
    {
     "name": "stderr",
     "output_type": "stream",
     "text": [
      " 18%|█▊        | 294/1631 [5:06:16<26:28:13, 71.27s/it]"
     ]
    },
    {
     "name": "stdout",
     "output_type": "stream",
     "text": [
      "https://noaa-hrrr-bdp-pds.s3.amazonaws.com/hrrr.20130329/conus/hrrr.t01z.wrfsfcf01.grib2\n"
     ]
    },
    {
     "name": "stderr",
     "output_type": "stream",
     "text": [
      " 18%|█▊        | 295/1631 [5:06:17<18:37:13, 50.17s/it]"
     ]
    },
    {
     "name": "stdout",
     "output_type": "stream",
     "text": [
      "https://noaa-hrrr-bdp-pds.s3.amazonaws.com/hrrr.20200914/conus/hrrr.t01z.wrfsfcf01.grib2\n"
     ]
    },
    {
     "name": "stderr",
     "output_type": "stream",
     "text": [
      " 18%|█▊        | 296/1631 [5:07:28<21:01:10, 56.68s/it]"
     ]
    },
    {
     "name": "stdout",
     "output_type": "stream",
     "text": [
      "https://noaa-hrrr-bdp-pds.s3.amazonaws.com/hrrr.20170307/conus/hrrr.t01z.wrfsfcf01.grib2\n"
     ]
    },
    {
     "name": "stderr",
     "output_type": "stream",
     "text": [
      " 18%|█▊        | 297/1631 [5:07:58<17:55:55, 48.39s/it]"
     ]
    },
    {
     "name": "stdout",
     "output_type": "stream",
     "text": [
      "https://noaa-hrrr-bdp-pds.s3.amazonaws.com/hrrr.20171016/conus/hrrr.t01z.wrfsfcf01.grib2\n"
     ]
    },
    {
     "name": "stderr",
     "output_type": "stream",
     "text": [
      " 18%|█▊        | 298/1631 [5:08:42<17:29:54, 47.26s/it]"
     ]
    },
    {
     "name": "stdout",
     "output_type": "stream",
     "text": [
      "https://noaa-hrrr-bdp-pds.s3.amazonaws.com/hrrr.20190627/conus/hrrr.t01z.wrfsfcf01.grib2\n"
     ]
    },
    {
     "name": "stderr",
     "output_type": "stream",
     "text": [
      " 18%|█▊        | 299/1631 [5:09:16<16:02:33, 43.36s/it]"
     ]
    },
    {
     "name": "stdout",
     "output_type": "stream",
     "text": [
      "https://noaa-hrrr-bdp-pds.s3.amazonaws.com/hrrr.20180801/conus/hrrr.t01z.wrfsfcf01.grib2\n"
     ]
    },
    {
     "name": "stderr",
     "output_type": "stream",
     "text": [
      " 18%|█▊        | 300/1631 [5:10:12<17:20:41, 46.91s/it]"
     ]
    },
    {
     "name": "stdout",
     "output_type": "stream",
     "text": [
      "https://noaa-hrrr-bdp-pds.s3.amazonaws.com/hrrr.20180612/conus/hrrr.t01z.wrfsfcf01.grib2\n"
     ]
    },
    {
     "name": "stderr",
     "output_type": "stream",
     "text": [
      " 18%|█▊        | 301/1631 [5:11:50<23:02:13, 62.36s/it]"
     ]
    },
    {
     "name": "stdout",
     "output_type": "stream",
     "text": [
      "https://noaa-hrrr-bdp-pds.s3.amazonaws.com/hrrr.20160815/conus/hrrr.t01z.wrfsfcf01.grib2\n"
     ]
    },
    {
     "name": "stderr",
     "output_type": "stream",
     "text": [
      " 19%|█▊        | 302/1631 [5:12:28<20:22:47, 55.21s/it]"
     ]
    },
    {
     "name": "stdout",
     "output_type": "stream",
     "text": [
      "https://noaa-hrrr-bdp-pds.s3.amazonaws.com/hrrr.20160121/conus/hrrr.t01z.wrfsfcf01.grib2\n"
     ]
    },
    {
     "name": "stderr",
     "output_type": "stream",
     "text": [
      " 19%|█▊        | 303/1631 [5:13:09<18:43:05, 50.74s/it]"
     ]
    },
    {
     "name": "stdout",
     "output_type": "stream",
     "text": [
      "https://noaa-hrrr-bdp-pds.s3.amazonaws.com/hrrr.20200923/conus/hrrr.t01z.wrfsfcf01.grib2\n"
     ]
    },
    {
     "name": "stderr",
     "output_type": "stream",
     "text": [
      " 19%|█▊        | 304/1631 [5:14:16<20:33:12, 55.76s/it]"
     ]
    },
    {
     "name": "stdout",
     "output_type": "stream",
     "text": [
      "https://noaa-hrrr-bdp-pds.s3.amazonaws.com/hrrr.20131211/conus/hrrr.t01z.wrfsfcf01.grib2\n"
     ]
    },
    {
     "name": "stderr",
     "output_type": "stream",
     "text": [
      " 19%|█▊        | 305/1631 [5:14:17<14:28:49, 39.31s/it]"
     ]
    },
    {
     "name": "stdout",
     "output_type": "stream",
     "text": [
      "https://noaa-hrrr-bdp-pds.s3.amazonaws.com/hrrr.20150924/conus/hrrr.t01z.wrfsfcf01.grib2\n"
     ]
    },
    {
     "name": "stderr",
     "output_type": "stream",
     "text": [
      " 19%|█▉        | 306/1631 [5:16:05<22:04:00, 59.95s/it]"
     ]
    },
    {
     "name": "stdout",
     "output_type": "stream",
     "text": [
      "https://noaa-hrrr-bdp-pds.s3.amazonaws.com/hrrr.20170516/conus/hrrr.t01z.wrfsfcf01.grib2\n"
     ]
    },
    {
     "name": "stderr",
     "output_type": "stream",
     "text": [
      " 19%|█▉        | 307/1631 [5:17:28<24:32:46, 66.74s/it]"
     ]
    },
    {
     "name": "stdout",
     "output_type": "stream",
     "text": [
      "https://noaa-hrrr-bdp-pds.s3.amazonaws.com/hrrr.20210930/conus/hrrr.t01z.wrfsfcf01.grib2\n"
     ]
    },
    {
     "name": "stderr",
     "output_type": "stream",
     "text": [
      " 19%|█▉        | 308/1631 [5:18:27<23:43:54, 64.58s/it]"
     ]
    },
    {
     "name": "stdout",
     "output_type": "stream",
     "text": [
      "https://noaa-hrrr-bdp-pds.s3.amazonaws.com/hrrr.20130919/conus/hrrr.t01z.wrfsfcf01.grib2\n"
     ]
    },
    {
     "name": "stderr",
     "output_type": "stream",
     "text": [
      " 19%|█▉        | 309/1631 [5:18:28<16:42:20, 45.49s/it]"
     ]
    },
    {
     "name": "stdout",
     "output_type": "stream",
     "text": [
      "https://noaa-hrrr-bdp-pds.s3.amazonaws.com/hrrr.20130819/conus/hrrr.t01z.wrfsfcf01.grib2\n"
     ]
    },
    {
     "name": "stderr",
     "output_type": "stream",
     "text": [
      " 19%|█▉        | 310/1631 [5:18:29<11:47:34, 32.14s/it]"
     ]
    },
    {
     "name": "stdout",
     "output_type": "stream",
     "text": [
      "https://noaa-hrrr-bdp-pds.s3.amazonaws.com/hrrr.20130619/conus/hrrr.t01z.wrfsfcf01.grib2\n"
     ]
    },
    {
     "name": "stderr",
     "output_type": "stream",
     "text": [
      " 19%|█▉        | 311/1631 [5:18:30<8:21:12, 22.78s/it] "
     ]
    },
    {
     "name": "stdout",
     "output_type": "stream",
     "text": [
      "https://noaa-hrrr-bdp-pds.s3.amazonaws.com/hrrr.20130320/conus/hrrr.t01z.wrfsfcf01.grib2\n"
     ]
    },
    {
     "name": "stderr",
     "output_type": "stream",
     "text": [
      " 19%|█▉        | 312/1631 [5:18:31<5:56:59, 16.24s/it]"
     ]
    },
    {
     "name": "stdout",
     "output_type": "stream",
     "text": [
      "https://noaa-hrrr-bdp-pds.s3.amazonaws.com/hrrr.20200909/conus/hrrr.t01z.wrfsfcf01.grib2\n"
     ]
    },
    {
     "name": "stderr",
     "output_type": "stream",
     "text": [
      " 19%|█▉        | 313/1631 [5:19:18<9:15:41, 25.30s/it]"
     ]
    },
    {
     "name": "stdout",
     "output_type": "stream",
     "text": [
      "https://noaa-hrrr-bdp-pds.s3.amazonaws.com/hrrr.20150519/conus/hrrr.t01z.wrfsfcf01.grib2\n"
     ]
    },
    {
     "name": "stderr",
     "output_type": "stream",
     "text": [
      " 19%|█▉        | 314/1631 [5:20:04<11:30:44, 31.47s/it]"
     ]
    },
    {
     "name": "stdout",
     "output_type": "stream",
     "text": [
      "https://noaa-hrrr-bdp-pds.s3.amazonaws.com/hrrr.20140815/conus/hrrr.t01z.wrfsfcf01.grib2\n"
     ]
    },
    {
     "name": "stderr",
     "output_type": "stream",
     "text": [
      " 19%|█▉        | 315/1631 [5:20:05<8:09:28, 22.32s/it] "
     ]
    },
    {
     "name": "stdout",
     "output_type": "stream",
     "text": [
      "https://noaa-hrrr-bdp-pds.s3.amazonaws.com/hrrr.20150909/conus/hrrr.t01z.wrfsfcf01.grib2\n"
     ]
    },
    {
     "name": "stderr",
     "output_type": "stream",
     "text": [
      " 19%|█▉        | 316/1631 [5:22:41<22:52:32, 62.63s/it]"
     ]
    },
    {
     "name": "stdout",
     "output_type": "stream",
     "text": [
      "https://noaa-hrrr-bdp-pds.s3.amazonaws.com/hrrr.20130710/conus/hrrr.t01z.wrfsfcf01.grib2\n"
     ]
    },
    {
     "name": "stderr",
     "output_type": "stream",
     "text": [
      " 19%|█▉        | 317/1631 [5:22:42<16:06:14, 44.12s/it]"
     ]
    },
    {
     "name": "stdout",
     "output_type": "stream",
     "text": [
      "https://noaa-hrrr-bdp-pds.s3.amazonaws.com/hrrr.20141027/conus/hrrr.t01z.wrfsfcf01.grib2\n"
     ]
    },
    {
     "name": "stderr",
     "output_type": "stream",
     "text": [
      " 19%|█▉        | 318/1631 [5:23:22<15:34:39, 42.71s/it]"
     ]
    },
    {
     "name": "stdout",
     "output_type": "stream",
     "text": [
      "https://noaa-hrrr-bdp-pds.s3.amazonaws.com/hrrr.20170824/conus/hrrr.t01z.wrfsfcf01.grib2\n"
     ]
    },
    {
     "name": "stderr",
     "output_type": "stream",
     "text": [
      " 20%|█▉        | 319/1631 [5:24:45<20:00:37, 54.91s/it]"
     ]
    },
    {
     "name": "stdout",
     "output_type": "stream",
     "text": [
      "https://noaa-hrrr-bdp-pds.s3.amazonaws.com/hrrr.20150811/conus/hrrr.t01z.wrfsfcf01.grib2\n"
     ]
    },
    {
     "name": "stderr",
     "output_type": "stream",
     "text": [
      " 20%|█▉        | 320/1631 [5:25:51<21:10:52, 58.16s/it]"
     ]
    },
    {
     "name": "stdout",
     "output_type": "stream",
     "text": [
      "https://noaa-hrrr-bdp-pds.s3.amazonaws.com/hrrr.20190428/conus/hrrr.t01z.wrfsfcf01.grib2\n"
     ]
    },
    {
     "name": "stderr",
     "output_type": "stream",
     "text": [
      " 20%|█▉        | 321/1631 [5:26:22<18:13:19, 50.08s/it]"
     ]
    },
    {
     "name": "stdout",
     "output_type": "stream",
     "text": [
      "https://noaa-hrrr-bdp-pds.s3.amazonaws.com/hrrr.20211025/conus/hrrr.t01z.wrfsfcf01.grib2\n"
     ]
    },
    {
     "name": "stderr",
     "output_type": "stream",
     "text": [
      " 20%|█▉        | 322/1631 [5:27:14<18:28:38, 50.82s/it]"
     ]
    },
    {
     "name": "stdout",
     "output_type": "stream",
     "text": [
      "https://noaa-hrrr-bdp-pds.s3.amazonaws.com/hrrr.20171227/conus/hrrr.t01z.wrfsfcf01.grib2\n"
     ]
    },
    {
     "name": "stderr",
     "output_type": "stream",
     "text": [
      " 20%|█▉        | 323/1631 [5:27:43<16:04:52, 44.26s/it]"
     ]
    },
    {
     "name": "stdout",
     "output_type": "stream",
     "text": [
      "https://noaa-hrrr-bdp-pds.s3.amazonaws.com/hrrr.20180628/conus/hrrr.t01z.wrfsfcf01.grib2\n"
     ]
    },
    {
     "name": "stderr",
     "output_type": "stream",
     "text": [
      " 20%|█▉        | 324/1631 [5:28:38<17:10:06, 47.29s/it]"
     ]
    },
    {
     "name": "stdout",
     "output_type": "stream",
     "text": [
      "https://noaa-hrrr-bdp-pds.s3.amazonaws.com/hrrr.20210429/conus/hrrr.t01z.wrfsfcf01.grib2\n"
     ]
    },
    {
     "name": "stderr",
     "output_type": "stream",
     "text": [
      " 20%|█▉        | 325/1631 [5:29:23<16:53:36, 46.57s/it]"
     ]
    },
    {
     "name": "stdout",
     "output_type": "stream",
     "text": [
      "https://noaa-hrrr-bdp-pds.s3.amazonaws.com/hrrr.20160218/conus/hrrr.t01z.wrfsfcf01.grib2\n"
     ]
    },
    {
     "name": "stderr",
     "output_type": "stream",
     "text": [
      " 20%|█▉        | 326/1631 [5:30:06<16:32:38, 45.64s/it]"
     ]
    },
    {
     "name": "stdout",
     "output_type": "stream",
     "text": [
      "https://noaa-hrrr-bdp-pds.s3.amazonaws.com/hrrr.20130722/conus/hrrr.t01z.wrfsfcf01.grib2\n"
     ]
    },
    {
     "name": "stderr",
     "output_type": "stream",
     "text": [
      " 20%|██        | 327/1631 [5:30:07<11:40:33, 32.23s/it]"
     ]
    },
    {
     "name": "stdout",
     "output_type": "stream",
     "text": [
      "https://noaa-hrrr-bdp-pds.s3.amazonaws.com/hrrr.20130611/conus/hrrr.t01z.wrfsfcf01.grib2\n"
     ]
    },
    {
     "name": "stderr",
     "output_type": "stream",
     "text": [
      " 20%|██        | 328/1631 [5:30:08<8:16:08, 22.85s/it] "
     ]
    },
    {
     "name": "stdout",
     "output_type": "stream",
     "text": [
      "https://noaa-hrrr-bdp-pds.s3.amazonaws.com/hrrr.20190520/conus/hrrr.t01z.wrfsfcf01.grib2\n"
     ]
    },
    {
     "name": "stderr",
     "output_type": "stream",
     "text": [
      " 20%|██        | 329/1631 [5:31:22<13:49:10, 38.21s/it]"
     ]
    },
    {
     "name": "stdout",
     "output_type": "stream",
     "text": [
      "https://noaa-hrrr-bdp-pds.s3.amazonaws.com/hrrr.20161121/conus/hrrr.t01z.wrfsfcf01.grib2\n"
     ]
    },
    {
     "name": "stderr",
     "output_type": "stream",
     "text": [
      " 20%|██        | 330/1631 [5:33:28<23:18:21, 64.49s/it]"
     ]
    },
    {
     "name": "stdout",
     "output_type": "stream",
     "text": [
      "https://noaa-hrrr-bdp-pds.s3.amazonaws.com/hrrr.20130610/conus/hrrr.t01z.wrfsfcf01.grib2\n"
     ]
    },
    {
     "name": "stderr",
     "output_type": "stream",
     "text": [
      " 20%|██        | 331/1631 [5:33:29<16:24:28, 45.44s/it]"
     ]
    },
    {
     "name": "stdout",
     "output_type": "stream",
     "text": [
      "https://noaa-hrrr-bdp-pds.s3.amazonaws.com/hrrr.20150828/conus/hrrr.t01z.wrfsfcf01.grib2\n"
     ]
    },
    {
     "name": "stderr",
     "output_type": "stream",
     "text": [
      " 20%|██        | 332/1631 [5:34:07<15:34:47, 43.18s/it]"
     ]
    },
    {
     "name": "stdout",
     "output_type": "stream",
     "text": [
      "https://noaa-hrrr-bdp-pds.s3.amazonaws.com/hrrr.20140708/conus/hrrr.t01z.wrfsfcf01.grib2\n"
     ]
    },
    {
     "name": "stderr",
     "output_type": "stream",
     "text": [
      " 20%|██        | 333/1631 [5:34:08<10:59:56, 30.51s/it]"
     ]
    },
    {
     "name": "stdout",
     "output_type": "stream",
     "text": [
      "https://noaa-hrrr-bdp-pds.s3.amazonaws.com/hrrr.20150510/conus/hrrr.t01z.wrfsfcf01.grib2\n"
     ]
    },
    {
     "name": "stderr",
     "output_type": "stream",
     "text": [
      " 20%|██        | 334/1631 [5:34:45<11:40:35, 32.41s/it]"
     ]
    },
    {
     "name": "stdout",
     "output_type": "stream",
     "text": [
      "https://noaa-hrrr-bdp-pds.s3.amazonaws.com/hrrr.20150929/conus/hrrr.t01z.wrfsfcf01.grib2\n"
     ]
    },
    {
     "name": "stderr",
     "output_type": "stream",
     "text": [
      " 21%|██        | 335/1631 [5:35:08<10:40:12, 29.64s/it]"
     ]
    },
    {
     "name": "stdout",
     "output_type": "stream",
     "text": [
      "https://noaa-hrrr-bdp-pds.s3.amazonaws.com/hrrr.20170907/conus/hrrr.t01z.wrfsfcf01.grib2\n"
     ]
    },
    {
     "name": "stderr",
     "output_type": "stream",
     "text": [
      " 21%|██        | 336/1631 [5:36:19<15:11:46, 42.24s/it]"
     ]
    },
    {
     "name": "stdout",
     "output_type": "stream",
     "text": [
      "https://noaa-hrrr-bdp-pds.s3.amazonaws.com/hrrr.20180322/conus/hrrr.t01z.wrfsfcf01.grib2\n"
     ]
    },
    {
     "name": "stderr",
     "output_type": "stream",
     "text": [
      " 21%|██        | 337/1631 [5:38:15<23:02:14, 64.09s/it]"
     ]
    },
    {
     "name": "stdout",
     "output_type": "stream",
     "text": [
      "https://noaa-hrrr-bdp-pds.s3.amazonaws.com/hrrr.20150727/conus/hrrr.t01z.wrfsfcf01.grib2\n"
     ]
    },
    {
     "name": "stderr",
     "output_type": "stream",
     "text": [
      " 21%|██        | 338/1631 [5:39:10<22:07:46, 61.61s/it]"
     ]
    },
    {
     "name": "stdout",
     "output_type": "stream",
     "text": [
      "https://noaa-hrrr-bdp-pds.s3.amazonaws.com/hrrr.20150914/conus/hrrr.t01z.wrfsfcf01.grib2\n"
     ]
    },
    {
     "name": "stderr",
     "output_type": "stream",
     "text": [
      " 21%|██        | 339/1631 [5:39:48<19:28:55, 54.28s/it]"
     ]
    },
    {
     "name": "stdout",
     "output_type": "stream",
     "text": [
      "https://noaa-hrrr-bdp-pds.s3.amazonaws.com/hrrr.20190404/conus/hrrr.t01z.wrfsfcf01.grib2\n"
     ]
    },
    {
     "name": "stderr",
     "output_type": "stream",
     "text": [
      " 21%|██        | 340/1631 [5:40:42<19:30:39, 54.41s/it]"
     ]
    },
    {
     "name": "stdout",
     "output_type": "stream",
     "text": [
      "https://noaa-hrrr-bdp-pds.s3.amazonaws.com/hrrr.20180828/conus/hrrr.t01z.wrfsfcf01.grib2\n"
     ]
    },
    {
     "name": "stderr",
     "output_type": "stream",
     "text": [
      " 21%|██        | 341/1631 [5:42:57<28:06:45, 78.45s/it]"
     ]
    },
    {
     "name": "stdout",
     "output_type": "stream",
     "text": [
      "https://noaa-hrrr-bdp-pds.s3.amazonaws.com/hrrr.20150809/conus/hrrr.t01z.wrfsfcf01.grib2\n"
     ]
    },
    {
     "name": "stderr",
     "output_type": "stream",
     "text": [
      " 21%|██        | 342/1631 [5:43:22<22:25:16, 62.62s/it]"
     ]
    },
    {
     "name": "stdout",
     "output_type": "stream",
     "text": [
      "https://noaa-hrrr-bdp-pds.s3.amazonaws.com/hrrr.20190930/conus/hrrr.t01z.wrfsfcf01.grib2\n"
     ]
    },
    {
     "name": "stderr",
     "output_type": "stream",
     "text": [
      " 21%|██        | 343/1631 [5:44:31<22:59:40, 64.27s/it]"
     ]
    },
    {
     "name": "stdout",
     "output_type": "stream",
     "text": [
      "https://noaa-hrrr-bdp-pds.s3.amazonaws.com/hrrr.20210805/conus/hrrr.t01z.wrfsfcf01.grib2\n"
     ]
    },
    {
     "name": "stderr",
     "output_type": "stream",
     "text": [
      " 21%|██        | 344/1631 [5:47:29<35:15:16, 98.61s/it]"
     ]
    },
    {
     "name": "stdout",
     "output_type": "stream",
     "text": [
      "https://noaa-hrrr-bdp-pds.s3.amazonaws.com/hrrr.20130925/conus/hrrr.t01z.wrfsfcf01.grib2\n"
     ]
    },
    {
     "name": "stderr",
     "output_type": "stream",
     "text": [
      " 21%|██        | 345/1631 [5:47:30<24:45:40, 69.32s/it]"
     ]
    },
    {
     "name": "stdout",
     "output_type": "stream",
     "text": [
      "https://noaa-hrrr-bdp-pds.s3.amazonaws.com/hrrr.20210319/conus/hrrr.t01z.wrfsfcf01.grib2\n"
     ]
    },
    {
     "name": "stderr",
     "output_type": "stream",
     "text": [
      " 21%|██        | 346/1631 [5:48:32<23:55:18, 67.02s/it]"
     ]
    },
    {
     "name": "stdout",
     "output_type": "stream",
     "text": [
      "https://noaa-hrrr-bdp-pds.s3.amazonaws.com/hrrr.20170109/conus/hrrr.t01z.wrfsfcf01.grib2\n"
     ]
    },
    {
     "name": "stderr",
     "output_type": "stream",
     "text": [
      " 21%|██▏       | 347/1631 [5:49:40<23:58:50, 67.24s/it]"
     ]
    },
    {
     "name": "stdout",
     "output_type": "stream",
     "text": [
      "https://noaa-hrrr-bdp-pds.s3.amazonaws.com/hrrr.20200714/conus/hrrr.t01z.wrfsfcf01.grib2\n"
     ]
    },
    {
     "name": "stderr",
     "output_type": "stream",
     "text": [
      " 21%|██▏       | 348/1631 [5:51:48<30:27:08, 85.45s/it]"
     ]
    },
    {
     "name": "stdout",
     "output_type": "stream",
     "text": [
      "https://noaa-hrrr-bdp-pds.s3.amazonaws.com/hrrr.20190919/conus/hrrr.t01z.wrfsfcf01.grib2\n"
     ]
    },
    {
     "name": "stderr",
     "output_type": "stream",
     "text": [
      " 21%|██▏       | 349/1631 [5:52:53<28:17:13, 79.43s/it]"
     ]
    },
    {
     "name": "stdout",
     "output_type": "stream",
     "text": [
      "https://noaa-hrrr-bdp-pds.s3.amazonaws.com/hrrr.20170724/conus/hrrr.t01z.wrfsfcf01.grib2\n"
     ]
    },
    {
     "name": "stderr",
     "output_type": "stream",
     "text": [
      " 21%|██▏       | 350/1631 [5:55:11<34:31:33, 97.03s/it]"
     ]
    },
    {
     "name": "stdout",
     "output_type": "stream",
     "text": [
      "https://noaa-hrrr-bdp-pds.s3.amazonaws.com/hrrr.20130731/conus/hrrr.t01z.wrfsfcf01.grib2\n"
     ]
    },
    {
     "name": "stderr",
     "output_type": "stream",
     "text": [
      " 22%|██▏       | 351/1631 [5:55:12<24:16:08, 68.26s/it]"
     ]
    },
    {
     "name": "stdout",
     "output_type": "stream",
     "text": [
      "https://noaa-hrrr-bdp-pds.s3.amazonaws.com/hrrr.20170417/conus/hrrr.t01z.wrfsfcf01.grib2\n"
     ]
    },
    {
     "name": "stderr",
     "output_type": "stream",
     "text": [
      " 22%|██▏       | 352/1631 [5:56:03<22:24:24, 63.07s/it]"
     ]
    },
    {
     "name": "stdout",
     "output_type": "stream",
     "text": [
      "https://noaa-hrrr-bdp-pds.s3.amazonaws.com/hrrr.20161216/conus/hrrr.t01z.wrfsfcf01.grib2\n"
     ]
    },
    {
     "name": "stderr",
     "output_type": "stream",
     "text": [
      " 22%|██▏       | 353/1631 [5:57:27<24:38:48, 69.43s/it]"
     ]
    },
    {
     "name": "stdout",
     "output_type": "stream",
     "text": [
      "https://noaa-hrrr-bdp-pds.s3.amazonaws.com/hrrr.20160510/conus/hrrr.t01z.wrfsfcf01.grib2\n"
     ]
    },
    {
     "name": "stderr",
     "output_type": "stream",
     "text": [
      " 22%|██▏       | 354/1631 [5:58:23<23:07:53, 65.21s/it]"
     ]
    },
    {
     "name": "stdout",
     "output_type": "stream",
     "text": [
      "https://noaa-hrrr-bdp-pds.s3.amazonaws.com/hrrr.20130905/conus/hrrr.t01z.wrfsfcf01.grib2\n"
     ]
    },
    {
     "name": "stderr",
     "output_type": "stream",
     "text": [
      " 22%|██▏       | 355/1631 [5:58:24<16:16:58, 45.94s/it]"
     ]
    },
    {
     "name": "stdout",
     "output_type": "stream",
     "text": [
      "https://noaa-hrrr-bdp-pds.s3.amazonaws.com/hrrr.20200729/conus/hrrr.t01z.wrfsfcf01.grib2\n"
     ]
    },
    {
     "name": "stderr",
     "output_type": "stream",
     "text": [
      " 22%|██▏       | 356/1631 [5:59:31<18:30:27, 52.26s/it]"
     ]
    },
    {
     "name": "stdout",
     "output_type": "stream",
     "text": [
      "https://noaa-hrrr-bdp-pds.s3.amazonaws.com/hrrr.20190815/conus/hrrr.t01z.wrfsfcf01.grib2\n"
     ]
    },
    {
     "name": "stderr",
     "output_type": "stream",
     "text": [
      " 22%|██▏       | 357/1631 [6:00:31<19:22:03, 54.73s/it]"
     ]
    },
    {
     "name": "stdout",
     "output_type": "stream",
     "text": [
      "https://noaa-hrrr-bdp-pds.s3.amazonaws.com/hrrr.20130917/conus/hrrr.t01z.wrfsfcf01.grib2\n"
     ]
    },
    {
     "name": "stderr",
     "output_type": "stream",
     "text": [
      " 22%|██▏       | 358/1631 [6:00:32<13:38:55, 38.60s/it]"
     ]
    },
    {
     "name": "stdout",
     "output_type": "stream",
     "text": [
      "https://noaa-hrrr-bdp-pds.s3.amazonaws.com/hrrr.20190504/conus/hrrr.t01z.wrfsfcf01.grib2\n"
     ]
    },
    {
     "name": "stderr",
     "output_type": "stream",
     "text": [
      " 22%|██▏       | 359/1631 [6:01:10<13:30:01, 38.21s/it]"
     ]
    },
    {
     "name": "stdout",
     "output_type": "stream",
     "text": [
      "https://noaa-hrrr-bdp-pds.s3.amazonaws.com/hrrr.20190805/conus/hrrr.t01z.wrfsfcf01.grib2\n"
     ]
    },
    {
     "name": "stderr",
     "output_type": "stream",
     "text": [
      " 22%|██▏       | 360/1631 [6:02:28<17:42:46, 50.17s/it]"
     ]
    },
    {
     "name": "stdout",
     "output_type": "stream",
     "text": [
      "https://noaa-hrrr-bdp-pds.s3.amazonaws.com/hrrr.20141210/conus/hrrr.t01z.wrfsfcf01.grib2\n"
     ]
    },
    {
     "name": "stderr",
     "output_type": "stream",
     "text": [
      " 22%|██▏       | 361/1631 [6:02:59<15:43:39, 44.58s/it]"
     ]
    },
    {
     "name": "stdout",
     "output_type": "stream",
     "text": [
      "https://noaa-hrrr-bdp-pds.s3.amazonaws.com/hrrr.20130522/conus/hrrr.t01z.wrfsfcf01.grib2\n"
     ]
    },
    {
     "name": "stderr",
     "output_type": "stream",
     "text": [
      " 22%|██▏       | 362/1631 [6:03:00<11:06:08, 31.50s/it]"
     ]
    },
    {
     "name": "stdout",
     "output_type": "stream",
     "text": [
      "https://noaa-hrrr-bdp-pds.s3.amazonaws.com/hrrr.20150803/conus/hrrr.t01z.wrfsfcf01.grib2\n"
     ]
    },
    {
     "name": "stderr",
     "output_type": "stream",
     "text": [
      " 22%|██▏       | 363/1631 [6:03:44<12:20:52, 35.06s/it]"
     ]
    },
    {
     "name": "stdout",
     "output_type": "stream",
     "text": [
      "https://noaa-hrrr-bdp-pds.s3.amazonaws.com/hrrr.20190601/conus/hrrr.t01z.wrfsfcf01.grib2\n"
     ]
    },
    {
     "name": "stderr",
     "output_type": "stream",
     "text": [
      " 22%|██▏       | 364/1631 [6:05:05<17:11:30, 48.85s/it]"
     ]
    },
    {
     "name": "stdout",
     "output_type": "stream",
     "text": [
      "https://noaa-hrrr-bdp-pds.s3.amazonaws.com/hrrr.20200916/conus/hrrr.t01z.wrfsfcf01.grib2\n"
     ]
    },
    {
     "name": "stderr",
     "output_type": "stream",
     "text": [
      " 22%|██▏       | 365/1631 [6:06:19<19:51:16, 56.46s/it]"
     ]
    },
    {
     "name": "stdout",
     "output_type": "stream",
     "text": [
      "https://noaa-hrrr-bdp-pds.s3.amazonaws.com/hrrr.20210712/conus/hrrr.t01z.wrfsfcf01.grib2\n"
     ]
    },
    {
     "name": "stderr",
     "output_type": "stream",
     "text": [
      " 22%|██▏       | 366/1631 [6:09:10<31:55:32, 90.86s/it]"
     ]
    },
    {
     "name": "stdout",
     "output_type": "stream",
     "text": [
      "https://noaa-hrrr-bdp-pds.s3.amazonaws.com/hrrr.20190912/conus/hrrr.t01z.wrfsfcf01.grib2\n"
     ]
    },
    {
     "name": "stderr",
     "output_type": "stream",
     "text": [
      " 23%|██▎       | 367/1631 [6:09:49<26:27:04, 75.34s/it]"
     ]
    },
    {
     "name": "stdout",
     "output_type": "stream",
     "text": [
      "https://noaa-hrrr-bdp-pds.s3.amazonaws.com/hrrr.20200831/conus/hrrr.t01z.wrfsfcf01.grib2\n"
     ]
    },
    {
     "name": "stderr",
     "output_type": "stream",
     "text": [
      " 23%|██▎       | 368/1631 [6:10:24<22:10:45, 63.22s/it]"
     ]
    },
    {
     "name": "stdout",
     "output_type": "stream",
     "text": [
      "https://noaa-hrrr-bdp-pds.s3.amazonaws.com/hrrr.20140210/conus/hrrr.t01z.wrfsfcf01.grib2\n"
     ]
    },
    {
     "name": "stderr",
     "output_type": "stream",
     "text": [
      " 23%|██▎       | 369/1631 [6:10:25<15:36:46, 44.54s/it]"
     ]
    },
    {
     "name": "stdout",
     "output_type": "stream",
     "text": [
      "https://noaa-hrrr-bdp-pds.s3.amazonaws.com/hrrr.20171206/conus/hrrr.t01z.wrfsfcf01.grib2\n"
     ]
    },
    {
     "name": "stderr",
     "output_type": "stream",
     "text": [
      " 23%|██▎       | 370/1631 [6:12:09<21:53:33, 62.50s/it]"
     ]
    },
    {
     "name": "stdout",
     "output_type": "stream",
     "text": [
      "https://noaa-hrrr-bdp-pds.s3.amazonaws.com/hrrr.20170614/conus/hrrr.t01z.wrfsfcf01.grib2\n"
     ]
    },
    {
     "name": "stderr",
     "output_type": "stream",
     "text": [
      " 23%|██▎       | 371/1631 [6:13:20<22:42:18, 64.87s/it]"
     ]
    },
    {
     "name": "stdout",
     "output_type": "stream",
     "text": [
      "https://noaa-hrrr-bdp-pds.s3.amazonaws.com/hrrr.20140326/conus/hrrr.t01z.wrfsfcf01.grib2\n"
     ]
    },
    {
     "name": "stderr",
     "output_type": "stream",
     "text": [
      " 23%|██▎       | 372/1631 [6:13:21<15:58:58, 45.70s/it]"
     ]
    },
    {
     "name": "stdout",
     "output_type": "stream",
     "text": [
      "https://noaa-hrrr-bdp-pds.s3.amazonaws.com/hrrr.20160613/conus/hrrr.t01z.wrfsfcf01.grib2\n"
     ]
    },
    {
     "name": "stderr",
     "output_type": "stream",
     "text": [
      " 23%|██▎       | 373/1631 [6:13:22<11:16:47, 32.28s/it]"
     ]
    },
    {
     "name": "stdout",
     "output_type": "stream",
     "text": [
      "https://noaa-hrrr-bdp-pds.s3.amazonaws.com/hrrr.20181206/conus/hrrr.t01z.wrfsfcf01.grib2\n"
     ]
    },
    {
     "name": "stderr",
     "output_type": "stream",
     "text": [
      " 23%|██▎       | 374/1631 [6:15:29<21:11:04, 60.67s/it]"
     ]
    },
    {
     "name": "stdout",
     "output_type": "stream",
     "text": [
      "https://noaa-hrrr-bdp-pds.s3.amazonaws.com/hrrr.20190422/conus/hrrr.t01z.wrfsfcf01.grib2\n"
     ]
    },
    {
     "name": "stderr",
     "output_type": "stream",
     "text": [
      " 23%|██▎       | 375/1631 [6:16:40<22:16:38, 63.85s/it]"
     ]
    },
    {
     "name": "stdout",
     "output_type": "stream",
     "text": [
      "https://noaa-hrrr-bdp-pds.s3.amazonaws.com/hrrr.20171018/conus/hrrr.t01z.wrfsfcf01.grib2\n"
     ]
    },
    {
     "name": "stderr",
     "output_type": "stream",
     "text": [
      " 23%|██▎       | 376/1631 [6:19:24<32:45:56, 93.99s/it]"
     ]
    },
    {
     "name": "stdout",
     "output_type": "stream",
     "text": [
      "https://noaa-hrrr-bdp-pds.s3.amazonaws.com/hrrr.20170720/conus/hrrr.t01z.wrfsfcf01.grib2\n"
     ]
    },
    {
     "name": "stderr",
     "output_type": "stream",
     "text": [
      " 23%|██▎       | 377/1631 [6:22:19<41:12:47, 118.32s/it]"
     ]
    },
    {
     "name": "stdout",
     "output_type": "stream",
     "text": [
      "https://noaa-hrrr-bdp-pds.s3.amazonaws.com/hrrr.20170124/conus/hrrr.t01z.wrfsfcf01.grib2\n"
     ]
    },
    {
     "name": "stderr",
     "output_type": "stream",
     "text": [
      " 23%|██▎       | 378/1631 [6:24:32<42:42:30, 122.71s/it]"
     ]
    },
    {
     "name": "stdout",
     "output_type": "stream",
     "text": [
      "https://noaa-hrrr-bdp-pds.s3.amazonaws.com/hrrr.20201013/conus/hrrr.t01z.wrfsfcf01.grib2\n"
     ]
    },
    {
     "name": "stderr",
     "output_type": "stream",
     "text": [
      " 23%|██▎       | 379/1631 [6:26:09<40:00:39, 115.05s/it]"
     ]
    },
    {
     "name": "stdout",
     "output_type": "stream",
     "text": [
      "https://noaa-hrrr-bdp-pds.s3.amazonaws.com/hrrr.20190828/conus/hrrr.t01z.wrfsfcf01.grib2\n"
     ]
    },
    {
     "name": "stderr",
     "output_type": "stream",
     "text": [
      " 23%|██▎       | 380/1631 [6:27:41<37:31:40, 107.99s/it]"
     ]
    },
    {
     "name": "stdout",
     "output_type": "stream",
     "text": [
      "https://noaa-hrrr-bdp-pds.s3.amazonaws.com/hrrr.20200817/conus/hrrr.t01z.wrfsfcf01.grib2\n"
     ]
    },
    {
     "name": "stderr",
     "output_type": "stream",
     "text": [
      " 23%|██▎       | 381/1631 [6:28:41<32:31:20, 93.66s/it] "
     ]
    },
    {
     "name": "stdout",
     "output_type": "stream",
     "text": [
      "https://noaa-hrrr-bdp-pds.s3.amazonaws.com/hrrr.20150317/conus/hrrr.t01z.wrfsfcf01.grib2\n"
     ]
    },
    {
     "name": "stderr",
     "output_type": "stream",
     "text": [
      " 23%|██▎       | 382/1631 [6:29:23<27:04:35, 78.04s/it]"
     ]
    },
    {
     "name": "stdout",
     "output_type": "stream",
     "text": [
      "https://noaa-hrrr-bdp-pds.s3.amazonaws.com/hrrr.20190603/conus/hrrr.t01z.wrfsfcf01.grib2\n"
     ]
    },
    {
     "name": "stderr",
     "output_type": "stream",
     "text": [
      " 23%|██▎       | 383/1631 [6:30:14<24:15:10, 69.96s/it]"
     ]
    },
    {
     "name": "stdout",
     "output_type": "stream",
     "text": [
      "https://noaa-hrrr-bdp-pds.s3.amazonaws.com/hrrr.20200428/conus/hrrr.t01z.wrfsfcf01.grib2\n"
     ]
    },
    {
     "name": "stderr",
     "output_type": "stream",
     "text": [
      " 24%|██▎       | 384/1631 [6:31:22<24:03:56, 69.48s/it]"
     ]
    },
    {
     "name": "stdout",
     "output_type": "stream",
     "text": [
      "https://noaa-hrrr-bdp-pds.s3.amazonaws.com/hrrr.20180625/conus/hrrr.t01z.wrfsfcf01.grib2\n"
     ]
    },
    {
     "name": "stderr",
     "output_type": "stream",
     "text": [
      " 24%|██▎       | 385/1631 [6:32:49<25:48:04, 74.55s/it]"
     ]
    },
    {
     "name": "stdout",
     "output_type": "stream",
     "text": [
      "https://noaa-hrrr-bdp-pds.s3.amazonaws.com/hrrr.20180716/conus/hrrr.t01z.wrfsfcf01.grib2\n"
     ]
    },
    {
     "name": "stderr",
     "output_type": "stream",
     "text": [
      " 24%|██▎       | 386/1631 [6:34:53<30:58:38, 89.57s/it]"
     ]
    },
    {
     "name": "stdout",
     "output_type": "stream",
     "text": [
      "https://noaa-hrrr-bdp-pds.s3.amazonaws.com/hrrr.20210830/conus/hrrr.t01z.wrfsfcf01.grib2\n"
     ]
    },
    {
     "name": "stderr",
     "output_type": "stream",
     "text": [
      " 24%|██▎       | 387/1631 [6:36:57<34:28:25, 99.76s/it]"
     ]
    },
    {
     "name": "stdout",
     "output_type": "stream",
     "text": [
      "https://noaa-hrrr-bdp-pds.s3.amazonaws.com/hrrr.20190722/conus/hrrr.t01z.wrfsfcf01.grib2\n"
     ]
    },
    {
     "name": "stderr",
     "output_type": "stream",
     "text": [
      " 24%|██▍       | 388/1631 [6:38:11<31:49:07, 92.15s/it]"
     ]
    },
    {
     "name": "stdout",
     "output_type": "stream",
     "text": [
      "https://noaa-hrrr-bdp-pds.s3.amazonaws.com/hrrr.20200519/conus/hrrr.t01z.wrfsfcf01.grib2\n"
     ]
    },
    {
     "name": "stderr",
     "output_type": "stream",
     "text": [
      " 24%|██▍       | 389/1631 [6:39:46<32:04:34, 92.97s/it]"
     ]
    },
    {
     "name": "stdout",
     "output_type": "stream",
     "text": [
      "https://noaa-hrrr-bdp-pds.s3.amazonaws.com/hrrr.20190618/conus/hrrr.t01z.wrfsfcf01.grib2\n"
     ]
    },
    {
     "name": "stderr",
     "output_type": "stream",
     "text": [
      " 24%|██▍       | 390/1631 [6:41:18<31:54:41, 92.57s/it]"
     ]
    },
    {
     "name": "stdout",
     "output_type": "stream",
     "text": [
      "https://noaa-hrrr-bdp-pds.s3.amazonaws.com/hrrr.20180816/conus/hrrr.t01z.wrfsfcf01.grib2\n"
     ]
    },
    {
     "name": "stderr",
     "output_type": "stream",
     "text": [
      " 24%|██▍       | 391/1631 [6:42:25<29:19:32, 85.14s/it]"
     ]
    },
    {
     "name": "stdout",
     "output_type": "stream",
     "text": [
      "https://noaa-hrrr-bdp-pds.s3.amazonaws.com/hrrr.20210127/conus/hrrr.t01z.wrfsfcf01.grib2\n"
     ]
    },
    {
     "name": "stderr",
     "output_type": "stream",
     "text": [
      " 24%|██▍       | 392/1631 [6:43:38<28:03:03, 81.50s/it]"
     ]
    },
    {
     "name": "stdout",
     "output_type": "stream",
     "text": [
      "https://noaa-hrrr-bdp-pds.s3.amazonaws.com/hrrr.20170705/conus/hrrr.t01z.wrfsfcf01.grib2\n"
     ]
    },
    {
     "name": "stderr",
     "output_type": "stream",
     "text": [
      " 24%|██▍       | 393/1631 [6:44:41<26:05:31, 75.87s/it]"
     ]
    },
    {
     "name": "stdout",
     "output_type": "stream",
     "text": [
      "https://noaa-hrrr-bdp-pds.s3.amazonaws.com/hrrr.20210520/conus/hrrr.t01z.wrfsfcf01.grib2\n"
     ]
    },
    {
     "name": "stderr",
     "output_type": "stream",
     "text": [
      " 24%|██▍       | 394/1631 [6:45:44<24:45:02, 72.03s/it]"
     ]
    },
    {
     "name": "stdout",
     "output_type": "stream",
     "text": [
      "https://noaa-hrrr-bdp-pds.s3.amazonaws.com/hrrr.20200922/conus/hrrr.t01z.wrfsfcf01.grib2\n"
     ]
    },
    {
     "name": "stderr",
     "output_type": "stream",
     "text": [
      " 24%|██▍       | 395/1631 [6:46:37<22:42:40, 66.15s/it]"
     ]
    },
    {
     "name": "stdout",
     "output_type": "stream",
     "text": [
      "https://noaa-hrrr-bdp-pds.s3.amazonaws.com/hrrr.20200212/conus/hrrr.t01z.wrfsfcf01.grib2\n"
     ]
    },
    {
     "name": "stderr",
     "output_type": "stream",
     "text": [
      " 24%|██▍       | 396/1631 [6:47:09<19:11:02, 55.92s/it]"
     ]
    },
    {
     "name": "stdout",
     "output_type": "stream",
     "text": [
      "https://noaa-hrrr-bdp-pds.s3.amazonaws.com/hrrr.20170928/conus/hrrr.t01z.wrfsfcf01.grib2\n"
     ]
    },
    {
     "name": "stderr",
     "output_type": "stream",
     "text": [
      " 24%|██▍       | 397/1631 [6:48:17<20:25:39, 59.59s/it]"
     ]
    },
    {
     "name": "stdout",
     "output_type": "stream",
     "text": [
      "https://noaa-hrrr-bdp-pds.s3.amazonaws.com/hrrr.20140327/conus/hrrr.t01z.wrfsfcf01.grib2\n"
     ]
    },
    {
     "name": "stderr",
     "output_type": "stream",
     "text": [
      " 24%|██▍       | 398/1631 [6:48:18<14:23:11, 42.00s/it]"
     ]
    },
    {
     "name": "stdout",
     "output_type": "stream",
     "text": [
      "https://noaa-hrrr-bdp-pds.s3.amazonaws.com/hrrr.20170831/conus/hrrr.t01z.wrfsfcf01.grib2\n"
     ]
    },
    {
     "name": "stderr",
     "output_type": "stream",
     "text": [
      " 24%|██▍       | 399/1631 [6:49:21<16:31:52, 48.31s/it]"
     ]
    },
    {
     "name": "stdout",
     "output_type": "stream",
     "text": [
      "https://noaa-hrrr-bdp-pds.s3.amazonaws.com/hrrr.20140827/conus/hrrr.t01z.wrfsfcf01.grib2\n"
     ]
    },
    {
     "name": "stderr",
     "output_type": "stream",
     "text": [
      " 25%|██▍       | 400/1631 [6:49:22<11:39:36, 34.10s/it]"
     ]
    },
    {
     "name": "stdout",
     "output_type": "stream",
     "text": [
      "https://noaa-hrrr-bdp-pds.s3.amazonaws.com/hrrr.20201022/conus/hrrr.t01z.wrfsfcf01.grib2\n"
     ]
    },
    {
     "name": "stderr",
     "output_type": "stream",
     "text": [
      " 25%|██▍       | 401/1631 [6:51:11<19:19:24, 56.56s/it]"
     ]
    },
    {
     "name": "stdout",
     "output_type": "stream",
     "text": [
      "https://noaa-hrrr-bdp-pds.s3.amazonaws.com/hrrr.20211202/conus/hrrr.t01z.wrfsfcf01.grib2\n"
     ]
    },
    {
     "name": "stderr",
     "output_type": "stream",
     "text": [
      " 25%|██▍       | 402/1631 [6:52:57<24:23:58, 71.47s/it]"
     ]
    },
    {
     "name": "stdout",
     "output_type": "stream",
     "text": [
      "https://noaa-hrrr-bdp-pds.s3.amazonaws.com/hrrr.20140602/conus/hrrr.t01z.wrfsfcf01.grib2\n"
     ]
    },
    {
     "name": "stderr",
     "output_type": "stream",
     "text": [
      " 25%|██▍       | 403/1631 [6:52:58<17:09:53, 50.32s/it]"
     ]
    },
    {
     "name": "stdout",
     "output_type": "stream",
     "text": [
      "https://noaa-hrrr-bdp-pds.s3.amazonaws.com/hrrr.20170730/conus/hrrr.t01z.wrfsfcf01.grib2\n"
     ]
    },
    {
     "name": "stderr",
     "output_type": "stream",
     "text": [
      " 25%|██▍       | 404/1631 [6:53:32<15:30:54, 45.52s/it]"
     ]
    },
    {
     "name": "stdout",
     "output_type": "stream",
     "text": [
      "https://noaa-hrrr-bdp-pds.s3.amazonaws.com/hrrr.20170911/conus/hrrr.t01z.wrfsfcf01.grib2\n"
     ]
    },
    {
     "name": "stderr",
     "output_type": "stream",
     "text": [
      " 25%|██▍       | 405/1631 [6:54:44<18:08:24, 53.27s/it]"
     ]
    },
    {
     "name": "stdout",
     "output_type": "stream",
     "text": [
      "https://noaa-hrrr-bdp-pds.s3.amazonaws.com/hrrr.20190417/conus/hrrr.t01z.wrfsfcf01.grib2\n"
     ]
    },
    {
     "name": "stderr",
     "output_type": "stream",
     "text": [
      " 25%|██▍       | 406/1631 [6:55:54<19:51:26, 58.36s/it]"
     ]
    },
    {
     "name": "stdout",
     "output_type": "stream",
     "text": [
      "https://noaa-hrrr-bdp-pds.s3.amazonaws.com/hrrr.20210317/conus/hrrr.t01z.wrfsfcf01.grib2\n"
     ]
    },
    {
     "name": "stderr",
     "output_type": "stream",
     "text": [
      " 25%|██▍       | 407/1631 [6:57:46<25:19:13, 74.47s/it]"
     ]
    },
    {
     "name": "stdout",
     "output_type": "stream",
     "text": [
      "https://noaa-hrrr-bdp-pds.s3.amazonaws.com/hrrr.20180501/conus/hrrr.t01z.wrfsfcf01.grib2\n"
     ]
    },
    {
     "name": "stderr",
     "output_type": "stream",
     "text": [
      " 25%|██▌       | 408/1631 [6:58:59<25:06:51, 73.93s/it]"
     ]
    },
    {
     "name": "stdout",
     "output_type": "stream",
     "text": [
      "https://noaa-hrrr-bdp-pds.s3.amazonaws.com/hrrr.20200929/conus/hrrr.t01z.wrfsfcf01.grib2\n"
     ]
    },
    {
     "name": "stderr",
     "output_type": "stream",
     "text": [
      " 25%|██▌       | 409/1631 [7:00:01<23:54:19, 70.43s/it]"
     ]
    },
    {
     "name": "stdout",
     "output_type": "stream",
     "text": [
      "https://noaa-hrrr-bdp-pds.s3.amazonaws.com/hrrr.20160509/conus/hrrr.t01z.wrfsfcf01.grib2\n"
     ]
    },
    {
     "name": "stderr",
     "output_type": "stream",
     "text": [
      " 25%|██▌       | 410/1631 [7:02:15<30:22:10, 89.54s/it]"
     ]
    },
    {
     "name": "stdout",
     "output_type": "stream",
     "text": [
      "https://noaa-hrrr-bdp-pds.s3.amazonaws.com/hrrr.20191104/conus/hrrr.t01z.wrfsfcf01.grib2\n"
     ]
    },
    {
     "name": "stderr",
     "output_type": "stream",
     "text": [
      " 25%|██▌       | 411/1631 [7:02:58<25:38:02, 75.64s/it]"
     ]
    },
    {
     "name": "stdout",
     "output_type": "stream",
     "text": [
      "https://noaa-hrrr-bdp-pds.s3.amazonaws.com/hrrr.20180823/conus/hrrr.t01z.wrfsfcf01.grib2\n"
     ]
    },
    {
     "name": "stderr",
     "output_type": "stream",
     "text": [
      " 25%|██▌       | 412/1631 [7:02:59<18:01:37, 53.24s/it]"
     ]
    },
    {
     "name": "stdout",
     "output_type": "stream",
     "text": [
      "https://noaa-hrrr-bdp-pds.s3.amazonaws.com/hrrr.20200604/conus/hrrr.t01z.wrfsfcf01.grib2\n"
     ]
    },
    {
     "name": "stderr",
     "output_type": "stream",
     "text": [
      " 25%|██▌       | 413/1631 [7:03:40<16:46:35, 49.59s/it]"
     ]
    },
    {
     "name": "stdout",
     "output_type": "stream",
     "text": [
      "https://noaa-hrrr-bdp-pds.s3.amazonaws.com/hrrr.20180926/conus/hrrr.t01z.wrfsfcf01.grib2\n"
     ]
    },
    {
     "name": "stderr",
     "output_type": "stream",
     "text": [
      " 25%|██▌       | 414/1631 [7:04:31<16:50:54, 49.84s/it]"
     ]
    },
    {
     "name": "stdout",
     "output_type": "stream",
     "text": [
      "https://noaa-hrrr-bdp-pds.s3.amazonaws.com/hrrr.20201209/conus/hrrr.t01z.wrfsfcf01.grib2\n"
     ]
    },
    {
     "name": "stderr",
     "output_type": "stream",
     "text": [
      " 25%|██▌       | 415/1631 [7:06:00<20:47:40, 61.56s/it]"
     ]
    },
    {
     "name": "stdout",
     "output_type": "stream",
     "text": [
      "https://noaa-hrrr-bdp-pds.s3.amazonaws.com/hrrr.20160620/conus/hrrr.t01z.wrfsfcf01.grib2\n"
     ]
    },
    {
     "name": "stderr",
     "output_type": "stream",
     "text": [
      " 26%|██▌       | 416/1631 [7:06:37<18:17:48, 54.21s/it]"
     ]
    },
    {
     "name": "stdout",
     "output_type": "stream",
     "text": [
      "https://noaa-hrrr-bdp-pds.s3.amazonaws.com/hrrr.20140918/conus/hrrr.t01z.wrfsfcf01.grib2\n"
     ]
    },
    {
     "name": "stderr",
     "output_type": "stream",
     "text": [
      " 26%|██▌       | 417/1631 [7:06:38<12:53:33, 38.23s/it]"
     ]
    },
    {
     "name": "stdout",
     "output_type": "stream",
     "text": [
      "https://noaa-hrrr-bdp-pds.s3.amazonaws.com/hrrr.20131210/conus/hrrr.t01z.wrfsfcf01.grib2\n"
     ]
    },
    {
     "name": "stderr",
     "output_type": "stream",
     "text": [
      " 26%|██▌       | 418/1631 [7:06:39<9:06:38, 27.04s/it] "
     ]
    },
    {
     "name": "stdout",
     "output_type": "stream",
     "text": [
      "https://noaa-hrrr-bdp-pds.s3.amazonaws.com/hrrr.20180510/conus/hrrr.t01z.wrfsfcf01.grib2\n"
     ]
    },
    {
     "name": "stderr",
     "output_type": "stream",
     "text": [
      " 26%|██▌       | 419/1631 [7:07:12<9:47:57, 29.11s/it]"
     ]
    },
    {
     "name": "stdout",
     "output_type": "stream",
     "text": [
      "https://noaa-hrrr-bdp-pds.s3.amazonaws.com/hrrr.20170326/conus/hrrr.t01z.wrfsfcf01.grib2\n"
     ]
    },
    {
     "name": "stderr",
     "output_type": "stream",
     "text": [
      " 26%|██▌       | 420/1631 [7:07:45<10:06:47, 30.06s/it]"
     ]
    },
    {
     "name": "stdout",
     "output_type": "stream",
     "text": [
      "https://noaa-hrrr-bdp-pds.s3.amazonaws.com/hrrr.20170608/conus/hrrr.t01z.wrfsfcf01.grib2\n"
     ]
    },
    {
     "name": "stderr",
     "output_type": "stream",
     "text": [
      " 26%|██▌       | 421/1631 [7:09:00<14:37:23, 43.51s/it]"
     ]
    },
    {
     "name": "stdout",
     "output_type": "stream",
     "text": [
      "https://noaa-hrrr-bdp-pds.s3.amazonaws.com/hrrr.20210929/conus/hrrr.t01z.wrfsfcf01.grib2\n"
     ]
    },
    {
     "name": "stderr",
     "output_type": "stream",
     "text": [
      " 26%|██▌       | 422/1631 [7:10:49<21:12:45, 63.16s/it]"
     ]
    },
    {
     "name": "stdout",
     "output_type": "stream",
     "text": [
      "https://noaa-hrrr-bdp-pds.s3.amazonaws.com/hrrr.20190820/conus/hrrr.t01z.wrfsfcf01.grib2\n"
     ]
    },
    {
     "name": "stderr",
     "output_type": "stream",
     "text": [
      " 26%|██▌       | 423/1631 [7:12:16<23:36:16, 70.35s/it]"
     ]
    },
    {
     "name": "stdout",
     "output_type": "stream",
     "text": [
      "https://noaa-hrrr-bdp-pds.s3.amazonaws.com/hrrr.20130417/conus/hrrr.t01z.wrfsfcf01.grib2\n"
     ]
    },
    {
     "name": "stderr",
     "output_type": "stream",
     "text": [
      " 26%|██▌       | 424/1631 [7:12:17<16:36:20, 49.53s/it]"
     ]
    },
    {
     "name": "stdout",
     "output_type": "stream",
     "text": [
      "https://noaa-hrrr-bdp-pds.s3.amazonaws.com/hrrr.20190708/conus/hrrr.t01z.wrfsfcf01.grib2\n"
     ]
    },
    {
     "name": "stderr",
     "output_type": "stream",
     "text": [
      " 26%|██▌       | 425/1631 [7:13:22<18:11:37, 54.31s/it]"
     ]
    },
    {
     "name": "stdout",
     "output_type": "stream",
     "text": [
      "https://noaa-hrrr-bdp-pds.s3.amazonaws.com/hrrr.20180711/conus/hrrr.t01z.wrfsfcf01.grib2\n"
     ]
    },
    {
     "name": "stderr",
     "output_type": "stream",
     "text": [
      " 26%|██▌       | 426/1631 [7:16:13<29:54:41, 89.36s/it]"
     ]
    },
    {
     "name": "stdout",
     "output_type": "stream",
     "text": [
      "https://noaa-hrrr-bdp-pds.s3.amazonaws.com/hrrr.20190730/conus/hrrr.t01z.wrfsfcf01.grib2\n"
     ]
    },
    {
     "name": "stderr",
     "output_type": "stream",
     "text": [
      " 26%|██▌       | 427/1631 [7:17:42<29:50:40, 89.24s/it]"
     ]
    },
    {
     "name": "stdout",
     "output_type": "stream",
     "text": [
      "https://noaa-hrrr-bdp-pds.s3.amazonaws.com/hrrr.20190619/conus/hrrr.t01z.wrfsfcf01.grib2\n"
     ]
    },
    {
     "name": "stderr",
     "output_type": "stream",
     "text": [
      " 26%|██▌       | 428/1631 [7:19:22<30:52:34, 92.40s/it]"
     ]
    },
    {
     "name": "stdout",
     "output_type": "stream",
     "text": [
      "https://noaa-hrrr-bdp-pds.s3.amazonaws.com/hrrr.20180123/conus/hrrr.t01z.wrfsfcf01.grib2\n"
     ]
    },
    {
     "name": "stderr",
     "output_type": "stream",
     "text": [
      " 26%|██▋       | 429/1631 [7:19:54<24:49:50, 74.37s/it]"
     ]
    },
    {
     "name": "stdout",
     "output_type": "stream",
     "text": [
      "https://noaa-hrrr-bdp-pds.s3.amazonaws.com/hrrr.20200824/conus/hrrr.t01z.wrfsfcf01.grib2\n"
     ]
    },
    {
     "name": "stderr",
     "output_type": "stream",
     "text": [
      " 26%|██▋       | 430/1631 [7:20:58<23:41:36, 71.02s/it]"
     ]
    },
    {
     "name": "stdout",
     "output_type": "stream",
     "text": [
      "https://noaa-hrrr-bdp-pds.s3.amazonaws.com/hrrr.20170919/conus/hrrr.t01z.wrfsfcf01.grib2\n"
     ]
    },
    {
     "name": "stderr",
     "output_type": "stream",
     "text": [
      " 26%|██▋       | 431/1631 [7:22:14<24:14:54, 72.75s/it]"
     ]
    },
    {
     "name": "stdout",
     "output_type": "stream",
     "text": [
      "https://noaa-hrrr-bdp-pds.s3.amazonaws.com/hrrr.20180517/conus/hrrr.t01z.wrfsfcf01.grib2\n"
     ]
    },
    {
     "name": "stderr",
     "output_type": "stream",
     "text": [
      " 26%|██▋       | 432/1631 [7:23:01<21:34:28, 64.78s/it]"
     ]
    },
    {
     "name": "stdout",
     "output_type": "stream",
     "text": [
      "https://noaa-hrrr-bdp-pds.s3.amazonaws.com/hrrr.20160615/conus/hrrr.t01z.wrfsfcf01.grib2\n"
     ]
    },
    {
     "name": "stderr",
     "output_type": "stream",
     "text": [
      " 27%|██▋       | 433/1631 [7:23:53<20:17:33, 60.98s/it]"
     ]
    },
    {
     "name": "stdout",
     "output_type": "stream",
     "text": [
      "https://noaa-hrrr-bdp-pds.s3.amazonaws.com/hrrr.20200618/conus/hrrr.t01z.wrfsfcf01.grib2\n"
     ]
    },
    {
     "name": "stderr",
     "output_type": "stream",
     "text": [
      " 27%|██▋       | 434/1631 [7:24:32<18:07:16, 54.50s/it]"
     ]
    },
    {
     "name": "stdout",
     "output_type": "stream",
     "text": [
      "https://noaa-hrrr-bdp-pds.s3.amazonaws.com/hrrr.20190807/conus/hrrr.t01z.wrfsfcf01.grib2\n"
     ]
    },
    {
     "name": "stderr",
     "output_type": "stream",
     "text": [
      " 27%|██▋       | 435/1631 [7:25:42<19:37:01, 59.05s/it]"
     ]
    },
    {
     "name": "stdout",
     "output_type": "stream",
     "text": [
      "https://noaa-hrrr-bdp-pds.s3.amazonaws.com/hrrr.20211228/conus/hrrr.t01z.wrfsfcf01.grib2\n"
     ]
    },
    {
     "name": "stderr",
     "output_type": "stream",
     "text": [
      " 27%|██▋       | 436/1631 [7:26:33<18:47:07, 56.59s/it]"
     ]
    },
    {
     "name": "stdout",
     "output_type": "stream",
     "text": [
      "https://noaa-hrrr-bdp-pds.s3.amazonaws.com/hrrr.20151201/conus/hrrr.t01z.wrfsfcf01.grib2\n"
     ]
    },
    {
     "name": "stderr",
     "output_type": "stream",
     "text": [
      " 27%|██▋       | 437/1631 [7:27:04<16:18:27, 49.17s/it]"
     ]
    },
    {
     "name": "stdout",
     "output_type": "stream",
     "text": [
      "https://noaa-hrrr-bdp-pds.s3.amazonaws.com/hrrr.20140115/conus/hrrr.t01z.wrfsfcf01.grib2\n"
     ]
    },
    {
     "name": "stderr",
     "output_type": "stream",
     "text": [
      " 27%|██▋       | 438/1631 [7:27:05<11:30:04, 34.71s/it]"
     ]
    },
    {
     "name": "stdout",
     "output_type": "stream",
     "text": [
      "https://noaa-hrrr-bdp-pds.s3.amazonaws.com/hrrr.20150728/conus/hrrr.t01z.wrfsfcf01.grib2\n"
     ]
    },
    {
     "name": "stderr",
     "output_type": "stream",
     "text": [
      " 27%|██▋       | 439/1631 [7:27:38<11:18:08, 34.13s/it]"
     ]
    },
    {
     "name": "stdout",
     "output_type": "stream",
     "text": [
      "https://noaa-hrrr-bdp-pds.s3.amazonaws.com/hrrr.20170731/conus/hrrr.t01z.wrfsfcf01.grib2\n"
     ]
    },
    {
     "name": "stderr",
     "output_type": "stream",
     "text": [
      " 27%|██▋       | 440/1631 [7:29:15<17:32:05, 53.00s/it]"
     ]
    },
    {
     "name": "stdout",
     "output_type": "stream",
     "text": [
      "https://noaa-hrrr-bdp-pds.s3.amazonaws.com/hrrr.20190925/conus/hrrr.t01z.wrfsfcf01.grib2\n"
     ]
    },
    {
     "name": "stderr",
     "output_type": "stream",
     "text": [
      " 27%|██▋       | 441/1631 [7:30:29<19:32:59, 59.14s/it]"
     ]
    },
    {
     "name": "stdout",
     "output_type": "stream",
     "text": [
      "https://noaa-hrrr-bdp-pds.s3.amazonaws.com/hrrr.20200521/conus/hrrr.t01z.wrfsfcf01.grib2\n"
     ]
    },
    {
     "name": "stderr",
     "output_type": "stream",
     "text": [
      " 27%|██▋       | 442/1631 [7:31:02<17:00:59, 51.52s/it]"
     ]
    },
    {
     "name": "stdout",
     "output_type": "stream",
     "text": [
      "https://noaa-hrrr-bdp-pds.s3.amazonaws.com/hrrr.20191106/conus/hrrr.t01z.wrfsfcf01.grib2\n"
     ]
    },
    {
     "name": "stderr",
     "output_type": "stream",
     "text": [
      " 27%|██▋       | 443/1631 [7:31:42<15:47:31, 47.86s/it]"
     ]
    },
    {
     "name": "stdout",
     "output_type": "stream",
     "text": [
      "https://noaa-hrrr-bdp-pds.s3.amazonaws.com/hrrr.20140909/conus/hrrr.t01z.wrfsfcf01.grib2\n"
     ]
    },
    {
     "name": "stderr",
     "output_type": "stream",
     "text": [
      " 27%|██▋       | 444/1631 [7:32:25<15:19:40, 46.49s/it]"
     ]
    },
    {
     "name": "stdout",
     "output_type": "stream",
     "text": [
      "https://noaa-hrrr-bdp-pds.s3.amazonaws.com/hrrr.20140211/conus/hrrr.t01z.wrfsfcf01.grib2\n"
     ]
    },
    {
     "name": "stderr",
     "output_type": "stream",
     "text": [
      " 27%|██▋       | 445/1631 [7:32:26<10:48:49, 32.82s/it]"
     ]
    },
    {
     "name": "stdout",
     "output_type": "stream",
     "text": [
      "https://noaa-hrrr-bdp-pds.s3.amazonaws.com/hrrr.20160830/conus/hrrr.t01z.wrfsfcf01.grib2\n"
     ]
    },
    {
     "name": "stderr",
     "output_type": "stream",
     "text": [
      " 27%|██▋       | 446/1631 [7:33:37<14:37:39, 44.44s/it]"
     ]
    },
    {
     "name": "stdout",
     "output_type": "stream",
     "text": [
      "https://noaa-hrrr-bdp-pds.s3.amazonaws.com/hrrr.20211214/conus/hrrr.t01z.wrfsfcf01.grib2\n"
     ]
    },
    {
     "name": "stderr",
     "output_type": "stream",
     "text": [
      " 27%|██▋       | 447/1631 [7:35:09<19:16:47, 58.62s/it]"
     ]
    },
    {
     "name": "stdout",
     "output_type": "stream",
     "text": [
      "https://noaa-hrrr-bdp-pds.s3.amazonaws.com/hrrr.20200123/conus/hrrr.t01z.wrfsfcf01.grib2\n"
     ]
    },
    {
     "name": "stderr",
     "output_type": "stream",
     "text": [
      " 27%|██▋       | 448/1631 [7:35:43<16:51:01, 51.28s/it]"
     ]
    },
    {
     "name": "stdout",
     "output_type": "stream",
     "text": [
      "https://noaa-hrrr-bdp-pds.s3.amazonaws.com/hrrr.20190611/conus/hrrr.t01z.wrfsfcf01.grib2\n"
     ]
    },
    {
     "name": "stderr",
     "output_type": "stream",
     "text": [
      " 28%|██▊       | 449/1631 [7:39:01<31:14:45, 95.17s/it]"
     ]
    },
    {
     "name": "stdout",
     "output_type": "stream",
     "text": [
      "https://noaa-hrrr-bdp-pds.s3.amazonaws.com/hrrr.20160217/conus/hrrr.t01z.wrfsfcf01.grib2\n"
     ]
    },
    {
     "name": "stderr",
     "output_type": "stream",
     "text": [
      " 28%|██▊       | 450/1631 [7:39:55<27:10:42, 82.85s/it]"
     ]
    },
    {
     "name": "stdout",
     "output_type": "stream",
     "text": [
      "https://noaa-hrrr-bdp-pds.s3.amazonaws.com/hrrr.20190827/conus/hrrr.t01z.wrfsfcf01.grib2\n"
     ]
    },
    {
     "name": "stderr",
     "output_type": "stream",
     "text": [
      " 28%|██▊       | 451/1631 [7:41:29<28:15:39, 86.22s/it]"
     ]
    },
    {
     "name": "stdout",
     "output_type": "stream",
     "text": [
      "https://noaa-hrrr-bdp-pds.s3.amazonaws.com/hrrr.20140423/conus/hrrr.t01z.wrfsfcf01.grib2\n"
     ]
    },
    {
     "name": "stderr",
     "output_type": "stream",
     "text": [
      " 28%|██▊       | 452/1631 [7:41:30<19:51:32, 60.64s/it]"
     ]
    },
    {
     "name": "stdout",
     "output_type": "stream",
     "text": [
      "https://noaa-hrrr-bdp-pds.s3.amazonaws.com/hrrr.20160725/conus/hrrr.t01z.wrfsfcf01.grib2\n"
     ]
    },
    {
     "name": "stderr",
     "output_type": "stream",
     "text": [
      " 28%|██▊       | 453/1631 [7:42:24<19:08:53, 58.52s/it]"
     ]
    },
    {
     "name": "stdout",
     "output_type": "stream",
     "text": [
      "https://noaa-hrrr-bdp-pds.s3.amazonaws.com/hrrr.20160307/conus/hrrr.t01z.wrfsfcf01.grib2\n"
     ]
    },
    {
     "name": "stderr",
     "output_type": "stream",
     "text": [
      " 28%|██▊       | 454/1631 [7:43:15<18:27:58, 56.48s/it]"
     ]
    },
    {
     "name": "stdout",
     "output_type": "stream",
     "text": [
      "https://noaa-hrrr-bdp-pds.s3.amazonaws.com/hrrr.20201015/conus/hrrr.t01z.wrfsfcf01.grib2\n"
     ]
    },
    {
     "name": "stderr",
     "output_type": "stream",
     "text": [
      " 28%|██▊       | 455/1631 [7:43:50<16:18:59, 49.95s/it]"
     ]
    },
    {
     "name": "stdout",
     "output_type": "stream",
     "text": [
      "https://noaa-hrrr-bdp-pds.s3.amazonaws.com/hrrr.20160711/conus/hrrr.t01z.wrfsfcf01.grib2\n"
     ]
    },
    {
     "name": "stderr",
     "output_type": "stream",
     "text": [
      " 28%|██▊       | 456/1631 [7:44:37<16:03:26, 49.20s/it]"
     ]
    },
    {
     "name": "stdout",
     "output_type": "stream",
     "text": [
      "https://noaa-hrrr-bdp-pds.s3.amazonaws.com/hrrr.20200707/conus/hrrr.t01z.wrfsfcf01.grib2\n"
     ]
    },
    {
     "name": "stderr",
     "output_type": "stream",
     "text": [
      " 28%|██▊       | 457/1631 [7:45:12<14:36:36, 44.80s/it]"
     ]
    },
    {
     "name": "stdout",
     "output_type": "stream",
     "text": [
      "https://noaa-hrrr-bdp-pds.s3.amazonaws.com/hrrr.20190729/conus/hrrr.t01z.wrfsfcf01.grib2\n"
     ]
    },
    {
     "name": "stderr",
     "output_type": "stream",
     "text": [
      " 28%|██▊       | 458/1631 [7:46:38<18:34:32, 57.01s/it]"
     ]
    },
    {
     "name": "stdout",
     "output_type": "stream",
     "text": [
      "https://noaa-hrrr-bdp-pds.s3.amazonaws.com/hrrr.20150725/conus/hrrr.t01z.wrfsfcf01.grib2\n"
     ]
    },
    {
     "name": "stderr",
     "output_type": "stream",
     "text": [
      " 28%|██▊       | 459/1631 [7:47:07<15:50:18, 48.65s/it]"
     ]
    },
    {
     "name": "stdout",
     "output_type": "stream",
     "text": [
      "https://noaa-hrrr-bdp-pds.s3.amazonaws.com/hrrr.20130327/conus/hrrr.t01z.wrfsfcf01.grib2\n"
     ]
    },
    {
     "name": "stderr",
     "output_type": "stream",
     "text": [
      " 28%|██▊       | 460/1631 [7:47:08<11:10:01, 34.33s/it]"
     ]
    },
    {
     "name": "stdout",
     "output_type": "stream",
     "text": [
      "https://noaa-hrrr-bdp-pds.s3.amazonaws.com/hrrr.20190206/conus/hrrr.t01z.wrfsfcf01.grib2\n"
     ]
    },
    {
     "name": "stderr",
     "output_type": "stream",
     "text": [
      " 28%|██▊       | 461/1631 [7:47:50<11:54:25, 36.64s/it]"
     ]
    },
    {
     "name": "stdout",
     "output_type": "stream",
     "text": [
      "https://noaa-hrrr-bdp-pds.s3.amazonaws.com/hrrr.20180213/conus/hrrr.t01z.wrfsfcf01.grib2\n"
     ]
    },
    {
     "name": "stderr",
     "output_type": "stream",
     "text": [
      " 28%|██▊       | 462/1631 [7:48:44<13:35:34, 41.86s/it]"
     ]
    },
    {
     "name": "stdout",
     "output_type": "stream",
     "text": [
      "https://noaa-hrrr-bdp-pds.s3.amazonaws.com/hrrr.20150814/conus/hrrr.t01z.wrfsfcf01.grib2\n"
     ]
    },
    {
     "name": "stderr",
     "output_type": "stream",
     "text": [
      " 28%|██▊       | 463/1631 [7:49:11<12:10:22, 37.52s/it]"
     ]
    },
    {
     "name": "stdout",
     "output_type": "stream",
     "text": [
      "https://noaa-hrrr-bdp-pds.s3.amazonaws.com/hrrr.20210309/conus/hrrr.t01z.wrfsfcf01.grib2\n"
     ]
    },
    {
     "name": "stderr",
     "output_type": "stream",
     "text": [
      " 28%|██▊       | 464/1631 [7:49:56<12:53:11, 39.75s/it]"
     ]
    },
    {
     "name": "stdout",
     "output_type": "stream",
     "text": [
      "https://noaa-hrrr-bdp-pds.s3.amazonaws.com/hrrr.20170711/conus/hrrr.t01z.wrfsfcf01.grib2\n"
     ]
    },
    {
     "name": "stderr",
     "output_type": "stream",
     "text": [
      " 29%|██▊       | 465/1631 [7:51:31<18:14:46, 56.34s/it]"
     ]
    },
    {
     "name": "stdout",
     "output_type": "stream",
     "text": [
      "https://noaa-hrrr-bdp-pds.s3.amazonaws.com/hrrr.20130813/conus/hrrr.t01z.wrfsfcf01.grib2\n"
     ]
    },
    {
     "name": "stderr",
     "output_type": "stream",
     "text": [
      " 29%|██▊       | 466/1631 [7:51:32<12:51:11, 39.72s/it]"
     ]
    },
    {
     "name": "stdout",
     "output_type": "stream",
     "text": [
      "https://noaa-hrrr-bdp-pds.s3.amazonaws.com/hrrr.20160511/conus/hrrr.t01z.wrfsfcf01.grib2\n"
     ]
    },
    {
     "name": "stderr",
     "output_type": "stream",
     "text": [
      " 29%|██▊       | 467/1631 [7:53:03<17:46:57, 55.00s/it]"
     ]
    },
    {
     "name": "stdout",
     "output_type": "stream",
     "text": [
      "https://noaa-hrrr-bdp-pds.s3.amazonaws.com/hrrr.20160721/conus/hrrr.t01z.wrfsfcf01.grib2\n"
     ]
    },
    {
     "name": "stderr",
     "output_type": "stream",
     "text": [
      " 29%|██▊       | 468/1631 [7:53:35<15:35:48, 48.28s/it]"
     ]
    },
    {
     "name": "stdout",
     "output_type": "stream",
     "text": [
      "https://noaa-hrrr-bdp-pds.s3.amazonaws.com/hrrr.20160913/conus/hrrr.t01z.wrfsfcf01.grib2\n"
     ]
    },
    {
     "name": "stderr",
     "output_type": "stream",
     "text": [
      " 29%|██▉       | 469/1631 [7:53:36<10:59:57, 34.08s/it]"
     ]
    },
    {
     "name": "stdout",
     "output_type": "stream",
     "text": [
      "https://noaa-hrrr-bdp-pds.s3.amazonaws.com/hrrr.20170418/conus/hrrr.t01z.wrfsfcf01.grib2\n"
     ]
    },
    {
     "name": "stderr",
     "output_type": "stream",
     "text": [
      " 29%|██▉       | 470/1631 [7:56:20<23:30:19, 72.89s/it]"
     ]
    },
    {
     "name": "stdout",
     "output_type": "stream",
     "text": [
      "https://noaa-hrrr-bdp-pds.s3.amazonaws.com/hrrr.20170613/conus/hrrr.t01z.wrfsfcf01.grib2\n"
     ]
    },
    {
     "name": "stderr",
     "output_type": "stream",
     "text": [
      " 29%|██▉       | 471/1631 [7:59:00<31:57:08, 99.16s/it]"
     ]
    },
    {
     "name": "stdout",
     "output_type": "stream",
     "text": [
      "https://noaa-hrrr-bdp-pds.s3.amazonaws.com/hrrr.20170314/conus/hrrr.t01z.wrfsfcf01.grib2\n"
     ]
    },
    {
     "name": "stderr",
     "output_type": "stream",
     "text": [
      " 29%|██▉       | 472/1631 [8:00:25<30:31:49, 94.83s/it]"
     ]
    },
    {
     "name": "stdout",
     "output_type": "stream",
     "text": [
      "https://noaa-hrrr-bdp-pds.s3.amazonaws.com/hrrr.20130725/conus/hrrr.t01z.wrfsfcf01.grib2\n"
     ]
    },
    {
     "name": "stderr",
     "output_type": "stream",
     "text": [
      " 29%|██▉       | 473/1631 [8:00:26<21:27:39, 66.72s/it]"
     ]
    },
    {
     "name": "stdout",
     "output_type": "stream",
     "text": [
      "https://noaa-hrrr-bdp-pds.s3.amazonaws.com/hrrr.20190929/conus/hrrr.t01z.wrfsfcf01.grib2\n"
     ]
    },
    {
     "name": "stderr",
     "output_type": "stream",
     "text": [
      " 29%|██▉       | 474/1631 [8:01:15<19:44:47, 61.44s/it]"
     ]
    },
    {
     "name": "stdout",
     "output_type": "stream",
     "text": [
      "https://noaa-hrrr-bdp-pds.s3.amazonaws.com/hrrr.20200716/conus/hrrr.t01z.wrfsfcf01.grib2\n"
     ]
    },
    {
     "name": "stderr",
     "output_type": "stream",
     "text": [
      " 29%|██▉       | 475/1631 [8:01:46<16:46:21, 52.23s/it]"
     ]
    },
    {
     "name": "stdout",
     "output_type": "stream",
     "text": [
      "https://noaa-hrrr-bdp-pds.s3.amazonaws.com/hrrr.20180426/conus/hrrr.t01z.wrfsfcf01.grib2\n"
     ]
    },
    {
     "name": "stderr",
     "output_type": "stream",
     "text": [
      " 29%|██▉       | 476/1631 [8:02:22<15:10:43, 47.31s/it]"
     ]
    },
    {
     "name": "stdout",
     "output_type": "stream",
     "text": [
      "https://noaa-hrrr-bdp-pds.s3.amazonaws.com/hrrr.20150211/conus/hrrr.t01z.wrfsfcf01.grib2\n"
     ]
    },
    {
     "name": "stderr",
     "output_type": "stream",
     "text": [
      " 29%|██▉       | 477/1631 [8:04:07<20:45:33, 64.76s/it]"
     ]
    },
    {
     "name": "stdout",
     "output_type": "stream",
     "text": [
      "https://noaa-hrrr-bdp-pds.s3.amazonaws.com/hrrr.20190911/conus/hrrr.t01z.wrfsfcf01.grib2\n"
     ]
    },
    {
     "name": "stderr",
     "output_type": "stream",
     "text": [
      " 29%|██▉       | 478/1631 [8:05:05<20:07:01, 62.81s/it]"
     ]
    },
    {
     "name": "stdout",
     "output_type": "stream",
     "text": [
      "https://noaa-hrrr-bdp-pds.s3.amazonaws.com/hrrr.20190917/conus/hrrr.t01z.wrfsfcf01.grib2\n"
     ]
    },
    {
     "name": "stderr",
     "output_type": "stream",
     "text": [
      " 29%|██▉       | 479/1631 [8:07:39<28:51:55, 90.20s/it]"
     ]
    },
    {
     "name": "stdout",
     "output_type": "stream",
     "text": [
      "https://noaa-hrrr-bdp-pds.s3.amazonaws.com/hrrr.20140513/conus/hrrr.t01z.wrfsfcf01.grib2\n"
     ]
    },
    {
     "name": "stderr",
     "output_type": "stream",
     "text": [
      " 29%|██▉       | 480/1631 [8:07:40<20:16:35, 63.42s/it]"
     ]
    },
    {
     "name": "stdout",
     "output_type": "stream",
     "text": [
      "https://noaa-hrrr-bdp-pds.s3.amazonaws.com/hrrr.20170918/conus/hrrr.t01z.wrfsfcf01.grib2\n"
     ]
    },
    {
     "name": "stderr",
     "output_type": "stream",
     "text": [
      " 29%|██▉       | 481/1631 [8:09:09<22:40:17, 70.97s/it]"
     ]
    },
    {
     "name": "stdout",
     "output_type": "stream",
     "text": [
      "https://noaa-hrrr-bdp-pds.s3.amazonaws.com/hrrr.20170822/conus/hrrr.t01z.wrfsfcf01.grib2\n"
     ]
    },
    {
     "name": "stderr",
     "output_type": "stream",
     "text": [
      " 30%|██▉       | 482/1631 [8:10:49<25:26:01, 79.69s/it]"
     ]
    },
    {
     "name": "stdout",
     "output_type": "stream",
     "text": [
      "https://noaa-hrrr-bdp-pds.s3.amazonaws.com/hrrr.20170816/conus/hrrr.t01z.wrfsfcf01.grib2\n"
     ]
    },
    {
     "name": "stderr",
     "output_type": "stream",
     "text": [
      " 30%|██▉       | 483/1631 [8:13:54<35:29:19, 111.29s/it]"
     ]
    },
    {
     "name": "stdout",
     "output_type": "stream",
     "text": [
      "https://noaa-hrrr-bdp-pds.s3.amazonaws.com/hrrr.20140702/conus/hrrr.t01z.wrfsfcf01.grib2\n"
     ]
    },
    {
     "name": "stderr",
     "output_type": "stream",
     "text": [
      " 30%|██▉       | 484/1631 [8:13:55<24:54:37, 78.18s/it] "
     ]
    },
    {
     "name": "stdout",
     "output_type": "stream",
     "text": [
      "https://noaa-hrrr-bdp-pds.s3.amazonaws.com/hrrr.20210310/conus/hrrr.t01z.wrfsfcf01.grib2\n"
     ]
    },
    {
     "name": "stderr",
     "output_type": "stream",
     "text": [
      " 30%|██▉       | 485/1631 [8:15:06<24:12:02, 76.02s/it]"
     ]
    },
    {
     "name": "stdout",
     "output_type": "stream",
     "text": [
      "https://noaa-hrrr-bdp-pds.s3.amazonaws.com/hrrr.20130723/conus/hrrr.t01z.wrfsfcf01.grib2\n"
     ]
    },
    {
     "name": "stderr",
     "output_type": "stream",
     "text": [
      " 30%|██▉       | 486/1631 [8:15:07<17:01:59, 53.55s/it]"
     ]
    },
    {
     "name": "stdout",
     "output_type": "stream",
     "text": [
      "https://noaa-hrrr-bdp-pds.s3.amazonaws.com/hrrr.20160912/conus/hrrr.t01z.wrfsfcf01.grib2\n"
     ]
    },
    {
     "name": "stderr",
     "output_type": "stream",
     "text": [
      " 30%|██▉       | 487/1631 [8:15:56<16:32:35, 52.06s/it]"
     ]
    },
    {
     "name": "stdout",
     "output_type": "stream",
     "text": [
      "https://noaa-hrrr-bdp-pds.s3.amazonaws.com/hrrr.20210706/conus/hrrr.t01z.wrfsfcf01.grib2\n"
     ]
    },
    {
     "name": "stderr",
     "output_type": "stream",
     "text": [
      " 30%|██▉       | 488/1631 [8:16:50<16:45:53, 52.80s/it]"
     ]
    },
    {
     "name": "stdout",
     "output_type": "stream",
     "text": [
      "https://noaa-hrrr-bdp-pds.s3.amazonaws.com/hrrr.20181205/conus/hrrr.t01z.wrfsfcf01.grib2\n"
     ]
    },
    {
     "name": "stderr",
     "output_type": "stream",
     "text": [
      " 30%|██▉       | 489/1631 [8:17:33<15:48:20, 49.82s/it]"
     ]
    },
    {
     "name": "stdout",
     "output_type": "stream",
     "text": [
      "https://noaa-hrrr-bdp-pds.s3.amazonaws.com/hrrr.20190514/conus/hrrr.t01z.wrfsfcf01.grib2\n"
     ]
    },
    {
     "name": "stderr",
     "output_type": "stream",
     "text": [
      " 30%|███       | 490/1631 [8:19:22<21:24:51, 67.56s/it]"
     ]
    },
    {
     "name": "stdout",
     "output_type": "stream",
     "text": [
      "https://noaa-hrrr-bdp-pds.s3.amazonaws.com/hrrr.20140410/conus/hrrr.t01z.wrfsfcf01.grib2\n"
     ]
    },
    {
     "name": "stderr",
     "output_type": "stream",
     "text": [
      " 30%|███       | 491/1631 [8:19:23<15:04:02, 47.58s/it]"
     ]
    },
    {
     "name": "stdout",
     "output_type": "stream",
     "text": [
      "https://noaa-hrrr-bdp-pds.s3.amazonaws.com/hrrr.20170809/conus/hrrr.t01z.wrfsfcf01.grib2\n"
     ]
    },
    {
     "name": "stderr",
     "output_type": "stream",
     "text": [
      " 30%|███       | 492/1631 [8:21:24<22:04:06, 69.75s/it]"
     ]
    },
    {
     "name": "stdout",
     "output_type": "stream",
     "text": [
      "https://noaa-hrrr-bdp-pds.s3.amazonaws.com/hrrr.20150722/conus/hrrr.t01z.wrfsfcf01.grib2\n"
     ]
    },
    {
     "name": "stderr",
     "output_type": "stream",
     "text": [
      " 30%|███       | 493/1631 [8:22:00<18:49:22, 59.54s/it]"
     ]
    },
    {
     "name": "stdout",
     "output_type": "stream",
     "text": [
      "https://noaa-hrrr-bdp-pds.s3.amazonaws.com/hrrr.20200414/conus/hrrr.t01z.wrfsfcf01.grib2\n"
     ]
    },
    {
     "name": "stderr",
     "output_type": "stream",
     "text": [
      " 30%|███       | 494/1631 [8:22:58<18:40:40, 59.14s/it]"
     ]
    },
    {
     "name": "stdout",
     "output_type": "stream",
     "text": [
      "https://noaa-hrrr-bdp-pds.s3.amazonaws.com/hrrr.20160809/conus/hrrr.t01z.wrfsfcf01.grib2\n"
     ]
    },
    {
     "name": "stderr",
     "output_type": "stream",
     "text": [
      " 30%|███       | 495/1631 [8:22:59<13:09:12, 41.68s/it]"
     ]
    },
    {
     "name": "stdout",
     "output_type": "stream",
     "text": [
      "https://noaa-hrrr-bdp-pds.s3.amazonaws.com/hrrr.20130612/conus/hrrr.t01z.wrfsfcf01.grib2\n"
     ]
    },
    {
     "name": "stderr",
     "output_type": "stream",
     "text": [
      " 30%|███       | 496/1631 [8:23:00<9:17:24, 29.47s/it] "
     ]
    },
    {
     "name": "stdout",
     "output_type": "stream",
     "text": [
      "https://noaa-hrrr-bdp-pds.s3.amazonaws.com/hrrr.20210617/conus/hrrr.t01z.wrfsfcf01.grib2\n"
     ]
    },
    {
     "name": "stderr",
     "output_type": "stream",
     "text": [
      " 30%|███       | 497/1631 [8:26:19<25:14:50, 80.15s/it]"
     ]
    },
    {
     "name": "stdout",
     "output_type": "stream",
     "text": [
      "https://noaa-hrrr-bdp-pds.s3.amazonaws.com/hrrr.20160209/conus/hrrr.t01z.wrfsfcf01.grib2\n"
     ]
    },
    {
     "name": "stderr",
     "output_type": "stream",
     "text": [
      " 31%|███       | 498/1631 [8:26:55<21:07:05, 67.10s/it]"
     ]
    },
    {
     "name": "stdout",
     "output_type": "stream",
     "text": [
      "https://noaa-hrrr-bdp-pds.s3.amazonaws.com/hrrr.20130916/conus/hrrr.t01z.wrfsfcf01.grib2\n"
     ]
    },
    {
     "name": "stderr",
     "output_type": "stream",
     "text": [
      " 31%|███       | 499/1631 [8:26:56<14:51:36, 47.26s/it]"
     ]
    },
    {
     "name": "stdout",
     "output_type": "stream",
     "text": [
      "https://noaa-hrrr-bdp-pds.s3.amazonaws.com/hrrr.20170620/conus/hrrr.t01z.wrfsfcf01.grib2\n"
     ]
    },
    {
     "name": "stderr",
     "output_type": "stream",
     "text": [
      " 31%|███       | 500/1631 [8:29:13<23:17:34, 74.14s/it]"
     ]
    },
    {
     "name": "stdout",
     "output_type": "stream",
     "text": [
      "https://noaa-hrrr-bdp-pds.s3.amazonaws.com/hrrr.20141230/conus/hrrr.t01z.wrfsfcf01.grib2\n"
     ]
    },
    {
     "name": "stderr",
     "output_type": "stream",
     "text": [
      " 31%|███       | 501/1631 [8:30:52<25:37:25, 81.63s/it]"
     ]
    },
    {
     "name": "stdout",
     "output_type": "stream",
     "text": [
      "https://noaa-hrrr-bdp-pds.s3.amazonaws.com/hrrr.20170621/conus/hrrr.t01z.wrfsfcf01.grib2\n"
     ]
    },
    {
     "name": "stderr",
     "output_type": "stream",
     "text": [
      " 31%|███       | 502/1631 [8:33:29<32:39:36, 104.14s/it]"
     ]
    },
    {
     "name": "stdout",
     "output_type": "stream",
     "text": [
      "https://noaa-hrrr-bdp-pds.s3.amazonaws.com/hrrr.20181023/conus/hrrr.t01z.wrfsfcf01.grib2\n"
     ]
    },
    {
     "name": "stderr",
     "output_type": "stream",
     "text": [
      " 31%|███       | 503/1631 [8:34:01<25:49:07, 82.40s/it] "
     ]
    },
    {
     "name": "stdout",
     "output_type": "stream",
     "text": [
      "https://noaa-hrrr-bdp-pds.s3.amazonaws.com/hrrr.20160202/conus/hrrr.t01z.wrfsfcf01.grib2\n"
     ]
    },
    {
     "name": "stderr",
     "output_type": "stream",
     "text": [
      " 31%|███       | 504/1631 [8:34:26<20:24:44, 65.20s/it]"
     ]
    },
    {
     "name": "stdout",
     "output_type": "stream",
     "text": [
      "https://noaa-hrrr-bdp-pds.s3.amazonaws.com/hrrr.20130911/conus/hrrr.t01z.wrfsfcf01.grib2\n"
     ]
    },
    {
     "name": "stderr",
     "output_type": "stream",
     "text": [
      " 31%|███       | 505/1631 [8:34:27<14:21:55, 45.93s/it]"
     ]
    },
    {
     "name": "stdout",
     "output_type": "stream",
     "text": [
      "https://noaa-hrrr-bdp-pds.s3.amazonaws.com/hrrr.20180712/conus/hrrr.t01z.wrfsfcf01.grib2\n"
     ]
    },
    {
     "name": "stderr",
     "output_type": "stream",
     "text": [
      " 31%|███       | 506/1631 [8:35:15<14:32:22, 46.53s/it]"
     ]
    },
    {
     "name": "stdout",
     "output_type": "stream",
     "text": [
      "https://noaa-hrrr-bdp-pds.s3.amazonaws.com/hrrr.20170119/conus/hrrr.t01z.wrfsfcf01.grib2\n"
     ]
    },
    {
     "name": "stderr",
     "output_type": "stream",
     "text": [
      " 31%|███       | 507/1631 [8:35:55<13:58:33, 44.76s/it]"
     ]
    },
    {
     "name": "stdout",
     "output_type": "stream",
     "text": [
      "https://noaa-hrrr-bdp-pds.s3.amazonaws.com/hrrr.20170914/conus/hrrr.t01z.wrfsfcf01.grib2\n"
     ]
    },
    {
     "name": "stderr",
     "output_type": "stream",
     "text": [
      " 31%|███       | 508/1631 [8:36:59<15:45:31, 50.52s/it]"
     ]
    },
    {
     "name": "stdout",
     "output_type": "stream",
     "text": [
      "https://noaa-hrrr-bdp-pds.s3.amazonaws.com/hrrr.20170727/conus/hrrr.t01z.wrfsfcf01.grib2\n"
     ]
    },
    {
     "name": "stderr",
     "output_type": "stream",
     "text": [
      " 31%|███       | 509/1631 [8:38:36<20:02:54, 64.33s/it]"
     ]
    },
    {
     "name": "stdout",
     "output_type": "stream",
     "text": [
      "https://noaa-hrrr-bdp-pds.s3.amazonaws.com/hrrr.20130904/conus/hrrr.t01z.wrfsfcf01.grib2\n"
     ]
    },
    {
     "name": "stderr",
     "output_type": "stream",
     "text": [
      " 31%|███▏      | 510/1631 [8:38:37<14:06:39, 45.32s/it]"
     ]
    },
    {
     "name": "stdout",
     "output_type": "stream",
     "text": [
      "https://noaa-hrrr-bdp-pds.s3.amazonaws.com/hrrr.20140617/conus/hrrr.t01z.wrfsfcf01.grib2\n"
     ]
    },
    {
     "name": "stderr",
     "output_type": "stream",
     "text": [
      " 31%|███▏      | 511/1631 [8:38:38<9:57:35, 32.01s/it] "
     ]
    },
    {
     "name": "stdout",
     "output_type": "stream",
     "text": [
      "https://noaa-hrrr-bdp-pds.s3.amazonaws.com/hrrr.20180703/conus/hrrr.t01z.wrfsfcf01.grib2\n"
     ]
    },
    {
     "name": "stderr",
     "output_type": "stream",
     "text": [
      " 31%|███▏      | 512/1631 [8:39:17<10:40:02, 34.32s/it]"
     ]
    },
    {
     "name": "stdout",
     "output_type": "stream",
     "text": [
      "https://noaa-hrrr-bdp-pds.s3.amazonaws.com/hrrr.20210224/conus/hrrr.t01z.wrfsfcf01.grib2\n"
     ]
    },
    {
     "name": "stderr",
     "output_type": "stream",
     "text": [
      " 31%|███▏      | 513/1631 [8:39:52<10:42:59, 34.51s/it]"
     ]
    },
    {
     "name": "stdout",
     "output_type": "stream",
     "text": [
      "https://noaa-hrrr-bdp-pds.s3.amazonaws.com/hrrr.20140226/conus/hrrr.t01z.wrfsfcf01.grib2\n"
     ]
    },
    {
     "name": "stderr",
     "output_type": "stream",
     "text": [
      " 32%|███▏      | 514/1631 [8:39:53<7:35:00, 24.44s/it] "
     ]
    },
    {
     "name": "stdout",
     "output_type": "stream",
     "text": [
      "https://noaa-hrrr-bdp-pds.s3.amazonaws.com/hrrr.20130313/conus/hrrr.t01z.wrfsfcf01.grib2\n"
     ]
    },
    {
     "name": "stderr",
     "output_type": "stream",
     "text": [
      " 32%|███▏      | 515/1631 [8:39:54<5:23:29, 17.39s/it]"
     ]
    },
    {
     "name": "stdout",
     "output_type": "stream",
     "text": [
      "https://noaa-hrrr-bdp-pds.s3.amazonaws.com/hrrr.20210413/conus/hrrr.t01z.wrfsfcf01.grib2\n"
     ]
    },
    {
     "name": "stderr",
     "output_type": "stream",
     "text": [
      " 32%|███▏      | 516/1631 [8:41:08<10:36:22, 34.24s/it]"
     ]
    },
    {
     "name": "stdout",
     "output_type": "stream",
     "text": [
      "https://noaa-hrrr-bdp-pds.s3.amazonaws.com/hrrr.20141216/conus/hrrr.t01z.wrfsfcf01.grib2\n"
     ]
    },
    {
     "name": "stderr",
     "output_type": "stream",
     "text": [
      " 32%|███▏      | 517/1631 [8:41:09<7:30:31, 24.27s/it] "
     ]
    },
    {
     "name": "stdout",
     "output_type": "stream",
     "text": [
      "https://noaa-hrrr-bdp-pds.s3.amazonaws.com/hrrr.20210719/conus/hrrr.t01z.wrfsfcf01.grib2\n"
     ]
    },
    {
     "name": "stderr",
     "output_type": "stream",
     "text": [
      " 32%|███▏      | 518/1631 [8:42:14<11:17:20, 36.51s/it]"
     ]
    },
    {
     "name": "stdout",
     "output_type": "stream",
     "text": [
      "https://noaa-hrrr-bdp-pds.s3.amazonaws.com/hrrr.20180515/conus/hrrr.t01z.wrfsfcf01.grib2\n"
     ]
    },
    {
     "name": "stderr",
     "output_type": "stream",
     "text": [
      " 32%|███▏      | 519/1631 [8:43:31<15:00:01, 48.56s/it]"
     ]
    },
    {
     "name": "stdout",
     "output_type": "stream",
     "text": [
      "https://noaa-hrrr-bdp-pds.s3.amazonaws.com/hrrr.20190918/conus/hrrr.t01z.wrfsfcf01.grib2\n"
     ]
    },
    {
     "name": "stderr",
     "output_type": "stream",
     "text": [
      " 32%|███▏      | 520/1631 [8:44:46<17:28:33, 56.63s/it]"
     ]
    },
    {
     "name": "stdout",
     "output_type": "stream",
     "text": [
      "https://noaa-hrrr-bdp-pds.s3.amazonaws.com/hrrr.20150615/conus/hrrr.t01z.wrfsfcf01.grib2\n"
     ]
    },
    {
     "name": "stderr",
     "output_type": "stream",
     "text": [
      " 32%|███▏      | 521/1631 [8:45:28<16:07:55, 52.32s/it]"
     ]
    },
    {
     "name": "stdout",
     "output_type": "stream",
     "text": [
      "https://noaa-hrrr-bdp-pds.s3.amazonaws.com/hrrr.20180814/conus/hrrr.t01z.wrfsfcf01.grib2\n"
     ]
    },
    {
     "name": "stderr",
     "output_type": "stream",
     "text": [
      " 32%|███▏      | 522/1631 [8:46:46<18:25:28, 59.81s/it]"
     ]
    },
    {
     "name": "stdout",
     "output_type": "stream",
     "text": [
      "https://noaa-hrrr-bdp-pds.s3.amazonaws.com/hrrr.20180821/conus/hrrr.t01z.wrfsfcf01.grib2\n"
     ]
    },
    {
     "name": "stderr",
     "output_type": "stream",
     "text": [
      " 32%|███▏      | 523/1631 [8:47:47<18:35:09, 60.39s/it]"
     ]
    },
    {
     "name": "stdout",
     "output_type": "stream",
     "text": [
      "https://noaa-hrrr-bdp-pds.s3.amazonaws.com/hrrr.20150415/conus/hrrr.t01z.wrfsfcf01.grib2\n"
     ]
    },
    {
     "name": "stderr",
     "output_type": "stream",
     "text": [
      " 32%|███▏      | 524/1631 [8:48:24<16:22:46, 53.27s/it]"
     ]
    },
    {
     "name": "stdout",
     "output_type": "stream",
     "text": [
      "https://noaa-hrrr-bdp-pds.s3.amazonaws.com/hrrr.20150827/conus/hrrr.t01z.wrfsfcf01.grib2\n"
     ]
    },
    {
     "name": "stderr",
     "output_type": "stream",
     "text": [
      " 32%|███▏      | 525/1631 [8:48:51<13:56:21, 45.37s/it]"
     ]
    },
    {
     "name": "stdout",
     "output_type": "stream",
     "text": [
      "https://noaa-hrrr-bdp-pds.s3.amazonaws.com/hrrr.20131007/conus/hrrr.t01z.wrfsfcf01.grib2\n"
     ]
    },
    {
     "name": "stderr",
     "output_type": "stream",
     "text": [
      " 32%|███▏      | 526/1631 [8:48:52<9:50:05, 32.04s/it] "
     ]
    },
    {
     "name": "stdout",
     "output_type": "stream",
     "text": [
      "https://noaa-hrrr-bdp-pds.s3.amazonaws.com/hrrr.20201014/conus/hrrr.t01z.wrfsfcf01.grib2\n"
     ]
    },
    {
     "name": "stderr",
     "output_type": "stream",
     "text": [
      " 32%|███▏      | 527/1631 [8:49:40<11:18:07, 36.85s/it]"
     ]
    },
    {
     "name": "stdout",
     "output_type": "stream",
     "text": [
      "https://noaa-hrrr-bdp-pds.s3.amazonaws.com/hrrr.20151007/conus/hrrr.t01z.wrfsfcf01.grib2\n"
     ]
    },
    {
     "name": "stderr",
     "output_type": "stream",
     "text": [
      " 32%|███▏      | 528/1631 [8:50:11<10:44:55, 35.08s/it]"
     ]
    },
    {
     "name": "stdout",
     "output_type": "stream",
     "text": [
      "https://noaa-hrrr-bdp-pds.s3.amazonaws.com/hrrr.20180802/conus/hrrr.t01z.wrfsfcf01.grib2\n"
     ]
    },
    {
     "name": "stderr",
     "output_type": "stream",
     "text": [
      " 32%|███▏      | 529/1631 [8:50:58<11:51:43, 38.75s/it]"
     ]
    },
    {
     "name": "stdout",
     "output_type": "stream",
     "text": [
      "https://noaa-hrrr-bdp-pds.s3.amazonaws.com/hrrr.20200128/conus/hrrr.t01z.wrfsfcf01.grib2\n"
     ]
    },
    {
     "name": "stderr",
     "output_type": "stream",
     "text": [
      " 32%|███▏      | 530/1631 [8:52:04<14:22:13, 46.99s/it]"
     ]
    },
    {
     "name": "stdout",
     "output_type": "stream",
     "text": [
      "https://noaa-hrrr-bdp-pds.s3.amazonaws.com/hrrr.20200826/conus/hrrr.t01z.wrfsfcf01.grib2\n"
     ]
    },
    {
     "name": "stderr",
     "output_type": "stream",
     "text": [
      " 33%|███▎      | 531/1631 [8:53:02<15:18:53, 50.12s/it]"
     ]
    },
    {
     "name": "stdout",
     "output_type": "stream",
     "text": [
      "https://noaa-hrrr-bdp-pds.s3.amazonaws.com/hrrr.20180710/conus/hrrr.t01z.wrfsfcf01.grib2\n"
     ]
    },
    {
     "name": "stderr",
     "output_type": "stream",
     "text": [
      " 33%|███▎      | 532/1631 [8:54:14<17:16:51, 56.61s/it]"
     ]
    },
    {
     "name": "stdout",
     "output_type": "stream",
     "text": [
      "https://noaa-hrrr-bdp-pds.s3.amazonaws.com/hrrr.20200629/conus/hrrr.t01z.wrfsfcf01.grib2\n"
     ]
    },
    {
     "name": "stderr",
     "output_type": "stream",
     "text": [
      " 33%|███▎      | 533/1631 [8:55:02<16:29:05, 54.05s/it]"
     ]
    },
    {
     "name": "stdout",
     "output_type": "stream",
     "text": [
      "https://noaa-hrrr-bdp-pds.s3.amazonaws.com/hrrr.20130909/conus/hrrr.t01z.wrfsfcf01.grib2\n"
     ]
    },
    {
     "name": "stderr",
     "output_type": "stream",
     "text": [
      " 33%|███▎      | 534/1631 [8:55:03<11:36:53, 38.12s/it]"
     ]
    },
    {
     "name": "stdout",
     "output_type": "stream",
     "text": [
      "https://noaa-hrrr-bdp-pds.s3.amazonaws.com/hrrr.20170402/conus/hrrr.t01z.wrfsfcf01.grib2\n"
     ]
    },
    {
     "name": "stderr",
     "output_type": "stream",
     "text": [
      " 33%|███▎      | 535/1631 [8:55:39<11:25:49, 37.55s/it]"
     ]
    },
    {
     "name": "stdout",
     "output_type": "stream",
     "text": [
      "https://noaa-hrrr-bdp-pds.s3.amazonaws.com/hrrr.20180618/conus/hrrr.t01z.wrfsfcf01.grib2\n"
     ]
    },
    {
     "name": "stderr",
     "output_type": "stream",
     "text": [
      " 33%|███▎      | 536/1631 [8:56:28<12:29:32, 41.07s/it]"
     ]
    },
    {
     "name": "stdout",
     "output_type": "stream",
     "text": [
      "https://noaa-hrrr-bdp-pds.s3.amazonaws.com/hrrr.20191014/conus/hrrr.t01z.wrfsfcf01.grib2\n"
     ]
    },
    {
     "name": "stderr",
     "output_type": "stream",
     "text": [
      " 33%|███▎      | 537/1631 [8:57:08<12:20:35, 40.62s/it]"
     ]
    },
    {
     "name": "stdout",
     "output_type": "stream",
     "text": [
      "https://noaa-hrrr-bdp-pds.s3.amazonaws.com/hrrr.20190715/conus/hrrr.t01z.wrfsfcf01.grib2\n"
     ]
    },
    {
     "name": "stderr",
     "output_type": "stream",
     "text": [
      " 33%|███▎      | 538/1631 [8:58:14<14:42:07, 48.42s/it]"
     ]
    },
    {
     "name": "stdout",
     "output_type": "stream",
     "text": [
      "https://noaa-hrrr-bdp-pds.s3.amazonaws.com/hrrr.20210920/conus/hrrr.t01z.wrfsfcf01.grib2\n"
     ]
    },
    {
     "name": "stderr",
     "output_type": "stream",
     "text": [
      " 33%|███▎      | 539/1631 [8:59:06<14:58:21, 49.36s/it]"
     ]
    },
    {
     "name": "stdout",
     "output_type": "stream",
     "text": [
      "https://noaa-hrrr-bdp-pds.s3.amazonaws.com/hrrr.20190821/conus/hrrr.t01z.wrfsfcf01.grib2\n"
     ]
    },
    {
     "name": "stderr",
     "output_type": "stream",
     "text": [
      " 33%|███▎      | 540/1631 [9:00:18<17:01:48, 56.19s/it]"
     ]
    },
    {
     "name": "stdout",
     "output_type": "stream",
     "text": [
      "https://noaa-hrrr-bdp-pds.s3.amazonaws.com/hrrr.20160201/conus/hrrr.t01z.wrfsfcf01.grib2\n"
     ]
    },
    {
     "name": "stderr",
     "output_type": "stream",
     "text": [
      " 33%|███▎      | 541/1631 [9:00:46<14:28:59, 47.83s/it]"
     ]
    },
    {
     "name": "stdout",
     "output_type": "stream",
     "text": [
      "https://noaa-hrrr-bdp-pds.s3.amazonaws.com/hrrr.20160419/conus/hrrr.t01z.wrfsfcf01.grib2\n"
     ]
    },
    {
     "name": "stderr",
     "output_type": "stream",
     "text": [
      " 33%|███▎      | 542/1631 [9:01:41<15:03:45, 49.79s/it]"
     ]
    },
    {
     "name": "stdout",
     "output_type": "stream",
     "text": [
      "https://noaa-hrrr-bdp-pds.s3.amazonaws.com/hrrr.20140430/conus/hrrr.t01z.wrfsfcf01.grib2\n"
     ]
    },
    {
     "name": "stderr",
     "output_type": "stream",
     "text": [
      " 33%|███▎      | 543/1631 [9:01:42<10:37:11, 35.14s/it]"
     ]
    },
    {
     "name": "stdout",
     "output_type": "stream",
     "text": [
      "https://noaa-hrrr-bdp-pds.s3.amazonaws.com/hrrr.20150901/conus/hrrr.t01z.wrfsfcf01.grib2\n"
     ]
    },
    {
     "name": "stderr",
     "output_type": "stream",
     "text": [
      " 33%|███▎      | 544/1631 [9:02:25<11:20:24, 37.56s/it]"
     ]
    },
    {
     "name": "stdout",
     "output_type": "stream",
     "text": [
      "https://noaa-hrrr-bdp-pds.s3.amazonaws.com/hrrr.20141014/conus/hrrr.t01z.wrfsfcf01.grib2\n"
     ]
    },
    {
     "name": "stderr",
     "output_type": "stream",
     "text": [
      " 33%|███▎      | 545/1631 [9:03:06<11:39:40, 38.66s/it]"
     ]
    },
    {
     "name": "stdout",
     "output_type": "stream",
     "text": [
      "https://noaa-hrrr-bdp-pds.s3.amazonaws.com/hrrr.20150624/conus/hrrr.t01z.wrfsfcf01.grib2\n"
     ]
    },
    {
     "name": "stderr",
     "output_type": "stream",
     "text": [
      " 33%|███▎      | 546/1631 [9:03:34<10:40:54, 35.44s/it]"
     ]
    },
    {
     "name": "stdout",
     "output_type": "stream",
     "text": [
      "https://noaa-hrrr-bdp-pds.s3.amazonaws.com/hrrr.20170509/conus/hrrr.t01z.wrfsfcf01.grib2\n"
     ]
    },
    {
     "name": "stderr",
     "output_type": "stream",
     "text": [
      " 34%|███▎      | 547/1631 [9:04:54<14:43:25, 48.90s/it]"
     ]
    },
    {
     "name": "stdout",
     "output_type": "stream",
     "text": [
      "https://noaa-hrrr-bdp-pds.s3.amazonaws.com/hrrr.20170629/conus/hrrr.t01z.wrfsfcf01.grib2\n"
     ]
    },
    {
     "name": "stderr",
     "output_type": "stream",
     "text": [
      " 34%|███▎      | 548/1631 [9:05:42<14:35:50, 48.52s/it]"
     ]
    },
    {
     "name": "stdout",
     "output_type": "stream",
     "text": [
      "https://noaa-hrrr-bdp-pds.s3.amazonaws.com/hrrr.20170905/conus/hrrr.t01z.wrfsfcf01.grib2\n"
     ]
    },
    {
     "name": "stderr",
     "output_type": "stream",
     "text": [
      " 34%|███▎      | 549/1631 [9:07:00<17:14:39, 57.37s/it]"
     ]
    },
    {
     "name": "stdout",
     "output_type": "stream",
     "text": [
      "https://noaa-hrrr-bdp-pds.s3.amazonaws.com/hrrr.20210528/conus/hrrr.t01z.wrfsfcf01.grib2\n"
     ]
    },
    {
     "name": "stderr",
     "output_type": "stream",
     "text": [
      " 34%|███▎      | 550/1631 [9:07:35<15:11:50, 50.61s/it]"
     ]
    },
    {
     "name": "stdout",
     "output_type": "stream",
     "text": [
      "https://noaa-hrrr-bdp-pds.s3.amazonaws.com/hrrr.20200515/conus/hrrr.t01z.wrfsfcf01.grib2\n"
     ]
    },
    {
     "name": "stderr",
     "output_type": "stream",
     "text": [
      " 34%|███▍      | 551/1631 [9:08:35<16:04:18, 53.57s/it]"
     ]
    },
    {
     "name": "stdout",
     "output_type": "stream",
     "text": [
      "https://noaa-hrrr-bdp-pds.s3.amazonaws.com/hrrr.20190114/conus/hrrr.t01z.wrfsfcf01.grib2\n"
     ]
    },
    {
     "name": "stderr",
     "output_type": "stream",
     "text": [
      " 34%|███▍      | 552/1631 [9:09:03<13:45:53, 45.93s/it]"
     ]
    },
    {
     "name": "stdout",
     "output_type": "stream",
     "text": [
      "https://noaa-hrrr-bdp-pds.s3.amazonaws.com/hrrr.20171213/conus/hrrr.t01z.wrfsfcf01.grib2\n"
     ]
    },
    {
     "name": "stderr",
     "output_type": "stream",
     "text": [
      " 34%|███▍      | 553/1631 [9:09:54<14:12:26, 47.45s/it]"
     ]
    },
    {
     "name": "stdout",
     "output_type": "stream",
     "text": [
      "https://noaa-hrrr-bdp-pds.s3.amazonaws.com/hrrr.20190530/conus/hrrr.t01z.wrfsfcf01.grib2\n"
     ]
    },
    {
     "name": "stderr",
     "output_type": "stream",
     "text": [
      " 34%|███▍      | 554/1631 [9:10:36<13:41:02, 45.74s/it]"
     ]
    },
    {
     "name": "stdout",
     "output_type": "stream",
     "text": [
      "https://noaa-hrrr-bdp-pds.s3.amazonaws.com/hrrr.20130507/conus/hrrr.t01z.wrfsfcf01.grib2\n"
     ]
    },
    {
     "name": "stderr",
     "output_type": "stream",
     "text": [
      " 34%|███▍      | 555/1631 [9:10:37<9:39:15, 32.30s/it] "
     ]
    },
    {
     "name": "stdout",
     "output_type": "stream",
     "text": [
      "https://noaa-hrrr-bdp-pds.s3.amazonaws.com/hrrr.20210913/conus/hrrr.t01z.wrfsfcf01.grib2\n"
     ]
    },
    {
     "name": "stderr",
     "output_type": "stream",
     "text": [
      " 34%|███▍      | 556/1631 [9:12:22<16:08:10, 54.04s/it]"
     ]
    },
    {
     "name": "stdout",
     "output_type": "stream",
     "text": [
      "https://noaa-hrrr-bdp-pds.s3.amazonaws.com/hrrr.20210810/conus/hrrr.t01z.wrfsfcf01.grib2\n"
     ]
    },
    {
     "name": "stderr",
     "output_type": "stream",
     "text": [
      " 34%|███▍      | 557/1631 [9:13:53<19:27:04, 65.20s/it]"
     ]
    },
    {
     "name": "stdout",
     "output_type": "stream",
     "text": [
      "https://noaa-hrrr-bdp-pds.s3.amazonaws.com/hrrr.20170723/conus/hrrr.t01z.wrfsfcf01.grib2\n"
     ]
    },
    {
     "name": "stderr",
     "output_type": "stream",
     "text": [
      " 34%|███▍      | 558/1631 [9:14:30<16:54:18, 56.72s/it]"
     ]
    },
    {
     "name": "stdout",
     "output_type": "stream",
     "text": [
      "https://noaa-hrrr-bdp-pds.s3.amazonaws.com/hrrr.20150325/conus/hrrr.t01z.wrfsfcf01.grib2\n"
     ]
    },
    {
     "name": "stderr",
     "output_type": "stream",
     "text": [
      " 34%|███▍      | 559/1631 [9:15:12<15:36:15, 52.40s/it]"
     ]
    },
    {
     "name": "stdout",
     "output_type": "stream",
     "text": [
      "https://noaa-hrrr-bdp-pds.s3.amazonaws.com/hrrr.20180725/conus/hrrr.t01z.wrfsfcf01.grib2\n"
     ]
    },
    {
     "name": "stderr",
     "output_type": "stream",
     "text": [
      " 34%|███▍      | 560/1631 [9:16:30<17:53:10, 60.12s/it]"
     ]
    },
    {
     "name": "stdout",
     "output_type": "stream",
     "text": [
      "https://noaa-hrrr-bdp-pds.s3.amazonaws.com/hrrr.20190808/conus/hrrr.t01z.wrfsfcf01.grib2\n"
     ]
    },
    {
     "name": "stderr",
     "output_type": "stream",
     "text": [
      " 34%|███▍      | 561/1631 [9:17:34<18:08:55, 61.06s/it]"
     ]
    },
    {
     "name": "stdout",
     "output_type": "stream",
     "text": [
      "https://noaa-hrrr-bdp-pds.s3.amazonaws.com/hrrr.20170710/conus/hrrr.t01z.wrfsfcf01.grib2\n"
     ]
    },
    {
     "name": "stderr",
     "output_type": "stream",
     "text": [
      " 34%|███▍      | 562/1631 [9:18:56<20:02:52, 67.51s/it]"
     ]
    },
    {
     "name": "stdout",
     "output_type": "stream",
     "text": [
      "https://noaa-hrrr-bdp-pds.s3.amazonaws.com/hrrr.20130624/conus/hrrr.t01z.wrfsfcf01.grib2\n"
     ]
    },
    {
     "name": "stderr",
     "output_type": "stream",
     "text": [
      " 35%|███▍      | 563/1631 [9:18:57<14:06:23, 47.55s/it]"
     ]
    },
    {
     "name": "stdout",
     "output_type": "stream",
     "text": [
      "https://noaa-hrrr-bdp-pds.s3.amazonaws.com/hrrr.20190809/conus/hrrr.t01z.wrfsfcf01.grib2\n"
     ]
    },
    {
     "name": "stderr",
     "output_type": "stream",
     "text": [
      " 35%|███▍      | 564/1631 [9:19:49<14:29:25, 48.89s/it]"
     ]
    },
    {
     "name": "stdout",
     "output_type": "stream",
     "text": [
      "https://noaa-hrrr-bdp-pds.s3.amazonaws.com/hrrr.20130502/conus/hrrr.t01z.wrfsfcf01.grib2\n"
     ]
    },
    {
     "name": "stderr",
     "output_type": "stream",
     "text": [
      " 35%|███▍      | 565/1631 [9:19:50<10:13:18, 34.52s/it]"
     ]
    },
    {
     "name": "stdout",
     "output_type": "stream",
     "text": [
      "https://noaa-hrrr-bdp-pds.s3.amazonaws.com/hrrr.20170706/conus/hrrr.t01z.wrfsfcf01.grib2\n"
     ]
    },
    {
     "name": "stderr",
     "output_type": "stream",
     "text": [
      " 35%|███▍      | 566/1631 [9:20:55<12:54:28, 43.63s/it]"
     ]
    },
    {
     "name": "stdout",
     "output_type": "stream",
     "text": [
      "https://noaa-hrrr-bdp-pds.s3.amazonaws.com/hrrr.20200408/conus/hrrr.t01z.wrfsfcf01.grib2\n"
     ]
    },
    {
     "name": "stderr",
     "output_type": "stream",
     "text": [
      " 35%|███▍      | 567/1631 [9:21:25<11:42:23, 39.61s/it]"
     ]
    },
    {
     "name": "stdout",
     "output_type": "stream",
     "text": [
      "https://noaa-hrrr-bdp-pds.s3.amazonaws.com/hrrr.20190528/conus/hrrr.t01z.wrfsfcf01.grib2\n"
     ]
    },
    {
     "name": "stderr",
     "output_type": "stream",
     "text": [
      " 35%|███▍      | 568/1631 [9:22:46<15:21:17, 52.00s/it]"
     ]
    },
    {
     "name": "stdout",
     "output_type": "stream",
     "text": [
      "https://noaa-hrrr-bdp-pds.s3.amazonaws.com/hrrr.20130409/conus/hrrr.t01z.wrfsfcf01.grib2\n"
     ]
    },
    {
     "name": "stderr",
     "output_type": "stream",
     "text": [
      " 35%|███▍      | 569/1631 [9:22:47<10:49:19, 36.69s/it]"
     ]
    },
    {
     "name": "stdout",
     "output_type": "stream",
     "text": [
      "https://noaa-hrrr-bdp-pds.s3.amazonaws.com/hrrr.20210722/conus/hrrr.t01z.wrfsfcf01.grib2\n"
     ]
    },
    {
     "name": "stderr",
     "output_type": "stream",
     "text": [
      " 35%|███▍      | 570/1631 [9:24:19<15:40:15, 53.17s/it]"
     ]
    },
    {
     "name": "stdout",
     "output_type": "stream",
     "text": [
      "https://noaa-hrrr-bdp-pds.s3.amazonaws.com/hrrr.20180718/conus/hrrr.t01z.wrfsfcf01.grib2\n"
     ]
    },
    {
     "name": "stderr",
     "output_type": "stream",
     "text": [
      " 35%|███▌      | 571/1631 [9:25:06<15:07:23, 51.36s/it]"
     ]
    },
    {
     "name": "stdout",
     "output_type": "stream",
     "text": [
      "https://noaa-hrrr-bdp-pds.s3.amazonaws.com/hrrr.20190901/conus/hrrr.t01z.wrfsfcf01.grib2\n"
     ]
    },
    {
     "name": "stderr",
     "output_type": "stream",
     "text": [
      " 35%|███▌      | 572/1631 [9:26:39<18:47:56, 63.91s/it]"
     ]
    },
    {
     "name": "stdout",
     "output_type": "stream",
     "text": [
      "https://noaa-hrrr-bdp-pds.s3.amazonaws.com/hrrr.20170804/conus/hrrr.t01z.wrfsfcf01.grib2\n"
     ]
    },
    {
     "name": "stderr",
     "output_type": "stream",
     "text": [
      " 35%|███▌      | 573/1631 [9:27:28<17:25:02, 59.27s/it]"
     ]
    },
    {
     "name": "stdout",
     "output_type": "stream",
     "text": [
      "https://noaa-hrrr-bdp-pds.s3.amazonaws.com/hrrr.20170823/conus/hrrr.t01z.wrfsfcf01.grib2\n"
     ]
    },
    {
     "name": "stderr",
     "output_type": "stream",
     "text": [
      " 35%|███▌      | 574/1631 [9:27:29<12:15:56, 41.77s/it]"
     ]
    },
    {
     "name": "stdout",
     "output_type": "stream",
     "text": [
      "https://noaa-hrrr-bdp-pds.s3.amazonaws.com/hrrr.20210622/conus/hrrr.t01z.wrfsfcf01.grib2\n"
     ]
    },
    {
     "name": "stderr",
     "output_type": "stream",
     "text": [
      " 35%|███▌      | 575/1631 [9:28:03<11:37:24, 39.63s/it]"
     ]
    },
    {
     "name": "stdout",
     "output_type": "stream",
     "text": [
      "https://noaa-hrrr-bdp-pds.s3.amazonaws.com/hrrr.20170904/conus/hrrr.t01z.wrfsfcf01.grib2\n"
     ]
    },
    {
     "name": "stderr",
     "output_type": "stream",
     "text": [
      " 35%|███▌      | 576/1631 [9:28:04<8:12:45, 28.02s/it] "
     ]
    },
    {
     "name": "stdout",
     "output_type": "stream",
     "text": [
      "https://noaa-hrrr-bdp-pds.s3.amazonaws.com/hrrr.20210222/conus/hrrr.t01z.wrfsfcf01.grib2\n"
     ]
    },
    {
     "name": "stderr",
     "output_type": "stream",
     "text": [
      " 35%|███▌      | 577/1631 [9:28:40<8:56:02, 30.51s/it]"
     ]
    },
    {
     "name": "stdout",
     "output_type": "stream",
     "text": [
      "https://noaa-hrrr-bdp-pds.s3.amazonaws.com/hrrr.20180110/conus/hrrr.t01z.wrfsfcf01.grib2\n"
     ]
    },
    {
     "name": "stderr",
     "output_type": "stream",
     "text": [
      " 35%|███▌      | 578/1631 [9:30:34<16:11:22, 55.35s/it]"
     ]
    },
    {
     "name": "stdout",
     "output_type": "stream",
     "text": [
      "https://noaa-hrrr-bdp-pds.s3.amazonaws.com/hrrr.20200820/conus/hrrr.t01z.wrfsfcf01.grib2\n"
     ]
    },
    {
     "name": "stderr",
     "output_type": "stream",
     "text": [
      " 35%|███▌      | 579/1631 [9:31:39<17:00:19, 58.19s/it]"
     ]
    },
    {
     "name": "stdout",
     "output_type": "stream",
     "text": [
      "https://noaa-hrrr-bdp-pds.s3.amazonaws.com/hrrr.20170105/conus/hrrr.t01z.wrfsfcf01.grib2\n"
     ]
    },
    {
     "name": "stderr",
     "output_type": "stream",
     "text": [
      " 36%|███▌      | 580/1631 [9:31:40<11:58:31, 41.02s/it]"
     ]
    },
    {
     "name": "stdout",
     "output_type": "stream",
     "text": [
      "https://noaa-hrrr-bdp-pds.s3.amazonaws.com/hrrr.20170323/conus/hrrr.t01z.wrfsfcf01.grib2\n"
     ]
    },
    {
     "name": "stderr",
     "output_type": "stream",
     "text": [
      " 36%|███▌      | 581/1631 [9:32:10<10:59:53, 37.71s/it]"
     ]
    },
    {
     "name": "stdout",
     "output_type": "stream",
     "text": [
      "https://noaa-hrrr-bdp-pds.s3.amazonaws.com/hrrr.20170602/conus/hrrr.t01z.wrfsfcf01.grib2\n"
     ]
    },
    {
     "name": "stderr",
     "output_type": "stream",
     "text": [
      " 36%|███▌      | 582/1631 [9:32:44<10:43:31, 36.81s/it]"
     ]
    },
    {
     "name": "stdout",
     "output_type": "stream",
     "text": [
      "https://noaa-hrrr-bdp-pds.s3.amazonaws.com/hrrr.20150427/conus/hrrr.t01z.wrfsfcf01.grib2\n"
     ]
    },
    {
     "name": "stderr",
     "output_type": "stream",
     "text": [
      " 36%|███▌      | 583/1631 [9:33:16<10:17:33, 35.36s/it]"
     ]
    },
    {
     "name": "stdout",
     "output_type": "stream",
     "text": [
      "https://noaa-hrrr-bdp-pds.s3.amazonaws.com/hrrr.20210713/conus/hrrr.t01z.wrfsfcf01.grib2\n"
     ]
    },
    {
     "name": "stderr",
     "output_type": "stream",
     "text": [
      " 36%|███▌      | 584/1631 [9:35:44<20:05:45, 69.10s/it]"
     ]
    },
    {
     "name": "stdout",
     "output_type": "stream",
     "text": [
      "https://noaa-hrrr-bdp-pds.s3.amazonaws.com/hrrr.20140225/conus/hrrr.t01z.wrfsfcf01.grib2\n"
     ]
    },
    {
     "name": "stderr",
     "output_type": "stream",
     "text": [
      " 36%|███▌      | 585/1631 [9:35:45<14:08:13, 48.66s/it]"
     ]
    },
    {
     "name": "stdout",
     "output_type": "stream",
     "text": [
      "https://noaa-hrrr-bdp-pds.s3.amazonaws.com/hrrr.20180220/conus/hrrr.t01z.wrfsfcf01.grib2\n"
     ]
    },
    {
     "name": "stderr",
     "output_type": "stream",
     "text": [
      " 36%|███▌      | 586/1631 [9:36:39<14:34:56, 50.24s/it]"
     ]
    },
    {
     "name": "stdout",
     "output_type": "stream",
     "text": [
      "https://noaa-hrrr-bdp-pds.s3.amazonaws.com/hrrr.20171011/conus/hrrr.t01z.wrfsfcf01.grib2\n"
     ]
    },
    {
     "name": "stderr",
     "output_type": "stream",
     "text": [
      " 36%|███▌      | 587/1631 [9:37:16<13:26:03, 46.32s/it]"
     ]
    },
    {
     "name": "stdout",
     "output_type": "stream",
     "text": [
      "https://noaa-hrrr-bdp-pds.s3.amazonaws.com/hrrr.20150421/conus/hrrr.t01z.wrfsfcf01.grib2\n"
     ]
    },
    {
     "name": "stderr",
     "output_type": "stream",
     "text": [
      " 36%|███▌      | 588/1631 [9:37:59<13:08:45, 45.37s/it]"
     ]
    },
    {
     "name": "stdout",
     "output_type": "stream",
     "text": [
      "https://noaa-hrrr-bdp-pds.s3.amazonaws.com/hrrr.20180611/conus/hrrr.t01z.wrfsfcf01.grib2\n"
     ]
    },
    {
     "name": "stderr",
     "output_type": "stream",
     "text": [
      " 36%|███▌      | 589/1631 [9:39:44<18:14:45, 63.04s/it]"
     ]
    },
    {
     "name": "stdout",
     "output_type": "stream",
     "text": [
      "https://noaa-hrrr-bdp-pds.s3.amazonaws.com/hrrr.20210608/conus/hrrr.t01z.wrfsfcf01.grib2\n"
     ]
    },
    {
     "name": "stderr",
     "output_type": "stream",
     "text": [
      " 36%|███▌      | 590/1631 [9:40:32<16:59:12, 58.74s/it]"
     ]
    },
    {
     "name": "stdout",
     "output_type": "stream",
     "text": [
      "https://noaa-hrrr-bdp-pds.s3.amazonaws.com/hrrr.20171107/conus/hrrr.t01z.wrfsfcf01.grib2\n"
     ]
    },
    {
     "name": "stderr",
     "output_type": "stream",
     "text": [
      " 36%|███▌      | 591/1631 [9:41:06<14:48:04, 51.24s/it]"
     ]
    },
    {
     "name": "stdout",
     "output_type": "stream",
     "text": [
      "https://noaa-hrrr-bdp-pds.s3.amazonaws.com/hrrr.20171214/conus/hrrr.t01z.wrfsfcf01.grib2\n"
     ]
    },
    {
     "name": "stderr",
     "output_type": "stream",
     "text": [
      " 36%|███▋      | 592/1631 [9:41:42<13:29:16, 46.73s/it]"
     ]
    },
    {
     "name": "stdout",
     "output_type": "stream",
     "text": [
      "https://noaa-hrrr-bdp-pds.s3.amazonaws.com/hrrr.20210927/conus/hrrr.t01z.wrfsfcf01.grib2\n"
     ]
    },
    {
     "name": "stderr",
     "output_type": "stream",
     "text": [
      " 36%|███▋      | 593/1631 [9:42:40<14:26:48, 50.10s/it]"
     ]
    },
    {
     "name": "stdout",
     "output_type": "stream",
     "text": [
      "https://noaa-hrrr-bdp-pds.s3.amazonaws.com/hrrr.20140611/conus/hrrr.t01z.wrfsfcf01.grib2\n"
     ]
    },
    {
     "name": "stderr",
     "output_type": "stream",
     "text": [
      " 36%|███▋      | 594/1631 [9:42:41<10:11:08, 35.36s/it]"
     ]
    },
    {
     "name": "stdout",
     "output_type": "stream",
     "text": [
      "https://noaa-hrrr-bdp-pds.s3.amazonaws.com/hrrr.20161101/conus/hrrr.t01z.wrfsfcf01.grib2\n"
     ]
    },
    {
     "name": "stderr",
     "output_type": "stream",
     "text": [
      " 36%|███▋      | 595/1631 [9:43:37<11:55:38, 41.45s/it]"
     ]
    },
    {
     "name": "stdout",
     "output_type": "stream",
     "text": [
      "https://noaa-hrrr-bdp-pds.s3.amazonaws.com/hrrr.20150810/conus/hrrr.t01z.wrfsfcf01.grib2\n"
     ]
    },
    {
     "name": "stderr",
     "output_type": "stream",
     "text": [
      " 37%|███▋      | 596/1631 [9:44:19<12:01:02, 41.80s/it]"
     ]
    },
    {
     "name": "stdout",
     "output_type": "stream",
     "text": [
      "https://noaa-hrrr-bdp-pds.s3.amazonaws.com/hrrr.20170628/conus/hrrr.t01z.wrfsfcf01.grib2\n"
     ]
    },
    {
     "name": "stderr",
     "output_type": "stream",
     "text": [
      " 37%|███▋      | 597/1631 [9:44:20<8:29:06, 29.54s/it] "
     ]
    },
    {
     "name": "stdout",
     "output_type": "stream",
     "text": [
      "https://noaa-hrrr-bdp-pds.s3.amazonaws.com/hrrr.20190910/conus/hrrr.t01z.wrfsfcf01.grib2\n"
     ]
    },
    {
     "name": "stderr",
     "output_type": "stream",
     "text": [
      " 37%|███▋      | 598/1631 [9:45:42<12:57:36, 45.17s/it]"
     ]
    },
    {
     "name": "stdout",
     "output_type": "stream",
     "text": [
      "https://noaa-hrrr-bdp-pds.s3.amazonaws.com/hrrr.20180614/conus/hrrr.t01z.wrfsfcf01.grib2\n"
     ]
    },
    {
     "name": "stderr",
     "output_type": "stream",
     "text": [
      " 37%|███▋      | 599/1631 [9:46:37<13:49:50, 48.25s/it]"
     ]
    },
    {
     "name": "stdout",
     "output_type": "stream",
     "text": [
      "https://noaa-hrrr-bdp-pds.s3.amazonaws.com/hrrr.20211213/conus/hrrr.t01z.wrfsfcf01.grib2\n"
     ]
    },
    {
     "name": "stderr",
     "output_type": "stream",
     "text": [
      " 37%|███▋      | 600/1631 [9:47:24<13:40:20, 47.74s/it]"
     ]
    },
    {
     "name": "stdout",
     "output_type": "stream",
     "text": [
      "https://noaa-hrrr-bdp-pds.s3.amazonaws.com/hrrr.20180606/conus/hrrr.t01z.wrfsfcf01.grib2\n"
     ]
    },
    {
     "name": "stderr",
     "output_type": "stream",
     "text": [
      " 37%|███▋      | 601/1631 [9:48:15<13:55:35, 48.68s/it]"
     ]
    },
    {
     "name": "stdout",
     "output_type": "stream",
     "text": [
      "https://noaa-hrrr-bdp-pds.s3.amazonaws.com/hrrr.20190903/conus/hrrr.t01z.wrfsfcf01.grib2\n"
     ]
    },
    {
     "name": "stderr",
     "output_type": "stream",
     "text": [
      " 37%|███▋      | 602/1631 [9:48:58<13:24:58, 46.94s/it]"
     ]
    },
    {
     "name": "stdout",
     "output_type": "stream",
     "text": [
      "https://noaa-hrrr-bdp-pds.s3.amazonaws.com/hrrr.20150401/conus/hrrr.t01z.wrfsfcf01.grib2\n"
     ]
    },
    {
     "name": "stderr",
     "output_type": "stream",
     "text": [
      " 37%|███▋      | 603/1631 [9:49:31<12:15:54, 42.95s/it]"
     ]
    },
    {
     "name": "stdout",
     "output_type": "stream",
     "text": [
      "https://noaa-hrrr-bdp-pds.s3.amazonaws.com/hrrr.20180719/conus/hrrr.t01z.wrfsfcf01.grib2\n"
     ]
    },
    {
     "name": "stderr",
     "output_type": "stream",
     "text": [
      " 37%|███▋      | 604/1631 [9:50:49<15:11:33, 53.26s/it]"
     ]
    },
    {
     "name": "stdout",
     "output_type": "stream",
     "text": [
      "https://noaa-hrrr-bdp-pds.s3.amazonaws.com/hrrr.20130924/conus/hrrr.t01z.wrfsfcf01.grib2\n"
     ]
    },
    {
     "name": "stderr",
     "output_type": "stream",
     "text": [
      " 37%|███▋      | 605/1631 [9:50:50<10:42:17, 37.56s/it]"
     ]
    },
    {
     "name": "stdout",
     "output_type": "stream",
     "text": [
      "https://noaa-hrrr-bdp-pds.s3.amazonaws.com/hrrr.20190709/conus/hrrr.t01z.wrfsfcf01.grib2\n"
     ]
    },
    {
     "name": "stderr",
     "output_type": "stream",
     "text": [
      " 37%|███▋      | 606/1631 [9:52:30<16:02:25, 56.34s/it]"
     ]
    },
    {
     "name": "stdout",
     "output_type": "stream",
     "text": [
      "https://noaa-hrrr-bdp-pds.s3.amazonaws.com/hrrr.20191003/conus/hrrr.t01z.wrfsfcf01.grib2\n"
     ]
    },
    {
     "name": "stderr",
     "output_type": "stream",
     "text": [
      " 37%|███▋      | 607/1631 [9:53:15<15:02:28, 52.88s/it]"
     ]
    },
    {
     "name": "stdout",
     "output_type": "stream",
     "text": [
      "https://noaa-hrrr-bdp-pds.s3.amazonaws.com/hrrr.20150209/conus/hrrr.t01z.wrfsfcf01.grib2\n"
     ]
    },
    {
     "name": "stderr",
     "output_type": "stream",
     "text": [
      " 37%|███▋      | 608/1631 [9:53:55<13:56:57, 49.09s/it]"
     ]
    },
    {
     "name": "stdout",
     "output_type": "stream",
     "text": [
      "https://noaa-hrrr-bdp-pds.s3.amazonaws.com/hrrr.20190303/conus/hrrr.t01z.wrfsfcf01.grib2\n"
     ]
    },
    {
     "name": "stderr",
     "output_type": "stream",
     "text": [
      " 37%|███▋      | 609/1631 [9:54:41<13:40:12, 48.15s/it]"
     ]
    },
    {
     "name": "stdout",
     "output_type": "stream",
     "text": [
      "https://noaa-hrrr-bdp-pds.s3.amazonaws.com/hrrr.20131120/conus/hrrr.t01z.wrfsfcf01.grib2\n"
     ]
    },
    {
     "name": "stderr",
     "output_type": "stream",
     "text": [
      " 37%|███▋      | 610/1631 [9:54:42<9:38:27, 33.99s/it] "
     ]
    },
    {
     "name": "stdout",
     "output_type": "stream",
     "text": [
      "https://noaa-hrrr-bdp-pds.s3.amazonaws.com/hrrr.20210726/conus/hrrr.t01z.wrfsfcf01.grib2\n"
     ]
    },
    {
     "name": "stderr",
     "output_type": "stream",
     "text": [
      " 37%|███▋      | 611/1631 [9:56:11<14:22:33, 50.74s/it]"
     ]
    },
    {
     "name": "stdout",
     "output_type": "stream",
     "text": [
      "https://noaa-hrrr-bdp-pds.s3.amazonaws.com/hrrr.20130219/conus/hrrr.t01z.wrfsfcf01.grib2\n"
     ]
    },
    {
     "name": "stderr",
     "output_type": "stream",
     "text": [
      " 38%|███▊      | 612/1631 [9:56:12<10:08:00, 35.80s/it]"
     ]
    },
    {
     "name": "stdout",
     "output_type": "stream",
     "text": [
      "https://noaa-hrrr-bdp-pds.s3.amazonaws.com/hrrr.20210915/conus/hrrr.t01z.wrfsfcf01.grib2\n"
     ]
    },
    {
     "name": "stderr",
     "output_type": "stream",
     "text": [
      " 38%|███▊      | 613/1631 [9:57:10<11:58:56, 42.37s/it]"
     ]
    },
    {
     "name": "stdout",
     "output_type": "stream",
     "text": [
      "https://noaa-hrrr-bdp-pds.s3.amazonaws.com/hrrr.20150513/conus/hrrr.t01z.wrfsfcf01.grib2\n"
     ]
    },
    {
     "name": "stderr",
     "output_type": "stream",
     "text": [
      " 38%|███▊      | 614/1631 [9:57:48<11:35:07, 41.01s/it]"
     ]
    },
    {
     "name": "stdout",
     "output_type": "stream",
     "text": [
      "https://noaa-hrrr-bdp-pds.s3.amazonaws.com/hrrr.20180730/conus/hrrr.t01z.wrfsfcf01.grib2\n"
     ]
    },
    {
     "name": "stderr",
     "output_type": "stream",
     "text": [
      " 38%|███▊      | 615/1631 [9:59:17<15:38:12, 55.41s/it]"
     ]
    },
    {
     "name": "stdout",
     "output_type": "stream",
     "text": [
      "https://noaa-hrrr-bdp-pds.s3.amazonaws.com/hrrr.20180924/conus/hrrr.t01z.wrfsfcf01.grib2\n"
     ]
    },
    {
     "name": "stderr",
     "output_type": "stream",
     "text": [
      " 38%|███▊      | 616/1631 [10:00:17<16:01:34, 56.84s/it]"
     ]
    },
    {
     "name": "stdout",
     "output_type": "stream",
     "text": [
      "https://noaa-hrrr-bdp-pds.s3.amazonaws.com/hrrr.20140520/conus/hrrr.t01z.wrfsfcf01.grib2\n"
     ]
    },
    {
     "name": "stderr",
     "output_type": "stream",
     "text": [
      " 38%|███▊      | 617/1631 [10:00:18<11:17:17, 40.08s/it]"
     ]
    },
    {
     "name": "stdout",
     "output_type": "stream",
     "text": [
      "https://noaa-hrrr-bdp-pds.s3.amazonaws.com/hrrr.20130301/conus/hrrr.t01z.wrfsfcf01.grib2\n"
     ]
    },
    {
     "name": "stderr",
     "output_type": "stream",
     "text": [
      " 38%|███▊      | 618/1631 [10:00:19<7:58:35, 28.35s/it] "
     ]
    },
    {
     "name": "stdout",
     "output_type": "stream",
     "text": [
      "https://noaa-hrrr-bdp-pds.s3.amazonaws.com/hrrr.20200122/conus/hrrr.t01z.wrfsfcf01.grib2\n"
     ]
    },
    {
     "name": "stderr",
     "output_type": "stream",
     "text": [
      " 38%|███▊      | 619/1631 [10:01:03<9:18:48, 33.13s/it]"
     ]
    },
    {
     "name": "stdout",
     "output_type": "stream",
     "text": [
      "https://noaa-hrrr-bdp-pds.s3.amazonaws.com/hrrr.20210623/conus/hrrr.t01z.wrfsfcf01.grib2\n"
     ]
    },
    {
     "name": "stderr",
     "output_type": "stream",
     "text": [
      " 38%|███▊      | 620/1631 [10:02:52<15:40:27, 55.81s/it]"
     ]
    },
    {
     "name": "stdout",
     "output_type": "stream",
     "text": [
      "https://noaa-hrrr-bdp-pds.s3.amazonaws.com/hrrr.20130210/conus/hrrr.t01z.wrfsfcf01.grib2\n"
     ]
    },
    {
     "name": "stderr",
     "output_type": "stream",
     "text": [
      " 38%|███▊      | 621/1631 [10:02:53<11:02:36, 39.36s/it]"
     ]
    },
    {
     "name": "stdout",
     "output_type": "stream",
     "text": [
      "https://noaa-hrrr-bdp-pds.s3.amazonaws.com/hrrr.20180509/conus/hrrr.t01z.wrfsfcf01.grib2\n"
     ]
    },
    {
     "name": "stderr",
     "output_type": "stream",
     "text": [
      " 38%|███▊      | 622/1631 [10:04:58<18:14:37, 65.09s/it]"
     ]
    },
    {
     "name": "stdout",
     "output_type": "stream",
     "text": [
      "https://noaa-hrrr-bdp-pds.s3.amazonaws.com/hrrr.20130521/conus/hrrr.t01z.wrfsfcf01.grib2\n"
     ]
    },
    {
     "name": "stderr",
     "output_type": "stream",
     "text": [
      " 38%|███▊      | 623/1631 [10:04:59<12:50:19, 45.85s/it]"
     ]
    },
    {
     "name": "stdout",
     "output_type": "stream",
     "text": [
      "https://noaa-hrrr-bdp-pds.s3.amazonaws.com/hrrr.20200513/conus/hrrr.t01z.wrfsfcf01.grib2\n"
     ]
    },
    {
     "name": "stderr",
     "output_type": "stream",
     "text": [
      " 38%|███▊      | 624/1631 [10:06:21<15:51:09, 56.67s/it]"
     ]
    },
    {
     "name": "stdout",
     "output_type": "stream",
     "text": [
      "https://noaa-hrrr-bdp-pds.s3.amazonaws.com/hrrr.20200730/conus/hrrr.t01z.wrfsfcf01.grib2\n"
     ]
    },
    {
     "name": "stderr",
     "output_type": "stream",
     "text": [
      " 38%|███▊      | 625/1631 [10:07:20<16:03:04, 57.44s/it]"
     ]
    },
    {
     "name": "stdout",
     "output_type": "stream",
     "text": [
      "https://noaa-hrrr-bdp-pds.s3.amazonaws.com/hrrr.20191202/conus/hrrr.t01z.wrfsfcf01.grib2\n"
     ]
    },
    {
     "name": "stderr",
     "output_type": "stream",
     "text": [
      " 38%|███▊      | 626/1631 [10:08:28<16:51:32, 60.39s/it]"
     ]
    },
    {
     "name": "stdout",
     "output_type": "stream",
     "text": [
      "https://noaa-hrrr-bdp-pds.s3.amazonaws.com/hrrr.20170626/conus/hrrr.t01z.wrfsfcf01.grib2\n"
     ]
    },
    {
     "name": "stderr",
     "output_type": "stream",
     "text": [
      " 38%|███▊      | 627/1631 [10:09:59<19:25:48, 69.67s/it]"
     ]
    },
    {
     "name": "stdout",
     "output_type": "stream",
     "text": [
      "https://noaa-hrrr-bdp-pds.s3.amazonaws.com/hrrr.20181010/conus/hrrr.t01z.wrfsfcf01.grib2\n"
     ]
    },
    {
     "name": "stderr",
     "output_type": "stream",
     "text": [
      " 39%|███▊      | 628/1631 [10:10:47<17:37:05, 63.24s/it]"
     ]
    },
    {
     "name": "stdout",
     "output_type": "stream",
     "text": [
      "https://noaa-hrrr-bdp-pds.s3.amazonaws.com/hrrr.20190916/conus/hrrr.t01z.wrfsfcf01.grib2\n"
     ]
    },
    {
     "name": "stderr",
     "output_type": "stream",
     "text": [
      " 39%|███▊      | 629/1631 [10:11:45<17:09:17, 61.63s/it]"
     ]
    },
    {
     "name": "stdout",
     "output_type": "stream",
     "text": [
      "https://noaa-hrrr-bdp-pds.s3.amazonaws.com/hrrr.20130717/conus/hrrr.t01z.wrfsfcf01.grib2\n"
     ]
    },
    {
     "name": "stderr",
     "output_type": "stream",
     "text": [
      " 39%|███▊      | 630/1631 [10:11:46<12:04:31, 43.43s/it]"
     ]
    },
    {
     "name": "stdout",
     "output_type": "stream",
     "text": [
      "https://noaa-hrrr-bdp-pds.s3.amazonaws.com/hrrr.20170912/conus/hrrr.t01z.wrfsfcf01.grib2\n"
     ]
    },
    {
     "name": "stderr",
     "output_type": "stream",
     "text": [
      " 39%|███▊      | 631/1631 [10:14:16<20:58:06, 75.49s/it]"
     ]
    },
    {
     "name": "stdout",
     "output_type": "stream",
     "text": [
      "https://noaa-hrrr-bdp-pds.s3.amazonaws.com/hrrr.20130515/conus/hrrr.t01z.wrfsfcf01.grib2\n"
     ]
    },
    {
     "name": "stderr",
     "output_type": "stream",
     "text": [
      " 39%|███▊      | 632/1631 [10:14:17<14:44:31, 53.12s/it]"
     ]
    },
    {
     "name": "stdout",
     "output_type": "stream",
     "text": [
      "https://noaa-hrrr-bdp-pds.s3.amazonaws.com/hrrr.20130108/conus/hrrr.t01z.wrfsfcf01.grib2\n"
     ]
    },
    {
     "name": "stderr",
     "output_type": "stream",
     "text": [
      " 39%|███▉      | 633/1631 [10:14:18<10:23:22, 37.48s/it]"
     ]
    },
    {
     "name": "stdout",
     "output_type": "stream",
     "text": [
      "https://noaa-hrrr-bdp-pds.s3.amazonaws.com/hrrr.20210629/conus/hrrr.t01z.wrfsfcf01.grib2\n"
     ]
    },
    {
     "name": "stderr",
     "output_type": "stream",
     "text": [
      " 39%|███▉      | 634/1631 [10:15:26<12:53:30, 46.55s/it]"
     ]
    },
    {
     "name": "stdout",
     "output_type": "stream",
     "text": [
      "https://noaa-hrrr-bdp-pds.s3.amazonaws.com/hrrr.20200203/conus/hrrr.t01z.wrfsfcf01.grib2\n"
     ]
    },
    {
     "name": "stderr",
     "output_type": "stream",
     "text": [
      " 39%|███▉      | 635/1631 [10:17:40<20:09:19, 72.85s/it]"
     ]
    },
    {
     "name": "stdout",
     "output_type": "stream",
     "text": [
      "https://noaa-hrrr-bdp-pds.s3.amazonaws.com/hrrr.20140701/conus/hrrr.t01z.wrfsfcf01.grib2\n"
     ]
    },
    {
     "name": "stderr",
     "output_type": "stream",
     "text": [
      " 39%|███▉      | 636/1631 [10:17:41<14:10:24, 51.28s/it]"
     ]
    },
    {
     "name": "stdout",
     "output_type": "stream",
     "text": [
      "https://noaa-hrrr-bdp-pds.s3.amazonaws.com/hrrr.20180911/conus/hrrr.t01z.wrfsfcf01.grib2\n"
     ]
    },
    {
     "name": "stderr",
     "output_type": "stream",
     "text": [
      " 39%|███▉      | 637/1631 [10:18:54<15:54:36, 57.62s/it]"
     ]
    },
    {
     "name": "stdout",
     "output_type": "stream",
     "text": [
      "https://noaa-hrrr-bdp-pds.s3.amazonaws.com/hrrr.20160108/conus/hrrr.t01z.wrfsfcf01.grib2\n"
     ]
    },
    {
     "name": "stderr",
     "output_type": "stream",
     "text": [
      " 39%|███▉      | 638/1631 [10:19:14<12:49:52, 46.52s/it]"
     ]
    },
    {
     "name": "stdout",
     "output_type": "stream",
     "text": [
      "https://noaa-hrrr-bdp-pds.s3.amazonaws.com/hrrr.20150210/conus/hrrr.t01z.wrfsfcf01.grib2\n"
     ]
    },
    {
     "name": "stderr",
     "output_type": "stream",
     "text": [
      " 39%|███▉      | 639/1631 [10:20:04<13:05:47, 47.53s/it]"
     ]
    },
    {
     "name": "stdout",
     "output_type": "stream",
     "text": [
      "https://noaa-hrrr-bdp-pds.s3.amazonaws.com/hrrr.20190701/conus/hrrr.t01z.wrfsfcf01.grib2\n"
     ]
    },
    {
     "name": "stderr",
     "output_type": "stream",
     "text": [
      " 39%|███▉      | 640/1631 [10:21:15<15:01:12, 54.56s/it]"
     ]
    },
    {
     "name": "stdout",
     "output_type": "stream",
     "text": [
      "https://noaa-hrrr-bdp-pds.s3.amazonaws.com/hrrr.20210607/conus/hrrr.t01z.wrfsfcf01.grib2\n"
     ]
    },
    {
     "name": "stderr",
     "output_type": "stream",
     "text": [
      " 39%|███▉      | 641/1631 [10:22:11<15:06:29, 54.94s/it]"
     ]
    },
    {
     "name": "stdout",
     "output_type": "stream",
     "text": [
      "https://noaa-hrrr-bdp-pds.s3.amazonaws.com/hrrr.20160523/conus/hrrr.t01z.wrfsfcf01.grib2\n"
     ]
    },
    {
     "name": "stderr",
     "output_type": "stream",
     "text": [
      " 39%|███▉      | 642/1631 [10:22:34<12:30:25, 45.53s/it]"
     ]
    },
    {
     "name": "stdout",
     "output_type": "stream",
     "text": [
      "https://noaa-hrrr-bdp-pds.s3.amazonaws.com/hrrr.20130129/conus/hrrr.t01z.wrfsfcf01.grib2\n"
     ]
    },
    {
     "name": "stderr",
     "output_type": "stream",
     "text": [
      " 39%|███▉      | 643/1631 [10:22:35<8:49:25, 32.15s/it] "
     ]
    },
    {
     "name": "stdout",
     "output_type": "stream",
     "text": [
      "https://noaa-hrrr-bdp-pds.s3.amazonaws.com/hrrr.20200720/conus/hrrr.t01z.wrfsfcf01.grib2\n"
     ]
    },
    {
     "name": "stderr",
     "output_type": "stream",
     "text": [
      " 39%|███▉      | 644/1631 [10:23:20<9:53:09, 36.06s/it]"
     ]
    },
    {
     "name": "stdout",
     "output_type": "stream",
     "text": [
      "https://noaa-hrrr-bdp-pds.s3.amazonaws.com/hrrr.20170427/conus/hrrr.t01z.wrfsfcf01.grib2\n"
     ]
    },
    {
     "name": "stderr",
     "output_type": "stream",
     "text": [
      " 40%|███▉      | 645/1631 [10:23:58<9:59:45, 36.50s/it]"
     ]
    },
    {
     "name": "stdout",
     "output_type": "stream",
     "text": [
      "https://noaa-hrrr-bdp-pds.s3.amazonaws.com/hrrr.20160712/conus/hrrr.t01z.wrfsfcf01.grib2\n"
     ]
    },
    {
     "name": "stderr",
     "output_type": "stream",
     "text": [
      " 40%|███▉      | 646/1631 [10:23:59<7:04:14, 25.84s/it]"
     ]
    },
    {
     "name": "stdout",
     "output_type": "stream",
     "text": [
      "https://noaa-hrrr-bdp-pds.s3.amazonaws.com/hrrr.20150603/conus/hrrr.t01z.wrfsfcf01.grib2\n"
     ]
    },
    {
     "name": "stderr",
     "output_type": "stream",
     "text": [
      " 40%|███▉      | 647/1631 [10:24:24<6:58:05, 25.49s/it]"
     ]
    },
    {
     "name": "stdout",
     "output_type": "stream",
     "text": [
      "https://noaa-hrrr-bdp-pds.s3.amazonaws.com/hrrr.20160827/conus/hrrr.t01z.wrfsfcf01.grib2\n"
     ]
    },
    {
     "name": "stderr",
     "output_type": "stream",
     "text": [
      " 40%|███▉      | 648/1631 [10:24:25<4:57:11, 18.14s/it]"
     ]
    },
    {
     "name": "stdout",
     "output_type": "stream",
     "text": [
      "https://noaa-hrrr-bdp-pds.s3.amazonaws.com/hrrr.20180124/conus/hrrr.t01z.wrfsfcf01.grib2\n"
     ]
    },
    {
     "name": "stderr",
     "output_type": "stream",
     "text": [
      " 40%|███▉      | 649/1631 [10:25:09<7:04:43, 25.95s/it]"
     ]
    },
    {
     "name": "stdout",
     "output_type": "stream",
     "text": [
      "https://noaa-hrrr-bdp-pds.s3.amazonaws.com/hrrr.20140929/conus/hrrr.t01z.wrfsfcf01.grib2\n"
     ]
    },
    {
     "name": "stderr",
     "output_type": "stream",
     "text": [
      " 40%|███▉      | 650/1631 [10:25:10<5:01:36, 18.45s/it]"
     ]
    },
    {
     "name": "stdout",
     "output_type": "stream",
     "text": [
      "https://noaa-hrrr-bdp-pds.s3.amazonaws.com/hrrr.20150714/conus/hrrr.t01z.wrfsfcf01.grib2\n"
     ]
    },
    {
     "name": "stderr",
     "output_type": "stream",
     "text": [
      " 40%|███▉      | 651/1631 [10:25:58<7:25:28, 27.27s/it]"
     ]
    },
    {
     "name": "stdout",
     "output_type": "stream",
     "text": [
      "https://noaa-hrrr-bdp-pds.s3.amazonaws.com/hrrr.20210517/conus/hrrr.t01z.wrfsfcf01.grib2\n"
     ]
    },
    {
     "name": "stderr",
     "output_type": "stream",
     "text": [
      " 40%|███▉      | 652/1631 [10:27:01<10:20:54, 38.05s/it]"
     ]
    },
    {
     "name": "stdout",
     "output_type": "stream",
     "text": [
      "https://noaa-hrrr-bdp-pds.s3.amazonaws.com/hrrr.20170906/conus/hrrr.t01z.wrfsfcf01.grib2\n"
     ]
    },
    {
     "name": "stderr",
     "output_type": "stream",
     "text": [
      " 40%|████      | 653/1631 [10:28:24<14:02:35, 51.69s/it]"
     ]
    },
    {
     "name": "stdout",
     "output_type": "stream",
     "text": [
      "https://noaa-hrrr-bdp-pds.s3.amazonaws.com/hrrr.20180811/conus/hrrr.t01z.wrfsfcf01.grib2\n"
     ]
    },
    {
     "name": "stderr",
     "output_type": "stream",
     "text": [
      " 40%|████      | 654/1631 [10:29:02<12:53:50, 47.52s/it]"
     ]
    },
    {
     "name": "stdout",
     "output_type": "stream",
     "text": [
      "https://noaa-hrrr-bdp-pds.s3.amazonaws.com/hrrr.20200701/conus/hrrr.t01z.wrfsfcf01.grib2\n"
     ]
    },
    {
     "name": "stderr",
     "output_type": "stream",
     "text": [
      " 40%|████      | 655/1631 [10:29:33<11:29:38, 42.40s/it]"
     ]
    },
    {
     "name": "stdout",
     "output_type": "stream",
     "text": [
      "https://noaa-hrrr-bdp-pds.s3.amazonaws.com/hrrr.20151215/conus/hrrr.t01z.wrfsfcf01.grib2\n"
     ]
    },
    {
     "name": "stderr",
     "output_type": "stream",
     "text": [
      " 40%|████      | 656/1631 [10:30:20<11:50:57, 43.75s/it]"
     ]
    },
    {
     "name": "stdout",
     "output_type": "stream",
     "text": [
      "https://noaa-hrrr-bdp-pds.s3.amazonaws.com/hrrr.20130801/conus/hrrr.t01z.wrfsfcf01.grib2\n"
     ]
    },
    {
     "name": "stderr",
     "output_type": "stream",
     "text": [
      " 40%|████      | 657/1631 [10:30:20<8:21:47, 30.91s/it] "
     ]
    },
    {
     "name": "stdout",
     "output_type": "stream",
     "text": [
      "https://noaa-hrrr-bdp-pds.s3.amazonaws.com/hrrr.20130926/conus/hrrr.t01z.wrfsfcf01.grib2\n"
     ]
    },
    {
     "name": "stderr",
     "output_type": "stream",
     "text": [
      " 40%|████      | 658/1631 [10:30:21<5:55:25, 21.92s/it]"
     ]
    },
    {
     "name": "stdout",
     "output_type": "stream",
     "text": [
      "https://noaa-hrrr-bdp-pds.s3.amazonaws.com/hrrr.20180812/conus/hrrr.t01z.wrfsfcf01.grib2\n"
     ]
    },
    {
     "name": "stderr",
     "output_type": "stream",
     "text": [
      " 40%|████      | 659/1631 [10:31:08<7:53:41, 29.24s/it]"
     ]
    },
    {
     "name": "stdout",
     "output_type": "stream",
     "text": [
      "https://noaa-hrrr-bdp-pds.s3.amazonaws.com/hrrr.20191210/conus/hrrr.t01z.wrfsfcf01.grib2\n"
     ]
    },
    {
     "name": "stderr",
     "output_type": "stream",
     "text": [
      " 40%|████      | 660/1631 [10:32:09<10:28:56, 38.86s/it]"
     ]
    },
    {
     "name": "stdout",
     "output_type": "stream",
     "text": [
      "https://noaa-hrrr-bdp-pds.s3.amazonaws.com/hrrr.20200803/conus/hrrr.t01z.wrfsfcf01.grib2\n"
     ]
    },
    {
     "name": "stderr",
     "output_type": "stream",
     "text": [
      " 41%|████      | 661/1631 [10:33:03<11:40:56, 43.36s/it]"
     ]
    },
    {
     "name": "stdout",
     "output_type": "stream",
     "text": [
      "https://noaa-hrrr-bdp-pds.s3.amazonaws.com/hrrr.20210923/conus/hrrr.t01z.wrfsfcf01.grib2\n"
     ]
    },
    {
     "name": "stderr",
     "output_type": "stream",
     "text": [
      " 41%|████      | 662/1631 [10:34:05<13:10:57, 48.98s/it]"
     ]
    },
    {
     "name": "stdout",
     "output_type": "stream",
     "text": [
      "https://noaa-hrrr-bdp-pds.s3.amazonaws.com/hrrr.20160705/conus/hrrr.t01z.wrfsfcf01.grib2\n"
     ]
    },
    {
     "name": "stderr",
     "output_type": "stream",
     "text": [
      " 41%|████      | 663/1631 [10:34:48<12:42:43, 47.28s/it]"
     ]
    },
    {
     "name": "stdout",
     "output_type": "stream",
     "text": [
      "https://noaa-hrrr-bdp-pds.s3.amazonaws.com/hrrr.20140521/conus/hrrr.t01z.wrfsfcf01.grib2\n"
     ]
    },
    {
     "name": "stderr",
     "output_type": "stream",
     "text": [
      " 41%|████      | 664/1631 [10:34:49<8:58:06, 33.39s/it] "
     ]
    },
    {
     "name": "stdout",
     "output_type": "stream",
     "text": [
      "https://noaa-hrrr-bdp-pds.s3.amazonaws.com/hrrr.20130912/conus/hrrr.t01z.wrfsfcf01.grib2\n"
     ]
    },
    {
     "name": "stderr",
     "output_type": "stream",
     "text": [
      " 41%|████      | 665/1631 [10:34:50<6:20:54, 23.66s/it]"
     ]
    },
    {
     "name": "stdout",
     "output_type": "stream",
     "text": [
      "https://noaa-hrrr-bdp-pds.s3.amazonaws.com/hrrr.20210119/conus/hrrr.t01z.wrfsfcf01.grib2\n"
     ]
    },
    {
     "name": "stderr",
     "output_type": "stream",
     "text": [
      " 41%|████      | 666/1631 [10:35:33<7:53:13, 29.42s/it]"
     ]
    },
    {
     "name": "stdout",
     "output_type": "stream",
     "text": [
      "https://noaa-hrrr-bdp-pds.s3.amazonaws.com/hrrr.20160107/conus/hrrr.t01z.wrfsfcf01.grib2\n"
     ]
    },
    {
     "name": "stderr",
     "output_type": "stream",
     "text": [
      " 41%|████      | 667/1631 [10:36:19<9:14:06, 34.49s/it]"
     ]
    },
    {
     "name": "stdout",
     "output_type": "stream",
     "text": [
      "https://noaa-hrrr-bdp-pds.s3.amazonaws.com/hrrr.20180117/conus/hrrr.t01z.wrfsfcf01.grib2\n"
     ]
    },
    {
     "name": "stderr",
     "output_type": "stream",
     "text": [
      " 41%|████      | 668/1631 [10:36:51<9:00:53, 33.70s/it]"
     ]
    },
    {
     "name": "stdout",
     "output_type": "stream",
     "text": [
      "https://noaa-hrrr-bdp-pds.s3.amazonaws.com/hrrr.20210707/conus/hrrr.t01z.wrfsfcf01.grib2\n"
     ]
    },
    {
     "name": "stderr",
     "output_type": "stream",
     "text": [
      " 41%|████      | 669/1631 [10:37:49<10:56:52, 40.97s/it]"
     ]
    },
    {
     "name": "stdout",
     "output_type": "stream",
     "text": [
      "https://noaa-hrrr-bdp-pds.s3.amazonaws.com/hrrr.20140319/conus/hrrr.t01z.wrfsfcf01.grib2\n"
     ]
    },
    {
     "name": "stderr",
     "output_type": "stream",
     "text": [
      " 41%|████      | 670/1631 [10:37:50<7:43:48, 28.96s/it] "
     ]
    },
    {
     "name": "stdout",
     "output_type": "stream",
     "text": [
      "https://noaa-hrrr-bdp-pds.s3.amazonaws.com/hrrr.20180724/conus/hrrr.t01z.wrfsfcf01.grib2\n"
     ]
    },
    {
     "name": "stderr",
     "output_type": "stream",
     "text": [
      " 41%|████      | 671/1631 [10:39:10<11:49:06, 44.32s/it]"
     ]
    },
    {
     "name": "stdout",
     "output_type": "stream",
     "text": [
      "https://noaa-hrrr-bdp-pds.s3.amazonaws.com/hrrr.20181031/conus/hrrr.t01z.wrfsfcf01.grib2\n"
     ]
    },
    {
     "name": "stderr",
     "output_type": "stream",
     "text": [
      " 41%|████      | 672/1631 [10:39:44<10:58:25, 41.19s/it]"
     ]
    },
    {
     "name": "stdout",
     "output_type": "stream",
     "text": [
      "https://noaa-hrrr-bdp-pds.s3.amazonaws.com/hrrr.20180410/conus/hrrr.t01z.wrfsfcf01.grib2\n"
     ]
    },
    {
     "name": "stderr",
     "output_type": "stream",
     "text": [
      " 41%|████▏     | 673/1631 [10:41:09<14:28:32, 54.40s/it]"
     ]
    },
    {
     "name": "stdout",
     "output_type": "stream",
     "text": [
      "https://noaa-hrrr-bdp-pds.s3.amazonaws.com/hrrr.20150428/conus/hrrr.t01z.wrfsfcf01.grib2\n"
     ]
    },
    {
     "name": "stderr",
     "output_type": "stream",
     "text": [
      " 41%|████▏     | 674/1631 [10:41:49<13:18:00, 50.03s/it]"
     ]
    },
    {
     "name": "stdout",
     "output_type": "stream",
     "text": [
      "https://noaa-hrrr-bdp-pds.s3.amazonaws.com/hrrr.20210908/conus/hrrr.t01z.wrfsfcf01.grib2\n"
     ]
    },
    {
     "name": "stderr",
     "output_type": "stream",
     "text": [
      " 41%|████▏     | 675/1631 [10:42:41<13:27:50, 50.70s/it]"
     ]
    },
    {
     "name": "stdout",
     "output_type": "stream",
     "text": [
      "https://noaa-hrrr-bdp-pds.s3.amazonaws.com/hrrr.20130828/conus/hrrr.t01z.wrfsfcf01.grib2\n"
     ]
    },
    {
     "name": "stderr",
     "output_type": "stream",
     "text": [
      " 41%|████▏     | 676/1631 [10:42:42<9:29:28, 35.78s/it] "
     ]
    },
    {
     "name": "stdout",
     "output_type": "stream",
     "text": [
      "https://noaa-hrrr-bdp-pds.s3.amazonaws.com/hrrr.20130130/conus/hrrr.t01z.wrfsfcf01.grib2\n"
     ]
    },
    {
     "name": "stderr",
     "output_type": "stream",
     "text": [
      " 42%|████▏     | 677/1631 [10:42:43<6:42:56, 25.34s/it]"
     ]
    },
    {
     "name": "stdout",
     "output_type": "stream",
     "text": [
      "https://noaa-hrrr-bdp-pds.s3.amazonaws.com/hrrr.20150424/conus/hrrr.t01z.wrfsfcf01.grib2\n"
     ]
    },
    {
     "name": "stderr",
     "output_type": "stream",
     "text": [
      " 42%|████▏     | 678/1631 [10:43:13<7:04:18, 26.71s/it]"
     ]
    },
    {
     "name": "stdout",
     "output_type": "stream",
     "text": [
      "https://noaa-hrrr-bdp-pds.s3.amazonaws.com/hrrr.20150729/conus/hrrr.t01z.wrfsfcf01.grib2\n"
     ]
    },
    {
     "name": "stderr",
     "output_type": "stream",
     "text": [
      " 42%|████▏     | 679/1631 [10:43:47<7:35:32, 28.71s/it]"
     ]
    },
    {
     "name": "stdout",
     "output_type": "stream",
     "text": [
      "https://noaa-hrrr-bdp-pds.s3.amazonaws.com/hrrr.20130613/conus/hrrr.t01z.wrfsfcf01.grib2\n"
     ]
    },
    {
     "name": "stderr",
     "output_type": "stream",
     "text": [
      " 42%|████▏     | 680/1631 [10:43:48<5:23:04, 20.38s/it]"
     ]
    },
    {
     "name": "stdout",
     "output_type": "stream",
     "text": [
      "https://noaa-hrrr-bdp-pds.s3.amazonaws.com/hrrr.20130501/conus/hrrr.t01z.wrfsfcf01.grib2\n"
     ]
    },
    {
     "name": "stderr",
     "output_type": "stream",
     "text": [
      " 42%|████▏     | 681/1631 [10:43:49<3:50:24, 14.55s/it]"
     ]
    },
    {
     "name": "stdout",
     "output_type": "stream",
     "text": [
      "https://noaa-hrrr-bdp-pds.s3.amazonaws.com/hrrr.20210324/conus/hrrr.t01z.wrfsfcf01.grib2\n"
     ]
    },
    {
     "name": "stderr",
     "output_type": "stream",
     "text": [
      " 42%|████▏     | 682/1631 [10:44:30<5:58:04, 22.64s/it]"
     ]
    },
    {
     "name": "stdout",
     "output_type": "stream",
     "text": [
      "https://noaa-hrrr-bdp-pds.s3.amazonaws.com/hrrr.20130711/conus/hrrr.t01z.wrfsfcf01.grib2\n"
     ]
    },
    {
     "name": "stderr",
     "output_type": "stream",
     "text": [
      " 42%|████▏     | 683/1631 [10:44:31<4:15:05, 16.14s/it]"
     ]
    },
    {
     "name": "stdout",
     "output_type": "stream",
     "text": [
      "https://noaa-hrrr-bdp-pds.s3.amazonaws.com/hrrr.20180621/conus/hrrr.t01z.wrfsfcf01.grib2\n"
     ]
    },
    {
     "name": "stderr",
     "output_type": "stream",
     "text": [
      " 42%|████▏     | 684/1631 [10:45:16<6:30:43, 24.76s/it]"
     ]
    },
    {
     "name": "stdout",
     "output_type": "stream",
     "text": [
      "https://noaa-hrrr-bdp-pds.s3.amazonaws.com/hrrr.20131028/conus/hrrr.t01z.wrfsfcf01.grib2\n"
     ]
    },
    {
     "name": "stderr",
     "output_type": "stream",
     "text": [
      " 42%|████▏     | 685/1631 [10:45:17<4:37:48, 17.62s/it]"
     ]
    },
    {
     "name": "stdout",
     "output_type": "stream",
     "text": [
      "https://noaa-hrrr-bdp-pds.s3.amazonaws.com/hrrr.20150921/conus/hrrr.t01z.wrfsfcf01.grib2\n"
     ]
    },
    {
     "name": "stderr",
     "output_type": "stream",
     "text": [
      " 42%|████▏     | 686/1631 [10:45:49<5:47:15, 22.05s/it]"
     ]
    },
    {
     "name": "stdout",
     "output_type": "stream",
     "text": [
      "https://noaa-hrrr-bdp-pds.s3.amazonaws.com/hrrr.20210113/conus/hrrr.t01z.wrfsfcf01.grib2\n"
     ]
    },
    {
     "name": "stderr",
     "output_type": "stream",
     "text": [
      " 42%|████▏     | 687/1631 [10:46:21<6:33:02, 24.98s/it]"
     ]
    },
    {
     "name": "stdout",
     "output_type": "stream",
     "text": [
      "https://noaa-hrrr-bdp-pds.s3.amazonaws.com/hrrr.20170426/conus/hrrr.t01z.wrfsfcf01.grib2\n"
     ]
    },
    {
     "name": "stderr",
     "output_type": "stream",
     "text": [
      " 42%|████▏     | 688/1631 [10:47:03<7:53:12, 30.11s/it]"
     ]
    },
    {
     "name": "stdout",
     "output_type": "stream",
     "text": [
      "https://noaa-hrrr-bdp-pds.s3.amazonaws.com/hrrr.20160823/conus/hrrr.t01z.wrfsfcf01.grib2\n"
     ]
    },
    {
     "name": "stderr",
     "output_type": "stream",
     "text": [
      " 42%|████▏     | 689/1631 [10:47:58<9:47:39, 37.43s/it]"
     ]
    },
    {
     "name": "stdout",
     "output_type": "stream",
     "text": [
      "https://noaa-hrrr-bdp-pds.s3.amazonaws.com/hrrr.20171010/conus/hrrr.t01z.wrfsfcf01.grib2\n"
     ]
    },
    {
     "name": "stderr",
     "output_type": "stream",
     "text": [
      " 42%|████▏     | 690/1631 [10:49:16<12:59:52, 49.73s/it]"
     ]
    },
    {
     "name": "stdout",
     "output_type": "stream",
     "text": [
      "https://noaa-hrrr-bdp-pds.s3.amazonaws.com/hrrr.20180731/conus/hrrr.t01z.wrfsfcf01.grib2\n"
     ]
    },
    {
     "name": "stderr",
     "output_type": "stream",
     "text": [
      " 42%|████▏     | 691/1631 [10:49:57<12:16:15, 46.99s/it]"
     ]
    },
    {
     "name": "stdout",
     "output_type": "stream",
     "text": [
      "https://noaa-hrrr-bdp-pds.s3.amazonaws.com/hrrr.20151118/conus/hrrr.t01z.wrfsfcf01.grib2\n"
     ]
    },
    {
     "name": "stderr",
     "output_type": "stream",
     "text": [
      " 42%|████▏     | 692/1631 [10:50:24<10:40:21, 40.92s/it]"
     ]
    },
    {
     "name": "stdout",
     "output_type": "stream",
     "text": [
      "https://noaa-hrrr-bdp-pds.s3.amazonaws.com/hrrr.20191112/conus/hrrr.t01z.wrfsfcf01.grib2\n"
     ]
    },
    {
     "name": "stderr",
     "output_type": "stream",
     "text": [
      " 42%|████▏     | 693/1631 [10:51:07<10:51:59, 41.71s/it]"
     ]
    },
    {
     "name": "stdout",
     "output_type": "stream",
     "text": [
      "https://noaa-hrrr-bdp-pds.s3.amazonaws.com/hrrr.20190814/conus/hrrr.t01z.wrfsfcf01.grib2\n"
     ]
    },
    {
     "name": "stderr",
     "output_type": "stream",
     "text": [
      " 43%|████▎     | 694/1631 [10:52:22<13:25:43, 51.59s/it]"
     ]
    },
    {
     "name": "stdout",
     "output_type": "stream",
     "text": [
      "https://noaa-hrrr-bdp-pds.s3.amazonaws.com/hrrr.20200316/conus/hrrr.t01z.wrfsfcf01.grib2\n"
     ]
    },
    {
     "name": "stderr",
     "output_type": "stream",
     "text": [
      " 43%|████▎     | 695/1631 [10:53:08<13:00:06, 50.01s/it]"
     ]
    },
    {
     "name": "stdout",
     "output_type": "stream",
     "text": [
      "https://noaa-hrrr-bdp-pds.s3.amazonaws.com/hrrr.20150829/conus/hrrr.t01z.wrfsfcf01.grib2\n"
     ]
    },
    {
     "name": "stderr",
     "output_type": "stream",
     "text": [
      " 43%|████▎     | 696/1631 [10:53:30<10:46:42, 41.50s/it]"
     ]
    },
    {
     "name": "stdout",
     "output_type": "stream",
     "text": [
      "https://noaa-hrrr-bdp-pds.s3.amazonaws.com/hrrr.20180314/conus/hrrr.t01z.wrfsfcf01.grib2\n"
     ]
    },
    {
     "name": "stderr",
     "output_type": "stream",
     "text": [
      " 43%|████▎     | 697/1631 [10:54:30<12:14:27, 47.18s/it]"
     ]
    },
    {
     "name": "stdout",
     "output_type": "stream",
     "text": [
      "https://noaa-hrrr-bdp-pds.s3.amazonaws.com/hrrr.20190312/conus/hrrr.t01z.wrfsfcf01.grib2\n"
     ]
    },
    {
     "name": "stderr",
     "output_type": "stream",
     "text": [
      " 43%|████▎     | 698/1631 [10:55:27<12:59:33, 50.13s/it]"
     ]
    },
    {
     "name": "stdout",
     "output_type": "stream",
     "text": [
      "https://noaa-hrrr-bdp-pds.s3.amazonaws.com/hrrr.20140923/conus/hrrr.t01z.wrfsfcf01.grib2\n"
     ]
    },
    {
     "name": "stderr",
     "output_type": "stream",
     "text": [
      " 43%|████▎     | 699/1631 [10:55:28<9:09:40, 35.39s/it] "
     ]
    },
    {
     "name": "stdout",
     "output_type": "stream",
     "text": [
      "https://noaa-hrrr-bdp-pds.s3.amazonaws.com/hrrr.20140724/conus/hrrr.t01z.wrfsfcf01.grib2\n"
     ]
    },
    {
     "name": "stderr",
     "output_type": "stream",
     "text": [
      " 43%|████▎     | 700/1631 [10:55:29<6:28:46, 25.06s/it]"
     ]
    },
    {
     "name": "stdout",
     "output_type": "stream",
     "text": [
      "https://noaa-hrrr-bdp-pds.s3.amazonaws.com/hrrr.20200421/conus/hrrr.t01z.wrfsfcf01.grib2\n"
     ]
    },
    {
     "name": "stderr",
     "output_type": "stream",
     "text": [
      " 43%|████▎     | 701/1631 [10:56:28<9:07:14, 35.31s/it]"
     ]
    },
    {
     "name": "stdout",
     "output_type": "stream",
     "text": [
      "https://noaa-hrrr-bdp-pds.s3.amazonaws.com/hrrr.20160921/conus/hrrr.t01z.wrfsfcf01.grib2\n"
     ]
    },
    {
     "name": "stderr",
     "output_type": "stream",
     "text": [
      " 43%|████▎     | 702/1631 [10:57:12<9:45:31, 37.82s/it]"
     ]
    },
    {
     "name": "stdout",
     "output_type": "stream",
     "text": [
      "https://noaa-hrrr-bdp-pds.s3.amazonaws.com/hrrr.20190829/conus/hrrr.t01z.wrfsfcf01.grib2\n"
     ]
    },
    {
     "name": "stderr",
     "output_type": "stream",
     "text": [
      " 43%|████▎     | 703/1631 [10:58:45<13:59:11, 54.26s/it]"
     ]
    },
    {
     "name": "stdout",
     "output_type": "stream",
     "text": [
      "https://noaa-hrrr-bdp-pds.s3.amazonaws.com/hrrr.20191205/conus/hrrr.t01z.wrfsfcf01.grib2\n"
     ]
    },
    {
     "name": "stderr",
     "output_type": "stream",
     "text": [
      " 43%|████▎     | 704/1631 [11:00:54<19:47:44, 76.88s/it]"
     ]
    },
    {
     "name": "stdout",
     "output_type": "stream",
     "text": [
      "https://noaa-hrrr-bdp-pds.s3.amazonaws.com/hrrr.20180808/conus/hrrr.t01z.wrfsfcf01.grib2\n"
     ]
    },
    {
     "name": "stderr",
     "output_type": "stream",
     "text": [
      " 43%|████▎     | 705/1631 [11:01:53<18:22:35, 71.44s/it]"
     ]
    },
    {
     "name": "stdout",
     "output_type": "stream",
     "text": [
      "https://noaa-hrrr-bdp-pds.s3.amazonaws.com/hrrr.20200807/conus/hrrr.t01z.wrfsfcf01.grib2\n"
     ]
    },
    {
     "name": "stderr",
     "output_type": "stream",
     "text": [
      " 43%|████▎     | 706/1631 [11:02:37<16:15:07, 63.25s/it]"
     ]
    },
    {
     "name": "stdout",
     "output_type": "stream",
     "text": [
      "https://noaa-hrrr-bdp-pds.s3.amazonaws.com/hrrr.20170410/conus/hrrr.t01z.wrfsfcf01.grib2\n"
     ]
    },
    {
     "name": "stderr",
     "output_type": "stream",
     "text": [
      " 43%|████▎     | 707/1631 [11:03:13<14:05:55, 54.93s/it]"
     ]
    },
    {
     "name": "stdout",
     "output_type": "stream",
     "text": [
      "https://noaa-hrrr-bdp-pds.s3.amazonaws.com/hrrr.20170425/conus/hrrr.t01z.wrfsfcf01.grib2\n"
     ]
    },
    {
     "name": "stderr",
     "output_type": "stream",
     "text": [
      " 43%|████▎     | 708/1631 [11:04:23<15:17:03, 59.61s/it]"
     ]
    },
    {
     "name": "stdout",
     "output_type": "stream",
     "text": [
      "https://noaa-hrrr-bdp-pds.s3.amazonaws.com/hrrr.20210914/conus/hrrr.t01z.wrfsfcf01.grib2\n"
     ]
    },
    {
     "name": "stderr",
     "output_type": "stream",
     "text": [
      " 43%|████▎     | 709/1631 [11:05:40<16:37:26, 64.91s/it]"
     ]
    },
    {
     "name": "stdout",
     "output_type": "stream",
     "text": [
      "https://noaa-hrrr-bdp-pds.s3.amazonaws.com/hrrr.20160817/conus/hrrr.t01z.wrfsfcf01.grib2\n"
     ]
    },
    {
     "name": "stderr",
     "output_type": "stream",
     "text": [
      " 44%|████▎     | 710/1631 [11:06:17<14:26:30, 56.45s/it]"
     ]
    },
    {
     "name": "stdout",
     "output_type": "stream",
     "text": [
      "https://noaa-hrrr-bdp-pds.s3.amazonaws.com/hrrr.20131022/conus/hrrr.t01z.wrfsfcf01.grib2\n"
     ]
    },
    {
     "name": "stderr",
     "output_type": "stream",
     "text": [
      " 44%|████▎     | 711/1631 [11:06:18<10:10:33, 39.82s/it]"
     ]
    },
    {
     "name": "stdout",
     "output_type": "stream",
     "text": [
      "https://noaa-hrrr-bdp-pds.s3.amazonaws.com/hrrr.20140730/conus/hrrr.t01z.wrfsfcf01.grib2\n"
     ]
    },
    {
     "name": "stderr",
     "output_type": "stream",
     "text": [
      " 44%|████▎     | 712/1631 [11:06:19<7:11:17, 28.16s/it] "
     ]
    },
    {
     "name": "stdout",
     "output_type": "stream",
     "text": [
      "https://noaa-hrrr-bdp-pds.s3.amazonaws.com/hrrr.20200617/conus/hrrr.t01z.wrfsfcf01.grib2\n"
     ]
    },
    {
     "name": "stderr",
     "output_type": "stream",
     "text": [
      " 44%|████▎     | 713/1631 [11:07:23<9:54:01, 38.83s/it]"
     ]
    },
    {
     "name": "stdout",
     "output_type": "stream",
     "text": [
      "https://noaa-hrrr-bdp-pds.s3.amazonaws.com/hrrr.20140818/conus/hrrr.t01z.wrfsfcf01.grib2\n"
     ]
    },
    {
     "name": "stderr",
     "output_type": "stream",
     "text": [
      " 44%|████▍     | 714/1631 [11:07:24<6:59:54, 27.47s/it]"
     ]
    },
    {
     "name": "stdout",
     "output_type": "stream",
     "text": [
      "https://noaa-hrrr-bdp-pds.s3.amazonaws.com/hrrr.20130604/conus/hrrr.t01z.wrfsfcf01.grib2\n"
     ]
    },
    {
     "name": "stderr",
     "output_type": "stream",
     "text": [
      " 44%|████▍     | 715/1631 [11:07:25<4:58:02, 19.52s/it]"
     ]
    },
    {
     "name": "stdout",
     "output_type": "stream",
     "text": [
      "https://noaa-hrrr-bdp-pds.s3.amazonaws.com/hrrr.20200928/conus/hrrr.t01z.wrfsfcf01.grib2\n"
     ]
    },
    {
     "name": "stderr",
     "output_type": "stream",
     "text": [
      " 44%|████▍     | 716/1631 [11:08:35<8:50:04, 34.76s/it]"
     ]
    },
    {
     "name": "stdout",
     "output_type": "stream",
     "text": [
      "https://noaa-hrrr-bdp-pds.s3.amazonaws.com/hrrr.20170120/conus/hrrr.t01z.wrfsfcf01.grib2\n"
     ]
    },
    {
     "name": "stderr",
     "output_type": "stream",
     "text": [
      " 44%|████▍     | 717/1631 [11:09:05<8:27:47, 33.33s/it]"
     ]
    },
    {
     "name": "stdout",
     "output_type": "stream",
     "text": [
      "https://noaa-hrrr-bdp-pds.s3.amazonaws.com/hrrr.20150518/conus/hrrr.t01z.wrfsfcf01.grib2\n"
     ]
    },
    {
     "name": "stderr",
     "output_type": "stream",
     "text": [
      " 44%|████▍     | 718/1631 [11:09:36<8:16:21, 32.62s/it]"
     ]
    },
    {
     "name": "stdout",
     "output_type": "stream",
     "text": [
      "https://noaa-hrrr-bdp-pds.s3.amazonaws.com/hrrr.20140420/conus/hrrr.t01z.wrfsfcf01.grib2\n"
     ]
    },
    {
     "name": "stderr",
     "output_type": "stream",
     "text": [
      " 44%|████▍     | 719/1631 [11:09:37<5:51:28, 23.12s/it]"
     ]
    },
    {
     "name": "stdout",
     "output_type": "stream",
     "text": [
      "https://noaa-hrrr-bdp-pds.s3.amazonaws.com/hrrr.20210526/conus/hrrr.t01z.wrfsfcf01.grib2\n"
     ]
    },
    {
     "name": "stderr",
     "output_type": "stream",
     "text": [
      " 44%|████▍     | 720/1631 [11:11:22<12:04:04, 47.69s/it]"
     ]
    },
    {
     "name": "stdout",
     "output_type": "stream",
     "text": [
      "https://noaa-hrrr-bdp-pds.s3.amazonaws.com/hrrr.20171017/conus/hrrr.t01z.wrfsfcf01.grib2\n"
     ]
    },
    {
     "name": "stderr",
     "output_type": "stream",
     "text": [
      " 44%|████▍     | 721/1631 [11:11:57<11:03:18, 43.73s/it]"
     ]
    },
    {
     "name": "stdout",
     "output_type": "stream",
     "text": [
      "https://noaa-hrrr-bdp-pds.s3.amazonaws.com/hrrr.20201208/conus/hrrr.t01z.wrfsfcf01.grib2\n"
     ]
    },
    {
     "name": "stderr",
     "output_type": "stream",
     "text": [
      " 44%|████▍     | 722/1631 [11:13:10<13:16:51, 52.60s/it]"
     ]
    },
    {
     "name": "stdout",
     "output_type": "stream",
     "text": [
      "https://noaa-hrrr-bdp-pds.s3.amazonaws.com/hrrr.20161011/conus/hrrr.t01z.wrfsfcf01.grib2\n"
     ]
    },
    {
     "name": "stderr",
     "output_type": "stream",
     "text": [
      " 44%|████▍     | 723/1631 [11:13:50<12:19:32, 48.87s/it]"
     ]
    },
    {
     "name": "stdout",
     "output_type": "stream",
     "text": [
      "https://noaa-hrrr-bdp-pds.s3.amazonaws.com/hrrr.20130330/conus/hrrr.t01z.wrfsfcf01.grib2\n"
     ]
    },
    {
     "name": "stderr",
     "output_type": "stream",
     "text": [
      " 44%|████▍     | 724/1631 [11:13:51<8:41:21, 34.49s/it] "
     ]
    },
    {
     "name": "stdout",
     "output_type": "stream",
     "text": [
      "https://noaa-hrrr-bdp-pds.s3.amazonaws.com/hrrr.20210630/conus/hrrr.t01z.wrfsfcf01.grib2\n"
     ]
    },
    {
     "name": "stderr",
     "output_type": "stream",
     "text": [
      " 44%|████▍     | 725/1631 [11:14:32<9:09:15, 36.37s/it]"
     ]
    },
    {
     "name": "stdout",
     "output_type": "stream",
     "text": [
      "https://noaa-hrrr-bdp-pds.s3.amazonaws.com/hrrr.20210921/conus/hrrr.t01z.wrfsfcf01.grib2\n"
     ]
    },
    {
     "name": "stderr",
     "output_type": "stream",
     "text": [
      " 45%|████▍     | 726/1631 [11:16:12<13:57:42, 55.54s/it]"
     ]
    },
    {
     "name": "stdout",
     "output_type": "stream",
     "text": [
      "https://noaa-hrrr-bdp-pds.s3.amazonaws.com/hrrr.20151109/conus/hrrr.t01z.wrfsfcf01.grib2\n"
     ]
    },
    {
     "name": "stderr",
     "output_type": "stream",
     "text": [
      " 45%|████▍     | 727/1631 [11:16:35<11:28:18, 45.68s/it]"
     ]
    },
    {
     "name": "stdout",
     "output_type": "stream",
     "text": [
      "https://noaa-hrrr-bdp-pds.s3.amazonaws.com/hrrr.20190409/conus/hrrr.t01z.wrfsfcf01.grib2\n"
     ]
    },
    {
     "name": "stderr",
     "output_type": "stream",
     "text": [
      " 45%|████▍     | 728/1631 [11:17:43<13:08:41, 52.40s/it]"
     ]
    },
    {
     "name": "stdout",
     "output_type": "stream",
     "text": [
      "https://noaa-hrrr-bdp-pds.s3.amazonaws.com/hrrr.20200526/conus/hrrr.t01z.wrfsfcf01.grib2\n"
     ]
    },
    {
     "name": "stderr",
     "output_type": "stream",
     "text": [
      " 45%|████▍     | 729/1631 [11:18:30<12:46:46, 51.00s/it]"
     ]
    },
    {
     "name": "stdout",
     "output_type": "stream",
     "text": [
      "https://noaa-hrrr-bdp-pds.s3.amazonaws.com/hrrr.20150514/conus/hrrr.t01z.wrfsfcf01.grib2\n"
     ]
    },
    {
     "name": "stderr",
     "output_type": "stream",
     "text": [
      " 45%|████▍     | 730/1631 [11:19:24<12:57:44, 51.79s/it]"
     ]
    },
    {
     "name": "stdout",
     "output_type": "stream",
     "text": [
      "https://noaa-hrrr-bdp-pds.s3.amazonaws.com/hrrr.20200507/conus/hrrr.t01z.wrfsfcf01.grib2\n"
     ]
    },
    {
     "name": "stderr",
     "output_type": "stream",
     "text": [
      " 45%|████▍     | 731/1631 [11:19:54<11:18:17, 45.22s/it]"
     ]
    },
    {
     "name": "stdout",
     "output_type": "stream",
     "text": [
      "https://noaa-hrrr-bdp-pds.s3.amazonaws.com/hrrr.20180328/conus/hrrr.t01z.wrfsfcf01.grib2\n"
     ]
    },
    {
     "name": "stderr",
     "output_type": "stream",
     "text": [
      " 45%|████▍     | 732/1631 [11:20:47<11:52:57, 47.58s/it]"
     ]
    },
    {
     "name": "stdout",
     "output_type": "stream",
     "text": [
      "https://noaa-hrrr-bdp-pds.s3.amazonaws.com/hrrr.20170605/conus/hrrr.t01z.wrfsfcf01.grib2\n"
     ]
    },
    {
     "name": "stderr",
     "output_type": "stream",
     "text": [
      " 45%|████▍     | 733/1631 [11:21:52<13:08:12, 52.66s/it]"
     ]
    },
    {
     "name": "stdout",
     "output_type": "stream",
     "text": [
      "https://noaa-hrrr-bdp-pds.s3.amazonaws.com/hrrr.20161005/conus/hrrr.t01z.wrfsfcf01.grib2\n"
     ]
    },
    {
     "name": "stderr",
     "output_type": "stream",
     "text": [
      " 45%|████▌     | 734/1631 [11:25:28<25:22:43, 101.85s/it]"
     ]
    },
    {
     "name": "stdout",
     "output_type": "stream",
     "text": [
      "https://noaa-hrrr-bdp-pds.s3.amazonaws.com/hrrr.20161010/conus/hrrr.t01z.wrfsfcf01.grib2\n"
     ]
    },
    {
     "name": "stderr",
     "output_type": "stream",
     "text": [
      " 45%|████▌     | 735/1631 [11:26:26<22:02:12, 88.54s/it] "
     ]
    },
    {
     "name": "stdout",
     "output_type": "stream",
     "text": [
      "https://noaa-hrrr-bdp-pds.s3.amazonaws.com/hrrr.20200310/conus/hrrr.t01z.wrfsfcf01.grib2\n"
     ]
    },
    {
     "name": "stderr",
     "output_type": "stream",
     "text": [
      " 45%|████▌     | 736/1631 [11:27:51<21:45:20, 87.51s/it]"
     ]
    },
    {
     "name": "stdout",
     "output_type": "stream",
     "text": [
      "https://noaa-hrrr-bdp-pds.s3.amazonaws.com/hrrr.20150706/conus/hrrr.t01z.wrfsfcf01.grib2\n"
     ]
    },
    {
     "name": "stderr",
     "output_type": "stream",
     "text": [
      " 45%|████▌     | 737/1631 [11:28:20<17:23:49, 70.06s/it]"
     ]
    },
    {
     "name": "stdout",
     "output_type": "stream",
     "text": [
      "https://noaa-hrrr-bdp-pds.s3.amazonaws.com/hrrr.20211027/conus/hrrr.t01z.wrfsfcf01.grib2\n"
     ]
    },
    {
     "name": "stderr",
     "output_type": "stream",
     "text": [
      " 45%|████▌     | 738/1631 [11:29:13<16:06:27, 64.94s/it]"
     ]
    },
    {
     "name": "stdout",
     "output_type": "stream",
     "text": [
      "https://noaa-hrrr-bdp-pds.s3.amazonaws.com/hrrr.20210628/conus/hrrr.t01z.wrfsfcf01.grib2\n"
     ]
    },
    {
     "name": "stderr",
     "output_type": "stream",
     "text": [
      " 45%|████▌     | 739/1631 [11:31:08<19:50:07, 80.05s/it]"
     ]
    },
    {
     "name": "stdout",
     "output_type": "stream",
     "text": [
      "https://noaa-hrrr-bdp-pds.s3.amazonaws.com/hrrr.20180904/conus/hrrr.t01z.wrfsfcf01.grib2\n"
     ]
    },
    {
     "name": "stderr",
     "output_type": "stream",
     "text": [
      " 45%|████▌     | 740/1631 [11:31:58<17:30:40, 70.75s/it]"
     ]
    },
    {
     "name": "stdout",
     "output_type": "stream",
     "text": [
      "https://noaa-hrrr-bdp-pds.s3.amazonaws.com/hrrr.20201215/conus/hrrr.t01z.wrfsfcf01.grib2\n"
     ]
    },
    {
     "name": "stderr",
     "output_type": "stream",
     "text": [
      " 45%|████▌     | 741/1631 [11:32:45<15:43:54, 63.63s/it]"
     ]
    },
    {
     "name": "stdout",
     "output_type": "stream",
     "text": [
      "https://noaa-hrrr-bdp-pds.s3.amazonaws.com/hrrr.20210414/conus/hrrr.t01z.wrfsfcf01.grib2\n"
     ]
    },
    {
     "name": "stderr",
     "output_type": "stream",
     "text": [
      " 45%|████▌     | 742/1631 [11:33:32<14:31:44, 58.84s/it]"
     ]
    },
    {
     "name": "stdout",
     "output_type": "stream",
     "text": [
      "https://noaa-hrrr-bdp-pds.s3.amazonaws.com/hrrr.20140303/conus/hrrr.t01z.wrfsfcf01.grib2\n"
     ]
    },
    {
     "name": "stderr",
     "output_type": "stream",
     "text": [
      " 46%|████▌     | 743/1631 [11:33:33<10:13:46, 41.47s/it]"
     ]
    },
    {
     "name": "stdout",
     "output_type": "stream",
     "text": [
      "https://noaa-hrrr-bdp-pds.s3.amazonaws.com/hrrr.20170524/conus/hrrr.t01z.wrfsfcf01.grib2\n"
     ]
    },
    {
     "name": "stderr",
     "output_type": "stream",
     "text": [
      " 46%|████▌     | 744/1631 [11:34:53<13:04:26, 53.06s/it]"
     ]
    },
    {
     "name": "stdout",
     "output_type": "stream",
     "text": [
      "https://noaa-hrrr-bdp-pds.s3.amazonaws.com/hrrr.20210909/conus/hrrr.t01z.wrfsfcf01.grib2\n"
     ]
    },
    {
     "name": "stderr",
     "output_type": "stream",
     "text": [
      " 46%|████▌     | 745/1631 [11:37:15<19:36:12, 79.65s/it]"
     ]
    },
    {
     "name": "stdout",
     "output_type": "stream",
     "text": [
      "https://noaa-hrrr-bdp-pds.s3.amazonaws.com/hrrr.20141028/conus/hrrr.t01z.wrfsfcf01.grib2\n"
     ]
    },
    {
     "name": "stderr",
     "output_type": "stream",
     "text": [
      " 46%|████▌     | 746/1631 [11:37:44<15:51:36, 64.52s/it]"
     ]
    },
    {
     "name": "stdout",
     "output_type": "stream",
     "text": [
      "https://noaa-hrrr-bdp-pds.s3.amazonaws.com/hrrr.20150711/conus/hrrr.t01z.wrfsfcf01.grib2\n"
     ]
    },
    {
     "name": "stderr",
     "output_type": "stream",
     "text": [
      " 46%|████▌     | 747/1631 [11:38:09<12:54:39, 52.58s/it]"
     ]
    },
    {
     "name": "stdout",
     "output_type": "stream",
     "text": [
      "https://noaa-hrrr-bdp-pds.s3.amazonaws.com/hrrr.20180523/conus/hrrr.t01z.wrfsfcf01.grib2\n"
     ]
    },
    {
     "name": "stderr",
     "output_type": "stream",
     "text": [
      " 46%|████▌     | 748/1631 [11:39:14<13:48:51, 56.32s/it]"
     ]
    },
    {
     "name": "stdout",
     "output_type": "stream",
     "text": [
      "https://noaa-hrrr-bdp-pds.s3.amazonaws.com/hrrr.20160330/conus/hrrr.t01z.wrfsfcf01.grib2\n"
     ]
    },
    {
     "name": "stderr",
     "output_type": "stream",
     "text": [
      " 46%|████▌     | 749/1631 [11:39:45<11:58:27, 48.88s/it]"
     ]
    },
    {
     "name": "stdout",
     "output_type": "stream",
     "text": [
      "https://noaa-hrrr-bdp-pds.s3.amazonaws.com/hrrr.20160627/conus/hrrr.t01z.wrfsfcf01.grib2\n"
     ]
    },
    {
     "name": "stderr",
     "output_type": "stream",
     "text": [
      " 46%|████▌     | 750/1631 [11:40:34<11:57:35, 48.87s/it]"
     ]
    },
    {
     "name": "stdout",
     "output_type": "stream",
     "text": [
      "https://noaa-hrrr-bdp-pds.s3.amazonaws.com/hrrr.20200818/conus/hrrr.t01z.wrfsfcf01.grib2\n"
     ]
    },
    {
     "name": "stderr",
     "output_type": "stream",
     "text": [
      " 46%|████▌     | 751/1631 [11:41:42<13:18:23, 54.44s/it]"
     ]
    },
    {
     "name": "stdout",
     "output_type": "stream",
     "text": [
      "https://noaa-hrrr-bdp-pds.s3.amazonaws.com/hrrr.20130807/conus/hrrr.t01z.wrfsfcf01.grib2\n"
     ]
    },
    {
     "name": "stderr",
     "output_type": "stream",
     "text": [
      " 46%|████▌     | 752/1631 [11:41:43<9:22:31, 38.40s/it] "
     ]
    },
    {
     "name": "stdout",
     "output_type": "stream",
     "text": [
      "https://noaa-hrrr-bdp-pds.s3.amazonaws.com/hrrr.20130626/conus/hrrr.t01z.wrfsfcf01.grib2\n"
     ]
    },
    {
     "name": "stderr",
     "output_type": "stream",
     "text": [
      " 46%|████▌     | 753/1631 [11:41:44<6:37:28, 27.16s/it]"
     ]
    },
    {
     "name": "stdout",
     "output_type": "stream",
     "text": [
      "https://noaa-hrrr-bdp-pds.s3.amazonaws.com/hrrr.20160531/conus/hrrr.t01z.wrfsfcf01.grib2\n"
     ]
    },
    {
     "name": "stderr",
     "output_type": "stream",
     "text": [
      " 46%|████▌     | 754/1631 [11:42:20<7:19:02, 30.04s/it]"
     ]
    },
    {
     "name": "stdout",
     "output_type": "stream",
     "text": [
      "https://noaa-hrrr-bdp-pds.s3.amazonaws.com/hrrr.20190612/conus/hrrr.t01z.wrfsfcf01.grib2\n"
     ]
    },
    {
     "name": "stderr",
     "output_type": "stream",
     "text": [
      " 46%|████▋     | 755/1631 [11:43:13<8:56:18, 36.73s/it]"
     ]
    },
    {
     "name": "stdout",
     "output_type": "stream",
     "text": [
      "https://noaa-hrrr-bdp-pds.s3.amazonaws.com/hrrr.20140717/conus/hrrr.t01z.wrfsfcf01.grib2\n"
     ]
    },
    {
     "name": "stderr",
     "output_type": "stream",
     "text": [
      " 46%|████▋     | 756/1631 [11:43:14<6:19:10, 26.00s/it]"
     ]
    },
    {
     "name": "stdout",
     "output_type": "stream",
     "text": [
      "https://noaa-hrrr-bdp-pds.s3.amazonaws.com/hrrr.20180227/conus/hrrr.t01z.wrfsfcf01.grib2\n"
     ]
    },
    {
     "name": "stderr",
     "output_type": "stream",
     "text": [
      " 46%|████▋     | 757/1631 [11:43:15<4:29:22, 18.49s/it]"
     ]
    },
    {
     "name": "stdout",
     "output_type": "stream",
     "text": [
      "https://noaa-hrrr-bdp-pds.s3.amazonaws.com/hrrr.20190327/conus/hrrr.t01z.wrfsfcf01.grib2\n"
     ]
    },
    {
     "name": "stderr",
     "output_type": "stream",
     "text": [
      " 46%|████▋     | 758/1631 [11:43:57<6:13:41, 25.68s/it]"
     ]
    },
    {
     "name": "stdout",
     "output_type": "stream",
     "text": [
      "https://noaa-hrrr-bdp-pds.s3.amazonaws.com/hrrr.20130726/conus/hrrr.t01z.wrfsfcf01.grib2\n"
     ]
    },
    {
     "name": "stderr",
     "output_type": "stream",
     "text": [
      " 47%|████▋     | 759/1631 [11:43:58<4:25:27, 18.27s/it]"
     ]
    },
    {
     "name": "stdout",
     "output_type": "stream",
     "text": [
      "https://noaa-hrrr-bdp-pds.s3.amazonaws.com/hrrr.20191021/conus/hrrr.t01z.wrfsfcf01.grib2\n"
     ]
    },
    {
     "name": "stderr",
     "output_type": "stream",
     "text": [
      " 47%|████▋     | 760/1631 [11:44:37<5:53:20, 24.34s/it]"
     ]
    },
    {
     "name": "stdout",
     "output_type": "stream",
     "text": [
      "https://noaa-hrrr-bdp-pds.s3.amazonaws.com/hrrr.20190802/conus/hrrr.t01z.wrfsfcf01.grib2\n"
     ]
    },
    {
     "name": "stderr",
     "output_type": "stream",
     "text": [
      " 47%|████▋     | 761/1631 [11:45:36<8:25:29, 34.86s/it]"
     ]
    },
    {
     "name": "stdout",
     "output_type": "stream",
     "text": [
      "https://noaa-hrrr-bdp-pds.s3.amazonaws.com/hrrr.20140804/conus/hrrr.t01z.wrfsfcf01.grib2\n"
     ]
    },
    {
     "name": "stderr",
     "output_type": "stream",
     "text": [
      " 47%|████▋     | 762/1631 [11:46:21<9:10:41, 38.02s/it]"
     ]
    },
    {
     "name": "stdout",
     "output_type": "stream",
     "text": [
      "https://noaa-hrrr-bdp-pds.s3.amazonaws.com/hrrr.20140502/conus/hrrr.t01z.wrfsfcf01.grib2\n"
     ]
    },
    {
     "name": "stderr",
     "output_type": "stream",
     "text": [
      " 47%|████▋     | 763/1631 [11:46:22<6:29:17, 26.91s/it]"
     ]
    },
    {
     "name": "stdout",
     "output_type": "stream",
     "text": [
      "https://noaa-hrrr-bdp-pds.s3.amazonaws.com/hrrr.20170925/conus/hrrr.t01z.wrfsfcf01.grib2\n"
     ]
    },
    {
     "name": "stderr",
     "output_type": "stream",
     "text": [
      " 47%|████▋     | 764/1631 [11:47:34<9:40:59, 40.21s/it]"
     ]
    },
    {
     "name": "stdout",
     "output_type": "stream",
     "text": [
      "https://noaa-hrrr-bdp-pds.s3.amazonaws.com/hrrr.20190513/conus/hrrr.t01z.wrfsfcf01.grib2\n"
     ]
    },
    {
     "name": "stderr",
     "output_type": "stream",
     "text": [
      " 47%|████▋     | 765/1631 [11:48:22<10:16:01, 42.68s/it]"
     ]
    },
    {
     "name": "stdout",
     "output_type": "stream",
     "text": [
      "https://noaa-hrrr-bdp-pds.s3.amazonaws.com/hrrr.20180905/conus/hrrr.t01z.wrfsfcf01.grib2\n"
     ]
    },
    {
     "name": "stderr",
     "output_type": "stream",
     "text": [
      " 47%|████▋     | 766/1631 [11:49:04<10:10:44, 42.36s/it]"
     ]
    },
    {
     "name": "stdout",
     "output_type": "stream",
     "text": [
      "https://noaa-hrrr-bdp-pds.s3.amazonaws.com/hrrr.20180304/conus/hrrr.t01z.wrfsfcf01.grib2\n"
     ]
    },
    {
     "name": "stderr",
     "output_type": "stream",
     "text": [
      " 47%|████▋     | 767/1631 [11:49:33<9:15:42, 38.59s/it] "
     ]
    },
    {
     "name": "stdout",
     "output_type": "stream",
     "text": [
      "https://noaa-hrrr-bdp-pds.s3.amazonaws.com/hrrr.20181130/conus/hrrr.t01z.wrfsfcf01.grib2\n"
     ]
    },
    {
     "name": "stderr",
     "output_type": "stream",
     "text": [
      " 47%|████▋     | 768/1631 [11:50:53<12:11:25, 50.85s/it]"
     ]
    },
    {
     "name": "stdout",
     "output_type": "stream",
     "text": [
      "https://noaa-hrrr-bdp-pds.s3.amazonaws.com/hrrr.20180820/conus/hrrr.t01z.wrfsfcf01.grib2\n"
     ]
    },
    {
     "name": "stderr",
     "output_type": "stream",
     "text": [
      " 47%|████▋     | 769/1631 [11:51:58<13:12:24, 55.16s/it]"
     ]
    },
    {
     "name": "stdout",
     "output_type": "stream",
     "text": [
      "https://noaa-hrrr-bdp-pds.s3.amazonaws.com/hrrr.20200722/conus/hrrr.t01z.wrfsfcf01.grib2\n"
     ]
    },
    {
     "name": "stderr",
     "output_type": "stream",
     "text": [
      " 47%|████▋     | 770/1631 [11:53:33<16:01:14, 66.99s/it]"
     ]
    },
    {
     "name": "stdout",
     "output_type": "stream",
     "text": [
      "https://noaa-hrrr-bdp-pds.s3.amazonaws.com/hrrr.20140415/conus/hrrr.t01z.wrfsfcf01.grib2\n"
     ]
    },
    {
     "name": "stderr",
     "output_type": "stream",
     "text": [
      " 47%|████▋     | 771/1631 [11:53:34<11:16:19, 47.18s/it]"
     ]
    },
    {
     "name": "stdout",
     "output_type": "stream",
     "text": [
      "https://noaa-hrrr-bdp-pds.s3.amazonaws.com/hrrr.20151020/conus/hrrr.t01z.wrfsfcf01.grib2\n"
     ]
    },
    {
     "name": "stderr",
     "output_type": "stream",
     "text": [
      " 47%|████▋     | 772/1631 [11:54:04<10:02:15, 42.07s/it]"
     ]
    },
    {
     "name": "stdout",
     "output_type": "stream",
     "text": [
      "https://noaa-hrrr-bdp-pds.s3.amazonaws.com/hrrr.20211215/conus/hrrr.t01z.wrfsfcf01.grib2\n"
     ]
    },
    {
     "name": "stderr",
     "output_type": "stream",
     "text": [
      " 47%|████▋     | 773/1631 [11:54:54<10:34:44, 44.39s/it]"
     ]
    },
    {
     "name": "stdout",
     "output_type": "stream",
     "text": [
      "https://noaa-hrrr-bdp-pds.s3.amazonaws.com/hrrr.20200910/conus/hrrr.t01z.wrfsfcf01.grib2\n"
     ]
    },
    {
     "name": "stderr",
     "output_type": "stream",
     "text": [
      " 47%|████▋     | 774/1631 [11:55:55<11:45:09, 49.37s/it]"
     ]
    },
    {
     "name": "stdout",
     "output_type": "stream",
     "text": [
      "https://noaa-hrrr-bdp-pds.s3.amazonaws.com/hrrr.20200827/conus/hrrr.t01z.wrfsfcf01.grib2\n"
     ]
    },
    {
     "name": "stderr",
     "output_type": "stream",
     "text": [
      " 48%|████▊     | 775/1631 [11:57:17<14:06:20, 59.32s/it]"
     ]
    },
    {
     "name": "stdout",
     "output_type": "stream",
     "text": [
      "https://noaa-hrrr-bdp-pds.s3.amazonaws.com/hrrr.20181218/conus/hrrr.t01z.wrfsfcf01.grib2\n"
     ]
    },
    {
     "name": "stderr",
     "output_type": "stream",
     "text": [
      " 48%|████▊     | 776/1631 [11:57:52<12:21:11, 52.01s/it]"
     ]
    },
    {
     "name": "stdout",
     "output_type": "stream",
     "text": [
      "https://noaa-hrrr-bdp-pds.s3.amazonaws.com/hrrr.20161031/conus/hrrr.t01z.wrfsfcf01.grib2\n"
     ]
    },
    {
     "name": "stderr",
     "output_type": "stream",
     "text": [
      " 48%|████▊     | 777/1631 [11:58:32<11:27:16, 48.29s/it]"
     ]
    },
    {
     "name": "stdout",
     "output_type": "stream",
     "text": [
      "https://noaa-hrrr-bdp-pds.s3.amazonaws.com/hrrr.20170606/conus/hrrr.t01z.wrfsfcf01.grib2\n"
     ]
    },
    {
     "name": "stderr",
     "output_type": "stream",
     "text": [
      " 48%|████▊     | 778/1631 [11:59:30<12:07:43, 51.19s/it]"
     ]
    },
    {
     "name": "stdout",
     "output_type": "stream",
     "text": [
      "https://noaa-hrrr-bdp-pds.s3.amazonaws.com/hrrr.20211026/conus/hrrr.t01z.wrfsfcf01.grib2\n"
     ]
    },
    {
     "name": "stderr",
     "output_type": "stream",
     "text": [
      " 48%|████▊     | 779/1631 [12:00:31<12:49:11, 54.17s/it]"
     ]
    },
    {
     "name": "stdout",
     "output_type": "stream",
     "text": [
      "https://noaa-hrrr-bdp-pds.s3.amazonaws.com/hrrr.20130628/conus/hrrr.t01z.wrfsfcf01.grib2\n"
     ]
    },
    {
     "name": "stderr",
     "output_type": "stream",
     "text": [
      " 48%|████▊     | 780/1631 [12:00:32<9:01:54, 38.21s/it] "
     ]
    },
    {
     "name": "stdout",
     "output_type": "stream",
     "text": [
      "https://noaa-hrrr-bdp-pds.s3.amazonaws.com/hrrr.20140816/conus/hrrr.t01z.wrfsfcf01.grib2\n"
     ]
    },
    {
     "name": "stderr",
     "output_type": "stream",
     "text": [
      " 48%|████▊     | 781/1631 [12:00:33<6:23:00, 27.04s/it]"
     ]
    },
    {
     "name": "stdout",
     "output_type": "stream",
     "text": [
      "https://noaa-hrrr-bdp-pds.s3.amazonaws.com/hrrr.20130724/conus/hrrr.t01z.wrfsfcf01.grib2\n"
     ]
    },
    {
     "name": "stderr",
     "output_type": "stream",
     "text": [
      " 48%|████▊     | 782/1631 [12:00:34<4:32:02, 19.23s/it]"
     ]
    },
    {
     "name": "stdout",
     "output_type": "stream",
     "text": [
      "https://noaa-hrrr-bdp-pds.s3.amazonaws.com/hrrr.20180709/conus/hrrr.t01z.wrfsfcf01.grib2\n"
     ]
    },
    {
     "name": "stderr",
     "output_type": "stream",
     "text": [
      " 48%|████▊     | 783/1631 [12:01:38<7:44:21, 32.86s/it]"
     ]
    },
    {
     "name": "stdout",
     "output_type": "stream",
     "text": [
      "https://noaa-hrrr-bdp-pds.s3.amazonaws.com/hrrr.20210209/conus/hrrr.t01z.wrfsfcf01.grib2\n"
     ]
    },
    {
     "name": "stderr",
     "output_type": "stream",
     "text": [
      " 48%|████▊     | 784/1631 [12:02:23<8:34:02, 36.41s/it]"
     ]
    },
    {
     "name": "stdout",
     "output_type": "stream",
     "text": [
      "https://noaa-hrrr-bdp-pds.s3.amazonaws.com/hrrr.20191009/conus/hrrr.t01z.wrfsfcf01.grib2\n"
     ]
    },
    {
     "name": "stderr",
     "output_type": "stream",
     "text": [
      " 48%|████▊     | 785/1631 [12:03:35<11:04:49, 47.15s/it]"
     ]
    },
    {
     "name": "stdout",
     "output_type": "stream",
     "text": [
      "https://noaa-hrrr-bdp-pds.s3.amazonaws.com/hrrr.20131218/conus/hrrr.t01z.wrfsfcf01.grib2\n"
     ]
    },
    {
     "name": "stderr",
     "output_type": "stream",
     "text": [
      " 48%|████▊     | 786/1631 [12:03:36<7:48:52, 33.29s/it] "
     ]
    },
    {
     "name": "stdout",
     "output_type": "stream",
     "text": [
      "https://noaa-hrrr-bdp-pds.s3.amazonaws.com/hrrr.20140910/conus/hrrr.t01z.wrfsfcf01.grib2\n"
     ]
    },
    {
     "name": "stderr",
     "output_type": "stream",
     "text": [
      " 48%|████▊     | 787/1631 [12:03:37<5:31:57, 23.60s/it]"
     ]
    },
    {
     "name": "stdout",
     "output_type": "stream",
     "text": [
      "https://noaa-hrrr-bdp-pds.s3.amazonaws.com/hrrr.20181016/conus/hrrr.t01z.wrfsfcf01.grib2\n"
     ]
    },
    {
     "name": "stderr",
     "output_type": "stream",
     "text": [
      " 48%|████▊     | 788/1631 [12:04:15<6:31:06, 27.84s/it]"
     ]
    },
    {
     "name": "stdout",
     "output_type": "stream",
     "text": [
      "https://noaa-hrrr-bdp-pds.s3.amazonaws.com/hrrr.20141202/conus/hrrr.t01z.wrfsfcf01.grib2\n"
     ]
    },
    {
     "name": "stderr",
     "output_type": "stream",
     "text": [
      " 48%|████▊     | 789/1631 [12:04:48<6:52:49, 29.42s/it]"
     ]
    },
    {
     "name": "stdout",
     "output_type": "stream",
     "text": [
      "https://noaa-hrrr-bdp-pds.s3.amazonaws.com/hrrr.20150813/conus/hrrr.t01z.wrfsfcf01.grib2\n"
     ]
    },
    {
     "name": "stderr",
     "output_type": "stream",
     "text": [
      " 48%|████▊     | 790/1631 [12:05:29<7:41:08, 32.90s/it]"
     ]
    },
    {
     "name": "stdout",
     "output_type": "stream",
     "text": [
      "https://noaa-hrrr-bdp-pds.s3.amazonaws.com/hrrr.20210511/conus/hrrr.t01z.wrfsfcf01.grib2\n"
     ]
    },
    {
     "name": "stderr",
     "output_type": "stream",
     "text": [
      " 48%|████▊     | 791/1631 [12:06:51<11:05:33, 47.54s/it]"
     ]
    },
    {
     "name": "stdout",
     "output_type": "stream",
     "text": [
      "https://noaa-hrrr-bdp-pds.s3.amazonaws.com/hrrr.20200609/conus/hrrr.t01z.wrfsfcf01.grib2\n"
     ]
    },
    {
     "name": "stderr",
     "output_type": "stream",
     "text": [
      " 49%|████▊     | 792/1631 [12:08:10<13:18:13, 57.08s/it]"
     ]
    },
    {
     "name": "stdout",
     "output_type": "stream",
     "text": [
      "https://noaa-hrrr-bdp-pds.s3.amazonaws.com/hrrr.20151203/conus/hrrr.t01z.wrfsfcf01.grib2\n"
     ]
    },
    {
     "name": "stderr",
     "output_type": "stream",
     "text": [
      " 49%|████▊     | 793/1631 [12:08:32<10:49:55, 46.53s/it]"
     ]
    },
    {
     "name": "stdout",
     "output_type": "stream",
     "text": [
      "https://noaa-hrrr-bdp-pds.s3.amazonaws.com/hrrr.20181123/conus/hrrr.t01z.wrfsfcf01.grib2\n"
     ]
    },
    {
     "name": "stderr",
     "output_type": "stream",
     "text": [
      " 49%|████▊     | 794/1631 [12:09:04<9:47:37, 42.12s/it] "
     ]
    },
    {
     "name": "stdout",
     "output_type": "stream",
     "text": [
      "https://noaa-hrrr-bdp-pds.s3.amazonaws.com/hrrr.20181026/conus/hrrr.t01z.wrfsfcf01.grib2\n"
     ]
    },
    {
     "name": "stderr",
     "output_type": "stream",
     "text": [
      " 49%|████▊     | 795/1631 [12:09:31<8:44:28, 37.64s/it]"
     ]
    },
    {
     "name": "stdout",
     "output_type": "stream",
     "text": [
      "https://noaa-hrrr-bdp-pds.s3.amazonaws.com/hrrr.20171212/conus/hrrr.t01z.wrfsfcf01.grib2\n"
     ]
    },
    {
     "name": "stderr",
     "output_type": "stream",
     "text": [
      " 49%|████▉     | 796/1631 [12:10:26<9:57:15, 42.92s/it]"
     ]
    },
    {
     "name": "stdout",
     "output_type": "stream",
     "text": [
      "https://noaa-hrrr-bdp-pds.s3.amazonaws.com/hrrr.20141007/conus/hrrr.t01z.wrfsfcf01.grib2\n"
     ]
    },
    {
     "name": "stderr",
     "output_type": "stream",
     "text": [
      " 49%|████▉     | 797/1631 [12:10:48<8:29:21, 36.64s/it]"
     ]
    },
    {
     "name": "stdout",
     "output_type": "stream",
     "text": [
      "https://noaa-hrrr-bdp-pds.s3.amazonaws.com/hrrr.20130424/conus/hrrr.t01z.wrfsfcf01.grib2\n"
     ]
    },
    {
     "name": "stderr",
     "output_type": "stream",
     "text": [
      " 49%|████▉     | 798/1631 [12:10:49<6:00:09, 25.94s/it]"
     ]
    },
    {
     "name": "stdout",
     "output_type": "stream",
     "text": [
      "https://noaa-hrrr-bdp-pds.s3.amazonaws.com/hrrr.20190418/conus/hrrr.t01z.wrfsfcf01.grib2\n"
     ]
    },
    {
     "name": "stderr",
     "output_type": "stream",
     "text": [
      " 49%|████▉     | 799/1631 [12:11:31<7:06:48, 30.78s/it]"
     ]
    },
    {
     "name": "stdout",
     "output_type": "stream",
     "text": [
      "https://noaa-hrrr-bdp-pds.s3.amazonaws.com/hrrr.20140514/conus/hrrr.t01z.wrfsfcf01.grib2\n"
     ]
    },
    {
     "name": "stderr",
     "output_type": "stream",
     "text": [
      " 49%|████▉     | 800/1631 [12:11:32<5:02:17, 21.83s/it]"
     ]
    },
    {
     "name": "stdout",
     "output_type": "stream",
     "text": [
      "https://noaa-hrrr-bdp-pds.s3.amazonaws.com/hrrr.20200420/conus/hrrr.t01z.wrfsfcf01.grib2\n"
     ]
    },
    {
     "name": "stderr",
     "output_type": "stream",
     "text": [
      " 49%|████▉     | 801/1631 [12:12:12<6:15:43, 27.16s/it]"
     ]
    },
    {
     "name": "stdout",
     "output_type": "stream",
     "text": [
      "https://noaa-hrrr-bdp-pds.s3.amazonaws.com/hrrr.20201214/conus/hrrr.t01z.wrfsfcf01.grib2\n"
     ]
    },
    {
     "name": "stderr",
     "output_type": "stream",
     "text": [
      " 49%|████▉     | 802/1631 [12:12:44<6:34:48, 28.57s/it]"
     ]
    },
    {
     "name": "stdout",
     "output_type": "stream",
     "text": [
      "https://noaa-hrrr-bdp-pds.s3.amazonaws.com/hrrr.20210316/conus/hrrr.t01z.wrfsfcf01.grib2\n"
     ]
    },
    {
     "name": "stderr",
     "output_type": "stream",
     "text": [
      " 49%|████▉     | 803/1631 [12:13:34<8:04:18, 35.09s/it]"
     ]
    },
    {
     "name": "stdout",
     "output_type": "stream",
     "text": [
      "https://noaa-hrrr-bdp-pds.s3.amazonaws.com/hrrr.20171025/conus/hrrr.t01z.wrfsfcf01.grib2\n"
     ]
    },
    {
     "name": "stderr",
     "output_type": "stream",
     "text": [
      " 49%|████▉     | 804/1631 [12:14:25<9:08:18, 39.78s/it]"
     ]
    },
    {
     "name": "stdout",
     "output_type": "stream",
     "text": [
      "https://noaa-hrrr-bdp-pds.s3.amazonaws.com/hrrr.20210427/conus/hrrr.t01z.wrfsfcf01.grib2\n"
     ]
    },
    {
     "name": "stderr",
     "output_type": "stream",
     "text": [
      " 49%|████▉     | 805/1631 [12:15:45<11:54:20, 51.89s/it]"
     ]
    },
    {
     "name": "stdout",
     "output_type": "stream",
     "text": [
      "https://noaa-hrrr-bdp-pds.s3.amazonaws.com/hrrr.20170208/conus/hrrr.t01z.wrfsfcf01.grib2\n"
     ]
    },
    {
     "name": "stderr",
     "output_type": "stream",
     "text": [
      " 49%|████▉     | 806/1631 [12:16:34<11:43:10, 51.14s/it]"
     ]
    },
    {
     "name": "stdout",
     "output_type": "stream",
     "text": [
      "https://noaa-hrrr-bdp-pds.s3.amazonaws.com/hrrr.20171129/conus/hrrr.t01z.wrfsfcf01.grib2\n"
     ]
    },
    {
     "name": "stderr",
     "output_type": "stream",
     "text": [
      " 49%|████▉     | 807/1631 [12:17:26<11:42:39, 51.16s/it]"
     ]
    },
    {
     "name": "stdout",
     "output_type": "stream",
     "text": [
      "https://noaa-hrrr-bdp-pds.s3.amazonaws.com/hrrr.20150319/conus/hrrr.t01z.wrfsfcf01.grib2\n"
     ]
    },
    {
     "name": "stderr",
     "output_type": "stream",
     "text": [
      " 50%|████▉     | 808/1631 [12:17:27<8:15:08, 36.10s/it] "
     ]
    },
    {
     "name": "stdout",
     "output_type": "stream",
     "text": [
      "https://noaa-hrrr-bdp-pds.s3.amazonaws.com/hrrr.20190510/conus/hrrr.t01z.wrfsfcf01.grib2\n"
     ]
    },
    {
     "name": "stderr",
     "output_type": "stream",
     "text": [
      " 50%|████▉     | 809/1631 [12:18:07<8:32:35, 37.42s/it]"
     ]
    },
    {
     "name": "stdout",
     "output_type": "stream",
     "text": [
      "https://noaa-hrrr-bdp-pds.s3.amazonaws.com/hrrr.20150928/conus/hrrr.t01z.wrfsfcf01.grib2\n"
     ]
    },
    {
     "name": "stderr",
     "output_type": "stream",
     "text": [
      " 50%|████▉     | 810/1631 [12:18:38<8:05:42, 35.50s/it]"
     ]
    },
    {
     "name": "stdout",
     "output_type": "stream",
     "text": [
      "https://noaa-hrrr-bdp-pds.s3.amazonaws.com/hrrr.20150103/conus/hrrr.t01z.wrfsfcf01.grib2\n"
     ]
    },
    {
     "name": "stderr",
     "output_type": "stream",
     "text": [
      " 50%|████▉     | 811/1631 [12:19:07<7:36:19, 33.39s/it]"
     ]
    },
    {
     "name": "stdout",
     "output_type": "stream",
     "text": [
      "https://noaa-hrrr-bdp-pds.s3.amazonaws.com/hrrr.20130529/conus/hrrr.t01z.wrfsfcf01.grib2\n"
     ]
    },
    {
     "name": "stderr",
     "output_type": "stream",
     "text": [
      " 50%|████▉     | 812/1631 [12:19:07<5:22:55, 23.66s/it]"
     ]
    },
    {
     "name": "stdout",
     "output_type": "stream",
     "text": [
      "https://noaa-hrrr-bdp-pds.s3.amazonaws.com/hrrr.20161017/conus/hrrr.t01z.wrfsfcf01.grib2\n"
     ]
    },
    {
     "name": "stderr",
     "output_type": "stream",
     "text": [
      " 50%|████▉     | 813/1631 [12:19:55<6:58:19, 30.68s/it]"
     ]
    },
    {
     "name": "stdout",
     "output_type": "stream",
     "text": [
      "https://noaa-hrrr-bdp-pds.s3.amazonaws.com/hrrr.20140707/conus/hrrr.t01z.wrfsfcf01.grib2\n"
     ]
    },
    {
     "name": "stderr",
     "output_type": "stream",
     "text": [
      " 50%|████▉     | 814/1631 [12:19:56<4:56:28, 21.77s/it]"
     ]
    },
    {
     "name": "stdout",
     "output_type": "stream",
     "text": [
      "https://noaa-hrrr-bdp-pds.s3.amazonaws.com/hrrr.20201229/conus/hrrr.t01z.wrfsfcf01.grib2\n"
     ]
    },
    {
     "name": "stderr",
     "output_type": "stream",
     "text": [
      " 50%|████▉     | 815/1631 [12:20:42<6:35:31, 29.08s/it]"
     ]
    },
    {
     "name": "stdout",
     "output_type": "stream",
     "text": [
      "https://noaa-hrrr-bdp-pds.s3.amazonaws.com/hrrr.20170504/conus/hrrr.t01z.wrfsfcf01.grib2\n"
     ]
    },
    {
     "name": "stderr",
     "output_type": "stream",
     "text": [
      " 50%|█████     | 816/1631 [12:21:10<6:31:01, 28.79s/it]"
     ]
    },
    {
     "name": "stdout",
     "output_type": "stream",
     "text": [
      "https://noaa-hrrr-bdp-pds.s3.amazonaws.com/hrrr.20140728/conus/hrrr.t01z.wrfsfcf01.grib2\n"
     ]
    },
    {
     "name": "stderr",
     "output_type": "stream",
     "text": [
      " 50%|█████     | 817/1631 [12:21:11<4:37:11, 20.43s/it]"
     ]
    },
    {
     "name": "stdout",
     "output_type": "stream",
     "text": [
      "https://noaa-hrrr-bdp-pds.s3.amazonaws.com/hrrr.20200812/conus/hrrr.t01z.wrfsfcf01.grib2\n"
     ]
    },
    {
     "name": "stderr",
     "output_type": "stream",
     "text": [
      " 50%|█████     | 818/1631 [12:21:55<6:12:43, 27.51s/it]"
     ]
    },
    {
     "name": "stdout",
     "output_type": "stream",
     "text": [
      "https://noaa-hrrr-bdp-pds.s3.amazonaws.com/hrrr.20190717/conus/hrrr.t01z.wrfsfcf01.grib2\n"
     ]
    },
    {
     "name": "stderr",
     "output_type": "stream",
     "text": [
      " 50%|█████     | 819/1631 [12:23:24<10:23:26, 46.07s/it]"
     ]
    },
    {
     "name": "stdout",
     "output_type": "stream",
     "text": [
      "https://noaa-hrrr-bdp-pds.s3.amazonaws.com/hrrr.20180807/conus/hrrr.t01z.wrfsfcf01.grib2\n"
     ]
    },
    {
     "name": "stderr",
     "output_type": "stream",
     "text": [
      " 50%|█████     | 820/1631 [12:24:59<13:39:17, 60.61s/it]"
     ]
    },
    {
     "name": "stdout",
     "output_type": "stream",
     "text": [
      "https://noaa-hrrr-bdp-pds.s3.amazonaws.com/hrrr.20170829/conus/hrrr.t01z.wrfsfcf01.grib2\n"
     ]
    },
    {
     "name": "stderr",
     "output_type": "stream",
     "text": [
      " 50%|█████     | 821/1631 [12:25:00<9:36:36, 42.71s/it] "
     ]
    },
    {
     "name": "stdout",
     "output_type": "stream",
     "text": [
      "https://noaa-hrrr-bdp-pds.s3.amazonaws.com/hrrr.20190425/conus/hrrr.t01z.wrfsfcf01.grib2\n"
     ]
    },
    {
     "name": "stderr",
     "output_type": "stream",
     "text": [
      " 50%|█████     | 822/1631 [12:25:42<9:35:06, 42.65s/it]"
     ]
    },
    {
     "name": "stdout",
     "output_type": "stream",
     "text": [
      "https://noaa-hrrr-bdp-pds.s3.amazonaws.com/hrrr.20160411/conus/hrrr.t01z.wrfsfcf01.grib2\n"
     ]
    },
    {
     "name": "stderr",
     "output_type": "stream",
     "text": [
      " 50%|█████     | 823/1631 [12:26:03<8:08:11, 36.25s/it]"
     ]
    },
    {
     "name": "stdout",
     "output_type": "stream",
     "text": [
      "https://noaa-hrrr-bdp-pds.s3.amazonaws.com/hrrr.20171116/conus/hrrr.t01z.wrfsfcf01.grib2\n"
     ]
    },
    {
     "name": "stderr",
     "output_type": "stream",
     "text": [
      " 51%|█████     | 824/1631 [12:26:30<7:30:10, 33.47s/it]"
     ]
    },
    {
     "name": "stdout",
     "output_type": "stream",
     "text": [
      "https://noaa-hrrr-bdp-pds.s3.amazonaws.com/hrrr.20141020/conus/hrrr.t01z.wrfsfcf01.grib2\n"
     ]
    },
    {
     "name": "stderr",
     "output_type": "stream",
     "text": [
      " 51%|█████     | 825/1631 [12:26:49<6:31:38, 29.15s/it]"
     ]
    },
    {
     "name": "stdout",
     "output_type": "stream",
     "text": [
      "https://noaa-hrrr-bdp-pds.s3.amazonaws.com/hrrr.20150601/conus/hrrr.t01z.wrfsfcf01.grib2\n"
     ]
    },
    {
     "name": "stderr",
     "output_type": "stream",
     "text": [
      " 51%|█████     | 826/1631 [12:27:11<6:01:35, 26.95s/it]"
     ]
    },
    {
     "name": "stdout",
     "output_type": "stream",
     "text": [
      "https://noaa-hrrr-bdp-pds.s3.amazonaws.com/hrrr.20150627/conus/hrrr.t01z.wrfsfcf01.grib2\n"
     ]
    },
    {
     "name": "stderr",
     "output_type": "stream",
     "text": [
      " 51%|█████     | 827/1631 [12:27:33<5:39:02, 25.30s/it]"
     ]
    },
    {
     "name": "stdout",
     "output_type": "stream",
     "text": [
      "https://noaa-hrrr-bdp-pds.s3.amazonaws.com/hrrr.20160303/conus/hrrr.t01z.wrfsfcf01.grib2\n"
     ]
    },
    {
     "name": "stderr",
     "output_type": "stream",
     "text": [
      " 51%|█████     | 828/1631 [12:28:20<7:08:42, 32.03s/it]"
     ]
    },
    {
     "name": "stdout",
     "output_type": "stream",
     "text": [
      "https://noaa-hrrr-bdp-pds.s3.amazonaws.com/hrrr.20191031/conus/hrrr.t01z.wrfsfcf01.grib2\n"
     ]
    },
    {
     "name": "stderr",
     "output_type": "stream",
     "text": [
      " 51%|█████     | 829/1631 [12:28:46<6:42:04, 30.08s/it]"
     ]
    },
    {
     "name": "stdout",
     "output_type": "stream",
     "text": [
      "https://noaa-hrrr-bdp-pds.s3.amazonaws.com/hrrr.20200603/conus/hrrr.t01z.wrfsfcf01.grib2\n"
     ]
    },
    {
     "name": "stderr",
     "output_type": "stream",
     "text": [
      " 51%|█████     | 830/1631 [12:29:34<7:52:56, 35.43s/it]"
     ]
    },
    {
     "name": "stdout",
     "output_type": "stream",
     "text": [
      "https://noaa-hrrr-bdp-pds.s3.amazonaws.com/hrrr.20190605/conus/hrrr.t01z.wrfsfcf01.grib2\n"
     ]
    },
    {
     "name": "stderr",
     "output_type": "stream",
     "text": [
      " 51%|█████     | 831/1631 [12:30:09<7:51:52, 35.39s/it]"
     ]
    },
    {
     "name": "stdout",
     "output_type": "stream",
     "text": [
      "https://noaa-hrrr-bdp-pds.s3.amazonaws.com/hrrr.20180619/conus/hrrr.t01z.wrfsfcf01.grib2\n"
     ]
    },
    {
     "name": "stderr",
     "output_type": "stream",
     "text": [
      " 51%|█████     | 832/1631 [12:31:25<10:32:01, 47.46s/it]"
     ]
    },
    {
     "name": "stdout",
     "output_type": "stream",
     "text": [
      "https://noaa-hrrr-bdp-pds.s3.amazonaws.com/hrrr.20170518/conus/hrrr.t01z.wrfsfcf01.grib2\n"
     ]
    },
    {
     "name": "stderr",
     "output_type": "stream",
     "text": [
      " 51%|█████     | 833/1631 [12:32:11<10:24:49, 46.98s/it]"
     ]
    },
    {
     "name": "stdout",
     "output_type": "stream",
     "text": [
      "https://noaa-hrrr-bdp-pds.s3.amazonaws.com/hrrr.20210506/conus/hrrr.t01z.wrfsfcf01.grib2\n"
     ]
    },
    {
     "name": "stderr",
     "output_type": "stream",
     "text": [
      " 51%|█████     | 834/1631 [12:32:41<9:19:05, 42.09s/it] "
     ]
    },
    {
     "name": "stdout",
     "output_type": "stream",
     "text": [
      "https://noaa-hrrr-bdp-pds.s3.amazonaws.com/hrrr.20150316/conus/hrrr.t01z.wrfsfcf01.grib2\n"
     ]
    },
    {
     "name": "stderr",
     "output_type": "stream",
     "text": [
      " 51%|█████     | 835/1631 [12:33:08<8:18:01, 37.54s/it]"
     ]
    },
    {
     "name": "stdout",
     "output_type": "stream",
     "text": [
      "https://noaa-hrrr-bdp-pds.s3.amazonaws.com/hrrr.20200213/conus/hrrr.t01z.wrfsfcf01.grib2\n"
     ]
    },
    {
     "name": "stderr",
     "output_type": "stream",
     "text": [
      " 51%|█████▏    | 836/1631 [12:33:41<7:57:08, 36.01s/it]"
     ]
    },
    {
     "name": "stdout",
     "output_type": "stream",
     "text": [
      "https://noaa-hrrr-bdp-pds.s3.amazonaws.com/hrrr.20200908/conus/hrrr.t01z.wrfsfcf01.grib2\n"
     ]
    },
    {
     "name": "stderr",
     "output_type": "stream",
     "text": [
      " 51%|█████▏    | 837/1631 [12:34:56<10:32:06, 47.77s/it]"
     ]
    },
    {
     "name": "stdout",
     "output_type": "stream",
     "text": [
      "https://noaa-hrrr-bdp-pds.s3.amazonaws.com/hrrr.20190529/conus/hrrr.t01z.wrfsfcf01.grib2\n"
     ]
    },
    {
     "name": "stderr",
     "output_type": "stream",
     "text": [
      " 51%|█████▏    | 838/1631 [12:35:54<11:13:36, 50.97s/it]"
     ]
    },
    {
     "name": "stdout",
     "output_type": "stream",
     "text": [
      "https://noaa-hrrr-bdp-pds.s3.amazonaws.com/hrrr.20170207/conus/hrrr.t01z.wrfsfcf01.grib2\n"
     ]
    },
    {
     "name": "stderr",
     "output_type": "stream",
     "text": [
      " 51%|█████▏    | 839/1631 [12:35:55<7:54:44, 35.97s/it] "
     ]
    },
    {
     "name": "stdout",
     "output_type": "stream",
     "text": [
      "https://noaa-hrrr-bdp-pds.s3.amazonaws.com/hrrr.20180910/conus/hrrr.t01z.wrfsfcf01.grib2\n"
     ]
    },
    {
     "name": "stderr",
     "output_type": "stream",
     "text": [
      " 52%|█████▏    | 840/1631 [12:36:37<8:15:10, 37.56s/it]"
     ]
    },
    {
     "name": "stdout",
     "output_type": "stream",
     "text": [
      "https://noaa-hrrr-bdp-pds.s3.amazonaws.com/hrrr.20130827/conus/hrrr.t01z.wrfsfcf01.grib2\n"
     ]
    },
    {
     "name": "stderr",
     "output_type": "stream",
     "text": [
      " 52%|█████▏    | 841/1631 [12:36:38<5:49:52, 26.57s/it]"
     ]
    },
    {
     "name": "stdout",
     "output_type": "stream",
     "text": [
      "https://noaa-hrrr-bdp-pds.s3.amazonaws.com/hrrr.20150526/conus/hrrr.t01z.wrfsfcf01.grib2\n"
     ]
    },
    {
     "name": "stderr",
     "output_type": "stream",
     "text": [
      " 52%|█████▏    | 842/1631 [12:37:07<6:02:34, 27.57s/it]"
     ]
    },
    {
     "name": "stdout",
     "output_type": "stream",
     "text": [
      "https://noaa-hrrr-bdp-pds.s3.amazonaws.com/hrrr.20181004/conus/hrrr.t01z.wrfsfcf01.grib2\n"
     ]
    },
    {
     "name": "stderr",
     "output_type": "stream",
     "text": [
      " 52%|█████▏    | 843/1631 [12:37:43<6:34:37, 30.05s/it]"
     ]
    },
    {
     "name": "stdout",
     "output_type": "stream",
     "text": [
      "https://noaa-hrrr-bdp-pds.s3.amazonaws.com/hrrr.20170814/conus/hrrr.t01z.wrfsfcf01.grib2\n"
     ]
    },
    {
     "name": "stderr",
     "output_type": "stream",
     "text": [
      " 52%|█████▏    | 844/1631 [12:39:17<10:45:32, 49.22s/it]"
     ]
    },
    {
     "name": "stdout",
     "output_type": "stream",
     "text": [
      "https://noaa-hrrr-bdp-pds.s3.amazonaws.com/hrrr.20180723/conus/hrrr.t01z.wrfsfcf01.grib2\n"
     ]
    },
    {
     "name": "stderr",
     "output_type": "stream",
     "text": [
      " 52%|█████▏    | 845/1631 [12:40:09<10:55:12, 50.02s/it]"
     ]
    },
    {
     "name": "stdout",
     "output_type": "stream",
     "text": [
      "https://noaa-hrrr-bdp-pds.s3.amazonaws.com/hrrr.20190718/conus/hrrr.t01z.wrfsfcf01.grib2\n"
     ]
    },
    {
     "name": "stderr",
     "output_type": "stream",
     "text": [
      " 52%|█████▏    | 846/1631 [12:40:47<10:07:26, 46.43s/it]"
     ]
    },
    {
     "name": "stdout",
     "output_type": "stream",
     "text": [
      "https://noaa-hrrr-bdp-pds.s3.amazonaws.com/hrrr.20151214/conus/hrrr.t01z.wrfsfcf01.grib2\n"
     ]
    },
    {
     "name": "stderr",
     "output_type": "stream",
     "text": [
      " 52%|█████▏    | 847/1631 [12:41:22<9:20:28, 42.89s/it] "
     ]
    },
    {
     "name": "stdout",
     "output_type": "stream",
     "text": [
      "https://noaa-hrrr-bdp-pds.s3.amazonaws.com/hrrr.20131023/conus/hrrr.t01z.wrfsfcf01.grib2\n"
     ]
    },
    {
     "name": "stderr",
     "output_type": "stream",
     "text": [
      " 52%|█████▏    | 848/1631 [12:41:23<6:35:39, 30.32s/it]"
     ]
    },
    {
     "name": "stdout",
     "output_type": "stream",
     "text": [
      "https://noaa-hrrr-bdp-pds.s3.amazonaws.com/hrrr.20160623/conus/hrrr.t01z.wrfsfcf01.grib2\n"
     ]
    },
    {
     "name": "stderr",
     "output_type": "stream",
     "text": [
      " 52%|█████▏    | 849/1631 [12:41:55<6:42:05, 30.85s/it]"
     ]
    },
    {
     "name": "stdout",
     "output_type": "stream",
     "text": [
      "https://noaa-hrrr-bdp-pds.s3.amazonaws.com/hrrr.20150429/conus/hrrr.t01z.wrfsfcf01.grib2\n"
     ]
    },
    {
     "name": "stderr",
     "output_type": "stream",
     "text": [
      " 52%|█████▏    | 850/1631 [12:42:26<6:42:16, 30.90s/it]"
     ]
    },
    {
     "name": "stdout",
     "output_type": "stream",
     "text": [
      "https://noaa-hrrr-bdp-pds.s3.amazonaws.com/hrrr.20170213/conus/hrrr.t01z.wrfsfcf01.grib2\n"
     ]
    },
    {
     "name": "stderr",
     "output_type": "stream",
     "text": [
      " 52%|█████▏    | 851/1631 [12:43:01<6:58:28, 32.19s/it]"
     ]
    },
    {
     "name": "stdout",
     "output_type": "stream",
     "text": [
      "https://noaa-hrrr-bdp-pds.s3.amazonaws.com/hrrr.20210610/conus/hrrr.t01z.wrfsfcf01.grib2\n"
     ]
    },
    {
     "name": "stderr",
     "output_type": "stream",
     "text": [
      " 52%|█████▏    | 852/1631 [12:43:55<8:22:31, 38.71s/it]"
     ]
    },
    {
     "name": "stdout",
     "output_type": "stream",
     "text": [
      "https://noaa-hrrr-bdp-pds.s3.amazonaws.com/hrrr.20140714/conus/hrrr.t01z.wrfsfcf01.grib2\n"
     ]
    },
    {
     "name": "stderr",
     "output_type": "stream",
     "text": [
      " 52%|█████▏    | 853/1631 [12:43:56<5:55:03, 27.38s/it]"
     ]
    },
    {
     "name": "stdout",
     "output_type": "stream",
     "text": [
      "https://noaa-hrrr-bdp-pds.s3.amazonaws.com/hrrr.20191008/conus/hrrr.t01z.wrfsfcf01.grib2\n"
     ]
    },
    {
     "name": "stderr",
     "output_type": "stream",
     "text": [
      " 52%|█████▏    | 854/1631 [12:44:37<6:49:32, 31.62s/it]"
     ]
    },
    {
     "name": "stdout",
     "output_type": "stream",
     "text": [
      "https://noaa-hrrr-bdp-pds.s3.amazonaws.com/hrrr.20200616/conus/hrrr.t01z.wrfsfcf01.grib2\n"
     ]
    },
    {
     "name": "stderr",
     "output_type": "stream",
     "text": [
      " 52%|█████▏    | 855/1631 [12:45:49<9:23:46, 43.59s/it]"
     ]
    },
    {
     "name": "stdout",
     "output_type": "stream",
     "text": [
      "https://noaa-hrrr-bdp-pds.s3.amazonaws.com/hrrr.20140721/conus/hrrr.t01z.wrfsfcf01.grib2\n"
     ]
    },
    {
     "name": "stderr",
     "output_type": "stream",
     "text": [
      " 52%|█████▏    | 856/1631 [12:45:50<6:38:02, 30.82s/it]"
     ]
    },
    {
     "name": "stdout",
     "output_type": "stream",
     "text": [
      "https://noaa-hrrr-bdp-pds.s3.amazonaws.com/hrrr.20170712/conus/hrrr.t01z.wrfsfcf01.grib2\n"
     ]
    },
    {
     "name": "stderr",
     "output_type": "stream",
     "text": [
      " 53%|█████▎    | 857/1631 [12:46:43<8:03:00, 37.44s/it]"
     ]
    },
    {
     "name": "stdout",
     "output_type": "stream",
     "text": [
      "https://noaa-hrrr-bdp-pds.s3.amazonaws.com/hrrr.20180918/conus/hrrr.t01z.wrfsfcf01.grib2\n"
     ]
    },
    {
     "name": "stderr",
     "output_type": "stream",
     "text": [
      " 53%|█████▎    | 858/1631 [12:47:39<9:14:57, 43.08s/it]"
     ]
    },
    {
     "name": "stdout",
     "output_type": "stream",
     "text": [
      "https://noaa-hrrr-bdp-pds.s3.amazonaws.com/hrrr.20161128/conus/hrrr.t01z.wrfsfcf01.grib2\n"
     ]
    },
    {
     "name": "stderr",
     "output_type": "stream",
     "text": [
      " 53%|█████▎    | 859/1631 [12:48:21<9:10:35, 42.79s/it]"
     ]
    },
    {
     "name": "stdout",
     "output_type": "stream",
     "text": [
      "https://noaa-hrrr-bdp-pds.s3.amazonaws.com/hrrr.20140817/conus/hrrr.t01z.wrfsfcf01.grib2\n"
     ]
    },
    {
     "name": "stderr",
     "output_type": "stream",
     "text": [
      " 53%|█████▎    | 860/1631 [12:48:22<6:28:32, 30.24s/it]"
     ]
    },
    {
     "name": "stdout",
     "output_type": "stream",
     "text": [
      "https://noaa-hrrr-bdp-pds.s3.amazonaws.com/hrrr.20150630/conus/hrrr.t01z.wrfsfcf01.grib2\n"
     ]
    },
    {
     "name": "stderr",
     "output_type": "stream",
     "text": [
      " 53%|█████▎    | 861/1631 [12:48:52<6:27:05, 30.16s/it]"
     ]
    },
    {
     "name": "stdout",
     "output_type": "stream",
     "text": [
      "https://noaa-hrrr-bdp-pds.s3.amazonaws.com/hrrr.20130701/conus/hrrr.t01z.wrfsfcf01.grib2\n"
     ]
    },
    {
     "name": "stderr",
     "output_type": "stream",
     "text": [
      " 53%|█████▎    | 862/1631 [12:48:53<4:34:18, 21.40s/it]"
     ]
    },
    {
     "name": "stdout",
     "output_type": "stream",
     "text": [
      "https://noaa-hrrr-bdp-pds.s3.amazonaws.com/hrrr.20140630/conus/hrrr.t01z.wrfsfcf01.grib2\n"
     ]
    },
    {
     "name": "stderr",
     "output_type": "stream",
     "text": [
      " 53%|█████▎    | 863/1631 [12:48:54<3:15:26, 15.27s/it]"
     ]
    },
    {
     "name": "stdout",
     "output_type": "stream",
     "text": [
      "https://noaa-hrrr-bdp-pds.s3.amazonaws.com/hrrr.20150708/conus/hrrr.t01z.wrfsfcf01.grib2\n"
     ]
    },
    {
     "name": "stderr",
     "output_type": "stream",
     "text": [
      " 53%|█████▎    | 864/1631 [12:49:23<4:08:36, 19.45s/it]"
     ]
    },
    {
     "name": "stdout",
     "output_type": "stream",
     "text": [
      "https://noaa-hrrr-bdp-pds.s3.amazonaws.com/hrrr.20150608/conus/hrrr.t01z.wrfsfcf01.grib2\n"
     ]
    },
    {
     "name": "stderr",
     "output_type": "stream",
     "text": [
      " 53%|█████▎    | 865/1631 [12:49:51<4:38:31, 21.82s/it]"
     ]
    },
    {
     "name": "stdout",
     "output_type": "stream",
     "text": [
      "https://noaa-hrrr-bdp-pds.s3.amazonaws.com/hrrr.20140808/conus/hrrr.t01z.wrfsfcf01.grib2\n"
     ]
    },
    {
     "name": "stderr",
     "output_type": "stream",
     "text": [
      " 53%|█████▎    | 866/1631 [12:50:17<4:55:54, 23.21s/it]"
     ]
    },
    {
     "name": "stdout",
     "output_type": "stream",
     "text": [
      "https://noaa-hrrr-bdp-pds.s3.amazonaws.com/hrrr.20180302/conus/hrrr.t01z.wrfsfcf01.grib2\n"
     ]
    },
    {
     "name": "stderr",
     "output_type": "stream",
     "text": [
      " 53%|█████▎    | 867/1631 [12:51:34<8:21:37, 39.39s/it]"
     ]
    },
    {
     "name": "stdout",
     "output_type": "stream",
     "text": [
      "https://noaa-hrrr-bdp-pds.s3.amazonaws.com/hrrr.20150701/conus/hrrr.t01z.wrfsfcf01.grib2\n"
     ]
    },
    {
     "name": "stderr",
     "output_type": "stream",
     "text": [
      " 53%|█████▎    | 868/1631 [12:52:02<7:37:47, 36.00s/it]"
     ]
    },
    {
     "name": "stdout",
     "output_type": "stream",
     "text": [
      "https://noaa-hrrr-bdp-pds.s3.amazonaws.com/hrrr.20211201/conus/hrrr.t01z.wrfsfcf01.grib2\n"
     ]
    },
    {
     "name": "stderr",
     "output_type": "stream",
     "text": [
      " 53%|█████▎    | 869/1631 [12:52:35<7:24:44, 35.02s/it]"
     ]
    },
    {
     "name": "stdout",
     "output_type": "stream",
     "text": [
      "https://noaa-hrrr-bdp-pds.s3.amazonaws.com/hrrr.20190905/conus/hrrr.t01z.wrfsfcf01.grib2\n"
     ]
    },
    {
     "name": "stderr",
     "output_type": "stream",
     "text": [
      " 53%|█████▎    | 870/1631 [12:53:18<7:55:19, 37.48s/it]"
     ]
    },
    {
     "name": "stdout",
     "output_type": "stream",
     "text": [
      "https://noaa-hrrr-bdp-pds.s3.amazonaws.com/hrrr.20160606/conus/hrrr.t01z.wrfsfcf01.grib2\n"
     ]
    },
    {
     "name": "stderr",
     "output_type": "stream",
     "text": [
      " 53%|█████▎    | 871/1631 [12:53:57<8:00:09, 37.91s/it]"
     ]
    },
    {
     "name": "stdout",
     "output_type": "stream",
     "text": [
      "https://noaa-hrrr-bdp-pds.s3.amazonaws.com/hrrr.20190421/conus/hrrr.t01z.wrfsfcf01.grib2\n"
     ]
    },
    {
     "name": "stderr",
     "output_type": "stream",
     "text": [
      " 53%|█████▎    | 872/1631 [12:54:55<9:14:03, 43.80s/it]"
     ]
    },
    {
     "name": "stdout",
     "output_type": "stream",
     "text": [
      "https://noaa-hrrr-bdp-pds.s3.amazonaws.com/hrrr.20190214/conus/hrrr.t01z.wrfsfcf01.grib2\n"
     ]
    },
    {
     "name": "stderr",
     "output_type": "stream",
     "text": [
      " 54%|█████▎    | 873/1631 [12:55:47<9:44:29, 46.27s/it]"
     ]
    },
    {
     "name": "stdout",
     "output_type": "stream",
     "text": [
      "https://noaa-hrrr-bdp-pds.s3.amazonaws.com/hrrr.20210803/conus/hrrr.t01z.wrfsfcf01.grib2\n"
     ]
    },
    {
     "name": "stderr",
     "output_type": "stream",
     "text": [
      " 54%|█████▎    | 874/1631 [12:56:26<9:15:49, 44.05s/it]"
     ]
    },
    {
     "name": "stdout",
     "output_type": "stream",
     "text": [
      "https://noaa-hrrr-bdp-pds.s3.amazonaws.com/hrrr.20160210/conus/hrrr.t01z.wrfsfcf01.grib2\n"
     ]
    },
    {
     "name": "stderr",
     "output_type": "stream",
     "text": [
      " 54%|█████▎    | 875/1631 [12:56:50<7:59:04, 38.02s/it]"
     ]
    },
    {
     "name": "stdout",
     "output_type": "stream",
     "text": [
      "https://noaa-hrrr-bdp-pds.s3.amazonaws.com/hrrr.20190109/conus/hrrr.t01z.wrfsfcf01.grib2\n"
     ]
    },
    {
     "name": "stderr",
     "output_type": "stream",
     "text": [
      " 54%|█████▎    | 876/1631 [12:57:27<7:54:48, 37.73s/it]"
     ]
    },
    {
     "name": "stdout",
     "output_type": "stream",
     "text": [
      "https://noaa-hrrr-bdp-pds.s3.amazonaws.com/hrrr.20191007/conus/hrrr.t01z.wrfsfcf01.grib2\n"
     ]
    },
    {
     "name": "stderr",
     "output_type": "stream",
     "text": [
      " 54%|█████▍    | 877/1631 [12:58:05<7:58:02, 38.04s/it]"
     ]
    },
    {
     "name": "stdout",
     "output_type": "stream",
     "text": [
      "https://noaa-hrrr-bdp-pds.s3.amazonaws.com/hrrr.20190203/conus/hrrr.t01z.wrfsfcf01.grib2\n"
     ]
    },
    {
     "name": "stderr",
     "output_type": "stream",
     "text": [
      " 54%|█████▍    | 878/1631 [12:58:42<7:50:46, 37.51s/it]"
     ]
    },
    {
     "name": "stdout",
     "output_type": "stream",
     "text": [
      "https://noaa-hrrr-bdp-pds.s3.amazonaws.com/hrrr.20160105/conus/hrrr.t01z.wrfsfcf01.grib2\n"
     ]
    },
    {
     "name": "stderr",
     "output_type": "stream",
     "text": [
      " 54%|█████▍    | 879/1631 [12:59:03<6:49:35, 32.68s/it]"
     ]
    },
    {
     "name": "stdout",
     "output_type": "stream",
     "text": [
      "https://noaa-hrrr-bdp-pds.s3.amazonaws.com/hrrr.20210525/conus/hrrr.t01z.wrfsfcf01.grib2\n"
     ]
    },
    {
     "name": "stderr",
     "output_type": "stream",
     "text": [
      " 54%|█████▍    | 880/1631 [13:00:20<9:34:32, 45.90s/it]"
     ]
    },
    {
     "name": "stdout",
     "output_type": "stream",
     "text": [
      "https://noaa-hrrr-bdp-pds.s3.amazonaws.com/hrrr.20170818/conus/hrrr.t01z.wrfsfcf01.grib2\n"
     ]
    },
    {
     "name": "stderr",
     "output_type": "stream",
     "text": [
      " 54%|█████▍    | 881/1631 [13:00:52<8:40:54, 41.67s/it]"
     ]
    },
    {
     "name": "stdout",
     "output_type": "stream",
     "text": [
      "https://noaa-hrrr-bdp-pds.s3.amazonaws.com/hrrr.20140512/conus/hrrr.t01z.wrfsfcf01.grib2\n"
     ]
    },
    {
     "name": "stderr",
     "output_type": "stream",
     "text": [
      " 54%|█████▍    | 882/1631 [13:00:53<6:07:43, 29.46s/it]"
     ]
    },
    {
     "name": "stdout",
     "output_type": "stream",
     "text": [
      "https://noaa-hrrr-bdp-pds.s3.amazonaws.com/hrrr.20150521/conus/hrrr.t01z.wrfsfcf01.grib2\n"
     ]
    },
    {
     "name": "stderr",
     "output_type": "stream",
     "text": [
      " 54%|█████▍    | 883/1631 [13:01:11<5:24:41, 26.04s/it]"
     ]
    },
    {
     "name": "stdout",
     "output_type": "stream",
     "text": [
      "https://noaa-hrrr-bdp-pds.s3.amazonaws.com/hrrr.20190909/conus/hrrr.t01z.wrfsfcf01.grib2\n"
     ]
    },
    {
     "name": "stderr",
     "output_type": "stream",
     "text": [
      " 54%|█████▍    | 884/1631 [13:02:01<6:56:13, 33.43s/it]"
     ]
    },
    {
     "name": "stdout",
     "output_type": "stream",
     "text": [
      "https://noaa-hrrr-bdp-pds.s3.amazonaws.com/hrrr.20170420/conus/hrrr.t01z.wrfsfcf01.grib2\n"
     ]
    },
    {
     "name": "stderr",
     "output_type": "stream",
     "text": [
      " 54%|█████▍    | 885/1631 [13:02:38<7:08:14, 34.44s/it]"
     ]
    },
    {
     "name": "stdout",
     "output_type": "stream",
     "text": [
      "https://noaa-hrrr-bdp-pds.s3.amazonaws.com/hrrr.20150619/conus/hrrr.t01z.wrfsfcf01.grib2\n"
     ]
    },
    {
     "name": "stderr",
     "output_type": "stream",
     "text": [
      " 54%|█████▍    | 886/1631 [13:03:01<6:24:01, 30.93s/it]"
     ]
    },
    {
     "name": "stdout",
     "output_type": "stream",
     "text": [
      "https://noaa-hrrr-bdp-pds.s3.amazonaws.com/hrrr.20200819/conus/hrrr.t01z.wrfsfcf01.grib2\n"
     ]
    },
    {
     "name": "stderr",
     "output_type": "stream",
     "text": [
      " 54%|█████▍    | 887/1631 [13:03:52<7:38:38, 36.99s/it]"
     ]
    },
    {
     "name": "stdout",
     "output_type": "stream",
     "text": [
      "https://noaa-hrrr-bdp-pds.s3.amazonaws.com/hrrr.20140723/conus/hrrr.t01z.wrfsfcf01.grib2\n"
     ]
    },
    {
     "name": "stderr",
     "output_type": "stream",
     "text": [
      " 54%|█████▍    | 888/1631 [13:03:53<5:24:14, 26.18s/it]"
     ]
    },
    {
     "name": "stdout",
     "output_type": "stream",
     "text": [
      "https://noaa-hrrr-bdp-pds.s3.amazonaws.com/hrrr.20210708/conus/hrrr.t01z.wrfsfcf01.grib2\n"
     ]
    },
    {
     "name": "stderr",
     "output_type": "stream",
     "text": [
      " 55%|█████▍    | 889/1631 [13:04:47<7:08:45, 34.67s/it]"
     ]
    },
    {
     "name": "stdout",
     "output_type": "stream",
     "text": [
      "https://noaa-hrrr-bdp-pds.s3.amazonaws.com/hrrr.20130910/conus/hrrr.t01z.wrfsfcf01.grib2\n"
     ]
    },
    {
     "name": "stderr",
     "output_type": "stream",
     "text": [
      " 55%|█████▍    | 890/1631 [13:04:48<5:03:20, 24.56s/it]"
     ]
    },
    {
     "name": "stdout",
     "output_type": "stream",
     "text": [
      "https://noaa-hrrr-bdp-pds.s3.amazonaws.com/hrrr.20150825/conus/hrrr.t01z.wrfsfcf01.grib2\n"
     ]
    },
    {
     "name": "stderr",
     "output_type": "stream",
     "text": [
      " 55%|█████▍    | 891/1631 [13:05:28<5:57:17, 28.97s/it]"
     ]
    },
    {
     "name": "stdout",
     "output_type": "stream",
     "text": [
      "https://noaa-hrrr-bdp-pds.s3.amazonaws.com/hrrr.20210907/conus/hrrr.t01z.wrfsfcf01.grib2\n"
     ]
    },
    {
     "name": "stderr",
     "output_type": "stream",
     "text": [
      " 55%|█████▍    | 892/1631 [13:06:14<6:59:47, 34.08s/it]"
     ]
    },
    {
     "name": "stdout",
     "output_type": "stream",
     "text": [
      "https://noaa-hrrr-bdp-pds.s3.amazonaws.com/hrrr.20170601/conus/hrrr.t01z.wrfsfcf01.grib2\n"
     ]
    },
    {
     "name": "stderr",
     "output_type": "stream",
     "text": [
      " 55%|█████▍    | 893/1631 [13:07:09<8:16:59, 40.41s/it]"
     ]
    },
    {
     "name": "stdout",
     "output_type": "stream",
     "text": [
      "https://noaa-hrrr-bdp-pds.s3.amazonaws.com/hrrr.20140904/conus/hrrr.t01z.wrfsfcf01.grib2\n"
     ]
    },
    {
     "name": "stderr",
     "output_type": "stream",
     "text": [
      " 55%|█████▍    | 894/1631 [13:07:34<7:19:00, 35.74s/it]"
     ]
    },
    {
     "name": "stdout",
     "output_type": "stream",
     "text": [
      "https://noaa-hrrr-bdp-pds.s3.amazonaws.com/hrrr.20161209/conus/hrrr.t01z.wrfsfcf01.grib2\n"
     ]
    },
    {
     "name": "stderr",
     "output_type": "stream",
     "text": [
      " 55%|█████▍    | 895/1631 [13:08:10<7:22:00, 36.03s/it]"
     ]
    },
    {
     "name": "stdout",
     "output_type": "stream",
     "text": [
      "https://noaa-hrrr-bdp-pds.s3.amazonaws.com/hrrr.20190131/conus/hrrr.t01z.wrfsfcf01.grib2\n"
     ]
    },
    {
     "name": "stderr",
     "output_type": "stream",
     "text": [
      " 55%|█████▍    | 896/1631 [13:08:39<6:54:47, 33.86s/it]"
     ]
    },
    {
     "name": "stdout",
     "output_type": "stream",
     "text": [
      "https://noaa-hrrr-bdp-pds.s3.amazonaws.com/hrrr.20150408/conus/hrrr.t01z.wrfsfcf01.grib2\n"
     ]
    },
    {
     "name": "stderr",
     "output_type": "stream",
     "text": [
      " 55%|█████▍    | 897/1631 [13:09:21<7:21:36, 36.10s/it]"
     ]
    },
    {
     "name": "stdout",
     "output_type": "stream",
     "text": [
      "https://noaa-hrrr-bdp-pds.s3.amazonaws.com/hrrr.20140612/conus/hrrr.t01z.wrfsfcf01.grib2\n"
     ]
    },
    {
     "name": "stderr",
     "output_type": "stream",
     "text": [
      " 55%|█████▌    | 898/1631 [13:09:22<5:12:21, 25.57s/it]"
     ]
    },
    {
     "name": "stdout",
     "output_type": "stream",
     "text": [
      "https://noaa-hrrr-bdp-pds.s3.amazonaws.com/hrrr.20190308/conus/hrrr.t01z.wrfsfcf01.grib2\n"
     ]
    },
    {
     "name": "stderr",
     "output_type": "stream",
     "text": [
      " 55%|█████▌    | 899/1631 [13:10:02<6:06:31, 30.04s/it]"
     ]
    },
    {
     "name": "stdout",
     "output_type": "stream",
     "text": [
      "https://noaa-hrrr-bdp-pds.s3.amazonaws.com/hrrr.20151208/conus/hrrr.t01z.wrfsfcf01.grib2\n"
     ]
    },
    {
     "name": "stderr",
     "output_type": "stream",
     "text": [
      " 55%|█████▌    | 900/1631 [13:10:30<5:57:26, 29.34s/it]"
     ]
    },
    {
     "name": "stdout",
     "output_type": "stream",
     "text": [
      "https://noaa-hrrr-bdp-pds.s3.amazonaws.com/hrrr.20211217/conus/hrrr.t01z.wrfsfcf01.grib2\n"
     ]
    },
    {
     "name": "stderr",
     "output_type": "stream",
     "text": [
      " 55%|█████▌    | 901/1631 [13:11:04<6:15:15, 30.84s/it]"
     ]
    },
    {
     "name": "stdout",
     "output_type": "stream",
     "text": [
      "https://noaa-hrrr-bdp-pds.s3.amazonaws.com/hrrr.20160919/conus/hrrr.t01z.wrfsfcf01.grib2\n"
     ]
    },
    {
     "name": "stderr",
     "output_type": "stream",
     "text": [
      " 55%|█████▌    | 902/1631 [13:11:05<4:25:51, 21.88s/it]"
     ]
    },
    {
     "name": "stdout",
     "output_type": "stream",
     "text": [
      "https://noaa-hrrr-bdp-pds.s3.amazonaws.com/hrrr.20130403/conus/hrrr.t01z.wrfsfcf01.grib2\n"
     ]
    },
    {
     "name": "stderr",
     "output_type": "stream",
     "text": [
      " 55%|█████▌    | 903/1631 [13:11:06<3:09:25, 15.61s/it]"
     ]
    },
    {
     "name": "stdout",
     "output_type": "stream",
     "text": [
      "https://noaa-hrrr-bdp-pds.s3.amazonaws.com/hrrr.20170111/conus/hrrr.t01z.wrfsfcf01.grib2\n"
     ]
    },
    {
     "name": "stderr",
     "output_type": "stream",
     "text": [
      " 55%|█████▌    | 904/1631 [13:11:07<2:16:02, 11.23s/it]"
     ]
    },
    {
     "name": "stdout",
     "output_type": "stream",
     "text": [
      "https://noaa-hrrr-bdp-pds.s3.amazonaws.com/hrrr.20160516/conus/hrrr.t01z.wrfsfcf01.grib2\n"
     ]
    },
    {
     "name": "stderr",
     "output_type": "stream",
     "text": [
      " 55%|█████▌    | 905/1631 [13:11:41<3:40:05, 18.19s/it]"
     ]
    },
    {
     "name": "stdout",
     "output_type": "stream",
     "text": [
      "https://noaa-hrrr-bdp-pds.s3.amazonaws.com/hrrr.20160405/conus/hrrr.t01z.wrfsfcf01.grib2\n"
     ]
    },
    {
     "name": "stderr",
     "output_type": "stream",
     "text": [
      " 56%|█████▌    | 906/1631 [13:12:07<4:04:47, 20.26s/it]"
     ]
    },
    {
     "name": "stdout",
     "output_type": "stream",
     "text": [
      "https://noaa-hrrr-bdp-pds.s3.amazonaws.com/hrrr.20171027/conus/hrrr.t01z.wrfsfcf01.grib2\n"
     ]
    },
    {
     "name": "stderr",
     "output_type": "stream",
     "text": [
      " 56%|█████▌    | 907/1631 [13:12:46<5:12:19, 25.88s/it]"
     ]
    },
    {
     "name": "stdout",
     "output_type": "stream",
     "text": [
      "https://noaa-hrrr-bdp-pds.s3.amazonaws.com/hrrr.20180530/conus/hrrr.t01z.wrfsfcf01.grib2\n"
     ]
    },
    {
     "name": "stderr",
     "output_type": "stream",
     "text": [
      " 56%|█████▌    | 908/1631 [13:13:41<6:59:41, 34.83s/it]"
     ]
    },
    {
     "name": "stdout",
     "output_type": "stream",
     "text": [
      "https://noaa-hrrr-bdp-pds.s3.amazonaws.com/hrrr.20180522/conus/hrrr.t01z.wrfsfcf01.grib2\n"
     ]
    },
    {
     "name": "stderr",
     "output_type": "stream",
     "text": [
      " 56%|█████▌    | 909/1631 [13:14:22<7:21:55, 36.73s/it]"
     ]
    },
    {
     "name": "stdout",
     "output_type": "stream",
     "text": [
      "https://noaa-hrrr-bdp-pds.s3.amazonaws.com/hrrr.20170502/conus/hrrr.t01z.wrfsfcf01.grib2\n"
     ]
    },
    {
     "name": "stderr",
     "output_type": "stream",
     "text": [
      " 56%|█████▌    | 910/1631 [13:15:00<7:24:25, 36.98s/it]"
     ]
    },
    {
     "name": "stdout",
     "output_type": "stream",
     "text": [
      "https://noaa-hrrr-bdp-pds.s3.amazonaws.com/hrrr.20160628/conus/hrrr.t01z.wrfsfcf01.grib2\n"
     ]
    },
    {
     "name": "stderr",
     "output_type": "stream",
     "text": [
      " 56%|█████▌    | 911/1631 [13:15:25<6:39:34, 33.30s/it]"
     ]
    },
    {
     "name": "stdout",
     "output_type": "stream",
     "text": [
      "https://noaa-hrrr-bdp-pds.s3.amazonaws.com/hrrr.20191001/conus/hrrr.t01z.wrfsfcf01.grib2\n"
     ]
    },
    {
     "name": "stderr",
     "output_type": "stream",
     "text": [
      " 56%|█████▌    | 912/1631 [13:15:53<6:22:17, 31.90s/it]"
     ]
    },
    {
     "name": "stdout",
     "output_type": "stream",
     "text": [
      "https://noaa-hrrr-bdp-pds.s3.amazonaws.com/hrrr.20210112/conus/hrrr.t01z.wrfsfcf01.grib2\n"
     ]
    },
    {
     "name": "stderr",
     "output_type": "stream",
     "text": [
      " 56%|█████▌    | 913/1631 [13:16:49<7:48:29, 39.15s/it]"
     ]
    },
    {
     "name": "stdout",
     "output_type": "stream",
     "text": [
      "https://noaa-hrrr-bdp-pds.s3.amazonaws.com/hrrr.20150106/conus/hrrr.t01z.wrfsfcf01.grib2\n"
     ]
    },
    {
     "name": "stderr",
     "output_type": "stream",
     "text": [
      " 56%|█████▌    | 914/1631 [13:17:16<7:04:09, 35.49s/it]"
     ]
    },
    {
     "name": "stdout",
     "output_type": "stream",
     "text": [
      "https://noaa-hrrr-bdp-pds.s3.amazonaws.com/hrrr.20181219/conus/hrrr.t01z.wrfsfcf01.grib2\n"
     ]
    },
    {
     "name": "stderr",
     "output_type": "stream",
     "text": [
      " 56%|█████▌    | 915/1631 [13:17:59<7:27:50, 37.53s/it]"
     ]
    },
    {
     "name": "stdout",
     "output_type": "stream",
     "text": [
      "https://noaa-hrrr-bdp-pds.s3.amazonaws.com/hrrr.20130326/conus/hrrr.t01z.wrfsfcf01.grib2\n"
     ]
    },
    {
     "name": "stderr",
     "output_type": "stream",
     "text": [
      " 56%|█████▌    | 916/1631 [13:18:00<5:16:30, 26.56s/it]"
     ]
    },
    {
     "name": "stdout",
     "output_type": "stream",
     "text": [
      "https://noaa-hrrr-bdp-pds.s3.amazonaws.com/hrrr.20130625/conus/hrrr.t01z.wrfsfcf01.grib2\n"
     ]
    },
    {
     "name": "stderr",
     "output_type": "stream",
     "text": [
      " 56%|█████▌    | 917/1631 [13:18:01<3:44:39, 18.88s/it]"
     ]
    },
    {
     "name": "stdout",
     "output_type": "stream",
     "text": [
      "https://noaa-hrrr-bdp-pds.s3.amazonaws.com/hrrr.20170807/conus/hrrr.t01z.wrfsfcf01.grib2\n"
     ]
    },
    {
     "name": "stderr",
     "output_type": "stream",
     "text": [
      " 56%|█████▋    | 918/1631 [13:19:14<6:58:20, 35.20s/it]"
     ]
    },
    {
     "name": "stdout",
     "output_type": "stream",
     "text": [
      "https://noaa-hrrr-bdp-pds.s3.amazonaws.com/hrrr.20171211/conus/hrrr.t01z.wrfsfcf01.grib2\n"
     ]
    },
    {
     "name": "stderr",
     "output_type": "stream",
     "text": [
      " 56%|█████▋    | 919/1631 [13:19:56<7:22:06, 37.26s/it]"
     ]
    },
    {
     "name": "stdout",
     "output_type": "stream",
     "text": [
      "https://noaa-hrrr-bdp-pds.s3.amazonaws.com/hrrr.20140826/conus/hrrr.t01z.wrfsfcf01.grib2\n"
     ]
    },
    {
     "name": "stderr",
     "output_type": "stream",
     "text": [
      " 56%|█████▋    | 920/1631 [13:19:57<5:12:59, 26.41s/it]"
     ]
    },
    {
     "name": "stdout",
     "output_type": "stream",
     "text": [
      "https://noaa-hrrr-bdp-pds.s3.amazonaws.com/hrrr.20130718/conus/hrrr.t01z.wrfsfcf01.grib2\n"
     ]
    },
    {
     "name": "stderr",
     "output_type": "stream",
     "text": [
      " 56%|█████▋    | 921/1631 [13:19:58<3:42:09, 18.77s/it]"
     ]
    },
    {
     "name": "stdout",
     "output_type": "stream",
     "text": [
      "https://noaa-hrrr-bdp-pds.s3.amazonaws.com/hrrr.20170811/conus/hrrr.t01z.wrfsfcf01.grib2\n"
     ]
    },
    {
     "name": "stderr",
     "output_type": "stream",
     "text": [
      " 57%|█████▋    | 922/1631 [13:20:38<4:56:41, 25.11s/it]"
     ]
    },
    {
     "name": "stdout",
     "output_type": "stream",
     "text": [
      "https://noaa-hrrr-bdp-pds.s3.amazonaws.com/hrrr.20190502/conus/hrrr.t01z.wrfsfcf01.grib2\n"
     ]
    },
    {
     "name": "stderr",
     "output_type": "stream",
     "text": [
      " 57%|█████▋    | 923/1631 [13:21:17<5:45:35, 29.29s/it]"
     ]
    },
    {
     "name": "stdout",
     "output_type": "stream",
     "text": [
      "https://noaa-hrrr-bdp-pds.s3.amazonaws.com/hrrr.20201012/conus/hrrr.t01z.wrfsfcf01.grib2\n"
     ]
    },
    {
     "name": "stderr",
     "output_type": "stream",
     "text": [
      " 57%|█████▋    | 924/1631 [13:21:44<5:37:08, 28.61s/it]"
     ]
    },
    {
     "name": "stdout",
     "output_type": "stream",
     "text": [
      "https://noaa-hrrr-bdp-pds.s3.amazonaws.com/hrrr.20180402/conus/hrrr.t01z.wrfsfcf01.grib2\n"
     ]
    },
    {
     "name": "stderr",
     "output_type": "stream",
     "text": [
      " 57%|█████▋    | 925/1631 [13:22:18<5:56:35, 30.31s/it]"
     ]
    },
    {
     "name": "stdout",
     "output_type": "stream",
     "text": [
      "https://noaa-hrrr-bdp-pds.s3.amazonaws.com/hrrr.20160118/conus/hrrr.t01z.wrfsfcf01.grib2\n"
     ]
    },
    {
     "name": "stderr",
     "output_type": "stream",
     "text": [
      " 57%|█████▋    | 926/1631 [13:22:41<5:31:20, 28.20s/it]"
     ]
    },
    {
     "name": "stdout",
     "output_type": "stream",
     "text": [
      "https://noaa-hrrr-bdp-pds.s3.amazonaws.com/hrrr.20181015/conus/hrrr.t01z.wrfsfcf01.grib2\n"
     ]
    },
    {
     "name": "stderr",
     "output_type": "stream",
     "text": [
      " 57%|█████▋    | 927/1631 [13:23:30<6:44:04, 34.44s/it]"
     ]
    },
    {
     "name": "stdout",
     "output_type": "stream",
     "text": [
      "https://noaa-hrrr-bdp-pds.s3.amazonaws.com/hrrr.20210225/conus/hrrr.t01z.wrfsfcf01.grib2\n"
     ]
    },
    {
     "name": "stderr",
     "output_type": "stream",
     "text": [
      " 57%|█████▋    | 928/1631 [13:24:01<6:28:30, 33.16s/it]"
     ]
    },
    {
     "name": "stdout",
     "output_type": "stream",
     "text": [
      "https://noaa-hrrr-bdp-pds.s3.amazonaws.com/hrrr.20161019/conus/hrrr.t01z.wrfsfcf01.grib2\n"
     ]
    },
    {
     "name": "stderr",
     "output_type": "stream",
     "text": [
      " 57%|█████▋    | 929/1631 [13:24:31<6:18:17, 32.33s/it]"
     ]
    },
    {
     "name": "stdout",
     "output_type": "stream",
     "text": [
      "https://noaa-hrrr-bdp-pds.s3.amazonaws.com/hrrr.20150716/conus/hrrr.t01z.wrfsfcf01.grib2\n"
     ]
    },
    {
     "name": "stderr",
     "output_type": "stream",
     "text": [
      " 57%|█████▋    | 930/1631 [13:25:01<6:10:34, 31.72s/it]"
     ]
    },
    {
     "name": "stdout",
     "output_type": "stream",
     "text": [
      "https://noaa-hrrr-bdp-pds.s3.amazonaws.com/hrrr.20170921/conus/hrrr.t01z.wrfsfcf01.grib2\n"
     ]
    },
    {
     "name": "stderr",
     "output_type": "stream",
     "text": [
      " 57%|█████▋    | 931/1631 [13:25:35<6:17:46, 32.38s/it]"
     ]
    },
    {
     "name": "stdout",
     "output_type": "stream",
     "text": [
      "https://noaa-hrrr-bdp-pds.s3.amazonaws.com/hrrr.20190624/conus/hrrr.t01z.wrfsfcf01.grib2\n"
     ]
    },
    {
     "name": "stderr",
     "output_type": "stream",
     "text": [
      " 57%|█████▋    | 932/1631 [13:26:39<8:07:41, 41.86s/it]"
     ]
    },
    {
     "name": "stdout",
     "output_type": "stream",
     "text": [
      "https://noaa-hrrr-bdp-pds.s3.amazonaws.com/hrrr.20190420/conus/hrrr.t01z.wrfsfcf01.grib2\n"
     ]
    },
    {
     "name": "stderr",
     "output_type": "stream",
     "text": [
      " 57%|█████▋    | 933/1631 [13:27:13<7:39:46, 39.52s/it]"
     ]
    },
    {
     "name": "stdout",
     "output_type": "stream",
     "text": [
      "https://noaa-hrrr-bdp-pds.s3.amazonaws.com/hrrr.20130430/conus/hrrr.t01z.wrfsfcf01.grib2\n"
     ]
    },
    {
     "name": "stderr",
     "output_type": "stream",
     "text": [
      " 57%|█████▋    | 934/1631 [13:27:14<5:24:38, 27.95s/it]"
     ]
    },
    {
     "name": "stdout",
     "output_type": "stream",
     "text": [
      "https://noaa-hrrr-bdp-pds.s3.amazonaws.com/hrrr.20150715/conus/hrrr.t01z.wrfsfcf01.grib2\n"
     ]
    },
    {
     "name": "stderr",
     "output_type": "stream",
     "text": [
      " 57%|█████▋    | 935/1631 [13:27:35<4:58:11, 25.71s/it]"
     ]
    },
    {
     "name": "stdout",
     "output_type": "stream",
     "text": [
      "https://noaa-hrrr-bdp-pds.s3.amazonaws.com/hrrr.20210809/conus/hrrr.t01z.wrfsfcf01.grib2\n"
     ]
    },
    {
     "name": "stderr",
     "output_type": "stream",
     "text": [
      " 57%|█████▋    | 936/1631 [13:28:29<6:37:31, 34.32s/it]"
     ]
    },
    {
     "name": "stdout",
     "output_type": "stream",
     "text": [
      "https://noaa-hrrr-bdp-pds.s3.amazonaws.com/hrrr.20130221/conus/hrrr.t01z.wrfsfcf01.grib2\n"
     ]
    },
    {
     "name": "stderr",
     "output_type": "stream",
     "text": [
      " 57%|█████▋    | 937/1631 [13:28:30<4:41:15, 24.32s/it]"
     ]
    },
    {
     "name": "stdout",
     "output_type": "stream",
     "text": [
      "https://noaa-hrrr-bdp-pds.s3.amazonaws.com/hrrr.20141204/conus/hrrr.t01z.wrfsfcf01.grib2\n"
     ]
    },
    {
     "name": "stderr",
     "output_type": "stream",
     "text": [
      " 58%|█████▊    | 938/1631 [13:29:18<6:03:04, 31.44s/it]"
     ]
    },
    {
     "name": "stdout",
     "output_type": "stream",
     "text": [
      "https://noaa-hrrr-bdp-pds.s3.amazonaws.com/hrrr.20170110/conus/hrrr.t01z.wrfsfcf01.grib2\n"
     ]
    },
    {
     "name": "stderr",
     "output_type": "stream",
     "text": [
      " 58%|█████▊    | 939/1631 [13:30:23<7:59:11, 41.55s/it]"
     ]
    },
    {
     "name": "stdout",
     "output_type": "stream",
     "text": [
      "https://noaa-hrrr-bdp-pds.s3.amazonaws.com/hrrr.20200218/conus/hrrr.t01z.wrfsfcf01.grib2\n"
     ]
    },
    {
     "name": "stderr",
     "output_type": "stream",
     "text": [
      " 58%|█████▊    | 940/1631 [13:31:05<7:58:04, 41.51s/it]"
     ]
    },
    {
     "name": "stdout",
     "output_type": "stream",
     "text": [
      "https://noaa-hrrr-bdp-pds.s3.amazonaws.com/hrrr.20160106/conus/hrrr.t01z.wrfsfcf01.grib2\n"
     ]
    },
    {
     "name": "stderr",
     "output_type": "stream",
     "text": [
      " 58%|█████▊    | 941/1631 [13:31:33<7:10:33, 37.44s/it]"
     ]
    },
    {
     "name": "stdout",
     "output_type": "stream",
     "text": [
      "https://noaa-hrrr-bdp-pds.s3.amazonaws.com/hrrr.20160614/conus/hrrr.t01z.wrfsfcf01.grib2\n"
     ]
    },
    {
     "name": "stderr",
     "output_type": "stream",
     "text": [
      " 58%|█████▊    | 942/1631 [13:32:25<8:01:55, 41.97s/it]"
     ]
    },
    {
     "name": "stdout",
     "output_type": "stream",
     "text": [
      "https://noaa-hrrr-bdp-pds.s3.amazonaws.com/hrrr.20140203/conus/hrrr.t01z.wrfsfcf01.grib2\n"
     ]
    },
    {
     "name": "stderr",
     "output_type": "stream",
     "text": [
      " 58%|█████▊    | 943/1631 [13:32:26<5:40:05, 29.66s/it]"
     ]
    },
    {
     "name": "stdout",
     "output_type": "stream",
     "text": [
      "https://noaa-hrrr-bdp-pds.s3.amazonaws.com/hrrr.20200309/conus/hrrr.t01z.wrfsfcf01.grib2\n"
     ]
    },
    {
     "name": "stderr",
     "output_type": "stream",
     "text": [
      " 58%|█████▊    | 944/1631 [13:32:53<5:31:28, 28.95s/it]"
     ]
    },
    {
     "name": "stdout",
     "output_type": "stream",
     "text": [
      "https://noaa-hrrr-bdp-pds.s3.amazonaws.com/hrrr.20190608/conus/hrrr.t01z.wrfsfcf01.grib2\n"
     ]
    },
    {
     "name": "stderr",
     "output_type": "stream",
     "text": [
      " 58%|█████▊    | 945/1631 [13:33:18<5:16:48, 27.71s/it]"
     ]
    },
    {
     "name": "stdout",
     "output_type": "stream",
     "text": [
      "https://noaa-hrrr-bdp-pds.s3.amazonaws.com/hrrr.20150318/conus/hrrr.t01z.wrfsfcf01.grib2\n"
     ]
    },
    {
     "name": "stderr",
     "output_type": "stream",
     "text": [
      " 58%|█████▊    | 946/1631 [13:33:55<5:46:37, 30.36s/it]"
     ]
    },
    {
     "name": "stdout",
     "output_type": "stream",
     "text": [
      "https://noaa-hrrr-bdp-pds.s3.amazonaws.com/hrrr.20130514/conus/hrrr.t01z.wrfsfcf01.grib2\n"
     ]
    },
    {
     "name": "stderr",
     "output_type": "stream",
     "text": [
      " 58%|█████▊    | 947/1631 [13:33:56<4:06:04, 21.59s/it]"
     ]
    },
    {
     "name": "stdout",
     "output_type": "stream",
     "text": [
      "https://noaa-hrrr-bdp-pds.s3.amazonaws.com/hrrr.20151110/conus/hrrr.t01z.wrfsfcf01.grib2\n"
     ]
    },
    {
     "name": "stderr",
     "output_type": "stream",
     "text": [
      " 58%|█████▊    | 948/1631 [13:34:39<5:20:19, 28.14s/it]"
     ]
    },
    {
     "name": "stdout",
     "output_type": "stream",
     "text": [
      "https://noaa-hrrr-bdp-pds.s3.amazonaws.com/hrrr.20130815/conus/hrrr.t01z.wrfsfcf01.grib2\n"
     ]
    },
    {
     "name": "stderr",
     "output_type": "stream",
     "text": [
      " 58%|█████▊    | 949/1631 [13:34:40<3:47:05, 19.98s/it]"
     ]
    },
    {
     "name": "stdout",
     "output_type": "stream",
     "text": [
      "https://noaa-hrrr-bdp-pds.s3.amazonaws.com/hrrr.20150911/conus/hrrr.t01z.wrfsfcf01.grib2\n"
     ]
    },
    {
     "name": "stderr",
     "output_type": "stream",
     "text": [
      " 58%|█████▊    | 950/1631 [13:35:00<3:47:00, 20.00s/it]"
     ]
    },
    {
     "name": "stdout",
     "output_type": "stream",
     "text": [
      "https://noaa-hrrr-bdp-pds.s3.amazonaws.com/hrrr.20180417/conus/hrrr.t01z.wrfsfcf01.grib2\n"
     ]
    },
    {
     "name": "stderr",
     "output_type": "stream",
     "text": [
      " 58%|█████▊    | 951/1631 [13:35:37<4:43:36, 25.02s/it]"
     ]
    },
    {
     "name": "stdout",
     "output_type": "stream",
     "text": [
      "https://noaa-hrrr-bdp-pds.s3.amazonaws.com/hrrr.20181018/conus/hrrr.t01z.wrfsfcf01.grib2\n"
     ]
    },
    {
     "name": "stderr",
     "output_type": "stream",
     "text": [
      " 58%|█████▊    | 952/1631 [13:37:17<8:55:48, 47.35s/it]"
     ]
    },
    {
     "name": "stdout",
     "output_type": "stream",
     "text": [
      "https://noaa-hrrr-bdp-pds.s3.amazonaws.com/hrrr.20170409/conus/hrrr.t01z.wrfsfcf01.grib2\n"
     ]
    },
    {
     "name": "stderr",
     "output_type": "stream",
     "text": [
      " 58%|█████▊    | 953/1631 [13:37:51<8:11:55, 43.53s/it]"
     ]
    },
    {
     "name": "stdout",
     "output_type": "stream",
     "text": [
      "https://noaa-hrrr-bdp-pds.s3.amazonaws.com/hrrr.20151021/conus/hrrr.t01z.wrfsfcf01.grib2\n"
     ]
    },
    {
     "name": "stderr",
     "output_type": "stream",
     "text": [
      " 58%|█████▊    | 954/1631 [13:38:21<7:25:30, 39.48s/it]"
     ]
    },
    {
     "name": "stdout",
     "output_type": "stream",
     "text": [
      "https://noaa-hrrr-bdp-pds.s3.amazonaws.com/hrrr.20160826/conus/hrrr.t01z.wrfsfcf01.grib2\n"
     ]
    },
    {
     "name": "stderr",
     "output_type": "stream",
     "text": [
      " 59%|█████▊    | 955/1631 [13:38:55<7:07:16, 37.92s/it]"
     ]
    },
    {
     "name": "stdout",
     "output_type": "stream",
     "text": [
      "https://noaa-hrrr-bdp-pds.s3.amazonaws.com/hrrr.20140811/conus/hrrr.t01z.wrfsfcf01.grib2\n"
     ]
    },
    {
     "name": "stderr",
     "output_type": "stream",
     "text": [
      " 59%|█████▊    | 956/1631 [13:38:56<5:01:54, 26.84s/it]"
     ]
    },
    {
     "name": "stdout",
     "output_type": "stream",
     "text": [
      "https://noaa-hrrr-bdp-pds.s3.amazonaws.com/hrrr.20131024/conus/hrrr.t01z.wrfsfcf01.grib2\n"
     ]
    },
    {
     "name": "stderr",
     "output_type": "stream",
     "text": [
      " 59%|█████▊    | 957/1631 [13:38:57<3:34:07, 19.06s/it]"
     ]
    },
    {
     "name": "stdout",
     "output_type": "stream",
     "text": [
      "https://noaa-hrrr-bdp-pds.s3.amazonaws.com/hrrr.20190806/conus/hrrr.t01z.wrfsfcf01.grib2\n"
     ]
    },
    {
     "name": "stderr",
     "output_type": "stream",
     "text": [
      " 59%|█████▊    | 958/1631 [13:40:12<6:40:45, 35.73s/it]"
     ]
    },
    {
     "name": "stdout",
     "output_type": "stream",
     "text": [
      "https://noaa-hrrr-bdp-pds.s3.amazonaws.com/hrrr.20150812/conus/hrrr.t01z.wrfsfcf01.grib2\n"
     ]
    },
    {
     "name": "stderr",
     "output_type": "stream",
     "text": [
      " 59%|█████▉    | 959/1631 [13:40:37<6:04:00, 32.50s/it]"
     ]
    },
    {
     "name": "stdout",
     "output_type": "stream",
     "text": [
      "https://noaa-hrrr-bdp-pds.s3.amazonaws.com/hrrr.20150910/conus/hrrr.t01z.wrfsfcf01.grib2\n"
     ]
    },
    {
     "name": "stderr",
     "output_type": "stream",
     "text": [
      " 59%|█████▉    | 960/1631 [13:41:00<5:33:25, 29.81s/it]"
     ]
    },
    {
     "name": "stdout",
     "output_type": "stream",
     "text": [
      "https://noaa-hrrr-bdp-pds.s3.amazonaws.com/hrrr.20140417/conus/hrrr.t01z.wrfsfcf01.grib2\n"
     ]
    },
    {
     "name": "stderr",
     "output_type": "stream",
     "text": [
      " 59%|█████▉    | 961/1631 [13:41:01<3:56:11, 21.15s/it]"
     ]
    },
    {
     "name": "stdout",
     "output_type": "stream",
     "text": [
      "https://noaa-hrrr-bdp-pds.s3.amazonaws.com/hrrr.20210922/conus/hrrr.t01z.wrfsfcf01.grib2\n"
     ]
    },
    {
     "name": "stderr",
     "output_type": "stream",
     "text": [
      " 59%|█████▉    | 962/1631 [13:41:51<5:32:24, 29.81s/it]"
     ]
    },
    {
     "name": "stdout",
     "output_type": "stream",
     "text": [
      "https://noaa-hrrr-bdp-pds.s3.amazonaws.com/hrrr.20190711/conus/hrrr.t01z.wrfsfcf01.grib2\n"
     ]
    },
    {
     "name": "stderr",
     "output_type": "stream",
     "text": [
      " 59%|█████▉    | 963/1631 [13:42:33<6:11:56, 33.41s/it]"
     ]
    },
    {
     "name": "stdout",
     "output_type": "stream",
     "text": [
      "https://noaa-hrrr-bdp-pds.s3.amazonaws.com/hrrr.20140908/conus/hrrr.t01z.wrfsfcf01.grib2\n"
     ]
    },
    {
     "name": "stderr",
     "output_type": "stream",
     "text": [
      " 59%|█████▉    | 964/1631 [13:43:02<5:54:45, 31.91s/it]"
     ]
    },
    {
     "name": "stdout",
     "output_type": "stream",
     "text": [
      "https://noaa-hrrr-bdp-pds.s3.amazonaws.com/hrrr.20140915/conus/hrrr.t01z.wrfsfcf01.grib2\n"
     ]
    },
    {
     "name": "stderr",
     "output_type": "stream",
     "text": [
      " 59%|█████▉    | 965/1631 [13:43:03<4:11:01, 22.61s/it]"
     ]
    },
    {
     "name": "stdout",
     "output_type": "stream",
     "text": [
      "https://noaa-hrrr-bdp-pds.s3.amazonaws.com/hrrr.20180607/conus/hrrr.t01z.wrfsfcf01.grib2\n"
     ]
    },
    {
     "name": "stderr",
     "output_type": "stream",
     "text": [
      " 59%|█████▉    | 966/1631 [13:44:19<7:10:47, 38.87s/it]"
     ]
    },
    {
     "name": "stdout",
     "output_type": "stream",
     "text": [
      "https://noaa-hrrr-bdp-pds.s3.amazonaws.com/hrrr.20130808/conus/hrrr.t01z.wrfsfcf01.grib2\n"
     ]
    },
    {
     "name": "stderr",
     "output_type": "stream",
     "text": [
      " 59%|█████▉    | 967/1631 [13:44:20<5:04:12, 27.49s/it]"
     ]
    },
    {
     "name": "stdout",
     "output_type": "stream",
     "text": [
      "https://noaa-hrrr-bdp-pds.s3.amazonaws.com/hrrr.20150609/conus/hrrr.t01z.wrfsfcf01.grib2\n"
     ]
    },
    {
     "name": "stderr",
     "output_type": "stream",
     "text": [
      " 59%|█████▉    | 968/1631 [13:44:21<3:35:51, 19.53s/it]"
     ]
    },
    {
     "name": "stdout",
     "output_type": "stream",
     "text": [
      "https://noaa-hrrr-bdp-pds.s3.amazonaws.com/hrrr.20191016/conus/hrrr.t01z.wrfsfcf01.grib2\n"
     ]
    },
    {
     "name": "stderr",
     "output_type": "stream",
     "text": [
      " 59%|█████▉    | 969/1631 [13:44:51<4:08:48, 22.55s/it]"
     ]
    },
    {
     "name": "stdout",
     "output_type": "stream",
     "text": [
      "https://noaa-hrrr-bdp-pds.s3.amazonaws.com/hrrr.20210616/conus/hrrr.t01z.wrfsfcf01.grib2\n"
     ]
    },
    {
     "name": "stderr",
     "output_type": "stream",
     "text": [
      " 59%|█████▉    | 970/1631 [13:45:31<5:05:51, 27.76s/it]"
     ]
    },
    {
     "name": "stdout",
     "output_type": "stream",
     "text": [
      "https://noaa-hrrr-bdp-pds.s3.amazonaws.com/hrrr.20170622/conus/hrrr.t01z.wrfsfcf01.grib2\n"
     ]
    },
    {
     "name": "stderr",
     "output_type": "stream",
     "text": [
      " 60%|█████▉    | 971/1631 [13:46:04<5:21:56, 29.27s/it]"
     ]
    },
    {
     "name": "stdout",
     "output_type": "stream",
     "text": [
      "https://noaa-hrrr-bdp-pds.s3.amazonaws.com/hrrr.20180319/conus/hrrr.t01z.wrfsfcf01.grib2\n"
     ]
    },
    {
     "name": "stderr",
     "output_type": "stream",
     "text": [
      " 60%|█████▉    | 972/1631 [13:46:30<5:11:29, 28.36s/it]"
     ]
    },
    {
     "name": "stdout",
     "output_type": "stream",
     "text": [
      "https://noaa-hrrr-bdp-pds.s3.amazonaws.com/hrrr.20200723/conus/hrrr.t01z.wrfsfcf01.grib2\n"
     ]
    },
    {
     "name": "stderr",
     "output_type": "stream",
     "text": [
      " 60%|█████▉    | 973/1631 [13:47:15<6:06:24, 33.41s/it]"
     ]
    },
    {
     "name": "stdout",
     "output_type": "stream",
     "text": [
      "https://noaa-hrrr-bdp-pds.s3.amazonaws.com/hrrr.20180906/conus/hrrr.t01z.wrfsfcf01.grib2\n"
     ]
    },
    {
     "name": "stderr",
     "output_type": "stream",
     "text": [
      " 60%|█████▉    | 974/1631 [13:47:55<6:28:37, 35.49s/it]"
     ]
    },
    {
     "name": "stdout",
     "output_type": "stream",
     "text": [
      "https://noaa-hrrr-bdp-pds.s3.amazonaws.com/hrrr.20160327/conus/hrrr.t01z.wrfsfcf01.grib2\n"
     ]
    },
    {
     "name": "stderr",
     "output_type": "stream",
     "text": [
      " 60%|█████▉    | 975/1631 [13:48:19<5:48:27, 31.87s/it]"
     ]
    },
    {
     "name": "stdout",
     "output_type": "stream",
     "text": [
      "https://noaa-hrrr-bdp-pds.s3.amazonaws.com/hrrr.20170531/conus/hrrr.t01z.wrfsfcf01.grib2\n"
     ]
    },
    {
     "name": "stderr",
     "output_type": "stream",
     "text": [
      " 60%|█████▉    | 976/1631 [13:49:08<6:43:22, 36.95s/it]"
     ]
    },
    {
     "name": "stdout",
     "output_type": "stream",
     "text": [
      "https://noaa-hrrr-bdp-pds.s3.amazonaws.com/hrrr.20140828/conus/hrrr.t01z.wrfsfcf01.grib2\n"
     ]
    },
    {
     "name": "stderr",
     "output_type": "stream",
     "text": [
      " 60%|█████▉    | 977/1631 [13:49:09<4:44:59, 26.15s/it]"
     ]
    },
    {
     "name": "stdout",
     "output_type": "stream",
     "text": [
      "https://noaa-hrrr-bdp-pds.s3.amazonaws.com/hrrr.20150208/conus/hrrr.t01z.wrfsfcf01.grib2\n"
     ]
    },
    {
     "name": "stderr",
     "output_type": "stream",
     "text": [
      " 60%|█████▉    | 978/1631 [13:49:31<4:32:12, 25.01s/it]"
     ]
    },
    {
     "name": "stdout",
     "output_type": "stream",
     "text": [
      "https://noaa-hrrr-bdp-pds.s3.amazonaws.com/hrrr.20190423/conus/hrrr.t01z.wrfsfcf01.grib2\n"
     ]
    },
    {
     "name": "stderr",
     "output_type": "stream",
     "text": [
      " 60%|██████    | 979/1631 [13:50:09<5:12:55, 28.80s/it]"
     ]
    },
    {
     "name": "stdout",
     "output_type": "stream",
     "text": [
      "https://noaa-hrrr-bdp-pds.s3.amazonaws.com/hrrr.20150817/conus/hrrr.t01z.wrfsfcf01.grib2\n"
     ]
    },
    {
     "name": "stderr",
     "output_type": "stream",
     "text": [
      " 60%|██████    | 980/1631 [13:50:09<3:41:43, 20.44s/it]"
     ]
    },
    {
     "name": "stdout",
     "output_type": "stream",
     "text": [
      "https://noaa-hrrr-bdp-pds.s3.amazonaws.com/hrrr.20171117/conus/hrrr.t01z.wrfsfcf01.grib2\n"
     ]
    },
    {
     "name": "stderr",
     "output_type": "stream",
     "text": [
      " 60%|██████    | 981/1631 [13:50:39<4:12:35, 23.32s/it]"
     ]
    },
    {
     "name": "stdout",
     "output_type": "stream",
     "text": [
      "https://noaa-hrrr-bdp-pds.s3.amazonaws.com/hrrr.20160927/conus/hrrr.t01z.wrfsfcf01.grib2\n"
     ]
    },
    {
     "name": "stderr",
     "output_type": "stream",
     "text": [
      " 60%|██████    | 982/1631 [13:50:40<2:59:36, 16.60s/it]"
     ]
    },
    {
     "name": "stdout",
     "output_type": "stream",
     "text": [
      "https://noaa-hrrr-bdp-pds.s3.amazonaws.com/hrrr.20210421/conus/hrrr.t01z.wrfsfcf01.grib2\n"
     ]
    },
    {
     "name": "stderr",
     "output_type": "stream",
     "text": [
      " 60%|██████    | 983/1631 [13:51:26<4:33:51, 25.36s/it]"
     ]
    },
    {
     "name": "stdout",
     "output_type": "stream",
     "text": [
      "https://noaa-hrrr-bdp-pds.s3.amazonaws.com/hrrr.20140807/conus/hrrr.t01z.wrfsfcf01.grib2\n"
     ]
    },
    {
     "name": "stderr",
     "output_type": "stream",
     "text": [
      " 60%|██████    | 984/1631 [13:51:48<4:21:04, 24.21s/it]"
     ]
    },
    {
     "name": "stdout",
     "output_type": "stream",
     "text": [
      "https://noaa-hrrr-bdp-pds.s3.amazonaws.com/hrrr.20190625/conus/hrrr.t01z.wrfsfcf01.grib2\n"
     ]
    },
    {
     "name": "stderr",
     "output_type": "stream",
     "text": [
      " 60%|██████    | 985/1631 [13:52:37<5:40:03, 31.58s/it]"
     ]
    },
    {
     "name": "stdout",
     "output_type": "stream",
     "text": [
      "https://noaa-hrrr-bdp-pds.s3.amazonaws.com/hrrr.20160706/conus/hrrr.t01z.wrfsfcf01.grib2\n"
     ]
    },
    {
     "name": "stderr",
     "output_type": "stream",
     "text": [
      " 60%|██████    | 986/1631 [13:52:59<5:11:37, 28.99s/it]"
     ]
    },
    {
     "name": "stdout",
     "output_type": "stream",
     "text": [
      "https://noaa-hrrr-bdp-pds.s3.amazonaws.com/hrrr.20131217/conus/hrrr.t01z.wrfsfcf01.grib2\n"
     ]
    },
    {
     "name": "stderr",
     "output_type": "stream",
     "text": [
      " 61%|██████    | 987/1631 [13:53:00<3:40:51, 20.58s/it]"
     ]
    },
    {
     "name": "stdout",
     "output_type": "stream",
     "text": [
      "https://noaa-hrrr-bdp-pds.s3.amazonaws.com/hrrr.20150831/conus/hrrr.t01z.wrfsfcf01.grib2\n"
     ]
    },
    {
     "name": "stderr",
     "output_type": "stream",
     "text": [
      " 61%|██████    | 988/1631 [13:53:37<4:33:04, 25.48s/it]"
     ]
    },
    {
     "name": "stdout",
     "output_type": "stream",
     "text": [
      "https://noaa-hrrr-bdp-pds.s3.amazonaws.com/hrrr.20180418/conus/hrrr.t01z.wrfsfcf01.grib2\n"
     ]
    },
    {
     "name": "stderr",
     "output_type": "stream",
     "text": [
      " 61%|██████    | 989/1631 [13:54:19<5:23:34, 30.24s/it]"
     ]
    },
    {
     "name": "stdout",
     "output_type": "stream",
     "text": [
      "https://noaa-hrrr-bdp-pds.s3.amazonaws.com/hrrr.20160922/conus/hrrr.t01z.wrfsfcf01.grib2\n"
     ]
    },
    {
     "name": "stderr",
     "output_type": "stream",
     "text": [
      " 61%|██████    | 990/1631 [13:54:20<3:49:07, 21.45s/it]"
     ]
    },
    {
     "name": "stdout",
     "output_type": "stream",
     "text": [
      "https://noaa-hrrr-bdp-pds.s3.amazonaws.com/hrrr.20141022/conus/hrrr.t01z.wrfsfcf01.grib2\n"
     ]
    },
    {
     "name": "stderr",
     "output_type": "stream",
     "text": [
      " 61%|██████    | 991/1631 [13:54:41<3:48:50, 21.45s/it]"
     ]
    },
    {
     "name": "stdout",
     "output_type": "stream",
     "text": [
      "https://noaa-hrrr-bdp-pds.s3.amazonaws.com/hrrr.20131212/conus/hrrr.t01z.wrfsfcf01.grib2\n"
     ]
    },
    {
     "name": "stderr",
     "output_type": "stream",
     "text": [
      " 61%|██████    | 992/1631 [13:54:42<2:42:57, 15.30s/it]"
     ]
    },
    {
     "name": "stdout",
     "output_type": "stream",
     "text": [
      "https://noaa-hrrr-bdp-pds.s3.amazonaws.com/hrrr.20170125/conus/hrrr.t01z.wrfsfcf01.grib2\n"
     ]
    },
    {
     "name": "stderr",
     "output_type": "stream",
     "text": [
      " 61%|██████    | 993/1631 [13:55:10<3:21:44, 18.97s/it]"
     ]
    },
    {
     "name": "stdout",
     "output_type": "stream",
     "text": [
      "https://noaa-hrrr-bdp-pds.s3.amazonaws.com/hrrr.20141211/conus/hrrr.t01z.wrfsfcf01.grib2\n"
     ]
    },
    {
     "name": "stderr",
     "output_type": "stream",
     "text": [
      " 61%|██████    | 994/1631 [13:55:34<3:37:49, 20.52s/it]"
     ]
    },
    {
     "name": "stdout",
     "output_type": "stream",
     "text": [
      "https://noaa-hrrr-bdp-pds.s3.amazonaws.com/hrrr.20190424/conus/hrrr.t01z.wrfsfcf01.grib2\n"
     ]
    },
    {
     "name": "stderr",
     "output_type": "stream",
     "text": [
      " 61%|██████    | 995/1631 [13:55:58<3:49:13, 21.62s/it]"
     ]
    },
    {
     "name": "stdout",
     "output_type": "stream",
     "text": [
      "https://noaa-hrrr-bdp-pds.s3.amazonaws.com/hrrr.20190626/conus/hrrr.t01z.wrfsfcf01.grib2\n"
     ]
    },
    {
     "name": "stderr",
     "output_type": "stream",
     "text": [
      " 61%|██████    | 996/1631 [13:56:43<5:03:10, 28.65s/it]"
     ]
    },
    {
     "name": "stdout",
     "output_type": "stream",
     "text": [
      "https://noaa-hrrr-bdp-pds.s3.amazonaws.com/hrrr.20170523/conus/hrrr.t01z.wrfsfcf01.grib2\n"
     ]
    },
    {
     "name": "stderr",
     "output_type": "stream",
     "text": [
      " 61%|██████    | 997/1631 [13:57:11<4:59:33, 28.35s/it]"
     ]
    },
    {
     "name": "stdout",
     "output_type": "stream",
     "text": [
      "https://noaa-hrrr-bdp-pds.s3.amazonaws.com/hrrr.20181217/conus/hrrr.t01z.wrfsfcf01.grib2\n"
     ]
    },
    {
     "name": "stderr",
     "output_type": "stream",
     "text": [
      " 61%|██████    | 998/1631 [13:57:48<5:27:29, 31.04s/it]"
     ]
    },
    {
     "name": "stdout",
     "output_type": "stream",
     "text": [
      "https://noaa-hrrr-bdp-pds.s3.amazonaws.com/hrrr.20140905/conus/hrrr.t01z.wrfsfcf01.grib2\n"
     ]
    },
    {
     "name": "stderr",
     "output_type": "stream",
     "text": [
      " 61%|██████▏   | 999/1631 [13:58:08<4:52:00, 27.72s/it]"
     ]
    },
    {
     "name": "stdout",
     "output_type": "stream",
     "text": [
      "https://noaa-hrrr-bdp-pds.s3.amazonaws.com/hrrr.20131113/conus/hrrr.t01z.wrfsfcf01.grib2\n"
     ]
    },
    {
     "name": "stderr",
     "output_type": "stream",
     "text": [
      " 61%|██████▏   | 1000/1631 [13:58:09<3:27:05, 19.69s/it]"
     ]
    },
    {
     "name": "stdout",
     "output_type": "stream",
     "text": [
      "https://noaa-hrrr-bdp-pds.s3.amazonaws.com/hrrr.20190509/conus/hrrr.t01z.wrfsfcf01.grib2\n"
     ]
    },
    {
     "name": "stderr",
     "output_type": "stream",
     "text": [
      " 61%|██████▏   | 1001/1631 [13:58:45<4:17:21, 24.51s/it]"
     ]
    },
    {
     "name": "stdout",
     "output_type": "stream",
     "text": [
      "https://noaa-hrrr-bdp-pds.s3.amazonaws.com/hrrr.20130814/conus/hrrr.t01z.wrfsfcf01.grib2\n"
     ]
    },
    {
     "name": "stderr",
     "output_type": "stream",
     "text": [
      " 61%|██████▏   | 1002/1631 [13:58:46<3:02:50, 17.44s/it]"
     ]
    },
    {
     "name": "stdout",
     "output_type": "stream",
     "text": [
      "https://noaa-hrrr-bdp-pds.s3.amazonaws.com/hrrr.20190515/conus/hrrr.t01z.wrfsfcf01.grib2\n"
     ]
    },
    {
     "name": "stderr",
     "output_type": "stream",
     "text": [
      " 61%|██████▏   | 1003/1631 [13:59:25<4:12:30, 24.12s/it]"
     ]
    },
    {
     "name": "stdout",
     "output_type": "stream",
     "text": [
      "https://noaa-hrrr-bdp-pds.s3.amazonaws.com/hrrr.20180824/conus/hrrr.t01z.wrfsfcf01.grib2\n"
     ]
    },
    {
     "name": "stderr",
     "output_type": "stream",
     "text": [
      " 62%|██████▏   | 1004/1631 [14:00:00<4:44:36, 27.24s/it]"
     ]
    },
    {
     "name": "stdout",
     "output_type": "stream",
     "text": [
      "https://noaa-hrrr-bdp-pds.s3.amazonaws.com/hrrr.20171009/conus/hrrr.t01z.wrfsfcf01.grib2\n"
     ]
    },
    {
     "name": "stderr",
     "output_type": "stream",
     "text": [
      " 62%|██████▏   | 1005/1631 [14:00:29<4:51:26, 27.93s/it]"
     ]
    },
    {
     "name": "stdout",
     "output_type": "stream",
     "text": [
      "https://noaa-hrrr-bdp-pds.s3.amazonaws.com/hrrr.20130804/conus/hrrr.t01z.wrfsfcf01.grib2\n"
     ]
    },
    {
     "name": "stderr",
     "output_type": "stream",
     "text": [
      " 62%|██████▏   | 1006/1631 [14:00:30<3:26:33, 19.83s/it]"
     ]
    },
    {
     "name": "stdout",
     "output_type": "stream",
     "text": [
      "https://noaa-hrrr-bdp-pds.s3.amazonaws.com/hrrr.20130930/conus/hrrr.t01z.wrfsfcf01.grib2\n"
     ]
    },
    {
     "name": "stderr",
     "output_type": "stream",
     "text": [
      " 62%|██████▏   | 1007/1631 [14:00:31<2:27:20, 14.17s/it]"
     ]
    },
    {
     "name": "stdout",
     "output_type": "stream",
     "text": [
      "https://noaa-hrrr-bdp-pds.s3.amazonaws.com/hrrr.20161109/conus/hrrr.t01z.wrfsfcf01.grib2\n"
     ]
    },
    {
     "name": "stderr",
     "output_type": "stream",
     "text": [
      " 62%|██████▏   | 1008/1631 [14:00:57<3:02:33, 17.58s/it]"
     ]
    },
    {
     "name": "stdout",
     "output_type": "stream",
     "text": [
      "https://noaa-hrrr-bdp-pds.s3.amazonaws.com/hrrr.20181001/conus/hrrr.t01z.wrfsfcf01.grib2\n"
     ]
    },
    {
     "name": "stderr",
     "output_type": "stream",
     "text": [
      " 62%|██████▏   | 1009/1631 [14:01:35<4:06:10, 23.75s/it]"
     ]
    },
    {
     "name": "stdout",
     "output_type": "stream",
     "text": [
      "https://noaa-hrrr-bdp-pds.s3.amazonaws.com/hrrr.20131030/conus/hrrr.t01z.wrfsfcf01.grib2\n"
     ]
    },
    {
     "name": "stderr",
     "output_type": "stream",
     "text": [
      " 62%|██████▏   | 1010/1631 [14:01:36<2:54:55, 16.90s/it]"
     ]
    },
    {
     "name": "stdout",
     "output_type": "stream",
     "text": [
      "https://noaa-hrrr-bdp-pds.s3.amazonaws.com/hrrr.20170915/conus/hrrr.t01z.wrfsfcf01.grib2\n"
     ]
    },
    {
     "name": "stderr",
     "output_type": "stream",
     "text": [
      " 62%|██████▏   | 1011/1631 [14:01:59<3:14:33, 18.83s/it]"
     ]
    },
    {
     "name": "stdout",
     "output_type": "stream",
     "text": [
      "https://noaa-hrrr-bdp-pds.s3.amazonaws.com/hrrr.20180626/conus/hrrr.t01z.wrfsfcf01.grib2\n"
     ]
    },
    {
     "name": "stderr",
     "output_type": "stream",
     "text": [
      " 62%|██████▏   | 1012/1631 [14:02:32<3:56:58, 22.97s/it]"
     ]
    },
    {
     "name": "stdout",
     "output_type": "stream",
     "text": [
      "https://noaa-hrrr-bdp-pds.s3.amazonaws.com/hrrr.20190307/conus/hrrr.t01z.wrfsfcf01.grib2\n"
     ]
    },
    {
     "name": "stderr",
     "output_type": "stream",
     "text": [
      " 62%|██████▏   | 1013/1631 [14:02:56<4:01:38, 23.46s/it]"
     ]
    },
    {
     "name": "stdout",
     "output_type": "stream",
     "text": [
      "https://noaa-hrrr-bdp-pds.s3.amazonaws.com/hrrr.20211227/conus/hrrr.t01z.wrfsfcf01.grib2\n"
     ]
    },
    {
     "name": "stderr",
     "output_type": "stream",
     "text": [
      " 62%|██████▏   | 1014/1631 [14:03:26<4:21:03, 25.39s/it]"
     ]
    },
    {
     "name": "stdout",
     "output_type": "stream",
     "text": [
      "https://noaa-hrrr-bdp-pds.s3.amazonaws.com/hrrr.20171128/conus/hrrr.t01z.wrfsfcf01.grib2\n"
     ]
    },
    {
     "name": "stderr",
     "output_type": "stream",
     "text": [
      " 62%|██████▏   | 1015/1631 [14:04:01<4:50:37, 28.31s/it]"
     ]
    },
    {
     "name": "stdout",
     "output_type": "stream",
     "text": [
      "https://noaa-hrrr-bdp-pds.s3.amazonaws.com/hrrr.20140820/conus/hrrr.t01z.wrfsfcf01.grib2\n"
     ]
    },
    {
     "name": "stderr",
     "output_type": "stream",
     "text": [
      " 62%|██████▏   | 1016/1631 [14:04:02<3:26:00, 20.10s/it]"
     ]
    },
    {
     "name": "stdout",
     "output_type": "stream",
     "text": [
      "https://noaa-hrrr-bdp-pds.s3.amazonaws.com/hrrr.20210422/conus/hrrr.t01z.wrfsfcf01.grib2\n"
     ]
    },
    {
     "name": "stderr",
     "output_type": "stream",
     "text": [
      " 62%|██████▏   | 1017/1631 [14:04:40<4:19:23, 25.35s/it]"
     ]
    },
    {
     "name": "stdout",
     "output_type": "stream",
     "text": [
      "https://noaa-hrrr-bdp-pds.s3.amazonaws.com/hrrr.20200117/conus/hrrr.t01z.wrfsfcf01.grib2\n"
     ]
    },
    {
     "name": "stderr",
     "output_type": "stream",
     "text": [
      " 62%|██████▏   | 1018/1631 [14:05:25<5:18:58, 31.22s/it]"
     ]
    },
    {
     "name": "stdout",
     "output_type": "stream",
     "text": [
      "https://noaa-hrrr-bdp-pds.s3.amazonaws.com/hrrr.20190523/conus/hrrr.t01z.wrfsfcf01.grib2\n"
     ]
    },
    {
     "name": "stderr",
     "output_type": "stream",
     "text": [
      " 62%|██████▏   | 1019/1631 [14:05:59<5:26:02, 31.96s/it]"
     ]
    },
    {
     "name": "stdout",
     "output_type": "stream",
     "text": [
      "https://noaa-hrrr-bdp-pds.s3.amazonaws.com/hrrr.20150616/conus/hrrr.t01z.wrfsfcf01.grib2\n"
     ]
    },
    {
     "name": "stderr",
     "output_type": "stream",
     "text": [
      " 63%|██████▎   | 1020/1631 [14:05:59<3:50:47, 22.66s/it]"
     ]
    },
    {
     "name": "stdout",
     "output_type": "stream",
     "text": [
      "https://noaa-hrrr-bdp-pds.s3.amazonaws.com/hrrr.20210902/conus/hrrr.t01z.wrfsfcf01.grib2\n"
     ]
    },
    {
     "name": "stderr",
     "output_type": "stream",
     "text": [
      " 63%|██████▎   | 1021/1631 [14:06:35<4:29:34, 26.51s/it]"
     ]
    },
    {
     "name": "stdout",
     "output_type": "stream",
     "text": [
      "https://noaa-hrrr-bdp-pds.s3.amazonaws.com/hrrr.20191203/conus/hrrr.t01z.wrfsfcf01.grib2\n"
     ]
    },
    {
     "name": "stderr",
     "output_type": "stream",
     "text": [
      " 63%|██████▎   | 1022/1631 [14:07:31<5:57:56, 35.27s/it]"
     ]
    },
    {
     "name": "stdout",
     "output_type": "stream",
     "text": [
      "https://noaa-hrrr-bdp-pds.s3.amazonaws.com/hrrr.20140515/conus/hrrr.t01z.wrfsfcf01.grib2\n"
     ]
    },
    {
     "name": "stderr",
     "output_type": "stream",
     "text": [
      " 63%|██████▎   | 1023/1631 [14:07:32<4:13:02, 24.97s/it]"
     ]
    },
    {
     "name": "stdout",
     "output_type": "stream",
     "text": [
      "https://noaa-hrrr-bdp-pds.s3.amazonaws.com/hrrr.20190913/conus/hrrr.t01z.wrfsfcf01.grib2\n"
     ]
    },
    {
     "name": "stderr",
     "output_type": "stream",
     "text": [
      " 63%|██████▎   | 1024/1631 [14:07:58<4:15:35, 25.26s/it]"
     ]
    },
    {
     "name": "stdout",
     "output_type": "stream",
     "text": [
      "https://noaa-hrrr-bdp-pds.s3.amazonaws.com/hrrr.20170401/conus/hrrr.t01z.wrfsfcf01.grib2\n"
     ]
    },
    {
     "name": "stderr",
     "output_type": "stream",
     "text": [
      " 63%|██████▎   | 1025/1631 [14:08:30<4:35:45, 27.30s/it]"
     ]
    },
    {
     "name": "stdout",
     "output_type": "stream",
     "text": [
      "https://noaa-hrrr-bdp-pds.s3.amazonaws.com/hrrr.20150629/conus/hrrr.t01z.wrfsfcf01.grib2\n"
     ]
    },
    {
     "name": "stderr",
     "output_type": "stream",
     "text": [
      " 63%|██████▎   | 1026/1631 [14:09:01<4:47:36, 28.52s/it]"
     ]
    },
    {
     "name": "stdout",
     "output_type": "stream",
     "text": [
      "https://noaa-hrrr-bdp-pds.s3.amazonaws.com/hrrr.20200211/conus/hrrr.t01z.wrfsfcf01.grib2\n"
     ]
    },
    {
     "name": "stderr",
     "output_type": "stream",
     "text": [
      " 63%|██████▎   | 1027/1631 [14:09:35<5:04:16, 30.23s/it]"
     ]
    },
    {
     "name": "stdout",
     "output_type": "stream",
     "text": [
      "https://noaa-hrrr-bdp-pds.s3.amazonaws.com/hrrr.20150730/conus/hrrr.t01z.wrfsfcf01.grib2\n"
     ]
    },
    {
     "name": "stderr",
     "output_type": "stream",
     "text": [
      " 63%|██████▎   | 1028/1631 [14:10:06<5:05:59, 30.45s/it]"
     ]
    },
    {
     "name": "stdout",
     "output_type": "stream",
     "text": [
      "https://noaa-hrrr-bdp-pds.s3.amazonaws.com/hrrr.20170404/conus/hrrr.t01z.wrfsfcf01.grib2\n"
     ]
    },
    {
     "name": "stderr",
     "output_type": "stream",
     "text": [
      " 63%|██████▎   | 1029/1631 [14:10:33<4:55:20, 29.44s/it]"
     ]
    },
    {
     "name": "stdout",
     "output_type": "stream",
     "text": [
      "https://noaa-hrrr-bdp-pds.s3.amazonaws.com/hrrr.20160914/conus/hrrr.t01z.wrfsfcf01.grib2\n"
     ]
    },
    {
     "name": "stderr",
     "output_type": "stream",
     "text": [
      " 63%|██████▎   | 1030/1631 [14:11:04<4:58:09, 29.77s/it]"
     ]
    },
    {
     "name": "stdout",
     "output_type": "stream",
     "text": [
      "https://noaa-hrrr-bdp-pds.s3.amazonaws.com/hrrr.20190306/conus/hrrr.t01z.wrfsfcf01.grib2\n"
     ]
    },
    {
     "name": "stderr",
     "output_type": "stream",
     "text": [
      " 63%|██████▎   | 1031/1631 [14:11:33<4:56:13, 29.62s/it]"
     ]
    },
    {
     "name": "stdout",
     "output_type": "stream",
     "text": [
      "https://noaa-hrrr-bdp-pds.s3.amazonaws.com/hrrr.20210813/conus/hrrr.t01z.wrfsfcf01.grib2\n"
     ]
    },
    {
     "name": "stderr",
     "output_type": "stream",
     "text": [
      " 63%|██████▎   | 1032/1631 [14:12:01<4:49:43, 29.02s/it]"
     ]
    },
    {
     "name": "stdout",
     "output_type": "stream",
     "text": [
      "https://noaa-hrrr-bdp-pds.s3.amazonaws.com/hrrr.20180409/conus/hrrr.t01z.wrfsfcf01.grib2\n"
     ]
    },
    {
     "name": "stderr",
     "output_type": "stream",
     "text": [
      " 63%|██████▎   | 1033/1631 [14:12:47<5:41:50, 34.30s/it]"
     ]
    },
    {
     "name": "stdout",
     "output_type": "stream",
     "text": [
      "https://noaa-hrrr-bdp-pds.s3.amazonaws.com/hrrr.20130617/conus/hrrr.t01z.wrfsfcf01.grib2\n"
     ]
    },
    {
     "name": "stderr",
     "output_type": "stream",
     "text": [
      " 63%|██████▎   | 1034/1631 [14:12:48<4:01:48, 24.30s/it]"
     ]
    },
    {
     "name": "stdout",
     "output_type": "stream",
     "text": [
      "https://noaa-hrrr-bdp-pds.s3.amazonaws.com/hrrr.20180206/conus/hrrr.t01z.wrfsfcf01.grib2\n"
     ]
    },
    {
     "name": "stderr",
     "output_type": "stream",
     "text": [
      " 63%|██████▎   | 1035/1631 [14:13:22<4:29:32, 27.14s/it]"
     ]
    },
    {
     "name": "stdout",
     "output_type": "stream",
     "text": [
      "https://noaa-hrrr-bdp-pds.s3.amazonaws.com/hrrr.20170329/conus/hrrr.t01z.wrfsfcf01.grib2\n"
     ]
    },
    {
     "name": "stderr",
     "output_type": "stream",
     "text": [
      " 64%|██████▎   | 1036/1631 [14:14:00<5:02:33, 30.51s/it]"
     ]
    },
    {
     "name": "stdout",
     "output_type": "stream",
     "text": [
      "https://noaa-hrrr-bdp-pds.s3.amazonaws.com/hrrr.20140916/conus/hrrr.t01z.wrfsfcf01.grib2\n"
     ]
    },
    {
     "name": "stderr",
     "output_type": "stream",
     "text": [
      " 64%|██████▎   | 1037/1631 [14:14:02<3:34:46, 21.69s/it]"
     ]
    },
    {
     "name": "stdout",
     "output_type": "stream",
     "text": [
      "https://noaa-hrrr-bdp-pds.s3.amazonaws.com/hrrr.20151026/conus/hrrr.t01z.wrfsfcf01.grib2\n"
     ]
    },
    {
     "name": "stderr",
     "output_type": "stream",
     "text": [
      " 64%|██████▎   | 1038/1631 [14:14:30<3:53:36, 23.64s/it]"
     ]
    },
    {
     "name": "stdout",
     "output_type": "stream",
     "text": [
      "https://noaa-hrrr-bdp-pds.s3.amazonaws.com/hrrr.20161215/conus/hrrr.t01z.wrfsfcf01.grib2\n"
     ]
    },
    {
     "name": "stderr",
     "output_type": "stream",
     "text": [
      " 64%|██████▎   | 1039/1631 [14:14:59<4:09:55, 25.33s/it]"
     ]
    },
    {
     "name": "stdout",
     "output_type": "stream",
     "text": [
      "https://noaa-hrrr-bdp-pds.s3.amazonaws.com/hrrr.20200901/conus/hrrr.t01z.wrfsfcf01.grib2\n"
     ]
    },
    {
     "name": "stderr",
     "output_type": "stream",
     "text": [
      " 64%|██████▍   | 1040/1631 [14:15:29<4:23:02, 26.71s/it]"
     ]
    },
    {
     "name": "stdout",
     "output_type": "stream",
     "text": [
      "https://noaa-hrrr-bdp-pds.s3.amazonaws.com/hrrr.20150702/conus/hrrr.t01z.wrfsfcf01.grib2\n"
     ]
    },
    {
     "name": "stderr",
     "output_type": "stream",
     "text": [
      " 64%|██████▍   | 1041/1631 [14:15:59<4:32:03, 27.67s/it]"
     ]
    },
    {
     "name": "stdout",
     "output_type": "stream",
     "text": [
      "https://noaa-hrrr-bdp-pds.s3.amazonaws.com/hrrr.20170525/conus/hrrr.t01z.wrfsfcf01.grib2\n"
     ]
    },
    {
     "name": "stderr",
     "output_type": "stream",
     "text": [
      " 64%|██████▍   | 1042/1631 [14:16:25<4:28:31, 27.35s/it]"
     ]
    },
    {
     "name": "stdout",
     "output_type": "stream",
     "text": [
      "https://noaa-hrrr-bdp-pds.s3.amazonaws.com/hrrr.20180424/conus/hrrr.t01z.wrfsfcf01.grib2\n"
     ]
    },
    {
     "name": "stderr",
     "output_type": "stream",
     "text": [
      " 64%|██████▍   | 1043/1631 [14:17:04<5:00:01, 30.61s/it]"
     ]
    },
    {
     "name": "stdout",
     "output_type": "stream",
     "text": [
      "https://noaa-hrrr-bdp-pds.s3.amazonaws.com/hrrr.20141006/conus/hrrr.t01z.wrfsfcf01.grib2\n"
     ]
    },
    {
     "name": "stderr",
     "output_type": "stream",
     "text": [
      " 64%|██████▍   | 1044/1631 [14:17:26<4:35:14, 28.13s/it]"
     ]
    },
    {
     "name": "stdout",
     "output_type": "stream",
     "text": [
      "https://noaa-hrrr-bdp-pds.s3.amazonaws.com/hrrr.20130206/conus/hrrr.t01z.wrfsfcf01.grib2\n"
     ]
    },
    {
     "name": "stderr",
     "output_type": "stream",
     "text": [
      " 64%|██████▍   | 1045/1631 [14:17:27<3:15:06, 19.98s/it]"
     ]
    },
    {
     "name": "stdout",
     "output_type": "stream",
     "text": [
      "https://noaa-hrrr-bdp-pds.s3.amazonaws.com/hrrr.20160427/conus/hrrr.t01z.wrfsfcf01.grib2\n"
     ]
    },
    {
     "name": "stderr",
     "output_type": "stream",
     "text": [
      " 64%|██████▍   | 1046/1631 [14:18:02<3:59:27, 24.56s/it]"
     ]
    },
    {
     "name": "stdout",
     "output_type": "stream",
     "text": [
      "https://noaa-hrrr-bdp-pds.s3.amazonaws.com/hrrr.20210831/conus/hrrr.t01z.wrfsfcf01.grib2\n"
     ]
    },
    {
     "name": "stderr",
     "output_type": "stream",
     "text": [
      " 64%|██████▍   | 1047/1631 [14:18:42<4:42:19, 29.01s/it]"
     ]
    },
    {
     "name": "stdout",
     "output_type": "stream",
     "text": [
      "https://noaa-hrrr-bdp-pds.s3.amazonaws.com/hrrr.20160601/conus/hrrr.t01z.wrfsfcf01.grib2\n"
     ]
    },
    {
     "name": "stderr",
     "output_type": "stream",
     "text": [
      " 64%|██████▍   | 1048/1631 [14:19:04<4:22:01, 26.97s/it]"
     ]
    },
    {
     "name": "stdout",
     "output_type": "stream",
     "text": [
      "https://noaa-hrrr-bdp-pds.s3.amazonaws.com/hrrr.20200713/conus/hrrr.t01z.wrfsfcf01.grib2\n"
     ]
    },
    {
     "name": "stderr",
     "output_type": "stream",
     "text": [
      " 64%|██████▍   | 1049/1631 [14:19:39<4:46:03, 29.49s/it]"
     ]
    },
    {
     "name": "stdout",
     "output_type": "stream",
     "text": [
      "https://noaa-hrrr-bdp-pds.s3.amazonaws.com/hrrr.20181124/conus/hrrr.t01z.wrfsfcf01.grib2\n"
     ]
    },
    {
     "name": "stderr",
     "output_type": "stream",
     "text": [
      " 64%|██████▍   | 1050/1631 [14:20:19<5:16:23, 32.67s/it]"
     ]
    },
    {
     "name": "stdout",
     "output_type": "stream",
     "text": [
      "https://noaa-hrrr-bdp-pds.s3.amazonaws.com/hrrr.20201028/conus/hrrr.t01z.wrfsfcf01.grib2\n"
     ]
    },
    {
     "name": "stderr",
     "output_type": "stream",
     "text": [
      " 64%|██████▍   | 1051/1631 [14:21:08<6:03:05, 37.56s/it]"
     ]
    },
    {
     "name": "stdout",
     "output_type": "stream",
     "text": [
      "https://noaa-hrrr-bdp-pds.s3.amazonaws.com/hrrr.20210826/conus/hrrr.t01z.wrfsfcf01.grib2\n"
     ]
    },
    {
     "name": "stderr",
     "output_type": "stream",
     "text": [
      " 65%|██████▍   | 1052/1631 [14:21:53<6:24:42, 39.87s/it]"
     ]
    },
    {
     "name": "stdout",
     "output_type": "stream",
     "text": [
      "https://noaa-hrrr-bdp-pds.s3.amazonaws.com/hrrr.20150416/conus/hrrr.t01z.wrfsfcf01.grib2\n"
     ]
    },
    {
     "name": "stderr",
     "output_type": "stream",
     "text": [
      " 65%|██████▍   | 1053/1631 [14:22:15<5:31:51, 34.45s/it]"
     ]
    },
    {
     "name": "stdout",
     "output_type": "stream",
     "text": [
      "https://noaa-hrrr-bdp-pds.s3.amazonaws.com/hrrr.20170624/conus/hrrr.t01z.wrfsfcf01.grib2\n"
     ]
    },
    {
     "name": "stderr",
     "output_type": "stream",
     "text": [
      " 65%|██████▍   | 1054/1631 [14:22:50<5:32:12, 34.55s/it]"
     ]
    },
    {
     "name": "stdout",
     "output_type": "stream",
     "text": [
      "https://noaa-hrrr-bdp-pds.s3.amazonaws.com/hrrr.20150426/conus/hrrr.t01z.wrfsfcf01.grib2\n"
     ]
    },
    {
     "name": "stderr",
     "output_type": "stream",
     "text": [
      " 65%|██████▍   | 1055/1631 [14:23:15<5:03:18, 31.59s/it]"
     ]
    },
    {
     "name": "stdout",
     "output_type": "stream",
     "text": [
      "https://noaa-hrrr-bdp-pds.s3.amazonaws.com/hrrr.20150604/conus/hrrr.t01z.wrfsfcf01.grib2\n"
     ]
    },
    {
     "name": "stderr",
     "output_type": "stream",
     "text": [
      " 65%|██████▍   | 1056/1631 [14:23:38<4:37:29, 28.95s/it]"
     ]
    },
    {
     "name": "stdout",
     "output_type": "stream",
     "text": [
      "https://noaa-hrrr-bdp-pds.s3.amazonaws.com/hrrr.20210812/conus/hrrr.t01z.wrfsfcf01.grib2\n"
     ]
    },
    {
     "name": "stderr",
     "output_type": "stream",
     "text": [
      " 65%|██████▍   | 1057/1631 [14:24:15<5:00:48, 31.44s/it]"
     ]
    },
    {
     "name": "stdout",
     "output_type": "stream",
     "text": [
      "https://noaa-hrrr-bdp-pds.s3.amazonaws.com/hrrr.20140209/conus/hrrr.t01z.wrfsfcf01.grib2\n"
     ]
    },
    {
     "name": "stderr",
     "output_type": "stream",
     "text": [
      " 65%|██████▍   | 1058/1631 [14:24:16<3:32:52, 22.29s/it]"
     ]
    },
    {
     "name": "stdout",
     "output_type": "stream",
     "text": [
      "https://noaa-hrrr-bdp-pds.s3.amazonaws.com/hrrr.20170826/conus/hrrr.t01z.wrfsfcf01.grib2\n"
     ]
    },
    {
     "name": "stderr",
     "output_type": "stream",
     "text": [
      " 65%|██████▍   | 1059/1631 [14:24:49<4:04:22, 25.63s/it]"
     ]
    },
    {
     "name": "stdout",
     "output_type": "stream",
     "text": [
      "https://noaa-hrrr-bdp-pds.s3.amazonaws.com/hrrr.20200709/conus/hrrr.t01z.wrfsfcf01.grib2\n"
     ]
    },
    {
     "name": "stderr",
     "output_type": "stream",
     "text": [
      " 65%|██████▍   | 1060/1631 [14:25:20<4:19:45, 27.30s/it]"
     ]
    },
    {
     "name": "stdout",
     "output_type": "stream",
     "text": [
      "https://noaa-hrrr-bdp-pds.s3.amazonaws.com/hrrr.20131202/conus/hrrr.t01z.wrfsfcf01.grib2\n"
     ]
    },
    {
     "name": "stderr",
     "output_type": "stream",
     "text": [
      " 65%|██████▌   | 1061/1631 [14:25:21<3:04:15, 19.39s/it]"
     ]
    },
    {
     "name": "stdout",
     "output_type": "stream",
     "text": [
      "https://noaa-hrrr-bdp-pds.s3.amazonaws.com/hrrr.20180330/conus/hrrr.t01z.wrfsfcf01.grib2\n"
     ]
    },
    {
     "name": "stderr",
     "output_type": "stream",
     "text": [
      " 65%|██████▌   | 1062/1631 [14:25:49<3:26:43, 21.80s/it]"
     ]
    },
    {
     "name": "stdout",
     "output_type": "stream",
     "text": [
      "https://noaa-hrrr-bdp-pds.s3.amazonaws.com/hrrr.20160929/conus/hrrr.t01z.wrfsfcf01.grib2\n"
     ]
    },
    {
     "name": "stderr",
     "output_type": "stream",
     "text": [
      " 65%|██████▌   | 1063/1631 [14:25:50<2:27:06, 15.54s/it]"
     ]
    },
    {
     "name": "stdout",
     "output_type": "stream",
     "text": [
      "https://noaa-hrrr-bdp-pds.s3.amazonaws.com/hrrr.20180531/conus/hrrr.t01z.wrfsfcf01.grib2\n"
     ]
    },
    {
     "name": "stderr",
     "output_type": "stream",
     "text": [
      " 65%|██████▌   | 1064/1631 [14:26:23<3:17:26, 20.89s/it]"
     ]
    },
    {
     "name": "stdout",
     "output_type": "stream",
     "text": [
      "https://noaa-hrrr-bdp-pds.s3.amazonaws.com/hrrr.20141013/conus/hrrr.t01z.wrfsfcf01.grib2\n"
     ]
    },
    {
     "name": "stderr",
     "output_type": "stream",
     "text": [
      " 65%|██████▌   | 1065/1631 [14:26:47<3:25:11, 21.75s/it]"
     ]
    },
    {
     "name": "stdout",
     "output_type": "stream",
     "text": [
      "https://noaa-hrrr-bdp-pds.s3.amazonaws.com/hrrr.20210721/conus/hrrr.t01z.wrfsfcf01.grib2\n"
     ]
    },
    {
     "name": "stderr",
     "output_type": "stream",
     "text": [
      " 65%|██████▌   | 1066/1631 [14:27:59<5:48:38, 37.02s/it]"
     ]
    },
    {
     "name": "stdout",
     "output_type": "stream",
     "text": [
      "https://noaa-hrrr-bdp-pds.s3.amazonaws.com/hrrr.20170405/conus/hrrr.t01z.wrfsfcf01.grib2\n"
     ]
    },
    {
     "name": "stderr",
     "output_type": "stream",
     "text": [
      " 65%|██████▌   | 1067/1631 [14:28:36<5:47:32, 36.97s/it]"
     ]
    },
    {
     "name": "stdout",
     "output_type": "stream",
     "text": [
      "https://noaa-hrrr-bdp-pds.s3.amazonaws.com/hrrr.20150930/conus/hrrr.t01z.wrfsfcf01.grib2\n"
     ]
    },
    {
     "name": "stderr",
     "output_type": "stream",
     "text": [
      " 65%|██████▌   | 1068/1631 [14:28:54<4:52:25, 31.16s/it]"
     ]
    },
    {
     "name": "stdout",
     "output_type": "stream",
     "text": [
      "https://noaa-hrrr-bdp-pds.s3.amazonaws.com/hrrr.20210519/conus/hrrr.t01z.wrfsfcf01.grib2\n"
     ]
    },
    {
     "name": "stderr",
     "output_type": "stream",
     "text": [
      " 66%|██████▌   | 1069/1631 [14:29:42<5:39:43, 36.27s/it]"
     ]
    },
    {
     "name": "stdout",
     "output_type": "stream",
     "text": [
      "https://noaa-hrrr-bdp-pds.s3.amazonaws.com/hrrr.20160729/conus/hrrr.t01z.wrfsfcf01.grib2\n"
     ]
    },
    {
     "name": "stderr",
     "output_type": "stream",
     "text": [
      " 66%|██████▌   | 1070/1631 [14:30:12<5:21:36, 34.40s/it]"
     ]
    },
    {
     "name": "stdout",
     "output_type": "stream",
     "text": [
      "https://noaa-hrrr-bdp-pds.s3.amazonaws.com/hrrr.20191217/conus/hrrr.t01z.wrfsfcf01.grib2\n"
     ]
    },
    {
     "name": "stderr",
     "output_type": "stream",
     "text": [
      " 66%|██████▌   | 1071/1631 [14:30:35<4:49:44, 31.04s/it]"
     ]
    },
    {
     "name": "stdout",
     "output_type": "stream",
     "text": [
      "https://noaa-hrrr-bdp-pds.s3.amazonaws.com/hrrr.20191206/conus/hrrr.t01z.wrfsfcf01.grib2\n"
     ]
    },
    {
     "name": "stderr",
     "output_type": "stream",
     "text": [
      " 66%|██████▌   | 1072/1631 [14:31:05<4:44:37, 30.55s/it]"
     ]
    },
    {
     "name": "stdout",
     "output_type": "stream",
     "text": [
      "https://noaa-hrrr-bdp-pds.s3.amazonaws.com/hrrr.20161026/conus/hrrr.t01z.wrfsfcf01.grib2\n"
     ]
    },
    {
     "name": "stderr",
     "output_type": "stream",
     "text": [
      " 66%|██████▌   | 1073/1631 [14:31:48<5:19:32, 34.36s/it]"
     ]
    },
    {
     "name": "stdout",
     "output_type": "stream",
     "text": [
      "https://noaa-hrrr-bdp-pds.s3.amazonaws.com/hrrr.20180507/conus/hrrr.t01z.wrfsfcf01.grib2\n"
     ]
    },
    {
     "name": "stderr",
     "output_type": "stream",
     "text": [
      " 66%|██████▌   | 1074/1631 [14:32:15<4:59:06, 32.22s/it]"
     ]
    },
    {
     "name": "stdout",
     "output_type": "stream",
     "text": [
      "https://noaa-hrrr-bdp-pds.s3.amazonaws.com/hrrr.20211118/conus/hrrr.t01z.wrfsfcf01.grib2\n"
     ]
    },
    {
     "name": "stderr",
     "output_type": "stream",
     "text": [
      " 66%|██████▌   | 1075/1631 [14:33:04<5:43:15, 37.04s/it]"
     ]
    },
    {
     "name": "stdout",
     "output_type": "stream",
     "text": [
      "https://noaa-hrrr-bdp-pds.s3.amazonaws.com/hrrr.20191216/conus/hrrr.t01z.wrfsfcf01.grib2\n"
     ]
    },
    {
     "name": "stderr",
     "output_type": "stream",
     "text": [
      " 66%|██████▌   | 1076/1631 [14:33:27<5:05:46, 33.06s/it]"
     ]
    },
    {
     "name": "stdout",
     "output_type": "stream",
     "text": [
      "https://noaa-hrrr-bdp-pds.s3.amazonaws.com/hrrr.20131119/conus/hrrr.t01z.wrfsfcf01.grib2\n"
     ]
    },
    {
     "name": "stderr",
     "output_type": "stream",
     "text": [
      " 66%|██████▌   | 1077/1631 [14:33:28<3:36:15, 23.42s/it]"
     ]
    },
    {
     "name": "stdout",
     "output_type": "stream",
     "text": [
      "https://noaa-hrrr-bdp-pds.s3.amazonaws.com/hrrr.20200219/conus/hrrr.t01z.wrfsfcf01.grib2\n"
     ]
    },
    {
     "name": "stderr",
     "output_type": "stream",
     "text": [
      " 66%|██████▌   | 1078/1631 [14:33:53<3:40:33, 23.93s/it]"
     ]
    },
    {
     "name": "stdout",
     "output_type": "stream",
     "text": [
      "https://noaa-hrrr-bdp-pds.s3.amazonaws.com/hrrr.20200205/conus/hrrr.t01z.wrfsfcf01.grib2\n"
     ]
    },
    {
     "name": "stderr",
     "output_type": "stream",
     "text": [
      " 66%|██████▌   | 1079/1631 [14:34:18<3:43:33, 24.30s/it]"
     ]
    },
    {
     "name": "stdout",
     "output_type": "stream",
     "text": [
      "https://noaa-hrrr-bdp-pds.s3.amazonaws.com/hrrr.20170421/conus/hrrr.t01z.wrfsfcf01.grib2\n"
     ]
    },
    {
     "name": "stderr",
     "output_type": "stream",
     "text": [
      " 66%|██████▌   | 1080/1631 [14:34:47<3:53:28, 25.42s/it]"
     ]
    },
    {
     "name": "stdout",
     "output_type": "stream",
     "text": [
      "https://noaa-hrrr-bdp-pds.s3.amazonaws.com/hrrr.20150807/conus/hrrr.t01z.wrfsfcf01.grib2\n"
     ]
    },
    {
     "name": "stderr",
     "output_type": "stream",
     "text": [
      " 66%|██████▋   | 1081/1631 [14:35:20<4:15:54, 27.92s/it]"
     ]
    },
    {
     "name": "stdout",
     "output_type": "stream",
     "text": [
      "https://noaa-hrrr-bdp-pds.s3.amazonaws.com/hrrr.20200921/conus/hrrr.t01z.wrfsfcf01.grib2\n"
     ]
    },
    {
     "name": "stderr",
     "output_type": "stream",
     "text": [
      " 66%|██████▋   | 1082/1631 [14:35:57<4:39:50, 30.58s/it]"
     ]
    },
    {
     "name": "stdout",
     "output_type": "stream",
     "text": [
      "https://noaa-hrrr-bdp-pds.s3.amazonaws.com/hrrr.20180912/conus/hrrr.t01z.wrfsfcf01.grib2\n"
     ]
    },
    {
     "name": "stderr",
     "output_type": "stream",
     "text": [
      " 66%|██████▋   | 1083/1631 [14:36:37<5:04:27, 33.34s/it]"
     ]
    },
    {
     "name": "stdout",
     "output_type": "stream",
     "text": [
      "https://noaa-hrrr-bdp-pds.s3.amazonaws.com/hrrr.20140421/conus/hrrr.t01z.wrfsfcf01.grib2\n"
     ]
    },
    {
     "name": "stderr",
     "output_type": "stream",
     "text": [
      " 66%|██████▋   | 1084/1631 [14:36:38<3:35:22, 23.62s/it]"
     ]
    },
    {
     "name": "stdout",
     "output_type": "stream",
     "text": [
      "https://noaa-hrrr-bdp-pds.s3.amazonaws.com/hrrr.20161002/conus/hrrr.t01z.wrfsfcf01.grib2\n"
     ]
    },
    {
     "name": "stderr",
     "output_type": "stream",
     "text": [
      " 67%|██████▋   | 1085/1631 [14:37:03<3:40:07, 24.19s/it]"
     ]
    },
    {
     "name": "stdout",
     "output_type": "stream",
     "text": [
      "https://noaa-hrrr-bdp-pds.s3.amazonaws.com/hrrr.20130208/conus/hrrr.t01z.wrfsfcf01.grib2\n"
     ]
    },
    {
     "name": "stderr",
     "output_type": "stream",
     "text": [
      " 67%|██████▋   | 1086/1631 [14:37:04<2:36:20, 17.21s/it]"
     ]
    },
    {
     "name": "stdout",
     "output_type": "stream",
     "text": [
      "https://noaa-hrrr-bdp-pds.s3.amazonaws.com/hrrr.20190617/conus/hrrr.t01z.wrfsfcf01.grib2\n"
     ]
    },
    {
     "name": "stderr",
     "output_type": "stream",
     "text": [
      " 67%|██████▋   | 1087/1631 [14:37:48<3:49:21, 25.30s/it]"
     ]
    },
    {
     "name": "stdout",
     "output_type": "stream",
     "text": [
      "https://noaa-hrrr-bdp-pds.s3.amazonaws.com/hrrr.20201228/conus/hrrr.t01z.wrfsfcf01.grib2\n"
     ]
    },
    {
     "name": "stderr",
     "output_type": "stream",
     "text": [
      " 67%|██████▋   | 1088/1631 [14:38:29<4:31:12, 29.97s/it]"
     ]
    },
    {
     "name": "stdout",
     "output_type": "stream",
     "text": [
      "https://noaa-hrrr-bdp-pds.s3.amazonaws.com/hrrr.20151019/conus/hrrr.t01z.wrfsfcf01.grib2\n"
     ]
    },
    {
     "name": "stderr",
     "output_type": "stream",
     "text": [
      " 67%|██████▋   | 1089/1631 [14:38:57<4:23:33, 29.18s/it]"
     ]
    },
    {
     "name": "stdout",
     "output_type": "stream",
     "text": [
      "https://noaa-hrrr-bdp-pds.s3.amazonaws.com/hrrr.20180301/conus/hrrr.t01z.wrfsfcf01.grib2\n"
     ]
    },
    {
     "name": "stderr",
     "output_type": "stream",
     "text": [
      " 67%|██████▋   | 1090/1631 [14:39:34<4:46:23, 31.76s/it]"
     ]
    },
    {
     "name": "stdout",
     "output_type": "stream",
     "text": [
      "https://noaa-hrrr-bdp-pds.s3.amazonaws.com/hrrr.20181201/conus/hrrr.t01z.wrfsfcf01.grib2\n"
     ]
    },
    {
     "name": "stderr",
     "output_type": "stream",
     "text": [
      " 67%|██████▋   | 1091/1631 [14:40:09<4:54:30, 32.72s/it]"
     ]
    },
    {
     "name": "stdout",
     "output_type": "stream",
     "text": [
      "https://noaa-hrrr-bdp-pds.s3.amazonaws.com/hrrr.20170112/conus/hrrr.t01z.wrfsfcf01.grib2\n"
     ]
    },
    {
     "name": "stderr",
     "output_type": "stream",
     "text": [
      " 67%|██████▋   | 1092/1631 [14:40:47<5:07:01, 34.18s/it]"
     ]
    },
    {
     "name": "stdout",
     "output_type": "stream",
     "text": [
      "https://noaa-hrrr-bdp-pds.s3.amazonaws.com/hrrr.20170910/conus/hrrr.t01z.wrfsfcf01.grib2\n"
     ]
    },
    {
     "name": "stderr",
     "output_type": "stream",
     "text": [
      " 67%|██████▋   | 1093/1631 [14:41:12<4:41:50, 31.43s/it]"
     ]
    },
    {
     "name": "stdout",
     "output_type": "stream",
     "text": [
      "https://noaa-hrrr-bdp-pds.s3.amazonaws.com/hrrr.20140809/conus/hrrr.t01z.wrfsfcf01.grib2\n"
     ]
    },
    {
     "name": "stderr",
     "output_type": "stream",
     "text": [
      " 67%|██████▋   | 1094/1631 [14:41:30<4:04:54, 27.36s/it]"
     ]
    },
    {
     "name": "stdout",
     "output_type": "stream",
     "text": [
      "https://noaa-hrrr-bdp-pds.s3.amazonaws.com/hrrr.20190508/conus/hrrr.t01z.wrfsfcf01.grib2\n"
     ]
    },
    {
     "name": "stderr",
     "output_type": "stream",
     "text": [
      " 67%|██████▋   | 1095/1631 [14:42:04<4:23:51, 29.54s/it]"
     ]
    },
    {
     "name": "stdout",
     "output_type": "stream",
     "text": [
      "https://noaa-hrrr-bdp-pds.s3.amazonaws.com/hrrr.20160326/conus/hrrr.t01z.wrfsfcf01.grib2\n"
     ]
    },
    {
     "name": "stderr",
     "output_type": "stream",
     "text": [
      " 67%|██████▋   | 1096/1631 [14:42:34<4:23:18, 29.53s/it]"
     ]
    },
    {
     "name": "stdout",
     "output_type": "stream",
     "text": [
      "https://noaa-hrrr-bdp-pds.s3.amazonaws.com/hrrr.20170927/conus/hrrr.t01z.wrfsfcf01.grib2\n"
     ]
    },
    {
     "name": "stderr",
     "output_type": "stream",
     "text": [
      " 67%|██████▋   | 1097/1631 [14:43:35<5:48:16, 39.13s/it]"
     ]
    },
    {
     "name": "stdout",
     "output_type": "stream",
     "text": [
      "https://noaa-hrrr-bdp-pds.s3.amazonaws.com/hrrr.20140208/conus/hrrr.t01z.wrfsfcf01.grib2\n"
     ]
    },
    {
     "name": "stderr",
     "output_type": "stream",
     "text": [
      " 67%|██████▋   | 1098/1631 [14:43:36<4:05:48, 27.67s/it]"
     ]
    },
    {
     "name": "stdout",
     "output_type": "stream",
     "text": [
      "https://noaa-hrrr-bdp-pds.s3.amazonaws.com/hrrr.20190823/conus/hrrr.t01z.wrfsfcf01.grib2\n"
     ]
    },
    {
     "name": "stderr",
     "output_type": "stream",
     "text": [
      " 67%|██████▋   | 1099/1631 [14:44:12<4:25:07, 29.90s/it]"
     ]
    },
    {
     "name": "stdout",
     "output_type": "stream",
     "text": [
      "https://noaa-hrrr-bdp-pds.s3.amazonaws.com/hrrr.20150720/conus/hrrr.t01z.wrfsfcf01.grib2\n"
     ]
    },
    {
     "name": "stderr",
     "output_type": "stream",
     "text": [
      " 67%|██████▋   | 1100/1631 [14:44:48<4:41:14, 31.78s/it]"
     ]
    },
    {
     "name": "stdout",
     "output_type": "stream",
     "text": [
      "https://noaa-hrrr-bdp-pds.s3.amazonaws.com/hrrr.20210601/conus/hrrr.t01z.wrfsfcf01.grib2\n"
     ]
    },
    {
     "name": "stderr",
     "output_type": "stream",
     "text": [
      " 68%|██████▊   | 1101/1631 [14:45:25<4:56:43, 33.59s/it]"
     ]
    },
    {
     "name": "stdout",
     "output_type": "stream",
     "text": [
      "https://noaa-hrrr-bdp-pds.s3.amazonaws.com/hrrr.20190108/conus/hrrr.t01z.wrfsfcf01.grib2\n"
     ]
    },
    {
     "name": "stderr",
     "output_type": "stream",
     "text": [
      " 68%|██████▊   | 1102/1631 [14:46:11<5:27:09, 37.11s/it]"
     ]
    },
    {
     "name": "stdout",
     "output_type": "stream",
     "text": [
      "https://noaa-hrrr-bdp-pds.s3.amazonaws.com/hrrr.20200903/conus/hrrr.t01z.wrfsfcf01.grib2\n"
     ]
    },
    {
     "name": "stderr",
     "output_type": "stream",
     "text": [
      " 68%|██████▊   | 1103/1631 [14:46:36<4:54:26, 33.46s/it]"
     ]
    },
    {
     "name": "stdout",
     "output_type": "stream",
     "text": [
      "https://noaa-hrrr-bdp-pds.s3.amazonaws.com/hrrr.20170827/conus/hrrr.t01z.wrfsfcf01.grib2\n"
     ]
    },
    {
     "name": "stderr",
     "output_type": "stream",
     "text": [
      " 68%|██████▊   | 1104/1631 [14:47:01<4:32:36, 31.04s/it]"
     ]
    },
    {
     "name": "stdout",
     "output_type": "stream",
     "text": [
      "https://noaa-hrrr-bdp-pds.s3.amazonaws.com/hrrr.20180919/conus/hrrr.t01z.wrfsfcf01.grib2\n"
     ]
    },
    {
     "name": "stderr",
     "output_type": "stream",
     "text": [
      " 68%|██████▊   | 1105/1631 [14:47:38<4:47:38, 32.81s/it]"
     ]
    },
    {
     "name": "stdout",
     "output_type": "stream",
     "text": [
      "https://noaa-hrrr-bdp-pds.s3.amazonaws.com/hrrr.20190213/conus/hrrr.t01z.wrfsfcf01.grib2\n"
     ]
    },
    {
     "name": "stderr",
     "output_type": "stream",
     "text": [
      " 68%|██████▊   | 1106/1631 [14:48:03<4:25:42, 30.37s/it]"
     ]
    },
    {
     "name": "stdout",
     "output_type": "stream",
     "text": [
      "https://noaa-hrrr-bdp-pds.s3.amazonaws.com/hrrr.20131015/conus/hrrr.t01z.wrfsfcf01.grib2\n"
     ]
    },
    {
     "name": "stderr",
     "output_type": "stream",
     "text": [
      " 68%|██████▊   | 1107/1631 [14:48:04<3:08:15, 21.56s/it]"
     ]
    },
    {
     "name": "stdout",
     "output_type": "stream",
     "text": [
      "https://noaa-hrrr-bdp-pds.s3.amazonaws.com/hrrr.20190314/conus/hrrr.t01z.wrfsfcf01.grib2\n"
     ]
    },
    {
     "name": "stderr",
     "output_type": "stream",
     "text": [
      " 68%|██████▊   | 1108/1631 [14:48:31<3:21:58, 23.17s/it]"
     ]
    },
    {
     "name": "stdout",
     "output_type": "stream",
     "text": [
      "https://noaa-hrrr-bdp-pds.s3.amazonaws.com/hrrr.20131008/conus/hrrr.t01z.wrfsfcf01.grib2\n"
     ]
    },
    {
     "name": "stderr",
     "output_type": "stream",
     "text": [
      " 68%|██████▊   | 1109/1631 [14:48:32<2:23:36, 16.51s/it]"
     ]
    },
    {
     "name": "stdout",
     "output_type": "stream",
     "text": [
      "https://noaa-hrrr-bdp-pds.s3.amazonaws.com/hrrr.20160403/conus/hrrr.t01z.wrfsfcf01.grib2\n"
     ]
    },
    {
     "name": "stderr",
     "output_type": "stream",
     "text": [
      " 68%|██████▊   | 1110/1631 [14:48:51<2:31:09, 17.41s/it]"
     ]
    },
    {
     "name": "stdout",
     "output_type": "stream",
     "text": [
      "https://noaa-hrrr-bdp-pds.s3.amazonaws.com/hrrr.20171226/conus/hrrr.t01z.wrfsfcf01.grib2\n"
     ]
    },
    {
     "name": "stderr",
     "output_type": "stream",
     "text": [
      " 68%|██████▊   | 1111/1631 [14:49:22<3:05:01, 21.35s/it]"
     ]
    },
    {
     "name": "stdout",
     "output_type": "stream",
     "text": [
      "https://noaa-hrrr-bdp-pds.s3.amazonaws.com/hrrr.20210624/conus/hrrr.t01z.wrfsfcf01.grib2\n"
     ]
    },
    {
     "name": "stderr",
     "output_type": "stream",
     "text": [
      " 68%|██████▊   | 1112/1631 [14:50:07<4:07:51, 28.65s/it]"
     ]
    },
    {
     "name": "stdout",
     "output_type": "stream",
     "text": [
      "https://noaa-hrrr-bdp-pds.s3.amazonaws.com/hrrr.20150917/conus/hrrr.t01z.wrfsfcf01.grib2\n"
     ]
    },
    {
     "name": "stderr",
     "output_type": "stream",
     "text": [
      " 68%|██████▊   | 1113/1631 [14:50:34<4:02:59, 28.15s/it]"
     ]
    },
    {
     "name": "stdout",
     "output_type": "stream",
     "text": [
      "https://noaa-hrrr-bdp-pds.s3.amazonaws.com/hrrr.20151029/conus/hrrr.t01z.wrfsfcf01.grib2\n"
     ]
    },
    {
     "name": "stderr",
     "output_type": "stream",
     "text": [
      " 68%|██████▊   | 1114/1631 [14:50:52<3:35:18, 24.99s/it]"
     ]
    },
    {
     "name": "stdout",
     "output_type": "stream",
     "text": [
      "https://noaa-hrrr-bdp-pds.s3.amazonaws.com/hrrr.20210609/conus/hrrr.t01z.wrfsfcf01.grib2\n"
     ]
    },
    {
     "name": "stderr",
     "output_type": "stream",
     "text": [
      " 68%|██████▊   | 1115/1631 [14:51:49<4:56:57, 34.53s/it]"
     ]
    },
    {
     "name": "stdout",
     "output_type": "stream",
     "text": [
      "https://noaa-hrrr-bdp-pds.s3.amazonaws.com/hrrr.20130818/conus/hrrr.t01z.wrfsfcf01.grib2\n"
     ]
    },
    {
     "name": "stderr",
     "output_type": "stream",
     "text": [
      " 68%|██████▊   | 1116/1631 [14:51:50<3:30:01, 24.47s/it]"
     ]
    },
    {
     "name": "stdout",
     "output_type": "stream",
     "text": [
      "https://noaa-hrrr-bdp-pds.s3.amazonaws.com/hrrr.20190621/conus/hrrr.t01z.wrfsfcf01.grib2\n"
     ]
    },
    {
     "name": "stderr",
     "output_type": "stream",
     "text": [
      " 68%|██████▊   | 1117/1631 [14:52:20<3:43:21, 26.07s/it]"
     ]
    },
    {
     "name": "stdout",
     "output_type": "stream",
     "text": [
      "https://noaa-hrrr-bdp-pds.s3.amazonaws.com/hrrr.20130220/conus/hrrr.t01z.wrfsfcf01.grib2\n"
     ]
    },
    {
     "name": "stderr",
     "output_type": "stream",
     "text": [
      " 69%|██████▊   | 1118/1631 [14:52:21<2:38:26, 18.53s/it]"
     ]
    },
    {
     "name": "stdout",
     "output_type": "stream",
     "text": [
      "https://noaa-hrrr-bdp-pds.s3.amazonaws.com/hrrr.20160103/conus/hrrr.t01z.wrfsfcf01.grib2\n"
     ]
    },
    {
     "name": "stderr",
     "output_type": "stream",
     "text": [
      " 69%|██████▊   | 1119/1631 [14:52:49<3:04:02, 21.57s/it]"
     ]
    },
    {
     "name": "stdout",
     "output_type": "stream",
     "text": [
      "https://noaa-hrrr-bdp-pds.s3.amazonaws.com/hrrr.20150612/conus/hrrr.t01z.wrfsfcf01.grib2\n"
     ]
    },
    {
     "name": "stderr",
     "output_type": "stream",
     "text": [
      " 69%|██████▊   | 1120/1631 [14:53:19<3:25:49, 24.17s/it]"
     ]
    },
    {
     "name": "stdout",
     "output_type": "stream",
     "text": [
      "https://noaa-hrrr-bdp-pds.s3.amazonaws.com/hrrr.20170922/conus/hrrr.t01z.wrfsfcf01.grib2\n"
     ]
    },
    {
     "name": "stderr",
     "output_type": "stream",
     "text": [
      " 69%|██████▊   | 1121/1631 [14:53:48<3:37:58, 25.64s/it]"
     ]
    },
    {
     "name": "stdout",
     "output_type": "stream",
     "text": [
      "https://noaa-hrrr-bdp-pds.s3.amazonaws.com/hrrr.20160111/conus/hrrr.t01z.wrfsfcf01.grib2\n"
     ]
    },
    {
     "name": "stderr",
     "output_type": "stream",
     "text": [
      " 69%|██████▉   | 1122/1631 [14:54:08<3:21:30, 23.75s/it]"
     ]
    },
    {
     "name": "stdout",
     "output_type": "stream",
     "text": [
      "https://noaa-hrrr-bdp-pds.s3.amazonaws.com/hrrr.20150302/conus/hrrr.t01z.wrfsfcf01.grib2\n"
     ]
    },
    {
     "name": "stderr",
     "output_type": "stream",
     "text": [
      " 69%|██████▉   | 1123/1631 [14:54:32<3:22:29, 23.92s/it]"
     ]
    },
    {
     "name": "stdout",
     "output_type": "stream",
     "text": [
      "https://noaa-hrrr-bdp-pds.s3.amazonaws.com/hrrr.20210728/conus/hrrr.t01z.wrfsfcf01.grib2\n"
     ]
    },
    {
     "name": "stderr",
     "output_type": "stream",
     "text": [
      " 69%|██████▉   | 1124/1631 [14:55:11<4:00:07, 28.42s/it]"
     ]
    },
    {
     "name": "stdout",
     "output_type": "stream",
     "text": [
      "https://noaa-hrrr-bdp-pds.s3.amazonaws.com/hrrr.20140824/conus/hrrr.t01z.wrfsfcf01.grib2\n"
     ]
    },
    {
     "name": "stderr",
     "output_type": "stream",
     "text": [
      " 69%|██████▉   | 1125/1631 [14:55:12<2:50:14, 20.19s/it]"
     ]
    },
    {
     "name": "stdout",
     "output_type": "stream",
     "text": [
      "https://noaa-hrrr-bdp-pds.s3.amazonaws.com/hrrr.20150713/conus/hrrr.t01z.wrfsfcf01.grib2\n"
     ]
    },
    {
     "name": "stderr",
     "output_type": "stream",
     "text": [
      " 69%|██████▉   | 1126/1631 [14:55:43<3:17:56, 23.52s/it]"
     ]
    },
    {
     "name": "stdout",
     "output_type": "stream",
     "text": [
      "https://noaa-hrrr-bdp-pds.s3.amazonaws.com/hrrr.20130821/conus/hrrr.t01z.wrfsfcf01.grib2\n"
     ]
    },
    {
     "name": "stderr",
     "output_type": "stream",
     "text": [
      " 69%|██████▉   | 1127/1631 [14:55:44<2:20:43, 16.75s/it]"
     ]
    },
    {
     "name": "stdout",
     "output_type": "stream",
     "text": [
      "https://noaa-hrrr-bdp-pds.s3.amazonaws.com/hrrr.20131010/conus/hrrr.t01z.wrfsfcf01.grib2\n"
     ]
    },
    {
     "name": "stderr",
     "output_type": "stream",
     "text": [
      " 69%|██████▉   | 1128/1631 [14:55:45<1:40:44, 12.02s/it]"
     ]
    },
    {
     "name": "stdout",
     "output_type": "stream",
     "text": [
      "https://noaa-hrrr-bdp-pds.s3.amazonaws.com/hrrr.20130401/conus/hrrr.t01z.wrfsfcf01.grib2\n"
     ]
    },
    {
     "name": "stderr",
     "output_type": "stream",
     "text": [
      " 69%|██████▉   | 1129/1631 [14:55:46<1:12:42,  8.69s/it]"
     ]
    },
    {
     "name": "stdout",
     "output_type": "stream",
     "text": [
      "https://noaa-hrrr-bdp-pds.s3.amazonaws.com/hrrr.20190926/conus/hrrr.t01z.wrfsfcf01.grib2\n"
     ]
    },
    {
     "name": "stderr",
     "output_type": "stream",
     "text": [
      " 69%|██████▉   | 1130/1631 [14:56:12<1:55:46, 13.87s/it]"
     ]
    },
    {
     "name": "stdout",
     "output_type": "stream",
     "text": [
      "https://noaa-hrrr-bdp-pds.s3.amazonaws.com/hrrr.20210818/conus/hrrr.t01z.wrfsfcf01.grib2\n"
     ]
    },
    {
     "name": "stderr",
     "output_type": "stream",
     "text": [
      " 69%|██████▉   | 1131/1631 [14:56:44<2:40:04, 19.21s/it]"
     ]
    },
    {
     "name": "stdout",
     "output_type": "stream",
     "text": [
      "https://noaa-hrrr-bdp-pds.s3.amazonaws.com/hrrr.20130416/conus/hrrr.t01z.wrfsfcf01.grib2\n"
     ]
    },
    {
     "name": "stderr",
     "output_type": "stream",
     "text": [
      " 69%|██████▉   | 1132/1631 [14:56:45<1:54:15, 13.74s/it]"
     ]
    },
    {
     "name": "stdout",
     "output_type": "stream",
     "text": [
      "https://noaa-hrrr-bdp-pds.s3.amazonaws.com/hrrr.20200107/conus/hrrr.t01z.wrfsfcf01.grib2\n"
     ]
    },
    {
     "name": "stderr",
     "output_type": "stream",
     "text": [
      " 69%|██████▉   | 1133/1631 [14:57:09<2:19:21, 16.79s/it]"
     ]
    },
    {
     "name": "stdout",
     "output_type": "stream",
     "text": [
      "https://noaa-hrrr-bdp-pds.s3.amazonaws.com/hrrr.20130603/conus/hrrr.t01z.wrfsfcf01.grib2\n"
     ]
    },
    {
     "name": "stderr",
     "output_type": "stream",
     "text": [
      " 70%|██████▉   | 1134/1631 [14:57:10<1:39:44, 12.04s/it]"
     ]
    },
    {
     "name": "stdout",
     "output_type": "stream",
     "text": [
      "https://noaa-hrrr-bdp-pds.s3.amazonaws.com/hrrr.20130902/conus/hrrr.t01z.wrfsfcf01.grib2\n"
     ]
    },
    {
     "name": "stderr",
     "output_type": "stream",
     "text": [
      " 70%|██████▉   | 1135/1631 [14:57:11<1:12:03,  8.72s/it]"
     ]
    },
    {
     "name": "stdout",
     "output_type": "stream",
     "text": [
      "https://noaa-hrrr-bdp-pds.s3.amazonaws.com/hrrr.20141112/conus/hrrr.t01z.wrfsfcf01.grib2\n"
     ]
    },
    {
     "name": "stderr",
     "output_type": "stream",
     "text": [
      " 70%|██████▉   | 1136/1631 [14:57:46<2:18:51, 16.83s/it]"
     ]
    },
    {
     "name": "stdout",
     "output_type": "stream",
     "text": [
      "https://noaa-hrrr-bdp-pds.s3.amazonaws.com/hrrr.20150626/conus/hrrr.t01z.wrfsfcf01.grib2\n"
     ]
    },
    {
     "name": "stderr",
     "output_type": "stream",
     "text": [
      " 70%|██████▉   | 1137/1631 [14:58:11<2:38:42, 19.28s/it]"
     ]
    },
    {
     "name": "stdout",
     "output_type": "stream",
     "text": [
      "https://noaa-hrrr-bdp-pds.s3.amazonaws.com/hrrr.20141212/conus/hrrr.t01z.wrfsfcf01.grib2\n"
     ]
    },
    {
     "name": "stderr",
     "output_type": "stream",
     "text": [
      " 70%|██████▉   | 1138/1631 [14:58:30<2:36:57, 19.10s/it]"
     ]
    },
    {
     "name": "stdout",
     "output_type": "stream",
     "text": [
      "https://noaa-hrrr-bdp-pds.s3.amazonaws.com/hrrr.20211021/conus/hrrr.t01z.wrfsfcf01.grib2\n"
     ]
    },
    {
     "name": "stderr",
     "output_type": "stream",
     "text": [
      " 70%|██████▉   | 1139/1631 [14:58:59<3:01:33, 22.14s/it]"
     ]
    },
    {
     "name": "stdout",
     "output_type": "stream",
     "text": [
      "https://noaa-hrrr-bdp-pds.s3.amazonaws.com/hrrr.20130806/conus/hrrr.t01z.wrfsfcf01.grib2\n"
     ]
    },
    {
     "name": "stderr",
     "output_type": "stream",
     "text": [
      " 70%|██████▉   | 1140/1631 [14:59:00<2:09:12, 15.79s/it]"
     ]
    },
    {
     "name": "stdout",
     "output_type": "stream",
     "text": [
      "https://noaa-hrrr-bdp-pds.s3.amazonaws.com/hrrr.20170616/conus/hrrr.t01z.wrfsfcf01.grib2\n"
     ]
    },
    {
     "name": "stderr",
     "output_type": "stream",
     "text": [
      " 70%|██████▉   | 1141/1631 [14:59:36<2:57:07, 21.69s/it]"
     ]
    },
    {
     "name": "stdout",
     "output_type": "stream",
     "text": [
      "https://noaa-hrrr-bdp-pds.s3.amazonaws.com/hrrr.20160714/conus/hrrr.t01z.wrfsfcf01.grib2\n"
     ]
    },
    {
     "name": "stderr",
     "output_type": "stream",
     "text": [
      " 70%|███████   | 1142/1631 [14:59:57<2:56:04, 21.60s/it]"
     ]
    },
    {
     "name": "stdout",
     "output_type": "stream",
     "text": [
      "https://noaa-hrrr-bdp-pds.s3.amazonaws.com/hrrr.20130104/conus/hrrr.t01z.wrfsfcf01.grib2\n"
     ]
    },
    {
     "name": "stderr",
     "output_type": "stream",
     "text": [
      " 70%|███████   | 1143/1631 [14:59:58<2:05:20, 15.41s/it]"
     ]
    },
    {
     "name": "stdout",
     "output_type": "stream",
     "text": [
      "https://noaa-hrrr-bdp-pds.s3.amazonaws.com/hrrr.20190923/conus/hrrr.t01z.wrfsfcf01.grib2\n"
     ]
    },
    {
     "name": "stderr",
     "output_type": "stream",
     "text": [
      " 70%|███████   | 1144/1631 [15:00:53<3:41:09, 27.25s/it]"
     ]
    },
    {
     "name": "stdout",
     "output_type": "stream",
     "text": [
      "https://noaa-hrrr-bdp-pds.s3.amazonaws.com/hrrr.20180315/conus/hrrr.t01z.wrfsfcf01.grib2\n"
     ]
    },
    {
     "name": "stderr",
     "output_type": "stream",
     "text": [
      " 70%|███████   | 1145/1631 [15:01:23<3:46:53, 28.01s/it]"
     ]
    },
    {
     "name": "stdout",
     "output_type": "stream",
     "text": [
      "https://noaa-hrrr-bdp-pds.s3.amazonaws.com/hrrr.20170422/conus/hrrr.t01z.wrfsfcf01.grib2\n"
     ]
    },
    {
     "name": "stderr",
     "output_type": "stream",
     "text": [
      " 70%|███████   | 1146/1631 [15:01:49<3:41:42, 27.43s/it]"
     ]
    },
    {
     "name": "stdout",
     "output_type": "stream",
     "text": [
      "https://noaa-hrrr-bdp-pds.s3.amazonaws.com/hrrr.20200727/conus/hrrr.t01z.wrfsfcf01.grib2\n"
     ]
    },
    {
     "name": "stderr",
     "output_type": "stream",
     "text": [
      " 70%|███████   | 1147/1631 [15:02:18<3:46:39, 28.10s/it]"
     ]
    },
    {
     "name": "stdout",
     "output_type": "stream",
     "text": [
      "https://noaa-hrrr-bdp-pds.s3.amazonaws.com/hrrr.20210729/conus/hrrr.t01z.wrfsfcf01.grib2\n"
     ]
    },
    {
     "name": "stderr",
     "output_type": "stream",
     "text": [
      " 70%|███████   | 1148/1631 [15:02:59<4:16:30, 31.86s/it]"
     ]
    },
    {
     "name": "stdout",
     "output_type": "stream",
     "text": [
      "https://noaa-hrrr-bdp-pds.s3.amazonaws.com/hrrr.20150120/conus/hrrr.t01z.wrfsfcf01.grib2\n"
     ]
    },
    {
     "name": "stderr",
     "output_type": "stream",
     "text": [
      " 70%|███████   | 1149/1631 [15:03:00<3:01:26, 22.59s/it]"
     ]
    },
    {
     "name": "stdout",
     "output_type": "stream",
     "text": [
      "https://noaa-hrrr-bdp-pds.s3.amazonaws.com/hrrr.20160504/conus/hrrr.t01z.wrfsfcf01.grib2\n"
     ]
    },
    {
     "name": "stderr",
     "output_type": "stream",
     "text": [
      " 71%|███████   | 1150/1631 [15:03:19<2:51:53, 21.44s/it]"
     ]
    },
    {
     "name": "stdout",
     "output_type": "stream",
     "text": [
      "https://noaa-hrrr-bdp-pds.s3.amazonaws.com/hrrr.20150207/conus/hrrr.t01z.wrfsfcf01.grib2\n"
     ]
    },
    {
     "name": "stderr",
     "output_type": "stream",
     "text": [
      " 71%|███████   | 1151/1631 [15:03:41<2:54:14, 21.78s/it]"
     ]
    },
    {
     "name": "stdout",
     "output_type": "stream",
     "text": [
      "https://noaa-hrrr-bdp-pds.s3.amazonaws.com/hrrr.20150121/conus/hrrr.t01z.wrfsfcf01.grib2\n"
     ]
    },
    {
     "name": "stderr",
     "output_type": "stream",
     "text": [
      " 71%|███████   | 1152/1631 [15:04:05<2:58:45, 22.39s/it]"
     ]
    },
    {
     "name": "stdout",
     "output_type": "stream",
     "text": [
      "https://noaa-hrrr-bdp-pds.s3.amazonaws.com/hrrr.20170609/conus/hrrr.t01z.wrfsfcf01.grib2\n"
     ]
    },
    {
     "name": "stderr",
     "output_type": "stream",
     "text": [
      " 71%|███████   | 1153/1631 [15:04:35<3:16:39, 24.69s/it]"
     ]
    },
    {
     "name": "stdout",
     "output_type": "stream",
     "text": [
      "https://noaa-hrrr-bdp-pds.s3.amazonaws.com/hrrr.20140626/conus/hrrr.t01z.wrfsfcf01.grib2\n"
     ]
    },
    {
     "name": "stderr",
     "output_type": "stream",
     "text": [
      " 71%|███████   | 1154/1631 [15:04:36<2:19:41, 17.57s/it]"
     ]
    },
    {
     "name": "stdout",
     "output_type": "stream",
     "text": [
      "https://noaa-hrrr-bdp-pds.s3.amazonaws.com/hrrr.20180512/conus/hrrr.t01z.wrfsfcf01.grib2\n"
     ]
    },
    {
     "name": "stderr",
     "output_type": "stream",
     "text": [
      " 71%|███████   | 1155/1631 [15:05:09<2:56:33, 22.26s/it]"
     ]
    },
    {
     "name": "stdout",
     "output_type": "stream",
     "text": [
      "https://noaa-hrrr-bdp-pds.s3.amazonaws.com/hrrr.20140206/conus/hrrr.t01z.wrfsfcf01.grib2\n"
     ]
    },
    {
     "name": "stderr",
     "output_type": "stream",
     "text": [
      " 71%|███████   | 1156/1631 [15:05:10<2:05:35, 15.86s/it]"
     ]
    },
    {
     "name": "stdout",
     "output_type": "stream",
     "text": [
      "https://noaa-hrrr-bdp-pds.s3.amazonaws.com/hrrr.20211117/conus/hrrr.t01z.wrfsfcf01.grib2\n"
     ]
    },
    {
     "name": "stderr",
     "output_type": "stream",
     "text": [
      " 71%|███████   | 1157/1631 [15:05:37<2:30:57, 19.11s/it]"
     ]
    },
    {
     "name": "stdout",
     "output_type": "stream",
     "text": [
      "https://noaa-hrrr-bdp-pds.s3.amazonaws.com/hrrr.20150413/conus/hrrr.t01z.wrfsfcf01.grib2\n"
     ]
    },
    {
     "name": "stderr",
     "output_type": "stream",
     "text": [
      " 71%|███████   | 1158/1631 [15:05:55<2:27:48, 18.75s/it]"
     ]
    },
    {
     "name": "stdout",
     "output_type": "stream",
     "text": [
      "https://noaa-hrrr-bdp-pds.s3.amazonaws.com/hrrr.20181008/conus/hrrr.t01z.wrfsfcf01.grib2\n"
     ]
    },
    {
     "name": "stderr",
     "output_type": "stream",
     "text": [
      " 71%|███████   | 1159/1631 [15:06:40<3:28:51, 26.55s/it]"
     ]
    },
    {
     "name": "stdout",
     "output_type": "stream",
     "text": [
      "https://noaa-hrrr-bdp-pds.s3.amazonaws.com/hrrr.20210727/conus/hrrr.t01z.wrfsfcf01.grib2\n"
     ]
    },
    {
     "name": "stderr",
     "output_type": "stream",
     "text": [
      " 71%|███████   | 1160/1631 [15:07:33<4:31:32, 34.59s/it]"
     ]
    },
    {
     "name": "stdout",
     "output_type": "stream",
     "text": [
      "https://noaa-hrrr-bdp-pds.s3.amazonaws.com/hrrr.20190226/conus/hrrr.t01z.wrfsfcf01.grib2\n"
     ]
    },
    {
     "name": "stderr",
     "output_type": "stream",
     "text": [
      " 71%|███████   | 1161/1631 [15:08:23<5:08:07, 39.34s/it]"
     ]
    },
    {
     "name": "stdout",
     "output_type": "stream",
     "text": [
      "https://noaa-hrrr-bdp-pds.s3.amazonaws.com/hrrr.20200710/conus/hrrr.t01z.wrfsfcf01.grib2\n"
     ]
    },
    {
     "name": "stderr",
     "output_type": "stream",
     "text": [
      " 71%|███████   | 1162/1631 [15:09:02<5:04:34, 38.96s/it]"
     ]
    },
    {
     "name": "stdout",
     "output_type": "stream",
     "text": [
      "https://noaa-hrrr-bdp-pds.s3.amazonaws.com/hrrr.20190402/conus/hrrr.t01z.wrfsfcf01.grib2\n"
     ]
    },
    {
     "name": "stderr",
     "output_type": "stream",
     "text": [
      " 71%|███████▏  | 1163/1631 [15:09:27<4:32:34, 34.95s/it]"
     ]
    },
    {
     "name": "stdout",
     "output_type": "stream",
     "text": [
      "https://noaa-hrrr-bdp-pds.s3.amazonaws.com/hrrr.20200615/conus/hrrr.t01z.wrfsfcf01.grib2\n"
     ]
    },
    {
     "name": "stderr",
     "output_type": "stream",
     "text": [
      " 71%|███████▏  | 1164/1631 [15:10:16<5:03:53, 39.04s/it]"
     ]
    },
    {
     "name": "stdout",
     "output_type": "stream",
     "text": [
      "https://noaa-hrrr-bdp-pds.s3.amazonaws.com/hrrr.20170813/conus/hrrr.t01z.wrfsfcf01.grib2\n"
     ]
    },
    {
     "name": "stderr",
     "output_type": "stream",
     "text": [
      " 71%|███████▏  | 1165/1631 [15:11:04<5:24:06, 41.73s/it]"
     ]
    },
    {
     "name": "stdout",
     "output_type": "stream",
     "text": [
      "https://noaa-hrrr-bdp-pds.s3.amazonaws.com/hrrr.20190710/conus/hrrr.t01z.wrfsfcf01.grib2\n"
     ]
    },
    {
     "name": "stderr",
     "output_type": "stream",
     "text": [
      " 71%|███████▏  | 1166/1631 [15:11:46<5:23:42, 41.77s/it]"
     ]
    },
    {
     "name": "stdout",
     "output_type": "stream",
     "text": [
      "https://noaa-hrrr-bdp-pds.s3.amazonaws.com/hrrr.20150216/conus/hrrr.t01z.wrfsfcf01.grib2\n"
     ]
    },
    {
     "name": "stderr",
     "output_type": "stream",
     "text": [
      " 72%|███████▏  | 1167/1631 [15:12:03<4:25:32, 34.34s/it]"
     ]
    },
    {
     "name": "stdout",
     "output_type": "stream",
     "text": [
      "https://noaa-hrrr-bdp-pds.s3.amazonaws.com/hrrr.20190107/conus/hrrr.t01z.wrfsfcf01.grib2\n"
     ]
    },
    {
     "name": "stderr",
     "output_type": "stream",
     "text": [
      " 72%|███████▏  | 1168/1631 [15:12:34<4:17:07, 33.32s/it]"
     ]
    },
    {
     "name": "stdout",
     "output_type": "stream",
     "text": [
      "https://noaa-hrrr-bdp-pds.s3.amazonaws.com/hrrr.20150107/conus/hrrr.t01z.wrfsfcf01.grib2\n"
     ]
    },
    {
     "name": "stderr",
     "output_type": "stream",
     "text": [
      " 72%|███████▏  | 1169/1631 [15:12:51<3:39:01, 28.45s/it]"
     ]
    },
    {
     "name": "stdout",
     "output_type": "stream",
     "text": [
      "https://noaa-hrrr-bdp-pds.s3.amazonaws.com/hrrr.20201224/conus/hrrr.t01z.wrfsfcf01.grib2\n"
     ]
    },
    {
     "name": "stderr",
     "output_type": "stream",
     "text": [
      " 72%|███████▏  | 1170/1631 [15:13:20<3:40:42, 28.73s/it]"
     ]
    },
    {
     "name": "stdout",
     "output_type": "stream",
     "text": [
      "https://noaa-hrrr-bdp-pds.s3.amazonaws.com/hrrr.20210822/conus/hrrr.t01z.wrfsfcf01.grib2\n"
     ]
    },
    {
     "name": "stderr",
     "output_type": "stream",
     "text": [
      " 72%|███████▏  | 1171/1631 [15:14:00<4:07:16, 32.25s/it]"
     ]
    },
    {
     "name": "stdout",
     "output_type": "stream",
     "text": [
      "https://noaa-hrrr-bdp-pds.s3.amazonaws.com/hrrr.20180920/conus/hrrr.t01z.wrfsfcf01.grib2\n"
     ]
    },
    {
     "name": "stderr",
     "output_type": "stream",
     "text": [
      " 72%|███████▏  | 1172/1631 [15:15:03<5:16:20, 41.35s/it]"
     ]
    },
    {
     "name": "stdout",
     "output_type": "stream",
     "text": [
      "https://noaa-hrrr-bdp-pds.s3.amazonaws.com/hrrr.20150512/conus/hrrr.t01z.wrfsfcf01.grib2\n"
     ]
    },
    {
     "name": "stderr",
     "output_type": "stream",
     "text": [
      " 72%|███████▏  | 1173/1631 [15:15:41<5:06:59, 40.22s/it]"
     ]
    },
    {
     "name": "stdout",
     "output_type": "stream",
     "text": [
      "https://noaa-hrrr-bdp-pds.s3.amazonaws.com/hrrr.20140911/conus/hrrr.t01z.wrfsfcf01.grib2\n"
     ]
    },
    {
     "name": "stderr",
     "output_type": "stream",
     "text": [
      " 72%|███████▏  | 1174/1631 [15:15:42<3:36:40, 28.45s/it]"
     ]
    },
    {
     "name": "stdout",
     "output_type": "stream",
     "text": [
      "https://noaa-hrrr-bdp-pds.s3.amazonaws.com/hrrr.20210901/conus/hrrr.t01z.wrfsfcf01.grib2\n"
     ]
    },
    {
     "name": "stderr",
     "output_type": "stream",
     "text": [
      " 72%|███████▏  | 1175/1631 [15:16:23<4:04:59, 32.24s/it]"
     ]
    },
    {
     "name": "stdout",
     "output_type": "stream",
     "text": [
      "https://noaa-hrrr-bdp-pds.s3.amazonaws.com/hrrr.20150709/conus/hrrr.t01z.wrfsfcf01.grib2\n"
     ]
    },
    {
     "name": "stderr",
     "output_type": "stream",
     "text": [
      " 72%|███████▏  | 1176/1631 [15:16:42<3:34:59, 28.35s/it]"
     ]
    },
    {
     "name": "stdout",
     "output_type": "stream",
     "text": [
      "https://noaa-hrrr-bdp-pds.s3.amazonaws.com/hrrr.20210415/conus/hrrr.t01z.wrfsfcf01.grib2\n"
     ]
    },
    {
     "name": "stderr",
     "output_type": "stream",
     "text": [
      " 72%|███████▏  | 1177/1631 [15:17:12<3:37:16, 28.72s/it]"
     ]
    },
    {
     "name": "stdout",
     "output_type": "stream",
     "text": [
      "https://noaa-hrrr-bdp-pds.s3.amazonaws.com/hrrr.20190326/conus/hrrr.t01z.wrfsfcf01.grib2\n"
     ]
    },
    {
     "name": "stderr",
     "output_type": "stream",
     "text": [
      " 72%|███████▏  | 1178/1631 [15:17:42<3:40:24, 29.19s/it]"
     ]
    },
    {
     "name": "stdout",
     "output_type": "stream",
     "text": [
      "https://noaa-hrrr-bdp-pds.s3.amazonaws.com/hrrr.20140616/conus/hrrr.t01z.wrfsfcf01.grib2\n"
     ]
    },
    {
     "name": "stderr",
     "output_type": "stream",
     "text": [
      " 72%|███████▏  | 1179/1631 [15:17:43<2:36:01, 20.71s/it]"
     ]
    },
    {
     "name": "stdout",
     "output_type": "stream",
     "text": [
      "https://noaa-hrrr-bdp-pds.s3.amazonaws.com/hrrr.20170301/conus/hrrr.t01z.wrfsfcf01.grib2\n"
     ]
    },
    {
     "name": "stderr",
     "output_type": "stream",
     "text": [
      " 72%|███████▏  | 1180/1631 [15:18:11<2:53:21, 23.06s/it]"
     ]
    },
    {
     "name": "stdout",
     "output_type": "stream",
     "text": [
      "https://noaa-hrrr-bdp-pds.s3.amazonaws.com/hrrr.20191028/conus/hrrr.t01z.wrfsfcf01.grib2\n"
     ]
    },
    {
     "name": "stderr",
     "output_type": "stream",
     "text": [
      " 72%|███████▏  | 1181/1631 [15:18:46<3:18:43, 26.50s/it]"
     ]
    },
    {
     "name": "stdout",
     "output_type": "stream",
     "text": [
      "https://noaa-hrrr-bdp-pds.s3.amazonaws.com/hrrr.20140429/conus/hrrr.t01z.wrfsfcf01.grib2\n"
     ]
    },
    {
     "name": "stderr",
     "output_type": "stream",
     "text": [
      " 72%|███████▏  | 1182/1631 [15:18:47<2:21:01, 18.85s/it]"
     ]
    },
    {
     "name": "stdout",
     "output_type": "stream",
     "text": [
      "https://noaa-hrrr-bdp-pds.s3.amazonaws.com/hrrr.20190503/conus/hrrr.t01z.wrfsfcf01.grib2\n"
     ]
    },
    {
     "name": "stderr",
     "output_type": "stream",
     "text": [
      " 73%|███████▎  | 1183/1631 [15:19:23<2:59:09, 23.99s/it]"
     ]
    },
    {
     "name": "stdout",
     "output_type": "stream",
     "text": [
      "https://noaa-hrrr-bdp-pds.s3.amazonaws.com/hrrr.20200915/conus/hrrr.t01z.wrfsfcf01.grib2\n"
     ]
    },
    {
     "name": "stderr",
     "output_type": "stream",
     "text": [
      " 73%|███████▎  | 1184/1631 [15:20:00<3:29:04, 28.06s/it]"
     ]
    },
    {
     "name": "stdout",
     "output_type": "stream",
     "text": [
      "https://noaa-hrrr-bdp-pds.s3.amazonaws.com/hrrr.20150508/conus/hrrr.t01z.wrfsfcf01.grib2\n"
     ]
    },
    {
     "name": "stderr",
     "output_type": "stream",
     "text": [
      " 73%|███████▎  | 1185/1631 [15:20:19<3:07:56, 25.28s/it]"
     ]
    },
    {
     "name": "stdout",
     "output_type": "stream",
     "text": [
      "https://noaa-hrrr-bdp-pds.s3.amazonaws.com/hrrr.20130715/conus/hrrr.t01z.wrfsfcf01.grib2\n"
     ]
    },
    {
     "name": "stderr",
     "output_type": "stream",
     "text": [
      " 73%|███████▎  | 1186/1631 [15:20:20<2:13:21, 17.98s/it]"
     ]
    },
    {
     "name": "stdout",
     "output_type": "stream",
     "text": [
      "https://noaa-hrrr-bdp-pds.s3.amazonaws.com/hrrr.20171019/conus/hrrr.t01z.wrfsfcf01.grib2\n"
     ]
    },
    {
     "name": "stderr",
     "output_type": "stream",
     "text": [
      " 73%|███████▎  | 1187/1631 [15:20:42<2:21:22, 19.10s/it]"
     ]
    },
    {
     "name": "stdout",
     "output_type": "stream",
     "text": [
      "https://noaa-hrrr-bdp-pds.s3.amazonaws.com/hrrr.20181106/conus/hrrr.t01z.wrfsfcf01.grib2\n"
     ]
    },
    {
     "name": "stderr",
     "output_type": "stream",
     "text": [
      " 73%|███████▎  | 1188/1631 [15:21:09<2:38:01, 21.40s/it]"
     ]
    },
    {
     "name": "stdout",
     "output_type": "stream",
     "text": [
      "https://noaa-hrrr-bdp-pds.s3.amazonaws.com/hrrr.20140424/conus/hrrr.t01z.wrfsfcf01.grib2\n"
     ]
    },
    {
     "name": "stderr",
     "output_type": "stream",
     "text": [
      " 73%|███████▎  | 1189/1631 [15:21:10<1:52:27, 15.27s/it]"
     ]
    },
    {
     "name": "stdout",
     "output_type": "stream",
     "text": [
      "https://noaa-hrrr-bdp-pds.s3.amazonaws.com/hrrr.20191024/conus/hrrr.t01z.wrfsfcf01.grib2\n"
     ]
    },
    {
     "name": "stderr",
     "output_type": "stream",
     "text": [
      " 73%|███████▎  | 1190/1631 [15:21:34<2:12:58, 18.09s/it]"
     ]
    },
    {
     "name": "stdout",
     "output_type": "stream",
     "text": [
      "https://noaa-hrrr-bdp-pds.s3.amazonaws.com/hrrr.20161025/conus/hrrr.t01z.wrfsfcf01.grib2\n"
     ]
    },
    {
     "name": "stderr",
     "output_type": "stream",
     "text": [
      " 73%|███████▎  | 1191/1631 [15:22:00<2:30:16, 20.49s/it]"
     ]
    },
    {
     "name": "stdout",
     "output_type": "stream",
     "text": [
      "https://noaa-hrrr-bdp-pds.s3.amazonaws.com/hrrr.20160807/conus/hrrr.t01z.wrfsfcf01.grib2\n"
     ]
    },
    {
     "name": "stderr",
     "output_type": "stream",
     "text": [
      " 73%|███████▎  | 1192/1631 [15:22:21<2:31:12, 20.67s/it]"
     ]
    },
    {
     "name": "stdout",
     "output_type": "stream",
     "text": [
      "https://noaa-hrrr-bdp-pds.s3.amazonaws.com/hrrr.20160328/conus/hrrr.t01z.wrfsfcf01.grib2\n"
     ]
    },
    {
     "name": "stderr",
     "output_type": "stream",
     "text": [
      " 73%|███████▎  | 1193/1631 [15:22:41<2:29:34, 20.49s/it]"
     ]
    },
    {
     "name": "stdout",
     "output_type": "stream",
     "text": [
      "https://noaa-hrrr-bdp-pds.s3.amazonaws.com/hrrr.20200814/conus/hrrr.t01z.wrfsfcf01.grib2\n"
     ]
    },
    {
     "name": "stderr",
     "output_type": "stream",
     "text": [
      " 73%|███████▎  | 1194/1631 [15:23:12<2:51:29, 23.54s/it]"
     ]
    },
    {
     "name": "stdout",
     "output_type": "stream",
     "text": [
      "https://noaa-hrrr-bdp-pds.s3.amazonaws.com/hrrr.20150611/conus/hrrr.t01z.wrfsfcf01.grib2\n"
     ]
    },
    {
     "name": "stderr",
     "output_type": "stream",
     "text": [
      " 73%|███████▎  | 1195/1631 [15:23:43<3:06:00, 25.60s/it]"
     ]
    },
    {
     "name": "stdout",
     "output_type": "stream",
     "text": [
      "https://noaa-hrrr-bdp-pds.s3.amazonaws.com/hrrr.20181029/conus/hrrr.t01z.wrfsfcf01.grib2\n"
     ]
    },
    {
     "name": "stderr",
     "output_type": "stream",
     "text": [
      " 73%|███████▎  | 1196/1631 [15:24:09<3:07:25, 25.85s/it]"
     ]
    },
    {
     "name": "stdout",
     "output_type": "stream",
     "text": [
      "https://noaa-hrrr-bdp-pds.s3.amazonaws.com/hrrr.20190811/conus/hrrr.t01z.wrfsfcf01.grib2\n"
     ]
    },
    {
     "name": "stderr",
     "output_type": "stream",
     "text": [
      " 73%|███████▎  | 1197/1631 [15:24:44<3:27:07, 28.63s/it]"
     ]
    },
    {
     "name": "stdout",
     "output_type": "stream",
     "text": [
      "https://noaa-hrrr-bdp-pds.s3.amazonaws.com/hrrr.20180830/conus/hrrr.t01z.wrfsfcf01.grib2\n"
     ]
    },
    {
     "name": "stderr",
     "output_type": "stream",
     "text": [
      " 73%|███████▎  | 1198/1631 [15:25:12<3:24:59, 28.41s/it]"
     ]
    },
    {
     "name": "stdout",
     "output_type": "stream",
     "text": [
      "https://noaa-hrrr-bdp-pds.s3.amazonaws.com/hrrr.20160811/conus/hrrr.t01z.wrfsfcf01.grib2\n"
     ]
    },
    {
     "name": "stderr",
     "output_type": "stream",
     "text": [
      " 74%|███████▎  | 1199/1631 [15:25:41<3:25:40, 28.57s/it]"
     ]
    },
    {
     "name": "stdout",
     "output_type": "stream",
     "text": [
      "https://noaa-hrrr-bdp-pds.s3.amazonaws.com/hrrr.20190803/conus/hrrr.t01z.wrfsfcf01.grib2\n"
     ]
    },
    {
     "name": "stderr",
     "output_type": "stream",
     "text": [
      " 74%|███████▎  | 1200/1631 [15:26:09<3:23:36, 28.35s/it]"
     ]
    },
    {
     "name": "stdout",
     "output_type": "stream",
     "text": [
      "https://noaa-hrrr-bdp-pds.s3.amazonaws.com/hrrr.20160829/conus/hrrr.t01z.wrfsfcf01.grib2\n"
     ]
    },
    {
     "name": "stderr",
     "output_type": "stream",
     "text": [
      " 74%|███████▎  | 1201/1631 [15:26:54<4:00:21, 33.54s/it]"
     ]
    },
    {
     "name": "stdout",
     "output_type": "stream",
     "text": [
      "https://noaa-hrrr-bdp-pds.s3.amazonaws.com/hrrr.20211007/conus/hrrr.t01z.wrfsfcf01.grib2\n"
     ]
    },
    {
     "name": "stderr",
     "output_type": "stream",
     "text": [
      " 74%|███████▎  | 1202/1631 [15:27:26<3:54:58, 32.86s/it]"
     ]
    },
    {
     "name": "stdout",
     "output_type": "stream",
     "text": [
      "https://noaa-hrrr-bdp-pds.s3.amazonaws.com/hrrr.20170806/conus/hrrr.t01z.wrfsfcf01.grib2\n"
     ]
    },
    {
     "name": "stderr",
     "output_type": "stream",
     "text": [
      " 74%|███████▍  | 1203/1631 [15:27:56<3:49:39, 32.20s/it]"
     ]
    },
    {
     "name": "stdout",
     "output_type": "stream",
     "text": [
      "https://noaa-hrrr-bdp-pds.s3.amazonaws.com/hrrr.20130809/conus/hrrr.t01z.wrfsfcf01.grib2\n"
     ]
    },
    {
     "name": "stderr",
     "output_type": "stream",
     "text": [
      " 74%|███████▍  | 1204/1631 [15:27:57<2:42:23, 22.82s/it]"
     ]
    },
    {
     "name": "stdout",
     "output_type": "stream",
     "text": [
      "https://noaa-hrrr-bdp-pds.s3.amazonaws.com/hrrr.20190207/conus/hrrr.t01z.wrfsfcf01.grib2\n"
     ]
    },
    {
     "name": "stderr",
     "output_type": "stream",
     "text": [
      " 74%|███████▍  | 1205/1631 [15:28:34<3:11:59, 27.04s/it]"
     ]
    },
    {
     "name": "stdout",
     "output_type": "stream",
     "text": [
      "https://noaa-hrrr-bdp-pds.s3.amazonaws.com/hrrr.20161024/conus/hrrr.t01z.wrfsfcf01.grib2\n"
     ]
    },
    {
     "name": "stderr",
     "output_type": "stream",
     "text": [
      " 74%|███████▍  | 1206/1631 [15:29:07<3:23:30, 28.73s/it]"
     ]
    },
    {
     "name": "stdout",
     "output_type": "stream",
     "text": [
      "https://noaa-hrrr-bdp-pds.s3.amazonaws.com/hrrr.20210107/conus/hrrr.t01z.wrfsfcf01.grib2\n"
     ]
    },
    {
     "name": "stderr",
     "output_type": "stream",
     "text": [
      " 74%|███████▍  | 1207/1631 [15:29:35<3:21:40, 28.54s/it]"
     ]
    },
    {
     "name": "stdout",
     "output_type": "stream",
     "text": [
      "https://noaa-hrrr-bdp-pds.s3.amazonaws.com/hrrr.20190610/conus/hrrr.t01z.wrfsfcf01.grib2\n"
     ]
    },
    {
     "name": "stderr",
     "output_type": "stream",
     "text": [
      " 74%|███████▍  | 1208/1631 [15:30:09<3:33:49, 30.33s/it]"
     ]
    },
    {
     "name": "stdout",
     "output_type": "stream",
     "text": [
      "https://noaa-hrrr-bdp-pds.s3.amazonaws.com/hrrr.20200520/conus/hrrr.t01z.wrfsfcf01.grib2\n"
     ]
    },
    {
     "name": "stderr",
     "output_type": "stream",
     "text": [
      " 74%|███████▍  | 1209/1631 [15:30:42<3:37:11, 30.88s/it]"
     ]
    },
    {
     "name": "stdout",
     "output_type": "stream",
     "text": [
      "https://noaa-hrrr-bdp-pds.s3.amazonaws.com/hrrr.20140729/conus/hrrr.t01z.wrfsfcf01.grib2\n"
     ]
    },
    {
     "name": "stderr",
     "output_type": "stream",
     "text": [
      " 74%|███████▍  | 1210/1631 [15:30:43<2:33:41, 21.90s/it]"
     ]
    },
    {
     "name": "stdout",
     "output_type": "stream",
     "text": [
      "https://noaa-hrrr-bdp-pds.s3.amazonaws.com/hrrr.20210603/conus/hrrr.t01z.wrfsfcf01.grib2\n"
     ]
    },
    {
     "name": "stderr",
     "output_type": "stream",
     "text": [
      " 74%|███████▍  | 1211/1631 [15:31:12<2:49:18, 24.19s/it]"
     ]
    },
    {
     "name": "stdout",
     "output_type": "stream",
     "text": [
      "https://noaa-hrrr-bdp-pds.s3.amazonaws.com/hrrr.20140618/conus/hrrr.t01z.wrfsfcf01.grib2\n"
     ]
    },
    {
     "name": "stderr",
     "output_type": "stream",
     "text": [
      " 74%|███████▍  | 1212/1631 [15:31:13<2:00:16, 17.22s/it]"
     ]
    },
    {
     "name": "stdout",
     "output_type": "stream",
     "text": [
      "https://noaa-hrrr-bdp-pds.s3.amazonaws.com/hrrr.20160512/conus/hrrr.t01z.wrfsfcf01.grib2\n"
     ]
    },
    {
     "name": "stderr",
     "output_type": "stream",
     "text": [
      " 74%|███████▍  | 1213/1631 [15:31:41<2:21:52, 20.37s/it]"
     ]
    },
    {
     "name": "stdout",
     "output_type": "stream",
     "text": [
      "https://noaa-hrrr-bdp-pds.s3.amazonaws.com/hrrr.20160428/conus/hrrr.t01z.wrfsfcf01.grib2\n"
     ]
    },
    {
     "name": "stderr",
     "output_type": "stream",
     "text": [
      " 74%|███████▍  | 1214/1631 [15:32:13<2:46:38, 23.98s/it]"
     ]
    },
    {
     "name": "stdout",
     "output_type": "stream",
     "text": [
      "https://noaa-hrrr-bdp-pds.s3.amazonaws.com/hrrr.20171106/conus/hrrr.t01z.wrfsfcf01.grib2\n"
     ]
    },
    {
     "name": "stderr",
     "output_type": "stream",
     "text": [
      " 74%|███████▍  | 1215/1631 [15:32:36<2:43:49, 23.63s/it]"
     ]
    },
    {
     "name": "stdout",
     "output_type": "stream",
     "text": [
      "https://noaa-hrrr-bdp-pds.s3.amazonaws.com/hrrr.20170716/conus/hrrr.t01z.wrfsfcf01.grib2\n"
     ]
    },
    {
     "name": "stderr",
     "output_type": "stream",
     "text": [
      " 75%|███████▍  | 1216/1631 [15:33:01<2:46:14, 24.03s/it]"
     ]
    },
    {
     "name": "stdout",
     "output_type": "stream",
     "text": [
      "https://noaa-hrrr-bdp-pds.s3.amazonaws.com/hrrr.20140204/conus/hrrr.t01z.wrfsfcf01.grib2\n"
     ]
    },
    {
     "name": "stderr",
     "output_type": "stream",
     "text": [
      " 75%|███████▍  | 1217/1631 [15:33:02<1:58:04, 17.11s/it]"
     ]
    },
    {
     "name": "stdout",
     "output_type": "stream",
     "text": [
      "https://noaa-hrrr-bdp-pds.s3.amazonaws.com/hrrr.20191212/conus/hrrr.t01z.wrfsfcf01.grib2\n"
     ]
    },
    {
     "name": "stderr",
     "output_type": "stream",
     "text": [
      " 75%|███████▍  | 1218/1631 [15:33:28<2:17:06, 19.92s/it]"
     ]
    },
    {
     "name": "stdout",
     "output_type": "stream",
     "text": [
      "https://noaa-hrrr-bdp-pds.s3.amazonaws.com/hrrr.20170330/conus/hrrr.t01z.wrfsfcf01.grib2\n"
     ]
    },
    {
     "name": "stderr",
     "output_type": "stream",
     "text": [
      " 75%|███████▍  | 1219/1631 [15:34:14<3:10:17, 27.71s/it]"
     ]
    },
    {
     "name": "stdout",
     "output_type": "stream",
     "text": [
      "https://noaa-hrrr-bdp-pds.s3.amazonaws.com/hrrr.20150527/conus/hrrr.t01z.wrfsfcf01.grib2\n"
     ]
    },
    {
     "name": "stderr",
     "output_type": "stream",
     "text": [
      " 75%|███████▍  | 1220/1631 [15:34:34<2:53:22, 25.31s/it]"
     ]
    },
    {
     "name": "stdout",
     "output_type": "stream",
     "text": [
      "https://noaa-hrrr-bdp-pds.s3.amazonaws.com/hrrr.20210121/conus/hrrr.t01z.wrfsfcf01.grib2\n"
     ]
    },
    {
     "name": "stderr",
     "output_type": "stream",
     "text": [
      " 75%|███████▍  | 1221/1631 [15:35:04<3:03:05, 26.79s/it]"
     ]
    },
    {
     "name": "stdout",
     "output_type": "stream",
     "text": [
      "https://noaa-hrrr-bdp-pds.s3.amazonaws.com/hrrr.20160726/conus/hrrr.t01z.wrfsfcf01.grib2\n"
     ]
    },
    {
     "name": "stderr",
     "output_type": "stream",
     "text": [
      " 75%|███████▍  | 1222/1631 [15:35:31<3:02:16, 26.74s/it]"
     ]
    },
    {
     "name": "stdout",
     "output_type": "stream",
     "text": [
      "https://noaa-hrrr-bdp-pds.s3.amazonaws.com/hrrr.20181022/conus/hrrr.t01z.wrfsfcf01.grib2\n"
     ]
    },
    {
     "name": "stderr",
     "output_type": "stream",
     "text": [
      " 75%|███████▍  | 1223/1631 [15:36:05<3:17:49, 29.09s/it]"
     ]
    },
    {
     "name": "stdout",
     "output_type": "stream",
     "text": [
      "https://noaa-hrrr-bdp-pds.s3.amazonaws.com/hrrr.20200810/conus/hrrr.t01z.wrfsfcf01.grib2\n"
     ]
    },
    {
     "name": "stderr",
     "output_type": "stream",
     "text": [
      " 75%|███████▌  | 1224/1631 [15:36:56<4:00:27, 35.45s/it]"
     ]
    },
    {
     "name": "stdout",
     "output_type": "stream",
     "text": [
      "https://noaa-hrrr-bdp-pds.s3.amazonaws.com/hrrr.20140609/conus/hrrr.t01z.wrfsfcf01.grib2\n"
     ]
    },
    {
     "name": "stderr",
     "output_type": "stream",
     "text": [
      " 75%|███████▌  | 1225/1631 [15:36:57<2:49:50, 25.10s/it]"
     ]
    },
    {
     "name": "stdout",
     "output_type": "stream",
     "text": [
      "https://noaa-hrrr-bdp-pds.s3.amazonaws.com/hrrr.20150804/conus/hrrr.t01z.wrfsfcf01.grib2\n"
     ]
    },
    {
     "name": "stderr",
     "output_type": "stream",
     "text": [
      " 75%|███████▌  | 1226/1631 [15:37:21<2:47:33, 24.82s/it]"
     ]
    },
    {
     "name": "stdout",
     "output_type": "stream",
     "text": [
      "https://noaa-hrrr-bdp-pds.s3.amazonaws.com/hrrr.20190313/conus/hrrr.t01z.wrfsfcf01.grib2\n"
     ]
    },
    {
     "name": "stderr",
     "output_type": "stream",
     "text": [
      " 75%|███████▌  | 1227/1631 [15:37:47<2:49:41, 25.20s/it]"
     ]
    },
    {
     "name": "stdout",
     "output_type": "stream",
     "text": [
      "https://noaa-hrrr-bdp-pds.s3.amazonaws.com/hrrr.20171024/conus/hrrr.t01z.wrfsfcf01.grib2\n"
     ]
    },
    {
     "name": "stderr",
     "output_type": "stream",
     "text": [
      " 75%|███████▌  | 1228/1631 [15:38:14<2:53:58, 25.90s/it]"
     ]
    },
    {
     "name": "stdout",
     "output_type": "stream",
     "text": [
      "https://noaa-hrrr-bdp-pds.s3.amazonaws.com/hrrr.20140924/conus/hrrr.t01z.wrfsfcf01.grib2\n"
     ]
    },
    {
     "name": "stderr",
     "output_type": "stream",
     "text": [
      " 75%|███████▌  | 1229/1631 [15:38:15<2:03:21, 18.41s/it]"
     ]
    },
    {
     "name": "stdout",
     "output_type": "stream",
     "text": [
      "https://noaa-hrrr-bdp-pds.s3.amazonaws.com/hrrr.20200630/conus/hrrr.t01z.wrfsfcf01.grib2\n"
     ]
    },
    {
     "name": "stderr",
     "output_type": "stream",
     "text": [
      " 75%|███████▌  | 1230/1631 [15:38:48<2:30:57, 22.59s/it]"
     ]
    },
    {
     "name": "stdout",
     "output_type": "stream",
     "text": [
      "https://noaa-hrrr-bdp-pds.s3.amazonaws.com/hrrr.20140426/conus/hrrr.t01z.wrfsfcf01.grib2\n"
     ]
    },
    {
     "name": "stderr",
     "output_type": "stream",
     "text": [
      " 75%|███████▌  | 1231/1631 [15:38:49<1:47:25, 16.11s/it]"
     ]
    },
    {
     "name": "stdout",
     "output_type": "stream",
     "text": [
      "https://noaa-hrrr-bdp-pds.s3.amazonaws.com/hrrr.20180416/conus/hrrr.t01z.wrfsfcf01.grib2\n"
     ]
    },
    {
     "name": "stderr",
     "output_type": "stream",
     "text": [
      " 76%|███████▌  | 1232/1631 [15:39:24<2:25:59, 21.95s/it]"
     ]
    },
    {
     "name": "stdout",
     "output_type": "stream",
     "text": [
      "https://noaa-hrrr-bdp-pds.s3.amazonaws.com/hrrr.20180419/conus/hrrr.t01z.wrfsfcf01.grib2\n"
     ]
    },
    {
     "name": "stderr",
     "output_type": "stream",
     "text": [
      " 76%|███████▌  | 1233/1631 [15:39:48<2:29:06, 22.48s/it]"
     ]
    },
    {
     "name": "stdout",
     "output_type": "stream",
     "text": [
      "https://noaa-hrrr-bdp-pds.s3.amazonaws.com/hrrr.20150223/conus/hrrr.t01z.wrfsfcf01.grib2\n"
     ]
    },
    {
     "name": "stderr",
     "output_type": "stream",
     "text": [
      " 76%|███████▌  | 1234/1631 [15:40:17<2:41:24, 24.39s/it]"
     ]
    },
    {
     "name": "stdout",
     "output_type": "stream",
     "text": [
      "https://noaa-hrrr-bdp-pds.s3.amazonaws.com/hrrr.20180726/conus/hrrr.t01z.wrfsfcf01.grib2\n"
     ]
    },
    {
     "name": "stderr",
     "output_type": "stream",
     "text": [
      " 76%|███████▌  | 1235/1631 [15:41:01<3:20:48, 30.42s/it]"
     ]
    },
    {
     "name": "stdout",
     "output_type": "stream",
     "text": [
      "https://noaa-hrrr-bdp-pds.s3.amazonaws.com/hrrr.20130319/conus/hrrr.t01z.wrfsfcf01.grib2\n"
     ]
    },
    {
     "name": "stderr",
     "output_type": "stream",
     "text": [
      " 76%|███████▌  | 1236/1631 [15:41:02<2:22:08, 21.59s/it]"
     ]
    },
    {
     "name": "stdout",
     "output_type": "stream",
     "text": [
      "https://noaa-hrrr-bdp-pds.s3.amazonaws.com/hrrr.20200925/conus/hrrr.t01z.wrfsfcf01.grib2\n"
     ]
    },
    {
     "name": "stderr",
     "output_type": "stream",
     "text": [
      " 76%|███████▌  | 1237/1631 [15:41:25<2:24:19, 21.98s/it]"
     ]
    },
    {
     "name": "stdout",
     "output_type": "stream",
     "text": [
      "https://noaa-hrrr-bdp-pds.s3.amazonaws.com/hrrr.20210701/conus/hrrr.t01z.wrfsfcf01.grib2\n"
     ]
    },
    {
     "name": "stderr",
     "output_type": "stream",
     "text": [
      " 76%|███████▌  | 1238/1631 [15:42:03<2:55:14, 26.76s/it]"
     ]
    },
    {
     "name": "stdout",
     "output_type": "stream",
     "text": [
      "https://noaa-hrrr-bdp-pds.s3.amazonaws.com/hrrr.20170510/conus/hrrr.t01z.wrfsfcf01.grib2\n"
     ]
    },
    {
     "name": "stderr",
     "output_type": "stream",
     "text": [
      " 76%|███████▌  | 1239/1631 [15:42:28<2:50:22, 26.08s/it]"
     ]
    },
    {
     "name": "stdout",
     "output_type": "stream",
     "text": [
      "https://noaa-hrrr-bdp-pds.s3.amazonaws.com/hrrr.20200305/conus/hrrr.t01z.wrfsfcf01.grib2\n"
     ]
    },
    {
     "name": "stderr",
     "output_type": "stream",
     "text": [
      " 76%|███████▌  | 1240/1631 [15:42:51<2:45:23, 25.38s/it]"
     ]
    },
    {
     "name": "stdout",
     "output_type": "stream",
     "text": [
      "https://noaa-hrrr-bdp-pds.s3.amazonaws.com/hrrr.20140224/conus/hrrr.t01z.wrfsfcf01.grib2\n"
     ]
    },
    {
     "name": "stderr",
     "output_type": "stream",
     "text": [
      " 76%|███████▌  | 1241/1631 [15:42:52<1:57:21, 18.06s/it]"
     ]
    },
    {
     "name": "stdout",
     "output_type": "stream",
     "text": [
      "https://noaa-hrrr-bdp-pds.s3.amazonaws.com/hrrr.20170623/conus/hrrr.t01z.wrfsfcf01.grib2\n"
     ]
    },
    {
     "name": "stderr",
     "output_type": "stream",
     "text": [
      " 76%|███████▌  | 1242/1631 [15:43:18<2:11:50, 20.33s/it]"
     ]
    },
    {
     "name": "stdout",
     "output_type": "stream",
     "text": [
      "https://noaa-hrrr-bdp-pds.s3.amazonaws.com/hrrr.20130708/conus/hrrr.t01z.wrfsfcf01.grib2\n"
     ]
    },
    {
     "name": "stderr",
     "output_type": "stream",
     "text": [
      " 76%|███████▌  | 1243/1631 [15:43:19<1:33:53, 14.52s/it]"
     ]
    },
    {
     "name": "stdout",
     "output_type": "stream",
     "text": [
      "https://noaa-hrrr-bdp-pds.s3.amazonaws.com/hrrr.20190629/conus/hrrr.t01z.wrfsfcf01.grib2\n"
     ]
    },
    {
     "name": "stderr",
     "output_type": "stream",
     "text": [
      " 76%|███████▋  | 1244/1631 [15:44:04<2:32:09, 23.59s/it]"
     ]
    },
    {
     "name": "stdout",
     "output_type": "stream",
     "text": [
      "https://noaa-hrrr-bdp-pds.s3.amazonaws.com/hrrr.20170306/conus/hrrr.t01z.wrfsfcf01.grib2\n"
     ]
    },
    {
     "name": "stderr",
     "output_type": "stream",
     "text": [
      " 76%|███████▋  | 1245/1631 [15:44:31<2:39:10, 24.74s/it]"
     ]
    },
    {
     "name": "stdout",
     "output_type": "stream",
     "text": [
      "https://noaa-hrrr-bdp-pds.s3.amazonaws.com/hrrr.20170424/conus/hrrr.t01z.wrfsfcf01.grib2\n"
     ]
    },
    {
     "name": "stderr",
     "output_type": "stream",
     "text": [
      " 76%|███████▋  | 1246/1631 [15:45:02<2:50:22, 26.55s/it]"
     ]
    },
    {
     "name": "stdout",
     "output_type": "stream",
     "text": [
      "https://noaa-hrrr-bdp-pds.s3.amazonaws.com/hrrr.20210512/conus/hrrr.t01z.wrfsfcf01.grib2\n"
     ]
    },
    {
     "name": "stderr",
     "output_type": "stream",
     "text": [
      " 76%|███████▋  | 1247/1631 [15:45:32<2:57:38, 27.76s/it]"
     ]
    },
    {
     "name": "stdout",
     "output_type": "stream",
     "text": [
      "https://noaa-hrrr-bdp-pds.s3.amazonaws.com/hrrr.20210406/conus/hrrr.t01z.wrfsfcf01.grib2\n"
     ]
    },
    {
     "name": "stderr",
     "output_type": "stream",
     "text": [
      " 77%|███████▋  | 1248/1631 [15:46:01<2:59:15, 28.08s/it]"
     ]
    },
    {
     "name": "stdout",
     "output_type": "stream",
     "text": [
      "https://noaa-hrrr-bdp-pds.s3.amazonaws.com/hrrr.20130126/conus/hrrr.t01z.wrfsfcf01.grib2\n"
     ]
    },
    {
     "name": "stderr",
     "output_type": "stream",
     "text": [
      " 77%|███████▋  | 1249/1631 [15:46:02<2:06:57, 19.94s/it]"
     ]
    },
    {
     "name": "stdout",
     "output_type": "stream",
     "text": [
      "https://noaa-hrrr-bdp-pds.s3.amazonaws.com/hrrr.20161116/conus/hrrr.t01z.wrfsfcf01.grib2\n"
     ]
    },
    {
     "name": "stderr",
     "output_type": "stream",
     "text": [
      " 77%|███████▋  | 1250/1631 [15:46:29<2:18:47, 21.86s/it]"
     ]
    },
    {
     "name": "stdout",
     "output_type": "stream",
     "text": [
      "https://noaa-hrrr-bdp-pds.s3.amazonaws.com/hrrr.20201027/conus/hrrr.t01z.wrfsfcf01.grib2\n"
     ]
    },
    {
     "name": "stderr",
     "output_type": "stream",
     "text": [
      " 77%|███████▋  | 1251/1631 [15:46:55<2:26:58, 23.21s/it]"
     ]
    },
    {
     "name": "stdout",
     "output_type": "stream",
     "text": [
      "https://noaa-hrrr-bdp-pds.s3.amazonaws.com/hrrr.20141021/conus/hrrr.t01z.wrfsfcf01.grib2\n"
     ]
    },
    {
     "name": "stderr",
     "output_type": "stream",
     "text": [
      " 77%|███████▋  | 1252/1631 [15:47:18<2:26:18, 23.16s/it]"
     ]
    },
    {
     "name": "stdout",
     "output_type": "stream",
     "text": [
      "https://noaa-hrrr-bdp-pds.s3.amazonaws.com/hrrr.20181024/conus/hrrr.t01z.wrfsfcf01.grib2\n"
     ]
    },
    {
     "name": "stderr",
     "output_type": "stream",
     "text": [
      " 77%|███████▋  | 1253/1631 [15:48:00<3:01:20, 28.78s/it]"
     ]
    },
    {
     "name": "stdout",
     "output_type": "stream",
     "text": [
      "https://noaa-hrrr-bdp-pds.s3.amazonaws.com/hrrr.20170406/conus/hrrr.t01z.wrfsfcf01.grib2\n"
     ]
    },
    {
     "name": "stderr",
     "output_type": "stream",
     "text": [
      " 77%|███████▋  | 1254/1631 [15:48:31<3:05:08, 29.47s/it]"
     ]
    },
    {
     "name": "stdout",
     "output_type": "stream",
     "text": [
      "https://noaa-hrrr-bdp-pds.s3.amazonaws.com/hrrr.20180502/conus/hrrr.t01z.wrfsfcf01.grib2\n"
     ]
    },
    {
     "name": "stderr",
     "output_type": "stream",
     "text": [
      " 77%|███████▋  | 1255/1631 [15:48:56<2:57:07, 28.26s/it]"
     ]
    },
    {
     "name": "stdout",
     "output_type": "stream",
     "text": [
      "https://noaa-hrrr-bdp-pds.s3.amazonaws.com/hrrr.20150808/conus/hrrr.t01z.wrfsfcf01.grib2\n"
     ]
    },
    {
     "name": "stderr",
     "output_type": "stream",
     "text": [
      " 77%|███████▋  | 1256/1631 [15:49:17<2:41:59, 25.92s/it]"
     ]
    },
    {
     "name": "stdout",
     "output_type": "stream",
     "text": [
      "https://noaa-hrrr-bdp-pds.s3.amazonaws.com/hrrr.20200319/conus/hrrr.t01z.wrfsfcf01.grib2\n"
     ]
    },
    {
     "name": "stderr",
     "output_type": "stream",
     "text": [
      " 77%|███████▋  | 1257/1631 [15:49:43<2:42:27, 26.06s/it]"
     ]
    },
    {
     "name": "stdout",
     "output_type": "stream",
     "text": [
      "https://noaa-hrrr-bdp-pds.s3.amazonaws.com/hrrr.20200828/conus/hrrr.t01z.wrfsfcf01.grib2\n"
     ]
    },
    {
     "name": "stderr",
     "output_type": "stream",
     "text": [
      " 77%|███████▋  | 1258/1631 [15:50:10<2:42:42, 26.17s/it]"
     ]
    },
    {
     "name": "stdout",
     "output_type": "stream",
     "text": [
      "https://noaa-hrrr-bdp-pds.s3.amazonaws.com/hrrr.20130422/conus/hrrr.t01z.wrfsfcf01.grib2\n"
     ]
    },
    {
     "name": "stderr",
     "output_type": "stream",
     "text": [
      " 77%|███████▋  | 1259/1631 [15:50:11<1:55:17, 18.60s/it]"
     ]
    },
    {
     "name": "stdout",
     "output_type": "stream",
     "text": [
      "https://noaa-hrrr-bdp-pds.s3.amazonaws.com/hrrr.20160321/conus/hrrr.t01z.wrfsfcf01.grib2\n"
     ]
    },
    {
     "name": "stderr",
     "output_type": "stream",
     "text": [
      " 77%|███████▋  | 1260/1631 [15:50:12<1:22:14, 13.30s/it]"
     ]
    },
    {
     "name": "stdout",
     "output_type": "stream",
     "text": [
      "https://noaa-hrrr-bdp-pds.s3.amazonaws.com/hrrr.20210412/conus/hrrr.t01z.wrfsfcf01.grib2\n"
     ]
    },
    {
     "name": "stderr",
     "output_type": "stream",
     "text": [
      " 77%|███████▋  | 1261/1631 [15:50:38<1:47:06, 17.37s/it]"
     ]
    },
    {
     "name": "stdout",
     "output_type": "stream",
     "text": [
      "https://noaa-hrrr-bdp-pds.s3.amazonaws.com/hrrr.20130810/conus/hrrr.t01z.wrfsfcf01.grib2\n"
     ]
    },
    {
     "name": "stderr",
     "output_type": "stream",
     "text": [
      " 77%|███████▋  | 1262/1631 [15:50:39<1:16:31, 12.44s/it]"
     ]
    },
    {
     "name": "stdout",
     "output_type": "stream",
     "text": [
      "https://noaa-hrrr-bdp-pds.s3.amazonaws.com/hrrr.20150617/conus/hrrr.t01z.wrfsfcf01.grib2\n"
     ]
    },
    {
     "name": "stderr",
     "output_type": "stream",
     "text": [
      " 77%|███████▋  | 1263/1631 [15:51:01<1:33:13, 15.20s/it]"
     ]
    },
    {
     "name": "stdout",
     "output_type": "stream",
     "text": [
      "https://noaa-hrrr-bdp-pds.s3.amazonaws.com/hrrr.20160903/conus/hrrr.t01z.wrfsfcf01.grib2\n"
     ]
    },
    {
     "name": "stderr",
     "output_type": "stream",
     "text": [
      " 77%|███████▋  | 1264/1631 [15:51:02<1:06:47, 10.92s/it]"
     ]
    },
    {
     "name": "stdout",
     "output_type": "stream",
     "text": [
      "https://noaa-hrrr-bdp-pds.s3.amazonaws.com/hrrr.20200918/conus/hrrr.t01z.wrfsfcf01.grib2\n"
     ]
    },
    {
     "name": "stderr",
     "output_type": "stream",
     "text": [
      " 78%|███████▊  | 1265/1631 [15:51:28<1:34:40, 15.52s/it]"
     ]
    },
    {
     "name": "stdout",
     "output_type": "stream",
     "text": [
      "https://noaa-hrrr-bdp-pds.s3.amazonaws.com/hrrr.20201026/conus/hrrr.t01z.wrfsfcf01.grib2\n"
     ]
    },
    {
     "name": "stderr",
     "output_type": "stream",
     "text": [
      " 78%|███████▊  | 1266/1631 [15:51:56<1:57:06, 19.25s/it]"
     ]
    },
    {
     "name": "stdout",
     "output_type": "stream",
     "text": [
      "https://noaa-hrrr-bdp-pds.s3.amazonaws.com/hrrr.20160813/conus/hrrr.t01z.wrfsfcf01.grib2\n"
     ]
    },
    {
     "name": "stderr",
     "output_type": "stream",
     "text": [
      " 78%|███████▊  | 1267/1631 [15:52:16<1:57:43, 19.41s/it]"
     ]
    },
    {
     "name": "stdout",
     "output_type": "stream",
     "text": [
      "https://noaa-hrrr-bdp-pds.s3.amazonaws.com/hrrr.20190731/conus/hrrr.t01z.wrfsfcf01.grib2\n"
     ]
    },
    {
     "name": "stderr",
     "output_type": "stream",
     "text": [
      " 78%|███████▊  | 1268/1631 [15:53:03<2:46:43, 27.56s/it]"
     ]
    },
    {
     "name": "stdout",
     "output_type": "stream",
     "text": [
      "https://noaa-hrrr-bdp-pds.s3.amazonaws.com/hrrr.20170522/conus/hrrr.t01z.wrfsfcf01.grib2\n"
     ]
    },
    {
     "name": "stderr",
     "output_type": "stream",
     "text": [
      " 78%|███████▊  | 1269/1631 [15:53:28<2:42:46, 26.98s/it]"
     ]
    },
    {
     "name": "stdout",
     "output_type": "stream",
     "text": [
      "https://noaa-hrrr-bdp-pds.s3.amazonaws.com/hrrr.20180829/conus/hrrr.t01z.wrfsfcf01.grib2\n"
     ]
    },
    {
     "name": "stderr",
     "output_type": "stream",
     "text": [
      " 78%|███████▊  | 1270/1631 [15:54:16<3:20:05, 33.26s/it]"
     ]
    },
    {
     "name": "stdout",
     "output_type": "stream",
     "text": [
      "https://noaa-hrrr-bdp-pds.s3.amazonaws.com/hrrr.20200210/conus/hrrr.t01z.wrfsfcf01.grib2\n"
     ]
    },
    {
     "name": "stderr",
     "output_type": "stream",
     "text": [
      " 78%|███████▊  | 1271/1631 [15:54:40<3:02:46, 30.46s/it]"
     ]
    },
    {
     "name": "stdout",
     "output_type": "stream",
     "text": [
      "https://noaa-hrrr-bdp-pds.s3.amazonaws.com/hrrr.20130520/conus/hrrr.t01z.wrfsfcf01.grib2\n"
     ]
    },
    {
     "name": "stderr",
     "output_type": "stream",
     "text": [
      " 78%|███████▊  | 1272/1631 [15:54:41<2:09:16, 21.61s/it]"
     ]
    },
    {
     "name": "stdout",
     "output_type": "stream",
     "text": [
      "https://noaa-hrrr-bdp-pds.s3.amazonaws.com/hrrr.20200505/conus/hrrr.t01z.wrfsfcf01.grib2\n"
     ]
    },
    {
     "name": "stderr",
     "output_type": "stream",
     "text": [
      " 78%|███████▊  | 1273/1631 [15:55:07<2:16:31, 22.88s/it]"
     ]
    },
    {
     "name": "stdout",
     "output_type": "stream",
     "text": [
      "https://noaa-hrrr-bdp-pds.s3.amazonaws.com/hrrr.20160219/conus/hrrr.t01z.wrfsfcf01.grib2\n"
     ]
    },
    {
     "name": "stderr",
     "output_type": "stream",
     "text": [
      " 78%|███████▊  | 1274/1631 [15:55:08<1:36:57, 16.30s/it]"
     ]
    },
    {
     "name": "stdout",
     "output_type": "stream",
     "text": [
      "https://noaa-hrrr-bdp-pds.s3.amazonaws.com/hrrr.20150301/conus/hrrr.t01z.wrfsfcf01.grib2\n"
     ]
    },
    {
     "name": "stderr",
     "output_type": "stream",
     "text": [
      " 78%|███████▊  | 1275/1631 [15:55:30<1:48:09, 18.23s/it]"
     ]
    },
    {
     "name": "stdout",
     "output_type": "stream",
     "text": [
      "https://noaa-hrrr-bdp-pds.s3.amazonaws.com/hrrr.20140213/conus/hrrr.t01z.wrfsfcf01.grib2\n"
     ]
    },
    {
     "name": "stderr",
     "output_type": "stream",
     "text": [
      " 78%|███████▊  | 1276/1631 [15:55:31<1:17:11, 13.05s/it]"
     ]
    },
    {
     "name": "stdout",
     "output_type": "stream",
     "text": [
      "https://noaa-hrrr-bdp-pds.s3.amazonaws.com/hrrr.20160426/conus/hrrr.t01z.wrfsfcf01.grib2\n"
     ]
    },
    {
     "name": "stderr",
     "output_type": "stream",
     "text": [
      " 78%|███████▊  | 1277/1631 [15:55:50<1:26:05, 14.59s/it]"
     ]
    },
    {
     "name": "stdout",
     "output_type": "stream",
     "text": [
      "https://noaa-hrrr-bdp-pds.s3.amazonaws.com/hrrr.20151009/conus/hrrr.t01z.wrfsfcf01.grib2\n"
     ]
    },
    {
     "name": "stderr",
     "output_type": "stream",
     "text": [
      " 78%|███████▊  | 1278/1631 [15:56:08<1:32:47, 15.77s/it]"
     ]
    },
    {
     "name": "stdout",
     "output_type": "stream",
     "text": [
      "https://noaa-hrrr-bdp-pds.s3.amazonaws.com/hrrr.20141001/conus/hrrr.t01z.wrfsfcf01.grib2\n"
     ]
    },
    {
     "name": "stderr",
     "output_type": "stream",
     "text": [
      " 78%|███████▊  | 1279/1631 [15:56:37<1:55:57, 19.77s/it]"
     ]
    },
    {
     "name": "stdout",
     "output_type": "stream",
     "text": [
      "https://noaa-hrrr-bdp-pds.s3.amazonaws.com/hrrr.20170131/conus/hrrr.t01z.wrfsfcf01.grib2\n"
     ]
    },
    {
     "name": "stderr",
     "output_type": "stream",
     "text": [
      " 78%|███████▊  | 1280/1631 [15:57:01<2:03:19, 21.08s/it]"
     ]
    },
    {
     "name": "stdout",
     "output_type": "stream",
     "text": [
      "https://noaa-hrrr-bdp-pds.s3.amazonaws.com/hrrr.20191209/conus/hrrr.t01z.wrfsfcf01.grib2\n"
     ]
    },
    {
     "name": "stderr",
     "output_type": "stream",
     "text": [
      " 79%|███████▊  | 1281/1631 [15:57:26<2:09:52, 22.26s/it]"
     ]
    },
    {
     "name": "stdout",
     "output_type": "stream",
     "text": [
      "https://noaa-hrrr-bdp-pds.s3.amazonaws.com/hrrr.20130513/conus/hrrr.t01z.wrfsfcf01.grib2\n"
     ]
    },
    {
     "name": "stderr",
     "output_type": "stream",
     "text": [
      " 79%|███████▊  | 1282/1631 [15:57:27<1:32:21, 15.88s/it]"
     ]
    },
    {
     "name": "stdout",
     "output_type": "stream",
     "text": [
      "https://noaa-hrrr-bdp-pds.s3.amazonaws.com/hrrr.20140207/conus/hrrr.t01z.wrfsfcf01.grib2\n"
     ]
    },
    {
     "name": "stderr",
     "output_type": "stream",
     "text": [
      " 79%|███████▊  | 1283/1631 [15:57:28<1:06:07, 11.40s/it]"
     ]
    },
    {
     "name": "stdout",
     "output_type": "stream",
     "text": [
      "https://noaa-hrrr-bdp-pds.s3.amazonaws.com/hrrr.20210120/conus/hrrr.t01z.wrfsfcf01.grib2\n"
     ]
    },
    {
     "name": "stderr",
     "output_type": "stream",
     "text": [
      " 79%|███████▊  | 1284/1631 [15:57:58<1:37:09, 16.80s/it]"
     ]
    },
    {
     "name": "stdout",
     "output_type": "stream",
     "text": [
      "https://noaa-hrrr-bdp-pds.s3.amazonaws.com/hrrr.20140810/conus/hrrr.t01z.wrfsfcf01.grib2\n"
     ]
    },
    {
     "name": "stderr",
     "output_type": "stream",
     "text": [
      " 79%|███████▉  | 1285/1631 [15:57:59<1:09:28, 12.05s/it]"
     ]
    },
    {
     "name": "stdout",
     "output_type": "stream",
     "text": [
      "https://noaa-hrrr-bdp-pds.s3.amazonaws.com/hrrr.20140603/conus/hrrr.t01z.wrfsfcf01.grib2\n"
     ]
    },
    {
     "name": "stderr",
     "output_type": "stream",
     "text": [
      " 79%|███████▉  | 1286/1631 [15:58:00<50:11,  8.73s/it]  "
     ]
    },
    {
     "name": "stdout",
     "output_type": "stream",
     "text": [
      "https://noaa-hrrr-bdp-pds.s3.amazonaws.com/hrrr.20130605/conus/hrrr.t01z.wrfsfcf01.grib2\n"
     ]
    },
    {
     "name": "stderr",
     "output_type": "stream",
     "text": [
      " 79%|███████▉  | 1287/1631 [15:58:01<36:38,  6.39s/it]"
     ]
    },
    {
     "name": "stdout",
     "output_type": "stream",
     "text": [
      "https://noaa-hrrr-bdp-pds.s3.amazonaws.com/hrrr.20170714/conus/hrrr.t01z.wrfsfcf01.grib2\n"
     ]
    },
    {
     "name": "stderr",
     "output_type": "stream",
     "text": [
      " 79%|███████▉  | 1288/1631 [15:58:38<1:29:09, 15.59s/it]"
     ]
    },
    {
     "name": "stdout",
     "output_type": "stream",
     "text": [
      "https://noaa-hrrr-bdp-pds.s3.amazonaws.com/hrrr.20180921/conus/hrrr.t01z.wrfsfcf01.grib2\n"
     ]
    },
    {
     "name": "stderr",
     "output_type": "stream",
     "text": [
      " 79%|███████▉  | 1289/1631 [15:59:02<1:43:47, 18.21s/it]"
     ]
    },
    {
     "name": "stdout",
     "output_type": "stream",
     "text": [
      "https://noaa-hrrr-bdp-pds.s3.amazonaws.com/hrrr.20211229/conus/hrrr.t01z.wrfsfcf01.grib2\n"
     ]
    },
    {
     "name": "stderr",
     "output_type": "stream",
     "text": [
      " 79%|███████▉  | 1290/1631 [15:59:49<2:32:23, 26.81s/it]"
     ]
    },
    {
     "name": "stdout",
     "output_type": "stream",
     "text": [
      "https://noaa-hrrr-bdp-pds.s3.amazonaws.com/hrrr.20150128/conus/hrrr.t01z.wrfsfcf01.grib2\n"
     ]
    },
    {
     "name": "stderr",
     "output_type": "stream",
     "text": [
      " 79%|███████▉  | 1291/1631 [16:00:17<2:34:35, 27.28s/it]"
     ]
    },
    {
     "name": "stdout",
     "output_type": "stream",
     "text": [
      "https://noaa-hrrr-bdp-pds.s3.amazonaws.com/hrrr.20190620/conus/hrrr.t01z.wrfsfcf01.grib2\n"
     ]
    },
    {
     "name": "stderr",
     "output_type": "stream",
     "text": [
      " 79%|███████▉  | 1292/1631 [16:00:47<2:38:52, 28.12s/it]"
     ]
    },
    {
     "name": "stdout",
     "output_type": "stream",
     "text": [
      "https://noaa-hrrr-bdp-pds.s3.amazonaws.com/hrrr.20160715/conus/hrrr.t01z.wrfsfcf01.grib2\n"
     ]
    },
    {
     "name": "stderr",
     "output_type": "stream",
     "text": [
      " 79%|███████▉  | 1293/1631 [16:01:06<2:22:40, 25.33s/it]"
     ]
    },
    {
     "name": "stdout",
     "output_type": "stream",
     "text": [
      "https://noaa-hrrr-bdp-pds.s3.amazonaws.com/hrrr.20181212/conus/hrrr.t01z.wrfsfcf01.grib2\n"
     ]
    },
    {
     "name": "stderr",
     "output_type": "stream",
     "text": [
      " 79%|███████▉  | 1294/1631 [16:01:30<2:19:42, 24.87s/it]"
     ]
    },
    {
     "name": "stdout",
     "output_type": "stream",
     "text": [
      "https://noaa-hrrr-bdp-pds.s3.amazonaws.com/hrrr.20210804/conus/hrrr.t01z.wrfsfcf01.grib2\n"
     ]
    },
    {
     "name": "stderr",
     "output_type": "stream",
     "text": [
      " 79%|███████▉  | 1295/1631 [16:02:13<2:49:45, 30.31s/it]"
     ]
    },
    {
     "name": "stdout",
     "output_type": "stream",
     "text": [
      "https://noaa-hrrr-bdp-pds.s3.amazonaws.com/hrrr.20140902/conus/hrrr.t01z.wrfsfcf01.grib2\n"
     ]
    },
    {
     "name": "stderr",
     "output_type": "stream",
     "text": [
      " 79%|███████▉  | 1296/1631 [16:02:39<2:41:41, 28.96s/it]"
     ]
    },
    {
     "name": "stdout",
     "output_type": "stream",
     "text": [
      "https://noaa-hrrr-bdp-pds.s3.amazonaws.com/hrrr.20180524/conus/hrrr.t01z.wrfsfcf01.grib2\n"
     ]
    },
    {
     "name": "stderr",
     "output_type": "stream",
     "text": [
      " 80%|███████▉  | 1297/1631 [16:03:05<2:36:09, 28.05s/it]"
     ]
    },
    {
     "name": "stdout",
     "output_type": "stream",
     "text": [
      "https://noaa-hrrr-bdp-pds.s3.amazonaws.com/hrrr.20180516/conus/hrrr.t01z.wrfsfcf01.grib2\n"
     ]
    },
    {
     "name": "stderr",
     "output_type": "stream",
     "text": [
      " 80%|███████▉  | 1298/1631 [16:03:45<2:56:04, 31.72s/it]"
     ]
    },
    {
     "name": "stdout",
     "output_type": "stream",
     "text": [
      "https://noaa-hrrr-bdp-pds.s3.amazonaws.com/hrrr.20130312/conus/hrrr.t01z.wrfsfcf01.grib2\n"
     ]
    },
    {
     "name": "stderr",
     "output_type": "stream",
     "text": [
      " 80%|███████▉  | 1299/1631 [16:03:46<2:04:27, 22.49s/it]"
     ]
    },
    {
     "name": "stdout",
     "output_type": "stream",
     "text": [
      "https://noaa-hrrr-bdp-pds.s3.amazonaws.com/hrrr.20140605/conus/hrrr.t01z.wrfsfcf01.grib2\n"
     ]
    },
    {
     "name": "stderr",
     "output_type": "stream",
     "text": [
      " 80%|███████▉  | 1300/1631 [16:03:47<1:28:26, 16.03s/it]"
     ]
    },
    {
     "name": "stdout",
     "output_type": "stream",
     "text": [
      "https://noaa-hrrr-bdp-pds.s3.amazonaws.com/hrrr.20211216/conus/hrrr.t01z.wrfsfcf01.grib2\n"
     ]
    },
    {
     "name": "stderr",
     "output_type": "stream",
     "text": [
      " 80%|███████▉  | 1301/1631 [16:04:32<2:16:58, 24.90s/it]"
     ]
    },
    {
     "name": "stdout",
     "output_type": "stream",
     "text": [
      "https://noaa-hrrr-bdp-pds.s3.amazonaws.com/hrrr.20160421/conus/hrrr.t01z.wrfsfcf01.grib2\n"
     ]
    },
    {
     "name": "stderr",
     "output_type": "stream",
     "text": [
      " 80%|███████▉  | 1302/1631 [16:04:52<2:08:11, 23.38s/it]"
     ]
    },
    {
     "name": "stdout",
     "output_type": "stream",
     "text": [
      "https://noaa-hrrr-bdp-pds.s3.amazonaws.com/hrrr.20180405/conus/hrrr.t01z.wrfsfcf01.grib2\n"
     ]
    },
    {
     "name": "stderr",
     "output_type": "stream",
     "text": [
      " 80%|███████▉  | 1303/1631 [16:05:17<2:09:11, 23.63s/it]"
     ]
    },
    {
     "name": "stdout",
     "output_type": "stream",
     "text": [
      "https://noaa-hrrr-bdp-pds.s3.amazonaws.com/hrrr.20190405/conus/hrrr.t01z.wrfsfcf01.grib2\n"
     ]
    },
    {
     "name": "stderr",
     "output_type": "stream",
     "text": [
      " 80%|███████▉  | 1304/1631 [16:05:44<2:14:21, 24.65s/it]"
     ]
    },
    {
     "name": "stdout",
     "output_type": "stream",
     "text": [
      "https://noaa-hrrr-bdp-pds.s3.amazonaws.com/hrrr.20151005/conus/hrrr.t01z.wrfsfcf01.grib2\n"
     ]
    },
    {
     "name": "stderr",
     "output_type": "stream",
     "text": [
      " 80%|████████  | 1305/1631 [16:06:05<2:09:13, 23.78s/it]"
     ]
    },
    {
     "name": "stdout",
     "output_type": "stream",
     "text": [
      "https://noaa-hrrr-bdp-pds.s3.amazonaws.com/hrrr.20170221/conus/hrrr.t01z.wrfsfcf01.grib2\n"
     ]
    },
    {
     "name": "stderr",
     "output_type": "stream",
     "text": [
      " 80%|████████  | 1306/1631 [16:06:29<2:07:58, 23.63s/it]"
     ]
    },
    {
     "name": "stdout",
     "output_type": "stream",
     "text": [
      "https://noaa-hrrr-bdp-pds.s3.amazonaws.com/hrrr.20190129/conus/hrrr.t01z.wrfsfcf01.grib2\n"
     ]
    },
    {
     "name": "stderr",
     "output_type": "stream",
     "text": [
      " 80%|████████  | 1307/1631 [16:06:52<2:06:53, 23.50s/it]"
     ]
    },
    {
     "name": "stdout",
     "output_type": "stream",
     "text": [
      "https://noaa-hrrr-bdp-pds.s3.amazonaws.com/hrrr.20191119/conus/hrrr.t01z.wrfsfcf01.grib2\n"
     ]
    },
    {
     "name": "stderr",
     "output_type": "stream",
     "text": [
      " 80%|████████  | 1308/1631 [16:07:21<2:16:31, 25.36s/it]"
     ]
    },
    {
     "name": "stdout",
     "output_type": "stream",
     "text": [
      "https://noaa-hrrr-bdp-pds.s3.amazonaws.com/hrrr.20190211/conus/hrrr.t01z.wrfsfcf01.grib2\n"
     ]
    },
    {
     "name": "stderr",
     "output_type": "stream",
     "text": [
      " 80%|████████  | 1309/1631 [16:07:48<2:17:39, 25.65s/it]"
     ]
    },
    {
     "name": "stdout",
     "output_type": "stream",
     "text": [
      "https://noaa-hrrr-bdp-pds.s3.amazonaws.com/hrrr.20160702/conus/hrrr.t01z.wrfsfcf01.grib2\n"
     ]
    },
    {
     "name": "stderr",
     "output_type": "stream",
     "text": [
      " 80%|████████  | 1310/1631 [16:08:07<2:06:08, 23.58s/it]"
     ]
    },
    {
     "name": "stdout",
     "output_type": "stream",
     "text": [
      "https://noaa-hrrr-bdp-pds.s3.amazonaws.com/hrrr.20160731/conus/hrrr.t01z.wrfsfcf01.grib2\n"
     ]
    },
    {
     "name": "stderr",
     "output_type": "stream",
     "text": [
      " 80%|████████  | 1311/1631 [16:08:24<1:56:29, 21.84s/it]"
     ]
    },
    {
     "name": "stdout",
     "output_type": "stream",
     "text": [
      "https://noaa-hrrr-bdp-pds.s3.amazonaws.com/hrrr.20191211/conus/hrrr.t01z.wrfsfcf01.grib2\n"
     ]
    },
    {
     "name": "stderr",
     "output_type": "stream",
     "text": [
      " 80%|████████  | 1312/1631 [16:08:50<2:02:16, 23.00s/it]"
     ]
    },
    {
     "name": "stdout",
     "output_type": "stream",
     "text": [
      "https://noaa-hrrr-bdp-pds.s3.amazonaws.com/hrrr.20190614/conus/hrrr.t01z.wrfsfcf01.grib2\n"
     ]
    },
    {
     "name": "stderr",
     "output_type": "stream",
     "text": [
      " 81%|████████  | 1313/1631 [16:09:16<2:06:08, 23.80s/it]"
     ]
    },
    {
     "name": "stdout",
     "output_type": "stream",
     "text": [
      "https://noaa-hrrr-bdp-pds.s3.amazonaws.com/hrrr.20201216/conus/hrrr.t01z.wrfsfcf01.grib2\n"
     ]
    },
    {
     "name": "stderr",
     "output_type": "stream",
     "text": [
      " 81%|████████  | 1314/1631 [16:09:43<2:11:04, 24.81s/it]"
     ]
    },
    {
     "name": "stdout",
     "output_type": "stream",
     "text": [
      "https://noaa-hrrr-bdp-pds.s3.amazonaws.com/hrrr.20130408/conus/hrrr.t01z.wrfsfcf01.grib2\n"
     ]
    },
    {
     "name": "stderr",
     "output_type": "stream",
     "text": [
      " 81%|████████  | 1315/1631 [16:09:44<1:33:12, 17.70s/it]"
     ]
    },
    {
     "name": "stdout",
     "output_type": "stream",
     "text": [
      "https://noaa-hrrr-bdp-pds.s3.amazonaws.com/hrrr.20190430/conus/hrrr.t01z.wrfsfcf01.grib2\n"
     ]
    },
    {
     "name": "stderr",
     "output_type": "stream",
     "text": [
      " 81%|████████  | 1316/1631 [16:10:17<1:56:21, 22.16s/it]"
     ]
    },
    {
     "name": "stdout",
     "output_type": "stream",
     "text": [
      "https://noaa-hrrr-bdp-pds.s3.amazonaws.com/hrrr.20140731/conus/hrrr.t01z.wrfsfcf01.grib2\n"
     ]
    },
    {
     "name": "stderr",
     "output_type": "stream",
     "text": [
      " 81%|████████  | 1317/1631 [16:10:17<1:22:37, 15.79s/it]"
     ]
    },
    {
     "name": "stdout",
     "output_type": "stream",
     "text": [
      "https://noaa-hrrr-bdp-pds.s3.amazonaws.com/hrrr.20191030/conus/hrrr.t01z.wrfsfcf01.grib2\n"
     ]
    },
    {
     "name": "stderr",
     "output_type": "stream",
     "text": [
      " 81%|████████  | 1318/1631 [16:10:45<1:40:02, 19.18s/it]"
     ]
    },
    {
     "name": "stdout",
     "output_type": "stream",
     "text": [
      "https://noaa-hrrr-bdp-pds.s3.amazonaws.com/hrrr.20160306/conus/hrrr.t01z.wrfsfcf01.grib2\n"
     ]
    },
    {
     "name": "stderr",
     "output_type": "stream",
     "text": [
      " 81%|████████  | 1319/1631 [16:11:02<1:36:58, 18.65s/it]"
     ]
    },
    {
     "name": "stdout",
     "output_type": "stream",
     "text": [
      "https://noaa-hrrr-bdp-pds.s3.amazonaws.com/hrrr.20141119/conus/hrrr.t01z.wrfsfcf01.grib2\n"
     ]
    },
    {
     "name": "stderr",
     "output_type": "stream",
     "text": [
      " 81%|████████  | 1320/1631 [16:11:21<1:37:28, 18.80s/it]"
     ]
    },
    {
     "name": "stdout",
     "output_type": "stream",
     "text": [
      "https://noaa-hrrr-bdp-pds.s3.amazonaws.com/hrrr.20170118/conus/hrrr.t01z.wrfsfcf01.grib2\n"
     ]
    },
    {
     "name": "stderr",
     "output_type": "stream",
     "text": [
      " 81%|████████  | 1321/1631 [16:11:55<2:00:31, 23.33s/it]"
     ]
    },
    {
     "name": "stdout",
     "output_type": "stream",
     "text": [
      "https://noaa-hrrr-bdp-pds.s3.amazonaws.com/hrrr.20180913/conus/hrrr.t01z.wrfsfcf01.grib2\n"
     ]
    },
    {
     "name": "stderr",
     "output_type": "stream",
     "text": [
      " 81%|████████  | 1322/1631 [16:12:25<2:10:26, 25.33s/it]"
     ]
    },
    {
     "name": "stdout",
     "output_type": "stream",
     "text": [
      "https://noaa-hrrr-bdp-pds.s3.amazonaws.com/hrrr.20140416/conus/hrrr.t01z.wrfsfcf01.grib2\n"
     ]
    },
    {
     "name": "stderr",
     "output_type": "stream",
     "text": [
      " 81%|████████  | 1323/1631 [16:12:26<1:32:28, 18.01s/it]"
     ]
    },
    {
     "name": "stdout",
     "output_type": "stream",
     "text": [
      "https://noaa-hrrr-bdp-pds.s3.amazonaws.com/hrrr.20150717/conus/hrrr.t01z.wrfsfcf01.grib2\n"
     ]
    },
    {
     "name": "stderr",
     "output_type": "stream",
     "text": [
      " 81%|████████  | 1324/1631 [16:12:44<1:32:26, 18.07s/it]"
     ]
    },
    {
     "name": "stdout",
     "output_type": "stream",
     "text": [
      "https://noaa-hrrr-bdp-pds.s3.amazonaws.com/hrrr.20171130/conus/hrrr.t01z.wrfsfcf01.grib2\n"
     ]
    },
    {
     "name": "stderr",
     "output_type": "stream",
     "text": [
      " 81%|████████  | 1325/1631 [16:13:09<1:42:38, 20.13s/it]"
     ]
    },
    {
     "name": "stdout",
     "output_type": "stream",
     "text": [
      "https://noaa-hrrr-bdp-pds.s3.amazonaws.com/hrrr.20150819/conus/hrrr.t01z.wrfsfcf01.grib2\n"
     ]
    },
    {
     "name": "stderr",
     "output_type": "stream",
     "text": [
      " 81%|████████▏ | 1326/1631 [16:13:34<1:49:01, 21.45s/it]"
     ]
    },
    {
     "name": "stdout",
     "output_type": "stream",
     "text": [
      "https://noaa-hrrr-bdp-pds.s3.amazonaws.com/hrrr.20140801/conus/hrrr.t01z.wrfsfcf01.grib2\n"
     ]
    },
    {
     "name": "stderr",
     "output_type": "stream",
     "text": [
      " 81%|████████▏ | 1327/1631 [16:13:53<1:46:12, 20.96s/it]"
     ]
    },
    {
     "name": "stdout",
     "output_type": "stream",
     "text": [
      "https://noaa-hrrr-bdp-pds.s3.amazonaws.com/hrrr.20210715/conus/hrrr.t01z.wrfsfcf01.grib2\n"
     ]
    },
    {
     "name": "stderr",
     "output_type": "stream",
     "text": [
      " 81%|████████▏ | 1328/1631 [16:14:23<1:58:30, 23.47s/it]"
     ]
    },
    {
     "name": "stdout",
     "output_type": "stream",
     "text": [
      "https://noaa-hrrr-bdp-pds.s3.amazonaws.com/hrrr.20151217/conus/hrrr.t01z.wrfsfcf01.grib2\n"
     ]
    },
    {
     "name": "stderr",
     "output_type": "stream",
     "text": [
      " 81%|████████▏ | 1329/1631 [16:14:40<1:49:08, 21.68s/it]"
     ]
    },
    {
     "name": "stdout",
     "output_type": "stream",
     "text": [
      "https://noaa-hrrr-bdp-pds.s3.amazonaws.com/hrrr.20171121/conus/hrrr.t01z.wrfsfcf01.grib2\n"
     ]
    },
    {
     "name": "stderr",
     "output_type": "stream",
     "text": [
      " 82%|████████▏ | 1330/1631 [16:15:05<1:53:04, 22.54s/it]"
     ]
    },
    {
     "name": "stdout",
     "output_type": "stream",
     "text": [
      "https://noaa-hrrr-bdp-pds.s3.amazonaws.com/hrrr.20180713/conus/hrrr.t01z.wrfsfcf01.grib2\n"
     ]
    },
    {
     "name": "stderr",
     "output_type": "stream",
     "text": [
      " 82%|████████▏ | 1331/1631 [16:15:32<1:59:45, 23.95s/it]"
     ]
    },
    {
     "name": "stdout",
     "output_type": "stream",
     "text": [
      "https://noaa-hrrr-bdp-pds.s3.amazonaws.com/hrrr.20180305/conus/hrrr.t01z.wrfsfcf01.grib2\n"
     ]
    },
    {
     "name": "stderr",
     "output_type": "stream",
     "text": [
      " 82%|████████▏ | 1332/1631 [16:16:00<2:05:38, 25.21s/it]"
     ]
    },
    {
     "name": "stdout",
     "output_type": "stream",
     "text": [
      "https://noaa-hrrr-bdp-pds.s3.amazonaws.com/hrrr.20140318/conus/hrrr.t01z.wrfsfcf01.grib2\n"
     ]
    },
    {
     "name": "stderr",
     "output_type": "stream",
     "text": [
      " 82%|████████▏ | 1333/1631 [16:16:01<1:29:03, 17.93s/it]"
     ]
    },
    {
     "name": "stdout",
     "output_type": "stream",
     "text": [
      "https://noaa-hrrr-bdp-pds.s3.amazonaws.com/hrrr.20170206/conus/hrrr.t01z.wrfsfcf01.grib2\n"
     ]
    },
    {
     "name": "stderr",
     "output_type": "stream",
     "text": [
      " 82%|████████▏ | 1334/1631 [16:16:24<1:35:48, 19.35s/it]"
     ]
    },
    {
     "name": "stdout",
     "output_type": "stream",
     "text": [
      "https://noaa-hrrr-bdp-pds.s3.amazonaws.com/hrrr.20190507/conus/hrrr.t01z.wrfsfcf01.grib2\n"
     ]
    },
    {
     "name": "stderr",
     "output_type": "stream",
     "text": [
      " 82%|████████▏ | 1335/1631 [16:16:59<1:59:26, 24.21s/it]"
     ]
    },
    {
     "name": "stdout",
     "output_type": "stream",
     "text": [
      "https://noaa-hrrr-bdp-pds.s3.amazonaws.com/hrrr.20150203/conus/hrrr.t01z.wrfsfcf01.grib2\n"
     ]
    },
    {
     "name": "stderr",
     "output_type": "stream",
     "text": [
      " 82%|████████▏ | 1336/1631 [16:17:17<1:49:25, 22.26s/it]"
     ]
    },
    {
     "name": "stdout",
     "output_type": "stream",
     "text": [
      "https://noaa-hrrr-bdp-pds.s3.amazonaws.com/hrrr.20181113/conus/hrrr.t01z.wrfsfcf01.grib2\n"
     ]
    },
    {
     "name": "stderr",
     "output_type": "stream",
     "text": [
      " 82%|████████▏ | 1337/1631 [16:17:46<1:58:49, 24.25s/it]"
     ]
    },
    {
     "name": "stdout",
     "output_type": "stream",
     "text": [
      "https://noaa-hrrr-bdp-pds.s3.amazonaws.com/hrrr.20181114/conus/hrrr.t01z.wrfsfcf01.grib2\n"
     ]
    },
    {
     "name": "stderr",
     "output_type": "stream",
     "text": [
      " 82%|████████▏ | 1338/1631 [16:18:10<1:58:29, 24.26s/it]"
     ]
    },
    {
     "name": "stdout",
     "output_type": "stream",
     "text": [
      "https://noaa-hrrr-bdp-pds.s3.amazonaws.com/hrrr.20190220/conus/hrrr.t01z.wrfsfcf01.grib2\n"
     ]
    },
    {
     "name": "stderr",
     "output_type": "stream",
     "text": [
      " 82%|████████▏ | 1339/1631 [16:18:42<2:09:03, 26.52s/it]"
     ]
    },
    {
     "name": "stdout",
     "output_type": "stream",
     "text": [
      "https://noaa-hrrr-bdp-pds.s3.amazonaws.com/hrrr.20200116/conus/hrrr.t01z.wrfsfcf01.grib2\n"
     ]
    },
    {
     "name": "stderr",
     "output_type": "stream",
     "text": [
      " 82%|████████▏ | 1340/1631 [16:19:10<2:10:32, 26.91s/it]"
     ]
    },
    {
     "name": "stdout",
     "output_type": "stream",
     "text": [
      "https://noaa-hrrr-bdp-pds.s3.amazonaws.com/hrrr.20181202/conus/hrrr.t01z.wrfsfcf01.grib2\n"
     ]
    },
    {
     "name": "stderr",
     "output_type": "stream",
     "text": [
      " 82%|████████▏ | 1341/1631 [16:19:45<2:22:16, 29.44s/it]"
     ]
    },
    {
     "name": "stdout",
     "output_type": "stream",
     "text": [
      "https://noaa-hrrr-bdp-pds.s3.amazonaws.com/hrrr.20180604/conus/hrrr.t01z.wrfsfcf01.grib2\n"
     ]
    },
    {
     "name": "stderr",
     "output_type": "stream",
     "text": [
      " 82%|████████▏ | 1342/1631 [16:20:18<2:27:13, 30.57s/it]"
     ]
    },
    {
     "name": "stdout",
     "output_type": "stream",
     "text": [
      "https://noaa-hrrr-bdp-pds.s3.amazonaws.com/hrrr.20190816/conus/hrrr.t01z.wrfsfcf01.grib2\n"
     ]
    },
    {
     "name": "stderr",
     "output_type": "stream",
     "text": [
      " 82%|████████▏ | 1343/1631 [16:21:02<2:44:44, 34.32s/it]"
     ]
    },
    {
     "name": "stdout",
     "output_type": "stream",
     "text": [
      "https://noaa-hrrr-bdp-pds.s3.amazonaws.com/hrrr.20130226/conus/hrrr.t01z.wrfsfcf01.grib2\n"
     ]
    },
    {
     "name": "stderr",
     "output_type": "stream",
     "text": [
      " 82%|████████▏ | 1344/1631 [16:21:02<1:56:16, 24.31s/it]"
     ]
    },
    {
     "name": "stdout",
     "output_type": "stream",
     "text": [
      "https://noaa-hrrr-bdp-pds.s3.amazonaws.com/hrrr.20131216/conus/hrrr.t01z.wrfsfcf01.grib2\n"
     ]
    },
    {
     "name": "stderr",
     "output_type": "stream",
     "text": [
      " 82%|████████▏ | 1345/1631 [16:21:03<1:22:26, 17.30s/it]"
     ]
    },
    {
     "name": "stdout",
     "output_type": "stream",
     "text": [
      "https://noaa-hrrr-bdp-pds.s3.amazonaws.com/hrrr.20161102/conus/hrrr.t01z.wrfsfcf01.grib2\n"
     ]
    },
    {
     "name": "stderr",
     "output_type": "stream",
     "text": [
      " 83%|████████▎ | 1346/1631 [16:21:27<1:31:50, 19.34s/it]"
     ]
    },
    {
     "name": "stdout",
     "output_type": "stream",
     "text": [
      "https://noaa-hrrr-bdp-pds.s3.amazonaws.com/hrrr.20151014/conus/hrrr.t01z.wrfsfcf01.grib2\n"
     ]
    },
    {
     "name": "stderr",
     "output_type": "stream",
     "text": [
      " 83%|████████▎ | 1347/1631 [16:21:48<1:33:48, 19.82s/it]"
     ]
    },
    {
     "name": "stdout",
     "output_type": "stream",
     "text": [
      "https://noaa-hrrr-bdp-pds.s3.amazonaws.com/hrrr.20140625/conus/hrrr.t01z.wrfsfcf01.grib2\n"
     ]
    },
    {
     "name": "stderr",
     "output_type": "stream",
     "text": [
      " 83%|████████▎ | 1348/1631 [16:21:49<1:06:45, 14.15s/it]"
     ]
    },
    {
     "name": "stdout",
     "output_type": "stream",
     "text": [
      "https://noaa-hrrr-bdp-pds.s3.amazonaws.com/hrrr.20150916/conus/hrrr.t01z.wrfsfcf01.grib2\n"
     ]
    },
    {
     "name": "stderr",
     "output_type": "stream",
     "text": [
      " 83%|████████▎ | 1349/1631 [16:22:13<1:20:16, 17.08s/it]"
     ]
    },
    {
     "name": "stdout",
     "output_type": "stream",
     "text": [
      "https://noaa-hrrr-bdp-pds.s3.amazonaws.com/hrrr.20150602/conus/hrrr.t01z.wrfsfcf01.grib2\n"
     ]
    },
    {
     "name": "stderr",
     "output_type": "stream",
     "text": [
      " 83%|████████▎ | 1350/1631 [16:22:34<1:25:33, 18.27s/it]"
     ]
    },
    {
     "name": "stdout",
     "output_type": "stream",
     "text": [
      "https://noaa-hrrr-bdp-pds.s3.amazonaws.com/hrrr.20190204/conus/hrrr.t01z.wrfsfcf01.grib2\n"
     ]
    },
    {
     "name": "stderr",
     "output_type": "stream",
     "text": [
      " 83%|████████▎ | 1351/1631 [16:22:59<1:34:24, 20.23s/it]"
     ]
    },
    {
     "name": "stdout",
     "output_type": "stream",
     "text": [
      "https://noaa-hrrr-bdp-pds.s3.amazonaws.com/hrrr.20161229/conus/hrrr.t01z.wrfsfcf01.grib2\n"
     ]
    },
    {
     "name": "stderr",
     "output_type": "stream",
     "text": [
      " 83%|████████▎ | 1352/1631 [16:23:23<1:39:25, 21.38s/it]"
     ]
    },
    {
     "name": "stdout",
     "output_type": "stream",
     "text": [
      "https://noaa-hrrr-bdp-pds.s3.amazonaws.com/hrrr.20190304/conus/hrrr.t01z.wrfsfcf01.grib2\n"
     ]
    },
    {
     "name": "stderr",
     "output_type": "stream",
     "text": [
      " 83%|████████▎ | 1353/1631 [16:23:49<1:45:24, 22.75s/it]"
     ]
    },
    {
     "name": "stdout",
     "output_type": "stream",
     "text": [
      "https://noaa-hrrr-bdp-pds.s3.amazonaws.com/hrrr.20130414/conus/hrrr.t01z.wrfsfcf01.grib2\n"
     ]
    },
    {
     "name": "stderr",
     "output_type": "stream",
     "text": [
      " 83%|████████▎ | 1354/1631 [16:23:50<1:14:49, 16.21s/it]"
     ]
    },
    {
     "name": "stdout",
     "output_type": "stream",
     "text": [
      "https://noaa-hrrr-bdp-pds.s3.amazonaws.com/hrrr.20210302/conus/hrrr.t01z.wrfsfcf01.grib2\n"
     ]
    },
    {
     "name": "stderr",
     "output_type": "stream",
     "text": [
      " 83%|████████▎ | 1355/1631 [16:24:17<1:29:29, 19.46s/it]"
     ]
    },
    {
     "name": "stdout",
     "output_type": "stream",
     "text": [
      "https://noaa-hrrr-bdp-pds.s3.amazonaws.com/hrrr.20140619/conus/hrrr.t01z.wrfsfcf01.grib2\n"
     ]
    },
    {
     "name": "stderr",
     "output_type": "stream",
     "text": [
      " 83%|████████▎ | 1356/1631 [16:24:18<1:03:46, 13.92s/it]"
     ]
    },
    {
     "name": "stdout",
     "output_type": "stream",
     "text": [
      "https://noaa-hrrr-bdp-pds.s3.amazonaws.com/hrrr.20170515/conus/hrrr.t01z.wrfsfcf01.grib2\n"
     ]
    },
    {
     "name": "stderr",
     "output_type": "stream",
     "text": [
      " 83%|████████▎ | 1357/1631 [16:24:54<1:33:48, 20.54s/it]"
     ]
    },
    {
     "name": "stdout",
     "output_type": "stream",
     "text": [
      "https://noaa-hrrr-bdp-pds.s3.amazonaws.com/hrrr.20130410/conus/hrrr.t01z.wrfsfcf01.grib2\n"
     ]
    },
    {
     "name": "stderr",
     "output_type": "stream",
     "text": [
      " 83%|████████▎ | 1358/1631 [16:24:55<1:06:42, 14.66s/it]"
     ]
    },
    {
     "name": "stdout",
     "output_type": "stream",
     "text": [
      "https://noaa-hrrr-bdp-pds.s3.amazonaws.com/hrrr.20131009/conus/hrrr.t01z.wrfsfcf01.grib2\n"
     ]
    },
    {
     "name": "stderr",
     "output_type": "stream",
     "text": [
      " 83%|████████▎ | 1359/1631 [16:24:56<47:47, 10.54s/it]  "
     ]
    },
    {
     "name": "stdout",
     "output_type": "stream",
     "text": [
      "https://noaa-hrrr-bdp-pds.s3.amazonaws.com/hrrr.20160410/conus/hrrr.t01z.wrfsfcf01.grib2\n"
     ]
    },
    {
     "name": "stderr",
     "output_type": "stream",
     "text": [
      " 83%|████████▎ | 1360/1631 [16:25:15<59:17, 13.13s/it]"
     ]
    },
    {
     "name": "stdout",
     "output_type": "stream",
     "text": [
      "https://noaa-hrrr-bdp-pds.s3.amazonaws.com/hrrr.20140106/conus/hrrr.t01z.wrfsfcf01.grib2\n"
     ]
    },
    {
     "name": "stderr",
     "output_type": "stream",
     "text": [
      " 83%|████████▎ | 1361/1631 [16:25:16<42:35,  9.46s/it]"
     ]
    },
    {
     "name": "stdout",
     "output_type": "stream",
     "text": [
      "https://noaa-hrrr-bdp-pds.s3.amazonaws.com/hrrr.20140507/conus/hrrr.t01z.wrfsfcf01.grib2\n"
     ]
    },
    {
     "name": "stderr",
     "output_type": "stream",
     "text": [
      " 84%|████████▎ | 1362/1631 [16:25:17<30:58,  6.91s/it]"
     ]
    },
    {
     "name": "stdout",
     "output_type": "stream",
     "text": [
      "https://noaa-hrrr-bdp-pds.s3.amazonaws.com/hrrr.20181017/conus/hrrr.t01z.wrfsfcf01.grib2\n"
     ]
    },
    {
     "name": "stderr",
     "output_type": "stream",
     "text": [
      " 84%|████████▎ | 1363/1631 [16:25:46<1:01:01, 13.66s/it]"
     ]
    },
    {
     "name": "stdout",
     "output_type": "stream",
     "text": [
      "https://noaa-hrrr-bdp-pds.s3.amazonaws.com/hrrr.20180511/conus/hrrr.t01z.wrfsfcf01.grib2\n"
     ]
    },
    {
     "name": "stderr",
     "output_type": "stream",
     "text": [
      " 84%|████████▎ | 1364/1631 [16:26:13<1:18:30, 17.64s/it]"
     ]
    },
    {
     "name": "stdout",
     "output_type": "stream",
     "text": [
      "https://noaa-hrrr-bdp-pds.s3.amazonaws.com/hrrr.20130805/conus/hrrr.t01z.wrfsfcf01.grib2\n"
     ]
    },
    {
     "name": "stderr",
     "output_type": "stream",
     "text": [
      " 84%|████████▎ | 1365/1631 [16:26:14<55:59, 12.63s/it]  "
     ]
    },
    {
     "name": "stdout",
     "output_type": "stream",
     "text": [
      "https://noaa-hrrr-bdp-pds.s3.amazonaws.com/hrrr.20130404/conus/hrrr.t01z.wrfsfcf01.grib2\n"
     ]
    },
    {
     "name": "stderr",
     "output_type": "stream",
     "text": [
      " 84%|████████▍ | 1366/1631 [16:26:15<40:17,  9.12s/it]"
     ]
    },
    {
     "name": "stdout",
     "output_type": "stream",
     "text": [
      "https://noaa-hrrr-bdp-pds.s3.amazonaws.com/hrrr.20131029/conus/hrrr.t01z.wrfsfcf01.grib2\n"
     ]
    },
    {
     "name": "stderr",
     "output_type": "stream",
     "text": [
      " 84%|████████▍ | 1367/1631 [16:26:16<29:20,  6.67s/it]"
     ]
    },
    {
     "name": "stdout",
     "output_type": "stream",
     "text": [
      "https://noaa-hrrr-bdp-pds.s3.amazonaws.com/hrrr.20160906/conus/hrrr.t01z.wrfsfcf01.grib2\n"
     ]
    },
    {
     "name": "stderr",
     "output_type": "stream",
     "text": [
      " 84%|████████▍ | 1368/1631 [16:26:56<1:12:15, 16.49s/it]"
     ]
    },
    {
     "name": "stdout",
     "output_type": "stream",
     "text": [
      "https://noaa-hrrr-bdp-pds.s3.amazonaws.com/hrrr.20130803/conus/hrrr.t01z.wrfsfcf01.grib2\n"
     ]
    },
    {
     "name": "stderr",
     "output_type": "stream",
     "text": [
      " 84%|████████▍ | 1369/1631 [16:26:57<51:38, 11.83s/it]  "
     ]
    },
    {
     "name": "stdout",
     "output_type": "stream",
     "text": [
      "https://noaa-hrrr-bdp-pds.s3.amazonaws.com/hrrr.20161214/conus/hrrr.t01z.wrfsfcf01.grib2\n"
     ]
    },
    {
     "name": "stderr",
     "output_type": "stream",
     "text": [
      " 84%|████████▍ | 1370/1631 [16:27:30<1:19:42, 18.32s/it]"
     ]
    },
    {
     "name": "stdout",
     "output_type": "stream",
     "text": [
      "https://noaa-hrrr-bdp-pds.s3.amazonaws.com/hrrr.20141105/conus/hrrr.t01z.wrfsfcf01.grib2\n"
     ]
    },
    {
     "name": "stderr",
     "output_type": "stream",
     "text": [
      " 84%|████████▍ | 1371/1631 [16:27:47<1:17:37, 17.91s/it]"
     ]
    },
    {
     "name": "stdout",
     "output_type": "stream",
     "text": [
      "https://noaa-hrrr-bdp-pds.s3.amazonaws.com/hrrr.20210202/conus/hrrr.t01z.wrfsfcf01.grib2\n"
     ]
    },
    {
     "name": "stderr",
     "output_type": "stream",
     "text": [
      " 84%|████████▍ | 1372/1631 [16:28:14<1:29:39, 20.77s/it]"
     ]
    },
    {
     "name": "stdout",
     "output_type": "stream",
     "text": [
      "https://noaa-hrrr-bdp-pds.s3.amazonaws.com/hrrr.20130305/conus/hrrr.t01z.wrfsfcf01.grib2\n"
     ]
    },
    {
     "name": "stderr",
     "output_type": "stream",
     "text": [
      " 84%|████████▍ | 1373/1631 [16:28:15<1:03:43, 14.82s/it]"
     ]
    },
    {
     "name": "stdout",
     "output_type": "stream",
     "text": [
      "https://noaa-hrrr-bdp-pds.s3.amazonaws.com/hrrr.20151013/conus/hrrr.t01z.wrfsfcf01.grib2\n"
     ]
    },
    {
     "name": "stderr",
     "output_type": "stream",
     "text": [
      " 84%|████████▍ | 1374/1631 [16:28:39<1:14:33, 17.41s/it]"
     ]
    },
    {
     "name": "stdout",
     "output_type": "stream",
     "text": [
      "https://noaa-hrrr-bdp-pds.s3.amazonaws.com/hrrr.20180928/conus/hrrr.t01z.wrfsfcf01.grib2\n"
     ]
    },
    {
     "name": "stderr",
     "output_type": "stream",
     "text": [
      " 84%|████████▍ | 1375/1631 [16:29:03<1:23:16, 19.52s/it]"
     ]
    },
    {
     "name": "stdout",
     "output_type": "stream",
     "text": [
      "https://noaa-hrrr-bdp-pds.s3.amazonaws.com/hrrr.20200806/conus/hrrr.t01z.wrfsfcf01.grib2\n"
     ]
    },
    {
     "name": "stderr",
     "output_type": "stream",
     "text": [
      " 84%|████████▍ | 1376/1631 [16:29:33<1:35:37, 22.50s/it]"
     ]
    },
    {
     "name": "stdout",
     "output_type": "stream",
     "text": [
      "https://noaa-hrrr-bdp-pds.s3.amazonaws.com/hrrr.20171114/conus/hrrr.t01z.wrfsfcf01.grib2\n"
     ]
    },
    {
     "name": "stderr",
     "output_type": "stream",
     "text": [
      " 84%|████████▍ | 1377/1631 [16:29:58<1:38:36, 23.29s/it]"
     ]
    },
    {
     "name": "stdout",
     "output_type": "stream",
     "text": [
      "https://noaa-hrrr-bdp-pds.s3.amazonaws.com/hrrr.20131121/conus/hrrr.t01z.wrfsfcf01.grib2\n"
     ]
    },
    {
     "name": "stderr",
     "output_type": "stream",
     "text": [
      " 84%|████████▍ | 1378/1631 [16:29:59<1:09:57, 16.59s/it]"
     ]
    },
    {
     "name": "stdout",
     "output_type": "stream",
     "text": [
      "https://noaa-hrrr-bdp-pds.s3.amazonaws.com/hrrr.20200114/conus/hrrr.t01z.wrfsfcf01.grib2\n"
     ]
    },
    {
     "name": "stderr",
     "output_type": "stream",
     "text": [
      " 85%|████████▍ | 1379/1631 [16:30:22<1:17:48, 18.53s/it]"
     ]
    },
    {
     "name": "stdout",
     "output_type": "stream",
     "text": [
      "https://noaa-hrrr-bdp-pds.s3.amazonaws.com/hrrr.20150820/conus/hrrr.t01z.wrfsfcf01.grib2\n"
     ]
    },
    {
     "name": "stderr",
     "output_type": "stream",
     "text": [
      " 85%|████████▍ | 1380/1631 [16:30:44<1:22:03, 19.61s/it]"
     ]
    },
    {
     "name": "stdout",
     "output_type": "stream",
     "text": [
      "https://noaa-hrrr-bdp-pds.s3.amazonaws.com/hrrr.20180805/conus/hrrr.t01z.wrfsfcf01.grib2\n"
     ]
    },
    {
     "name": "stderr",
     "output_type": "stream",
     "text": [
      " 85%|████████▍ | 1381/1631 [16:31:11<1:31:21, 21.93s/it]"
     ]
    },
    {
     "name": "stdout",
     "output_type": "stream",
     "text": [
      "https://noaa-hrrr-bdp-pds.s3.amazonaws.com/hrrr.20140516/conus/hrrr.t01z.wrfsfcf01.grib2\n"
     ]
    },
    {
     "name": "stderr",
     "output_type": "stream",
     "text": [
      " 85%|████████▍ | 1382/1631 [16:31:12<1:04:49, 15.62s/it]"
     ]
    },
    {
     "name": "stdout",
     "output_type": "stream",
     "text": [
      "https://noaa-hrrr-bdp-pds.s3.amazonaws.com/hrrr.20201020/conus/hrrr.t01z.wrfsfcf01.grib2\n"
     ]
    },
    {
     "name": "stderr",
     "output_type": "stream",
     "text": [
      " 85%|████████▍ | 1383/1631 [16:31:42<1:22:11, 19.88s/it]"
     ]
    },
    {
     "name": "stdout",
     "output_type": "stream",
     "text": [
      "https://noaa-hrrr-bdp-pds.s3.amazonaws.com/hrrr.20140305/conus/hrrr.t01z.wrfsfcf01.grib2\n"
     ]
    },
    {
     "name": "stderr",
     "output_type": "stream",
     "text": [
      " 85%|████████▍ | 1384/1631 [16:31:43<58:28, 14.20s/it]  "
     ]
    },
    {
     "name": "stdout",
     "output_type": "stream",
     "text": [
      "https://noaa-hrrr-bdp-pds.s3.amazonaws.com/hrrr.20150224/conus/hrrr.t01z.wrfsfcf01.grib2\n"
     ]
    },
    {
     "name": "stderr",
     "output_type": "stream",
     "text": [
      " 85%|████████▍ | 1385/1631 [16:31:44<41:55, 10.22s/it]"
     ]
    },
    {
     "name": "stdout",
     "output_type": "stream",
     "text": [
      "https://noaa-hrrr-bdp-pds.s3.amazonaws.com/hrrr.20161029/conus/hrrr.t01z.wrfsfcf01.grib2\n"
     ]
    },
    {
     "name": "stderr",
     "output_type": "stream",
     "text": [
      " 85%|████████▍ | 1386/1631 [16:32:08<58:20, 14.29s/it]"
     ]
    },
    {
     "name": "stdout",
     "output_type": "stream",
     "text": [
      "https://noaa-hrrr-bdp-pds.s3.amazonaws.com/hrrr.20160806/conus/hrrr.t01z.wrfsfcf01.grib2\n"
     ]
    },
    {
     "name": "stderr",
     "output_type": "stream",
     "text": [
      " 85%|████████▌ | 1387/1631 [16:32:09<41:47, 10.28s/it]"
     ]
    },
    {
     "name": "stdout",
     "output_type": "stream",
     "text": [
      "https://noaa-hrrr-bdp-pds.s3.amazonaws.com/hrrr.20210426/conus/hrrr.t01z.wrfsfcf01.grib2\n"
     ]
    },
    {
     "name": "stderr",
     "output_type": "stream",
     "text": [
      " 85%|████████▌ | 1388/1631 [16:32:36<1:01:51, 15.28s/it]"
     ]
    },
    {
     "name": "stdout",
     "output_type": "stream",
     "text": [
      "https://noaa-hrrr-bdp-pds.s3.amazonaws.com/hrrr.20161012/conus/hrrr.t01z.wrfsfcf01.grib2\n"
     ]
    },
    {
     "name": "stderr",
     "output_type": "stream",
     "text": [
      " 85%|████████▌ | 1389/1631 [16:33:04<1:17:14, 19.15s/it]"
     ]
    },
    {
     "name": "stdout",
     "output_type": "stream",
     "text": [
      "https://noaa-hrrr-bdp-pds.s3.amazonaws.com/hrrr.20150423/conus/hrrr.t01z.wrfsfcf01.grib2\n"
     ]
    },
    {
     "name": "stderr",
     "output_type": "stream",
     "text": [
      " 85%|████████▌ | 1390/1631 [16:33:23<1:17:28, 19.29s/it]"
     ]
    },
    {
     "name": "stdout",
     "output_type": "stream",
     "text": [
      "https://noaa-hrrr-bdp-pds.s3.amazonaws.com/hrrr.20131021/conus/hrrr.t01z.wrfsfcf01.grib2\n"
     ]
    },
    {
     "name": "stderr",
     "output_type": "stream",
     "text": [
      " 85%|████████▌ | 1391/1631 [16:33:24<55:07, 13.78s/it]  "
     ]
    },
    {
     "name": "stdout",
     "output_type": "stream",
     "text": [
      "https://noaa-hrrr-bdp-pds.s3.amazonaws.com/hrrr.20211207/conus/hrrr.t01z.wrfsfcf01.grib2\n"
     ]
    },
    {
     "name": "stderr",
     "output_type": "stream",
     "text": [
      " 85%|████████▌ | 1392/1631 [16:33:54<1:14:09, 18.62s/it]"
     ]
    },
    {
     "name": "stdout",
     "output_type": "stream",
     "text": [
      "https://noaa-hrrr-bdp-pds.s3.amazonaws.com/hrrr.20180404/conus/hrrr.t01z.wrfsfcf01.grib2\n"
     ]
    },
    {
     "name": "stderr",
     "output_type": "stream",
     "text": [
      " 85%|████████▌ | 1393/1631 [16:34:21<1:24:04, 21.20s/it]"
     ]
    },
    {
     "name": "stdout",
     "output_type": "stream",
     "text": [
      "https://noaa-hrrr-bdp-pds.s3.amazonaws.com/hrrr.20140301/conus/hrrr.t01z.wrfsfcf01.grib2\n"
     ]
    },
    {
     "name": "stderr",
     "output_type": "stream",
     "text": [
      " 85%|████████▌ | 1394/1631 [16:34:22<59:45, 15.13s/it]  "
     ]
    },
    {
     "name": "stdout",
     "output_type": "stream",
     "text": [
      "https://noaa-hrrr-bdp-pds.s3.amazonaws.com/hrrr.20140329/conus/hrrr.t01z.wrfsfcf01.grib2\n"
     ]
    },
    {
     "name": "stderr",
     "output_type": "stream",
     "text": [
      " 86%|████████▌ | 1395/1631 [16:34:23<42:44, 10.87s/it]"
     ]
    },
    {
     "name": "stdout",
     "output_type": "stream",
     "text": [
      "https://noaa-hrrr-bdp-pds.s3.amazonaws.com/hrrr.20181011/conus/hrrr.t01z.wrfsfcf01.grib2\n"
     ]
    },
    {
     "name": "stderr",
     "output_type": "stream",
     "text": [
      " 86%|████████▌ | 1396/1631 [16:34:52<1:03:33, 16.23s/it]"
     ]
    },
    {
     "name": "stdout",
     "output_type": "stream",
     "text": [
      "https://noaa-hrrr-bdp-pds.s3.amazonaws.com/hrrr.20131014/conus/hrrr.t01z.wrfsfcf01.grib2\n"
     ]
    },
    {
     "name": "stderr",
     "output_type": "stream",
     "text": [
      " 86%|████████▌ | 1397/1631 [16:34:53<45:22, 11.64s/it]  "
     ]
    },
    {
     "name": "stdout",
     "output_type": "stream",
     "text": [
      "https://noaa-hrrr-bdp-pds.s3.amazonaws.com/hrrr.20170408/conus/hrrr.t01z.wrfsfcf01.grib2\n"
     ]
    },
    {
     "name": "stderr",
     "output_type": "stream",
     "text": [
      " 86%|████████▌ | 1398/1631 [16:35:18<1:01:23, 15.81s/it]"
     ]
    },
    {
     "name": "stdout",
     "output_type": "stream",
     "text": [
      "https://noaa-hrrr-bdp-pds.s3.amazonaws.com/hrrr.20200904/conus/hrrr.t01z.wrfsfcf01.grib2\n"
     ]
    },
    {
     "name": "stderr",
     "output_type": "stream",
     "text": [
      " 86%|████████▌ | 1399/1631 [16:35:44<1:12:53, 18.85s/it]"
     ]
    },
    {
     "name": "stdout",
     "output_type": "stream",
     "text": [
      "https://noaa-hrrr-bdp-pds.s3.amazonaws.com/hrrr.20190123/conus/hrrr.t01z.wrfsfcf01.grib2\n"
     ]
    },
    {
     "name": "stderr",
     "output_type": "stream",
     "text": [
      " 86%|████████▌ | 1400/1631 [16:36:08<1:17:55, 20.24s/it]"
     ]
    },
    {
     "name": "stdout",
     "output_type": "stream",
     "text": [
      "https://noaa-hrrr-bdp-pds.s3.amazonaws.com/hrrr.20170908/conus/hrrr.t01z.wrfsfcf01.grib2\n"
     ]
    },
    {
     "name": "stderr",
     "output_type": "stream",
     "text": [
      " 86%|████████▌ | 1401/1631 [16:36:34<1:24:44, 22.11s/it]"
     ]
    },
    {
     "name": "stdout",
     "output_type": "stream",
     "text": [
      "https://noaa-hrrr-bdp-pds.s3.amazonaws.com/hrrr.20200224/conus/hrrr.t01z.wrfsfcf01.grib2\n"
     ]
    },
    {
     "name": "stderr",
     "output_type": "stream",
     "text": [
      " 86%|████████▌ | 1402/1631 [16:36:58<1:25:50, 22.49s/it]"
     ]
    },
    {
     "name": "stdout",
     "output_type": "stream",
     "text": [
      "https://noaa-hrrr-bdp-pds.s3.amazonaws.com/hrrr.20181108/conus/hrrr.t01z.wrfsfcf01.grib2\n"
     ]
    },
    {
     "name": "stderr",
     "output_type": "stream",
     "text": [
      " 86%|████████▌ | 1403/1631 [16:37:30<1:36:37, 25.43s/it]"
     ]
    },
    {
     "name": "stdout",
     "output_type": "stream",
     "text": [
      "https://noaa-hrrr-bdp-pds.s3.amazonaws.com/hrrr.20181009/conus/hrrr.t01z.wrfsfcf01.grib2\n"
     ]
    },
    {
     "name": "stderr",
     "output_type": "stream",
     "text": [
      " 86%|████████▌ | 1404/1631 [16:38:06<1:48:03, 28.56s/it]"
     ]
    },
    {
     "name": "stdout",
     "output_type": "stream",
     "text": [
      "https://noaa-hrrr-bdp-pds.s3.amazonaws.com/hrrr.20160803/conus/hrrr.t01z.wrfsfcf01.grib2\n"
     ]
    },
    {
     "name": "stderr",
     "output_type": "stream",
     "text": [
      " 86%|████████▌ | 1405/1631 [16:38:07<1:16:22, 20.28s/it]"
     ]
    },
    {
     "name": "stdout",
     "output_type": "stream",
     "text": [
      "https://noaa-hrrr-bdp-pds.s3.amazonaws.com/hrrr.20160519/conus/hrrr.t01z.wrfsfcf01.grib2\n"
     ]
    },
    {
     "name": "stderr",
     "output_type": "stream",
     "text": [
      " 86%|████████▌ | 1406/1631 [16:38:25<1:13:46, 19.67s/it]"
     ]
    },
    {
     "name": "stdout",
     "output_type": "stream",
     "text": [
      "https://noaa-hrrr-bdp-pds.s3.amazonaws.com/hrrr.20180803/conus/hrrr.t01z.wrfsfcf01.grib2\n"
     ]
    },
    {
     "name": "stderr",
     "output_type": "stream",
     "text": [
      " 86%|████████▋ | 1407/1631 [16:38:53<1:23:07, 22.27s/it]"
     ]
    },
    {
     "name": "stdout",
     "output_type": "stream",
     "text": [
      "https://noaa-hrrr-bdp-pds.s3.amazonaws.com/hrrr.20180810/conus/hrrr.t01z.wrfsfcf01.grib2\n"
     ]
    },
    {
     "name": "stderr",
     "output_type": "stream",
     "text": [
      " 86%|████████▋ | 1408/1631 [16:39:20<1:27:46, 23.62s/it]"
     ]
    },
    {
     "name": "stdout",
     "output_type": "stream",
     "text": [
      "https://noaa-hrrr-bdp-pds.s3.amazonaws.com/hrrr.20190524/conus/hrrr.t01z.wrfsfcf01.grib2\n"
     ]
    },
    {
     "name": "stderr",
     "output_type": "stream",
     "text": [
      " 86%|████████▋ | 1409/1631 [16:39:45<1:28:34, 23.94s/it]"
     ]
    },
    {
     "name": "stdout",
     "output_type": "stream",
     "text": [
      "https://noaa-hrrr-bdp-pds.s3.amazonaws.com/hrrr.20160120/conus/hrrr.t01z.wrfsfcf01.grib2\n"
     ]
    },
    {
     "name": "stderr",
     "output_type": "stream",
     "text": [
      " 86%|████████▋ | 1410/1631 [16:40:20<1:41:01, 27.43s/it]"
     ]
    },
    {
     "name": "stdout",
     "output_type": "stream",
     "text": [
      "https://noaa-hrrr-bdp-pds.s3.amazonaws.com/hrrr.20210814/conus/hrrr.t01z.wrfsfcf01.grib2\n"
     ]
    },
    {
     "name": "stderr",
     "output_type": "stream",
     "text": [
      " 87%|████████▋ | 1411/1631 [16:40:50<1:42:30, 27.96s/it]"
     ]
    },
    {
     "name": "stdout",
     "output_type": "stream",
     "text": [
      "https://noaa-hrrr-bdp-pds.s3.amazonaws.com/hrrr.20150425/conus/hrrr.t01z.wrfsfcf01.grib2\n"
     ]
    },
    {
     "name": "stderr",
     "output_type": "stream",
     "text": [
      " 87%|████████▋ | 1412/1631 [16:41:13<1:37:08, 26.61s/it]"
     ]
    },
    {
     "name": "stdout",
     "output_type": "stream",
     "text": [
      "https://noaa-hrrr-bdp-pds.s3.amazonaws.com/hrrr.20181125/conus/hrrr.t01z.wrfsfcf01.grib2\n"
     ]
    },
    {
     "name": "stderr",
     "output_type": "stream",
     "text": [
      " 87%|████████▋ | 1413/1631 [16:41:47<1:44:24, 28.74s/it]"
     ]
    },
    {
     "name": "stdout",
     "output_type": "stream",
     "text": [
      "https://noaa-hrrr-bdp-pds.s3.amazonaws.com/hrrr.20160609/conus/hrrr.t01z.wrfsfcf01.grib2\n"
     ]
    },
    {
     "name": "stderr",
     "output_type": "stream",
     "text": [
      " 87%|████████▋ | 1414/1631 [16:42:06<1:33:42, 25.91s/it]"
     ]
    },
    {
     "name": "stdout",
     "output_type": "stream",
     "text": [
      "https://noaa-hrrr-bdp-pds.s3.amazonaws.com/hrrr.20150509/conus/hrrr.t01z.wrfsfcf01.grib2\n"
     ]
    },
    {
     "name": "stderr",
     "output_type": "stream",
     "text": [
      " 87%|████████▋ | 1415/1631 [16:42:27<1:27:40, 24.35s/it]"
     ]
    },
    {
     "name": "stdout",
     "output_type": "stream",
     "text": [
      "https://noaa-hrrr-bdp-pds.s3.amazonaws.com/hrrr.20190415/conus/hrrr.t01z.wrfsfcf01.grib2\n"
     ]
    },
    {
     "name": "stderr",
     "output_type": "stream",
     "text": [
      " 87%|████████▋ | 1416/1631 [16:42:51<1:26:34, 24.16s/it]"
     ]
    },
    {
     "name": "stdout",
     "output_type": "stream",
     "text": [
      "https://noaa-hrrr-bdp-pds.s3.amazonaws.com/hrrr.20171113/conus/hrrr.t01z.wrfsfcf01.grib2\n"
     ]
    },
    {
     "name": "stderr",
     "output_type": "stream",
     "text": [
      " 87%|████████▋ | 1417/1631 [16:43:26<1:37:53, 27.45s/it]"
     ]
    },
    {
     "name": "stdout",
     "output_type": "stream",
     "text": [
      "https://noaa-hrrr-bdp-pds.s3.amazonaws.com/hrrr.20150417/conus/hrrr.t01z.wrfsfcf01.grib2\n"
     ]
    },
    {
     "name": "stderr",
     "output_type": "stream",
     "text": [
      " 87%|████████▋ | 1418/1631 [16:43:45<1:28:31, 24.94s/it]"
     ]
    },
    {
     "name": "stdout",
     "output_type": "stream",
     "text": [
      "https://noaa-hrrr-bdp-pds.s3.amazonaws.com/hrrr.20140419/conus/hrrr.t01z.wrfsfcf01.grib2\n"
     ]
    },
    {
     "name": "stderr",
     "output_type": "stream",
     "text": [
      " 87%|████████▋ | 1419/1631 [16:43:46<1:02:42, 17.75s/it]"
     ]
    },
    {
     "name": "stdout",
     "output_type": "stream",
     "text": [
      "https://noaa-hrrr-bdp-pds.s3.amazonaws.com/hrrr.20180323/conus/hrrr.t01z.wrfsfcf01.grib2\n"
     ]
    },
    {
     "name": "stderr",
     "output_type": "stream",
     "text": [
      " 87%|████████▋ | 1420/1631 [16:44:18<1:17:41, 22.09s/it]"
     ]
    },
    {
     "name": "stdout",
     "output_type": "stream",
     "text": [
      "https://noaa-hrrr-bdp-pds.s3.amazonaws.com/hrrr.20140128/conus/hrrr.t01z.wrfsfcf01.grib2\n"
     ]
    },
    {
     "name": "stderr",
     "output_type": "stream",
     "text": [
      " 87%|████████▋ | 1421/1631 [16:44:19<55:11, 15.77s/it]  "
     ]
    },
    {
     "name": "stdout",
     "output_type": "stream",
     "text": [
      "https://noaa-hrrr-bdp-pds.s3.amazonaws.com/hrrr.20181030/conus/hrrr.t01z.wrfsfcf01.grib2\n"
     ]
    },
    {
     "name": "stderr",
     "output_type": "stream",
     "text": [
      " 87%|████████▋ | 1422/1631 [16:44:44<1:04:13, 18.44s/it]"
     ]
    },
    {
     "name": "stdout",
     "output_type": "stream",
     "text": [
      "https://noaa-hrrr-bdp-pds.s3.amazonaws.com/hrrr.20211019/conus/hrrr.t01z.wrfsfcf01.grib2\n"
     ]
    },
    {
     "name": "stderr",
     "output_type": "stream",
     "text": [
      " 87%|████████▋ | 1423/1631 [16:45:13<1:15:35, 21.81s/it]"
     ]
    },
    {
     "name": "stdout",
     "output_type": "stream",
     "text": [
      "https://noaa-hrrr-bdp-pds.s3.amazonaws.com/hrrr.20141219/conus/hrrr.t01z.wrfsfcf01.grib2\n"
     ]
    },
    {
     "name": "stderr",
     "output_type": "stream",
     "text": [
      " 87%|████████▋ | 1424/1631 [16:45:14<53:37, 15.54s/it]  "
     ]
    },
    {
     "name": "stdout",
     "output_type": "stream",
     "text": [
      "https://noaa-hrrr-bdp-pds.s3.amazonaws.com/hrrr.20201006/conus/hrrr.t01z.wrfsfcf01.grib2\n"
     ]
    },
    {
     "name": "stderr",
     "output_type": "stream",
     "text": [
      " 87%|████████▋ | 1425/1631 [16:45:40<1:03:55, 18.62s/it]"
     ]
    },
    {
     "name": "stdout",
     "output_type": "stream",
     "text": [
      "https://noaa-hrrr-bdp-pds.s3.amazonaws.com/hrrr.20170419/conus/hrrr.t01z.wrfsfcf01.grib2\n"
     ]
    },
    {
     "name": "stderr",
     "output_type": "stream",
     "text": [
      " 87%|████████▋ | 1426/1631 [16:46:03<1:08:10, 19.96s/it]"
     ]
    },
    {
     "name": "stdout",
     "output_type": "stream",
     "text": [
      "https://noaa-hrrr-bdp-pds.s3.amazonaws.com/hrrr.20210407/conus/hrrr.t01z.wrfsfcf01.grib2\n"
     ]
    },
    {
     "name": "stderr",
     "output_type": "stream",
     "text": [
      " 87%|████████▋ | 1427/1631 [16:46:31<1:15:37, 22.24s/it]"
     ]
    },
    {
     "name": "stdout",
     "output_type": "stream",
     "text": [
      "https://noaa-hrrr-bdp-pds.s3.amazonaws.com/hrrr.20181002/conus/hrrr.t01z.wrfsfcf01.grib2\n"
     ]
    },
    {
     "name": "stderr",
     "output_type": "stream",
     "text": [
      " 88%|████████▊ | 1428/1631 [16:46:56<1:17:52, 23.02s/it]"
     ]
    },
    {
     "name": "stdout",
     "output_type": "stream",
     "text": [
      "https://noaa-hrrr-bdp-pds.s3.amazonaws.com/hrrr.20160526/conus/hrrr.t01z.wrfsfcf01.grib2\n"
     ]
    },
    {
     "name": "stderr",
     "output_type": "stream",
     "text": [
      " 88%|████████▊ | 1429/1631 [16:47:17<1:15:33, 22.44s/it]"
     ]
    },
    {
     "name": "stdout",
     "output_type": "stream",
     "text": [
      "https://noaa-hrrr-bdp-pds.s3.amazonaws.com/hrrr.20191219/conus/hrrr.t01z.wrfsfcf01.grib2\n"
     ]
    },
    {
     "name": "stderr",
     "output_type": "stream",
     "text": [
      " 88%|████████▊ | 1430/1631 [16:47:39<1:15:23, 22.51s/it]"
     ]
    },
    {
     "name": "stdout",
     "output_type": "stream",
     "text": [
      "https://noaa-hrrr-bdp-pds.s3.amazonaws.com/hrrr.20140331/conus/hrrr.t01z.wrfsfcf01.grib2\n"
     ]
    },
    {
     "name": "stderr",
     "output_type": "stream",
     "text": [
      " 88%|████████▊ | 1431/1631 [16:47:40<53:27, 16.04s/it]  "
     ]
    },
    {
     "name": "stdout",
     "output_type": "stream",
     "text": [
      "https://noaa-hrrr-bdp-pds.s3.amazonaws.com/hrrr.20140604/conus/hrrr.t01z.wrfsfcf01.grib2\n"
     ]
    },
    {
     "name": "stderr",
     "output_type": "stream",
     "text": [
      " 88%|████████▊ | 1432/1631 [16:47:41<38:09, 11.50s/it]"
     ]
    },
    {
     "name": "stdout",
     "output_type": "stream",
     "text": [
      "https://noaa-hrrr-bdp-pds.s3.amazonaws.com/hrrr.20130405/conus/hrrr.t01z.wrfsfcf01.grib2\n"
     ]
    },
    {
     "name": "stderr",
     "output_type": "stream",
     "text": [
      " 88%|████████▊ | 1433/1631 [16:47:42<27:29,  8.33s/it]"
     ]
    },
    {
     "name": "stdout",
     "output_type": "stream",
     "text": [
      "https://noaa-hrrr-bdp-pds.s3.amazonaws.com/hrrr.20160814/conus/hrrr.t01z.wrfsfcf01.grib2\n"
     ]
    },
    {
     "name": "stderr",
     "output_type": "stream",
     "text": [
      " 88%|████████▊ | 1434/1631 [16:47:43<20:03,  6.11s/it]"
     ]
    },
    {
     "name": "stdout",
     "output_type": "stream",
     "text": [
      "https://noaa-hrrr-bdp-pds.s3.amazonaws.com/hrrr.20151102/conus/hrrr.t01z.wrfsfcf01.grib2\n"
     ]
    },
    {
     "name": "stderr",
     "output_type": "stream",
     "text": [
      " 88%|████████▊ | 1435/1631 [16:48:05<35:23, 10.84s/it]"
     ]
    },
    {
     "name": "stdout",
     "output_type": "stream",
     "text": [
      "https://noaa-hrrr-bdp-pds.s3.amazonaws.com/hrrr.20161129/conus/hrrr.t01z.wrfsfcf01.grib2\n"
     ]
    },
    {
     "name": "stderr",
     "output_type": "stream",
     "text": [
      " 88%|████████▊ | 1436/1631 [16:48:30<49:31, 15.24s/it]"
     ]
    },
    {
     "name": "stdout",
     "output_type": "stream",
     "text": [
      "https://noaa-hrrr-bdp-pds.s3.amazonaws.com/hrrr.20210308/conus/hrrr.t01z.wrfsfcf01.grib2\n"
     ]
    },
    {
     "name": "stderr",
     "output_type": "stream",
     "text": [
      " 88%|████████▊ | 1437/1631 [16:49:05<1:07:41, 20.93s/it]"
     ]
    },
    {
     "name": "stdout",
     "output_type": "stream",
     "text": [
      "https://noaa-hrrr-bdp-pds.s3.amazonaws.com/hrrr.20200423/conus/hrrr.t01z.wrfsfcf01.grib2\n"
     ]
    },
    {
     "name": "stderr",
     "output_type": "stream",
     "text": [
      " 88%|████████▊ | 1438/1631 [16:49:28<1:10:01, 21.77s/it]"
     ]
    },
    {
     "name": "stdout",
     "output_type": "stream",
     "text": [
      "https://noaa-hrrr-bdp-pds.s3.amazonaws.com/hrrr.20130822/conus/hrrr.t01z.wrfsfcf01.grib2\n"
     ]
    },
    {
     "name": "stderr",
     "output_type": "stream",
     "text": [
      " 88%|████████▊ | 1439/1631 [16:49:29<49:40, 15.52s/it]  "
     ]
    },
    {
     "name": "stdout",
     "output_type": "stream",
     "text": [
      "https://noaa-hrrr-bdp-pds.s3.amazonaws.com/hrrr.20170222/conus/hrrr.t01z.wrfsfcf01.grib2\n"
     ]
    },
    {
     "name": "stderr",
     "output_type": "stream",
     "text": [
      " 88%|████████▊ | 1440/1631 [16:49:56<1:00:22, 18.96s/it]"
     ]
    },
    {
     "name": "stdout",
     "output_type": "stream",
     "text": [
      "https://noaa-hrrr-bdp-pds.s3.amazonaws.com/hrrr.20180608/conus/hrrr.t01z.wrfsfcf01.grib2\n"
     ]
    },
    {
     "name": "stderr",
     "output_type": "stream",
     "text": [
      " 88%|████████▊ | 1441/1631 [16:50:21<1:05:37, 20.72s/it]"
     ]
    },
    {
     "name": "stdout",
     "output_type": "stream",
     "text": [
      "https://noaa-hrrr-bdp-pds.s3.amazonaws.com/hrrr.20171012/conus/hrrr.t01z.wrfsfcf01.grib2\n"
     ]
    },
    {
     "name": "stderr",
     "output_type": "stream",
     "text": [
      " 88%|████████▊ | 1442/1631 [16:50:44<1:06:55, 21.25s/it]"
     ]
    },
    {
     "name": "stdout",
     "output_type": "stream",
     "text": [
      "https://noaa-hrrr-bdp-pds.s3.amazonaws.com/hrrr.20201118/conus/hrrr.t01z.wrfsfcf01.grib2\n"
     ]
    },
    {
     "name": "stderr",
     "output_type": "stream",
     "text": [
      " 88%|████████▊ | 1443/1631 [16:51:10<1:11:10, 22.72s/it]"
     ]
    },
    {
     "name": "stdout",
     "output_type": "stream",
     "text": [
      "https://noaa-hrrr-bdp-pds.s3.amazonaws.com/hrrr.20151011/conus/hrrr.t01z.wrfsfcf01.grib2\n"
     ]
    },
    {
     "name": "stderr",
     "output_type": "stream",
     "text": [
      " 89%|████████▊ | 1444/1631 [16:51:27<1:05:31, 21.02s/it]"
     ]
    },
    {
     "name": "stdout",
     "output_type": "stream",
     "text": [
      "https://noaa-hrrr-bdp-pds.s3.amazonaws.com/hrrr.20201105/conus/hrrr.t01z.wrfsfcf01.grib2\n"
     ]
    },
    {
     "name": "stderr",
     "output_type": "stream",
     "text": [
      " 89%|████████▊ | 1445/1631 [16:51:50<1:07:07, 21.66s/it]"
     ]
    },
    {
     "name": "stdout",
     "output_type": "stream",
     "text": [
      "https://noaa-hrrr-bdp-pds.s3.amazonaws.com/hrrr.20200611/conus/hrrr.t01z.wrfsfcf01.grib2\n"
     ]
    },
    {
     "name": "stderr",
     "output_type": "stream",
     "text": [
      " 89%|████████▊ | 1446/1631 [16:52:16<1:11:18, 23.13s/it]"
     ]
    },
    {
     "name": "stdout",
     "output_type": "stream",
     "text": [
      "https://noaa-hrrr-bdp-pds.s3.amazonaws.com/hrrr.20210916/conus/hrrr.t01z.wrfsfcf01.grib2\n"
     ]
    },
    {
     "name": "stderr",
     "output_type": "stream",
     "text": [
      " 89%|████████▊ | 1447/1631 [16:52:52<1:22:31, 26.91s/it]"
     ]
    },
    {
     "name": "stdout",
     "output_type": "stream",
     "text": [
      "https://noaa-hrrr-bdp-pds.s3.amazonaws.com/hrrr.20140806/conus/hrrr.t01z.wrfsfcf01.grib2\n"
     ]
    },
    {
     "name": "stderr",
     "output_type": "stream",
     "text": [
      " 89%|████████▉ | 1448/1631 [16:53:11<1:14:52, 24.55s/it]"
     ]
    },
    {
     "name": "stdout",
     "output_type": "stream",
     "text": [
      "https://noaa-hrrr-bdp-pds.s3.amazonaws.com/hrrr.20190604/conus/hrrr.t01z.wrfsfcf01.grib2\n"
     ]
    },
    {
     "name": "stderr",
     "output_type": "stream",
     "text": [
      " 89%|████████▉ | 1449/1631 [16:53:49<1:26:08, 28.40s/it]"
     ]
    },
    {
     "name": "stdout",
     "output_type": "stream",
     "text": [
      "https://noaa-hrrr-bdp-pds.s3.amazonaws.com/hrrr.20130122/conus/hrrr.t01z.wrfsfcf01.grib2\n"
     ]
    },
    {
     "name": "stderr",
     "output_type": "stream",
     "text": [
      " 89%|████████▉ | 1450/1631 [16:53:50<1:00:49, 20.16s/it]"
     ]
    },
    {
     "name": "stdout",
     "output_type": "stream",
     "text": [
      "https://noaa-hrrr-bdp-pds.s3.amazonaws.com/hrrr.20171102/conus/hrrr.t01z.wrfsfcf01.grib2\n"
     ]
    },
    {
     "name": "stderr",
     "output_type": "stream",
     "text": [
      " 89%|████████▉ | 1451/1631 [16:54:15<1:05:24, 21.80s/it]"
     ]
    },
    {
     "name": "stdout",
     "output_type": "stream",
     "text": [
      "https://noaa-hrrr-bdp-pds.s3.amazonaws.com/hrrr.20170721/conus/hrrr.t01z.wrfsfcf01.grib2\n"
     ]
    },
    {
     "name": "stderr",
     "output_type": "stream",
     "text": [
      " 89%|████████▉ | 1452/1631 [16:54:39<1:06:32, 22.30s/it]"
     ]
    },
    {
     "name": "stdout",
     "output_type": "stream",
     "text": [
      "https://noaa-hrrr-bdp-pds.s3.amazonaws.com/hrrr.20160416/conus/hrrr.t01z.wrfsfcf01.grib2\n"
     ]
    },
    {
     "name": "stderr",
     "output_type": "stream",
     "text": [
      " 89%|████████▉ | 1453/1631 [16:55:04<1:08:51, 23.21s/it]"
     ]
    },
    {
     "name": "stdout",
     "output_type": "stream",
     "text": [
      "https://noaa-hrrr-bdp-pds.s3.amazonaws.com/hrrr.20131104/conus/hrrr.t01z.wrfsfcf01.grib2\n"
     ]
    },
    {
     "name": "stderr",
     "output_type": "stream",
     "text": [
      " 89%|████████▉ | 1454/1631 [16:55:05<48:45, 16.53s/it]  "
     ]
    },
    {
     "name": "stdout",
     "output_type": "stream",
     "text": [
      "https://noaa-hrrr-bdp-pds.s3.amazonaws.com/hrrr.20180728/conus/hrrr.t01z.wrfsfcf01.grib2\n"
     ]
    },
    {
     "name": "stderr",
     "output_type": "stream",
     "text": [
      " 89%|████████▉ | 1455/1631 [16:55:29<54:43, 18.66s/it]"
     ]
    },
    {
     "name": "stdout",
     "output_type": "stream",
     "text": [
      "https://noaa-hrrr-bdp-pds.s3.amazonaws.com/hrrr.20140821/conus/hrrr.t01z.wrfsfcf01.grib2\n"
     ]
    },
    {
     "name": "stderr",
     "output_type": "stream",
     "text": [
      " 89%|████████▉ | 1456/1631 [16:55:30<38:55, 13.34s/it]"
     ]
    },
    {
     "name": "stdout",
     "output_type": "stream",
     "text": [
      "https://noaa-hrrr-bdp-pds.s3.amazonaws.com/hrrr.20201230/conus/hrrr.t01z.wrfsfcf01.grib2\n"
     ]
    },
    {
     "name": "stderr",
     "output_type": "stream",
     "text": [
      " 89%|████████▉ | 1457/1631 [16:55:58<52:15, 18.02s/it]"
     ]
    },
    {
     "name": "stdout",
     "output_type": "stream",
     "text": [
      "https://noaa-hrrr-bdp-pds.s3.amazonaws.com/hrrr.20211115/conus/hrrr.t01z.wrfsfcf01.grib2\n"
     ]
    },
    {
     "name": "stderr",
     "output_type": "stream",
     "text": [
      " 89%|████████▉ | 1458/1631 [16:56:24<58:45, 20.38s/it]"
     ]
    },
    {
     "name": "stdout",
     "output_type": "stream",
     "text": [
      "https://noaa-hrrr-bdp-pds.s3.amazonaws.com/hrrr.20170618/conus/hrrr.t01z.wrfsfcf01.grib2\n"
     ]
    },
    {
     "name": "stderr",
     "output_type": "stream",
     "text": [
      " 89%|████████▉ | 1459/1631 [16:56:48<1:01:12, 21.35s/it]"
     ]
    },
    {
     "name": "stdout",
     "output_type": "stream",
     "text": [
      "https://noaa-hrrr-bdp-pds.s3.amazonaws.com/hrrr.20141009/conus/hrrr.t01z.wrfsfcf01.grib2\n"
     ]
    },
    {
     "name": "stderr",
     "output_type": "stream",
     "text": [
      " 90%|████████▉ | 1460/1631 [16:57:05<56:55, 19.97s/it]  "
     ]
    },
    {
     "name": "stdout",
     "output_type": "stream",
     "text": [
      "https://noaa-hrrr-bdp-pds.s3.amazonaws.com/hrrr.20190824/conus/hrrr.t01z.wrfsfcf01.grib2\n"
     ]
    },
    {
     "name": "stderr",
     "output_type": "stream",
     "text": [
      " 90%|████████▉ | 1461/1631 [16:57:36<1:06:23, 23.43s/it]"
     ]
    },
    {
     "name": "stdout",
     "output_type": "stream",
     "text": [
      "https://noaa-hrrr-bdp-pds.s3.amazonaws.com/hrrr.20210602/conus/hrrr.t01z.wrfsfcf01.grib2\n"
     ]
    },
    {
     "name": "stderr",
     "output_type": "stream",
     "text": [
      " 90%|████████▉ | 1462/1631 [16:58:05<1:10:55, 25.18s/it]"
     ]
    },
    {
     "name": "stdout",
     "output_type": "stream",
     "text": [
      "https://noaa-hrrr-bdp-pds.s3.amazonaws.com/hrrr.20170210/conus/hrrr.t01z.wrfsfcf01.grib2\n"
     ]
    },
    {
     "name": "stderr",
     "output_type": "stream",
     "text": [
      " 90%|████████▉ | 1463/1631 [16:58:29<1:08:49, 24.58s/it]"
     ]
    },
    {
     "name": "stdout",
     "output_type": "stream",
     "text": [
      "https://noaa-hrrr-bdp-pds.s3.amazonaws.com/hrrr.20180430/conus/hrrr.t01z.wrfsfcf01.grib2\n"
     ]
    },
    {
     "name": "stderr",
     "output_type": "stream",
     "text": [
      " 90%|████████▉ | 1464/1631 [16:58:52<1:07:38, 24.30s/it]"
     ]
    },
    {
     "name": "stdout",
     "output_type": "stream",
     "text": [
      "https://noaa-hrrr-bdp-pds.s3.amazonaws.com/hrrr.20140428/conus/hrrr.t01z.wrfsfcf01.grib2\n"
     ]
    },
    {
     "name": "stderr",
     "output_type": "stream",
     "text": [
      " 90%|████████▉ | 1465/1631 [16:58:53<47:50, 17.29s/it]  "
     ]
    },
    {
     "name": "stdout",
     "output_type": "stream",
     "text": [
      "https://noaa-hrrr-bdp-pds.s3.amazonaws.com/hrrr.20140917/conus/hrrr.t01z.wrfsfcf01.grib2\n"
     ]
    },
    {
     "name": "stderr",
     "output_type": "stream",
     "text": [
      " 90%|████████▉ | 1466/1631 [16:58:54<34:04, 12.39s/it]"
     ]
    },
    {
     "name": "stdout",
     "output_type": "stream",
     "text": [
      "https://noaa-hrrr-bdp-pds.s3.amazonaws.com/hrrr.20171003/conus/hrrr.t01z.wrfsfcf01.grib2\n"
     ]
    },
    {
     "name": "stderr",
     "output_type": "stream",
     "text": [
      " 90%|████████▉ | 1467/1631 [16:59:21<45:35, 16.68s/it]"
     ]
    },
    {
     "name": "stdout",
     "output_type": "stream",
     "text": [
      "https://noaa-hrrr-bdp-pds.s3.amazonaws.com/hrrr.20140528/conus/hrrr.t01z.wrfsfcf01.grib2\n"
     ]
    },
    {
     "name": "stderr",
     "output_type": "stream",
     "text": [
      " 90%|█████████ | 1468/1631 [16:59:22<32:28, 11.96s/it]"
     ]
    },
    {
     "name": "stdout",
     "output_type": "stream",
     "text": [
      "https://noaa-hrrr-bdp-pds.s3.amazonaws.com/hrrr.20200427/conus/hrrr.t01z.wrfsfcf01.grib2\n"
     ]
    },
    {
     "name": "stderr",
     "output_type": "stream",
     "text": [
      " 90%|█████████ | 1469/1631 [16:59:55<49:09, 18.21s/it]"
     ]
    },
    {
     "name": "stdout",
     "output_type": "stream",
     "text": [
      "https://noaa-hrrr-bdp-pds.s3.amazonaws.com/hrrr.20181210/conus/hrrr.t01z.wrfsfcf01.grib2\n"
     ]
    },
    {
     "name": "stderr",
     "output_type": "stream",
     "text": [
      " 90%|█████████ | 1470/1631 [17:00:17<52:30, 19.57s/it]"
     ]
    },
    {
     "name": "stdout",
     "output_type": "stream",
     "text": [
      "https://noaa-hrrr-bdp-pds.s3.amazonaws.com/hrrr.20140220/conus/hrrr.t01z.wrfsfcf01.grib2\n"
     ]
    },
    {
     "name": "stderr",
     "output_type": "stream",
     "text": [
      " 90%|█████████ | 1471/1631 [17:00:18<37:16, 13.98s/it]"
     ]
    },
    {
     "name": "stdout",
     "output_type": "stream",
     "text": [
      "https://noaa-hrrr-bdp-pds.s3.amazonaws.com/hrrr.20190725/conus/hrrr.t01z.wrfsfcf01.grib2\n"
     ]
    },
    {
     "name": "stderr",
     "output_type": "stream",
     "text": [
      " 90%|█████████ | 1472/1631 [17:00:45<46:46, 17.65s/it]"
     ]
    },
    {
     "name": "stdout",
     "output_type": "stream",
     "text": [
      "https://noaa-hrrr-bdp-pds.s3.amazonaws.com/hrrr.20210318/conus/hrrr.t01z.wrfsfcf01.grib2\n"
     ]
    },
    {
     "name": "stderr",
     "output_type": "stream",
     "text": [
      " 90%|█████████ | 1473/1631 [17:01:12<53:52, 20.46s/it]"
     ]
    },
    {
     "name": "stdout",
     "output_type": "stream",
     "text": [
      "https://noaa-hrrr-bdp-pds.s3.amazonaws.com/hrrr.20131001/conus/hrrr.t01z.wrfsfcf01.grib2\n"
     ]
    },
    {
     "name": "stderr",
     "output_type": "stream",
     "text": [
      " 90%|█████████ | 1474/1631 [17:01:12<38:11, 14.60s/it]"
     ]
    },
    {
     "name": "stdout",
     "output_type": "stream",
     "text": [
      "https://noaa-hrrr-bdp-pds.s3.amazonaws.com/hrrr.20160309/conus/hrrr.t01z.wrfsfcf01.grib2\n"
     ]
    },
    {
     "name": "stderr",
     "output_type": "stream",
     "text": [
      " 90%|█████████ | 1475/1631 [17:01:30<40:05, 15.42s/it]"
     ]
    },
    {
     "name": "stdout",
     "output_type": "stream",
     "text": [
      "https://noaa-hrrr-bdp-pds.s3.amazonaws.com/hrrr.20180329/conus/hrrr.t01z.wrfsfcf01.grib2\n"
     ]
    },
    {
     "name": "stderr",
     "output_type": "stream",
     "text": [
      " 90%|█████████ | 1476/1631 [17:01:58<49:58, 19.35s/it]"
     ]
    },
    {
     "name": "stdout",
     "output_type": "stream",
     "text": [
      "https://noaa-hrrr-bdp-pds.s3.amazonaws.com/hrrr.20170416/conus/hrrr.t01z.wrfsfcf01.grib2\n"
     ]
    },
    {
     "name": "stderr",
     "output_type": "stream",
     "text": [
      " 91%|█████████ | 1477/1631 [17:02:23<53:28, 20.83s/it]"
     ]
    },
    {
     "name": "stdout",
     "output_type": "stream",
     "text": [
      "https://noaa-hrrr-bdp-pds.s3.amazonaws.com/hrrr.20160804/conus/hrrr.t01z.wrfsfcf01.grib2\n"
     ]
    },
    {
     "name": "stderr",
     "output_type": "stream",
     "text": [
      " 91%|█████████ | 1478/1631 [17:02:40<50:51, 19.94s/it]"
     ]
    },
    {
     "name": "stdout",
     "output_type": "stream",
     "text": [
      "https://noaa-hrrr-bdp-pds.s3.amazonaws.com/hrrr.20211028/conus/hrrr.t01z.wrfsfcf01.grib2\n"
     ]
    },
    {
     "name": "stderr",
     "output_type": "stream",
     "text": [
      " 91%|█████████ | 1479/1631 [17:03:22<1:06:57, 26.43s/it]"
     ]
    },
    {
     "name": "stdout",
     "output_type": "stream",
     "text": [
      "https://noaa-hrrr-bdp-pds.s3.amazonaws.com/hrrr.20190804/conus/hrrr.t01z.wrfsfcf01.grib2\n"
     ]
    },
    {
     "name": "stderr",
     "output_type": "stream",
     "text": [
      " 91%|█████████ | 1480/1631 [17:03:46<1:04:47, 25.75s/it]"
     ]
    },
    {
     "name": "stdout",
     "output_type": "stream",
     "text": [
      "https://noaa-hrrr-bdp-pds.s3.amazonaws.com/hrrr.20200324/conus/hrrr.t01z.wrfsfcf01.grib2\n"
     ]
    },
    {
     "name": "stderr",
     "output_type": "stream",
     "text": [
      " 91%|█████████ | 1481/1631 [17:04:11<1:03:48, 25.52s/it]"
     ]
    },
    {
     "name": "stdout",
     "output_type": "stream",
     "text": [
      "https://noaa-hrrr-bdp-pds.s3.amazonaws.com/hrrr.20180412/conus/hrrr.t01z.wrfsfcf01.grib2\n"
     ]
    },
    {
     "name": "stderr",
     "output_type": "stream",
     "text": [
      " 91%|█████████ | 1482/1631 [17:04:39<1:04:59, 26.17s/it]"
     ]
    },
    {
     "name": "stdout",
     "output_type": "stream",
     "text": [
      "https://noaa-hrrr-bdp-pds.s3.amazonaws.com/hrrr.20210304/conus/hrrr.t01z.wrfsfcf01.grib2\n"
     ]
    },
    {
     "name": "stderr",
     "output_type": "stream",
     "text": [
      " 91%|█████████ | 1483/1631 [17:05:06<1:05:30, 26.56s/it]"
     ]
    },
    {
     "name": "stdout",
     "output_type": "stream",
     "text": [
      "https://noaa-hrrr-bdp-pds.s3.amazonaws.com/hrrr.20150823/conus/hrrr.t01z.wrfsfcf01.grib2\n"
     ]
    },
    {
     "name": "stderr",
     "output_type": "stream",
     "text": [
      " 91%|█████████ | 1484/1631 [17:05:23<57:42, 23.56s/it]  "
     ]
    },
    {
     "name": "stdout",
     "output_type": "stream",
     "text": [
      "https://noaa-hrrr-bdp-pds.s3.amazonaws.com/hrrr.20141106/conus/hrrr.t01z.wrfsfcf01.grib2\n"
     ]
    },
    {
     "name": "stderr",
     "output_type": "stream",
     "text": [
      " 91%|█████████ | 1485/1631 [17:05:41<53:24, 21.95s/it]"
     ]
    },
    {
     "name": "stdout",
     "output_type": "stream",
     "text": [
      "https://noaa-hrrr-bdp-pds.s3.amazonaws.com/hrrr.20210801/conus/hrrr.t01z.wrfsfcf01.grib2\n"
     ]
    },
    {
     "name": "stderr",
     "output_type": "stream",
     "text": [
      " 91%|█████████ | 1486/1631 [17:06:09<57:27, 23.78s/it]"
     ]
    },
    {
     "name": "stdout",
     "output_type": "stream",
     "text": [
      "https://noaa-hrrr-bdp-pds.s3.amazonaws.com/hrrr.20191002/conus/hrrr.t01z.wrfsfcf01.grib2\n"
     ]
    },
    {
     "name": "stderr",
     "output_type": "stream",
     "text": [
      " 91%|█████████ | 1487/1631 [17:06:47<1:07:16, 28.03s/it]"
     ]
    },
    {
     "name": "stdout",
     "output_type": "stream",
     "text": [
      "https://noaa-hrrr-bdp-pds.s3.amazonaws.com/hrrr.20160425/conus/hrrr.t01z.wrfsfcf01.grib2\n"
     ]
    },
    {
     "name": "stderr",
     "output_type": "stream",
     "text": [
      " 91%|█████████ | 1488/1631 [17:07:04<59:07, 24.81s/it]  "
     ]
    },
    {
     "name": "stdout",
     "output_type": "stream",
     "text": [
      "https://noaa-hrrr-bdp-pds.s3.amazonaws.com/hrrr.20170512/conus/hrrr.t01z.wrfsfcf01.grib2\n"
     ]
    },
    {
     "name": "stderr",
     "output_type": "stream",
     "text": [
      " 91%|█████████▏| 1489/1631 [17:07:28<57:36, 24.34s/it]"
     ]
    },
    {
     "name": "stdout",
     "output_type": "stream",
     "text": [
      "https://noaa-hrrr-bdp-pds.s3.amazonaws.com/hrrr.20161004/conus/hrrr.t01z.wrfsfcf01.grib2\n"
     ]
    },
    {
     "name": "stderr",
     "output_type": "stream",
     "text": [
      " 91%|█████████▏| 1490/1631 [17:07:29<40:42, 17.33s/it]"
     ]
    },
    {
     "name": "stdout",
     "output_type": "stream",
     "text": [
      "https://noaa-hrrr-bdp-pds.s3.amazonaws.com/hrrr.20140401/conus/hrrr.t01z.wrfsfcf01.grib2\n"
     ]
    },
    {
     "name": "stderr",
     "output_type": "stream",
     "text": [
      " 91%|█████████▏| 1491/1631 [17:07:30<28:57, 12.41s/it]"
     ]
    },
    {
     "name": "stdout",
     "output_type": "stream",
     "text": [
      "https://noaa-hrrr-bdp-pds.s3.amazonaws.com/hrrr.20151104/conus/hrrr.t01z.wrfsfcf01.grib2\n"
     ]
    },
    {
     "name": "stderr",
     "output_type": "stream",
     "text": [
      " 91%|█████████▏| 1492/1631 [17:07:47<32:35, 14.07s/it]"
     ]
    },
    {
     "name": "stdout",
     "output_type": "stream",
     "text": [
      "https://noaa-hrrr-bdp-pds.s3.amazonaws.com/hrrr.20170530/conus/hrrr.t01z.wrfsfcf01.grib2\n"
     ]
    },
    {
     "name": "stderr",
     "output_type": "stream",
     "text": [
      " 92%|█████████▏| 1493/1631 [17:08:14<41:08, 17.89s/it]"
     ]
    },
    {
     "name": "stdout",
     "output_type": "stream",
     "text": [
      "https://noaa-hrrr-bdp-pds.s3.amazonaws.com/hrrr.20200506/conus/hrrr.t01z.wrfsfcf01.grib2\n"
     ]
    },
    {
     "name": "stderr",
     "output_type": "stream",
     "text": [
      " 92%|█████████▏| 1494/1631 [17:08:38<44:44, 19.60s/it]"
     ]
    },
    {
     "name": "stdout",
     "output_type": "stream",
     "text": [
      "https://noaa-hrrr-bdp-pds.s3.amazonaws.com/hrrr.20200217/conus/hrrr.t01z.wrfsfcf01.grib2\n"
     ]
    },
    {
     "name": "stderr",
     "output_type": "stream",
     "text": [
      " 92%|█████████▏| 1495/1631 [17:09:05<49:24, 21.79s/it]"
     ]
    },
    {
     "name": "stdout",
     "output_type": "stream",
     "text": [
      "https://noaa-hrrr-bdp-pds.s3.amazonaws.com/hrrr.20211101/conus/hrrr.t01z.wrfsfcf01.grib2\n"
     ]
    },
    {
     "name": "stderr",
     "output_type": "stream",
     "text": [
      " 92%|█████████▏| 1496/1631 [17:09:34<53:57, 23.98s/it]"
     ]
    },
    {
     "name": "stdout",
     "output_type": "stream",
     "text": [
      "https://noaa-hrrr-bdp-pds.s3.amazonaws.com/hrrr.20200121/conus/hrrr.t01z.wrfsfcf01.grib2\n"
     ]
    },
    {
     "name": "stderr",
     "output_type": "stream",
     "text": [
      " 92%|█████████▏| 1497/1631 [17:09:59<54:38, 24.47s/it]"
     ]
    },
    {
     "name": "stdout",
     "output_type": "stream",
     "text": [
      "https://noaa-hrrr-bdp-pds.s3.amazonaws.com/hrrr.20180326/conus/hrrr.t01z.wrfsfcf01.grib2\n"
     ]
    },
    {
     "name": "stderr",
     "output_type": "stream",
     "text": [
      " 92%|█████████▏| 1498/1631 [17:10:23<53:37, 24.19s/it]"
     ]
    },
    {
     "name": "stdout",
     "output_type": "stream",
     "text": [
      "https://noaa-hrrr-bdp-pds.s3.amazonaws.com/hrrr.20161028/conus/hrrr.t01z.wrfsfcf01.grib2\n"
     ]
    },
    {
     "name": "stderr",
     "output_type": "stream",
     "text": [
      " 92%|█████████▏| 1499/1631 [17:10:47<53:21, 24.25s/it]"
     ]
    },
    {
     "name": "stdout",
     "output_type": "stream",
     "text": [
      "https://noaa-hrrr-bdp-pds.s3.amazonaws.com/hrrr.20130606/conus/hrrr.t01z.wrfsfcf01.grib2\n"
     ]
    },
    {
     "name": "stderr",
     "output_type": "stream",
     "text": [
      " 92%|█████████▏| 1500/1631 [17:10:48<37:40, 17.25s/it]"
     ]
    },
    {
     "name": "stdout",
     "output_type": "stream",
     "text": [
      "https://noaa-hrrr-bdp-pds.s3.amazonaws.com/hrrr.20140703/conus/hrrr.t01z.wrfsfcf01.grib2\n"
     ]
    },
    {
     "name": "stderr",
     "output_type": "stream",
     "text": [
      " 92%|█████████▏| 1501/1631 [17:10:49<26:48, 12.37s/it]"
     ]
    },
    {
     "name": "stdout",
     "output_type": "stream",
     "text": [
      "https://noaa-hrrr-bdp-pds.s3.amazonaws.com/hrrr.20171023/conus/hrrr.t01z.wrfsfcf01.grib2\n"
     ]
    },
    {
     "name": "stderr",
     "output_type": "stream",
     "text": [
      " 92%|█████████▏| 1502/1631 [17:11:13<33:48, 15.72s/it]"
     ]
    },
    {
     "name": "stdout",
     "output_type": "stream",
     "text": [
      "https://noaa-hrrr-bdp-pds.s3.amazonaws.com/hrrr.20131209/conus/hrrr.t01z.wrfsfcf01.grib2\n"
     ]
    },
    {
     "name": "stderr",
     "output_type": "stream",
     "text": [
      " 92%|█████████▏| 1503/1631 [17:11:14<24:06, 11.30s/it]"
     ]
    },
    {
     "name": "stdout",
     "output_type": "stream",
     "text": [
      "https://noaa-hrrr-bdp-pds.s3.amazonaws.com/hrrr.20160728/conus/hrrr.t01z.wrfsfcf01.grib2\n"
     ]
    },
    {
     "name": "stderr",
     "output_type": "stream",
     "text": [
      " 92%|█████████▏| 1504/1631 [17:11:32<28:12, 13.32s/it]"
     ]
    },
    {
     "name": "stdout",
     "output_type": "stream",
     "text": [
      "https://noaa-hrrr-bdp-pds.s3.amazonaws.com/hrrr.20130702/conus/hrrr.t01z.wrfsfcf01.grib2\n"
     ]
    },
    {
     "name": "stderr",
     "output_type": "stream",
     "text": [
      " 92%|█████████▏| 1505/1631 [17:11:33<20:11,  9.61s/it]"
     ]
    },
    {
     "name": "stdout",
     "output_type": "stream",
     "text": [
      "https://noaa-hrrr-bdp-pds.s3.amazonaws.com/hrrr.20170413/conus/hrrr.t01z.wrfsfcf01.grib2\n"
     ]
    },
    {
     "name": "stderr",
     "output_type": "stream",
     "text": [
      " 92%|█████████▏| 1506/1631 [17:11:58<29:40, 14.25s/it]"
     ]
    },
    {
     "name": "stdout",
     "output_type": "stream",
     "text": [
      "https://noaa-hrrr-bdp-pds.s3.amazonaws.com/hrrr.20141016/conus/hrrr.t01z.wrfsfcf01.grib2\n"
     ]
    },
    {
     "name": "stderr",
     "output_type": "stream",
     "text": [
      " 92%|█████████▏| 1507/1631 [17:12:15<31:24, 15.19s/it]"
     ]
    },
    {
     "name": "stdout",
     "output_type": "stream",
     "text": [
      "https://noaa-hrrr-bdp-pds.s3.amazonaws.com/hrrr.20160605/conus/hrrr.t01z.wrfsfcf01.grib2\n"
     ]
    },
    {
     "name": "stderr",
     "output_type": "stream",
     "text": [
      " 92%|█████████▏| 1508/1631 [17:12:32<32:22, 15.79s/it]"
     ]
    },
    {
     "name": "stdout",
     "output_type": "stream",
     "text": [
      "https://noaa-hrrr-bdp-pds.s3.amazonaws.com/hrrr.20181128/conus/hrrr.t01z.wrfsfcf01.grib2\n"
     ]
    },
    {
     "name": "stderr",
     "output_type": "stream",
     "text": [
      " 93%|█████████▎| 1509/1631 [17:12:57<37:14, 18.32s/it]"
     ]
    },
    {
     "name": "stdout",
     "output_type": "stream",
     "text": [
      "https://noaa-hrrr-bdp-pds.s3.amazonaws.com/hrrr.20130823/conus/hrrr.t01z.wrfsfcf01.grib2\n"
     ]
    },
    {
     "name": "stderr",
     "output_type": "stream",
     "text": [
      " 93%|█████████▎| 1510/1631 [17:12:58<26:25, 13.11s/it]"
     ]
    },
    {
     "name": "stdout",
     "output_type": "stream",
     "text": [
      "https://noaa-hrrr-bdp-pds.s3.amazonaws.com/hrrr.20160819/conus/hrrr.t01z.wrfsfcf01.grib2\n"
     ]
    },
    {
     "name": "stderr",
     "output_type": "stream",
     "text": [
      " 93%|█████████▎| 1511/1631 [17:13:15<28:52, 14.44s/it]"
     ]
    },
    {
     "name": "stdout",
     "output_type": "stream",
     "text": [
      "https://noaa-hrrr-bdp-pds.s3.amazonaws.com/hrrr.20161013/conus/hrrr.t01z.wrfsfcf01.grib2\n"
     ]
    },
    {
     "name": "stderr",
     "output_type": "stream",
     "text": [
      " 93%|█████████▎| 1512/1631 [17:13:39<34:11, 17.24s/it]"
     ]
    },
    {
     "name": "stdout",
     "output_type": "stream",
     "text": [
      "https://noaa-hrrr-bdp-pds.s3.amazonaws.com/hrrr.20210505/conus/hrrr.t01z.wrfsfcf01.grib2\n"
     ]
    },
    {
     "name": "stderr",
     "output_type": "stream",
     "text": [
      " 93%|█████████▎| 1513/1631 [17:14:07<40:12, 20.44s/it]"
     ]
    },
    {
     "name": "stdout",
     "output_type": "stream",
     "text": [
      "https://noaa-hrrr-bdp-pds.s3.amazonaws.com/hrrr.20150625/conus/hrrr.t01z.wrfsfcf01.grib2\n"
     ]
    },
    {
     "name": "stderr",
     "output_type": "stream",
     "text": [
      " 93%|█████████▎| 1514/1631 [17:14:25<38:13, 19.60s/it]"
     ]
    },
    {
     "name": "stdout",
     "output_type": "stream",
     "text": [
      "https://noaa-hrrr-bdp-pds.s3.amazonaws.com/hrrr.20180320/conus/hrrr.t01z.wrfsfcf01.grib2\n"
     ]
    },
    {
     "name": "stderr",
     "output_type": "stream",
     "text": [
      " 93%|█████████▎| 1515/1631 [17:15:00<46:53, 24.25s/it]"
     ]
    },
    {
     "name": "stdout",
     "output_type": "stream",
     "text": [
      "https://noaa-hrrr-bdp-pds.s3.amazonaws.com/hrrr.20130318/conus/hrrr.t01z.wrfsfcf01.grib2\n"
     ]
    },
    {
     "name": "stderr",
     "output_type": "stream",
     "text": [
      " 93%|█████████▎| 1516/1631 [17:15:01<33:04, 17.26s/it]"
     ]
    },
    {
     "name": "stdout",
     "output_type": "stream",
     "text": [
      "https://noaa-hrrr-bdp-pds.s3.amazonaws.com/hrrr.20201021/conus/hrrr.t01z.wrfsfcf01.grib2\n"
     ]
    },
    {
     "name": "stderr",
     "output_type": "stream",
     "text": [
      " 93%|█████████▎| 1517/1631 [17:15:24<36:28, 19.20s/it]"
     ]
    },
    {
     "name": "stdout",
     "output_type": "stream",
     "text": [
      "https://noaa-hrrr-bdp-pds.s3.amazonaws.com/hrrr.20190112/conus/hrrr.t01z.wrfsfcf01.grib2\n"
     ]
    },
    {
     "name": "stderr",
     "output_type": "stream",
     "text": [
      " 93%|█████████▎| 1518/1631 [17:15:48<38:28, 20.43s/it]"
     ]
    },
    {
     "name": "stdout",
     "output_type": "stream",
     "text": [
      "https://noaa-hrrr-bdp-pds.s3.amazonaws.com/hrrr.20170106/conus/hrrr.t01z.wrfsfcf01.grib2\n"
     ]
    },
    {
     "name": "stderr",
     "output_type": "stream",
     "text": [
      " 93%|█████████▎| 1519/1631 [17:16:12<40:32, 21.72s/it]"
     ]
    },
    {
     "name": "stdout",
     "output_type": "stream",
     "text": [
      "https://noaa-hrrr-bdp-pds.s3.amazonaws.com/hrrr.20170113/conus/hrrr.t01z.wrfsfcf01.grib2\n"
     ]
    },
    {
     "name": "stderr",
     "output_type": "stream",
     "text": [
      " 93%|█████████▎| 1520/1631 [17:16:35<40:42, 22.00s/it]"
     ]
    },
    {
     "name": "stdout",
     "output_type": "stream",
     "text": [
      "https://noaa-hrrr-bdp-pds.s3.amazonaws.com/hrrr.20151105/conus/hrrr.t01z.wrfsfcf01.grib2\n"
     ]
    },
    {
     "name": "stderr",
     "output_type": "stream",
     "text": [
      " 93%|█████████▎| 1521/1631 [17:16:53<37:52, 20.66s/it]"
     ]
    },
    {
     "name": "stdout",
     "output_type": "stream",
     "text": [
      "https://noaa-hrrr-bdp-pds.s3.amazonaws.com/hrrr.20130413/conus/hrrr.t01z.wrfsfcf01.grib2\n"
     ]
    },
    {
     "name": "stderr",
     "output_type": "stream",
     "text": [
      " 93%|█████████▎| 1522/1631 [17:16:53<26:47, 14.75s/it]"
     ]
    },
    {
     "name": "stdout",
     "output_type": "stream",
     "text": [
      "https://noaa-hrrr-bdp-pds.s3.amazonaws.com/hrrr.20140506/conus/hrrr.t01z.wrfsfcf01.grib2\n"
     ]
    },
    {
     "name": "stderr",
     "output_type": "stream",
     "text": [
      " 93%|█████████▎| 1523/1631 [17:16:54<19:05, 10.60s/it]"
     ]
    },
    {
     "name": "stdout",
     "output_type": "stream",
     "text": [
      "https://noaa-hrrr-bdp-pds.s3.amazonaws.com/hrrr.20190121/conus/hrrr.t01z.wrfsfcf01.grib2\n"
     ]
    },
    {
     "name": "stderr",
     "output_type": "stream",
     "text": [
      " 93%|█████████▎| 1524/1631 [17:17:18<25:46, 14.45s/it]"
     ]
    },
    {
     "name": "stdout",
     "output_type": "stream",
     "text": [
      "https://noaa-hrrr-bdp-pds.s3.amazonaws.com/hrrr.20150420/conus/hrrr.t01z.wrfsfcf01.grib2\n"
     ]
    },
    {
     "name": "stderr",
     "output_type": "stream",
     "text": [
      " 94%|█████████▎| 1525/1631 [17:17:35<27:03, 15.31s/it]"
     ]
    },
    {
     "name": "stdout",
     "output_type": "stream",
     "text": [
      "https://noaa-hrrr-bdp-pds.s3.amazonaws.com/hrrr.20170219/conus/hrrr.t01z.wrfsfcf01.grib2\n"
     ]
    },
    {
     "name": "stderr",
     "output_type": "stream",
     "text": [
      " 94%|█████████▎| 1526/1631 [17:18:02<32:54, 18.80s/it]"
     ]
    },
    {
     "name": "stdout",
     "output_type": "stream",
     "text": [
      "https://noaa-hrrr-bdp-pds.s3.amazonaws.com/hrrr.20161003/conus/hrrr.t01z.wrfsfcf01.grib2\n"
     ]
    },
    {
     "name": "stderr",
     "output_type": "stream",
     "text": [
      " 94%|█████████▎| 1527/1631 [17:18:45<45:21, 26.17s/it]"
     ]
    },
    {
     "name": "stdout",
     "output_type": "stream",
     "text": [
      "https://noaa-hrrr-bdp-pds.s3.amazonaws.com/hrrr.20130321/conus/hrrr.t01z.wrfsfcf01.grib2\n"
     ]
    },
    {
     "name": "stderr",
     "output_type": "stream",
     "text": [
      " 94%|█████████▎| 1528/1631 [17:18:46<31:56, 18.61s/it]"
     ]
    },
    {
     "name": "stdout",
     "output_type": "stream",
     "text": [
      "https://noaa-hrrr-bdp-pds.s3.amazonaws.com/hrrr.20200406/conus/hrrr.t01z.wrfsfcf01.grib2\n"
     ]
    },
    {
     "name": "stderr",
     "output_type": "stream",
     "text": [
      " 94%|█████████▎| 1529/1631 [17:19:12<35:21, 20.80s/it]"
     ]
    },
    {
     "name": "stdout",
     "output_type": "stream",
     "text": [
      "https://noaa-hrrr-bdp-pds.s3.amazonaws.com/hrrr.20141122/conus/hrrr.t01z.wrfsfcf01.grib2\n"
     ]
    },
    {
     "name": "stderr",
     "output_type": "stream",
     "text": [
      " 94%|█████████▍| 1530/1631 [17:19:31<33:48, 20.08s/it]"
     ]
    },
    {
     "name": "stdout",
     "output_type": "stream",
     "text": [
      "https://noaa-hrrr-bdp-pds.s3.amazonaws.com/hrrr.20200204/conus/hrrr.t01z.wrfsfcf01.grib2\n"
     ]
    },
    {
     "name": "stderr",
     "output_type": "stream",
     "text": [
      " 94%|█████████▍| 1531/1631 [17:19:54<35:17, 21.17s/it]"
     ]
    },
    {
     "name": "stdout",
     "output_type": "stream",
     "text": [
      "https://noaa-hrrr-bdp-pds.s3.amazonaws.com/hrrr.20160928/conus/hrrr.t01z.wrfsfcf01.grib2\n"
     ]
    },
    {
     "name": "stderr",
     "output_type": "stream",
     "text": [
      " 94%|█████████▍| 1532/1631 [17:20:20<37:07, 22.50s/it]"
     ]
    },
    {
     "name": "stdout",
     "output_type": "stream",
     "text": [
      "https://noaa-hrrr-bdp-pds.s3.amazonaws.com/hrrr.20171108/conus/hrrr.t01z.wrfsfcf01.grib2\n"
     ]
    },
    {
     "name": "stderr",
     "output_type": "stream",
     "text": [
      " 94%|█████████▍| 1533/1631 [17:20:56<43:21, 26.54s/it]"
     ]
    },
    {
     "name": "stdout",
     "output_type": "stream",
     "text": [
      "https://noaa-hrrr-bdp-pds.s3.amazonaws.com/hrrr.20170403/conus/hrrr.t01z.wrfsfcf01.grib2\n"
     ]
    },
    {
     "name": "stderr",
     "output_type": "stream",
     "text": [
      " 94%|█████████▍| 1534/1631 [17:21:18<40:51, 25.27s/it]"
     ]
    },
    {
     "name": "stdout",
     "output_type": "stream",
     "text": [
      "https://noaa-hrrr-bdp-pds.s3.amazonaws.com/hrrr.20170220/conus/hrrr.t01z.wrfsfcf01.grib2\n"
     ]
    },
    {
     "name": "stderr",
     "output_type": "stream",
     "text": [
      " 94%|█████████▍| 1535/1631 [17:21:41<39:23, 24.62s/it]"
     ]
    },
    {
     "name": "stdout",
     "output_type": "stream",
     "text": [
      "https://noaa-hrrr-bdp-pds.s3.amazonaws.com/hrrr.20180413/conus/hrrr.t01z.wrfsfcf01.grib2\n"
     ]
    },
    {
     "name": "stderr",
     "output_type": "stream",
     "text": [
      " 94%|█████████▍| 1536/1631 [17:22:05<38:20, 24.22s/it]"
     ]
    },
    {
     "name": "stdout",
     "output_type": "stream",
     "text": [
      "https://noaa-hrrr-bdp-pds.s3.amazonaws.com/hrrr.20130125/conus/hrrr.t01z.wrfsfcf01.grib2\n"
     ]
    },
    {
     "name": "stderr",
     "output_type": "stream",
     "text": [
      " 94%|█████████▍| 1537/1631 [17:22:06<26:59, 17.23s/it]"
     ]
    },
    {
     "name": "stdout",
     "output_type": "stream",
     "text": [
      "https://noaa-hrrr-bdp-pds.s3.amazonaws.com/hrrr.20170820/conus/hrrr.t01z.wrfsfcf01.grib2\n"
     ]
    },
    {
     "name": "stderr",
     "output_type": "stream",
     "text": [
      " 94%|█████████▍| 1538/1631 [17:22:28<29:05, 18.76s/it]"
     ]
    },
    {
     "name": "stdout",
     "output_type": "stream",
     "text": [
      "https://noaa-hrrr-bdp-pds.s3.amazonaws.com/hrrr.20170805/conus/hrrr.t01z.wrfsfcf01.grib2\n"
     ]
    },
    {
     "name": "stderr",
     "output_type": "stream",
     "text": [
      " 94%|█████████▍| 1539/1631 [17:22:51<30:50, 20.12s/it]"
     ]
    },
    {
     "name": "stdout",
     "output_type": "stream",
     "text": [
      "https://noaa-hrrr-bdp-pds.s3.amazonaws.com/hrrr.20171031/conus/hrrr.t01z.wrfsfcf01.grib2\n"
     ]
    },
    {
     "name": "stderr",
     "output_type": "stream",
     "text": [
      " 94%|█████████▍| 1540/1631 [17:23:14<31:54, 21.04s/it]"
     ]
    },
    {
     "name": "stdout",
     "output_type": "stream",
     "text": [
      "https://noaa-hrrr-bdp-pds.s3.amazonaws.com/hrrr.20130608/conus/hrrr.t01z.wrfsfcf01.grib2\n"
     ]
    },
    {
     "name": "stderr",
     "output_type": "stream",
     "text": [
      " 94%|█████████▍| 1541/1631 [17:23:15<22:30, 15.01s/it]"
     ]
    },
    {
     "name": "stdout",
     "output_type": "stream",
     "text": [
      "https://noaa-hrrr-bdp-pds.s3.amazonaws.com/hrrr.20130306/conus/hrrr.t01z.wrfsfcf01.grib2\n"
     ]
    },
    {
     "name": "stderr",
     "output_type": "stream",
     "text": [
      " 95%|█████████▍| 1542/1631 [17:23:16<16:00, 10.79s/it]"
     ]
    },
    {
     "name": "stdout",
     "output_type": "stream",
     "text": [
      "https://noaa-hrrr-bdp-pds.s3.amazonaws.com/hrrr.20131105/conus/hrrr.t01z.wrfsfcf01.grib2\n"
     ]
    },
    {
     "name": "stderr",
     "output_type": "stream",
     "text": [
      " 95%|█████████▍| 1543/1631 [17:23:17<11:29,  7.83s/it]"
     ]
    },
    {
     "name": "stdout",
     "output_type": "stream",
     "text": [
      "https://noaa-hrrr-bdp-pds.s3.amazonaws.com/hrrr.20141030/conus/hrrr.t01z.wrfsfcf01.grib2\n"
     ]
    },
    {
     "name": "stderr",
     "output_type": "stream",
     "text": [
      " 95%|█████████▍| 1544/1631 [17:23:46<20:18, 14.01s/it]"
     ]
    },
    {
     "name": "stdout",
     "output_type": "stream",
     "text": [
      "https://noaa-hrrr-bdp-pds.s3.amazonaws.com/hrrr.20170215/conus/hrrr.t01z.wrfsfcf01.grib2\n"
     ]
    },
    {
     "name": "stderr",
     "output_type": "stream",
     "text": [
      " 95%|█████████▍| 1545/1631 [17:24:09<24:13, 16.90s/it]"
     ]
    },
    {
     "name": "stdout",
     "output_type": "stream",
     "text": [
      "https://noaa-hrrr-bdp-pds.s3.amazonaws.com/hrrr.20200805/conus/hrrr.t01z.wrfsfcf01.grib2\n"
     ]
    },
    {
     "name": "stderr",
     "output_type": "stream",
     "text": [
      " 95%|█████████▍| 1546/1631 [17:24:37<28:41, 20.25s/it]"
     ]
    },
    {
     "name": "stdout",
     "output_type": "stream",
     "text": [
      "https://noaa-hrrr-bdp-pds.s3.amazonaws.com/hrrr.20160126/conus/hrrr.t01z.wrfsfcf01.grib2\n"
     ]
    },
    {
     "name": "stderr",
     "output_type": "stream",
     "text": [
      " 95%|█████████▍| 1547/1631 [17:24:57<28:08, 20.10s/it]"
     ]
    },
    {
     "name": "stdout",
     "output_type": "stream",
     "text": [
      "https://noaa-hrrr-bdp-pds.s3.amazonaws.com/hrrr.20140127/conus/hrrr.t01z.wrfsfcf01.grib2\n"
     ]
    },
    {
     "name": "stderr",
     "output_type": "stream",
     "text": [
      " 95%|█████████▍| 1548/1631 [17:24:58<19:51, 14.35s/it]"
     ]
    },
    {
     "name": "stdout",
     "output_type": "stream",
     "text": [
      "https://noaa-hrrr-bdp-pds.s3.amazonaws.com/hrrr.20150623/conus/hrrr.t01z.wrfsfcf01.grib2\n"
     ]
    },
    {
     "name": "stderr",
     "output_type": "stream",
     "text": [
      " 95%|█████████▍| 1549/1631 [17:25:17<21:17, 15.58s/it]"
     ]
    },
    {
     "name": "stdout",
     "output_type": "stream",
     "text": [
      "https://noaa-hrrr-bdp-pds.s3.amazonaws.com/hrrr.20200622/conus/hrrr.t01z.wrfsfcf01.grib2\n"
     ]
    },
    {
     "name": "stderr",
     "output_type": "stream",
     "text": [
      " 95%|█████████▌| 1550/1631 [17:25:40<24:06, 17.86s/it]"
     ]
    },
    {
     "name": "stdout",
     "output_type": "stream",
     "text": [
      "https://noaa-hrrr-bdp-pds.s3.amazonaws.com/hrrr.20200731/conus/hrrr.t01z.wrfsfcf01.grib2\n"
     ]
    },
    {
     "name": "stderr",
     "output_type": "stream",
     "text": [
      " 95%|█████████▌| 1551/1631 [17:26:05<26:42, 20.03s/it]"
     ]
    },
    {
     "name": "stdout",
     "output_type": "stream",
     "text": [
      "https://noaa-hrrr-bdp-pds.s3.amazonaws.com/hrrr.20130315/conus/hrrr.t01z.wrfsfcf01.grib2\n"
     ]
    },
    {
     "name": "stderr",
     "output_type": "stream",
     "text": [
      " 95%|█████████▌| 1552/1631 [17:26:06<18:49, 14.30s/it]"
     ]
    },
    {
     "name": "stdout",
     "output_type": "stream",
     "text": [
      "https://noaa-hrrr-bdp-pds.s3.amazonaws.com/hrrr.20191218/conus/hrrr.t01z.wrfsfcf01.grib2\n"
     ]
    },
    {
     "name": "stderr",
     "output_type": "stream",
     "text": [
      " 95%|█████████▌| 1553/1631 [17:26:29<22:00, 16.93s/it]"
     ]
    },
    {
     "name": "stdout",
     "output_type": "stream",
     "text": [
      "https://noaa-hrrr-bdp-pds.s3.amazonaws.com/hrrr.20150815/conus/hrrr.t01z.wrfsfcf01.grib2\n"
     ]
    },
    {
     "name": "stderr",
     "output_type": "stream",
     "text": [
      " 95%|█████████▌| 1554/1631 [17:26:46<21:53, 17.06s/it]"
     ]
    },
    {
     "name": "stdout",
     "output_type": "stream",
     "text": [
      "https://noaa-hrrr-bdp-pds.s3.amazonaws.com/hrrr.20170707/conus/hrrr.t01z.wrfsfcf01.grib2\n"
     ]
    },
    {
     "name": "stderr",
     "output_type": "stream",
     "text": [
      " 95%|█████████▌| 1555/1631 [17:27:09<23:49, 18.81s/it]"
     ]
    },
    {
     "name": "stdout",
     "output_type": "stream",
     "text": [
      "https://noaa-hrrr-bdp-pds.s3.amazonaws.com/hrrr.20151015/conus/hrrr.t01z.wrfsfcf01.grib2\n"
     ]
    },
    {
     "name": "stderr",
     "output_type": "stream",
     "text": [
      " 95%|█████████▌| 1556/1631 [17:27:27<23:04, 18.46s/it]"
     ]
    },
    {
     "name": "stdout",
     "output_type": "stream",
     "text": [
      "https://noaa-hrrr-bdp-pds.s3.amazonaws.com/hrrr.20150525/conus/hrrr.t01z.wrfsfcf01.grib2\n"
     ]
    },
    {
     "name": "stderr",
     "output_type": "stream",
     "text": [
      " 95%|█████████▌| 1557/1631 [17:27:45<22:34, 18.31s/it]"
     ]
    },
    {
     "name": "stdout",
     "output_type": "stream",
     "text": [
      "https://noaa-hrrr-bdp-pds.s3.amazonaws.com/hrrr.20211104/conus/hrrr.t01z.wrfsfcf01.grib2\n"
     ]
    },
    {
     "name": "stderr",
     "output_type": "stream",
     "text": [
      " 96%|█████████▌| 1558/1631 [17:28:14<26:16, 21.60s/it]"
     ]
    },
    {
     "name": "stdout",
     "output_type": "stream",
     "text": [
      "https://noaa-hrrr-bdp-pds.s3.amazonaws.com/hrrr.20160316/conus/hrrr.t01z.wrfsfcf01.grib2\n"
     ]
    },
    {
     "name": "stderr",
     "output_type": "stream",
     "text": [
      " 96%|█████████▌| 1559/1631 [17:28:32<24:30, 20.43s/it]"
     ]
    },
    {
     "name": "stdout",
     "output_type": "stream",
     "text": [
      "https://noaa-hrrr-bdp-pds.s3.amazonaws.com/hrrr.20190429/conus/hrrr.t01z.wrfsfcf01.grib2\n"
     ]
    },
    {
     "name": "stderr",
     "output_type": "stream",
     "text": [
      " 96%|█████████▌| 1560/1631 [17:28:56<25:35, 21.62s/it]"
     ]
    },
    {
     "name": "stdout",
     "output_type": "stream",
     "text": [
      "https://noaa-hrrr-bdp-pds.s3.amazonaws.com/hrrr.20210211/conus/hrrr.t01z.wrfsfcf01.grib2\n"
     ]
    },
    {
     "name": "stderr",
     "output_type": "stream",
     "text": [
      " 96%|█████████▌| 1561/1631 [17:29:24<27:27, 23.53s/it]"
     ]
    },
    {
     "name": "stdout",
     "output_type": "stream",
     "text": [
      "https://noaa-hrrr-bdp-pds.s3.amazonaws.com/hrrr.20170501/conus/hrrr.t01z.wrfsfcf01.grib2\n"
     ]
    },
    {
     "name": "stderr",
     "output_type": "stream",
     "text": [
      " 96%|█████████▌| 1562/1631 [17:29:48<27:05, 23.56s/it]"
     ]
    },
    {
     "name": "stdout",
     "output_type": "stream",
     "text": [
      "https://noaa-hrrr-bdp-pds.s3.amazonaws.com/hrrr.20170812/conus/hrrr.t01z.wrfsfcf01.grib2\n"
     ]
    },
    {
     "name": "stderr",
     "output_type": "stream",
     "text": [
      " 96%|█████████▌| 1563/1631 [17:30:24<30:55, 27.29s/it]"
     ]
    },
    {
     "name": "stdout",
     "output_type": "stream",
     "text": [
      "https://noaa-hrrr-bdp-pds.s3.amazonaws.com/hrrr.20151028/conus/hrrr.t01z.wrfsfcf01.grib2\n"
     ]
    },
    {
     "name": "stderr",
     "output_type": "stream",
     "text": [
      " 96%|█████████▌| 1564/1631 [17:30:41<27:08, 24.31s/it]"
     ]
    },
    {
     "name": "stdout",
     "output_type": "stream",
     "text": [
      "https://noaa-hrrr-bdp-pds.s3.amazonaws.com/hrrr.20170508/conus/hrrr.t01z.wrfsfcf01.grib2\n"
     ]
    },
    {
     "name": "stderr",
     "output_type": "stream",
     "text": [
      " 96%|█████████▌| 1565/1631 [17:31:17<30:42, 27.91s/it]"
     ]
    },
    {
     "name": "stdout",
     "output_type": "stream",
     "text": [
      "https://noaa-hrrr-bdp-pds.s3.amazonaws.com/hrrr.20191127/conus/hrrr.t01z.wrfsfcf01.grib2\n"
     ]
    },
    {
     "name": "stderr",
     "output_type": "stream",
     "text": [
      " 96%|█████████▌| 1566/1631 [17:31:41<28:52, 26.65s/it]"
     ]
    },
    {
     "name": "stdout",
     "output_type": "stream",
     "text": [
      "https://noaa-hrrr-bdp-pds.s3.amazonaws.com/hrrr.20180825/conus/hrrr.t01z.wrfsfcf01.grib2\n"
     ]
    },
    {
     "name": "stderr",
     "output_type": "stream",
     "text": [
      " 96%|█████████▌| 1567/1631 [17:32:04<27:20, 25.64s/it]"
     ]
    },
    {
     "name": "stdout",
     "output_type": "stream",
     "text": [
      "https://noaa-hrrr-bdp-pds.s3.amazonaws.com/hrrr.20200303/conus/hrrr.t01z.wrfsfcf01.grib2\n"
     ]
    },
    {
     "name": "stderr",
     "output_type": "stream",
     "text": [
      " 96%|█████████▌| 1568/1631 [17:32:29<26:29, 25.23s/it]"
     ]
    },
    {
     "name": "stdout",
     "output_type": "stream",
     "text": [
      "https://noaa-hrrr-bdp-pds.s3.amazonaws.com/hrrr.20201125/conus/hrrr.t01z.wrfsfcf01.grib2\n"
     ]
    },
    {
     "name": "stderr",
     "output_type": "stream",
     "text": [
      " 96%|█████████▌| 1569/1631 [17:32:52<25:29, 24.67s/it]"
     ]
    },
    {
     "name": "stdout",
     "output_type": "stream",
     "text": [
      "https://noaa-hrrr-bdp-pds.s3.amazonaws.com/hrrr.20170503/conus/hrrr.t01z.wrfsfcf01.grib2\n"
     ]
    },
    {
     "name": "stderr",
     "output_type": "stream",
     "text": [
      " 96%|█████████▋| 1570/1631 [17:33:16<24:54, 24.50s/it]"
     ]
    },
    {
     "name": "stdout",
     "output_type": "stream",
     "text": [
      "https://noaa-hrrr-bdp-pds.s3.amazonaws.com/hrrr.20140518/conus/hrrr.t01z.wrfsfcf01.grib2\n"
     ]
    },
    {
     "name": "stderr",
     "output_type": "stream",
     "text": [
      " 96%|█████████▋| 1571/1631 [17:33:17<17:26, 17.44s/it]"
     ]
    },
    {
     "name": "stdout",
     "output_type": "stream",
     "text": [
      "https://noaa-hrrr-bdp-pds.s3.amazonaws.com/hrrr.20131118/conus/hrrr.t01z.wrfsfcf01.grib2\n"
     ]
    },
    {
     "name": "stderr",
     "output_type": "stream",
     "text": [
      " 96%|█████████▋| 1572/1631 [17:33:18<12:17, 12.50s/it]"
     ]
    },
    {
     "name": "stdout",
     "output_type": "stream",
     "text": [
      "https://noaa-hrrr-bdp-pds.s3.amazonaws.com/hrrr.20160114/conus/hrrr.t01z.wrfsfcf01.grib2\n"
     ]
    },
    {
     "name": "stderr",
     "output_type": "stream",
     "text": [
      " 96%|█████████▋| 1573/1631 [17:33:35<13:26, 13.90s/it]"
     ]
    },
    {
     "name": "stdout",
     "output_type": "stream",
     "text": [
      "https://noaa-hrrr-bdp-pds.s3.amazonaws.com/hrrr.20201019/conus/hrrr.t01z.wrfsfcf01.grib2\n"
     ]
    },
    {
     "name": "stderr",
     "output_type": "stream",
     "text": [
      " 97%|█████████▋| 1574/1631 [17:34:00<16:22, 17.24s/it]"
     ]
    },
    {
     "name": "stdout",
     "output_type": "stream",
     "text": [
      "https://noaa-hrrr-bdp-pds.s3.amazonaws.com/hrrr.20130331/conus/hrrr.t01z.wrfsfcf01.grib2\n"
     ]
    },
    {
     "name": "stderr",
     "output_type": "stream",
     "text": [
      " 97%|█████████▋| 1575/1631 [17:34:01<11:31, 12.35s/it]"
     ]
    },
    {
     "name": "stdout",
     "output_type": "stream",
     "text": [
      "https://noaa-hrrr-bdp-pds.s3.amazonaws.com/hrrr.20180529/conus/hrrr.t01z.wrfsfcf01.grib2\n"
     ]
    },
    {
     "name": "stderr",
     "output_type": "stream",
     "text": [
      " 97%|█████████▋| 1576/1631 [17:34:28<15:11, 16.58s/it]"
     ]
    },
    {
     "name": "stdout",
     "output_type": "stream",
     "text": [
      "https://noaa-hrrr-bdp-pds.s3.amazonaws.com/hrrr.20200415/conus/hrrr.t01z.wrfsfcf01.grib2\n"
     ]
    },
    {
     "name": "stderr",
     "output_type": "stream",
     "text": [
      " 97%|█████████▋| 1577/1631 [17:34:52<16:59, 18.87s/it]"
     ]
    },
    {
     "name": "stdout",
     "output_type": "stream",
     "text": [
      "https://noaa-hrrr-bdp-pds.s3.amazonaws.com/hrrr.20131016/conus/hrrr.t01z.wrfsfcf01.grib2\n"
     ]
    },
    {
     "name": "stderr",
     "output_type": "stream",
     "text": [
      " 97%|█████████▋| 1578/1631 [17:34:53<11:55, 13.51s/it]"
     ]
    },
    {
     "name": "stdout",
     "output_type": "stream",
     "text": [
      "https://noaa-hrrr-bdp-pds.s3.amazonaws.com/hrrr.20191125/conus/hrrr.t01z.wrfsfcf01.grib2\n"
     ]
    },
    {
     "name": "stderr",
     "output_type": "stream",
     "text": [
      " 97%|█████████▋| 1579/1631 [17:35:16<14:19, 16.53s/it]"
     ]
    },
    {
     "name": "stdout",
     "output_type": "stream",
     "text": [
      "https://noaa-hrrr-bdp-pds.s3.amazonaws.com/hrrr.20130607/conus/hrrr.t01z.wrfsfcf01.grib2\n"
     ]
    },
    {
     "name": "stderr",
     "output_type": "stream",
     "text": [
      " 97%|█████████▋| 1580/1631 [17:35:17<10:04, 11.86s/it]"
     ]
    },
    {
     "name": "stdout",
     "output_type": "stream",
     "text": [
      "https://noaa-hrrr-bdp-pds.s3.amazonaws.com/hrrr.20170407/conus/hrrr.t01z.wrfsfcf01.grib2\n"
     ]
    },
    {
     "name": "stderr",
     "output_type": "stream",
     "text": [
      " 97%|█████████▋| 1581/1631 [17:35:40<12:38, 15.17s/it]"
     ]
    },
    {
     "name": "stdout",
     "output_type": "stream",
     "text": [
      "https://noaa-hrrr-bdp-pds.s3.amazonaws.com/hrrr.20200220/conus/hrrr.t01z.wrfsfcf01.grib2\n"
     ]
    },
    {
     "name": "stderr",
     "output_type": "stream",
     "text": [
      " 97%|█████████▋| 1582/1631 [17:36:04<14:24, 17.63s/it]"
     ]
    },
    {
     "name": "stdout",
     "output_type": "stream",
     "text": [
      "https://noaa-hrrr-bdp-pds.s3.amazonaws.com/hrrr.20140202/conus/hrrr.t01z.wrfsfcf01.grib2\n"
     ]
    },
    {
     "name": "stderr",
     "output_type": "stream",
     "text": [
      " 97%|█████████▋| 1583/1631 [17:36:05<10:06, 12.63s/it]"
     ]
    },
    {
     "name": "stdout",
     "output_type": "stream",
     "text": [
      "https://noaa-hrrr-bdp-pds.s3.amazonaws.com/hrrr.20170901/conus/hrrr.t01z.wrfsfcf01.grib2\n"
     ]
    },
    {
     "name": "stderr",
     "output_type": "stream",
     "text": [
      " 97%|█████████▋| 1584/1631 [17:36:26<12:00, 15.32s/it]"
     ]
    },
    {
     "name": "stdout",
     "output_type": "stream",
     "text": [
      "https://noaa-hrrr-bdp-pds.s3.amazonaws.com/hrrr.20130802/conus/hrrr.t01z.wrfsfcf01.grib2\n"
     ]
    },
    {
     "name": "stderr",
     "output_type": "stream",
     "text": [
      " 97%|█████████▋| 1585/1631 [17:36:27<08:26, 11.01s/it]"
     ]
    },
    {
     "name": "stdout",
     "output_type": "stream",
     "text": [
      "https://noaa-hrrr-bdp-pds.s3.amazonaws.com/hrrr.20180115/conus/hrrr.t01z.wrfsfcf01.grib2\n"
     ]
    },
    {
     "name": "stderr",
     "output_type": "stream",
     "text": [
      " 97%|█████████▋| 1586/1631 [17:36:49<10:37, 14.16s/it]"
     ]
    },
    {
     "name": "stdout",
     "output_type": "stream",
     "text": [
      "https://noaa-hrrr-bdp-pds.s3.amazonaws.com/hrrr.20201009/conus/hrrr.t01z.wrfsfcf01.grib2\n"
     ]
    },
    {
     "name": "stderr",
     "output_type": "stream",
     "text": [
      " 97%|█████████▋| 1587/1631 [17:37:11<12:08, 16.55s/it]"
     ]
    },
    {
     "name": "stdout",
     "output_type": "stream",
     "text": [
      "https://noaa-hrrr-bdp-pds.s3.amazonaws.com/hrrr.20201104/conus/hrrr.t01z.wrfsfcf01.grib2\n"
     ]
    },
    {
     "name": "stderr",
     "output_type": "stream",
     "text": [
      " 97%|█████████▋| 1588/1631 [17:37:32<12:55, 18.03s/it]"
     ]
    },
    {
     "name": "stdout",
     "output_type": "stream",
     "text": [
      "https://noaa-hrrr-bdp-pds.s3.amazonaws.com/hrrr.20141121/conus/hrrr.t01z.wrfsfcf01.grib2\n"
     ]
    },
    {
     "name": "stderr",
     "output_type": "stream",
     "text": [
      " 97%|█████████▋| 1589/1631 [17:37:49<12:17, 17.56s/it]"
     ]
    },
    {
     "name": "stdout",
     "output_type": "stream",
     "text": [
      "https://noaa-hrrr-bdp-pds.s3.amazonaws.com/hrrr.20180303/conus/hrrr.t01z.wrfsfcf01.grib2\n"
     ]
    },
    {
     "name": "stderr",
     "output_type": "stream",
     "text": [
      " 97%|█████████▋| 1590/1631 [17:38:13<13:21, 19.55s/it]"
     ]
    },
    {
     "name": "stdout",
     "output_type": "stream",
     "text": [
      "https://noaa-hrrr-bdp-pds.s3.amazonaws.com/hrrr.20170611/conus/hrrr.t01z.wrfsfcf01.grib2\n"
     ]
    },
    {
     "name": "stderr",
     "output_type": "stream",
     "text": [
      " 98%|█████████▊| 1591/1631 [17:38:36<13:41, 20.54s/it]"
     ]
    },
    {
     "name": "stdout",
     "output_type": "stream",
     "text": [
      "https://noaa-hrrr-bdp-pds.s3.amazonaws.com/hrrr.20191121/conus/hrrr.t01z.wrfsfcf01.grib2\n"
     ]
    },
    {
     "name": "stderr",
     "output_type": "stream",
     "text": [
      " 98%|█████████▊| 1592/1631 [17:39:00<13:58, 21.51s/it]"
     ]
    },
    {
     "name": "stdout",
     "output_type": "stream",
     "text": [
      "https://noaa-hrrr-bdp-pds.s3.amazonaws.com/hrrr.20130508/conus/hrrr.t01z.wrfsfcf01.grib2\n"
     ]
    },
    {
     "name": "stderr",
     "output_type": "stream",
     "text": [
      " 98%|█████████▊| 1593/1631 [17:39:00<09:42, 15.33s/it]"
     ]
    },
    {
     "name": "stdout",
     "output_type": "stream",
     "text": [
      "https://noaa-hrrr-bdp-pds.s3.amazonaws.com/hrrr.20161020/conus/hrrr.t01z.wrfsfcf01.grib2\n"
     ]
    },
    {
     "name": "stderr",
     "output_type": "stream",
     "text": [
      " 98%|█████████▊| 1594/1631 [17:39:23<10:46, 17.46s/it]"
     ]
    },
    {
     "name": "stdout",
     "output_type": "stream",
     "text": [
      "https://noaa-hrrr-bdp-pds.s3.amazonaws.com/hrrr.20170625/conus/hrrr.t01z.wrfsfcf01.grib2\n"
     ]
    },
    {
     "name": "stderr",
     "output_type": "stream",
     "text": [
      " 98%|█████████▊| 1595/1631 [17:39:45<11:21, 18.94s/it]"
     ]
    },
    {
     "name": "stdout",
     "output_type": "stream",
     "text": [
      "https://noaa-hrrr-bdp-pds.s3.amazonaws.com/hrrr.20211109/conus/hrrr.t01z.wrfsfcf01.grib2\n"
     ]
    },
    {
     "name": "stderr",
     "output_type": "stream",
     "text": [
      " 98%|█████████▊| 1596/1631 [17:40:22<14:08, 24.25s/it]"
     ]
    },
    {
     "name": "stdout",
     "output_type": "stream",
     "text": [
      "https://noaa-hrrr-bdp-pds.s3.amazonaws.com/hrrr.20211129/conus/hrrr.t01z.wrfsfcf01.grib2\n"
     ]
    },
    {
     "name": "stderr",
     "output_type": "stream",
     "text": [
      " 98%|█████████▊| 1597/1631 [17:40:47<13:52, 24.48s/it]"
     ]
    },
    {
     "name": "stdout",
     "output_type": "stream",
     "text": [
      "https://noaa-hrrr-bdp-pds.s3.amazonaws.com/hrrr.20190315/conus/hrrr.t01z.wrfsfcf01.grib2\n"
     ]
    },
    {
     "name": "stderr",
     "output_type": "stream",
     "text": [
      " 98%|█████████▊| 1598/1631 [17:41:10<13:10, 23.96s/it]"
     ]
    },
    {
     "name": "stdout",
     "output_type": "stream",
     "text": [
      "https://noaa-hrrr-bdp-pds.s3.amazonaws.com/hrrr.20160907/conus/hrrr.t01z.wrfsfcf01.grib2\n"
     ]
    },
    {
     "name": "stderr",
     "output_type": "stream",
     "text": [
      " 98%|█████████▊| 1599/1631 [17:41:32<12:35, 23.62s/it]"
     ]
    },
    {
     "name": "stdout",
     "output_type": "stream",
     "text": [
      "https://noaa-hrrr-bdp-pds.s3.amazonaws.com/hrrr.20140901/conus/hrrr.t01z.wrfsfcf01.grib2\n"
     ]
    },
    {
     "name": "stderr",
     "output_type": "stream",
     "text": [
      " 98%|█████████▊| 1600/1631 [17:41:50<11:14, 21.77s/it]"
     ]
    },
    {
     "name": "stdout",
     "output_type": "stream",
     "text": [
      "https://noaa-hrrr-bdp-pds.s3.amazonaws.com/hrrr.20160505/conus/hrrr.t01z.wrfsfcf01.grib2\n"
     ]
    },
    {
     "name": "stderr",
     "output_type": "stream",
     "text": [
      " 98%|█████████▊| 1601/1631 [17:42:08<10:16, 20.56s/it]"
     ]
    },
    {
     "name": "stdout",
     "output_type": "stream",
     "text": [
      "https://noaa-hrrr-bdp-pds.s3.amazonaws.com/hrrr.20210331/conus/hrrr.t01z.wrfsfcf01.grib2\n"
     ]
    },
    {
     "name": "stderr",
     "output_type": "stream",
     "text": [
      " 98%|█████████▊| 1602/1631 [17:42:34<10:42, 22.17s/it]"
     ]
    },
    {
     "name": "stdout",
     "output_type": "stream",
     "text": [
      "https://noaa-hrrr-bdp-pds.s3.amazonaws.com/hrrr.20211102/conus/hrrr.t01z.wrfsfcf01.grib2\n"
     ]
    },
    {
     "name": "stderr",
     "output_type": "stream",
     "text": [
      " 98%|█████████▊| 1603/1631 [17:43:01<11:05, 23.77s/it]"
     ]
    },
    {
     "name": "stdout",
     "output_type": "stream",
     "text": [
      "https://noaa-hrrr-bdp-pds.s3.amazonaws.com/hrrr.20141031/conus/hrrr.t01z.wrfsfcf01.grib2\n"
     ]
    },
    {
     "name": "stderr",
     "output_type": "stream",
     "text": [
      " 98%|█████████▊| 1604/1631 [17:43:30<11:22, 25.28s/it]"
     ]
    },
    {
     "name": "stdout",
     "output_type": "stream",
     "text": [
      "https://noaa-hrrr-bdp-pds.s3.amazonaws.com/hrrr.20170320/conus/hrrr.t01z.wrfsfcf01.grib2\n"
     ]
    },
    {
     "name": "stderr",
     "output_type": "stream",
     "text": [
      " 98%|█████████▊| 1605/1631 [17:43:52<10:36, 24.47s/it]"
     ]
    },
    {
     "name": "stdout",
     "output_type": "stream",
     "text": [
      "https://noaa-hrrr-bdp-pds.s3.amazonaws.com/hrrr.20160629/conus/hrrr.t01z.wrfsfcf01.grib2\n"
     ]
    },
    {
     "name": "stderr",
     "output_type": "stream",
     "text": [
      " 98%|█████████▊| 1606/1631 [17:44:10<09:21, 22.46s/it]"
     ]
    },
    {
     "name": "stdout",
     "output_type": "stream",
     "text": [
      "https://noaa-hrrr-bdp-pds.s3.amazonaws.com/hrrr.20161108/conus/hrrr.t01z.wrfsfcf01.grib2\n"
     ]
    },
    {
     "name": "stderr",
     "output_type": "stream",
     "text": [
      " 99%|█████████▊| 1607/1631 [17:44:44<10:20, 25.85s/it]"
     ]
    },
    {
     "name": "stdout",
     "output_type": "stream",
     "text": [
      "https://noaa-hrrr-bdp-pds.s3.amazonaws.com/hrrr.20190506/conus/hrrr.t01z.wrfsfcf01.grib2\n"
     ]
    },
    {
     "name": "stderr",
     "output_type": "stream",
     "text": [
      " 99%|█████████▊| 1608/1631 [17:45:07<09:35, 25.01s/it]"
     ]
    },
    {
     "name": "stdout",
     "output_type": "stream",
     "text": [
      "https://noaa-hrrr-bdp-pds.s3.amazonaws.com/hrrr.20180207/conus/hrrr.t01z.wrfsfcf01.grib2\n"
     ]
    },
    {
     "name": "stderr",
     "output_type": "stream",
     "text": [
      " 99%|█████████▊| 1609/1631 [17:45:29<08:47, 23.98s/it]"
     ]
    },
    {
     "name": "stdout",
     "output_type": "stream",
     "text": [
      "https://noaa-hrrr-bdp-pds.s3.amazonaws.com/hrrr.20131002/conus/hrrr.t01z.wrfsfcf01.grib2\n"
     ]
    },
    {
     "name": "stderr",
     "output_type": "stream",
     "text": [
      " 99%|█████████▊| 1610/1631 [17:45:30<05:58, 17.08s/it]"
     ]
    },
    {
     "name": "stdout",
     "output_type": "stream",
     "text": [
      "https://noaa-hrrr-bdp-pds.s3.amazonaws.com/hrrr.20201124/conus/hrrr.t01z.wrfsfcf01.grib2\n"
     ]
    },
    {
     "name": "stderr",
     "output_type": "stream",
     "text": [
      " 99%|█████████▉| 1611/1631 [17:46:03<07:21, 22.07s/it]"
     ]
    },
    {
     "name": "stdout",
     "output_type": "stream",
     "text": [
      "https://noaa-hrrr-bdp-pds.s3.amazonaws.com/hrrr.20141218/conus/hrrr.t01z.wrfsfcf01.grib2\n"
     ]
    },
    {
     "name": "stderr",
     "output_type": "stream",
     "text": [
      " 99%|█████████▉| 1612/1631 [17:46:20<06:28, 20.44s/it]"
     ]
    },
    {
     "name": "stdout",
     "output_type": "stream",
     "text": [
      "https://noaa-hrrr-bdp-pds.s3.amazonaws.com/hrrr.20191113/conus/hrrr.t01z.wrfsfcf01.grib2\n"
     ]
    },
    {
     "name": "stderr",
     "output_type": "stream",
     "text": [
      " 99%|█████████▉| 1613/1631 [17:46:43<06:19, 21.11s/it]"
     ]
    },
    {
     "name": "stdout",
     "output_type": "stream",
     "text": [
      "https://noaa-hrrr-bdp-pds.s3.amazonaws.com/hrrr.20190218/conus/hrrr.t01z.wrfsfcf01.grib2\n"
     ]
    },
    {
     "name": "stderr",
     "output_type": "stream",
     "text": [
      " 99%|█████████▉| 1614/1631 [17:47:05<06:06, 21.58s/it]"
     ]
    },
    {
     "name": "stdout",
     "output_type": "stream",
     "text": [
      "https://noaa-hrrr-bdp-pds.s3.amazonaws.com/hrrr.20211110/conus/hrrr.t01z.wrfsfcf01.grib2\n"
     ]
    },
    {
     "name": "stderr",
     "output_type": "stream",
     "text": [
      " 99%|█████████▉| 1615/1631 [17:47:31<06:06, 22.92s/it]"
     ]
    },
    {
     "name": "stdout",
     "output_type": "stream",
     "text": [
      "https://noaa-hrrr-bdp-pds.s3.amazonaws.com/hrrr.20181005/conus/hrrr.t01z.wrfsfcf01.grib2\n"
     ]
    },
    {
     "name": "stderr",
     "output_type": "stream",
     "text": [
      " 99%|█████████▉| 1616/1631 [17:47:53<05:37, 22.53s/it]"
     ]
    },
    {
     "name": "stdout",
     "output_type": "stream",
     "text": [
      "https://noaa-hrrr-bdp-pds.s3.amazonaws.com/hrrr.20150505/conus/hrrr.t01z.wrfsfcf01.grib2\n"
     ]
    },
    {
     "name": "stderr",
     "output_type": "stream",
     "text": [
      " 99%|█████████▉| 1617/1631 [17:48:10<04:54, 21.01s/it]"
     ]
    },
    {
     "name": "stdout",
     "output_type": "stream",
     "text": [
      "https://noaa-hrrr-bdp-pds.s3.amazonaws.com/hrrr.20190411/conus/hrrr.t01z.wrfsfcf01.grib2\n"
     ]
    },
    {
     "name": "stderr",
     "output_type": "stream",
     "text": [
      " 99%|█████████▉| 1618/1631 [17:48:34<04:41, 21.69s/it]"
     ]
    },
    {
     "name": "stdout",
     "output_type": "stream",
     "text": [
      "https://noaa-hrrr-bdp-pds.s3.amazonaws.com/hrrr.20181122/conus/hrrr.t01z.wrfsfcf01.grib2\n"
     ]
    },
    {
     "name": "stderr",
     "output_type": "stream",
     "text": [
      " 99%|█████████▉| 1619/1631 [17:48:57<04:27, 22.29s/it]"
     ]
    },
    {
     "name": "stdout",
     "output_type": "stream",
     "text": [
      "https://noaa-hrrr-bdp-pds.s3.amazonaws.com/hrrr.20201203/conus/hrrr.t01z.wrfsfcf01.grib2\n"
     ]
    },
    {
     "name": "stderr",
     "output_type": "stream",
     "text": [
      " 99%|█████████▉| 1620/1631 [17:49:23<04:16, 23.29s/it]"
     ]
    },
    {
     "name": "stdout",
     "output_type": "stream",
     "text": [
      "https://noaa-hrrr-bdp-pds.s3.amazonaws.com/hrrr.20190830/conus/hrrr.t01z.wrfsfcf01.grib2\n"
     ]
    },
    {
     "name": "stderr",
     "output_type": "stream",
     "text": [
      " 99%|█████████▉| 1621/1631 [17:49:46<03:50, 23.07s/it]"
     ]
    },
    {
     "name": "stdout",
     "output_type": "stream",
     "text": [
      "https://noaa-hrrr-bdp-pds.s3.amazonaws.com/hrrr.20200523/conus/hrrr.t01z.wrfsfcf01.grib2\n"
     ]
    },
    {
     "name": "stderr",
     "output_type": "stream",
     "text": [
      " 99%|█████████▉| 1622/1631 [17:50:20<03:57, 26.39s/it]"
     ]
    },
    {
     "name": "stdout",
     "output_type": "stream",
     "text": [
      "https://noaa-hrrr-bdp-pds.s3.amazonaws.com/hrrr.20140218/conus/hrrr.t01z.wrfsfcf01.grib2\n"
     ]
    },
    {
     "name": "stderr",
     "output_type": "stream",
     "text": [
      "100%|█████████▉| 1623/1631 [17:50:21<02:30, 18.76s/it]"
     ]
    },
    {
     "name": "stdout",
     "output_type": "stream",
     "text": [
      "https://noaa-hrrr-bdp-pds.s3.amazonaws.com/hrrr.20201008/conus/hrrr.t01z.wrfsfcf01.grib2\n"
     ]
    },
    {
     "name": "stderr",
     "output_type": "stream",
     "text": [
      "100%|█████████▉| 1624/1631 [17:50:54<02:41, 23.05s/it]"
     ]
    },
    {
     "name": "stdout",
     "output_type": "stream",
     "text": [
      "https://noaa-hrrr-bdp-pds.s3.amazonaws.com/hrrr.20170315/conus/hrrr.t01z.wrfsfcf01.grib2\n"
     ]
    },
    {
     "name": "stderr",
     "output_type": "stream",
     "text": [
      "100%|█████████▉| 1625/1631 [17:51:16<02:16, 22.74s/it]"
     ]
    },
    {
     "name": "stdout",
     "output_type": "stream",
     "text": [
      "https://noaa-hrrr-bdp-pds.s3.amazonaws.com/hrrr.20130714/conus/hrrr.t01z.wrfsfcf01.grib2\n"
     ]
    },
    {
     "name": "stderr",
     "output_type": "stream",
     "text": [
      "100%|█████████▉| 1626/1631 [17:51:17<01:21, 16.21s/it]"
     ]
    },
    {
     "name": "stdout",
     "output_type": "stream",
     "text": [
      "https://noaa-hrrr-bdp-pds.s3.amazonaws.com/hrrr.20180804/conus/hrrr.t01z.wrfsfcf01.grib2\n"
     ]
    },
    {
     "name": "stderr",
     "output_type": "stream",
     "text": [
      "100%|█████████▉| 1627/1631 [17:51:39<01:12, 18.14s/it]"
     ]
    },
    {
     "name": "stdout",
     "output_type": "stream",
     "text": [
      "https://noaa-hrrr-bdp-pds.s3.amazonaws.com/hrrr.20151003/conus/hrrr.t01z.wrfsfcf01.grib2\n"
     ]
    },
    {
     "name": "stderr",
     "output_type": "stream",
     "text": [
      "100%|█████████▉| 1628/1631 [17:51:57<00:53, 17.86s/it]"
     ]
    },
    {
     "name": "stdout",
     "output_type": "stream",
     "text": [
      "https://noaa-hrrr-bdp-pds.s3.amazonaws.com/hrrr.20201116/conus/hrrr.t01z.wrfsfcf01.grib2\n"
     ]
    },
    {
     "name": "stderr",
     "output_type": "stream",
     "text": [
      "100%|█████████▉| 1629/1631 [17:52:19<00:38, 19.12s/it]"
     ]
    },
    {
     "name": "stdout",
     "output_type": "stream",
     "text": [
      "https://noaa-hrrr-bdp-pds.s3.amazonaws.com/hrrr.20170511/conus/hrrr.t01z.wrfsfcf01.grib2\n"
     ]
    },
    {
     "name": "stderr",
     "output_type": "stream",
     "text": [
      "100%|█████████▉| 1630/1631 [17:52:41<00:20, 20.16s/it]"
     ]
    },
    {
     "name": "stdout",
     "output_type": "stream",
     "text": [
      "https://noaa-hrrr-bdp-pds.s3.amazonaws.com/hrrr.20131208/conus/hrrr.t01z.wrfsfcf01.grib2\n"
     ]
    },
    {
     "name": "stderr",
     "output_type": "stream",
     "text": [
      "100%|██████████| 1631/1631 [17:52:42<00:00, 39.46s/it]\n"
     ]
    }
   ],
   "source": [
    "print(meta[~meta.date.isin(exist)].date.unique().shape)\n",
    "for unique_date in tqdm.tqdm(meta[~meta.date.isin(exist)].date.unique()):\n",
    "    fmt = unique_date.replace('-', '')\n",
    "    sub = meta[meta.date == unique_date].copy()\n",
    "    try:\n",
    "        download_info((unique_date, sub.to_json(), 1))\n",
    "    except:\n",
    "        pass"
   ]
  },
  {
   "cell_type": "code",
   "execution_count": 7,
   "metadata": {},
   "outputs": [
    {
     "data": {
      "text/plain": [
       "1290"
      ]
     },
     "execution_count": 7,
     "metadata": {},
     "output_type": "execute_result"
    }
   ],
   "source": [
    "exist = [x.split('.')[0] for x in os.listdir('./nrrr/')]\n",
    "len(exist)"
   ]
  },
  {
   "cell_type": "code",
   "execution_count": 8,
   "metadata": {
    "tags": []
   },
   "outputs": [
    {
     "name": "stdout",
     "output_type": "stream",
     "text": [
      "(347,)\n"
     ]
    },
    {
     "name": "stderr",
     "output_type": "stream",
     "text": [
      "  0%|          | 0/347 [00:00<?, ?it/s]"
     ]
    },
    {
     "name": "stdout",
     "output_type": "stream",
     "text": [
      "https://noaa-hrrr-bdp-pds.s3.amazonaws.com/hrrr.20140812/conus/hrrr.t12z.wrfsfcf01.grib2\n"
     ]
    },
    {
     "name": "stderr",
     "output_type": "stream",
     "text": [
      "  0%|          | 1/347 [00:00<05:26,  1.06it/s]"
     ]
    },
    {
     "name": "stdout",
     "output_type": "stream",
     "text": [
      "https://noaa-hrrr-bdp-pds.s3.amazonaws.com/hrrr.20131106/conus/hrrr.t12z.wrfsfcf01.grib2\n"
     ]
    },
    {
     "name": "stderr",
     "output_type": "stream",
     "text": [
      "  1%|          | 2/347 [00:01<05:31,  1.04it/s]"
     ]
    },
    {
     "name": "stdout",
     "output_type": "stream",
     "text": [
      "https://noaa-hrrr-bdp-pds.s3.amazonaws.com/hrrr.20130709/conus/hrrr.t12z.wrfsfcf01.grib2\n"
     ]
    },
    {
     "name": "stderr",
     "output_type": "stream",
     "text": [
      "  1%|          | 3/347 [00:02<05:29,  1.04it/s]"
     ]
    },
    {
     "name": "stdout",
     "output_type": "stream",
     "text": [
      "https://noaa-hrrr-bdp-pds.s3.amazonaws.com/hrrr.20130817/conus/hrrr.t12z.wrfsfcf01.grib2\n"
     ]
    },
    {
     "name": "stderr",
     "output_type": "stream",
     "text": [
      "  1%|          | 4/347 [00:03<05:27,  1.05it/s]"
     ]
    },
    {
     "name": "stdout",
     "output_type": "stream",
     "text": [
      "https://noaa-hrrr-bdp-pds.s3.amazonaws.com/hrrr.20130729/conus/hrrr.t12z.wrfsfcf01.grib2\n"
     ]
    },
    {
     "name": "stderr",
     "output_type": "stream",
     "text": [
      "  1%|▏         | 5/347 [00:04<05:26,  1.05it/s]"
     ]
    },
    {
     "name": "stdout",
     "output_type": "stream",
     "text": [
      "https://noaa-hrrr-bdp-pds.s3.amazonaws.com/hrrr.20150113/conus/hrrr.t12z.wrfsfcf01.grib2\n"
     ]
    },
    {
     "name": "stderr",
     "output_type": "stream",
     "text": [
      "  2%|▏         | 6/347 [00:46<1:25:04, 14.97s/it]"
     ]
    },
    {
     "name": "stdout",
     "output_type": "stream",
     "text": [
      "https://noaa-hrrr-bdp-pds.s3.amazonaws.com/hrrr.20130115/conus/hrrr.t12z.wrfsfcf01.grib2\n"
     ]
    },
    {
     "name": "stderr",
     "output_type": "stream",
     "text": [
      "  2%|▏         | 7/347 [00:47<58:50, 10.38s/it]  "
     ]
    },
    {
     "name": "stdout",
     "output_type": "stream",
     "text": [
      "https://noaa-hrrr-bdp-pds.s3.amazonaws.com/hrrr.20160413/conus/hrrr.t12z.wrfsfcf01.grib2\n"
     ]
    },
    {
     "name": "stderr",
     "output_type": "stream",
     "text": [
      "  2%|▏         | 8/347 [00:48<41:39,  7.37s/it]"
     ]
    },
    {
     "name": "stdout",
     "output_type": "stream",
     "text": [
      "https://noaa-hrrr-bdp-pds.s3.amazonaws.com/hrrr.20140228/conus/hrrr.t12z.wrfsfcf01.grib2\n"
     ]
    },
    {
     "name": "stderr",
     "output_type": "stream",
     "text": [
      "  3%|▎         | 9/347 [00:49<30:10,  5.36s/it]"
     ]
    },
    {
     "name": "stdout",
     "output_type": "stream",
     "text": [
      "https://noaa-hrrr-bdp-pds.s3.amazonaws.com/hrrr.20140715/conus/hrrr.t12z.wrfsfcf01.grib2\n"
     ]
    },
    {
     "name": "stderr",
     "output_type": "stream",
     "text": [
      "  3%|▎         | 10/347 [00:50<22:26,  4.00s/it]"
     ]
    },
    {
     "name": "stdout",
     "output_type": "stream",
     "text": [
      "https://noaa-hrrr-bdp-pds.s3.amazonaws.com/hrrr.20130820/conus/hrrr.t12z.wrfsfcf01.grib2\n"
     ]
    },
    {
     "name": "stderr",
     "output_type": "stream",
     "text": [
      "  3%|▎         | 11/347 [00:51<17:07,  3.06s/it]"
     ]
    },
    {
     "name": "stdout",
     "output_type": "stream",
     "text": [
      "https://noaa-hrrr-bdp-pds.s3.amazonaws.com/hrrr.20130716/conus/hrrr.t12z.wrfsfcf01.grib2\n"
     ]
    },
    {
     "name": "stderr",
     "output_type": "stream",
     "text": [
      "  3%|▎         | 12/347 [00:52<13:26,  2.41s/it]"
     ]
    },
    {
     "name": "stdout",
     "output_type": "stream",
     "text": [
      "https://noaa-hrrr-bdp-pds.s3.amazonaws.com/hrrr.20140722/conus/hrrr.t12z.wrfsfcf01.grib2\n"
     ]
    },
    {
     "name": "stderr",
     "output_type": "stream",
     "text": [
      "  4%|▎         | 13/347 [00:53<10:59,  1.98s/it]"
     ]
    },
    {
     "name": "stdout",
     "output_type": "stream",
     "text": [
      "https://noaa-hrrr-bdp-pds.s3.amazonaws.com/hrrr.20130923/conus/hrrr.t12z.wrfsfcf01.grib2\n"
     ]
    },
    {
     "name": "stderr",
     "output_type": "stream",
     "text": [
      "  4%|▍         | 14/347 [00:54<09:17,  1.67s/it]"
     ]
    },
    {
     "name": "stdout",
     "output_type": "stream",
     "text": [
      "https://noaa-hrrr-bdp-pds.s3.amazonaws.com/hrrr.20130212/conus/hrrr.t12z.wrfsfcf01.grib2\n"
     ]
    },
    {
     "name": "stderr",
     "output_type": "stream",
     "text": [
      "  4%|▍         | 15/347 [00:55<08:01,  1.45s/it]"
     ]
    },
    {
     "name": "stdout",
     "output_type": "stream",
     "text": [
      "https://noaa-hrrr-bdp-pds.s3.amazonaws.com/hrrr.20140623/conus/hrrr.t12z.wrfsfcf01.grib2\n"
     ]
    },
    {
     "name": "stderr",
     "output_type": "stream",
     "text": [
      "  5%|▍         | 16/347 [00:56<07:08,  1.29s/it]"
     ]
    },
    {
     "name": "stdout",
     "output_type": "stream",
     "text": [
      "https://noaa-hrrr-bdp-pds.s3.amazonaws.com/hrrr.20130423/conus/hrrr.t12z.wrfsfcf01.grib2\n"
     ]
    },
    {
     "name": "stderr",
     "output_type": "stream",
     "text": [
      "  5%|▍         | 17/347 [00:57<06:35,  1.20s/it]"
     ]
    },
    {
     "name": "stdout",
     "output_type": "stream",
     "text": [
      "https://noaa-hrrr-bdp-pds.s3.amazonaws.com/hrrr.20130528/conus/hrrr.t12z.wrfsfcf01.grib2\n"
     ]
    },
    {
     "name": "stderr",
     "output_type": "stream",
     "text": [
      "  5%|▌         | 18/347 [00:58<06:10,  1.13s/it]"
     ]
    },
    {
     "name": "stdout",
     "output_type": "stream",
     "text": [
      "https://noaa-hrrr-bdp-pds.s3.amazonaws.com/hrrr.20130618/conus/hrrr.t12z.wrfsfcf01.grib2\n"
     ]
    },
    {
     "name": "stderr",
     "output_type": "stream",
     "text": [
      "  5%|▌         | 19/347 [00:59<05:50,  1.07s/it]"
     ]
    },
    {
     "name": "stdout",
     "output_type": "stream",
     "text": [
      "https://noaa-hrrr-bdp-pds.s3.amazonaws.com/hrrr.20140519/conus/hrrr.t12z.wrfsfcf01.grib2\n"
     ]
    },
    {
     "name": "stderr",
     "output_type": "stream",
     "text": [
      "  6%|▌         | 20/347 [01:00<05:37,  1.03s/it]"
     ]
    },
    {
     "name": "stdout",
     "output_type": "stream",
     "text": [
      "https://noaa-hrrr-bdp-pds.s3.amazonaws.com/hrrr.20140227/conus/hrrr.t12z.wrfsfcf01.grib2\n"
     ]
    },
    {
     "name": "stderr",
     "output_type": "stream",
     "text": [
      "  6%|▌         | 21/347 [01:01<05:27,  1.00s/it]"
     ]
    },
    {
     "name": "stdout",
     "output_type": "stream",
     "text": [
      "https://noaa-hrrr-bdp-pds.s3.amazonaws.com/hrrr.20130415/conus/hrrr.t12z.wrfsfcf01.grib2\n"
     ]
    },
    {
     "name": "stderr",
     "output_type": "stream",
     "text": [
      "  6%|▋         | 22/347 [01:02<05:21,  1.01it/s]"
     ]
    },
    {
     "name": "stdout",
     "output_type": "stream",
     "text": [
      "https://noaa-hrrr-bdp-pds.s3.amazonaws.com/hrrr.20130826/conus/hrrr.t12z.wrfsfcf01.grib2\n"
     ]
    },
    {
     "name": "stderr",
     "output_type": "stream",
     "text": [
      "  7%|▋         | 23/347 [01:02<05:14,  1.03it/s]"
     ]
    },
    {
     "name": "stdout",
     "output_type": "stream",
     "text": [
      "https://noaa-hrrr-bdp-pds.s3.amazonaws.com/hrrr.20140813/conus/hrrr.t12z.wrfsfcf01.grib2\n"
     ]
    },
    {
     "name": "stderr",
     "output_type": "stream",
     "text": [
      "  7%|▋         | 24/347 [01:03<05:12,  1.03it/s]"
     ]
    },
    {
     "name": "stdout",
     "output_type": "stream",
     "text": [
      "https://noaa-hrrr-bdp-pds.s3.amazonaws.com/hrrr.20140610/conus/hrrr.t12z.wrfsfcf01.grib2\n"
     ]
    },
    {
     "name": "stderr",
     "output_type": "stream",
     "text": [
      "  7%|▋         | 25/347 [01:04<05:09,  1.04it/s]"
     ]
    },
    {
     "name": "stdout",
     "output_type": "stream",
     "text": [
      "https://noaa-hrrr-bdp-pds.s3.amazonaws.com/hrrr.20130812/conus/hrrr.t12z.wrfsfcf01.grib2\n"
     ]
    },
    {
     "name": "stderr",
     "output_type": "stream",
     "text": [
      "  7%|▋         | 26/347 [01:05<05:07,  1.05it/s]"
     ]
    },
    {
     "name": "stdout",
     "output_type": "stream",
     "text": [
      "https://noaa-hrrr-bdp-pds.s3.amazonaws.com/hrrr.20160915/conus/hrrr.t12z.wrfsfcf01.grib2\n"
     ]
    },
    {
     "name": "stderr",
     "output_type": "stream",
     "text": [
      "  8%|▊         | 27/347 [01:06<05:05,  1.05it/s]"
     ]
    },
    {
     "name": "stdout",
     "output_type": "stream",
     "text": [
      "https://noaa-hrrr-bdp-pds.s3.amazonaws.com/hrrr.20130730/conus/hrrr.t12z.wrfsfcf01.grib2\n"
     ]
    },
    {
     "name": "stderr",
     "output_type": "stream",
     "text": [
      "  8%|▊         | 28/347 [01:07<05:06,  1.04it/s]"
     ]
    },
    {
     "name": "stdout",
     "output_type": "stream",
     "text": [
      "https://noaa-hrrr-bdp-pds.s3.amazonaws.com/hrrr.20130516/conus/hrrr.t12z.wrfsfcf01.grib2\n"
     ]
    },
    {
     "name": "stderr",
     "output_type": "stream",
     "text": [
      "  8%|▊         | 29/347 [01:08<05:03,  1.05it/s]"
     ]
    },
    {
     "name": "stdout",
     "output_type": "stream",
     "text": [
      "https://noaa-hrrr-bdp-pds.s3.amazonaws.com/hrrr.20130114/conus/hrrr.t12z.wrfsfcf01.grib2\n"
     ]
    },
    {
     "name": "stderr",
     "output_type": "stream",
     "text": [
      "  9%|▊         | 30/347 [01:09<04:59,  1.06it/s]"
     ]
    },
    {
     "name": "stdout",
     "output_type": "stream",
     "text": [
      "https://noaa-hrrr-bdp-pds.s3.amazonaws.com/hrrr.20140425/conus/hrrr.t12z.wrfsfcf01.grib2\n"
     ]
    },
    {
     "name": "stderr",
     "output_type": "stream",
     "text": [
      "  9%|▉         | 31/347 [01:10<04:58,  1.06it/s]"
     ]
    },
    {
     "name": "stdout",
     "output_type": "stream",
     "text": [
      "https://noaa-hrrr-bdp-pds.s3.amazonaws.com/hrrr.20130903/conus/hrrr.t12z.wrfsfcf01.grib2\n"
     ]
    },
    {
     "name": "stderr",
     "output_type": "stream",
     "text": [
      "  9%|▉         | 32/347 [01:11<04:58,  1.06it/s]"
     ]
    },
    {
     "name": "stdout",
     "output_type": "stream",
     "text": [
      "https://noaa-hrrr-bdp-pds.s3.amazonaws.com/hrrr.20160810/conus/hrrr.t12z.wrfsfcf01.grib2\n"
     ]
    },
    {
     "name": "stderr",
     "output_type": "stream",
     "text": [
      " 10%|▉         | 33/347 [01:12<04:57,  1.05it/s]"
     ]
    },
    {
     "name": "stdout",
     "output_type": "stream",
     "text": [
      "https://noaa-hrrr-bdp-pds.s3.amazonaws.com/hrrr.20140422/conus/hrrr.t12z.wrfsfcf01.grib2\n"
     ]
    },
    {
     "name": "stderr",
     "output_type": "stream",
     "text": [
      " 10%|▉         | 34/347 [01:13<04:58,  1.05it/s]"
     ]
    },
    {
     "name": "stdout",
     "output_type": "stream",
     "text": [
      "https://noaa-hrrr-bdp-pds.s3.amazonaws.com/hrrr.20141125/conus/hrrr.t12z.wrfsfcf01.grib2\n"
     ]
    },
    {
     "name": "stderr",
     "output_type": "stream",
     "text": [
      " 10%|█         | 35/347 [02:16<1:41:52, 19.59s/it]"
     ]
    },
    {
     "name": "stdout",
     "output_type": "stream",
     "text": [
      "https://noaa-hrrr-bdp-pds.s3.amazonaws.com/hrrr.20140414/conus/hrrr.t12z.wrfsfcf01.grib2\n"
     ]
    },
    {
     "name": "stderr",
     "output_type": "stream",
     "text": [
      " 10%|█         | 36/347 [02:17<1:12:31, 13.99s/it]"
     ]
    },
    {
     "name": "stdout",
     "output_type": "stream",
     "text": [
      "https://noaa-hrrr-bdp-pds.s3.amazonaws.com/hrrr.20140819/conus/hrrr.t12z.wrfsfcf01.grib2\n"
     ]
    },
    {
     "name": "stderr",
     "output_type": "stream",
     "text": [
      " 11%|█         | 37/347 [02:18<52:06, 10.08s/it]  "
     ]
    },
    {
     "name": "stdout",
     "output_type": "stream",
     "text": [
      "https://noaa-hrrr-bdp-pds.s3.amazonaws.com/hrrr.20130627/conus/hrrr.t12z.wrfsfcf01.grib2\n"
     ]
    },
    {
     "name": "stderr",
     "output_type": "stream",
     "text": [
      " 11%|█         | 38/347 [02:19<37:49,  7.34s/it]"
     ]
    },
    {
     "name": "stdout",
     "output_type": "stream",
     "text": [
      "https://noaa-hrrr-bdp-pds.s3.amazonaws.com/hrrr.20130227/conus/hrrr.t12z.wrfsfcf01.grib2\n"
     ]
    },
    {
     "name": "stderr",
     "output_type": "stream",
     "text": [
      " 11%|█         | 39/347 [02:20<27:51,  5.43s/it]"
     ]
    },
    {
     "name": "stdout",
     "output_type": "stream",
     "text": [
      "https://noaa-hrrr-bdp-pds.s3.amazonaws.com/hrrr.20160607/conus/hrrr.t12z.wrfsfcf01.grib2\n"
     ]
    },
    {
     "name": "stderr",
     "output_type": "stream",
     "text": [
      " 12%|█▏        | 40/347 [03:42<2:24:57, 28.33s/it]"
     ]
    },
    {
     "name": "stdout",
     "output_type": "stream",
     "text": [
      "https://noaa-hrrr-bdp-pds.s3.amazonaws.com/hrrr.20140418/conus/hrrr.t12z.wrfsfcf01.grib2\n"
     ]
    },
    {
     "name": "stderr",
     "output_type": "stream",
     "text": [
      " 12%|█▏        | 41/347 [03:43<1:42:37, 20.12s/it]"
     ]
    },
    {
     "name": "stdout",
     "output_type": "stream",
     "text": [
      "https://noaa-hrrr-bdp-pds.s3.amazonaws.com/hrrr.20130530/conus/hrrr.t12z.wrfsfcf01.grib2\n"
     ]
    },
    {
     "name": "stderr",
     "output_type": "stream",
     "text": [
      " 12%|█▏        | 42/347 [03:44<1:13:03, 14.37s/it]"
     ]
    },
    {
     "name": "stdout",
     "output_type": "stream",
     "text": [
      "https://noaa-hrrr-bdp-pds.s3.amazonaws.com/hrrr.20140716/conus/hrrr.t12z.wrfsfcf01.grib2\n"
     ]
    },
    {
     "name": "stderr",
     "output_type": "stream",
     "text": [
      " 12%|█▏        | 43/347 [03:44<52:25, 10.35s/it]  "
     ]
    },
    {
     "name": "stdout",
     "output_type": "stream",
     "text": [
      "https://noaa-hrrr-bdp-pds.s3.amazonaws.com/hrrr.20130402/conus/hrrr.t12z.wrfsfcf01.grib2\n"
     ]
    },
    {
     "name": "stderr",
     "output_type": "stream",
     "text": [
      " 13%|█▎        | 44/347 [03:45<38:00,  7.53s/it]"
     ]
    },
    {
     "name": "stdout",
     "output_type": "stream",
     "text": [
      "https://noaa-hrrr-bdp-pds.s3.amazonaws.com/hrrr.20130209/conus/hrrr.t12z.wrfsfcf01.grib2\n"
     ]
    },
    {
     "name": "stderr",
     "output_type": "stream",
     "text": [
      " 13%|█▎        | 45/347 [03:46<27:57,  5.55s/it]"
     ]
    },
    {
     "name": "stdout",
     "output_type": "stream",
     "text": [
      "https://noaa-hrrr-bdp-pds.s3.amazonaws.com/hrrr.20131112/conus/hrrr.t12z.wrfsfcf01.grib2\n"
     ]
    },
    {
     "name": "stderr",
     "output_type": "stream",
     "text": [
      " 13%|█▎        | 46/347 [03:47<20:54,  4.17s/it]"
     ]
    },
    {
     "name": "stdout",
     "output_type": "stream",
     "text": [
      "https://noaa-hrrr-bdp-pds.s3.amazonaws.com/hrrr.20140922/conus/hrrr.t12z.wrfsfcf01.grib2\n"
     ]
    },
    {
     "name": "stderr",
     "output_type": "stream",
     "text": [
      " 14%|█▎        | 47/347 [03:48<15:59,  3.20s/it]"
     ]
    },
    {
     "name": "stdout",
     "output_type": "stream",
     "text": [
      "https://noaa-hrrr-bdp-pds.s3.amazonaws.com/hrrr.20140508/conus/hrrr.t12z.wrfsfcf01.grib2\n"
     ]
    },
    {
     "name": "stderr",
     "output_type": "stream",
     "text": [
      " 14%|█▍        | 48/347 [03:49<12:33,  2.52s/it]"
     ]
    },
    {
     "name": "stdout",
     "output_type": "stream",
     "text": [
      "https://noaa-hrrr-bdp-pds.s3.amazonaws.com/hrrr.20160816/conus/hrrr.t12z.wrfsfcf01.grib2\n"
     ]
    },
    {
     "name": "stderr",
     "output_type": "stream",
     "text": [
      " 14%|█▍        | 49/347 [04:28<1:07:03, 13.50s/it]"
     ]
    },
    {
     "name": "stdout",
     "output_type": "stream",
     "text": [
      "https://noaa-hrrr-bdp-pds.s3.amazonaws.com/hrrr.20140505/conus/hrrr.t12z.wrfsfcf01.grib2\n"
     ]
    },
    {
     "name": "stderr",
     "output_type": "stream",
     "text": [
      " 14%|█▍        | 50/347 [04:29<48:09,  9.73s/it]  "
     ]
    },
    {
     "name": "stdout",
     "output_type": "stream",
     "text": [
      "https://noaa-hrrr-bdp-pds.s3.amazonaws.com/hrrr.20131017/conus/hrrr.t12z.wrfsfcf01.grib2\n"
     ]
    },
    {
     "name": "stderr",
     "output_type": "stream",
     "text": [
      " 15%|█▍        | 51/347 [04:30<35:01,  7.10s/it]"
     ]
    },
    {
     "name": "stdout",
     "output_type": "stream",
     "text": [
      "https://noaa-hrrr-bdp-pds.s3.amazonaws.com/hrrr.20180111/conus/hrrr.t12z.wrfsfcf01.grib2\n"
     ]
    },
    {
     "name": "stderr",
     "output_type": "stream",
     "text": [
      " 15%|█▍        | 52/347 [05:09<1:20:55, 16.46s/it]"
     ]
    },
    {
     "name": "stdout",
     "output_type": "stream",
     "text": [
      "https://noaa-hrrr-bdp-pds.s3.amazonaws.com/hrrr.20140408/conus/hrrr.t12z.wrfsfcf01.grib2\n"
     ]
    },
    {
     "name": "stderr",
     "output_type": "stream",
     "text": [
      " 15%|█▌        | 53/347 [05:09<57:49, 11.80s/it]  "
     ]
    },
    {
     "name": "stdout",
     "output_type": "stream",
     "text": [
      "https://noaa-hrrr-bdp-pds.s3.amazonaws.com/hrrr.20140825/conus/hrrr.t12z.wrfsfcf01.grib2\n"
     ]
    },
    {
     "name": "stderr",
     "output_type": "stream",
     "text": [
      " 16%|█▌        | 54/347 [05:10<41:43,  8.54s/it]"
     ]
    },
    {
     "name": "stdout",
     "output_type": "stream",
     "text": [
      "https://noaa-hrrr-bdp-pds.s3.amazonaws.com/hrrr.20140114/conus/hrrr.t12z.wrfsfcf01.grib2\n"
     ]
    },
    {
     "name": "stderr",
     "output_type": "stream",
     "text": [
      " 16%|█▌        | 55/347 [05:11<30:29,  6.26s/it]"
     ]
    },
    {
     "name": "stdout",
     "output_type": "stream",
     "text": [
      "https://noaa-hrrr-bdp-pds.s3.amazonaws.com/hrrr.20130328/conus/hrrr.t12z.wrfsfcf01.grib2\n"
     ]
    },
    {
     "name": "stderr",
     "output_type": "stream",
     "text": [
      " 16%|█▌        | 56/347 [05:12<22:38,  4.67s/it]"
     ]
    },
    {
     "name": "stdout",
     "output_type": "stream",
     "text": [
      "https://noaa-hrrr-bdp-pds.s3.amazonaws.com/hrrr.20130918/conus/hrrr.t12z.wrfsfcf01.grib2\n"
     ]
    },
    {
     "name": "stderr",
     "output_type": "stream",
     "text": [
      " 16%|█▋        | 57/347 [05:13<17:13,  3.56s/it]"
     ]
    },
    {
     "name": "stdout",
     "output_type": "stream",
     "text": [
      "https://noaa-hrrr-bdp-pds.s3.amazonaws.com/hrrr.20140814/conus/hrrr.t12z.wrfsfcf01.grib2\n"
     ]
    },
    {
     "name": "stderr",
     "output_type": "stream",
     "text": [
      " 17%|█▋        | 58/347 [05:14<13:23,  2.78s/it]"
     ]
    },
    {
     "name": "stdout",
     "output_type": "stream",
     "text": [
      "https://noaa-hrrr-bdp-pds.s3.amazonaws.com/hrrr.20131205/conus/hrrr.t12z.wrfsfcf01.grib2\n"
     ]
    },
    {
     "name": "stderr",
     "output_type": "stream",
     "text": [
      " 17%|█▋        | 59/347 [05:15<10:41,  2.23s/it]"
     ]
    },
    {
     "name": "stdout",
     "output_type": "stream",
     "text": [
      "https://noaa-hrrr-bdp-pds.s3.amazonaws.com/hrrr.20130811/conus/hrrr.t12z.wrfsfcf01.grib2\n"
     ]
    },
    {
     "name": "stderr",
     "output_type": "stream",
     "text": [
      " 17%|█▋        | 60/347 [05:16<08:46,  1.84s/it]"
     ]
    },
    {
     "name": "stdout",
     "output_type": "stream",
     "text": [
      "https://noaa-hrrr-bdp-pds.s3.amazonaws.com/hrrr.20130329/conus/hrrr.t12z.wrfsfcf01.grib2\n"
     ]
    },
    {
     "name": "stderr",
     "output_type": "stream",
     "text": [
      " 18%|█▊        | 61/347 [05:17<07:28,  1.57s/it]"
     ]
    },
    {
     "name": "stdout",
     "output_type": "stream",
     "text": [
      "https://noaa-hrrr-bdp-pds.s3.amazonaws.com/hrrr.20131211/conus/hrrr.t12z.wrfsfcf01.grib2\n"
     ]
    },
    {
     "name": "stderr",
     "output_type": "stream",
     "text": [
      " 18%|█▊        | 62/347 [05:18<06:34,  1.38s/it]"
     ]
    },
    {
     "name": "stdout",
     "output_type": "stream",
     "text": [
      "https://noaa-hrrr-bdp-pds.s3.amazonaws.com/hrrr.20130919/conus/hrrr.t12z.wrfsfcf01.grib2\n"
     ]
    },
    {
     "name": "stderr",
     "output_type": "stream",
     "text": [
      " 18%|█▊        | 63/347 [05:19<05:55,  1.25s/it]"
     ]
    },
    {
     "name": "stdout",
     "output_type": "stream",
     "text": [
      "https://noaa-hrrr-bdp-pds.s3.amazonaws.com/hrrr.20130819/conus/hrrr.t12z.wrfsfcf01.grib2\n"
     ]
    },
    {
     "name": "stderr",
     "output_type": "stream",
     "text": [
      " 18%|█▊        | 64/347 [05:20<05:27,  1.16s/it]"
     ]
    },
    {
     "name": "stdout",
     "output_type": "stream",
     "text": [
      "https://noaa-hrrr-bdp-pds.s3.amazonaws.com/hrrr.20130619/conus/hrrr.t12z.wrfsfcf01.grib2\n"
     ]
    },
    {
     "name": "stderr",
     "output_type": "stream",
     "text": [
      " 19%|█▊        | 65/347 [05:21<05:09,  1.10s/it]"
     ]
    },
    {
     "name": "stdout",
     "output_type": "stream",
     "text": [
      "https://noaa-hrrr-bdp-pds.s3.amazonaws.com/hrrr.20130320/conus/hrrr.t12z.wrfsfcf01.grib2\n"
     ]
    },
    {
     "name": "stderr",
     "output_type": "stream",
     "text": [
      " 19%|█▉        | 66/347 [05:22<04:53,  1.05s/it]"
     ]
    },
    {
     "name": "stdout",
     "output_type": "stream",
     "text": [
      "https://noaa-hrrr-bdp-pds.s3.amazonaws.com/hrrr.20140815/conus/hrrr.t12z.wrfsfcf01.grib2\n"
     ]
    },
    {
     "name": "stderr",
     "output_type": "stream",
     "text": [
      " 19%|█▉        | 67/347 [05:23<04:44,  1.02s/it]"
     ]
    },
    {
     "name": "stdout",
     "output_type": "stream",
     "text": [
      "https://noaa-hrrr-bdp-pds.s3.amazonaws.com/hrrr.20130710/conus/hrrr.t12z.wrfsfcf01.grib2\n"
     ]
    },
    {
     "name": "stderr",
     "output_type": "stream",
     "text": [
      " 20%|█▉        | 68/347 [05:24<04:36,  1.01it/s]"
     ]
    },
    {
     "name": "stdout",
     "output_type": "stream",
     "text": [
      "https://noaa-hrrr-bdp-pds.s3.amazonaws.com/hrrr.20130722/conus/hrrr.t12z.wrfsfcf01.grib2\n"
     ]
    },
    {
     "name": "stderr",
     "output_type": "stream",
     "text": [
      " 20%|█▉        | 69/347 [05:25<04:33,  1.02it/s]"
     ]
    },
    {
     "name": "stdout",
     "output_type": "stream",
     "text": [
      "https://noaa-hrrr-bdp-pds.s3.amazonaws.com/hrrr.20130611/conus/hrrr.t12z.wrfsfcf01.grib2\n"
     ]
    },
    {
     "name": "stderr",
     "output_type": "stream",
     "text": [
      " 20%|██        | 70/347 [05:25<04:26,  1.04it/s]"
     ]
    },
    {
     "name": "stdout",
     "output_type": "stream",
     "text": [
      "https://noaa-hrrr-bdp-pds.s3.amazonaws.com/hrrr.20130610/conus/hrrr.t12z.wrfsfcf01.grib2\n"
     ]
    },
    {
     "name": "stderr",
     "output_type": "stream",
     "text": [
      " 20%|██        | 71/347 [05:26<04:23,  1.05it/s]"
     ]
    },
    {
     "name": "stdout",
     "output_type": "stream",
     "text": [
      "https://noaa-hrrr-bdp-pds.s3.amazonaws.com/hrrr.20140708/conus/hrrr.t12z.wrfsfcf01.grib2\n"
     ]
    },
    {
     "name": "stderr",
     "output_type": "stream",
     "text": [
      " 21%|██        | 72/347 [05:27<04:22,  1.05it/s]"
     ]
    },
    {
     "name": "stdout",
     "output_type": "stream",
     "text": [
      "https://noaa-hrrr-bdp-pds.s3.amazonaws.com/hrrr.20130925/conus/hrrr.t12z.wrfsfcf01.grib2\n"
     ]
    },
    {
     "name": "stderr",
     "output_type": "stream",
     "text": [
      " 21%|██        | 73/347 [05:28<04:19,  1.06it/s]"
     ]
    },
    {
     "name": "stdout",
     "output_type": "stream",
     "text": [
      "https://noaa-hrrr-bdp-pds.s3.amazonaws.com/hrrr.20130731/conus/hrrr.t12z.wrfsfcf01.grib2\n"
     ]
    },
    {
     "name": "stderr",
     "output_type": "stream",
     "text": [
      " 21%|██▏       | 74/347 [05:29<04:19,  1.05it/s]"
     ]
    },
    {
     "name": "stdout",
     "output_type": "stream",
     "text": [
      "https://noaa-hrrr-bdp-pds.s3.amazonaws.com/hrrr.20130905/conus/hrrr.t12z.wrfsfcf01.grib2\n"
     ]
    },
    {
     "name": "stderr",
     "output_type": "stream",
     "text": [
      " 22%|██▏       | 75/347 [05:30<04:20,  1.04it/s]"
     ]
    },
    {
     "name": "stdout",
     "output_type": "stream",
     "text": [
      "https://noaa-hrrr-bdp-pds.s3.amazonaws.com/hrrr.20130917/conus/hrrr.t12z.wrfsfcf01.grib2\n"
     ]
    },
    {
     "name": "stderr",
     "output_type": "stream",
     "text": [
      " 22%|██▏       | 76/347 [05:31<04:18,  1.05it/s]"
     ]
    },
    {
     "name": "stdout",
     "output_type": "stream",
     "text": [
      "https://noaa-hrrr-bdp-pds.s3.amazonaws.com/hrrr.20130522/conus/hrrr.t12z.wrfsfcf01.grib2\n"
     ]
    },
    {
     "name": "stderr",
     "output_type": "stream",
     "text": [
      " 22%|██▏       | 77/347 [05:32<04:13,  1.06it/s]"
     ]
    },
    {
     "name": "stdout",
     "output_type": "stream",
     "text": [
      "https://noaa-hrrr-bdp-pds.s3.amazonaws.com/hrrr.20140210/conus/hrrr.t12z.wrfsfcf01.grib2\n"
     ]
    },
    {
     "name": "stderr",
     "output_type": "stream",
     "text": [
      " 22%|██▏       | 78/347 [05:33<04:14,  1.06it/s]"
     ]
    },
    {
     "name": "stdout",
     "output_type": "stream",
     "text": [
      "https://noaa-hrrr-bdp-pds.s3.amazonaws.com/hrrr.20140326/conus/hrrr.t12z.wrfsfcf01.grib2\n"
     ]
    },
    {
     "name": "stderr",
     "output_type": "stream",
     "text": [
      " 23%|██▎       | 79/347 [05:34<04:14,  1.05it/s]"
     ]
    },
    {
     "name": "stdout",
     "output_type": "stream",
     "text": [
      "https://noaa-hrrr-bdp-pds.s3.amazonaws.com/hrrr.20160613/conus/hrrr.t12z.wrfsfcf01.grib2\n"
     ]
    },
    {
     "name": "stderr",
     "output_type": "stream",
     "text": [
      " 23%|██▎       | 80/347 [05:59<36:35,  8.22s/it]"
     ]
    },
    {
     "name": "stdout",
     "output_type": "stream",
     "text": [
      "https://noaa-hrrr-bdp-pds.s3.amazonaws.com/hrrr.20140327/conus/hrrr.t12z.wrfsfcf01.grib2\n"
     ]
    },
    {
     "name": "stderr",
     "output_type": "stream",
     "text": [
      " 23%|██▎       | 81/347 [06:00<26:46,  6.04s/it]"
     ]
    },
    {
     "name": "stdout",
     "output_type": "stream",
     "text": [
      "https://noaa-hrrr-bdp-pds.s3.amazonaws.com/hrrr.20140827/conus/hrrr.t12z.wrfsfcf01.grib2\n"
     ]
    },
    {
     "name": "stderr",
     "output_type": "stream",
     "text": [
      " 24%|██▎       | 82/347 [06:01<19:53,  4.50s/it]"
     ]
    },
    {
     "name": "stdout",
     "output_type": "stream",
     "text": [
      "https://noaa-hrrr-bdp-pds.s3.amazonaws.com/hrrr.20140602/conus/hrrr.t12z.wrfsfcf01.grib2\n"
     ]
    },
    {
     "name": "stderr",
     "output_type": "stream",
     "text": [
      " 24%|██▍       | 83/347 [06:02<15:08,  3.44s/it]"
     ]
    },
    {
     "name": "stdout",
     "output_type": "stream",
     "text": [
      "https://noaa-hrrr-bdp-pds.s3.amazonaws.com/hrrr.20180823/conus/hrrr.t12z.wrfsfcf01.grib2\n"
     ]
    },
    {
     "name": "stderr",
     "output_type": "stream",
     "text": [
      " 24%|██▍       | 84/347 [06:38<57:38, 13.15s/it]"
     ]
    },
    {
     "name": "stdout",
     "output_type": "stream",
     "text": [
      "https://noaa-hrrr-bdp-pds.s3.amazonaws.com/hrrr.20140918/conus/hrrr.t12z.wrfsfcf01.grib2\n"
     ]
    },
    {
     "name": "stderr",
     "output_type": "stream",
     "text": [
      " 24%|██▍       | 85/347 [06:39<41:24,  9.48s/it]"
     ]
    },
    {
     "name": "stdout",
     "output_type": "stream",
     "text": [
      "https://noaa-hrrr-bdp-pds.s3.amazonaws.com/hrrr.20131210/conus/hrrr.t12z.wrfsfcf01.grib2\n"
     ]
    },
    {
     "name": "stderr",
     "output_type": "stream",
     "text": [
      " 25%|██▍       | 86/347 [06:40<30:07,  6.93s/it]"
     ]
    },
    {
     "name": "stdout",
     "output_type": "stream",
     "text": [
      "https://noaa-hrrr-bdp-pds.s3.amazonaws.com/hrrr.20130417/conus/hrrr.t12z.wrfsfcf01.grib2\n"
     ]
    },
    {
     "name": "stderr",
     "output_type": "stream",
     "text": [
      " 25%|██▌       | 87/347 [06:41<22:16,  5.14s/it]"
     ]
    },
    {
     "name": "stdout",
     "output_type": "stream",
     "text": [
      "https://noaa-hrrr-bdp-pds.s3.amazonaws.com/hrrr.20140115/conus/hrrr.t12z.wrfsfcf01.grib2\n"
     ]
    },
    {
     "name": "stderr",
     "output_type": "stream",
     "text": [
      " 25%|██▌       | 88/347 [06:42<16:46,  3.89s/it]"
     ]
    },
    {
     "name": "stdout",
     "output_type": "stream",
     "text": [
      "https://noaa-hrrr-bdp-pds.s3.amazonaws.com/hrrr.20140211/conus/hrrr.t12z.wrfsfcf01.grib2\n"
     ]
    },
    {
     "name": "stderr",
     "output_type": "stream",
     "text": [
      " 26%|██▌       | 89/347 [06:43<12:53,  3.00s/it]"
     ]
    },
    {
     "name": "stdout",
     "output_type": "stream",
     "text": [
      "https://noaa-hrrr-bdp-pds.s3.amazonaws.com/hrrr.20140423/conus/hrrr.t12z.wrfsfcf01.grib2\n"
     ]
    },
    {
     "name": "stderr",
     "output_type": "stream",
     "text": [
      " 26%|██▌       | 90/347 [06:44<10:13,  2.39s/it]"
     ]
    },
    {
     "name": "stdout",
     "output_type": "stream",
     "text": [
      "https://noaa-hrrr-bdp-pds.s3.amazonaws.com/hrrr.20130327/conus/hrrr.t12z.wrfsfcf01.grib2\n"
     ]
    },
    {
     "name": "stderr",
     "output_type": "stream",
     "text": [
      " 26%|██▌       | 91/347 [06:45<08:22,  1.96s/it]"
     ]
    },
    {
     "name": "stdout",
     "output_type": "stream",
     "text": [
      "https://noaa-hrrr-bdp-pds.s3.amazonaws.com/hrrr.20130813/conus/hrrr.t12z.wrfsfcf01.grib2\n"
     ]
    },
    {
     "name": "stderr",
     "output_type": "stream",
     "text": [
      " 27%|██▋       | 92/347 [06:45<07:03,  1.66s/it]"
     ]
    },
    {
     "name": "stdout",
     "output_type": "stream",
     "text": [
      "https://noaa-hrrr-bdp-pds.s3.amazonaws.com/hrrr.20160913/conus/hrrr.t12z.wrfsfcf01.grib2\n"
     ]
    },
    {
     "name": "stderr",
     "output_type": "stream",
     "text": [
      " 27%|██▋       | 93/347 [07:39<1:13:16, 17.31s/it]"
     ]
    },
    {
     "name": "stdout",
     "output_type": "stream",
     "text": [
      "https://noaa-hrrr-bdp-pds.s3.amazonaws.com/hrrr.20130725/conus/hrrr.t12z.wrfsfcf01.grib2\n"
     ]
    },
    {
     "name": "stderr",
     "output_type": "stream",
     "text": [
      " 27%|██▋       | 94/347 [07:40<52:17, 12.40s/it]  "
     ]
    },
    {
     "name": "stdout",
     "output_type": "stream",
     "text": [
      "https://noaa-hrrr-bdp-pds.s3.amazonaws.com/hrrr.20140513/conus/hrrr.t12z.wrfsfcf01.grib2\n"
     ]
    },
    {
     "name": "stderr",
     "output_type": "stream",
     "text": [
      " 27%|██▋       | 95/347 [07:41<37:43,  8.98s/it]"
     ]
    },
    {
     "name": "stdout",
     "output_type": "stream",
     "text": [
      "https://noaa-hrrr-bdp-pds.s3.amazonaws.com/hrrr.20140702/conus/hrrr.t12z.wrfsfcf01.grib2\n"
     ]
    },
    {
     "name": "stderr",
     "output_type": "stream",
     "text": [
      " 28%|██▊       | 96/347 [07:42<27:28,  6.57s/it]"
     ]
    },
    {
     "name": "stdout",
     "output_type": "stream",
     "text": [
      "https://noaa-hrrr-bdp-pds.s3.amazonaws.com/hrrr.20130723/conus/hrrr.t12z.wrfsfcf01.grib2\n"
     ]
    },
    {
     "name": "stderr",
     "output_type": "stream",
     "text": [
      " 28%|██▊       | 97/347 [07:43<20:20,  4.88s/it]"
     ]
    },
    {
     "name": "stdout",
     "output_type": "stream",
     "text": [
      "https://noaa-hrrr-bdp-pds.s3.amazonaws.com/hrrr.20140410/conus/hrrr.t12z.wrfsfcf01.grib2\n"
     ]
    },
    {
     "name": "stderr",
     "output_type": "stream",
     "text": [
      " 28%|██▊       | 98/347 [07:44<15:23,  3.71s/it]"
     ]
    },
    {
     "name": "stdout",
     "output_type": "stream",
     "text": [
      "https://noaa-hrrr-bdp-pds.s3.amazonaws.com/hrrr.20160809/conus/hrrr.t12z.wrfsfcf01.grib2\n"
     ]
    },
    {
     "name": "stderr",
     "output_type": "stream",
     "text": [
      " 29%|██▊       | 99/347 [07:45<11:53,  2.88s/it]"
     ]
    },
    {
     "name": "stdout",
     "output_type": "stream",
     "text": [
      "https://noaa-hrrr-bdp-pds.s3.amazonaws.com/hrrr.20130612/conus/hrrr.t12z.wrfsfcf01.grib2\n"
     ]
    },
    {
     "name": "stderr",
     "output_type": "stream",
     "text": [
      " 29%|██▉       | 100/347 [07:46<09:30,  2.31s/it]"
     ]
    },
    {
     "name": "stdout",
     "output_type": "stream",
     "text": [
      "https://noaa-hrrr-bdp-pds.s3.amazonaws.com/hrrr.20130916/conus/hrrr.t12z.wrfsfcf01.grib2\n"
     ]
    },
    {
     "name": "stderr",
     "output_type": "stream",
     "text": [
      " 29%|██▉       | 101/347 [07:47<07:48,  1.90s/it]"
     ]
    },
    {
     "name": "stdout",
     "output_type": "stream",
     "text": [
      "https://noaa-hrrr-bdp-pds.s3.amazonaws.com/hrrr.20130911/conus/hrrr.t12z.wrfsfcf01.grib2\n"
     ]
    },
    {
     "name": "stderr",
     "output_type": "stream",
     "text": [
      " 29%|██▉       | 102/347 [07:48<06:37,  1.62s/it]"
     ]
    },
    {
     "name": "stdout",
     "output_type": "stream",
     "text": [
      "https://noaa-hrrr-bdp-pds.s3.amazonaws.com/hrrr.20130904/conus/hrrr.t12z.wrfsfcf01.grib2\n"
     ]
    },
    {
     "name": "stderr",
     "output_type": "stream",
     "text": [
      " 30%|██▉       | 103/347 [07:49<05:46,  1.42s/it]"
     ]
    },
    {
     "name": "stdout",
     "output_type": "stream",
     "text": [
      "https://noaa-hrrr-bdp-pds.s3.amazonaws.com/hrrr.20140617/conus/hrrr.t12z.wrfsfcf01.grib2\n"
     ]
    },
    {
     "name": "stderr",
     "output_type": "stream",
     "text": [
      " 30%|██▉       | 104/347 [07:50<05:08,  1.27s/it]"
     ]
    },
    {
     "name": "stdout",
     "output_type": "stream",
     "text": [
      "https://noaa-hrrr-bdp-pds.s3.amazonaws.com/hrrr.20140226/conus/hrrr.t12z.wrfsfcf01.grib2\n"
     ]
    },
    {
     "name": "stderr",
     "output_type": "stream",
     "text": [
      " 30%|███       | 105/347 [07:51<04:44,  1.18s/it]"
     ]
    },
    {
     "name": "stdout",
     "output_type": "stream",
     "text": [
      "https://noaa-hrrr-bdp-pds.s3.amazonaws.com/hrrr.20130313/conus/hrrr.t12z.wrfsfcf01.grib2\n"
     ]
    },
    {
     "name": "stderr",
     "output_type": "stream",
     "text": [
      " 31%|███       | 106/347 [07:52<04:28,  1.11s/it]"
     ]
    },
    {
     "name": "stdout",
     "output_type": "stream",
     "text": [
      "https://noaa-hrrr-bdp-pds.s3.amazonaws.com/hrrr.20141216/conus/hrrr.t12z.wrfsfcf01.grib2\n"
     ]
    },
    {
     "name": "stderr",
     "output_type": "stream",
     "text": [
      " 31%|███       | 107/347 [08:09<23:51,  5.96s/it]"
     ]
    },
    {
     "name": "stdout",
     "output_type": "stream",
     "text": [
      "https://noaa-hrrr-bdp-pds.s3.amazonaws.com/hrrr.20131007/conus/hrrr.t12z.wrfsfcf01.grib2\n"
     ]
    },
    {
     "name": "stderr",
     "output_type": "stream",
     "text": [
      " 31%|███       | 108/347 [08:10<17:44,  4.46s/it]"
     ]
    },
    {
     "name": "stdout",
     "output_type": "stream",
     "text": [
      "https://noaa-hrrr-bdp-pds.s3.amazonaws.com/hrrr.20130909/conus/hrrr.t12z.wrfsfcf01.grib2\n"
     ]
    },
    {
     "name": "stderr",
     "output_type": "stream",
     "text": [
      " 31%|███▏      | 109/347 [08:11<13:29,  3.40s/it]"
     ]
    },
    {
     "name": "stdout",
     "output_type": "stream",
     "text": [
      "https://noaa-hrrr-bdp-pds.s3.amazonaws.com/hrrr.20140430/conus/hrrr.t12z.wrfsfcf01.grib2\n"
     ]
    },
    {
     "name": "stderr",
     "output_type": "stream",
     "text": [
      " 32%|███▏      | 110/347 [08:12<10:32,  2.67s/it]"
     ]
    },
    {
     "name": "stdout",
     "output_type": "stream",
     "text": [
      "https://noaa-hrrr-bdp-pds.s3.amazonaws.com/hrrr.20130507/conus/hrrr.t12z.wrfsfcf01.grib2\n"
     ]
    },
    {
     "name": "stderr",
     "output_type": "stream",
     "text": [
      " 32%|███▏      | 111/347 [08:13<08:26,  2.15s/it]"
     ]
    },
    {
     "name": "stdout",
     "output_type": "stream",
     "text": [
      "https://noaa-hrrr-bdp-pds.s3.amazonaws.com/hrrr.20130624/conus/hrrr.t12z.wrfsfcf01.grib2\n"
     ]
    },
    {
     "name": "stderr",
     "output_type": "stream",
     "text": [
      " 32%|███▏      | 112/347 [08:14<07:01,  1.79s/it]"
     ]
    },
    {
     "name": "stdout",
     "output_type": "stream",
     "text": [
      "https://noaa-hrrr-bdp-pds.s3.amazonaws.com/hrrr.20130502/conus/hrrr.t12z.wrfsfcf01.grib2\n"
     ]
    },
    {
     "name": "stderr",
     "output_type": "stream",
     "text": [
      " 33%|███▎      | 113/347 [08:15<05:59,  1.54s/it]"
     ]
    },
    {
     "name": "stdout",
     "output_type": "stream",
     "text": [
      "https://noaa-hrrr-bdp-pds.s3.amazonaws.com/hrrr.20130409/conus/hrrr.t12z.wrfsfcf01.grib2\n"
     ]
    },
    {
     "name": "stderr",
     "output_type": "stream",
     "text": [
      " 33%|███▎      | 114/347 [08:16<05:16,  1.36s/it]"
     ]
    },
    {
     "name": "stdout",
     "output_type": "stream",
     "text": [
      "https://noaa-hrrr-bdp-pds.s3.amazonaws.com/hrrr.20170823/conus/hrrr.t12z.wrfsfcf01.grib2\n"
     ]
    },
    {
     "name": "stderr",
     "output_type": "stream",
     "text": [
      " 33%|███▎      | 115/347 [09:43<1:44:30, 27.03s/it]"
     ]
    },
    {
     "name": "stdout",
     "output_type": "stream",
     "text": [
      "https://noaa-hrrr-bdp-pds.s3.amazonaws.com/hrrr.20170904/conus/hrrr.t12z.wrfsfcf01.grib2\n"
     ]
    },
    {
     "name": "stderr",
     "output_type": "stream",
     "text": [
      " 33%|███▎      | 116/347 [10:07<1:41:12, 26.29s/it]"
     ]
    },
    {
     "name": "stdout",
     "output_type": "stream",
     "text": [
      "https://noaa-hrrr-bdp-pds.s3.amazonaws.com/hrrr.20170105/conus/hrrr.t12z.wrfsfcf01.grib2\n"
     ]
    },
    {
     "name": "stderr",
     "output_type": "stream",
     "text": [
      " 34%|███▎      | 117/347 [10:45<1:54:04, 29.76s/it]"
     ]
    },
    {
     "name": "stdout",
     "output_type": "stream",
     "text": [
      "https://noaa-hrrr-bdp-pds.s3.amazonaws.com/hrrr.20140225/conus/hrrr.t12z.wrfsfcf01.grib2\n"
     ]
    },
    {
     "name": "stderr",
     "output_type": "stream",
     "text": [
      " 34%|███▍      | 118/347 [10:46<1:20:35, 21.11s/it]"
     ]
    },
    {
     "name": "stdout",
     "output_type": "stream",
     "text": [
      "https://noaa-hrrr-bdp-pds.s3.amazonaws.com/hrrr.20140611/conus/hrrr.t12z.wrfsfcf01.grib2\n"
     ]
    },
    {
     "name": "stderr",
     "output_type": "stream",
     "text": [
      " 34%|███▍      | 119/347 [10:47<57:16, 15.07s/it]  "
     ]
    },
    {
     "name": "stdout",
     "output_type": "stream",
     "text": [
      "https://noaa-hrrr-bdp-pds.s3.amazonaws.com/hrrr.20170628/conus/hrrr.t12z.wrfsfcf01.grib2\n"
     ]
    },
    {
     "name": "stderr",
     "output_type": "stream",
     "text": [
      " 35%|███▍      | 120/347 [10:48<40:57, 10.83s/it]"
     ]
    },
    {
     "name": "stdout",
     "output_type": "stream",
     "text": [
      "https://noaa-hrrr-bdp-pds.s3.amazonaws.com/hrrr.20130924/conus/hrrr.t12z.wrfsfcf01.grib2\n"
     ]
    },
    {
     "name": "stderr",
     "output_type": "stream",
     "text": [
      " 35%|███▍      | 121/347 [10:49<29:36,  7.86s/it]"
     ]
    },
    {
     "name": "stdout",
     "output_type": "stream",
     "text": [
      "https://noaa-hrrr-bdp-pds.s3.amazonaws.com/hrrr.20131120/conus/hrrr.t12z.wrfsfcf01.grib2\n"
     ]
    },
    {
     "name": "stderr",
     "output_type": "stream",
     "text": [
      " 35%|███▌      | 122/347 [10:50<21:42,  5.79s/it]"
     ]
    },
    {
     "name": "stdout",
     "output_type": "stream",
     "text": [
      "https://noaa-hrrr-bdp-pds.s3.amazonaws.com/hrrr.20130219/conus/hrrr.t12z.wrfsfcf01.grib2\n"
     ]
    },
    {
     "name": "stderr",
     "output_type": "stream",
     "text": [
      " 35%|███▌      | 123/347 [10:51<16:12,  4.34s/it]"
     ]
    },
    {
     "name": "stdout",
     "output_type": "stream",
     "text": [
      "https://noaa-hrrr-bdp-pds.s3.amazonaws.com/hrrr.20140520/conus/hrrr.t12z.wrfsfcf01.grib2\n"
     ]
    },
    {
     "name": "stderr",
     "output_type": "stream",
     "text": [
      " 36%|███▌      | 124/347 [10:52<12:18,  3.31s/it]"
     ]
    },
    {
     "name": "stdout",
     "output_type": "stream",
     "text": [
      "https://noaa-hrrr-bdp-pds.s3.amazonaws.com/hrrr.20130301/conus/hrrr.t12z.wrfsfcf01.grib2\n"
     ]
    },
    {
     "name": "stderr",
     "output_type": "stream",
     "text": [
      " 36%|███▌      | 125/347 [10:53<09:37,  2.60s/it]"
     ]
    },
    {
     "name": "stdout",
     "output_type": "stream",
     "text": [
      "https://noaa-hrrr-bdp-pds.s3.amazonaws.com/hrrr.20130210/conus/hrrr.t12z.wrfsfcf01.grib2\n"
     ]
    },
    {
     "name": "stderr",
     "output_type": "stream",
     "text": [
      " 36%|███▋      | 126/347 [10:53<07:44,  2.10s/it]"
     ]
    },
    {
     "name": "stdout",
     "output_type": "stream",
     "text": [
      "https://noaa-hrrr-bdp-pds.s3.amazonaws.com/hrrr.20130521/conus/hrrr.t12z.wrfsfcf01.grib2\n"
     ]
    },
    {
     "name": "stderr",
     "output_type": "stream",
     "text": [
      " 37%|███▋      | 127/347 [10:54<06:26,  1.76s/it]"
     ]
    },
    {
     "name": "stdout",
     "output_type": "stream",
     "text": [
      "https://noaa-hrrr-bdp-pds.s3.amazonaws.com/hrrr.20130717/conus/hrrr.t12z.wrfsfcf01.grib2\n"
     ]
    },
    {
     "name": "stderr",
     "output_type": "stream",
     "text": [
      " 37%|███▋      | 128/347 [10:55<05:33,  1.52s/it]"
     ]
    },
    {
     "name": "stdout",
     "output_type": "stream",
     "text": [
      "https://noaa-hrrr-bdp-pds.s3.amazonaws.com/hrrr.20130515/conus/hrrr.t12z.wrfsfcf01.grib2\n"
     ]
    },
    {
     "name": "stderr",
     "output_type": "stream",
     "text": [
      " 37%|███▋      | 129/347 [10:56<04:56,  1.36s/it]"
     ]
    },
    {
     "name": "stdout",
     "output_type": "stream",
     "text": [
      "https://noaa-hrrr-bdp-pds.s3.amazonaws.com/hrrr.20130108/conus/hrrr.t12z.wrfsfcf01.grib2\n"
     ]
    },
    {
     "name": "stderr",
     "output_type": "stream",
     "text": [
      " 37%|███▋      | 130/347 [10:57<04:27,  1.23s/it]"
     ]
    },
    {
     "name": "stdout",
     "output_type": "stream",
     "text": [
      "https://noaa-hrrr-bdp-pds.s3.amazonaws.com/hrrr.20140701/conus/hrrr.t12z.wrfsfcf01.grib2\n"
     ]
    },
    {
     "name": "stderr",
     "output_type": "stream",
     "text": [
      " 38%|███▊      | 131/347 [10:58<04:07,  1.15s/it]"
     ]
    },
    {
     "name": "stdout",
     "output_type": "stream",
     "text": [
      "https://noaa-hrrr-bdp-pds.s3.amazonaws.com/hrrr.20130129/conus/hrrr.t12z.wrfsfcf01.grib2\n"
     ]
    },
    {
     "name": "stderr",
     "output_type": "stream",
     "text": [
      " 38%|███▊      | 132/347 [10:59<03:53,  1.08s/it]"
     ]
    },
    {
     "name": "stdout",
     "output_type": "stream",
     "text": [
      "https://noaa-hrrr-bdp-pds.s3.amazonaws.com/hrrr.20160712/conus/hrrr.t12z.wrfsfcf01.grib2\n"
     ]
    },
    {
     "name": "stderr",
     "output_type": "stream",
     "text": [
      " 38%|███▊      | 133/347 [11:40<46:54, 13.15s/it]"
     ]
    },
    {
     "name": "stdout",
     "output_type": "stream",
     "text": [
      "https://noaa-hrrr-bdp-pds.s3.amazonaws.com/hrrr.20160827/conus/hrrr.t12z.wrfsfcf01.grib2\n"
     ]
    },
    {
     "name": "stderr",
     "output_type": "stream",
     "text": [
      " 39%|███▊      | 134/347 [12:08<1:01:49, 17.42s/it]"
     ]
    },
    {
     "name": "stdout",
     "output_type": "stream",
     "text": [
      "https://noaa-hrrr-bdp-pds.s3.amazonaws.com/hrrr.20140929/conus/hrrr.t12z.wrfsfcf01.grib2\n"
     ]
    },
    {
     "name": "stderr",
     "output_type": "stream",
     "text": [
      " 39%|███▉      | 135/347 [12:09<44:04, 12.48s/it]  "
     ]
    },
    {
     "name": "stdout",
     "output_type": "stream",
     "text": [
      "https://noaa-hrrr-bdp-pds.s3.amazonaws.com/hrrr.20130801/conus/hrrr.t12z.wrfsfcf01.grib2\n"
     ]
    },
    {
     "name": "stderr",
     "output_type": "stream",
     "text": [
      " 39%|███▉      | 136/347 [12:10<31:42,  9.02s/it]"
     ]
    },
    {
     "name": "stdout",
     "output_type": "stream",
     "text": [
      "https://noaa-hrrr-bdp-pds.s3.amazonaws.com/hrrr.20130926/conus/hrrr.t12z.wrfsfcf01.grib2\n"
     ]
    },
    {
     "name": "stderr",
     "output_type": "stream",
     "text": [
      " 39%|███▉      | 137/347 [12:11<23:03,  6.59s/it]"
     ]
    },
    {
     "name": "stdout",
     "output_type": "stream",
     "text": [
      "https://noaa-hrrr-bdp-pds.s3.amazonaws.com/hrrr.20140521/conus/hrrr.t12z.wrfsfcf01.grib2\n"
     ]
    },
    {
     "name": "stderr",
     "output_type": "stream",
     "text": [
      " 40%|███▉      | 138/347 [12:12<17:03,  4.90s/it]"
     ]
    },
    {
     "name": "stdout",
     "output_type": "stream",
     "text": [
      "https://noaa-hrrr-bdp-pds.s3.amazonaws.com/hrrr.20130912/conus/hrrr.t12z.wrfsfcf01.grib2\n"
     ]
    },
    {
     "name": "stderr",
     "output_type": "stream",
     "text": [
      " 40%|████      | 139/347 [12:13<12:50,  3.70s/it]"
     ]
    },
    {
     "name": "stdout",
     "output_type": "stream",
     "text": [
      "https://noaa-hrrr-bdp-pds.s3.amazonaws.com/hrrr.20140319/conus/hrrr.t12z.wrfsfcf01.grib2\n"
     ]
    },
    {
     "name": "stderr",
     "output_type": "stream",
     "text": [
      " 40%|████      | 140/347 [12:13<09:54,  2.87s/it]"
     ]
    },
    {
     "name": "stdout",
     "output_type": "stream",
     "text": [
      "https://noaa-hrrr-bdp-pds.s3.amazonaws.com/hrrr.20130828/conus/hrrr.t12z.wrfsfcf01.grib2\n"
     ]
    },
    {
     "name": "stderr",
     "output_type": "stream",
     "text": [
      " 41%|████      | 141/347 [12:14<07:51,  2.29s/it]"
     ]
    },
    {
     "name": "stdout",
     "output_type": "stream",
     "text": [
      "https://noaa-hrrr-bdp-pds.s3.amazonaws.com/hrrr.20130130/conus/hrrr.t12z.wrfsfcf01.grib2\n"
     ]
    },
    {
     "name": "stderr",
     "output_type": "stream",
     "text": [
      " 41%|████      | 142/347 [12:15<06:26,  1.88s/it]"
     ]
    },
    {
     "name": "stdout",
     "output_type": "stream",
     "text": [
      "https://noaa-hrrr-bdp-pds.s3.amazonaws.com/hrrr.20130613/conus/hrrr.t12z.wrfsfcf01.grib2\n"
     ]
    },
    {
     "name": "stderr",
     "output_type": "stream",
     "text": [
      " 41%|████      | 143/347 [12:16<05:26,  1.60s/it]"
     ]
    },
    {
     "name": "stdout",
     "output_type": "stream",
     "text": [
      "https://noaa-hrrr-bdp-pds.s3.amazonaws.com/hrrr.20130501/conus/hrrr.t12z.wrfsfcf01.grib2\n"
     ]
    },
    {
     "name": "stderr",
     "output_type": "stream",
     "text": [
      " 41%|████▏     | 144/347 [12:17<04:45,  1.40s/it]"
     ]
    },
    {
     "name": "stdout",
     "output_type": "stream",
     "text": [
      "https://noaa-hrrr-bdp-pds.s3.amazonaws.com/hrrr.20130711/conus/hrrr.t12z.wrfsfcf01.grib2\n"
     ]
    },
    {
     "name": "stderr",
     "output_type": "stream",
     "text": [
      " 42%|████▏     | 145/347 [12:18<04:15,  1.26s/it]"
     ]
    },
    {
     "name": "stdout",
     "output_type": "stream",
     "text": [
      "https://noaa-hrrr-bdp-pds.s3.amazonaws.com/hrrr.20131028/conus/hrrr.t12z.wrfsfcf01.grib2\n"
     ]
    },
    {
     "name": "stderr",
     "output_type": "stream",
     "text": [
      " 42%|████▏     | 146/347 [12:19<03:53,  1.16s/it]"
     ]
    },
    {
     "name": "stdout",
     "output_type": "stream",
     "text": [
      "https://noaa-hrrr-bdp-pds.s3.amazonaws.com/hrrr.20140923/conus/hrrr.t12z.wrfsfcf01.grib2\n"
     ]
    },
    {
     "name": "stderr",
     "output_type": "stream",
     "text": [
      " 42%|████▏     | 147/347 [12:20<03:38,  1.09s/it]"
     ]
    },
    {
     "name": "stdout",
     "output_type": "stream",
     "text": [
      "https://noaa-hrrr-bdp-pds.s3.amazonaws.com/hrrr.20140724/conus/hrrr.t12z.wrfsfcf01.grib2\n"
     ]
    },
    {
     "name": "stderr",
     "output_type": "stream",
     "text": [
      " 43%|████▎     | 148/347 [12:21<03:27,  1.04s/it]"
     ]
    },
    {
     "name": "stdout",
     "output_type": "stream",
     "text": [
      "https://noaa-hrrr-bdp-pds.s3.amazonaws.com/hrrr.20131022/conus/hrrr.t12z.wrfsfcf01.grib2\n"
     ]
    },
    {
     "name": "stderr",
     "output_type": "stream",
     "text": [
      " 43%|████▎     | 149/347 [12:22<03:19,  1.01s/it]"
     ]
    },
    {
     "name": "stdout",
     "output_type": "stream",
     "text": [
      "https://noaa-hrrr-bdp-pds.s3.amazonaws.com/hrrr.20140730/conus/hrrr.t12z.wrfsfcf01.grib2\n"
     ]
    },
    {
     "name": "stderr",
     "output_type": "stream",
     "text": [
      " 43%|████▎     | 150/347 [12:23<03:14,  1.01it/s]"
     ]
    },
    {
     "name": "stdout",
     "output_type": "stream",
     "text": [
      "https://noaa-hrrr-bdp-pds.s3.amazonaws.com/hrrr.20140818/conus/hrrr.t12z.wrfsfcf01.grib2\n"
     ]
    },
    {
     "name": "stderr",
     "output_type": "stream",
     "text": [
      " 44%|████▎     | 151/347 [12:24<03:11,  1.02it/s]"
     ]
    },
    {
     "name": "stdout",
     "output_type": "stream",
     "text": [
      "https://noaa-hrrr-bdp-pds.s3.amazonaws.com/hrrr.20130604/conus/hrrr.t12z.wrfsfcf01.grib2\n"
     ]
    },
    {
     "name": "stderr",
     "output_type": "stream",
     "text": [
      " 44%|████▍     | 152/347 [12:25<03:09,  1.03it/s]"
     ]
    },
    {
     "name": "stdout",
     "output_type": "stream",
     "text": [
      "https://noaa-hrrr-bdp-pds.s3.amazonaws.com/hrrr.20140420/conus/hrrr.t12z.wrfsfcf01.grib2\n"
     ]
    },
    {
     "name": "stderr",
     "output_type": "stream",
     "text": [
      " 44%|████▍     | 153/347 [12:26<03:06,  1.04it/s]"
     ]
    },
    {
     "name": "stdout",
     "output_type": "stream",
     "text": [
      "https://noaa-hrrr-bdp-pds.s3.amazonaws.com/hrrr.20130330/conus/hrrr.t12z.wrfsfcf01.grib2\n"
     ]
    },
    {
     "name": "stderr",
     "output_type": "stream",
     "text": [
      " 44%|████▍     | 154/347 [12:27<03:04,  1.05it/s]"
     ]
    },
    {
     "name": "stdout",
     "output_type": "stream",
     "text": [
      "https://noaa-hrrr-bdp-pds.s3.amazonaws.com/hrrr.20140303/conus/hrrr.t12z.wrfsfcf01.grib2\n"
     ]
    },
    {
     "name": "stderr",
     "output_type": "stream",
     "text": [
      " 45%|████▍     | 155/347 [12:28<03:02,  1.05it/s]"
     ]
    },
    {
     "name": "stdout",
     "output_type": "stream",
     "text": [
      "https://noaa-hrrr-bdp-pds.s3.amazonaws.com/hrrr.20130807/conus/hrrr.t12z.wrfsfcf01.grib2\n"
     ]
    },
    {
     "name": "stderr",
     "output_type": "stream",
     "text": [
      " 45%|████▍     | 156/347 [12:28<03:00,  1.06it/s]"
     ]
    },
    {
     "name": "stdout",
     "output_type": "stream",
     "text": [
      "https://noaa-hrrr-bdp-pds.s3.amazonaws.com/hrrr.20130626/conus/hrrr.t12z.wrfsfcf01.grib2\n"
     ]
    },
    {
     "name": "stderr",
     "output_type": "stream",
     "text": [
      " 45%|████▌     | 157/347 [12:29<02:58,  1.06it/s]"
     ]
    },
    {
     "name": "stdout",
     "output_type": "stream",
     "text": [
      "https://noaa-hrrr-bdp-pds.s3.amazonaws.com/hrrr.20140717/conus/hrrr.t12z.wrfsfcf01.grib2\n"
     ]
    },
    {
     "name": "stderr",
     "output_type": "stream",
     "text": [
      " 46%|████▌     | 158/347 [12:30<02:57,  1.06it/s]"
     ]
    },
    {
     "name": "stdout",
     "output_type": "stream",
     "text": [
      "https://noaa-hrrr-bdp-pds.s3.amazonaws.com/hrrr.20180227/conus/hrrr.t12z.wrfsfcf01.grib2\n"
     ]
    },
    {
     "name": "stderr",
     "output_type": "stream",
     "text": [
      " 46%|████▌     | 159/347 [12:31<02:56,  1.07it/s]"
     ]
    },
    {
     "name": "stdout",
     "output_type": "stream",
     "text": [
      "https://noaa-hrrr-bdp-pds.s3.amazonaws.com/hrrr.20130726/conus/hrrr.t12z.wrfsfcf01.grib2\n"
     ]
    },
    {
     "name": "stderr",
     "output_type": "stream",
     "text": [
      " 46%|████▌     | 160/347 [12:32<02:55,  1.07it/s]"
     ]
    },
    {
     "name": "stdout",
     "output_type": "stream",
     "text": [
      "https://noaa-hrrr-bdp-pds.s3.amazonaws.com/hrrr.20140502/conus/hrrr.t12z.wrfsfcf01.grib2\n"
     ]
    },
    {
     "name": "stderr",
     "output_type": "stream",
     "text": [
      " 46%|████▋     | 161/347 [12:33<02:54,  1.07it/s]"
     ]
    },
    {
     "name": "stdout",
     "output_type": "stream",
     "text": [
      "https://noaa-hrrr-bdp-pds.s3.amazonaws.com/hrrr.20140415/conus/hrrr.t12z.wrfsfcf01.grib2\n"
     ]
    },
    {
     "name": "stderr",
     "output_type": "stream",
     "text": [
      " 47%|████▋     | 162/347 [12:34<02:52,  1.07it/s]"
     ]
    },
    {
     "name": "stdout",
     "output_type": "stream",
     "text": [
      "https://noaa-hrrr-bdp-pds.s3.amazonaws.com/hrrr.20130628/conus/hrrr.t12z.wrfsfcf01.grib2\n"
     ]
    },
    {
     "name": "stderr",
     "output_type": "stream",
     "text": [
      " 47%|████▋     | 163/347 [12:35<02:51,  1.07it/s]"
     ]
    },
    {
     "name": "stdout",
     "output_type": "stream",
     "text": [
      "https://noaa-hrrr-bdp-pds.s3.amazonaws.com/hrrr.20140816/conus/hrrr.t12z.wrfsfcf01.grib2\n"
     ]
    },
    {
     "name": "stderr",
     "output_type": "stream",
     "text": [
      " 47%|████▋     | 164/347 [12:36<02:51,  1.07it/s]"
     ]
    },
    {
     "name": "stdout",
     "output_type": "stream",
     "text": [
      "https://noaa-hrrr-bdp-pds.s3.amazonaws.com/hrrr.20130724/conus/hrrr.t12z.wrfsfcf01.grib2\n"
     ]
    },
    {
     "name": "stderr",
     "output_type": "stream",
     "text": [
      " 48%|████▊     | 165/347 [12:37<02:50,  1.07it/s]"
     ]
    },
    {
     "name": "stdout",
     "output_type": "stream",
     "text": [
      "https://noaa-hrrr-bdp-pds.s3.amazonaws.com/hrrr.20131218/conus/hrrr.t12z.wrfsfcf01.grib2\n"
     ]
    },
    {
     "name": "stderr",
     "output_type": "stream",
     "text": [
      " 48%|████▊     | 166/347 [12:38<02:50,  1.06it/s]"
     ]
    },
    {
     "name": "stdout",
     "output_type": "stream",
     "text": [
      "https://noaa-hrrr-bdp-pds.s3.amazonaws.com/hrrr.20140910/conus/hrrr.t12z.wrfsfcf01.grib2\n"
     ]
    },
    {
     "name": "stderr",
     "output_type": "stream",
     "text": [
      " 48%|████▊     | 167/347 [12:39<02:49,  1.06it/s]"
     ]
    },
    {
     "name": "stdout",
     "output_type": "stream",
     "text": [
      "https://noaa-hrrr-bdp-pds.s3.amazonaws.com/hrrr.20130424/conus/hrrr.t12z.wrfsfcf01.grib2\n"
     ]
    },
    {
     "name": "stderr",
     "output_type": "stream",
     "text": [
      " 48%|████▊     | 168/347 [12:40<02:47,  1.07it/s]"
     ]
    },
    {
     "name": "stdout",
     "output_type": "stream",
     "text": [
      "https://noaa-hrrr-bdp-pds.s3.amazonaws.com/hrrr.20140514/conus/hrrr.t12z.wrfsfcf01.grib2\n"
     ]
    },
    {
     "name": "stderr",
     "output_type": "stream",
     "text": [
      " 49%|████▊     | 169/347 [12:41<02:46,  1.07it/s]"
     ]
    },
    {
     "name": "stdout",
     "output_type": "stream",
     "text": [
      "https://noaa-hrrr-bdp-pds.s3.amazonaws.com/hrrr.20150319/conus/hrrr.t12z.wrfsfcf01.grib2\n"
     ]
    },
    {
     "name": "stderr",
     "output_type": "stream",
     "text": [
      " 49%|████▉     | 170/347 [13:02<20:41,  7.02s/it]"
     ]
    },
    {
     "name": "stdout",
     "output_type": "stream",
     "text": [
      "https://noaa-hrrr-bdp-pds.s3.amazonaws.com/hrrr.20130529/conus/hrrr.t12z.wrfsfcf01.grib2\n"
     ]
    },
    {
     "name": "stderr",
     "output_type": "stream",
     "text": [
      " 49%|████▉     | 171/347 [13:03<15:13,  5.19s/it]"
     ]
    },
    {
     "name": "stdout",
     "output_type": "stream",
     "text": [
      "https://noaa-hrrr-bdp-pds.s3.amazonaws.com/hrrr.20140707/conus/hrrr.t12z.wrfsfcf01.grib2\n"
     ]
    },
    {
     "name": "stderr",
     "output_type": "stream",
     "text": [
      " 50%|████▉     | 172/347 [13:04<11:25,  3.91s/it]"
     ]
    },
    {
     "name": "stdout",
     "output_type": "stream",
     "text": [
      "https://noaa-hrrr-bdp-pds.s3.amazonaws.com/hrrr.20140728/conus/hrrr.t12z.wrfsfcf01.grib2\n"
     ]
    },
    {
     "name": "stderr",
     "output_type": "stream",
     "text": [
      " 50%|████▉     | 173/347 [13:05<08:47,  3.03s/it]"
     ]
    },
    {
     "name": "stdout",
     "output_type": "stream",
     "text": [
      "https://noaa-hrrr-bdp-pds.s3.amazonaws.com/hrrr.20170829/conus/hrrr.t12z.wrfsfcf01.grib2\n"
     ]
    },
    {
     "name": "stderr",
     "output_type": "stream",
     "text": [
      " 50%|█████     | 174/347 [13:51<46:33, 16.15s/it]"
     ]
    },
    {
     "name": "stdout",
     "output_type": "stream",
     "text": [
      "https://noaa-hrrr-bdp-pds.s3.amazonaws.com/hrrr.20170207/conus/hrrr.t12z.wrfsfcf01.grib2\n"
     ]
    },
    {
     "name": "stderr",
     "output_type": "stream",
     "text": [
      " 50%|█████     | 175/347 [14:26<1:01:50, 21.57s/it]"
     ]
    },
    {
     "name": "stdout",
     "output_type": "stream",
     "text": [
      "https://noaa-hrrr-bdp-pds.s3.amazonaws.com/hrrr.20130827/conus/hrrr.t12z.wrfsfcf01.grib2\n"
     ]
    },
    {
     "name": "stderr",
     "output_type": "stream",
     "text": [
      " 51%|█████     | 176/347 [14:27<43:50, 15.38s/it]  "
     ]
    },
    {
     "name": "stdout",
     "output_type": "stream",
     "text": [
      "https://noaa-hrrr-bdp-pds.s3.amazonaws.com/hrrr.20131023/conus/hrrr.t12z.wrfsfcf01.grib2\n"
     ]
    },
    {
     "name": "stderr",
     "output_type": "stream",
     "text": [
      " 51%|█████     | 177/347 [14:28<31:18, 11.05s/it]"
     ]
    },
    {
     "name": "stdout",
     "output_type": "stream",
     "text": [
      "https://noaa-hrrr-bdp-pds.s3.amazonaws.com/hrrr.20140714/conus/hrrr.t12z.wrfsfcf01.grib2\n"
     ]
    },
    {
     "name": "stderr",
     "output_type": "stream",
     "text": [
      " 51%|█████▏    | 178/347 [14:28<22:34,  8.02s/it]"
     ]
    },
    {
     "name": "stdout",
     "output_type": "stream",
     "text": [
      "https://noaa-hrrr-bdp-pds.s3.amazonaws.com/hrrr.20140721/conus/hrrr.t12z.wrfsfcf01.grib2\n"
     ]
    },
    {
     "name": "stderr",
     "output_type": "stream",
     "text": [
      " 52%|█████▏    | 179/347 [14:29<16:31,  5.90s/it]"
     ]
    },
    {
     "name": "stdout",
     "output_type": "stream",
     "text": [
      "https://noaa-hrrr-bdp-pds.s3.amazonaws.com/hrrr.20140817/conus/hrrr.t12z.wrfsfcf01.grib2\n"
     ]
    },
    {
     "name": "stderr",
     "output_type": "stream",
     "text": [
      " 52%|█████▏    | 180/347 [14:30<12:16,  4.41s/it]"
     ]
    },
    {
     "name": "stdout",
     "output_type": "stream",
     "text": [
      "https://noaa-hrrr-bdp-pds.s3.amazonaws.com/hrrr.20130701/conus/hrrr.t12z.wrfsfcf01.grib2\n"
     ]
    },
    {
     "name": "stderr",
     "output_type": "stream",
     "text": [
      " 52%|█████▏    | 181/347 [14:31<09:19,  3.37s/it]"
     ]
    },
    {
     "name": "stdout",
     "output_type": "stream",
     "text": [
      "https://noaa-hrrr-bdp-pds.s3.amazonaws.com/hrrr.20140630/conus/hrrr.t12z.wrfsfcf01.grib2\n"
     ]
    },
    {
     "name": "stderr",
     "output_type": "stream",
     "text": [
      " 52%|█████▏    | 182/347 [14:32<07:19,  2.66s/it]"
     ]
    },
    {
     "name": "stdout",
     "output_type": "stream",
     "text": [
      "https://noaa-hrrr-bdp-pds.s3.amazonaws.com/hrrr.20140512/conus/hrrr.t12z.wrfsfcf01.grib2\n"
     ]
    },
    {
     "name": "stderr",
     "output_type": "stream",
     "text": [
      " 53%|█████▎    | 183/347 [14:33<05:51,  2.15s/it]"
     ]
    },
    {
     "name": "stdout",
     "output_type": "stream",
     "text": [
      "https://noaa-hrrr-bdp-pds.s3.amazonaws.com/hrrr.20140723/conus/hrrr.t12z.wrfsfcf01.grib2\n"
     ]
    },
    {
     "name": "stderr",
     "output_type": "stream",
     "text": [
      " 53%|█████▎    | 184/347 [14:34<04:51,  1.79s/it]"
     ]
    },
    {
     "name": "stdout",
     "output_type": "stream",
     "text": [
      "https://noaa-hrrr-bdp-pds.s3.amazonaws.com/hrrr.20130910/conus/hrrr.t12z.wrfsfcf01.grib2\n"
     ]
    },
    {
     "name": "stderr",
     "output_type": "stream",
     "text": [
      " 53%|█████▎    | 185/347 [14:35<04:08,  1.54s/it]"
     ]
    },
    {
     "name": "stdout",
     "output_type": "stream",
     "text": [
      "https://noaa-hrrr-bdp-pds.s3.amazonaws.com/hrrr.20140612/conus/hrrr.t12z.wrfsfcf01.grib2\n"
     ]
    },
    {
     "name": "stderr",
     "output_type": "stream",
     "text": [
      " 54%|█████▎    | 186/347 [14:36<03:39,  1.36s/it]"
     ]
    },
    {
     "name": "stdout",
     "output_type": "stream",
     "text": [
      "https://noaa-hrrr-bdp-pds.s3.amazonaws.com/hrrr.20160919/conus/hrrr.t12z.wrfsfcf01.grib2\n"
     ]
    },
    {
     "name": "stderr",
     "output_type": "stream",
     "text": [
      " 54%|█████▍    | 187/347 [15:10<29:39, 11.12s/it]"
     ]
    },
    {
     "name": "stdout",
     "output_type": "stream",
     "text": [
      "https://noaa-hrrr-bdp-pds.s3.amazonaws.com/hrrr.20130403/conus/hrrr.t12z.wrfsfcf01.grib2\n"
     ]
    },
    {
     "name": "stderr",
     "output_type": "stream",
     "text": [
      " 54%|█████▍    | 188/347 [15:11<21:22,  8.07s/it]"
     ]
    },
    {
     "name": "stdout",
     "output_type": "stream",
     "text": [
      "https://noaa-hrrr-bdp-pds.s3.amazonaws.com/hrrr.20170111/conus/hrrr.t12z.wrfsfcf01.grib2\n"
     ]
    },
    {
     "name": "stderr",
     "output_type": "stream",
     "text": [
      " 54%|█████▍    | 189/347 [15:12<15:36,  5.93s/it]"
     ]
    },
    {
     "name": "stdout",
     "output_type": "stream",
     "text": [
      "https://noaa-hrrr-bdp-pds.s3.amazonaws.com/hrrr.20130326/conus/hrrr.t12z.wrfsfcf01.grib2\n"
     ]
    },
    {
     "name": "stderr",
     "output_type": "stream",
     "text": [
      " 55%|█████▍    | 190/347 [15:13<11:35,  4.43s/it]"
     ]
    },
    {
     "name": "stdout",
     "output_type": "stream",
     "text": [
      "https://noaa-hrrr-bdp-pds.s3.amazonaws.com/hrrr.20130625/conus/hrrr.t12z.wrfsfcf01.grib2\n"
     ]
    },
    {
     "name": "stderr",
     "output_type": "stream",
     "text": [
      " 55%|█████▌    | 191/347 [15:14<08:48,  3.39s/it]"
     ]
    },
    {
     "name": "stdout",
     "output_type": "stream",
     "text": [
      "https://noaa-hrrr-bdp-pds.s3.amazonaws.com/hrrr.20140826/conus/hrrr.t12z.wrfsfcf01.grib2\n"
     ]
    },
    {
     "name": "stderr",
     "output_type": "stream",
     "text": [
      " 55%|█████▌    | 192/347 [15:15<06:51,  2.65s/it]"
     ]
    },
    {
     "name": "stdout",
     "output_type": "stream",
     "text": [
      "https://noaa-hrrr-bdp-pds.s3.amazonaws.com/hrrr.20130718/conus/hrrr.t12z.wrfsfcf01.grib2\n"
     ]
    },
    {
     "name": "stderr",
     "output_type": "stream",
     "text": [
      " 56%|█████▌    | 193/347 [15:16<05:29,  2.14s/it]"
     ]
    },
    {
     "name": "stdout",
     "output_type": "stream",
     "text": [
      "https://noaa-hrrr-bdp-pds.s3.amazonaws.com/hrrr.20130430/conus/hrrr.t12z.wrfsfcf01.grib2\n"
     ]
    },
    {
     "name": "stderr",
     "output_type": "stream",
     "text": [
      " 56%|█████▌    | 194/347 [15:17<04:32,  1.78s/it]"
     ]
    },
    {
     "name": "stdout",
     "output_type": "stream",
     "text": [
      "https://noaa-hrrr-bdp-pds.s3.amazonaws.com/hrrr.20130221/conus/hrrr.t12z.wrfsfcf01.grib2\n"
     ]
    },
    {
     "name": "stderr",
     "output_type": "stream",
     "text": [
      " 56%|█████▌    | 195/347 [15:18<03:51,  1.52s/it]"
     ]
    },
    {
     "name": "stdout",
     "output_type": "stream",
     "text": [
      "https://noaa-hrrr-bdp-pds.s3.amazonaws.com/hrrr.20140203/conus/hrrr.t12z.wrfsfcf01.grib2\n"
     ]
    },
    {
     "name": "stderr",
     "output_type": "stream",
     "text": [
      " 56%|█████▋    | 196/347 [15:18<03:23,  1.35s/it]"
     ]
    },
    {
     "name": "stdout",
     "output_type": "stream",
     "text": [
      "https://noaa-hrrr-bdp-pds.s3.amazonaws.com/hrrr.20130514/conus/hrrr.t12z.wrfsfcf01.grib2\n"
     ]
    },
    {
     "name": "stderr",
     "output_type": "stream",
     "text": [
      " 57%|█████▋    | 197/347 [15:19<03:04,  1.23s/it]"
     ]
    },
    {
     "name": "stdout",
     "output_type": "stream",
     "text": [
      "https://noaa-hrrr-bdp-pds.s3.amazonaws.com/hrrr.20130815/conus/hrrr.t12z.wrfsfcf01.grib2\n"
     ]
    },
    {
     "name": "stderr",
     "output_type": "stream",
     "text": [
      " 57%|█████▋    | 198/347 [15:20<02:49,  1.14s/it]"
     ]
    },
    {
     "name": "stdout",
     "output_type": "stream",
     "text": [
      "https://noaa-hrrr-bdp-pds.s3.amazonaws.com/hrrr.20140811/conus/hrrr.t12z.wrfsfcf01.grib2\n"
     ]
    },
    {
     "name": "stderr",
     "output_type": "stream",
     "text": [
      " 57%|█████▋    | 199/347 [15:21<02:39,  1.08s/it]"
     ]
    },
    {
     "name": "stdout",
     "output_type": "stream",
     "text": [
      "https://noaa-hrrr-bdp-pds.s3.amazonaws.com/hrrr.20131024/conus/hrrr.t12z.wrfsfcf01.grib2\n"
     ]
    },
    {
     "name": "stderr",
     "output_type": "stream",
     "text": [
      " 58%|█████▊    | 200/347 [15:22<02:32,  1.04s/it]"
     ]
    },
    {
     "name": "stdout",
     "output_type": "stream",
     "text": [
      "https://noaa-hrrr-bdp-pds.s3.amazonaws.com/hrrr.20140417/conus/hrrr.t12z.wrfsfcf01.grib2\n"
     ]
    },
    {
     "name": "stderr",
     "output_type": "stream",
     "text": [
      " 58%|█████▊    | 201/347 [15:23<02:26,  1.00s/it]"
     ]
    },
    {
     "name": "stdout",
     "output_type": "stream",
     "text": [
      "https://noaa-hrrr-bdp-pds.s3.amazonaws.com/hrrr.20140915/conus/hrrr.t12z.wrfsfcf01.grib2\n"
     ]
    },
    {
     "name": "stderr",
     "output_type": "stream",
     "text": [
      " 58%|█████▊    | 202/347 [15:24<02:22,  1.02it/s]"
     ]
    },
    {
     "name": "stdout",
     "output_type": "stream",
     "text": [
      "https://noaa-hrrr-bdp-pds.s3.amazonaws.com/hrrr.20130808/conus/hrrr.t12z.wrfsfcf01.grib2\n"
     ]
    },
    {
     "name": "stderr",
     "output_type": "stream",
     "text": [
      " 59%|█████▊    | 203/347 [15:25<02:21,  1.02it/s]"
     ]
    },
    {
     "name": "stdout",
     "output_type": "stream",
     "text": [
      "https://noaa-hrrr-bdp-pds.s3.amazonaws.com/hrrr.20150609/conus/hrrr.t12z.wrfsfcf01.grib2\n"
     ]
    },
    {
     "name": "stderr",
     "output_type": "stream",
     "text": [
      " 59%|█████▉    | 204/347 [15:57<24:10, 10.14s/it]"
     ]
    },
    {
     "name": "stdout",
     "output_type": "stream",
     "text": [
      "https://noaa-hrrr-bdp-pds.s3.amazonaws.com/hrrr.20140828/conus/hrrr.t12z.wrfsfcf01.grib2\n"
     ]
    },
    {
     "name": "stderr",
     "output_type": "stream",
     "text": [
      " 59%|█████▉    | 205/347 [15:58<17:28,  7.39s/it]"
     ]
    },
    {
     "name": "stdout",
     "output_type": "stream",
     "text": [
      "https://noaa-hrrr-bdp-pds.s3.amazonaws.com/hrrr.20150817/conus/hrrr.t12z.wrfsfcf01.grib2\n"
     ]
    },
    {
     "name": "stderr",
     "output_type": "stream",
     "text": [
      " 59%|█████▉    | 206/347 [16:39<41:04, 17.48s/it]"
     ]
    },
    {
     "name": "stdout",
     "output_type": "stream",
     "text": [
      "https://noaa-hrrr-bdp-pds.s3.amazonaws.com/hrrr.20160927/conus/hrrr.t12z.wrfsfcf01.grib2\n"
     ]
    },
    {
     "name": "stderr",
     "output_type": "stream",
     "text": [
      " 60%|█████▉    | 207/347 [17:10<50:25, 21.61s/it]"
     ]
    },
    {
     "name": "stdout",
     "output_type": "stream",
     "text": [
      "https://noaa-hrrr-bdp-pds.s3.amazonaws.com/hrrr.20131217/conus/hrrr.t12z.wrfsfcf01.grib2\n"
     ]
    },
    {
     "name": "stderr",
     "output_type": "stream",
     "text": [
      " 60%|█████▉    | 208/347 [17:11<35:41, 15.40s/it]"
     ]
    },
    {
     "name": "stdout",
     "output_type": "stream",
     "text": [
      "https://noaa-hrrr-bdp-pds.s3.amazonaws.com/hrrr.20160922/conus/hrrr.t12z.wrfsfcf01.grib2\n"
     ]
    },
    {
     "name": "stderr",
     "output_type": "stream",
     "text": [
      " 60%|██████    | 209/347 [17:56<56:07, 24.41s/it]"
     ]
    },
    {
     "name": "stdout",
     "output_type": "stream",
     "text": [
      "https://noaa-hrrr-bdp-pds.s3.amazonaws.com/hrrr.20131212/conus/hrrr.t12z.wrfsfcf01.grib2\n"
     ]
    },
    {
     "name": "stderr",
     "output_type": "stream",
     "text": [
      " 61%|██████    | 210/347 [17:57<39:40, 17.38s/it]"
     ]
    },
    {
     "name": "stdout",
     "output_type": "stream",
     "text": [
      "https://noaa-hrrr-bdp-pds.s3.amazonaws.com/hrrr.20131113/conus/hrrr.t12z.wrfsfcf01.grib2\n"
     ]
    },
    {
     "name": "stderr",
     "output_type": "stream",
     "text": [
      " 61%|██████    | 211/347 [17:58<28:12, 12.45s/it]"
     ]
    },
    {
     "name": "stdout",
     "output_type": "stream",
     "text": [
      "https://noaa-hrrr-bdp-pds.s3.amazonaws.com/hrrr.20130814/conus/hrrr.t12z.wrfsfcf01.grib2\n"
     ]
    },
    {
     "name": "stderr",
     "output_type": "stream",
     "text": [
      " 61%|██████    | 212/347 [17:59<20:14,  9.00s/it]"
     ]
    },
    {
     "name": "stdout",
     "output_type": "stream",
     "text": [
      "https://noaa-hrrr-bdp-pds.s3.amazonaws.com/hrrr.20130804/conus/hrrr.t12z.wrfsfcf01.grib2\n"
     ]
    },
    {
     "name": "stderr",
     "output_type": "stream",
     "text": [
      " 61%|██████▏   | 213/347 [18:00<14:42,  6.58s/it]"
     ]
    },
    {
     "name": "stdout",
     "output_type": "stream",
     "text": [
      "https://noaa-hrrr-bdp-pds.s3.amazonaws.com/hrrr.20130930/conus/hrrr.t12z.wrfsfcf01.grib2\n"
     ]
    },
    {
     "name": "stderr",
     "output_type": "stream",
     "text": [
      " 62%|██████▏   | 214/347 [18:01<10:50,  4.89s/it]"
     ]
    },
    {
     "name": "stdout",
     "output_type": "stream",
     "text": [
      "https://noaa-hrrr-bdp-pds.s3.amazonaws.com/hrrr.20131030/conus/hrrr.t12z.wrfsfcf01.grib2\n"
     ]
    },
    {
     "name": "stderr",
     "output_type": "stream",
     "text": [
      " 62%|██████▏   | 215/347 [18:02<08:09,  3.71s/it]"
     ]
    },
    {
     "name": "stdout",
     "output_type": "stream",
     "text": [
      "https://noaa-hrrr-bdp-pds.s3.amazonaws.com/hrrr.20140820/conus/hrrr.t12z.wrfsfcf01.grib2\n"
     ]
    },
    {
     "name": "stderr",
     "output_type": "stream",
     "text": [
      " 62%|██████▏   | 216/347 [18:03<06:17,  2.88s/it]"
     ]
    },
    {
     "name": "stdout",
     "output_type": "stream",
     "text": [
      "https://noaa-hrrr-bdp-pds.s3.amazonaws.com/hrrr.20150616/conus/hrrr.t12z.wrfsfcf01.grib2\n"
     ]
    },
    {
     "name": "stderr",
     "output_type": "stream",
     "text": [
      " 63%|██████▎   | 217/347 [18:33<24:09, 11.15s/it]"
     ]
    },
    {
     "name": "stdout",
     "output_type": "stream",
     "text": [
      "https://noaa-hrrr-bdp-pds.s3.amazonaws.com/hrrr.20140515/conus/hrrr.t12z.wrfsfcf01.grib2\n"
     ]
    },
    {
     "name": "stderr",
     "output_type": "stream",
     "text": [
      " 63%|██████▎   | 218/347 [18:34<17:23,  8.09s/it]"
     ]
    },
    {
     "name": "stdout",
     "output_type": "stream",
     "text": [
      "https://noaa-hrrr-bdp-pds.s3.amazonaws.com/hrrr.20130617/conus/hrrr.t12z.wrfsfcf01.grib2\n"
     ]
    },
    {
     "name": "stderr",
     "output_type": "stream",
     "text": [
      " 63%|██████▎   | 219/347 [18:35<12:42,  5.95s/it]"
     ]
    },
    {
     "name": "stdout",
     "output_type": "stream",
     "text": [
      "https://noaa-hrrr-bdp-pds.s3.amazonaws.com/hrrr.20140916/conus/hrrr.t12z.wrfsfcf01.grib2\n"
     ]
    },
    {
     "name": "stderr",
     "output_type": "stream",
     "text": [
      " 63%|██████▎   | 220/347 [18:36<09:24,  4.45s/it]"
     ]
    },
    {
     "name": "stdout",
     "output_type": "stream",
     "text": [
      "https://noaa-hrrr-bdp-pds.s3.amazonaws.com/hrrr.20130206/conus/hrrr.t12z.wrfsfcf01.grib2\n"
     ]
    },
    {
     "name": "stderr",
     "output_type": "stream",
     "text": [
      " 64%|██████▎   | 221/347 [18:37<07:07,  3.39s/it]"
     ]
    },
    {
     "name": "stdout",
     "output_type": "stream",
     "text": [
      "https://noaa-hrrr-bdp-pds.s3.amazonaws.com/hrrr.20140209/conus/hrrr.t12z.wrfsfcf01.grib2\n"
     ]
    },
    {
     "name": "stderr",
     "output_type": "stream",
     "text": [
      " 64%|██████▍   | 222/347 [18:38<05:32,  2.66s/it]"
     ]
    },
    {
     "name": "stdout",
     "output_type": "stream",
     "text": [
      "https://noaa-hrrr-bdp-pds.s3.amazonaws.com/hrrr.20131202/conus/hrrr.t12z.wrfsfcf01.grib2\n"
     ]
    },
    {
     "name": "stderr",
     "output_type": "stream",
     "text": [
      " 64%|██████▍   | 223/347 [18:39<04:24,  2.14s/it]"
     ]
    },
    {
     "name": "stdout",
     "output_type": "stream",
     "text": [
      "https://noaa-hrrr-bdp-pds.s3.amazonaws.com/hrrr.20160929/conus/hrrr.t12z.wrfsfcf01.grib2\n"
     ]
    },
    {
     "name": "stderr",
     "output_type": "stream",
     "text": [
      " 65%|██████▍   | 224/347 [19:15<25:25, 12.40s/it]"
     ]
    },
    {
     "name": "stdout",
     "output_type": "stream",
     "text": [
      "https://noaa-hrrr-bdp-pds.s3.amazonaws.com/hrrr.20131119/conus/hrrr.t12z.wrfsfcf01.grib2\n"
     ]
    },
    {
     "name": "stderr",
     "output_type": "stream",
     "text": [
      " 65%|██████▍   | 225/347 [19:16<18:13,  8.96s/it]"
     ]
    },
    {
     "name": "stdout",
     "output_type": "stream",
     "text": [
      "https://noaa-hrrr-bdp-pds.s3.amazonaws.com/hrrr.20140421/conus/hrrr.t12z.wrfsfcf01.grib2\n"
     ]
    },
    {
     "name": "stderr",
     "output_type": "stream",
     "text": [
      " 65%|██████▌   | 226/347 [19:17<13:13,  6.56s/it]"
     ]
    },
    {
     "name": "stdout",
     "output_type": "stream",
     "text": [
      "https://noaa-hrrr-bdp-pds.s3.amazonaws.com/hrrr.20130208/conus/hrrr.t12z.wrfsfcf01.grib2\n"
     ]
    },
    {
     "name": "stderr",
     "output_type": "stream",
     "text": [
      " 65%|██████▌   | 227/347 [19:18<09:45,  4.88s/it]"
     ]
    },
    {
     "name": "stdout",
     "output_type": "stream",
     "text": [
      "https://noaa-hrrr-bdp-pds.s3.amazonaws.com/hrrr.20140208/conus/hrrr.t12z.wrfsfcf01.grib2\n"
     ]
    },
    {
     "name": "stderr",
     "output_type": "stream",
     "text": [
      " 66%|██████▌   | 228/347 [19:19<07:19,  3.70s/it]"
     ]
    },
    {
     "name": "stdout",
     "output_type": "stream",
     "text": [
      "https://noaa-hrrr-bdp-pds.s3.amazonaws.com/hrrr.20131015/conus/hrrr.t12z.wrfsfcf01.grib2\n"
     ]
    },
    {
     "name": "stderr",
     "output_type": "stream",
     "text": [
      " 66%|██████▌   | 229/347 [19:20<05:38,  2.87s/it]"
     ]
    },
    {
     "name": "stdout",
     "output_type": "stream",
     "text": [
      "https://noaa-hrrr-bdp-pds.s3.amazonaws.com/hrrr.20131008/conus/hrrr.t12z.wrfsfcf01.grib2\n"
     ]
    },
    {
     "name": "stderr",
     "output_type": "stream",
     "text": [
      " 66%|██████▋   | 230/347 [19:21<04:27,  2.29s/it]"
     ]
    },
    {
     "name": "stdout",
     "output_type": "stream",
     "text": [
      "https://noaa-hrrr-bdp-pds.s3.amazonaws.com/hrrr.20130818/conus/hrrr.t12z.wrfsfcf01.grib2\n"
     ]
    },
    {
     "name": "stderr",
     "output_type": "stream",
     "text": [
      " 67%|██████▋   | 231/347 [19:22<03:38,  1.88s/it]"
     ]
    },
    {
     "name": "stdout",
     "output_type": "stream",
     "text": [
      "https://noaa-hrrr-bdp-pds.s3.amazonaws.com/hrrr.20130220/conus/hrrr.t12z.wrfsfcf01.grib2\n"
     ]
    },
    {
     "name": "stderr",
     "output_type": "stream",
     "text": [
      " 67%|██████▋   | 232/347 [19:23<03:03,  1.60s/it]"
     ]
    },
    {
     "name": "stdout",
     "output_type": "stream",
     "text": [
      "https://noaa-hrrr-bdp-pds.s3.amazonaws.com/hrrr.20140824/conus/hrrr.t12z.wrfsfcf01.grib2\n"
     ]
    },
    {
     "name": "stderr",
     "output_type": "stream",
     "text": [
      " 67%|██████▋   | 233/347 [19:24<02:38,  1.39s/it]"
     ]
    },
    {
     "name": "stdout",
     "output_type": "stream",
     "text": [
      "https://noaa-hrrr-bdp-pds.s3.amazonaws.com/hrrr.20130821/conus/hrrr.t12z.wrfsfcf01.grib2\n"
     ]
    },
    {
     "name": "stderr",
     "output_type": "stream",
     "text": [
      " 67%|██████▋   | 234/347 [19:25<02:22,  1.26s/it]"
     ]
    },
    {
     "name": "stdout",
     "output_type": "stream",
     "text": [
      "https://noaa-hrrr-bdp-pds.s3.amazonaws.com/hrrr.20131010/conus/hrrr.t12z.wrfsfcf01.grib2\n"
     ]
    },
    {
     "name": "stderr",
     "output_type": "stream",
     "text": [
      " 68%|██████▊   | 235/347 [19:26<02:11,  1.17s/it]"
     ]
    },
    {
     "name": "stdout",
     "output_type": "stream",
     "text": [
      "https://noaa-hrrr-bdp-pds.s3.amazonaws.com/hrrr.20130401/conus/hrrr.t12z.wrfsfcf01.grib2\n"
     ]
    },
    {
     "name": "stderr",
     "output_type": "stream",
     "text": [
      " 68%|██████▊   | 236/347 [19:27<02:01,  1.10s/it]"
     ]
    },
    {
     "name": "stdout",
     "output_type": "stream",
     "text": [
      "https://noaa-hrrr-bdp-pds.s3.amazonaws.com/hrrr.20130416/conus/hrrr.t12z.wrfsfcf01.grib2\n"
     ]
    },
    {
     "name": "stderr",
     "output_type": "stream",
     "text": [
      " 68%|██████▊   | 237/347 [19:27<01:55,  1.05s/it]"
     ]
    },
    {
     "name": "stdout",
     "output_type": "stream",
     "text": [
      "https://noaa-hrrr-bdp-pds.s3.amazonaws.com/hrrr.20130603/conus/hrrr.t12z.wrfsfcf01.grib2\n"
     ]
    },
    {
     "name": "stderr",
     "output_type": "stream",
     "text": [
      " 69%|██████▊   | 238/347 [19:28<01:51,  1.02s/it]"
     ]
    },
    {
     "name": "stdout",
     "output_type": "stream",
     "text": [
      "https://noaa-hrrr-bdp-pds.s3.amazonaws.com/hrrr.20130902/conus/hrrr.t12z.wrfsfcf01.grib2\n"
     ]
    },
    {
     "name": "stderr",
     "output_type": "stream",
     "text": [
      " 69%|██████▉   | 239/347 [19:29<01:48,  1.00s/it]"
     ]
    },
    {
     "name": "stdout",
     "output_type": "stream",
     "text": [
      "https://noaa-hrrr-bdp-pds.s3.amazonaws.com/hrrr.20130806/conus/hrrr.t12z.wrfsfcf01.grib2\n"
     ]
    },
    {
     "name": "stderr",
     "output_type": "stream",
     "text": [
      " 69%|██████▉   | 240/347 [19:30<01:45,  1.02it/s]"
     ]
    },
    {
     "name": "stdout",
     "output_type": "stream",
     "text": [
      "https://noaa-hrrr-bdp-pds.s3.amazonaws.com/hrrr.20130104/conus/hrrr.t12z.wrfsfcf01.grib2\n"
     ]
    },
    {
     "name": "stderr",
     "output_type": "stream",
     "text": [
      " 69%|██████▉   | 241/347 [19:31<01:42,  1.03it/s]"
     ]
    },
    {
     "name": "stdout",
     "output_type": "stream",
     "text": [
      "https://noaa-hrrr-bdp-pds.s3.amazonaws.com/hrrr.20150120/conus/hrrr.t12z.wrfsfcf01.grib2\n"
     ]
    },
    {
     "name": "stderr",
     "output_type": "stream",
     "text": [
      " 70%|██████▉   | 242/347 [20:01<16:51,  9.64s/it]"
     ]
    },
    {
     "name": "stdout",
     "output_type": "stream",
     "text": [
      "https://noaa-hrrr-bdp-pds.s3.amazonaws.com/hrrr.20140626/conus/hrrr.t12z.wrfsfcf01.grib2\n"
     ]
    },
    {
     "name": "stderr",
     "output_type": "stream",
     "text": [
      " 70%|███████   | 243/347 [20:02<12:11,  7.03s/it]"
     ]
    },
    {
     "name": "stdout",
     "output_type": "stream",
     "text": [
      "https://noaa-hrrr-bdp-pds.s3.amazonaws.com/hrrr.20140206/conus/hrrr.t12z.wrfsfcf01.grib2\n"
     ]
    },
    {
     "name": "stderr",
     "output_type": "stream",
     "text": [
      " 70%|███████   | 244/347 [20:03<08:55,  5.20s/it]"
     ]
    },
    {
     "name": "stdout",
     "output_type": "stream",
     "text": [
      "https://noaa-hrrr-bdp-pds.s3.amazonaws.com/hrrr.20140911/conus/hrrr.t12z.wrfsfcf01.grib2\n"
     ]
    },
    {
     "name": "stderr",
     "output_type": "stream",
     "text": [
      " 71%|███████   | 245/347 [20:04<06:40,  3.93s/it]"
     ]
    },
    {
     "name": "stdout",
     "output_type": "stream",
     "text": [
      "https://noaa-hrrr-bdp-pds.s3.amazonaws.com/hrrr.20140616/conus/hrrr.t12z.wrfsfcf01.grib2\n"
     ]
    },
    {
     "name": "stderr",
     "output_type": "stream",
     "text": [
      " 71%|███████   | 246/347 [20:05<05:05,  3.03s/it]"
     ]
    },
    {
     "name": "stdout",
     "output_type": "stream",
     "text": [
      "https://noaa-hrrr-bdp-pds.s3.amazonaws.com/hrrr.20140429/conus/hrrr.t12z.wrfsfcf01.grib2\n"
     ]
    },
    {
     "name": "stderr",
     "output_type": "stream",
     "text": [
      " 71%|███████   | 247/347 [20:06<04:00,  2.40s/it]"
     ]
    },
    {
     "name": "stdout",
     "output_type": "stream",
     "text": [
      "https://noaa-hrrr-bdp-pds.s3.amazonaws.com/hrrr.20130715/conus/hrrr.t12z.wrfsfcf01.grib2\n"
     ]
    },
    {
     "name": "stderr",
     "output_type": "stream",
     "text": [
      " 71%|███████▏  | 248/347 [20:07<03:14,  1.96s/it]"
     ]
    },
    {
     "name": "stdout",
     "output_type": "stream",
     "text": [
      "https://noaa-hrrr-bdp-pds.s3.amazonaws.com/hrrr.20140424/conus/hrrr.t12z.wrfsfcf01.grib2\n"
     ]
    },
    {
     "name": "stderr",
     "output_type": "stream",
     "text": [
      " 72%|███████▏  | 249/347 [20:08<02:41,  1.65s/it]"
     ]
    },
    {
     "name": "stdout",
     "output_type": "stream",
     "text": [
      "https://noaa-hrrr-bdp-pds.s3.amazonaws.com/hrrr.20130809/conus/hrrr.t12z.wrfsfcf01.grib2\n"
     ]
    },
    {
     "name": "stderr",
     "output_type": "stream",
     "text": [
      " 72%|███████▏  | 250/347 [20:09<02:19,  1.44s/it]"
     ]
    },
    {
     "name": "stdout",
     "output_type": "stream",
     "text": [
      "https://noaa-hrrr-bdp-pds.s3.amazonaws.com/hrrr.20140729/conus/hrrr.t12z.wrfsfcf01.grib2\n"
     ]
    },
    {
     "name": "stderr",
     "output_type": "stream",
     "text": [
      " 72%|███████▏  | 251/347 [20:10<02:04,  1.29s/it]"
     ]
    },
    {
     "name": "stdout",
     "output_type": "stream",
     "text": [
      "https://noaa-hrrr-bdp-pds.s3.amazonaws.com/hrrr.20140618/conus/hrrr.t12z.wrfsfcf01.grib2\n"
     ]
    },
    {
     "name": "stderr",
     "output_type": "stream",
     "text": [
      " 73%|███████▎  | 252/347 [20:11<01:53,  1.19s/it]"
     ]
    },
    {
     "name": "stdout",
     "output_type": "stream",
     "text": [
      "https://noaa-hrrr-bdp-pds.s3.amazonaws.com/hrrr.20140204/conus/hrrr.t12z.wrfsfcf01.grib2\n"
     ]
    },
    {
     "name": "stderr",
     "output_type": "stream",
     "text": [
      " 73%|███████▎  | 253/347 [20:11<01:44,  1.11s/it]"
     ]
    },
    {
     "name": "stdout",
     "output_type": "stream",
     "text": [
      "https://noaa-hrrr-bdp-pds.s3.amazonaws.com/hrrr.20140609/conus/hrrr.t12z.wrfsfcf01.grib2\n"
     ]
    },
    {
     "name": "stderr",
     "output_type": "stream",
     "text": [
      " 73%|███████▎  | 254/347 [20:12<01:38,  1.06s/it]"
     ]
    },
    {
     "name": "stdout",
     "output_type": "stream",
     "text": [
      "https://noaa-hrrr-bdp-pds.s3.amazonaws.com/hrrr.20140924/conus/hrrr.t12z.wrfsfcf01.grib2\n"
     ]
    },
    {
     "name": "stderr",
     "output_type": "stream",
     "text": [
      " 73%|███████▎  | 255/347 [20:13<01:34,  1.03s/it]"
     ]
    },
    {
     "name": "stdout",
     "output_type": "stream",
     "text": [
      "https://noaa-hrrr-bdp-pds.s3.amazonaws.com/hrrr.20140426/conus/hrrr.t12z.wrfsfcf01.grib2\n"
     ]
    },
    {
     "name": "stderr",
     "output_type": "stream",
     "text": [
      " 74%|███████▍  | 256/347 [20:14<01:30,  1.00it/s]"
     ]
    },
    {
     "name": "stdout",
     "output_type": "stream",
     "text": [
      "https://noaa-hrrr-bdp-pds.s3.amazonaws.com/hrrr.20130319/conus/hrrr.t12z.wrfsfcf01.grib2\n"
     ]
    },
    {
     "name": "stderr",
     "output_type": "stream",
     "text": [
      " 74%|███████▍  | 257/347 [20:15<01:28,  1.02it/s]"
     ]
    },
    {
     "name": "stdout",
     "output_type": "stream",
     "text": [
      "https://noaa-hrrr-bdp-pds.s3.amazonaws.com/hrrr.20140224/conus/hrrr.t12z.wrfsfcf01.grib2\n"
     ]
    },
    {
     "name": "stderr",
     "output_type": "stream",
     "text": [
      " 74%|███████▍  | 258/347 [20:16<01:25,  1.04it/s]"
     ]
    },
    {
     "name": "stdout",
     "output_type": "stream",
     "text": [
      "https://noaa-hrrr-bdp-pds.s3.amazonaws.com/hrrr.20130708/conus/hrrr.t12z.wrfsfcf01.grib2\n"
     ]
    },
    {
     "name": "stderr",
     "output_type": "stream",
     "text": [
      " 75%|███████▍  | 259/347 [20:17<01:24,  1.04it/s]"
     ]
    },
    {
     "name": "stdout",
     "output_type": "stream",
     "text": [
      "https://noaa-hrrr-bdp-pds.s3.amazonaws.com/hrrr.20130126/conus/hrrr.t12z.wrfsfcf01.grib2\n"
     ]
    },
    {
     "name": "stderr",
     "output_type": "stream",
     "text": [
      " 75%|███████▍  | 260/347 [20:18<01:23,  1.05it/s]"
     ]
    },
    {
     "name": "stdout",
     "output_type": "stream",
     "text": [
      "https://noaa-hrrr-bdp-pds.s3.amazonaws.com/hrrr.20130422/conus/hrrr.t12z.wrfsfcf01.grib2\n"
     ]
    },
    {
     "name": "stderr",
     "output_type": "stream",
     "text": [
      " 75%|███████▌  | 261/347 [20:19<01:21,  1.05it/s]"
     ]
    },
    {
     "name": "stdout",
     "output_type": "stream",
     "text": [
      "https://noaa-hrrr-bdp-pds.s3.amazonaws.com/hrrr.20160321/conus/hrrr.t12z.wrfsfcf01.grib2\n"
     ]
    },
    {
     "name": "stderr",
     "output_type": "stream",
     "text": [
      " 76%|███████▌  | 262/347 [20:20<01:20,  1.06it/s]"
     ]
    },
    {
     "name": "stdout",
     "output_type": "stream",
     "text": [
      "https://noaa-hrrr-bdp-pds.s3.amazonaws.com/hrrr.20130810/conus/hrrr.t12z.wrfsfcf01.grib2\n"
     ]
    },
    {
     "name": "stderr",
     "output_type": "stream",
     "text": [
      " 76%|███████▌  | 263/347 [20:21<01:19,  1.06it/s]"
     ]
    },
    {
     "name": "stdout",
     "output_type": "stream",
     "text": [
      "https://noaa-hrrr-bdp-pds.s3.amazonaws.com/hrrr.20160903/conus/hrrr.t12z.wrfsfcf01.grib2\n"
     ]
    },
    {
     "name": "stderr",
     "output_type": "stream",
     "text": [
      " 76%|███████▌  | 264/347 [20:22<01:18,  1.06it/s]"
     ]
    },
    {
     "name": "stdout",
     "output_type": "stream",
     "text": [
      "https://noaa-hrrr-bdp-pds.s3.amazonaws.com/hrrr.20130520/conus/hrrr.t12z.wrfsfcf01.grib2\n"
     ]
    },
    {
     "name": "stderr",
     "output_type": "stream",
     "text": [
      " 76%|███████▋  | 265/347 [20:23<01:17,  1.06it/s]"
     ]
    },
    {
     "name": "stdout",
     "output_type": "stream",
     "text": [
      "https://noaa-hrrr-bdp-pds.s3.amazonaws.com/hrrr.20160219/conus/hrrr.t12z.wrfsfcf01.grib2\n"
     ]
    },
    {
     "name": "stderr",
     "output_type": "stream",
     "text": [
      " 77%|███████▋  | 266/347 [20:43<09:15,  6.86s/it]"
     ]
    },
    {
     "name": "stdout",
     "output_type": "stream",
     "text": [
      "https://noaa-hrrr-bdp-pds.s3.amazonaws.com/hrrr.20140213/conus/hrrr.t12z.wrfsfcf01.grib2\n"
     ]
    },
    {
     "name": "stderr",
     "output_type": "stream",
     "text": [
      " 77%|███████▋  | 267/347 [20:44<06:46,  5.08s/it]"
     ]
    },
    {
     "name": "stdout",
     "output_type": "stream",
     "text": [
      "https://noaa-hrrr-bdp-pds.s3.amazonaws.com/hrrr.20130513/conus/hrrr.t12z.wrfsfcf01.grib2\n"
     ]
    },
    {
     "name": "stderr",
     "output_type": "stream",
     "text": [
      " 77%|███████▋  | 268/347 [20:45<05:03,  3.84s/it]"
     ]
    },
    {
     "name": "stdout",
     "output_type": "stream",
     "text": [
      "https://noaa-hrrr-bdp-pds.s3.amazonaws.com/hrrr.20140207/conus/hrrr.t12z.wrfsfcf01.grib2\n"
     ]
    },
    {
     "name": "stderr",
     "output_type": "stream",
     "text": [
      " 78%|███████▊  | 269/347 [20:46<03:51,  2.97s/it]"
     ]
    },
    {
     "name": "stdout",
     "output_type": "stream",
     "text": [
      "https://noaa-hrrr-bdp-pds.s3.amazonaws.com/hrrr.20140810/conus/hrrr.t12z.wrfsfcf01.grib2\n"
     ]
    },
    {
     "name": "stderr",
     "output_type": "stream",
     "text": [
      " 78%|███████▊  | 270/347 [20:47<03:01,  2.36s/it]"
     ]
    },
    {
     "name": "stdout",
     "output_type": "stream",
     "text": [
      "https://noaa-hrrr-bdp-pds.s3.amazonaws.com/hrrr.20140603/conus/hrrr.t12z.wrfsfcf01.grib2\n"
     ]
    },
    {
     "name": "stderr",
     "output_type": "stream",
     "text": [
      " 78%|███████▊  | 271/347 [20:48<02:26,  1.93s/it]"
     ]
    },
    {
     "name": "stdout",
     "output_type": "stream",
     "text": [
      "https://noaa-hrrr-bdp-pds.s3.amazonaws.com/hrrr.20130605/conus/hrrr.t12z.wrfsfcf01.grib2\n"
     ]
    },
    {
     "name": "stderr",
     "output_type": "stream",
     "text": [
      " 78%|███████▊  | 272/347 [20:49<02:02,  1.63s/it]"
     ]
    },
    {
     "name": "stdout",
     "output_type": "stream",
     "text": [
      "https://noaa-hrrr-bdp-pds.s3.amazonaws.com/hrrr.20130312/conus/hrrr.t12z.wrfsfcf01.grib2\n"
     ]
    },
    {
     "name": "stderr",
     "output_type": "stream",
     "text": [
      " 79%|███████▊  | 273/347 [20:50<01:45,  1.43s/it]"
     ]
    },
    {
     "name": "stdout",
     "output_type": "stream",
     "text": [
      "https://noaa-hrrr-bdp-pds.s3.amazonaws.com/hrrr.20140605/conus/hrrr.t12z.wrfsfcf01.grib2\n"
     ]
    },
    {
     "name": "stderr",
     "output_type": "stream",
     "text": [
      " 79%|███████▉  | 274/347 [20:51<01:33,  1.28s/it]"
     ]
    },
    {
     "name": "stdout",
     "output_type": "stream",
     "text": [
      "https://noaa-hrrr-bdp-pds.s3.amazonaws.com/hrrr.20130408/conus/hrrr.t12z.wrfsfcf01.grib2\n"
     ]
    },
    {
     "name": "stderr",
     "output_type": "stream",
     "text": [
      " 79%|███████▉  | 275/347 [20:52<01:25,  1.18s/it]"
     ]
    },
    {
     "name": "stdout",
     "output_type": "stream",
     "text": [
      "https://noaa-hrrr-bdp-pds.s3.amazonaws.com/hrrr.20140731/conus/hrrr.t12z.wrfsfcf01.grib2\n"
     ]
    },
    {
     "name": "stderr",
     "output_type": "stream",
     "text": [
      " 80%|███████▉  | 276/347 [20:53<01:18,  1.10s/it]"
     ]
    },
    {
     "name": "stdout",
     "output_type": "stream",
     "text": [
      "https://noaa-hrrr-bdp-pds.s3.amazonaws.com/hrrr.20140416/conus/hrrr.t12z.wrfsfcf01.grib2\n"
     ]
    },
    {
     "name": "stderr",
     "output_type": "stream",
     "text": [
      " 80%|███████▉  | 277/347 [20:54<01:13,  1.05s/it]"
     ]
    },
    {
     "name": "stdout",
     "output_type": "stream",
     "text": [
      "https://noaa-hrrr-bdp-pds.s3.amazonaws.com/hrrr.20140318/conus/hrrr.t12z.wrfsfcf01.grib2\n"
     ]
    },
    {
     "name": "stderr",
     "output_type": "stream",
     "text": [
      " 80%|████████  | 278/347 [20:55<01:10,  1.02s/it]"
     ]
    },
    {
     "name": "stdout",
     "output_type": "stream",
     "text": [
      "https://noaa-hrrr-bdp-pds.s3.amazonaws.com/hrrr.20130226/conus/hrrr.t12z.wrfsfcf01.grib2\n"
     ]
    },
    {
     "name": "stderr",
     "output_type": "stream",
     "text": [
      " 80%|████████  | 279/347 [20:56<01:07,  1.01it/s]"
     ]
    },
    {
     "name": "stdout",
     "output_type": "stream",
     "text": [
      "https://noaa-hrrr-bdp-pds.s3.amazonaws.com/hrrr.20131216/conus/hrrr.t12z.wrfsfcf01.grib2\n"
     ]
    },
    {
     "name": "stderr",
     "output_type": "stream",
     "text": [
      " 81%|████████  | 280/347 [20:57<01:05,  1.02it/s]"
     ]
    },
    {
     "name": "stdout",
     "output_type": "stream",
     "text": [
      "https://noaa-hrrr-bdp-pds.s3.amazonaws.com/hrrr.20140625/conus/hrrr.t12z.wrfsfcf01.grib2\n"
     ]
    },
    {
     "name": "stderr",
     "output_type": "stream",
     "text": [
      " 81%|████████  | 281/347 [20:58<01:03,  1.03it/s]"
     ]
    },
    {
     "name": "stdout",
     "output_type": "stream",
     "text": [
      "https://noaa-hrrr-bdp-pds.s3.amazonaws.com/hrrr.20130414/conus/hrrr.t12z.wrfsfcf01.grib2\n"
     ]
    },
    {
     "name": "stderr",
     "output_type": "stream",
     "text": [
      " 81%|████████▏ | 282/347 [20:58<01:02,  1.04it/s]"
     ]
    },
    {
     "name": "stdout",
     "output_type": "stream",
     "text": [
      "https://noaa-hrrr-bdp-pds.s3.amazonaws.com/hrrr.20140619/conus/hrrr.t12z.wrfsfcf01.grib2\n"
     ]
    },
    {
     "name": "stderr",
     "output_type": "stream",
     "text": [
      " 82%|████████▏ | 283/347 [20:59<01:01,  1.05it/s]"
     ]
    },
    {
     "name": "stdout",
     "output_type": "stream",
     "text": [
      "https://noaa-hrrr-bdp-pds.s3.amazonaws.com/hrrr.20130410/conus/hrrr.t12z.wrfsfcf01.grib2\n"
     ]
    },
    {
     "name": "stderr",
     "output_type": "stream",
     "text": [
      " 82%|████████▏ | 284/347 [21:00<01:01,  1.03it/s]"
     ]
    },
    {
     "name": "stdout",
     "output_type": "stream",
     "text": [
      "https://noaa-hrrr-bdp-pds.s3.amazonaws.com/hrrr.20131009/conus/hrrr.t12z.wrfsfcf01.grib2\n"
     ]
    },
    {
     "name": "stderr",
     "output_type": "stream",
     "text": [
      " 82%|████████▏ | 285/347 [21:01<00:59,  1.04it/s]"
     ]
    },
    {
     "name": "stdout",
     "output_type": "stream",
     "text": [
      "https://noaa-hrrr-bdp-pds.s3.amazonaws.com/hrrr.20140106/conus/hrrr.t12z.wrfsfcf01.grib2\n"
     ]
    },
    {
     "name": "stderr",
     "output_type": "stream",
     "text": [
      " 82%|████████▏ | 286/347 [21:02<00:58,  1.05it/s]"
     ]
    },
    {
     "name": "stdout",
     "output_type": "stream",
     "text": [
      "https://noaa-hrrr-bdp-pds.s3.amazonaws.com/hrrr.20140507/conus/hrrr.t12z.wrfsfcf01.grib2\n"
     ]
    },
    {
     "name": "stderr",
     "output_type": "stream",
     "text": [
      " 83%|████████▎ | 287/347 [21:03<00:57,  1.05it/s]"
     ]
    },
    {
     "name": "stdout",
     "output_type": "stream",
     "text": [
      "https://noaa-hrrr-bdp-pds.s3.amazonaws.com/hrrr.20130805/conus/hrrr.t12z.wrfsfcf01.grib2\n"
     ]
    },
    {
     "name": "stderr",
     "output_type": "stream",
     "text": [
      " 83%|████████▎ | 288/347 [21:04<00:56,  1.05it/s]"
     ]
    },
    {
     "name": "stdout",
     "output_type": "stream",
     "text": [
      "https://noaa-hrrr-bdp-pds.s3.amazonaws.com/hrrr.20130404/conus/hrrr.t12z.wrfsfcf01.grib2\n"
     ]
    },
    {
     "name": "stderr",
     "output_type": "stream",
     "text": [
      " 83%|████████▎ | 289/347 [21:05<00:54,  1.06it/s]"
     ]
    },
    {
     "name": "stdout",
     "output_type": "stream",
     "text": [
      "https://noaa-hrrr-bdp-pds.s3.amazonaws.com/hrrr.20131029/conus/hrrr.t12z.wrfsfcf01.grib2\n"
     ]
    },
    {
     "name": "stderr",
     "output_type": "stream",
     "text": [
      " 84%|████████▎ | 290/347 [21:06<00:53,  1.06it/s]"
     ]
    },
    {
     "name": "stdout",
     "output_type": "stream",
     "text": [
      "https://noaa-hrrr-bdp-pds.s3.amazonaws.com/hrrr.20130803/conus/hrrr.t12z.wrfsfcf01.grib2\n"
     ]
    },
    {
     "name": "stderr",
     "output_type": "stream",
     "text": [
      " 84%|████████▍ | 291/347 [21:07<00:52,  1.06it/s]"
     ]
    },
    {
     "name": "stdout",
     "output_type": "stream",
     "text": [
      "https://noaa-hrrr-bdp-pds.s3.amazonaws.com/hrrr.20130305/conus/hrrr.t12z.wrfsfcf01.grib2\n"
     ]
    },
    {
     "name": "stderr",
     "output_type": "stream",
     "text": [
      " 84%|████████▍ | 292/347 [21:08<00:51,  1.06it/s]"
     ]
    },
    {
     "name": "stdout",
     "output_type": "stream",
     "text": [
      "https://noaa-hrrr-bdp-pds.s3.amazonaws.com/hrrr.20131121/conus/hrrr.t12z.wrfsfcf01.grib2\n"
     ]
    },
    {
     "name": "stderr",
     "output_type": "stream",
     "text": [
      " 84%|████████▍ | 293/347 [21:09<00:50,  1.07it/s]"
     ]
    },
    {
     "name": "stdout",
     "output_type": "stream",
     "text": [
      "https://noaa-hrrr-bdp-pds.s3.amazonaws.com/hrrr.20140516/conus/hrrr.t12z.wrfsfcf01.grib2\n"
     ]
    },
    {
     "name": "stderr",
     "output_type": "stream",
     "text": [
      " 85%|████████▍ | 294/347 [21:10<00:49,  1.07it/s]"
     ]
    },
    {
     "name": "stdout",
     "output_type": "stream",
     "text": [
      "https://noaa-hrrr-bdp-pds.s3.amazonaws.com/hrrr.20140305/conus/hrrr.t12z.wrfsfcf01.grib2\n"
     ]
    },
    {
     "name": "stderr",
     "output_type": "stream",
     "text": [
      " 85%|████████▌ | 295/347 [21:11<00:48,  1.07it/s]"
     ]
    },
    {
     "name": "stdout",
     "output_type": "stream",
     "text": [
      "https://noaa-hrrr-bdp-pds.s3.amazonaws.com/hrrr.20150224/conus/hrrr.t12z.wrfsfcf01.grib2\n"
     ]
    },
    {
     "name": "stderr",
     "output_type": "stream",
     "text": [
      " 85%|████████▌ | 296/347 [21:12<00:47,  1.07it/s]"
     ]
    },
    {
     "name": "stdout",
     "output_type": "stream",
     "text": [
      "https://noaa-hrrr-bdp-pds.s3.amazonaws.com/hrrr.20160806/conus/hrrr.t12z.wrfsfcf01.grib2\n"
     ]
    },
    {
     "name": "stderr",
     "output_type": "stream",
     "text": [
      " 86%|████████▌ | 297/347 [21:28<04:45,  5.70s/it]"
     ]
    },
    {
     "name": "stdout",
     "output_type": "stream",
     "text": [
      "https://noaa-hrrr-bdp-pds.s3.amazonaws.com/hrrr.20131021/conus/hrrr.t12z.wrfsfcf01.grib2\n"
     ]
    },
    {
     "name": "stderr",
     "output_type": "stream",
     "text": [
      " 86%|████████▌ | 298/347 [21:29<03:29,  4.28s/it]"
     ]
    },
    {
     "name": "stdout",
     "output_type": "stream",
     "text": [
      "https://noaa-hrrr-bdp-pds.s3.amazonaws.com/hrrr.20140301/conus/hrrr.t12z.wrfsfcf01.grib2\n"
     ]
    },
    {
     "name": "stderr",
     "output_type": "stream",
     "text": [
      " 86%|████████▌ | 299/347 [21:30<02:37,  3.27s/it]"
     ]
    },
    {
     "name": "stdout",
     "output_type": "stream",
     "text": [
      "https://noaa-hrrr-bdp-pds.s3.amazonaws.com/hrrr.20140329/conus/hrrr.t12z.wrfsfcf01.grib2\n"
     ]
    },
    {
     "name": "stderr",
     "output_type": "stream",
     "text": [
      " 86%|████████▋ | 300/347 [21:31<02:00,  2.57s/it]"
     ]
    },
    {
     "name": "stdout",
     "output_type": "stream",
     "text": [
      "https://noaa-hrrr-bdp-pds.s3.amazonaws.com/hrrr.20131014/conus/hrrr.t12z.wrfsfcf01.grib2\n"
     ]
    },
    {
     "name": "stderr",
     "output_type": "stream",
     "text": [
      " 87%|████████▋ | 301/347 [21:32<01:35,  2.08s/it]"
     ]
    },
    {
     "name": "stdout",
     "output_type": "stream",
     "text": [
      "https://noaa-hrrr-bdp-pds.s3.amazonaws.com/hrrr.20160803/conus/hrrr.t12z.wrfsfcf01.grib2\n"
     ]
    },
    {
     "name": "stderr",
     "output_type": "stream",
     "text": [
      " 87%|████████▋ | 302/347 [21:51<05:21,  7.14s/it]"
     ]
    },
    {
     "name": "stdout",
     "output_type": "stream",
     "text": [
      "https://noaa-hrrr-bdp-pds.s3.amazonaws.com/hrrr.20140419/conus/hrrr.t12z.wrfsfcf01.grib2\n"
     ]
    },
    {
     "name": "stderr",
     "output_type": "stream",
     "text": [
      " 87%|████████▋ | 303/347 [21:52<03:52,  5.28s/it]"
     ]
    },
    {
     "name": "stdout",
     "output_type": "stream",
     "text": [
      "https://noaa-hrrr-bdp-pds.s3.amazonaws.com/hrrr.20140128/conus/hrrr.t12z.wrfsfcf01.grib2\n"
     ]
    },
    {
     "name": "stderr",
     "output_type": "stream",
     "text": [
      " 88%|████████▊ | 304/347 [21:53<02:51,  3.98s/it]"
     ]
    },
    {
     "name": "stdout",
     "output_type": "stream",
     "text": [
      "https://noaa-hrrr-bdp-pds.s3.amazonaws.com/hrrr.20141219/conus/hrrr.t12z.wrfsfcf01.grib2\n"
     ]
    },
    {
     "name": "stderr",
     "output_type": "stream",
     "text": [
      " 88%|████████▊ | 305/347 [21:54<02:08,  3.07s/it]"
     ]
    },
    {
     "name": "stdout",
     "output_type": "stream",
     "text": [
      "https://noaa-hrrr-bdp-pds.s3.amazonaws.com/hrrr.20140331/conus/hrrr.t12z.wrfsfcf01.grib2\n"
     ]
    },
    {
     "name": "stderr",
     "output_type": "stream",
     "text": [
      " 88%|████████▊ | 306/347 [21:55<01:39,  2.43s/it]"
     ]
    },
    {
     "name": "stdout",
     "output_type": "stream",
     "text": [
      "https://noaa-hrrr-bdp-pds.s3.amazonaws.com/hrrr.20140604/conus/hrrr.t12z.wrfsfcf01.grib2\n"
     ]
    },
    {
     "name": "stderr",
     "output_type": "stream",
     "text": [
      " 88%|████████▊ | 307/347 [21:56<01:19,  1.98s/it]"
     ]
    },
    {
     "name": "stdout",
     "output_type": "stream",
     "text": [
      "https://noaa-hrrr-bdp-pds.s3.amazonaws.com/hrrr.20130405/conus/hrrr.t12z.wrfsfcf01.grib2\n"
     ]
    },
    {
     "name": "stderr",
     "output_type": "stream",
     "text": [
      " 89%|████████▉ | 308/347 [21:57<01:05,  1.67s/it]"
     ]
    },
    {
     "name": "stdout",
     "output_type": "stream",
     "text": [
      "https://noaa-hrrr-bdp-pds.s3.amazonaws.com/hrrr.20160814/conus/hrrr.t12z.wrfsfcf01.grib2\n"
     ]
    },
    {
     "name": "stderr",
     "output_type": "stream",
     "text": [
      " 89%|████████▉ | 309/347 [21:58<00:55,  1.46s/it]"
     ]
    },
    {
     "name": "stdout",
     "output_type": "stream",
     "text": [
      "https://noaa-hrrr-bdp-pds.s3.amazonaws.com/hrrr.20130822/conus/hrrr.t12z.wrfsfcf01.grib2\n"
     ]
    },
    {
     "name": "stderr",
     "output_type": "stream",
     "text": [
      " 89%|████████▉ | 310/347 [21:59<00:47,  1.30s/it]"
     ]
    },
    {
     "name": "stdout",
     "output_type": "stream",
     "text": [
      "https://noaa-hrrr-bdp-pds.s3.amazonaws.com/hrrr.20130122/conus/hrrr.t12z.wrfsfcf01.grib2\n"
     ]
    },
    {
     "name": "stderr",
     "output_type": "stream",
     "text": [
      " 90%|████████▉ | 311/347 [22:00<00:43,  1.19s/it]"
     ]
    },
    {
     "name": "stdout",
     "output_type": "stream",
     "text": [
      "https://noaa-hrrr-bdp-pds.s3.amazonaws.com/hrrr.20131104/conus/hrrr.t12z.wrfsfcf01.grib2\n"
     ]
    },
    {
     "name": "stderr",
     "output_type": "stream",
     "text": [
      " 90%|████████▉ | 312/347 [22:01<00:38,  1.11s/it]"
     ]
    },
    {
     "name": "stdout",
     "output_type": "stream",
     "text": [
      "https://noaa-hrrr-bdp-pds.s3.amazonaws.com/hrrr.20140821/conus/hrrr.t12z.wrfsfcf01.grib2\n"
     ]
    },
    {
     "name": "stderr",
     "output_type": "stream",
     "text": [
      " 90%|█████████ | 313/347 [22:02<00:35,  1.06s/it]"
     ]
    },
    {
     "name": "stdout",
     "output_type": "stream",
     "text": [
      "https://noaa-hrrr-bdp-pds.s3.amazonaws.com/hrrr.20140428/conus/hrrr.t12z.wrfsfcf01.grib2\n"
     ]
    },
    {
     "name": "stderr",
     "output_type": "stream",
     "text": [
      " 90%|█████████ | 314/347 [22:02<00:33,  1.02s/it]"
     ]
    },
    {
     "name": "stdout",
     "output_type": "stream",
     "text": [
      "https://noaa-hrrr-bdp-pds.s3.amazonaws.com/hrrr.20140917/conus/hrrr.t12z.wrfsfcf01.grib2\n"
     ]
    },
    {
     "name": "stderr",
     "output_type": "stream",
     "text": [
      " 91%|█████████ | 315/347 [22:03<00:31,  1.00it/s]"
     ]
    },
    {
     "name": "stdout",
     "output_type": "stream",
     "text": [
      "https://noaa-hrrr-bdp-pds.s3.amazonaws.com/hrrr.20140528/conus/hrrr.t12z.wrfsfcf01.grib2\n"
     ]
    },
    {
     "name": "stderr",
     "output_type": "stream",
     "text": [
      " 91%|█████████ | 316/347 [22:04<00:30,  1.02it/s]"
     ]
    },
    {
     "name": "stdout",
     "output_type": "stream",
     "text": [
      "https://noaa-hrrr-bdp-pds.s3.amazonaws.com/hrrr.20140220/conus/hrrr.t12z.wrfsfcf01.grib2\n"
     ]
    },
    {
     "name": "stderr",
     "output_type": "stream",
     "text": [
      " 91%|█████████▏| 317/347 [22:05<00:29,  1.03it/s]"
     ]
    },
    {
     "name": "stdout",
     "output_type": "stream",
     "text": [
      "https://noaa-hrrr-bdp-pds.s3.amazonaws.com/hrrr.20131001/conus/hrrr.t12z.wrfsfcf01.grib2\n"
     ]
    },
    {
     "name": "stderr",
     "output_type": "stream",
     "text": [
      " 92%|█████████▏| 318/347 [22:06<00:27,  1.04it/s]"
     ]
    },
    {
     "name": "stdout",
     "output_type": "stream",
     "text": [
      "https://noaa-hrrr-bdp-pds.s3.amazonaws.com/hrrr.20161004/conus/hrrr.t12z.wrfsfcf01.grib2\n"
     ]
    },
    {
     "name": "stderr",
     "output_type": "stream",
     "text": [
      " 92%|█████████▏| 319/347 [22:30<03:39,  7.83s/it]"
     ]
    },
    {
     "name": "stdout",
     "output_type": "stream",
     "text": [
      "https://noaa-hrrr-bdp-pds.s3.amazonaws.com/hrrr.20140401/conus/hrrr.t12z.wrfsfcf01.grib2\n"
     ]
    },
    {
     "name": "stderr",
     "output_type": "stream",
     "text": [
      " 92%|█████████▏| 320/347 [22:31<02:36,  5.78s/it]"
     ]
    },
    {
     "name": "stdout",
     "output_type": "stream",
     "text": [
      "https://noaa-hrrr-bdp-pds.s3.amazonaws.com/hrrr.20130606/conus/hrrr.t12z.wrfsfcf01.grib2\n"
     ]
    },
    {
     "name": "stderr",
     "output_type": "stream",
     "text": [
      " 93%|█████████▎| 321/347 [22:32<01:52,  4.33s/it]"
     ]
    },
    {
     "name": "stdout",
     "output_type": "stream",
     "text": [
      "https://noaa-hrrr-bdp-pds.s3.amazonaws.com/hrrr.20140703/conus/hrrr.t12z.wrfsfcf01.grib2\n"
     ]
    },
    {
     "name": "stderr",
     "output_type": "stream",
     "text": [
      " 93%|█████████▎| 322/347 [22:33<01:22,  3.31s/it]"
     ]
    },
    {
     "name": "stdout",
     "output_type": "stream",
     "text": [
      "https://noaa-hrrr-bdp-pds.s3.amazonaws.com/hrrr.20131209/conus/hrrr.t12z.wrfsfcf01.grib2\n"
     ]
    },
    {
     "name": "stderr",
     "output_type": "stream",
     "text": [
      " 93%|█████████▎| 323/347 [22:34<01:02,  2.60s/it]"
     ]
    },
    {
     "name": "stdout",
     "output_type": "stream",
     "text": [
      "https://noaa-hrrr-bdp-pds.s3.amazonaws.com/hrrr.20130702/conus/hrrr.t12z.wrfsfcf01.grib2\n"
     ]
    },
    {
     "name": "stderr",
     "output_type": "stream",
     "text": [
      " 93%|█████████▎| 324/347 [22:35<00:48,  2.10s/it]"
     ]
    },
    {
     "name": "stdout",
     "output_type": "stream",
     "text": [
      "https://noaa-hrrr-bdp-pds.s3.amazonaws.com/hrrr.20130823/conus/hrrr.t12z.wrfsfcf01.grib2\n"
     ]
    },
    {
     "name": "stderr",
     "output_type": "stream",
     "text": [
      " 94%|█████████▎| 325/347 [22:36<00:38,  1.76s/it]"
     ]
    },
    {
     "name": "stdout",
     "output_type": "stream",
     "text": [
      "https://noaa-hrrr-bdp-pds.s3.amazonaws.com/hrrr.20130318/conus/hrrr.t12z.wrfsfcf01.grib2\n"
     ]
    },
    {
     "name": "stderr",
     "output_type": "stream",
     "text": [
      " 94%|█████████▍| 326/347 [22:37<00:31,  1.52s/it]"
     ]
    },
    {
     "name": "stdout",
     "output_type": "stream",
     "text": [
      "https://noaa-hrrr-bdp-pds.s3.amazonaws.com/hrrr.20130413/conus/hrrr.t12z.wrfsfcf01.grib2\n"
     ]
    },
    {
     "name": "stderr",
     "output_type": "stream",
     "text": [
      " 94%|█████████▍| 327/347 [22:38<00:26,  1.35s/it]"
     ]
    },
    {
     "name": "stdout",
     "output_type": "stream",
     "text": [
      "https://noaa-hrrr-bdp-pds.s3.amazonaws.com/hrrr.20140506/conus/hrrr.t12z.wrfsfcf01.grib2\n"
     ]
    },
    {
     "name": "stderr",
     "output_type": "stream",
     "text": [
      " 95%|█████████▍| 328/347 [22:39<00:23,  1.23s/it]"
     ]
    },
    {
     "name": "stdout",
     "output_type": "stream",
     "text": [
      "https://noaa-hrrr-bdp-pds.s3.amazonaws.com/hrrr.20130321/conus/hrrr.t12z.wrfsfcf01.grib2\n"
     ]
    },
    {
     "name": "stderr",
     "output_type": "stream",
     "text": [
      " 95%|█████████▍| 329/347 [22:40<00:20,  1.15s/it]"
     ]
    },
    {
     "name": "stdout",
     "output_type": "stream",
     "text": [
      "https://noaa-hrrr-bdp-pds.s3.amazonaws.com/hrrr.20130125/conus/hrrr.t12z.wrfsfcf01.grib2\n"
     ]
    },
    {
     "name": "stderr",
     "output_type": "stream",
     "text": [
      " 95%|█████████▌| 330/347 [22:41<00:18,  1.08s/it]"
     ]
    },
    {
     "name": "stdout",
     "output_type": "stream",
     "text": [
      "https://noaa-hrrr-bdp-pds.s3.amazonaws.com/hrrr.20130608/conus/hrrr.t12z.wrfsfcf01.grib2\n"
     ]
    },
    {
     "name": "stderr",
     "output_type": "stream",
     "text": [
      " 95%|█████████▌| 331/347 [22:42<00:16,  1.04s/it]"
     ]
    },
    {
     "name": "stdout",
     "output_type": "stream",
     "text": [
      "https://noaa-hrrr-bdp-pds.s3.amazonaws.com/hrrr.20130306/conus/hrrr.t12z.wrfsfcf01.grib2\n"
     ]
    },
    {
     "name": "stderr",
     "output_type": "stream",
     "text": [
      " 96%|█████████▌| 332/347 [22:42<00:15,  1.01s/it]"
     ]
    },
    {
     "name": "stdout",
     "output_type": "stream",
     "text": [
      "https://noaa-hrrr-bdp-pds.s3.amazonaws.com/hrrr.20131105/conus/hrrr.t12z.wrfsfcf01.grib2\n"
     ]
    },
    {
     "name": "stderr",
     "output_type": "stream",
     "text": [
      " 96%|█████████▌| 333/347 [22:43<00:13,  1.01it/s]"
     ]
    },
    {
     "name": "stdout",
     "output_type": "stream",
     "text": [
      "https://noaa-hrrr-bdp-pds.s3.amazonaws.com/hrrr.20140127/conus/hrrr.t12z.wrfsfcf01.grib2\n"
     ]
    },
    {
     "name": "stderr",
     "output_type": "stream",
     "text": [
      " 96%|█████████▋| 334/347 [22:44<00:12,  1.03it/s]"
     ]
    },
    {
     "name": "stdout",
     "output_type": "stream",
     "text": [
      "https://noaa-hrrr-bdp-pds.s3.amazonaws.com/hrrr.20130315/conus/hrrr.t12z.wrfsfcf01.grib2\n"
     ]
    },
    {
     "name": "stderr",
     "output_type": "stream",
     "text": [
      " 97%|█████████▋| 335/347 [22:45<00:11,  1.04it/s]"
     ]
    },
    {
     "name": "stdout",
     "output_type": "stream",
     "text": [
      "https://noaa-hrrr-bdp-pds.s3.amazonaws.com/hrrr.20140518/conus/hrrr.t12z.wrfsfcf01.grib2\n"
     ]
    },
    {
     "name": "stderr",
     "output_type": "stream",
     "text": [
      " 97%|█████████▋| 336/347 [22:46<00:10,  1.05it/s]"
     ]
    },
    {
     "name": "stdout",
     "output_type": "stream",
     "text": [
      "https://noaa-hrrr-bdp-pds.s3.amazonaws.com/hrrr.20131118/conus/hrrr.t12z.wrfsfcf01.grib2\n"
     ]
    },
    {
     "name": "stderr",
     "output_type": "stream",
     "text": [
      " 97%|█████████▋| 337/347 [22:47<00:09,  1.05it/s]"
     ]
    },
    {
     "name": "stdout",
     "output_type": "stream",
     "text": [
      "https://noaa-hrrr-bdp-pds.s3.amazonaws.com/hrrr.20130331/conus/hrrr.t12z.wrfsfcf01.grib2\n"
     ]
    },
    {
     "name": "stderr",
     "output_type": "stream",
     "text": [
      " 97%|█████████▋| 338/347 [22:48<00:08,  1.05it/s]"
     ]
    },
    {
     "name": "stdout",
     "output_type": "stream",
     "text": [
      "https://noaa-hrrr-bdp-pds.s3.amazonaws.com/hrrr.20131016/conus/hrrr.t12z.wrfsfcf01.grib2\n"
     ]
    },
    {
     "name": "stderr",
     "output_type": "stream",
     "text": [
      " 98%|█████████▊| 339/347 [22:49<00:07,  1.06it/s]"
     ]
    },
    {
     "name": "stdout",
     "output_type": "stream",
     "text": [
      "https://noaa-hrrr-bdp-pds.s3.amazonaws.com/hrrr.20130607/conus/hrrr.t12z.wrfsfcf01.grib2\n"
     ]
    },
    {
     "name": "stderr",
     "output_type": "stream",
     "text": [
      " 98%|█████████▊| 340/347 [22:50<00:06,  1.04it/s]"
     ]
    },
    {
     "name": "stdout",
     "output_type": "stream",
     "text": [
      "https://noaa-hrrr-bdp-pds.s3.amazonaws.com/hrrr.20140202/conus/hrrr.t12z.wrfsfcf01.grib2\n"
     ]
    },
    {
     "name": "stderr",
     "output_type": "stream",
     "text": [
      " 98%|█████████▊| 341/347 [22:51<00:05,  1.05it/s]"
     ]
    },
    {
     "name": "stdout",
     "output_type": "stream",
     "text": [
      "https://noaa-hrrr-bdp-pds.s3.amazonaws.com/hrrr.20130802/conus/hrrr.t12z.wrfsfcf01.grib2\n"
     ]
    },
    {
     "name": "stderr",
     "output_type": "stream",
     "text": [
      " 99%|█████████▊| 342/347 [22:52<00:04,  1.06it/s]"
     ]
    },
    {
     "name": "stdout",
     "output_type": "stream",
     "text": [
      "https://noaa-hrrr-bdp-pds.s3.amazonaws.com/hrrr.20130508/conus/hrrr.t12z.wrfsfcf01.grib2\n"
     ]
    },
    {
     "name": "stderr",
     "output_type": "stream",
     "text": [
      " 99%|█████████▉| 343/347 [22:53<00:03,  1.06it/s]"
     ]
    },
    {
     "name": "stdout",
     "output_type": "stream",
     "text": [
      "https://noaa-hrrr-bdp-pds.s3.amazonaws.com/hrrr.20131002/conus/hrrr.t12z.wrfsfcf01.grib2\n"
     ]
    },
    {
     "name": "stderr",
     "output_type": "stream",
     "text": [
      " 99%|█████████▉| 344/347 [22:54<00:02,  1.06it/s]"
     ]
    },
    {
     "name": "stdout",
     "output_type": "stream",
     "text": [
      "https://noaa-hrrr-bdp-pds.s3.amazonaws.com/hrrr.20140218/conus/hrrr.t12z.wrfsfcf01.grib2\n"
     ]
    },
    {
     "name": "stderr",
     "output_type": "stream",
     "text": [
      " 99%|█████████▉| 345/347 [22:55<00:01,  1.06it/s]"
     ]
    },
    {
     "name": "stdout",
     "output_type": "stream",
     "text": [
      "https://noaa-hrrr-bdp-pds.s3.amazonaws.com/hrrr.20130714/conus/hrrr.t12z.wrfsfcf01.grib2\n"
     ]
    },
    {
     "name": "stderr",
     "output_type": "stream",
     "text": [
      "100%|█████████▉| 346/347 [22:56<00:00,  1.06it/s]"
     ]
    },
    {
     "name": "stdout",
     "output_type": "stream",
     "text": [
      "https://noaa-hrrr-bdp-pds.s3.amazonaws.com/hrrr.20131208/conus/hrrr.t12z.wrfsfcf01.grib2\n"
     ]
    },
    {
     "name": "stderr",
     "output_type": "stream",
     "text": [
      "100%|██████████| 347/347 [22:57<00:00,  3.97s/it]\n"
     ]
    }
   ],
   "source": [
    "print(meta[~meta.date.isin(exist)].date.unique().shape)\n",
    "for unique_date in tqdm.tqdm(meta[~meta.date.isin(exist)].date.unique()):\n",
    "    fmt = unique_date.replace('-', '')\n",
    "    sub = meta[meta.date == unique_date].copy()\n",
    "    try:\n",
    "        download_info((unique_date, sub.to_json(), 12))\n",
    "    except:\n",
    "        pass"
   ]
  },
  {
   "cell_type": "code",
   "execution_count": 9,
   "metadata": {},
   "outputs": [
    {
     "data": {
      "text/plain": [
       "1319"
      ]
     },
     "execution_count": 9,
     "metadata": {},
     "output_type": "execute_result"
    }
   ],
   "source": [
    "exist = [x.split('.')[0] for x in os.listdir('./nrrr/')]\n",
    "len(exist)"
   ]
  },
  {
   "cell_type": "code",
   "execution_count": 10,
   "metadata": {
    "tags": []
   },
   "outputs": [
    {
     "name": "stdout",
     "output_type": "stream",
     "text": [
      "(318,)\n"
     ]
    },
    {
     "name": "stderr",
     "output_type": "stream",
     "text": [
      "  0%|          | 0/318 [00:00<?, ?it/s]"
     ]
    },
    {
     "name": "stdout",
     "output_type": "stream",
     "text": [
      "https://noaa-hrrr-bdp-pds.s3.amazonaws.com/hrrr.20140812/conus/hrrr.t18z.wrfsfcf01.grib2\n"
     ]
    },
    {
     "name": "stderr",
     "output_type": "stream",
     "text": [
      "  0%|          | 1/318 [00:00<05:04,  1.04it/s]"
     ]
    },
    {
     "name": "stdout",
     "output_type": "stream",
     "text": [
      "https://noaa-hrrr-bdp-pds.s3.amazonaws.com/hrrr.20131106/conus/hrrr.t18z.wrfsfcf01.grib2\n"
     ]
    },
    {
     "name": "stderr",
     "output_type": "stream",
     "text": [
      "  1%|          | 2/318 [00:01<05:03,  1.04it/s]"
     ]
    },
    {
     "name": "stdout",
     "output_type": "stream",
     "text": [
      "https://noaa-hrrr-bdp-pds.s3.amazonaws.com/hrrr.20130709/conus/hrrr.t18z.wrfsfcf01.grib2\n"
     ]
    },
    {
     "name": "stderr",
     "output_type": "stream",
     "text": [
      "  1%|          | 3/318 [00:02<05:01,  1.05it/s]"
     ]
    },
    {
     "name": "stdout",
     "output_type": "stream",
     "text": [
      "https://noaa-hrrr-bdp-pds.s3.amazonaws.com/hrrr.20130817/conus/hrrr.t18z.wrfsfcf01.grib2\n"
     ]
    },
    {
     "name": "stderr",
     "output_type": "stream",
     "text": [
      "  1%|▏         | 4/318 [00:03<04:58,  1.05it/s]"
     ]
    },
    {
     "name": "stdout",
     "output_type": "stream",
     "text": [
      "https://noaa-hrrr-bdp-pds.s3.amazonaws.com/hrrr.20130729/conus/hrrr.t18z.wrfsfcf01.grib2\n"
     ]
    },
    {
     "name": "stderr",
     "output_type": "stream",
     "text": [
      "  2%|▏         | 5/318 [00:04<04:57,  1.05it/s]"
     ]
    },
    {
     "name": "stdout",
     "output_type": "stream",
     "text": [
      "https://noaa-hrrr-bdp-pds.s3.amazonaws.com/hrrr.20130115/conus/hrrr.t18z.wrfsfcf01.grib2\n"
     ]
    },
    {
     "name": "stderr",
     "output_type": "stream",
     "text": [
      "  2%|▏         | 6/318 [00:05<04:56,  1.05it/s]"
     ]
    },
    {
     "name": "stdout",
     "output_type": "stream",
     "text": [
      "https://noaa-hrrr-bdp-pds.s3.amazonaws.com/hrrr.20160413/conus/hrrr.t18z.wrfsfcf01.grib2\n"
     ]
    },
    {
     "name": "stderr",
     "output_type": "stream",
     "text": [
      "  2%|▏         | 7/318 [00:28<41:47,  8.06s/it]"
     ]
    },
    {
     "name": "stdout",
     "output_type": "stream",
     "text": [
      "https://noaa-hrrr-bdp-pds.s3.amazonaws.com/hrrr.20140228/conus/hrrr.t18z.wrfsfcf01.grib2\n"
     ]
    },
    {
     "name": "stderr",
     "output_type": "stream",
     "text": [
      "  3%|▎         | 8/318 [00:29<29:58,  5.80s/it]"
     ]
    },
    {
     "name": "stdout",
     "output_type": "stream",
     "text": [
      "https://noaa-hrrr-bdp-pds.s3.amazonaws.com/hrrr.20140715/conus/hrrr.t18z.wrfsfcf01.grib2\n"
     ]
    },
    {
     "name": "stderr",
     "output_type": "stream",
     "text": [
      "  3%|▎         | 9/318 [00:30<22:08,  4.30s/it]"
     ]
    },
    {
     "name": "stdout",
     "output_type": "stream",
     "text": [
      "https://noaa-hrrr-bdp-pds.s3.amazonaws.com/hrrr.20130820/conus/hrrr.t18z.wrfsfcf01.grib2\n"
     ]
    },
    {
     "name": "stderr",
     "output_type": "stream",
     "text": [
      "  3%|▎         | 10/318 [00:31<16:45,  3.27s/it]"
     ]
    },
    {
     "name": "stdout",
     "output_type": "stream",
     "text": [
      "https://noaa-hrrr-bdp-pds.s3.amazonaws.com/hrrr.20130716/conus/hrrr.t18z.wrfsfcf01.grib2\n"
     ]
    },
    {
     "name": "stderr",
     "output_type": "stream",
     "text": [
      "  3%|▎         | 11/318 [00:32<13:04,  2.56s/it]"
     ]
    },
    {
     "name": "stdout",
     "output_type": "stream",
     "text": [
      "https://noaa-hrrr-bdp-pds.s3.amazonaws.com/hrrr.20140722/conus/hrrr.t18z.wrfsfcf01.grib2\n"
     ]
    },
    {
     "name": "stderr",
     "output_type": "stream",
     "text": [
      "  4%|▍         | 12/318 [00:33<10:32,  2.07s/it]"
     ]
    },
    {
     "name": "stdout",
     "output_type": "stream",
     "text": [
      "https://noaa-hrrr-bdp-pds.s3.amazonaws.com/hrrr.20130923/conus/hrrr.t18z.wrfsfcf01.grib2\n"
     ]
    },
    {
     "name": "stderr",
     "output_type": "stream",
     "text": [
      "  4%|▍         | 13/318 [00:34<08:46,  1.73s/it]"
     ]
    },
    {
     "name": "stdout",
     "output_type": "stream",
     "text": [
      "https://noaa-hrrr-bdp-pds.s3.amazonaws.com/hrrr.20130212/conus/hrrr.t18z.wrfsfcf01.grib2\n"
     ]
    },
    {
     "name": "stderr",
     "output_type": "stream",
     "text": [
      "  4%|▍         | 14/318 [00:35<07:30,  1.48s/it]"
     ]
    },
    {
     "name": "stdout",
     "output_type": "stream",
     "text": [
      "https://noaa-hrrr-bdp-pds.s3.amazonaws.com/hrrr.20140623/conus/hrrr.t18z.wrfsfcf01.grib2\n"
     ]
    },
    {
     "name": "stderr",
     "output_type": "stream",
     "text": [
      "  5%|▍         | 15/318 [00:36<06:41,  1.32s/it]"
     ]
    },
    {
     "name": "stdout",
     "output_type": "stream",
     "text": [
      "https://noaa-hrrr-bdp-pds.s3.amazonaws.com/hrrr.20130423/conus/hrrr.t18z.wrfsfcf01.grib2\n"
     ]
    },
    {
     "name": "stderr",
     "output_type": "stream",
     "text": [
      "  5%|▌         | 16/318 [00:36<06:06,  1.21s/it]"
     ]
    },
    {
     "name": "stdout",
     "output_type": "stream",
     "text": [
      "https://noaa-hrrr-bdp-pds.s3.amazonaws.com/hrrr.20130528/conus/hrrr.t18z.wrfsfcf01.grib2\n"
     ]
    },
    {
     "name": "stderr",
     "output_type": "stream",
     "text": [
      "  5%|▌         | 17/318 [00:37<05:43,  1.14s/it]"
     ]
    },
    {
     "name": "stdout",
     "output_type": "stream",
     "text": [
      "https://noaa-hrrr-bdp-pds.s3.amazonaws.com/hrrr.20130618/conus/hrrr.t18z.wrfsfcf01.grib2\n"
     ]
    },
    {
     "name": "stderr",
     "output_type": "stream",
     "text": [
      "  6%|▌         | 18/318 [00:38<05:24,  1.08s/it]"
     ]
    },
    {
     "name": "stdout",
     "output_type": "stream",
     "text": [
      "https://noaa-hrrr-bdp-pds.s3.amazonaws.com/hrrr.20140519/conus/hrrr.t18z.wrfsfcf01.grib2\n"
     ]
    },
    {
     "name": "stderr",
     "output_type": "stream",
     "text": [
      "  6%|▌         | 19/318 [00:39<05:11,  1.04s/it]"
     ]
    },
    {
     "name": "stdout",
     "output_type": "stream",
     "text": [
      "https://noaa-hrrr-bdp-pds.s3.amazonaws.com/hrrr.20140227/conus/hrrr.t18z.wrfsfcf01.grib2\n"
     ]
    },
    {
     "name": "stderr",
     "output_type": "stream",
     "text": [
      "  6%|▋         | 20/318 [00:40<05:03,  1.02s/it]"
     ]
    },
    {
     "name": "stdout",
     "output_type": "stream",
     "text": [
      "https://noaa-hrrr-bdp-pds.s3.amazonaws.com/hrrr.20130415/conus/hrrr.t18z.wrfsfcf01.grib2\n"
     ]
    },
    {
     "name": "stderr",
     "output_type": "stream",
     "text": [
      "  7%|▋         | 21/318 [00:41<04:56,  1.00it/s]"
     ]
    },
    {
     "name": "stdout",
     "output_type": "stream",
     "text": [
      "https://noaa-hrrr-bdp-pds.s3.amazonaws.com/hrrr.20130826/conus/hrrr.t18z.wrfsfcf01.grib2\n"
     ]
    },
    {
     "name": "stderr",
     "output_type": "stream",
     "text": [
      "  7%|▋         | 22/318 [00:42<04:52,  1.01it/s]"
     ]
    },
    {
     "name": "stdout",
     "output_type": "stream",
     "text": [
      "https://noaa-hrrr-bdp-pds.s3.amazonaws.com/hrrr.20140813/conus/hrrr.t18z.wrfsfcf01.grib2\n"
     ]
    },
    {
     "name": "stderr",
     "output_type": "stream",
     "text": [
      "  7%|▋         | 23/318 [00:43<04:48,  1.02it/s]"
     ]
    },
    {
     "name": "stdout",
     "output_type": "stream",
     "text": [
      "https://noaa-hrrr-bdp-pds.s3.amazonaws.com/hrrr.20140610/conus/hrrr.t18z.wrfsfcf01.grib2\n"
     ]
    },
    {
     "name": "stderr",
     "output_type": "stream",
     "text": [
      "  8%|▊         | 24/318 [00:44<04:45,  1.03it/s]"
     ]
    },
    {
     "name": "stdout",
     "output_type": "stream",
     "text": [
      "https://noaa-hrrr-bdp-pds.s3.amazonaws.com/hrrr.20130812/conus/hrrr.t18z.wrfsfcf01.grib2\n"
     ]
    },
    {
     "name": "stderr",
     "output_type": "stream",
     "text": [
      "  8%|▊         | 25/318 [00:45<04:42,  1.04it/s]"
     ]
    },
    {
     "name": "stdout",
     "output_type": "stream",
     "text": [
      "https://noaa-hrrr-bdp-pds.s3.amazonaws.com/hrrr.20160915/conus/hrrr.t18z.wrfsfcf01.grib2\n"
     ]
    },
    {
     "name": "stderr",
     "output_type": "stream",
     "text": [
      "  8%|▊         | 26/318 [00:46<04:41,  1.04it/s]"
     ]
    },
    {
     "name": "stdout",
     "output_type": "stream",
     "text": [
      "https://noaa-hrrr-bdp-pds.s3.amazonaws.com/hrrr.20130730/conus/hrrr.t18z.wrfsfcf01.grib2\n"
     ]
    },
    {
     "name": "stderr",
     "output_type": "stream",
     "text": [
      "  8%|▊         | 27/318 [00:47<04:39,  1.04it/s]"
     ]
    },
    {
     "name": "stdout",
     "output_type": "stream",
     "text": [
      "https://noaa-hrrr-bdp-pds.s3.amazonaws.com/hrrr.20130516/conus/hrrr.t18z.wrfsfcf01.grib2\n"
     ]
    },
    {
     "name": "stderr",
     "output_type": "stream",
     "text": [
      "  9%|▉         | 28/318 [00:48<04:38,  1.04it/s]"
     ]
    },
    {
     "name": "stdout",
     "output_type": "stream",
     "text": [
      "https://noaa-hrrr-bdp-pds.s3.amazonaws.com/hrrr.20130114/conus/hrrr.t18z.wrfsfcf01.grib2\n"
     ]
    },
    {
     "name": "stderr",
     "output_type": "stream",
     "text": [
      "  9%|▉         | 29/318 [00:49<04:37,  1.04it/s]"
     ]
    },
    {
     "name": "stdout",
     "output_type": "stream",
     "text": [
      "https://noaa-hrrr-bdp-pds.s3.amazonaws.com/hrrr.20140425/conus/hrrr.t18z.wrfsfcf01.grib2\n"
     ]
    },
    {
     "name": "stderr",
     "output_type": "stream",
     "text": [
      "  9%|▉         | 30/318 [00:50<04:35,  1.05it/s]"
     ]
    },
    {
     "name": "stdout",
     "output_type": "stream",
     "text": [
      "https://noaa-hrrr-bdp-pds.s3.amazonaws.com/hrrr.20130903/conus/hrrr.t18z.wrfsfcf01.grib2\n"
     ]
    },
    {
     "name": "stderr",
     "output_type": "stream",
     "text": [
      " 10%|▉         | 31/318 [00:51<04:33,  1.05it/s]"
     ]
    },
    {
     "name": "stdout",
     "output_type": "stream",
     "text": [
      "https://noaa-hrrr-bdp-pds.s3.amazonaws.com/hrrr.20160810/conus/hrrr.t18z.wrfsfcf01.grib2\n"
     ]
    },
    {
     "name": "stderr",
     "output_type": "stream",
     "text": [
      " 10%|█         | 32/318 [03:18<3:32:55, 44.67s/it]"
     ]
    },
    {
     "name": "stdout",
     "output_type": "stream",
     "text": [
      "https://noaa-hrrr-bdp-pds.s3.amazonaws.com/hrrr.20140422/conus/hrrr.t18z.wrfsfcf01.grib2\n"
     ]
    },
    {
     "name": "stderr",
     "output_type": "stream",
     "text": [
      " 10%|█         | 33/318 [03:18<2:29:53, 31.55s/it]"
     ]
    },
    {
     "name": "stdout",
     "output_type": "stream",
     "text": [
      "https://noaa-hrrr-bdp-pds.s3.amazonaws.com/hrrr.20140414/conus/hrrr.t18z.wrfsfcf01.grib2\n"
     ]
    },
    {
     "name": "stderr",
     "output_type": "stream",
     "text": [
      " 11%|█         | 34/318 [03:19<1:45:54, 22.38s/it]"
     ]
    },
    {
     "name": "stdout",
     "output_type": "stream",
     "text": [
      "https://noaa-hrrr-bdp-pds.s3.amazonaws.com/hrrr.20140819/conus/hrrr.t18z.wrfsfcf01.grib2\n"
     ]
    },
    {
     "name": "stderr",
     "output_type": "stream",
     "text": [
      " 11%|█         | 35/318 [03:20<1:15:14, 15.95s/it]"
     ]
    },
    {
     "name": "stdout",
     "output_type": "stream",
     "text": [
      "https://noaa-hrrr-bdp-pds.s3.amazonaws.com/hrrr.20130627/conus/hrrr.t18z.wrfsfcf01.grib2\n"
     ]
    },
    {
     "name": "stderr",
     "output_type": "stream",
     "text": [
      " 11%|█▏        | 36/318 [03:21<53:47, 11.44s/it]  "
     ]
    },
    {
     "name": "stdout",
     "output_type": "stream",
     "text": [
      "https://noaa-hrrr-bdp-pds.s3.amazonaws.com/hrrr.20130227/conus/hrrr.t18z.wrfsfcf01.grib2\n"
     ]
    },
    {
     "name": "stderr",
     "output_type": "stream",
     "text": [
      " 12%|█▏        | 37/318 [03:22<38:50,  8.29s/it]"
     ]
    },
    {
     "name": "stdout",
     "output_type": "stream",
     "text": [
      "https://noaa-hrrr-bdp-pds.s3.amazonaws.com/hrrr.20140418/conus/hrrr.t18z.wrfsfcf01.grib2\n"
     ]
    },
    {
     "name": "stderr",
     "output_type": "stream",
     "text": [
      " 12%|█▏        | 38/318 [03:23<28:24,  6.09s/it]"
     ]
    },
    {
     "name": "stdout",
     "output_type": "stream",
     "text": [
      "https://noaa-hrrr-bdp-pds.s3.amazonaws.com/hrrr.20130530/conus/hrrr.t18z.wrfsfcf01.grib2\n"
     ]
    },
    {
     "name": "stderr",
     "output_type": "stream",
     "text": [
      " 12%|█▏        | 39/318 [03:24<21:10,  4.55s/it]"
     ]
    },
    {
     "name": "stdout",
     "output_type": "stream",
     "text": [
      "https://noaa-hrrr-bdp-pds.s3.amazonaws.com/hrrr.20140716/conus/hrrr.t18z.wrfsfcf01.grib2\n"
     ]
    },
    {
     "name": "stderr",
     "output_type": "stream",
     "text": [
      " 13%|█▎        | 40/318 [03:25<16:06,  3.48s/it]"
     ]
    },
    {
     "name": "stdout",
     "output_type": "stream",
     "text": [
      "https://noaa-hrrr-bdp-pds.s3.amazonaws.com/hrrr.20130402/conus/hrrr.t18z.wrfsfcf01.grib2\n"
     ]
    },
    {
     "name": "stderr",
     "output_type": "stream",
     "text": [
      " 13%|█▎        | 41/318 [03:26<12:32,  2.72s/it]"
     ]
    },
    {
     "name": "stdout",
     "output_type": "stream",
     "text": [
      "https://noaa-hrrr-bdp-pds.s3.amazonaws.com/hrrr.20130209/conus/hrrr.t18z.wrfsfcf01.grib2\n"
     ]
    },
    {
     "name": "stderr",
     "output_type": "stream",
     "text": [
      " 13%|█▎        | 42/318 [03:27<10:04,  2.19s/it]"
     ]
    },
    {
     "name": "stdout",
     "output_type": "stream",
     "text": [
      "https://noaa-hrrr-bdp-pds.s3.amazonaws.com/hrrr.20131112/conus/hrrr.t18z.wrfsfcf01.grib2\n"
     ]
    },
    {
     "name": "stderr",
     "output_type": "stream",
     "text": [
      " 14%|█▎        | 43/318 [03:28<08:21,  1.82s/it]"
     ]
    },
    {
     "name": "stdout",
     "output_type": "stream",
     "text": [
      "https://noaa-hrrr-bdp-pds.s3.amazonaws.com/hrrr.20140922/conus/hrrr.t18z.wrfsfcf01.grib2\n"
     ]
    },
    {
     "name": "stderr",
     "output_type": "stream",
     "text": [
      " 14%|█▍        | 44/318 [03:29<07:08,  1.56s/it]"
     ]
    },
    {
     "name": "stdout",
     "output_type": "stream",
     "text": [
      "https://noaa-hrrr-bdp-pds.s3.amazonaws.com/hrrr.20140508/conus/hrrr.t18z.wrfsfcf01.grib2\n"
     ]
    },
    {
     "name": "stderr",
     "output_type": "stream",
     "text": [
      " 14%|█▍        | 45/318 [03:30<06:18,  1.39s/it]"
     ]
    },
    {
     "name": "stdout",
     "output_type": "stream",
     "text": [
      "https://noaa-hrrr-bdp-pds.s3.amazonaws.com/hrrr.20140505/conus/hrrr.t18z.wrfsfcf01.grib2\n"
     ]
    },
    {
     "name": "stderr",
     "output_type": "stream",
     "text": [
      " 14%|█▍        | 46/318 [03:31<05:42,  1.26s/it]"
     ]
    },
    {
     "name": "stdout",
     "output_type": "stream",
     "text": [
      "https://noaa-hrrr-bdp-pds.s3.amazonaws.com/hrrr.20131017/conus/hrrr.t18z.wrfsfcf01.grib2\n"
     ]
    },
    {
     "name": "stderr",
     "output_type": "stream",
     "text": [
      " 15%|█▍        | 47/318 [03:32<05:18,  1.17s/it]"
     ]
    },
    {
     "name": "stdout",
     "output_type": "stream",
     "text": [
      "https://noaa-hrrr-bdp-pds.s3.amazonaws.com/hrrr.20140408/conus/hrrr.t18z.wrfsfcf01.grib2\n"
     ]
    },
    {
     "name": "stderr",
     "output_type": "stream",
     "text": [
      " 15%|█▌        | 48/318 [03:33<04:58,  1.11s/it]"
     ]
    },
    {
     "name": "stdout",
     "output_type": "stream",
     "text": [
      "https://noaa-hrrr-bdp-pds.s3.amazonaws.com/hrrr.20140825/conus/hrrr.t18z.wrfsfcf01.grib2\n"
     ]
    },
    {
     "name": "stderr",
     "output_type": "stream",
     "text": [
      " 15%|█▌        | 49/318 [03:34<04:46,  1.06s/it]"
     ]
    },
    {
     "name": "stdout",
     "output_type": "stream",
     "text": [
      "https://noaa-hrrr-bdp-pds.s3.amazonaws.com/hrrr.20140114/conus/hrrr.t18z.wrfsfcf01.grib2\n"
     ]
    },
    {
     "name": "stderr",
     "output_type": "stream",
     "text": [
      " 16%|█▌        | 50/318 [03:35<04:34,  1.03s/it]"
     ]
    },
    {
     "name": "stdout",
     "output_type": "stream",
     "text": [
      "https://noaa-hrrr-bdp-pds.s3.amazonaws.com/hrrr.20130328/conus/hrrr.t18z.wrfsfcf01.grib2\n"
     ]
    },
    {
     "name": "stderr",
     "output_type": "stream",
     "text": [
      " 16%|█▌        | 51/318 [03:36<04:31,  1.02s/it]"
     ]
    },
    {
     "name": "stdout",
     "output_type": "stream",
     "text": [
      "https://noaa-hrrr-bdp-pds.s3.amazonaws.com/hrrr.20130918/conus/hrrr.t18z.wrfsfcf01.grib2\n"
     ]
    },
    {
     "name": "stderr",
     "output_type": "stream",
     "text": [
      " 16%|█▋        | 52/318 [03:37<04:25,  1.00it/s]"
     ]
    },
    {
     "name": "stdout",
     "output_type": "stream",
     "text": [
      "https://noaa-hrrr-bdp-pds.s3.amazonaws.com/hrrr.20140814/conus/hrrr.t18z.wrfsfcf01.grib2\n"
     ]
    },
    {
     "name": "stderr",
     "output_type": "stream",
     "text": [
      " 17%|█▋        | 53/318 [03:38<04:20,  1.02it/s]"
     ]
    },
    {
     "name": "stdout",
     "output_type": "stream",
     "text": [
      "https://noaa-hrrr-bdp-pds.s3.amazonaws.com/hrrr.20131205/conus/hrrr.t18z.wrfsfcf01.grib2\n"
     ]
    },
    {
     "name": "stderr",
     "output_type": "stream",
     "text": [
      " 17%|█▋        | 54/318 [03:39<04:18,  1.02it/s]"
     ]
    },
    {
     "name": "stdout",
     "output_type": "stream",
     "text": [
      "https://noaa-hrrr-bdp-pds.s3.amazonaws.com/hrrr.20130811/conus/hrrr.t18z.wrfsfcf01.grib2\n"
     ]
    },
    {
     "name": "stderr",
     "output_type": "stream",
     "text": [
      " 17%|█▋        | 55/318 [03:40<04:14,  1.03it/s]"
     ]
    },
    {
     "name": "stdout",
     "output_type": "stream",
     "text": [
      "https://noaa-hrrr-bdp-pds.s3.amazonaws.com/hrrr.20130329/conus/hrrr.t18z.wrfsfcf01.grib2\n"
     ]
    },
    {
     "name": "stderr",
     "output_type": "stream",
     "text": [
      " 18%|█▊        | 56/318 [03:40<04:12,  1.04it/s]"
     ]
    },
    {
     "name": "stdout",
     "output_type": "stream",
     "text": [
      "https://noaa-hrrr-bdp-pds.s3.amazonaws.com/hrrr.20131211/conus/hrrr.t18z.wrfsfcf01.grib2\n"
     ]
    },
    {
     "name": "stderr",
     "output_type": "stream",
     "text": [
      " 18%|█▊        | 57/318 [03:41<04:11,  1.04it/s]"
     ]
    },
    {
     "name": "stdout",
     "output_type": "stream",
     "text": [
      "https://noaa-hrrr-bdp-pds.s3.amazonaws.com/hrrr.20130919/conus/hrrr.t18z.wrfsfcf01.grib2\n"
     ]
    },
    {
     "name": "stderr",
     "output_type": "stream",
     "text": [
      " 18%|█▊        | 58/318 [03:42<04:10,  1.04it/s]"
     ]
    },
    {
     "name": "stdout",
     "output_type": "stream",
     "text": [
      "https://noaa-hrrr-bdp-pds.s3.amazonaws.com/hrrr.20130819/conus/hrrr.t18z.wrfsfcf01.grib2\n"
     ]
    },
    {
     "name": "stderr",
     "output_type": "stream",
     "text": [
      " 19%|█▊        | 59/318 [03:43<04:10,  1.04it/s]"
     ]
    },
    {
     "name": "stdout",
     "output_type": "stream",
     "text": [
      "https://noaa-hrrr-bdp-pds.s3.amazonaws.com/hrrr.20130619/conus/hrrr.t18z.wrfsfcf01.grib2\n"
     ]
    },
    {
     "name": "stderr",
     "output_type": "stream",
     "text": [
      " 19%|█▉        | 60/318 [03:44<04:07,  1.04it/s]"
     ]
    },
    {
     "name": "stdout",
     "output_type": "stream",
     "text": [
      "https://noaa-hrrr-bdp-pds.s3.amazonaws.com/hrrr.20130320/conus/hrrr.t18z.wrfsfcf01.grib2\n"
     ]
    },
    {
     "name": "stderr",
     "output_type": "stream",
     "text": [
      " 19%|█▉        | 61/318 [03:45<04:07,  1.04it/s]"
     ]
    },
    {
     "name": "stdout",
     "output_type": "stream",
     "text": [
      "https://noaa-hrrr-bdp-pds.s3.amazonaws.com/hrrr.20140815/conus/hrrr.t18z.wrfsfcf01.grib2\n"
     ]
    },
    {
     "name": "stderr",
     "output_type": "stream",
     "text": [
      " 19%|█▉        | 62/318 [03:46<04:07,  1.03it/s]"
     ]
    },
    {
     "name": "stdout",
     "output_type": "stream",
     "text": [
      "https://noaa-hrrr-bdp-pds.s3.amazonaws.com/hrrr.20130710/conus/hrrr.t18z.wrfsfcf01.grib2\n"
     ]
    },
    {
     "name": "stderr",
     "output_type": "stream",
     "text": [
      " 20%|█▉        | 63/318 [03:47<04:06,  1.03it/s]"
     ]
    },
    {
     "name": "stdout",
     "output_type": "stream",
     "text": [
      "https://noaa-hrrr-bdp-pds.s3.amazonaws.com/hrrr.20130722/conus/hrrr.t18z.wrfsfcf01.grib2\n"
     ]
    },
    {
     "name": "stderr",
     "output_type": "stream",
     "text": [
      " 20%|██        | 64/318 [03:48<04:05,  1.03it/s]"
     ]
    },
    {
     "name": "stdout",
     "output_type": "stream",
     "text": [
      "https://noaa-hrrr-bdp-pds.s3.amazonaws.com/hrrr.20130611/conus/hrrr.t18z.wrfsfcf01.grib2\n"
     ]
    },
    {
     "name": "stderr",
     "output_type": "stream",
     "text": [
      " 20%|██        | 65/318 [03:49<04:05,  1.03it/s]"
     ]
    },
    {
     "name": "stdout",
     "output_type": "stream",
     "text": [
      "https://noaa-hrrr-bdp-pds.s3.amazonaws.com/hrrr.20130610/conus/hrrr.t18z.wrfsfcf01.grib2\n"
     ]
    },
    {
     "name": "stderr",
     "output_type": "stream",
     "text": [
      " 21%|██        | 66/318 [03:50<04:06,  1.02it/s]"
     ]
    },
    {
     "name": "stdout",
     "output_type": "stream",
     "text": [
      "https://noaa-hrrr-bdp-pds.s3.amazonaws.com/hrrr.20140708/conus/hrrr.t18z.wrfsfcf01.grib2\n"
     ]
    },
    {
     "name": "stderr",
     "output_type": "stream",
     "text": [
      " 21%|██        | 67/318 [03:51<04:06,  1.02it/s]"
     ]
    },
    {
     "name": "stdout",
     "output_type": "stream",
     "text": [
      "https://noaa-hrrr-bdp-pds.s3.amazonaws.com/hrrr.20130925/conus/hrrr.t18z.wrfsfcf01.grib2\n"
     ]
    },
    {
     "name": "stderr",
     "output_type": "stream",
     "text": [
      " 21%|██▏       | 68/318 [03:52<04:03,  1.03it/s]"
     ]
    },
    {
     "name": "stdout",
     "output_type": "stream",
     "text": [
      "https://noaa-hrrr-bdp-pds.s3.amazonaws.com/hrrr.20130731/conus/hrrr.t18z.wrfsfcf01.grib2\n"
     ]
    },
    {
     "name": "stderr",
     "output_type": "stream",
     "text": [
      " 22%|██▏       | 69/318 [03:53<04:01,  1.03it/s]"
     ]
    },
    {
     "name": "stdout",
     "output_type": "stream",
     "text": [
      "https://noaa-hrrr-bdp-pds.s3.amazonaws.com/hrrr.20130905/conus/hrrr.t18z.wrfsfcf01.grib2\n"
     ]
    },
    {
     "name": "stderr",
     "output_type": "stream",
     "text": [
      " 22%|██▏       | 70/318 [03:54<04:03,  1.02it/s]"
     ]
    },
    {
     "name": "stdout",
     "output_type": "stream",
     "text": [
      "https://noaa-hrrr-bdp-pds.s3.amazonaws.com/hrrr.20130917/conus/hrrr.t18z.wrfsfcf01.grib2\n"
     ]
    },
    {
     "name": "stderr",
     "output_type": "stream",
     "text": [
      " 22%|██▏       | 71/318 [03:55<04:00,  1.03it/s]"
     ]
    },
    {
     "name": "stdout",
     "output_type": "stream",
     "text": [
      "https://noaa-hrrr-bdp-pds.s3.amazonaws.com/hrrr.20130522/conus/hrrr.t18z.wrfsfcf01.grib2\n"
     ]
    },
    {
     "name": "stderr",
     "output_type": "stream",
     "text": [
      " 23%|██▎       | 72/318 [03:56<03:58,  1.03it/s]"
     ]
    },
    {
     "name": "stdout",
     "output_type": "stream",
     "text": [
      "https://noaa-hrrr-bdp-pds.s3.amazonaws.com/hrrr.20140210/conus/hrrr.t18z.wrfsfcf01.grib2\n"
     ]
    },
    {
     "name": "stderr",
     "output_type": "stream",
     "text": [
      " 23%|██▎       | 73/318 [03:57<03:57,  1.03it/s]"
     ]
    },
    {
     "name": "stdout",
     "output_type": "stream",
     "text": [
      "https://noaa-hrrr-bdp-pds.s3.amazonaws.com/hrrr.20140326/conus/hrrr.t18z.wrfsfcf01.grib2\n"
     ]
    },
    {
     "name": "stderr",
     "output_type": "stream",
     "text": [
      " 23%|██▎       | 74/318 [03:58<03:54,  1.04it/s]"
     ]
    },
    {
     "name": "stdout",
     "output_type": "stream",
     "text": [
      "https://noaa-hrrr-bdp-pds.s3.amazonaws.com/hrrr.20140327/conus/hrrr.t18z.wrfsfcf01.grib2\n"
     ]
    },
    {
     "name": "stderr",
     "output_type": "stream",
     "text": [
      " 24%|██▎       | 75/318 [03:59<03:52,  1.04it/s]"
     ]
    },
    {
     "name": "stdout",
     "output_type": "stream",
     "text": [
      "https://noaa-hrrr-bdp-pds.s3.amazonaws.com/hrrr.20140827/conus/hrrr.t18z.wrfsfcf01.grib2\n"
     ]
    },
    {
     "name": "stderr",
     "output_type": "stream",
     "text": [
      " 24%|██▍       | 76/318 [04:00<03:50,  1.05it/s]"
     ]
    },
    {
     "name": "stdout",
     "output_type": "stream",
     "text": [
      "https://noaa-hrrr-bdp-pds.s3.amazonaws.com/hrrr.20140602/conus/hrrr.t18z.wrfsfcf01.grib2\n"
     ]
    },
    {
     "name": "stderr",
     "output_type": "stream",
     "text": [
      " 24%|██▍       | 77/318 [04:01<03:50,  1.05it/s]"
     ]
    },
    {
     "name": "stdout",
     "output_type": "stream",
     "text": [
      "https://noaa-hrrr-bdp-pds.s3.amazonaws.com/hrrr.20140918/conus/hrrr.t18z.wrfsfcf01.grib2\n"
     ]
    },
    {
     "name": "stderr",
     "output_type": "stream",
     "text": [
      " 25%|██▍       | 78/318 [04:02<03:48,  1.05it/s]"
     ]
    },
    {
     "name": "stdout",
     "output_type": "stream",
     "text": [
      "https://noaa-hrrr-bdp-pds.s3.amazonaws.com/hrrr.20131210/conus/hrrr.t18z.wrfsfcf01.grib2\n"
     ]
    },
    {
     "name": "stderr",
     "output_type": "stream",
     "text": [
      " 25%|██▍       | 79/318 [04:03<03:47,  1.05it/s]"
     ]
    },
    {
     "name": "stdout",
     "output_type": "stream",
     "text": [
      "https://noaa-hrrr-bdp-pds.s3.amazonaws.com/hrrr.20130417/conus/hrrr.t18z.wrfsfcf01.grib2\n"
     ]
    },
    {
     "name": "stderr",
     "output_type": "stream",
     "text": [
      " 25%|██▌       | 80/318 [04:04<03:45,  1.05it/s]"
     ]
    },
    {
     "name": "stdout",
     "output_type": "stream",
     "text": [
      "https://noaa-hrrr-bdp-pds.s3.amazonaws.com/hrrr.20140115/conus/hrrr.t18z.wrfsfcf01.grib2\n"
     ]
    },
    {
     "name": "stderr",
     "output_type": "stream",
     "text": [
      " 25%|██▌       | 81/318 [04:05<03:45,  1.05it/s]"
     ]
    },
    {
     "name": "stdout",
     "output_type": "stream",
     "text": [
      "https://noaa-hrrr-bdp-pds.s3.amazonaws.com/hrrr.20140211/conus/hrrr.t18z.wrfsfcf01.grib2\n"
     ]
    },
    {
     "name": "stderr",
     "output_type": "stream",
     "text": [
      " 26%|██▌       | 82/318 [04:06<03:43,  1.06it/s]"
     ]
    },
    {
     "name": "stdout",
     "output_type": "stream",
     "text": [
      "https://noaa-hrrr-bdp-pds.s3.amazonaws.com/hrrr.20140423/conus/hrrr.t18z.wrfsfcf01.grib2\n"
     ]
    },
    {
     "name": "stderr",
     "output_type": "stream",
     "text": [
      " 26%|██▌       | 83/318 [04:06<03:44,  1.05it/s]"
     ]
    },
    {
     "name": "stdout",
     "output_type": "stream",
     "text": [
      "https://noaa-hrrr-bdp-pds.s3.amazonaws.com/hrrr.20130327/conus/hrrr.t18z.wrfsfcf01.grib2\n"
     ]
    },
    {
     "name": "stderr",
     "output_type": "stream",
     "text": [
      " 26%|██▋       | 84/318 [04:07<03:42,  1.05it/s]"
     ]
    },
    {
     "name": "stdout",
     "output_type": "stream",
     "text": [
      "https://noaa-hrrr-bdp-pds.s3.amazonaws.com/hrrr.20130813/conus/hrrr.t18z.wrfsfcf01.grib2\n"
     ]
    },
    {
     "name": "stderr",
     "output_type": "stream",
     "text": [
      " 27%|██▋       | 85/318 [04:08<03:41,  1.05it/s]"
     ]
    },
    {
     "name": "stdout",
     "output_type": "stream",
     "text": [
      "https://noaa-hrrr-bdp-pds.s3.amazonaws.com/hrrr.20130725/conus/hrrr.t18z.wrfsfcf01.grib2\n"
     ]
    },
    {
     "name": "stderr",
     "output_type": "stream",
     "text": [
      " 27%|██▋       | 86/318 [04:09<03:39,  1.05it/s]"
     ]
    },
    {
     "name": "stdout",
     "output_type": "stream",
     "text": [
      "https://noaa-hrrr-bdp-pds.s3.amazonaws.com/hrrr.20140513/conus/hrrr.t18z.wrfsfcf01.grib2\n"
     ]
    },
    {
     "name": "stderr",
     "output_type": "stream",
     "text": [
      " 27%|██▋       | 87/318 [04:10<03:38,  1.06it/s]"
     ]
    },
    {
     "name": "stdout",
     "output_type": "stream",
     "text": [
      "https://noaa-hrrr-bdp-pds.s3.amazonaws.com/hrrr.20140702/conus/hrrr.t18z.wrfsfcf01.grib2\n"
     ]
    },
    {
     "name": "stderr",
     "output_type": "stream",
     "text": [
      " 28%|██▊       | 88/318 [04:11<03:38,  1.05it/s]"
     ]
    },
    {
     "name": "stdout",
     "output_type": "stream",
     "text": [
      "https://noaa-hrrr-bdp-pds.s3.amazonaws.com/hrrr.20130723/conus/hrrr.t18z.wrfsfcf01.grib2\n"
     ]
    },
    {
     "name": "stderr",
     "output_type": "stream",
     "text": [
      " 28%|██▊       | 89/318 [04:12<03:37,  1.05it/s]"
     ]
    },
    {
     "name": "stdout",
     "output_type": "stream",
     "text": [
      "https://noaa-hrrr-bdp-pds.s3.amazonaws.com/hrrr.20140410/conus/hrrr.t18z.wrfsfcf01.grib2\n"
     ]
    },
    {
     "name": "stderr",
     "output_type": "stream",
     "text": [
      " 28%|██▊       | 90/318 [04:13<03:35,  1.06it/s]"
     ]
    },
    {
     "name": "stdout",
     "output_type": "stream",
     "text": [
      "https://noaa-hrrr-bdp-pds.s3.amazonaws.com/hrrr.20160809/conus/hrrr.t18z.wrfsfcf01.grib2\n"
     ]
    },
    {
     "name": "stderr",
     "output_type": "stream",
     "text": [
      " 29%|██▊       | 91/318 [04:14<03:34,  1.06it/s]"
     ]
    },
    {
     "name": "stdout",
     "output_type": "stream",
     "text": [
      "https://noaa-hrrr-bdp-pds.s3.amazonaws.com/hrrr.20130612/conus/hrrr.t18z.wrfsfcf01.grib2\n"
     ]
    },
    {
     "name": "stderr",
     "output_type": "stream",
     "text": [
      " 29%|██▉       | 92/318 [04:15<03:34,  1.05it/s]"
     ]
    },
    {
     "name": "stdout",
     "output_type": "stream",
     "text": [
      "https://noaa-hrrr-bdp-pds.s3.amazonaws.com/hrrr.20130916/conus/hrrr.t18z.wrfsfcf01.grib2\n"
     ]
    },
    {
     "name": "stderr",
     "output_type": "stream",
     "text": [
      " 29%|██▉       | 93/318 [04:16<03:34,  1.05it/s]"
     ]
    },
    {
     "name": "stdout",
     "output_type": "stream",
     "text": [
      "https://noaa-hrrr-bdp-pds.s3.amazonaws.com/hrrr.20130911/conus/hrrr.t18z.wrfsfcf01.grib2\n"
     ]
    },
    {
     "name": "stderr",
     "output_type": "stream",
     "text": [
      " 30%|██▉       | 94/318 [04:17<03:33,  1.05it/s]"
     ]
    },
    {
     "name": "stdout",
     "output_type": "stream",
     "text": [
      "https://noaa-hrrr-bdp-pds.s3.amazonaws.com/hrrr.20130904/conus/hrrr.t18z.wrfsfcf01.grib2\n"
     ]
    },
    {
     "name": "stderr",
     "output_type": "stream",
     "text": [
      " 30%|██▉       | 95/318 [04:18<03:32,  1.05it/s]"
     ]
    },
    {
     "name": "stdout",
     "output_type": "stream",
     "text": [
      "https://noaa-hrrr-bdp-pds.s3.amazonaws.com/hrrr.20140617/conus/hrrr.t18z.wrfsfcf01.grib2\n"
     ]
    },
    {
     "name": "stderr",
     "output_type": "stream",
     "text": [
      " 30%|███       | 96/318 [04:19<03:32,  1.05it/s]"
     ]
    },
    {
     "name": "stdout",
     "output_type": "stream",
     "text": [
      "https://noaa-hrrr-bdp-pds.s3.amazonaws.com/hrrr.20140226/conus/hrrr.t18z.wrfsfcf01.grib2\n"
     ]
    },
    {
     "name": "stderr",
     "output_type": "stream",
     "text": [
      " 31%|███       | 97/318 [04:20<03:30,  1.05it/s]"
     ]
    },
    {
     "name": "stdout",
     "output_type": "stream",
     "text": [
      "https://noaa-hrrr-bdp-pds.s3.amazonaws.com/hrrr.20130313/conus/hrrr.t18z.wrfsfcf01.grib2\n"
     ]
    },
    {
     "name": "stderr",
     "output_type": "stream",
     "text": [
      " 31%|███       | 98/318 [04:21<03:29,  1.05it/s]"
     ]
    },
    {
     "name": "stdout",
     "output_type": "stream",
     "text": [
      "https://noaa-hrrr-bdp-pds.s3.amazonaws.com/hrrr.20131007/conus/hrrr.t18z.wrfsfcf01.grib2\n"
     ]
    },
    {
     "name": "stderr",
     "output_type": "stream",
     "text": [
      " 31%|███       | 99/318 [04:22<03:28,  1.05it/s]"
     ]
    },
    {
     "name": "stdout",
     "output_type": "stream",
     "text": [
      "https://noaa-hrrr-bdp-pds.s3.amazonaws.com/hrrr.20130909/conus/hrrr.t18z.wrfsfcf01.grib2\n"
     ]
    },
    {
     "name": "stderr",
     "output_type": "stream",
     "text": [
      " 31%|███▏      | 100/318 [04:23<03:27,  1.05it/s]"
     ]
    },
    {
     "name": "stdout",
     "output_type": "stream",
     "text": [
      "https://noaa-hrrr-bdp-pds.s3.amazonaws.com/hrrr.20140430/conus/hrrr.t18z.wrfsfcf01.grib2\n"
     ]
    },
    {
     "name": "stderr",
     "output_type": "stream",
     "text": [
      " 32%|███▏      | 101/318 [04:24<03:26,  1.05it/s]"
     ]
    },
    {
     "name": "stdout",
     "output_type": "stream",
     "text": [
      "https://noaa-hrrr-bdp-pds.s3.amazonaws.com/hrrr.20130507/conus/hrrr.t18z.wrfsfcf01.grib2\n"
     ]
    },
    {
     "name": "stderr",
     "output_type": "stream",
     "text": [
      " 32%|███▏      | 102/318 [04:25<03:28,  1.03it/s]"
     ]
    },
    {
     "name": "stdout",
     "output_type": "stream",
     "text": [
      "https://noaa-hrrr-bdp-pds.s3.amazonaws.com/hrrr.20130624/conus/hrrr.t18z.wrfsfcf01.grib2\n"
     ]
    },
    {
     "name": "stderr",
     "output_type": "stream",
     "text": [
      " 32%|███▏      | 103/318 [04:26<03:28,  1.03it/s]"
     ]
    },
    {
     "name": "stdout",
     "output_type": "stream",
     "text": [
      "https://noaa-hrrr-bdp-pds.s3.amazonaws.com/hrrr.20130502/conus/hrrr.t18z.wrfsfcf01.grib2\n"
     ]
    },
    {
     "name": "stderr",
     "output_type": "stream",
     "text": [
      " 33%|███▎      | 104/318 [04:27<03:27,  1.03it/s]"
     ]
    },
    {
     "name": "stdout",
     "output_type": "stream",
     "text": [
      "https://noaa-hrrr-bdp-pds.s3.amazonaws.com/hrrr.20130409/conus/hrrr.t18z.wrfsfcf01.grib2\n"
     ]
    },
    {
     "name": "stderr",
     "output_type": "stream",
     "text": [
      " 33%|███▎      | 105/318 [04:27<03:25,  1.04it/s]"
     ]
    },
    {
     "name": "stdout",
     "output_type": "stream",
     "text": [
      "https://noaa-hrrr-bdp-pds.s3.amazonaws.com/hrrr.20140225/conus/hrrr.t18z.wrfsfcf01.grib2\n"
     ]
    },
    {
     "name": "stderr",
     "output_type": "stream",
     "text": [
      " 33%|███▎      | 106/318 [04:28<03:23,  1.04it/s]"
     ]
    },
    {
     "name": "stdout",
     "output_type": "stream",
     "text": [
      "https://noaa-hrrr-bdp-pds.s3.amazonaws.com/hrrr.20140611/conus/hrrr.t18z.wrfsfcf01.grib2\n"
     ]
    },
    {
     "name": "stderr",
     "output_type": "stream",
     "text": [
      " 34%|███▎      | 107/318 [04:29<03:21,  1.05it/s]"
     ]
    },
    {
     "name": "stdout",
     "output_type": "stream",
     "text": [
      "https://noaa-hrrr-bdp-pds.s3.amazonaws.com/hrrr.20170628/conus/hrrr.t18z.wrfsfcf01.grib2\n"
     ]
    },
    {
     "name": "stderr",
     "output_type": "stream",
     "text": [
      " 34%|███▍      | 108/318 [05:37<1:13:49, 21.09s/it]"
     ]
    },
    {
     "name": "stdout",
     "output_type": "stream",
     "text": [
      "https://noaa-hrrr-bdp-pds.s3.amazonaws.com/hrrr.20130924/conus/hrrr.t18z.wrfsfcf01.grib2\n"
     ]
    },
    {
     "name": "stderr",
     "output_type": "stream",
     "text": [
      " 34%|███▍      | 109/318 [05:38<52:25, 15.05s/it]  "
     ]
    },
    {
     "name": "stdout",
     "output_type": "stream",
     "text": [
      "https://noaa-hrrr-bdp-pds.s3.amazonaws.com/hrrr.20131120/conus/hrrr.t18z.wrfsfcf01.grib2\n"
     ]
    },
    {
     "name": "stderr",
     "output_type": "stream",
     "text": [
      " 35%|███▍      | 110/318 [05:39<37:30, 10.82s/it]"
     ]
    },
    {
     "name": "stdout",
     "output_type": "stream",
     "text": [
      "https://noaa-hrrr-bdp-pds.s3.amazonaws.com/hrrr.20130219/conus/hrrr.t18z.wrfsfcf01.grib2\n"
     ]
    },
    {
     "name": "stderr",
     "output_type": "stream",
     "text": [
      " 35%|███▍      | 111/318 [05:40<27:06,  7.86s/it]"
     ]
    },
    {
     "name": "stdout",
     "output_type": "stream",
     "text": [
      "https://noaa-hrrr-bdp-pds.s3.amazonaws.com/hrrr.20140520/conus/hrrr.t18z.wrfsfcf01.grib2\n"
     ]
    },
    {
     "name": "stderr",
     "output_type": "stream",
     "text": [
      " 35%|███▌      | 112/318 [05:41<19:52,  5.79s/it]"
     ]
    },
    {
     "name": "stdout",
     "output_type": "stream",
     "text": [
      "https://noaa-hrrr-bdp-pds.s3.amazonaws.com/hrrr.20130301/conus/hrrr.t18z.wrfsfcf01.grib2\n"
     ]
    },
    {
     "name": "stderr",
     "output_type": "stream",
     "text": [
      " 36%|███▌      | 113/318 [05:42<14:48,  4.34s/it]"
     ]
    },
    {
     "name": "stdout",
     "output_type": "stream",
     "text": [
      "https://noaa-hrrr-bdp-pds.s3.amazonaws.com/hrrr.20130210/conus/hrrr.t18z.wrfsfcf01.grib2\n"
     ]
    },
    {
     "name": "stderr",
     "output_type": "stream",
     "text": [
      " 36%|███▌      | 114/318 [05:43<11:16,  3.32s/it]"
     ]
    },
    {
     "name": "stdout",
     "output_type": "stream",
     "text": [
      "https://noaa-hrrr-bdp-pds.s3.amazonaws.com/hrrr.20130521/conus/hrrr.t18z.wrfsfcf01.grib2\n"
     ]
    },
    {
     "name": "stderr",
     "output_type": "stream",
     "text": [
      " 36%|███▌      | 115/318 [05:44<08:49,  2.61s/it]"
     ]
    },
    {
     "name": "stdout",
     "output_type": "stream",
     "text": [
      "https://noaa-hrrr-bdp-pds.s3.amazonaws.com/hrrr.20130717/conus/hrrr.t18z.wrfsfcf01.grib2\n"
     ]
    },
    {
     "name": "stderr",
     "output_type": "stream",
     "text": [
      " 36%|███▋      | 116/318 [05:45<07:06,  2.11s/it]"
     ]
    },
    {
     "name": "stdout",
     "output_type": "stream",
     "text": [
      "https://noaa-hrrr-bdp-pds.s3.amazonaws.com/hrrr.20130515/conus/hrrr.t18z.wrfsfcf01.grib2\n"
     ]
    },
    {
     "name": "stderr",
     "output_type": "stream",
     "text": [
      " 37%|███▋      | 117/318 [05:46<05:54,  1.76s/it]"
     ]
    },
    {
     "name": "stdout",
     "output_type": "stream",
     "text": [
      "https://noaa-hrrr-bdp-pds.s3.amazonaws.com/hrrr.20130108/conus/hrrr.t18z.wrfsfcf01.grib2\n"
     ]
    },
    {
     "name": "stderr",
     "output_type": "stream",
     "text": [
      " 37%|███▋      | 118/318 [05:47<05:03,  1.52s/it]"
     ]
    },
    {
     "name": "stdout",
     "output_type": "stream",
     "text": [
      "https://noaa-hrrr-bdp-pds.s3.amazonaws.com/hrrr.20140701/conus/hrrr.t18z.wrfsfcf01.grib2\n"
     ]
    },
    {
     "name": "stderr",
     "output_type": "stream",
     "text": [
      " 37%|███▋      | 119/318 [05:48<04:29,  1.36s/it]"
     ]
    },
    {
     "name": "stdout",
     "output_type": "stream",
     "text": [
      "https://noaa-hrrr-bdp-pds.s3.amazonaws.com/hrrr.20130129/conus/hrrr.t18z.wrfsfcf01.grib2\n"
     ]
    },
    {
     "name": "stderr",
     "output_type": "stream",
     "text": [
      " 38%|███▊      | 120/318 [05:49<04:04,  1.24s/it]"
     ]
    },
    {
     "name": "stdout",
     "output_type": "stream",
     "text": [
      "https://noaa-hrrr-bdp-pds.s3.amazonaws.com/hrrr.20140929/conus/hrrr.t18z.wrfsfcf01.grib2\n"
     ]
    },
    {
     "name": "stderr",
     "output_type": "stream",
     "text": [
      " 38%|███▊      | 121/318 [05:50<03:47,  1.15s/it]"
     ]
    },
    {
     "name": "stdout",
     "output_type": "stream",
     "text": [
      "https://noaa-hrrr-bdp-pds.s3.amazonaws.com/hrrr.20130801/conus/hrrr.t18z.wrfsfcf01.grib2\n"
     ]
    },
    {
     "name": "stderr",
     "output_type": "stream",
     "text": [
      " 38%|███▊      | 122/318 [05:51<03:34,  1.10s/it]"
     ]
    },
    {
     "name": "stdout",
     "output_type": "stream",
     "text": [
      "https://noaa-hrrr-bdp-pds.s3.amazonaws.com/hrrr.20130926/conus/hrrr.t18z.wrfsfcf01.grib2\n"
     ]
    },
    {
     "name": "stderr",
     "output_type": "stream",
     "text": [
      " 39%|███▊      | 123/318 [05:52<03:24,  1.05s/it]"
     ]
    },
    {
     "name": "stdout",
     "output_type": "stream",
     "text": [
      "https://noaa-hrrr-bdp-pds.s3.amazonaws.com/hrrr.20140521/conus/hrrr.t18z.wrfsfcf01.grib2\n"
     ]
    },
    {
     "name": "stderr",
     "output_type": "stream",
     "text": [
      " 39%|███▉      | 124/318 [05:53<03:17,  1.02s/it]"
     ]
    },
    {
     "name": "stdout",
     "output_type": "stream",
     "text": [
      "https://noaa-hrrr-bdp-pds.s3.amazonaws.com/hrrr.20130912/conus/hrrr.t18z.wrfsfcf01.grib2\n"
     ]
    },
    {
     "name": "stderr",
     "output_type": "stream",
     "text": [
      " 39%|███▉      | 125/318 [05:54<03:13,  1.00s/it]"
     ]
    },
    {
     "name": "stdout",
     "output_type": "stream",
     "text": [
      "https://noaa-hrrr-bdp-pds.s3.amazonaws.com/hrrr.20140319/conus/hrrr.t18z.wrfsfcf01.grib2\n"
     ]
    },
    {
     "name": "stderr",
     "output_type": "stream",
     "text": [
      " 40%|███▉      | 126/318 [05:55<03:09,  1.01it/s]"
     ]
    },
    {
     "name": "stdout",
     "output_type": "stream",
     "text": [
      "https://noaa-hrrr-bdp-pds.s3.amazonaws.com/hrrr.20130828/conus/hrrr.t18z.wrfsfcf01.grib2\n"
     ]
    },
    {
     "name": "stderr",
     "output_type": "stream",
     "text": [
      " 40%|███▉      | 127/318 [05:56<03:06,  1.02it/s]"
     ]
    },
    {
     "name": "stdout",
     "output_type": "stream",
     "text": [
      "https://noaa-hrrr-bdp-pds.s3.amazonaws.com/hrrr.20130130/conus/hrrr.t18z.wrfsfcf01.grib2\n"
     ]
    },
    {
     "name": "stderr",
     "output_type": "stream",
     "text": [
      " 40%|████      | 128/318 [05:57<03:04,  1.03it/s]"
     ]
    },
    {
     "name": "stdout",
     "output_type": "stream",
     "text": [
      "https://noaa-hrrr-bdp-pds.s3.amazonaws.com/hrrr.20130613/conus/hrrr.t18z.wrfsfcf01.grib2\n"
     ]
    },
    {
     "name": "stderr",
     "output_type": "stream",
     "text": [
      " 41%|████      | 129/318 [05:57<03:01,  1.04it/s]"
     ]
    },
    {
     "name": "stdout",
     "output_type": "stream",
     "text": [
      "https://noaa-hrrr-bdp-pds.s3.amazonaws.com/hrrr.20130501/conus/hrrr.t18z.wrfsfcf01.grib2\n"
     ]
    },
    {
     "name": "stderr",
     "output_type": "stream",
     "text": [
      " 41%|████      | 130/318 [05:58<02:59,  1.05it/s]"
     ]
    },
    {
     "name": "stdout",
     "output_type": "stream",
     "text": [
      "https://noaa-hrrr-bdp-pds.s3.amazonaws.com/hrrr.20130711/conus/hrrr.t18z.wrfsfcf01.grib2\n"
     ]
    },
    {
     "name": "stderr",
     "output_type": "stream",
     "text": [
      " 41%|████      | 131/318 [05:59<02:57,  1.06it/s]"
     ]
    },
    {
     "name": "stdout",
     "output_type": "stream",
     "text": [
      "https://noaa-hrrr-bdp-pds.s3.amazonaws.com/hrrr.20131028/conus/hrrr.t18z.wrfsfcf01.grib2\n"
     ]
    },
    {
     "name": "stderr",
     "output_type": "stream",
     "text": [
      " 42%|████▏     | 132/318 [06:00<02:55,  1.06it/s]"
     ]
    },
    {
     "name": "stdout",
     "output_type": "stream",
     "text": [
      "https://noaa-hrrr-bdp-pds.s3.amazonaws.com/hrrr.20140923/conus/hrrr.t18z.wrfsfcf01.grib2\n"
     ]
    },
    {
     "name": "stderr",
     "output_type": "stream",
     "text": [
      " 42%|████▏     | 133/318 [06:01<02:54,  1.06it/s]"
     ]
    },
    {
     "name": "stdout",
     "output_type": "stream",
     "text": [
      "https://noaa-hrrr-bdp-pds.s3.amazonaws.com/hrrr.20140724/conus/hrrr.t18z.wrfsfcf01.grib2\n"
     ]
    },
    {
     "name": "stderr",
     "output_type": "stream",
     "text": [
      " 42%|████▏     | 134/318 [06:02<02:54,  1.06it/s]"
     ]
    },
    {
     "name": "stdout",
     "output_type": "stream",
     "text": [
      "https://noaa-hrrr-bdp-pds.s3.amazonaws.com/hrrr.20131022/conus/hrrr.t18z.wrfsfcf01.grib2\n"
     ]
    },
    {
     "name": "stderr",
     "output_type": "stream",
     "text": [
      " 42%|████▏     | 135/318 [06:03<02:53,  1.05it/s]"
     ]
    },
    {
     "name": "stdout",
     "output_type": "stream",
     "text": [
      "https://noaa-hrrr-bdp-pds.s3.amazonaws.com/hrrr.20140730/conus/hrrr.t18z.wrfsfcf01.grib2\n"
     ]
    },
    {
     "name": "stderr",
     "output_type": "stream",
     "text": [
      " 43%|████▎     | 136/318 [06:04<02:52,  1.06it/s]"
     ]
    },
    {
     "name": "stdout",
     "output_type": "stream",
     "text": [
      "https://noaa-hrrr-bdp-pds.s3.amazonaws.com/hrrr.20140818/conus/hrrr.t18z.wrfsfcf01.grib2\n"
     ]
    },
    {
     "name": "stderr",
     "output_type": "stream",
     "text": [
      " 43%|████▎     | 137/318 [06:05<02:51,  1.06it/s]"
     ]
    },
    {
     "name": "stdout",
     "output_type": "stream",
     "text": [
      "https://noaa-hrrr-bdp-pds.s3.amazonaws.com/hrrr.20130604/conus/hrrr.t18z.wrfsfcf01.grib2\n"
     ]
    },
    {
     "name": "stderr",
     "output_type": "stream",
     "text": [
      " 43%|████▎     | 138/318 [06:06<02:50,  1.06it/s]"
     ]
    },
    {
     "name": "stdout",
     "output_type": "stream",
     "text": [
      "https://noaa-hrrr-bdp-pds.s3.amazonaws.com/hrrr.20140420/conus/hrrr.t18z.wrfsfcf01.grib2\n"
     ]
    },
    {
     "name": "stderr",
     "output_type": "stream",
     "text": [
      " 44%|████▎     | 139/318 [06:07<02:48,  1.06it/s]"
     ]
    },
    {
     "name": "stdout",
     "output_type": "stream",
     "text": [
      "https://noaa-hrrr-bdp-pds.s3.amazonaws.com/hrrr.20130330/conus/hrrr.t18z.wrfsfcf01.grib2\n"
     ]
    },
    {
     "name": "stderr",
     "output_type": "stream",
     "text": [
      " 44%|████▍     | 140/318 [06:08<02:48,  1.06it/s]"
     ]
    },
    {
     "name": "stdout",
     "output_type": "stream",
     "text": [
      "https://noaa-hrrr-bdp-pds.s3.amazonaws.com/hrrr.20140303/conus/hrrr.t18z.wrfsfcf01.grib2\n"
     ]
    },
    {
     "name": "stderr",
     "output_type": "stream",
     "text": [
      " 44%|████▍     | 141/318 [06:09<02:47,  1.05it/s]"
     ]
    },
    {
     "name": "stdout",
     "output_type": "stream",
     "text": [
      "https://noaa-hrrr-bdp-pds.s3.amazonaws.com/hrrr.20130807/conus/hrrr.t18z.wrfsfcf01.grib2\n"
     ]
    },
    {
     "name": "stderr",
     "output_type": "stream",
     "text": [
      " 45%|████▍     | 142/318 [06:10<02:47,  1.05it/s]"
     ]
    },
    {
     "name": "stdout",
     "output_type": "stream",
     "text": [
      "https://noaa-hrrr-bdp-pds.s3.amazonaws.com/hrrr.20130626/conus/hrrr.t18z.wrfsfcf01.grib2\n"
     ]
    },
    {
     "name": "stderr",
     "output_type": "stream",
     "text": [
      " 45%|████▍     | 143/318 [06:11<02:45,  1.05it/s]"
     ]
    },
    {
     "name": "stdout",
     "output_type": "stream",
     "text": [
      "https://noaa-hrrr-bdp-pds.s3.amazonaws.com/hrrr.20140717/conus/hrrr.t18z.wrfsfcf01.grib2\n"
     ]
    },
    {
     "name": "stderr",
     "output_type": "stream",
     "text": [
      " 45%|████▌     | 144/318 [06:12<02:45,  1.05it/s]"
     ]
    },
    {
     "name": "stdout",
     "output_type": "stream",
     "text": [
      "https://noaa-hrrr-bdp-pds.s3.amazonaws.com/hrrr.20180227/conus/hrrr.t18z.wrfsfcf01.grib2\n"
     ]
    },
    {
     "name": "stderr",
     "output_type": "stream",
     "text": [
      " 46%|████▌     | 145/318 [06:37<23:46,  8.25s/it]"
     ]
    },
    {
     "name": "stdout",
     "output_type": "stream",
     "text": [
      "https://noaa-hrrr-bdp-pds.s3.amazonaws.com/hrrr.20130726/conus/hrrr.t18z.wrfsfcf01.grib2\n"
     ]
    },
    {
     "name": "stderr",
     "output_type": "stream",
     "text": [
      " 46%|████▌     | 146/318 [06:38<17:21,  6.06s/it]"
     ]
    },
    {
     "name": "stdout",
     "output_type": "stream",
     "text": [
      "https://noaa-hrrr-bdp-pds.s3.amazonaws.com/hrrr.20140502/conus/hrrr.t18z.wrfsfcf01.grib2\n"
     ]
    },
    {
     "name": "stderr",
     "output_type": "stream",
     "text": [
      " 46%|████▌     | 147/318 [06:39<12:57,  4.55s/it]"
     ]
    },
    {
     "name": "stdout",
     "output_type": "stream",
     "text": [
      "https://noaa-hrrr-bdp-pds.s3.amazonaws.com/hrrr.20140415/conus/hrrr.t18z.wrfsfcf01.grib2\n"
     ]
    },
    {
     "name": "stderr",
     "output_type": "stream",
     "text": [
      " 47%|████▋     | 148/318 [06:40<09:49,  3.47s/it]"
     ]
    },
    {
     "name": "stdout",
     "output_type": "stream",
     "text": [
      "https://noaa-hrrr-bdp-pds.s3.amazonaws.com/hrrr.20130628/conus/hrrr.t18z.wrfsfcf01.grib2\n"
     ]
    },
    {
     "name": "stderr",
     "output_type": "stream",
     "text": [
      " 47%|████▋     | 149/318 [06:41<07:37,  2.71s/it]"
     ]
    },
    {
     "name": "stdout",
     "output_type": "stream",
     "text": [
      "https://noaa-hrrr-bdp-pds.s3.amazonaws.com/hrrr.20140816/conus/hrrr.t18z.wrfsfcf01.grib2\n"
     ]
    },
    {
     "name": "stderr",
     "output_type": "stream",
     "text": [
      " 47%|████▋     | 150/318 [06:42<06:10,  2.21s/it]"
     ]
    },
    {
     "name": "stdout",
     "output_type": "stream",
     "text": [
      "https://noaa-hrrr-bdp-pds.s3.amazonaws.com/hrrr.20130724/conus/hrrr.t18z.wrfsfcf01.grib2\n"
     ]
    },
    {
     "name": "stderr",
     "output_type": "stream",
     "text": [
      " 47%|████▋     | 151/318 [06:43<05:05,  1.83s/it]"
     ]
    },
    {
     "name": "stdout",
     "output_type": "stream",
     "text": [
      "https://noaa-hrrr-bdp-pds.s3.amazonaws.com/hrrr.20131218/conus/hrrr.t18z.wrfsfcf01.grib2\n"
     ]
    },
    {
     "name": "stderr",
     "output_type": "stream",
     "text": [
      " 48%|████▊     | 152/318 [06:44<04:20,  1.57s/it]"
     ]
    },
    {
     "name": "stdout",
     "output_type": "stream",
     "text": [
      "https://noaa-hrrr-bdp-pds.s3.amazonaws.com/hrrr.20140910/conus/hrrr.t18z.wrfsfcf01.grib2\n"
     ]
    },
    {
     "name": "stderr",
     "output_type": "stream",
     "text": [
      " 48%|████▊     | 153/318 [06:45<03:48,  1.38s/it]"
     ]
    },
    {
     "name": "stdout",
     "output_type": "stream",
     "text": [
      "https://noaa-hrrr-bdp-pds.s3.amazonaws.com/hrrr.20130424/conus/hrrr.t18z.wrfsfcf01.grib2\n"
     ]
    },
    {
     "name": "stderr",
     "output_type": "stream",
     "text": [
      " 48%|████▊     | 154/318 [06:46<03:25,  1.25s/it]"
     ]
    },
    {
     "name": "stdout",
     "output_type": "stream",
     "text": [
      "https://noaa-hrrr-bdp-pds.s3.amazonaws.com/hrrr.20140514/conus/hrrr.t18z.wrfsfcf01.grib2\n"
     ]
    },
    {
     "name": "stderr",
     "output_type": "stream",
     "text": [
      " 49%|████▊     | 155/318 [06:47<03:10,  1.17s/it]"
     ]
    },
    {
     "name": "stdout",
     "output_type": "stream",
     "text": [
      "https://noaa-hrrr-bdp-pds.s3.amazonaws.com/hrrr.20130529/conus/hrrr.t18z.wrfsfcf01.grib2\n"
     ]
    },
    {
     "name": "stderr",
     "output_type": "stream",
     "text": [
      " 49%|████▉     | 156/318 [06:48<02:58,  1.10s/it]"
     ]
    },
    {
     "name": "stdout",
     "output_type": "stream",
     "text": [
      "https://noaa-hrrr-bdp-pds.s3.amazonaws.com/hrrr.20140707/conus/hrrr.t18z.wrfsfcf01.grib2\n"
     ]
    },
    {
     "name": "stderr",
     "output_type": "stream",
     "text": [
      " 49%|████▉     | 157/318 [06:48<02:49,  1.05s/it]"
     ]
    },
    {
     "name": "stdout",
     "output_type": "stream",
     "text": [
      "https://noaa-hrrr-bdp-pds.s3.amazonaws.com/hrrr.20140728/conus/hrrr.t18z.wrfsfcf01.grib2\n"
     ]
    },
    {
     "name": "stderr",
     "output_type": "stream",
     "text": [
      " 50%|████▉     | 158/318 [06:49<02:43,  1.02s/it]"
     ]
    },
    {
     "name": "stdout",
     "output_type": "stream",
     "text": [
      "https://noaa-hrrr-bdp-pds.s3.amazonaws.com/hrrr.20130827/conus/hrrr.t18z.wrfsfcf01.grib2\n"
     ]
    },
    {
     "name": "stderr",
     "output_type": "stream",
     "text": [
      " 50%|█████     | 159/318 [06:50<02:38,  1.00it/s]"
     ]
    },
    {
     "name": "stdout",
     "output_type": "stream",
     "text": [
      "https://noaa-hrrr-bdp-pds.s3.amazonaws.com/hrrr.20131023/conus/hrrr.t18z.wrfsfcf01.grib2\n"
     ]
    },
    {
     "name": "stderr",
     "output_type": "stream",
     "text": [
      " 50%|█████     | 160/318 [06:51<02:35,  1.01it/s]"
     ]
    },
    {
     "name": "stdout",
     "output_type": "stream",
     "text": [
      "https://noaa-hrrr-bdp-pds.s3.amazonaws.com/hrrr.20140714/conus/hrrr.t18z.wrfsfcf01.grib2\n"
     ]
    },
    {
     "name": "stderr",
     "output_type": "stream",
     "text": [
      " 51%|█████     | 161/318 [06:52<02:33,  1.02it/s]"
     ]
    },
    {
     "name": "stdout",
     "output_type": "stream",
     "text": [
      "https://noaa-hrrr-bdp-pds.s3.amazonaws.com/hrrr.20140721/conus/hrrr.t18z.wrfsfcf01.grib2\n"
     ]
    },
    {
     "name": "stderr",
     "output_type": "stream",
     "text": [
      " 51%|█████     | 162/318 [06:53<02:30,  1.03it/s]"
     ]
    },
    {
     "name": "stdout",
     "output_type": "stream",
     "text": [
      "https://noaa-hrrr-bdp-pds.s3.amazonaws.com/hrrr.20140817/conus/hrrr.t18z.wrfsfcf01.grib2\n"
     ]
    },
    {
     "name": "stderr",
     "output_type": "stream",
     "text": [
      " 51%|█████▏    | 163/318 [06:54<02:30,  1.03it/s]"
     ]
    },
    {
     "name": "stdout",
     "output_type": "stream",
     "text": [
      "https://noaa-hrrr-bdp-pds.s3.amazonaws.com/hrrr.20130701/conus/hrrr.t18z.wrfsfcf01.grib2\n"
     ]
    },
    {
     "name": "stderr",
     "output_type": "stream",
     "text": [
      " 52%|█████▏    | 164/318 [06:55<02:28,  1.04it/s]"
     ]
    },
    {
     "name": "stdout",
     "output_type": "stream",
     "text": [
      "https://noaa-hrrr-bdp-pds.s3.amazonaws.com/hrrr.20140630/conus/hrrr.t18z.wrfsfcf01.grib2\n"
     ]
    },
    {
     "name": "stderr",
     "output_type": "stream",
     "text": [
      " 52%|█████▏    | 165/318 [06:56<02:26,  1.05it/s]"
     ]
    },
    {
     "name": "stdout",
     "output_type": "stream",
     "text": [
      "https://noaa-hrrr-bdp-pds.s3.amazonaws.com/hrrr.20140512/conus/hrrr.t18z.wrfsfcf01.grib2\n"
     ]
    },
    {
     "name": "stderr",
     "output_type": "stream",
     "text": [
      " 52%|█████▏    | 166/318 [06:57<02:24,  1.05it/s]"
     ]
    },
    {
     "name": "stdout",
     "output_type": "stream",
     "text": [
      "https://noaa-hrrr-bdp-pds.s3.amazonaws.com/hrrr.20140723/conus/hrrr.t18z.wrfsfcf01.grib2\n"
     ]
    },
    {
     "name": "stderr",
     "output_type": "stream",
     "text": [
      " 53%|█████▎    | 167/318 [06:58<02:23,  1.05it/s]"
     ]
    },
    {
     "name": "stdout",
     "output_type": "stream",
     "text": [
      "https://noaa-hrrr-bdp-pds.s3.amazonaws.com/hrrr.20130910/conus/hrrr.t18z.wrfsfcf01.grib2\n"
     ]
    },
    {
     "name": "stderr",
     "output_type": "stream",
     "text": [
      " 53%|█████▎    | 168/318 [06:59<02:23,  1.04it/s]"
     ]
    },
    {
     "name": "stdout",
     "output_type": "stream",
     "text": [
      "https://noaa-hrrr-bdp-pds.s3.amazonaws.com/hrrr.20140612/conus/hrrr.t18z.wrfsfcf01.grib2\n"
     ]
    },
    {
     "name": "stderr",
     "output_type": "stream",
     "text": [
      " 53%|█████▎    | 169/318 [07:00<02:22,  1.05it/s]"
     ]
    },
    {
     "name": "stdout",
     "output_type": "stream",
     "text": [
      "https://noaa-hrrr-bdp-pds.s3.amazonaws.com/hrrr.20130403/conus/hrrr.t18z.wrfsfcf01.grib2\n"
     ]
    },
    {
     "name": "stderr",
     "output_type": "stream",
     "text": [
      " 53%|█████▎    | 170/318 [07:01<02:20,  1.05it/s]"
     ]
    },
    {
     "name": "stdout",
     "output_type": "stream",
     "text": [
      "https://noaa-hrrr-bdp-pds.s3.amazonaws.com/hrrr.20170111/conus/hrrr.t18z.wrfsfcf01.grib2\n"
     ]
    },
    {
     "name": "stderr",
     "output_type": "stream",
     "text": [
      " 54%|█████▍    | 171/318 [07:47<35:28, 14.48s/it]"
     ]
    },
    {
     "name": "stdout",
     "output_type": "stream",
     "text": [
      "https://noaa-hrrr-bdp-pds.s3.amazonaws.com/hrrr.20130326/conus/hrrr.t18z.wrfsfcf01.grib2\n"
     ]
    },
    {
     "name": "stderr",
     "output_type": "stream",
     "text": [
      " 54%|█████▍    | 172/318 [07:48<25:21, 10.42s/it]"
     ]
    },
    {
     "name": "stdout",
     "output_type": "stream",
     "text": [
      "https://noaa-hrrr-bdp-pds.s3.amazonaws.com/hrrr.20130625/conus/hrrr.t18z.wrfsfcf01.grib2\n"
     ]
    },
    {
     "name": "stderr",
     "output_type": "stream",
     "text": [
      " 54%|█████▍    | 173/318 [07:49<18:22,  7.60s/it]"
     ]
    },
    {
     "name": "stdout",
     "output_type": "stream",
     "text": [
      "https://noaa-hrrr-bdp-pds.s3.amazonaws.com/hrrr.20140826/conus/hrrr.t18z.wrfsfcf01.grib2\n"
     ]
    },
    {
     "name": "stderr",
     "output_type": "stream",
     "text": [
      " 55%|█████▍    | 174/318 [07:50<13:34,  5.66s/it]"
     ]
    },
    {
     "name": "stdout",
     "output_type": "stream",
     "text": [
      "https://noaa-hrrr-bdp-pds.s3.amazonaws.com/hrrr.20130718/conus/hrrr.t18z.wrfsfcf01.grib2\n"
     ]
    },
    {
     "name": "stderr",
     "output_type": "stream",
     "text": [
      " 55%|█████▌    | 175/318 [07:51<10:06,  4.24s/it]"
     ]
    },
    {
     "name": "stdout",
     "output_type": "stream",
     "text": [
      "https://noaa-hrrr-bdp-pds.s3.amazonaws.com/hrrr.20130430/conus/hrrr.t18z.wrfsfcf01.grib2\n"
     ]
    },
    {
     "name": "stderr",
     "output_type": "stream",
     "text": [
      " 55%|█████▌    | 176/318 [07:52<07:41,  3.25s/it]"
     ]
    },
    {
     "name": "stdout",
     "output_type": "stream",
     "text": [
      "https://noaa-hrrr-bdp-pds.s3.amazonaws.com/hrrr.20130221/conus/hrrr.t18z.wrfsfcf01.grib2\n"
     ]
    },
    {
     "name": "stderr",
     "output_type": "stream",
     "text": [
      " 56%|█████▌    | 177/318 [07:53<06:01,  2.56s/it]"
     ]
    },
    {
     "name": "stdout",
     "output_type": "stream",
     "text": [
      "https://noaa-hrrr-bdp-pds.s3.amazonaws.com/hrrr.20140203/conus/hrrr.t18z.wrfsfcf01.grib2\n"
     ]
    },
    {
     "name": "stderr",
     "output_type": "stream",
     "text": [
      " 56%|█████▌    | 178/318 [07:54<04:50,  2.07s/it]"
     ]
    },
    {
     "name": "stdout",
     "output_type": "stream",
     "text": [
      "https://noaa-hrrr-bdp-pds.s3.amazonaws.com/hrrr.20130514/conus/hrrr.t18z.wrfsfcf01.grib2\n"
     ]
    },
    {
     "name": "stderr",
     "output_type": "stream",
     "text": [
      " 56%|█████▋    | 179/318 [07:55<04:00,  1.73s/it]"
     ]
    },
    {
     "name": "stdout",
     "output_type": "stream",
     "text": [
      "https://noaa-hrrr-bdp-pds.s3.amazonaws.com/hrrr.20130815/conus/hrrr.t18z.wrfsfcf01.grib2\n"
     ]
    },
    {
     "name": "stderr",
     "output_type": "stream",
     "text": [
      " 57%|█████▋    | 180/318 [07:56<03:26,  1.50s/it]"
     ]
    },
    {
     "name": "stdout",
     "output_type": "stream",
     "text": [
      "https://noaa-hrrr-bdp-pds.s3.amazonaws.com/hrrr.20140811/conus/hrrr.t18z.wrfsfcf01.grib2\n"
     ]
    },
    {
     "name": "stderr",
     "output_type": "stream",
     "text": [
      " 57%|█████▋    | 181/318 [07:57<03:03,  1.34s/it]"
     ]
    },
    {
     "name": "stdout",
     "output_type": "stream",
     "text": [
      "https://noaa-hrrr-bdp-pds.s3.amazonaws.com/hrrr.20131024/conus/hrrr.t18z.wrfsfcf01.grib2\n"
     ]
    },
    {
     "name": "stderr",
     "output_type": "stream",
     "text": [
      " 57%|█████▋    | 182/318 [07:58<02:45,  1.21s/it]"
     ]
    },
    {
     "name": "stdout",
     "output_type": "stream",
     "text": [
      "https://noaa-hrrr-bdp-pds.s3.amazonaws.com/hrrr.20140417/conus/hrrr.t18z.wrfsfcf01.grib2\n"
     ]
    },
    {
     "name": "stderr",
     "output_type": "stream",
     "text": [
      " 58%|█████▊    | 183/318 [07:59<02:35,  1.15s/it]"
     ]
    },
    {
     "name": "stdout",
     "output_type": "stream",
     "text": [
      "https://noaa-hrrr-bdp-pds.s3.amazonaws.com/hrrr.20140915/conus/hrrr.t18z.wrfsfcf01.grib2\n"
     ]
    },
    {
     "name": "stderr",
     "output_type": "stream",
     "text": [
      " 58%|█████▊    | 184/318 [07:59<02:26,  1.09s/it]"
     ]
    },
    {
     "name": "stdout",
     "output_type": "stream",
     "text": [
      "https://noaa-hrrr-bdp-pds.s3.amazonaws.com/hrrr.20130808/conus/hrrr.t18z.wrfsfcf01.grib2\n"
     ]
    },
    {
     "name": "stderr",
     "output_type": "stream",
     "text": [
      " 58%|█████▊    | 185/318 [08:00<02:20,  1.05s/it]"
     ]
    },
    {
     "name": "stdout",
     "output_type": "stream",
     "text": [
      "https://noaa-hrrr-bdp-pds.s3.amazonaws.com/hrrr.20140828/conus/hrrr.t18z.wrfsfcf01.grib2\n"
     ]
    },
    {
     "name": "stderr",
     "output_type": "stream",
     "text": [
      " 58%|█████▊    | 186/318 [08:01<02:14,  1.02s/it]"
     ]
    },
    {
     "name": "stdout",
     "output_type": "stream",
     "text": [
      "https://noaa-hrrr-bdp-pds.s3.amazonaws.com/hrrr.20131217/conus/hrrr.t18z.wrfsfcf01.grib2\n"
     ]
    },
    {
     "name": "stderr",
     "output_type": "stream",
     "text": [
      " 59%|█████▉    | 187/318 [08:02<02:10,  1.00it/s]"
     ]
    },
    {
     "name": "stdout",
     "output_type": "stream",
     "text": [
      "https://noaa-hrrr-bdp-pds.s3.amazonaws.com/hrrr.20131212/conus/hrrr.t18z.wrfsfcf01.grib2\n"
     ]
    },
    {
     "name": "stderr",
     "output_type": "stream",
     "text": [
      " 59%|█████▉    | 188/318 [08:03<02:08,  1.01it/s]"
     ]
    },
    {
     "name": "stdout",
     "output_type": "stream",
     "text": [
      "https://noaa-hrrr-bdp-pds.s3.amazonaws.com/hrrr.20131113/conus/hrrr.t18z.wrfsfcf01.grib2\n"
     ]
    },
    {
     "name": "stderr",
     "output_type": "stream",
     "text": [
      " 59%|█████▉    | 189/318 [08:04<02:05,  1.03it/s]"
     ]
    },
    {
     "name": "stdout",
     "output_type": "stream",
     "text": [
      "https://noaa-hrrr-bdp-pds.s3.amazonaws.com/hrrr.20130814/conus/hrrr.t18z.wrfsfcf01.grib2\n"
     ]
    },
    {
     "name": "stderr",
     "output_type": "stream",
     "text": [
      " 60%|█████▉    | 190/318 [08:05<02:03,  1.04it/s]"
     ]
    },
    {
     "name": "stdout",
     "output_type": "stream",
     "text": [
      "https://noaa-hrrr-bdp-pds.s3.amazonaws.com/hrrr.20130804/conus/hrrr.t18z.wrfsfcf01.grib2\n"
     ]
    },
    {
     "name": "stderr",
     "output_type": "stream",
     "text": [
      " 60%|██████    | 191/318 [08:06<02:02,  1.04it/s]"
     ]
    },
    {
     "name": "stdout",
     "output_type": "stream",
     "text": [
      "https://noaa-hrrr-bdp-pds.s3.amazonaws.com/hrrr.20130930/conus/hrrr.t18z.wrfsfcf01.grib2\n"
     ]
    },
    {
     "name": "stderr",
     "output_type": "stream",
     "text": [
      " 60%|██████    | 192/318 [08:07<02:01,  1.04it/s]"
     ]
    },
    {
     "name": "stdout",
     "output_type": "stream",
     "text": [
      "https://noaa-hrrr-bdp-pds.s3.amazonaws.com/hrrr.20131030/conus/hrrr.t18z.wrfsfcf01.grib2\n"
     ]
    },
    {
     "name": "stderr",
     "output_type": "stream",
     "text": [
      " 61%|██████    | 193/318 [08:08<01:59,  1.04it/s]"
     ]
    },
    {
     "name": "stdout",
     "output_type": "stream",
     "text": [
      "https://noaa-hrrr-bdp-pds.s3.amazonaws.com/hrrr.20140820/conus/hrrr.t18z.wrfsfcf01.grib2\n"
     ]
    },
    {
     "name": "stderr",
     "output_type": "stream",
     "text": [
      " 61%|██████    | 194/318 [08:09<01:58,  1.05it/s]"
     ]
    },
    {
     "name": "stdout",
     "output_type": "stream",
     "text": [
      "https://noaa-hrrr-bdp-pds.s3.amazonaws.com/hrrr.20140515/conus/hrrr.t18z.wrfsfcf01.grib2\n"
     ]
    },
    {
     "name": "stderr",
     "output_type": "stream",
     "text": [
      " 61%|██████▏   | 195/318 [08:10<01:57,  1.04it/s]"
     ]
    },
    {
     "name": "stdout",
     "output_type": "stream",
     "text": [
      "https://noaa-hrrr-bdp-pds.s3.amazonaws.com/hrrr.20130617/conus/hrrr.t18z.wrfsfcf01.grib2\n"
     ]
    },
    {
     "name": "stderr",
     "output_type": "stream",
     "text": [
      " 62%|██████▏   | 196/318 [08:11<01:56,  1.04it/s]"
     ]
    },
    {
     "name": "stdout",
     "output_type": "stream",
     "text": [
      "https://noaa-hrrr-bdp-pds.s3.amazonaws.com/hrrr.20140916/conus/hrrr.t18z.wrfsfcf01.grib2\n"
     ]
    },
    {
     "name": "stderr",
     "output_type": "stream",
     "text": [
      " 62%|██████▏   | 197/318 [08:12<01:55,  1.04it/s]"
     ]
    },
    {
     "name": "stdout",
     "output_type": "stream",
     "text": [
      "https://noaa-hrrr-bdp-pds.s3.amazonaws.com/hrrr.20130206/conus/hrrr.t18z.wrfsfcf01.grib2\n"
     ]
    },
    {
     "name": "stderr",
     "output_type": "stream",
     "text": [
      " 62%|██████▏   | 198/318 [08:13<01:57,  1.02it/s]"
     ]
    },
    {
     "name": "stdout",
     "output_type": "stream",
     "text": [
      "https://noaa-hrrr-bdp-pds.s3.amazonaws.com/hrrr.20140209/conus/hrrr.t18z.wrfsfcf01.grib2\n"
     ]
    },
    {
     "name": "stderr",
     "output_type": "stream",
     "text": [
      " 63%|██████▎   | 199/318 [08:14<01:56,  1.02it/s]"
     ]
    },
    {
     "name": "stdout",
     "output_type": "stream",
     "text": [
      "https://noaa-hrrr-bdp-pds.s3.amazonaws.com/hrrr.20131202/conus/hrrr.t18z.wrfsfcf01.grib2\n"
     ]
    },
    {
     "name": "stderr",
     "output_type": "stream",
     "text": [
      " 63%|██████▎   | 200/318 [08:15<01:54,  1.03it/s]"
     ]
    },
    {
     "name": "stdout",
     "output_type": "stream",
     "text": [
      "https://noaa-hrrr-bdp-pds.s3.amazonaws.com/hrrr.20131119/conus/hrrr.t18z.wrfsfcf01.grib2\n"
     ]
    },
    {
     "name": "stderr",
     "output_type": "stream",
     "text": [
      " 63%|██████▎   | 201/318 [08:16<01:54,  1.02it/s]"
     ]
    },
    {
     "name": "stdout",
     "output_type": "stream",
     "text": [
      "https://noaa-hrrr-bdp-pds.s3.amazonaws.com/hrrr.20140421/conus/hrrr.t18z.wrfsfcf01.grib2\n"
     ]
    },
    {
     "name": "stderr",
     "output_type": "stream",
     "text": [
      " 64%|██████▎   | 202/318 [08:17<01:52,  1.03it/s]"
     ]
    },
    {
     "name": "stdout",
     "output_type": "stream",
     "text": [
      "https://noaa-hrrr-bdp-pds.s3.amazonaws.com/hrrr.20130208/conus/hrrr.t18z.wrfsfcf01.grib2\n"
     ]
    },
    {
     "name": "stderr",
     "output_type": "stream",
     "text": [
      " 64%|██████▍   | 203/318 [08:18<01:50,  1.04it/s]"
     ]
    },
    {
     "name": "stdout",
     "output_type": "stream",
     "text": [
      "https://noaa-hrrr-bdp-pds.s3.amazonaws.com/hrrr.20140208/conus/hrrr.t18z.wrfsfcf01.grib2\n"
     ]
    },
    {
     "name": "stderr",
     "output_type": "stream",
     "text": [
      " 64%|██████▍   | 204/318 [08:19<01:49,  1.04it/s]"
     ]
    },
    {
     "name": "stdout",
     "output_type": "stream",
     "text": [
      "https://noaa-hrrr-bdp-pds.s3.amazonaws.com/hrrr.20131015/conus/hrrr.t18z.wrfsfcf01.grib2\n"
     ]
    },
    {
     "name": "stderr",
     "output_type": "stream",
     "text": [
      " 64%|██████▍   | 205/318 [08:20<01:48,  1.05it/s]"
     ]
    },
    {
     "name": "stdout",
     "output_type": "stream",
     "text": [
      "https://noaa-hrrr-bdp-pds.s3.amazonaws.com/hrrr.20131008/conus/hrrr.t18z.wrfsfcf01.grib2\n"
     ]
    },
    {
     "name": "stderr",
     "output_type": "stream",
     "text": [
      " 65%|██████▍   | 206/318 [08:21<01:46,  1.05it/s]"
     ]
    },
    {
     "name": "stdout",
     "output_type": "stream",
     "text": [
      "https://noaa-hrrr-bdp-pds.s3.amazonaws.com/hrrr.20130818/conus/hrrr.t18z.wrfsfcf01.grib2\n"
     ]
    },
    {
     "name": "stderr",
     "output_type": "stream",
     "text": [
      " 65%|██████▌   | 207/318 [08:22<01:46,  1.05it/s]"
     ]
    },
    {
     "name": "stdout",
     "output_type": "stream",
     "text": [
      "https://noaa-hrrr-bdp-pds.s3.amazonaws.com/hrrr.20130220/conus/hrrr.t18z.wrfsfcf01.grib2\n"
     ]
    },
    {
     "name": "stderr",
     "output_type": "stream",
     "text": [
      " 65%|██████▌   | 208/318 [08:23<01:45,  1.05it/s]"
     ]
    },
    {
     "name": "stdout",
     "output_type": "stream",
     "text": [
      "https://noaa-hrrr-bdp-pds.s3.amazonaws.com/hrrr.20140824/conus/hrrr.t18z.wrfsfcf01.grib2\n"
     ]
    },
    {
     "name": "stderr",
     "output_type": "stream",
     "text": [
      " 66%|██████▌   | 209/318 [08:23<01:44,  1.05it/s]"
     ]
    },
    {
     "name": "stdout",
     "output_type": "stream",
     "text": [
      "https://noaa-hrrr-bdp-pds.s3.amazonaws.com/hrrr.20130821/conus/hrrr.t18z.wrfsfcf01.grib2\n"
     ]
    },
    {
     "name": "stderr",
     "output_type": "stream",
     "text": [
      " 66%|██████▌   | 210/318 [08:24<01:43,  1.04it/s]"
     ]
    },
    {
     "name": "stdout",
     "output_type": "stream",
     "text": [
      "https://noaa-hrrr-bdp-pds.s3.amazonaws.com/hrrr.20131010/conus/hrrr.t18z.wrfsfcf01.grib2\n"
     ]
    },
    {
     "name": "stderr",
     "output_type": "stream",
     "text": [
      " 66%|██████▋   | 211/318 [08:25<01:42,  1.05it/s]"
     ]
    },
    {
     "name": "stdout",
     "output_type": "stream",
     "text": [
      "https://noaa-hrrr-bdp-pds.s3.amazonaws.com/hrrr.20130401/conus/hrrr.t18z.wrfsfcf01.grib2\n"
     ]
    },
    {
     "name": "stderr",
     "output_type": "stream",
     "text": [
      " 67%|██████▋   | 212/318 [08:26<01:41,  1.05it/s]"
     ]
    },
    {
     "name": "stdout",
     "output_type": "stream",
     "text": [
      "https://noaa-hrrr-bdp-pds.s3.amazonaws.com/hrrr.20130416/conus/hrrr.t18z.wrfsfcf01.grib2\n"
     ]
    },
    {
     "name": "stderr",
     "output_type": "stream",
     "text": [
      " 67%|██████▋   | 213/318 [08:27<01:41,  1.04it/s]"
     ]
    },
    {
     "name": "stdout",
     "output_type": "stream",
     "text": [
      "https://noaa-hrrr-bdp-pds.s3.amazonaws.com/hrrr.20130603/conus/hrrr.t18z.wrfsfcf01.grib2\n"
     ]
    },
    {
     "name": "stderr",
     "output_type": "stream",
     "text": [
      " 67%|██████▋   | 214/318 [08:28<01:40,  1.04it/s]"
     ]
    },
    {
     "name": "stdout",
     "output_type": "stream",
     "text": [
      "https://noaa-hrrr-bdp-pds.s3.amazonaws.com/hrrr.20130902/conus/hrrr.t18z.wrfsfcf01.grib2\n"
     ]
    },
    {
     "name": "stderr",
     "output_type": "stream",
     "text": [
      " 68%|██████▊   | 215/318 [08:29<01:38,  1.04it/s]"
     ]
    },
    {
     "name": "stdout",
     "output_type": "stream",
     "text": [
      "https://noaa-hrrr-bdp-pds.s3.amazonaws.com/hrrr.20130806/conus/hrrr.t18z.wrfsfcf01.grib2\n"
     ]
    },
    {
     "name": "stderr",
     "output_type": "stream",
     "text": [
      " 68%|██████▊   | 216/318 [08:30<01:37,  1.04it/s]"
     ]
    },
    {
     "name": "stdout",
     "output_type": "stream",
     "text": [
      "https://noaa-hrrr-bdp-pds.s3.amazonaws.com/hrrr.20130104/conus/hrrr.t18z.wrfsfcf01.grib2\n"
     ]
    },
    {
     "name": "stderr",
     "output_type": "stream",
     "text": [
      " 68%|██████▊   | 217/318 [08:31<01:36,  1.05it/s]"
     ]
    },
    {
     "name": "stdout",
     "output_type": "stream",
     "text": [
      "https://noaa-hrrr-bdp-pds.s3.amazonaws.com/hrrr.20140626/conus/hrrr.t18z.wrfsfcf01.grib2\n"
     ]
    },
    {
     "name": "stderr",
     "output_type": "stream",
     "text": [
      " 69%|██████▊   | 218/318 [08:32<01:35,  1.05it/s]"
     ]
    },
    {
     "name": "stdout",
     "output_type": "stream",
     "text": [
      "https://noaa-hrrr-bdp-pds.s3.amazonaws.com/hrrr.20140206/conus/hrrr.t18z.wrfsfcf01.grib2\n"
     ]
    },
    {
     "name": "stderr",
     "output_type": "stream",
     "text": [
      " 69%|██████▉   | 219/318 [08:33<01:33,  1.06it/s]"
     ]
    },
    {
     "name": "stdout",
     "output_type": "stream",
     "text": [
      "https://noaa-hrrr-bdp-pds.s3.amazonaws.com/hrrr.20140911/conus/hrrr.t18z.wrfsfcf01.grib2\n"
     ]
    },
    {
     "name": "stderr",
     "output_type": "stream",
     "text": [
      " 69%|██████▉   | 220/318 [08:34<01:32,  1.06it/s]"
     ]
    },
    {
     "name": "stdout",
     "output_type": "stream",
     "text": [
      "https://noaa-hrrr-bdp-pds.s3.amazonaws.com/hrrr.20140616/conus/hrrr.t18z.wrfsfcf01.grib2\n"
     ]
    },
    {
     "name": "stderr",
     "output_type": "stream",
     "text": [
      " 69%|██████▉   | 221/318 [08:35<01:32,  1.05it/s]"
     ]
    },
    {
     "name": "stdout",
     "output_type": "stream",
     "text": [
      "https://noaa-hrrr-bdp-pds.s3.amazonaws.com/hrrr.20140429/conus/hrrr.t18z.wrfsfcf01.grib2\n"
     ]
    },
    {
     "name": "stderr",
     "output_type": "stream",
     "text": [
      " 70%|██████▉   | 222/318 [08:36<01:31,  1.05it/s]"
     ]
    },
    {
     "name": "stdout",
     "output_type": "stream",
     "text": [
      "https://noaa-hrrr-bdp-pds.s3.amazonaws.com/hrrr.20130715/conus/hrrr.t18z.wrfsfcf01.grib2\n"
     ]
    },
    {
     "name": "stderr",
     "output_type": "stream",
     "text": [
      " 70%|███████   | 223/318 [08:37<01:30,  1.05it/s]"
     ]
    },
    {
     "name": "stdout",
     "output_type": "stream",
     "text": [
      "https://noaa-hrrr-bdp-pds.s3.amazonaws.com/hrrr.20140424/conus/hrrr.t18z.wrfsfcf01.grib2\n"
     ]
    },
    {
     "name": "stderr",
     "output_type": "stream",
     "text": [
      " 70%|███████   | 224/318 [08:38<01:29,  1.05it/s]"
     ]
    },
    {
     "name": "stdout",
     "output_type": "stream",
     "text": [
      "https://noaa-hrrr-bdp-pds.s3.amazonaws.com/hrrr.20130809/conus/hrrr.t18z.wrfsfcf01.grib2\n"
     ]
    },
    {
     "name": "stderr",
     "output_type": "stream",
     "text": [
      " 71%|███████   | 225/318 [08:39<01:28,  1.05it/s]"
     ]
    },
    {
     "name": "stdout",
     "output_type": "stream",
     "text": [
      "https://noaa-hrrr-bdp-pds.s3.amazonaws.com/hrrr.20140729/conus/hrrr.t18z.wrfsfcf01.grib2\n"
     ]
    },
    {
     "name": "stderr",
     "output_type": "stream",
     "text": [
      " 71%|███████   | 226/318 [08:40<01:27,  1.06it/s]"
     ]
    },
    {
     "name": "stdout",
     "output_type": "stream",
     "text": [
      "https://noaa-hrrr-bdp-pds.s3.amazonaws.com/hrrr.20140618/conus/hrrr.t18z.wrfsfcf01.grib2\n"
     ]
    },
    {
     "name": "stderr",
     "output_type": "stream",
     "text": [
      " 71%|███████▏  | 227/318 [08:41<01:26,  1.05it/s]"
     ]
    },
    {
     "name": "stdout",
     "output_type": "stream",
     "text": [
      "https://noaa-hrrr-bdp-pds.s3.amazonaws.com/hrrr.20140204/conus/hrrr.t18z.wrfsfcf01.grib2\n"
     ]
    },
    {
     "name": "stderr",
     "output_type": "stream",
     "text": [
      " 72%|███████▏  | 228/318 [08:42<01:25,  1.05it/s]"
     ]
    },
    {
     "name": "stdout",
     "output_type": "stream",
     "text": [
      "https://noaa-hrrr-bdp-pds.s3.amazonaws.com/hrrr.20140609/conus/hrrr.t18z.wrfsfcf01.grib2\n"
     ]
    },
    {
     "name": "stderr",
     "output_type": "stream",
     "text": [
      " 72%|███████▏  | 229/318 [08:43<01:24,  1.06it/s]"
     ]
    },
    {
     "name": "stdout",
     "output_type": "stream",
     "text": [
      "https://noaa-hrrr-bdp-pds.s3.amazonaws.com/hrrr.20140924/conus/hrrr.t18z.wrfsfcf01.grib2\n"
     ]
    },
    {
     "name": "stderr",
     "output_type": "stream",
     "text": [
      " 72%|███████▏  | 230/318 [08:43<01:23,  1.06it/s]"
     ]
    },
    {
     "name": "stdout",
     "output_type": "stream",
     "text": [
      "https://noaa-hrrr-bdp-pds.s3.amazonaws.com/hrrr.20140426/conus/hrrr.t18z.wrfsfcf01.grib2\n"
     ]
    },
    {
     "name": "stderr",
     "output_type": "stream",
     "text": [
      " 73%|███████▎  | 231/318 [08:44<01:22,  1.05it/s]"
     ]
    },
    {
     "name": "stdout",
     "output_type": "stream",
     "text": [
      "https://noaa-hrrr-bdp-pds.s3.amazonaws.com/hrrr.20130319/conus/hrrr.t18z.wrfsfcf01.grib2\n"
     ]
    },
    {
     "name": "stderr",
     "output_type": "stream",
     "text": [
      " 73%|███████▎  | 232/318 [08:45<01:23,  1.04it/s]"
     ]
    },
    {
     "name": "stdout",
     "output_type": "stream",
     "text": [
      "https://noaa-hrrr-bdp-pds.s3.amazonaws.com/hrrr.20140224/conus/hrrr.t18z.wrfsfcf01.grib2\n"
     ]
    },
    {
     "name": "stderr",
     "output_type": "stream",
     "text": [
      " 73%|███████▎  | 233/318 [08:46<01:22,  1.04it/s]"
     ]
    },
    {
     "name": "stdout",
     "output_type": "stream",
     "text": [
      "https://noaa-hrrr-bdp-pds.s3.amazonaws.com/hrrr.20130708/conus/hrrr.t18z.wrfsfcf01.grib2\n"
     ]
    },
    {
     "name": "stderr",
     "output_type": "stream",
     "text": [
      " 74%|███████▎  | 234/318 [08:47<01:20,  1.04it/s]"
     ]
    },
    {
     "name": "stdout",
     "output_type": "stream",
     "text": [
      "https://noaa-hrrr-bdp-pds.s3.amazonaws.com/hrrr.20130126/conus/hrrr.t18z.wrfsfcf01.grib2\n"
     ]
    },
    {
     "name": "stderr",
     "output_type": "stream",
     "text": [
      " 74%|███████▍  | 235/318 [08:48<01:19,  1.04it/s]"
     ]
    },
    {
     "name": "stdout",
     "output_type": "stream",
     "text": [
      "https://noaa-hrrr-bdp-pds.s3.amazonaws.com/hrrr.20130422/conus/hrrr.t18z.wrfsfcf01.grib2\n"
     ]
    },
    {
     "name": "stderr",
     "output_type": "stream",
     "text": [
      " 74%|███████▍  | 236/318 [08:49<01:18,  1.05it/s]"
     ]
    },
    {
     "name": "stdout",
     "output_type": "stream",
     "text": [
      "https://noaa-hrrr-bdp-pds.s3.amazonaws.com/hrrr.20160321/conus/hrrr.t18z.wrfsfcf01.grib2\n"
     ]
    },
    {
     "name": "stderr",
     "output_type": "stream",
     "text": [
      " 75%|███████▍  | 237/318 [08:50<01:17,  1.05it/s]"
     ]
    },
    {
     "name": "stdout",
     "output_type": "stream",
     "text": [
      "https://noaa-hrrr-bdp-pds.s3.amazonaws.com/hrrr.20130810/conus/hrrr.t18z.wrfsfcf01.grib2\n"
     ]
    },
    {
     "name": "stderr",
     "output_type": "stream",
     "text": [
      " 75%|███████▍  | 238/318 [08:51<01:16,  1.04it/s]"
     ]
    },
    {
     "name": "stdout",
     "output_type": "stream",
     "text": [
      "https://noaa-hrrr-bdp-pds.s3.amazonaws.com/hrrr.20160903/conus/hrrr.t18z.wrfsfcf01.grib2\n"
     ]
    },
    {
     "name": "stderr",
     "output_type": "stream",
     "text": [
      " 75%|███████▌  | 239/318 [09:18<11:29,  8.72s/it]"
     ]
    },
    {
     "name": "stdout",
     "output_type": "stream",
     "text": [
      "https://noaa-hrrr-bdp-pds.s3.amazonaws.com/hrrr.20130520/conus/hrrr.t18z.wrfsfcf01.grib2\n"
     ]
    },
    {
     "name": "stderr",
     "output_type": "stream",
     "text": [
      " 75%|███████▌  | 240/318 [09:19<08:18,  6.40s/it]"
     ]
    },
    {
     "name": "stdout",
     "output_type": "stream",
     "text": [
      "https://noaa-hrrr-bdp-pds.s3.amazonaws.com/hrrr.20140213/conus/hrrr.t18z.wrfsfcf01.grib2\n"
     ]
    },
    {
     "name": "stderr",
     "output_type": "stream",
     "text": [
      " 76%|███████▌  | 241/318 [09:20<06:07,  4.77s/it]"
     ]
    },
    {
     "name": "stdout",
     "output_type": "stream",
     "text": [
      "https://noaa-hrrr-bdp-pds.s3.amazonaws.com/hrrr.20130513/conus/hrrr.t18z.wrfsfcf01.grib2\n"
     ]
    },
    {
     "name": "stderr",
     "output_type": "stream",
     "text": [
      " 76%|███████▌  | 242/318 [09:21<04:35,  3.62s/it]"
     ]
    },
    {
     "name": "stdout",
     "output_type": "stream",
     "text": [
      "https://noaa-hrrr-bdp-pds.s3.amazonaws.com/hrrr.20140207/conus/hrrr.t18z.wrfsfcf01.grib2\n"
     ]
    },
    {
     "name": "stderr",
     "output_type": "stream",
     "text": [
      " 76%|███████▋  | 243/318 [09:22<03:31,  2.82s/it]"
     ]
    },
    {
     "name": "stdout",
     "output_type": "stream",
     "text": [
      "https://noaa-hrrr-bdp-pds.s3.amazonaws.com/hrrr.20140810/conus/hrrr.t18z.wrfsfcf01.grib2\n"
     ]
    },
    {
     "name": "stderr",
     "output_type": "stream",
     "text": [
      " 77%|███████▋  | 244/318 [09:23<02:47,  2.26s/it]"
     ]
    },
    {
     "name": "stdout",
     "output_type": "stream",
     "text": [
      "https://noaa-hrrr-bdp-pds.s3.amazonaws.com/hrrr.20140603/conus/hrrr.t18z.wrfsfcf01.grib2\n"
     ]
    },
    {
     "name": "stderr",
     "output_type": "stream",
     "text": [
      " 77%|███████▋  | 245/318 [09:24<02:16,  1.86s/it]"
     ]
    },
    {
     "name": "stdout",
     "output_type": "stream",
     "text": [
      "https://noaa-hrrr-bdp-pds.s3.amazonaws.com/hrrr.20130605/conus/hrrr.t18z.wrfsfcf01.grib2\n"
     ]
    },
    {
     "name": "stderr",
     "output_type": "stream",
     "text": [
      " 77%|███████▋  | 246/318 [09:25<01:54,  1.59s/it]"
     ]
    },
    {
     "name": "stdout",
     "output_type": "stream",
     "text": [
      "https://noaa-hrrr-bdp-pds.s3.amazonaws.com/hrrr.20130312/conus/hrrr.t18z.wrfsfcf01.grib2\n"
     ]
    },
    {
     "name": "stderr",
     "output_type": "stream",
     "text": [
      " 78%|███████▊  | 247/318 [09:26<01:39,  1.40s/it]"
     ]
    },
    {
     "name": "stdout",
     "output_type": "stream",
     "text": [
      "https://noaa-hrrr-bdp-pds.s3.amazonaws.com/hrrr.20140605/conus/hrrr.t18z.wrfsfcf01.grib2\n"
     ]
    },
    {
     "name": "stderr",
     "output_type": "stream",
     "text": [
      " 78%|███████▊  | 248/318 [09:27<01:28,  1.26s/it]"
     ]
    },
    {
     "name": "stdout",
     "output_type": "stream",
     "text": [
      "https://noaa-hrrr-bdp-pds.s3.amazonaws.com/hrrr.20130408/conus/hrrr.t18z.wrfsfcf01.grib2\n"
     ]
    },
    {
     "name": "stderr",
     "output_type": "stream",
     "text": [
      " 78%|███████▊  | 249/318 [09:28<01:20,  1.17s/it]"
     ]
    },
    {
     "name": "stdout",
     "output_type": "stream",
     "text": [
      "https://noaa-hrrr-bdp-pds.s3.amazonaws.com/hrrr.20140731/conus/hrrr.t18z.wrfsfcf01.grib2\n"
     ]
    },
    {
     "name": "stderr",
     "output_type": "stream",
     "text": [
      " 79%|███████▊  | 250/318 [09:28<01:14,  1.10s/it]"
     ]
    },
    {
     "name": "stdout",
     "output_type": "stream",
     "text": [
      "https://noaa-hrrr-bdp-pds.s3.amazonaws.com/hrrr.20140416/conus/hrrr.t18z.wrfsfcf01.grib2\n"
     ]
    },
    {
     "name": "stderr",
     "output_type": "stream",
     "text": [
      " 79%|███████▉  | 251/318 [09:29<01:10,  1.05s/it]"
     ]
    },
    {
     "name": "stdout",
     "output_type": "stream",
     "text": [
      "https://noaa-hrrr-bdp-pds.s3.amazonaws.com/hrrr.20140318/conus/hrrr.t18z.wrfsfcf01.grib2\n"
     ]
    },
    {
     "name": "stderr",
     "output_type": "stream",
     "text": [
      " 79%|███████▉  | 252/318 [09:30<01:08,  1.03s/it]"
     ]
    },
    {
     "name": "stdout",
     "output_type": "stream",
     "text": [
      "https://noaa-hrrr-bdp-pds.s3.amazonaws.com/hrrr.20130226/conus/hrrr.t18z.wrfsfcf01.grib2\n"
     ]
    },
    {
     "name": "stderr",
     "output_type": "stream",
     "text": [
      " 80%|███████▉  | 253/318 [09:31<01:05,  1.00s/it]"
     ]
    },
    {
     "name": "stdout",
     "output_type": "stream",
     "text": [
      "https://noaa-hrrr-bdp-pds.s3.amazonaws.com/hrrr.20131216/conus/hrrr.t18z.wrfsfcf01.grib2\n"
     ]
    },
    {
     "name": "stderr",
     "output_type": "stream",
     "text": [
      " 80%|███████▉  | 254/318 [09:32<01:03,  1.02it/s]"
     ]
    },
    {
     "name": "stdout",
     "output_type": "stream",
     "text": [
      "https://noaa-hrrr-bdp-pds.s3.amazonaws.com/hrrr.20140625/conus/hrrr.t18z.wrfsfcf01.grib2\n"
     ]
    },
    {
     "name": "stderr",
     "output_type": "stream",
     "text": [
      " 80%|████████  | 255/318 [09:33<01:01,  1.03it/s]"
     ]
    },
    {
     "name": "stdout",
     "output_type": "stream",
     "text": [
      "https://noaa-hrrr-bdp-pds.s3.amazonaws.com/hrrr.20130414/conus/hrrr.t18z.wrfsfcf01.grib2\n"
     ]
    },
    {
     "name": "stderr",
     "output_type": "stream",
     "text": [
      " 81%|████████  | 256/318 [09:34<01:00,  1.03it/s]"
     ]
    },
    {
     "name": "stdout",
     "output_type": "stream",
     "text": [
      "https://noaa-hrrr-bdp-pds.s3.amazonaws.com/hrrr.20140619/conus/hrrr.t18z.wrfsfcf01.grib2\n"
     ]
    },
    {
     "name": "stderr",
     "output_type": "stream",
     "text": [
      " 81%|████████  | 257/318 [09:35<00:58,  1.04it/s]"
     ]
    },
    {
     "name": "stdout",
     "output_type": "stream",
     "text": [
      "https://noaa-hrrr-bdp-pds.s3.amazonaws.com/hrrr.20130410/conus/hrrr.t18z.wrfsfcf01.grib2\n"
     ]
    },
    {
     "name": "stderr",
     "output_type": "stream",
     "text": [
      " 81%|████████  | 258/318 [09:36<00:57,  1.04it/s]"
     ]
    },
    {
     "name": "stdout",
     "output_type": "stream",
     "text": [
      "https://noaa-hrrr-bdp-pds.s3.amazonaws.com/hrrr.20131009/conus/hrrr.t18z.wrfsfcf01.grib2\n"
     ]
    },
    {
     "name": "stderr",
     "output_type": "stream",
     "text": [
      " 81%|████████▏ | 259/318 [09:37<00:56,  1.05it/s]"
     ]
    },
    {
     "name": "stdout",
     "output_type": "stream",
     "text": [
      "https://noaa-hrrr-bdp-pds.s3.amazonaws.com/hrrr.20140106/conus/hrrr.t18z.wrfsfcf01.grib2\n"
     ]
    },
    {
     "name": "stderr",
     "output_type": "stream",
     "text": [
      " 82%|████████▏ | 260/318 [09:38<00:55,  1.05it/s]"
     ]
    },
    {
     "name": "stdout",
     "output_type": "stream",
     "text": [
      "https://noaa-hrrr-bdp-pds.s3.amazonaws.com/hrrr.20140507/conus/hrrr.t18z.wrfsfcf01.grib2\n"
     ]
    },
    {
     "name": "stderr",
     "output_type": "stream",
     "text": [
      " 82%|████████▏ | 261/318 [09:39<00:54,  1.05it/s]"
     ]
    },
    {
     "name": "stdout",
     "output_type": "stream",
     "text": [
      "https://noaa-hrrr-bdp-pds.s3.amazonaws.com/hrrr.20130805/conus/hrrr.t18z.wrfsfcf01.grib2\n"
     ]
    },
    {
     "name": "stderr",
     "output_type": "stream",
     "text": [
      " 82%|████████▏ | 262/318 [09:40<00:54,  1.04it/s]"
     ]
    },
    {
     "name": "stdout",
     "output_type": "stream",
     "text": [
      "https://noaa-hrrr-bdp-pds.s3.amazonaws.com/hrrr.20130404/conus/hrrr.t18z.wrfsfcf01.grib2\n"
     ]
    },
    {
     "name": "stderr",
     "output_type": "stream",
     "text": [
      " 83%|████████▎ | 263/318 [09:41<00:52,  1.04it/s]"
     ]
    },
    {
     "name": "stdout",
     "output_type": "stream",
     "text": [
      "https://noaa-hrrr-bdp-pds.s3.amazonaws.com/hrrr.20131029/conus/hrrr.t18z.wrfsfcf01.grib2\n"
     ]
    },
    {
     "name": "stderr",
     "output_type": "stream",
     "text": [
      " 83%|████████▎ | 264/318 [09:42<00:51,  1.05it/s]"
     ]
    },
    {
     "name": "stdout",
     "output_type": "stream",
     "text": [
      "https://noaa-hrrr-bdp-pds.s3.amazonaws.com/hrrr.20130803/conus/hrrr.t18z.wrfsfcf01.grib2\n"
     ]
    },
    {
     "name": "stderr",
     "output_type": "stream",
     "text": [
      " 83%|████████▎ | 265/318 [09:43<00:50,  1.05it/s]"
     ]
    },
    {
     "name": "stdout",
     "output_type": "stream",
     "text": [
      "https://noaa-hrrr-bdp-pds.s3.amazonaws.com/hrrr.20130305/conus/hrrr.t18z.wrfsfcf01.grib2\n"
     ]
    },
    {
     "name": "stderr",
     "output_type": "stream",
     "text": [
      " 84%|████████▎ | 266/318 [09:44<00:49,  1.05it/s]"
     ]
    },
    {
     "name": "stdout",
     "output_type": "stream",
     "text": [
      "https://noaa-hrrr-bdp-pds.s3.amazonaws.com/hrrr.20131121/conus/hrrr.t18z.wrfsfcf01.grib2\n"
     ]
    },
    {
     "name": "stderr",
     "output_type": "stream",
     "text": [
      " 84%|████████▍ | 267/318 [09:45<00:48,  1.05it/s]"
     ]
    },
    {
     "name": "stdout",
     "output_type": "stream",
     "text": [
      "https://noaa-hrrr-bdp-pds.s3.amazonaws.com/hrrr.20140516/conus/hrrr.t18z.wrfsfcf01.grib2\n"
     ]
    },
    {
     "name": "stderr",
     "output_type": "stream",
     "text": [
      " 84%|████████▍ | 268/318 [09:46<00:47,  1.05it/s]"
     ]
    },
    {
     "name": "stdout",
     "output_type": "stream",
     "text": [
      "https://noaa-hrrr-bdp-pds.s3.amazonaws.com/hrrr.20140305/conus/hrrr.t18z.wrfsfcf01.grib2\n"
     ]
    },
    {
     "name": "stderr",
     "output_type": "stream",
     "text": [
      " 85%|████████▍ | 269/318 [09:47<00:46,  1.05it/s]"
     ]
    },
    {
     "name": "stdout",
     "output_type": "stream",
     "text": [
      "https://noaa-hrrr-bdp-pds.s3.amazonaws.com/hrrr.20150224/conus/hrrr.t18z.wrfsfcf01.grib2\n"
     ]
    },
    {
     "name": "stderr",
     "output_type": "stream",
     "text": [
      " 85%|████████▍ | 270/318 [10:03<04:35,  5.74s/it]"
     ]
    },
    {
     "name": "stdout",
     "output_type": "stream",
     "text": [
      "https://noaa-hrrr-bdp-pds.s3.amazonaws.com/hrrr.20131021/conus/hrrr.t18z.wrfsfcf01.grib2\n"
     ]
    },
    {
     "name": "stderr",
     "output_type": "stream",
     "text": [
      " 85%|████████▌ | 271/318 [10:04<03:22,  4.30s/it]"
     ]
    },
    {
     "name": "stdout",
     "output_type": "stream",
     "text": [
      "https://noaa-hrrr-bdp-pds.s3.amazonaws.com/hrrr.20140301/conus/hrrr.t18z.wrfsfcf01.grib2\n"
     ]
    },
    {
     "name": "stderr",
     "output_type": "stream",
     "text": [
      " 86%|████████▌ | 272/318 [10:05<02:31,  3.30s/it]"
     ]
    },
    {
     "name": "stdout",
     "output_type": "stream",
     "text": [
      "https://noaa-hrrr-bdp-pds.s3.amazonaws.com/hrrr.20140329/conus/hrrr.t18z.wrfsfcf01.grib2\n"
     ]
    },
    {
     "name": "stderr",
     "output_type": "stream",
     "text": [
      " 86%|████████▌ | 273/318 [10:06<01:56,  2.59s/it]"
     ]
    },
    {
     "name": "stdout",
     "output_type": "stream",
     "text": [
      "https://noaa-hrrr-bdp-pds.s3.amazonaws.com/hrrr.20131014/conus/hrrr.t18z.wrfsfcf01.grib2\n"
     ]
    },
    {
     "name": "stderr",
     "output_type": "stream",
     "text": [
      " 86%|████████▌ | 274/318 [10:07<01:32,  2.10s/it]"
     ]
    },
    {
     "name": "stdout",
     "output_type": "stream",
     "text": [
      "https://noaa-hrrr-bdp-pds.s3.amazonaws.com/hrrr.20140419/conus/hrrr.t18z.wrfsfcf01.grib2\n"
     ]
    },
    {
     "name": "stderr",
     "output_type": "stream",
     "text": [
      " 86%|████████▋ | 275/318 [10:08<01:15,  1.76s/it]"
     ]
    },
    {
     "name": "stdout",
     "output_type": "stream",
     "text": [
      "https://noaa-hrrr-bdp-pds.s3.amazonaws.com/hrrr.20140128/conus/hrrr.t18z.wrfsfcf01.grib2\n"
     ]
    },
    {
     "name": "stderr",
     "output_type": "stream",
     "text": [
      " 87%|████████▋ | 276/318 [10:09<01:03,  1.52s/it]"
     ]
    },
    {
     "name": "stdout",
     "output_type": "stream",
     "text": [
      "https://noaa-hrrr-bdp-pds.s3.amazonaws.com/hrrr.20141219/conus/hrrr.t18z.wrfsfcf01.grib2\n"
     ]
    },
    {
     "name": "stderr",
     "output_type": "stream",
     "text": [
      " 87%|████████▋ | 277/318 [10:10<00:54,  1.34s/it]"
     ]
    },
    {
     "name": "stdout",
     "output_type": "stream",
     "text": [
      "https://noaa-hrrr-bdp-pds.s3.amazonaws.com/hrrr.20140331/conus/hrrr.t18z.wrfsfcf01.grib2\n"
     ]
    },
    {
     "name": "stderr",
     "output_type": "stream",
     "text": [
      " 87%|████████▋ | 278/318 [10:11<00:49,  1.23s/it]"
     ]
    },
    {
     "name": "stdout",
     "output_type": "stream",
     "text": [
      "https://noaa-hrrr-bdp-pds.s3.amazonaws.com/hrrr.20140604/conus/hrrr.t18z.wrfsfcf01.grib2\n"
     ]
    },
    {
     "name": "stderr",
     "output_type": "stream",
     "text": [
      " 88%|████████▊ | 279/318 [10:12<00:44,  1.14s/it]"
     ]
    },
    {
     "name": "stdout",
     "output_type": "stream",
     "text": [
      "https://noaa-hrrr-bdp-pds.s3.amazonaws.com/hrrr.20130405/conus/hrrr.t18z.wrfsfcf01.grib2\n"
     ]
    },
    {
     "name": "stderr",
     "output_type": "stream",
     "text": [
      " 88%|████████▊ | 280/318 [10:13<00:41,  1.08s/it]"
     ]
    },
    {
     "name": "stdout",
     "output_type": "stream",
     "text": [
      "https://noaa-hrrr-bdp-pds.s3.amazonaws.com/hrrr.20160814/conus/hrrr.t18z.wrfsfcf01.grib2\n"
     ]
    },
    {
     "name": "stderr",
     "output_type": "stream",
     "text": [
      " 88%|████████▊ | 281/318 [10:14<00:38,  1.04s/it]"
     ]
    },
    {
     "name": "stdout",
     "output_type": "stream",
     "text": [
      "https://noaa-hrrr-bdp-pds.s3.amazonaws.com/hrrr.20130822/conus/hrrr.t18z.wrfsfcf01.grib2\n"
     ]
    },
    {
     "name": "stderr",
     "output_type": "stream",
     "text": [
      " 89%|████████▊ | 282/318 [10:15<00:36,  1.02s/it]"
     ]
    },
    {
     "name": "stdout",
     "output_type": "stream",
     "text": [
      "https://noaa-hrrr-bdp-pds.s3.amazonaws.com/hrrr.20130122/conus/hrrr.t18z.wrfsfcf01.grib2\n"
     ]
    },
    {
     "name": "stderr",
     "output_type": "stream",
     "text": [
      " 89%|████████▉ | 283/318 [10:16<00:35,  1.00s/it]"
     ]
    },
    {
     "name": "stdout",
     "output_type": "stream",
     "text": [
      "https://noaa-hrrr-bdp-pds.s3.amazonaws.com/hrrr.20131104/conus/hrrr.t18z.wrfsfcf01.grib2\n"
     ]
    },
    {
     "name": "stderr",
     "output_type": "stream",
     "text": [
      " 89%|████████▉ | 284/318 [10:17<00:33,  1.01it/s]"
     ]
    },
    {
     "name": "stdout",
     "output_type": "stream",
     "text": [
      "https://noaa-hrrr-bdp-pds.s3.amazonaws.com/hrrr.20140821/conus/hrrr.t18z.wrfsfcf01.grib2\n"
     ]
    },
    {
     "name": "stderr",
     "output_type": "stream",
     "text": [
      " 90%|████████▉ | 285/318 [10:18<00:32,  1.02it/s]"
     ]
    },
    {
     "name": "stdout",
     "output_type": "stream",
     "text": [
      "https://noaa-hrrr-bdp-pds.s3.amazonaws.com/hrrr.20140428/conus/hrrr.t18z.wrfsfcf01.grib2\n"
     ]
    },
    {
     "name": "stderr",
     "output_type": "stream",
     "text": [
      " 90%|████████▉ | 286/318 [10:19<00:31,  1.03it/s]"
     ]
    },
    {
     "name": "stdout",
     "output_type": "stream",
     "text": [
      "https://noaa-hrrr-bdp-pds.s3.amazonaws.com/hrrr.20140917/conus/hrrr.t18z.wrfsfcf01.grib2\n"
     ]
    },
    {
     "name": "stderr",
     "output_type": "stream",
     "text": [
      " 90%|█████████ | 287/318 [10:20<00:29,  1.04it/s]"
     ]
    },
    {
     "name": "stdout",
     "output_type": "stream",
     "text": [
      "https://noaa-hrrr-bdp-pds.s3.amazonaws.com/hrrr.20140528/conus/hrrr.t18z.wrfsfcf01.grib2\n"
     ]
    },
    {
     "name": "stderr",
     "output_type": "stream",
     "text": [
      " 91%|█████████ | 288/318 [10:21<00:28,  1.04it/s]"
     ]
    },
    {
     "name": "stdout",
     "output_type": "stream",
     "text": [
      "https://noaa-hrrr-bdp-pds.s3.amazonaws.com/hrrr.20140220/conus/hrrr.t18z.wrfsfcf01.grib2\n"
     ]
    },
    {
     "name": "stderr",
     "output_type": "stream",
     "text": [
      " 91%|█████████ | 289/318 [10:22<00:27,  1.05it/s]"
     ]
    },
    {
     "name": "stdout",
     "output_type": "stream",
     "text": [
      "https://noaa-hrrr-bdp-pds.s3.amazonaws.com/hrrr.20131001/conus/hrrr.t18z.wrfsfcf01.grib2\n"
     ]
    },
    {
     "name": "stderr",
     "output_type": "stream",
     "text": [
      " 91%|█████████ | 290/318 [10:23<00:26,  1.05it/s]"
     ]
    },
    {
     "name": "stdout",
     "output_type": "stream",
     "text": [
      "https://noaa-hrrr-bdp-pds.s3.amazonaws.com/hrrr.20140401/conus/hrrr.t18z.wrfsfcf01.grib2\n"
     ]
    },
    {
     "name": "stderr",
     "output_type": "stream",
     "text": [
      " 92%|█████████▏| 291/318 [10:23<00:25,  1.05it/s]"
     ]
    },
    {
     "name": "stdout",
     "output_type": "stream",
     "text": [
      "https://noaa-hrrr-bdp-pds.s3.amazonaws.com/hrrr.20130606/conus/hrrr.t18z.wrfsfcf01.grib2\n"
     ]
    },
    {
     "name": "stderr",
     "output_type": "stream",
     "text": [
      " 92%|█████████▏| 292/318 [10:24<00:25,  1.03it/s]"
     ]
    },
    {
     "name": "stdout",
     "output_type": "stream",
     "text": [
      "https://noaa-hrrr-bdp-pds.s3.amazonaws.com/hrrr.20140703/conus/hrrr.t18z.wrfsfcf01.grib2\n"
     ]
    },
    {
     "name": "stderr",
     "output_type": "stream",
     "text": [
      " 92%|█████████▏| 293/318 [10:25<00:24,  1.04it/s]"
     ]
    },
    {
     "name": "stdout",
     "output_type": "stream",
     "text": [
      "https://noaa-hrrr-bdp-pds.s3.amazonaws.com/hrrr.20131209/conus/hrrr.t18z.wrfsfcf01.grib2\n"
     ]
    },
    {
     "name": "stderr",
     "output_type": "stream",
     "text": [
      " 92%|█████████▏| 294/318 [10:26<00:23,  1.04it/s]"
     ]
    },
    {
     "name": "stdout",
     "output_type": "stream",
     "text": [
      "https://noaa-hrrr-bdp-pds.s3.amazonaws.com/hrrr.20130702/conus/hrrr.t18z.wrfsfcf01.grib2\n"
     ]
    },
    {
     "name": "stderr",
     "output_type": "stream",
     "text": [
      " 93%|█████████▎| 295/318 [10:27<00:21,  1.05it/s]"
     ]
    },
    {
     "name": "stdout",
     "output_type": "stream",
     "text": [
      "https://noaa-hrrr-bdp-pds.s3.amazonaws.com/hrrr.20130823/conus/hrrr.t18z.wrfsfcf01.grib2\n"
     ]
    },
    {
     "name": "stderr",
     "output_type": "stream",
     "text": [
      " 93%|█████████▎| 296/318 [10:28<00:20,  1.05it/s]"
     ]
    },
    {
     "name": "stdout",
     "output_type": "stream",
     "text": [
      "https://noaa-hrrr-bdp-pds.s3.amazonaws.com/hrrr.20130318/conus/hrrr.t18z.wrfsfcf01.grib2\n"
     ]
    },
    {
     "name": "stderr",
     "output_type": "stream",
     "text": [
      " 93%|█████████▎| 297/318 [10:29<00:19,  1.05it/s]"
     ]
    },
    {
     "name": "stdout",
     "output_type": "stream",
     "text": [
      "https://noaa-hrrr-bdp-pds.s3.amazonaws.com/hrrr.20130413/conus/hrrr.t18z.wrfsfcf01.grib2\n"
     ]
    },
    {
     "name": "stderr",
     "output_type": "stream",
     "text": [
      " 94%|█████████▎| 298/318 [10:30<00:18,  1.06it/s]"
     ]
    },
    {
     "name": "stdout",
     "output_type": "stream",
     "text": [
      "https://noaa-hrrr-bdp-pds.s3.amazonaws.com/hrrr.20140506/conus/hrrr.t18z.wrfsfcf01.grib2\n"
     ]
    },
    {
     "name": "stderr",
     "output_type": "stream",
     "text": [
      " 94%|█████████▍| 299/318 [10:31<00:17,  1.06it/s]"
     ]
    },
    {
     "name": "stdout",
     "output_type": "stream",
     "text": [
      "https://noaa-hrrr-bdp-pds.s3.amazonaws.com/hrrr.20130321/conus/hrrr.t18z.wrfsfcf01.grib2\n"
     ]
    },
    {
     "name": "stderr",
     "output_type": "stream",
     "text": [
      " 94%|█████████▍| 300/318 [10:32<00:17,  1.06it/s]"
     ]
    },
    {
     "name": "stdout",
     "output_type": "stream",
     "text": [
      "https://noaa-hrrr-bdp-pds.s3.amazonaws.com/hrrr.20130125/conus/hrrr.t18z.wrfsfcf01.grib2\n"
     ]
    },
    {
     "name": "stderr",
     "output_type": "stream",
     "text": [
      " 95%|█████████▍| 301/318 [10:33<00:16,  1.06it/s]"
     ]
    },
    {
     "name": "stdout",
     "output_type": "stream",
     "text": [
      "https://noaa-hrrr-bdp-pds.s3.amazonaws.com/hrrr.20130608/conus/hrrr.t18z.wrfsfcf01.grib2\n"
     ]
    },
    {
     "name": "stderr",
     "output_type": "stream",
     "text": [
      " 95%|█████████▍| 302/318 [10:34<00:15,  1.06it/s]"
     ]
    },
    {
     "name": "stdout",
     "output_type": "stream",
     "text": [
      "https://noaa-hrrr-bdp-pds.s3.amazonaws.com/hrrr.20130306/conus/hrrr.t18z.wrfsfcf01.grib2\n"
     ]
    },
    {
     "name": "stderr",
     "output_type": "stream",
     "text": [
      " 95%|█████████▌| 303/318 [10:35<00:14,  1.06it/s]"
     ]
    },
    {
     "name": "stdout",
     "output_type": "stream",
     "text": [
      "https://noaa-hrrr-bdp-pds.s3.amazonaws.com/hrrr.20131105/conus/hrrr.t18z.wrfsfcf01.grib2\n"
     ]
    },
    {
     "name": "stderr",
     "output_type": "stream",
     "text": [
      " 96%|█████████▌| 304/318 [10:36<00:13,  1.06it/s]"
     ]
    },
    {
     "name": "stdout",
     "output_type": "stream",
     "text": [
      "https://noaa-hrrr-bdp-pds.s3.amazonaws.com/hrrr.20140127/conus/hrrr.t18z.wrfsfcf01.grib2\n"
     ]
    },
    {
     "name": "stderr",
     "output_type": "stream",
     "text": [
      " 96%|█████████▌| 305/318 [10:37<00:12,  1.06it/s]"
     ]
    },
    {
     "name": "stdout",
     "output_type": "stream",
     "text": [
      "https://noaa-hrrr-bdp-pds.s3.amazonaws.com/hrrr.20130315/conus/hrrr.t18z.wrfsfcf01.grib2\n"
     ]
    },
    {
     "name": "stderr",
     "output_type": "stream",
     "text": [
      " 96%|█████████▌| 306/318 [10:38<00:11,  1.05it/s]"
     ]
    },
    {
     "name": "stdout",
     "output_type": "stream",
     "text": [
      "https://noaa-hrrr-bdp-pds.s3.amazonaws.com/hrrr.20140518/conus/hrrr.t18z.wrfsfcf01.grib2\n"
     ]
    },
    {
     "name": "stderr",
     "output_type": "stream",
     "text": [
      " 97%|█████████▋| 307/318 [10:39<00:10,  1.05it/s]"
     ]
    },
    {
     "name": "stdout",
     "output_type": "stream",
     "text": [
      "https://noaa-hrrr-bdp-pds.s3.amazonaws.com/hrrr.20131118/conus/hrrr.t18z.wrfsfcf01.grib2\n"
     ]
    },
    {
     "name": "stderr",
     "output_type": "stream",
     "text": [
      " 97%|█████████▋| 308/318 [10:40<00:09,  1.05it/s]"
     ]
    },
    {
     "name": "stdout",
     "output_type": "stream",
     "text": [
      "https://noaa-hrrr-bdp-pds.s3.amazonaws.com/hrrr.20130331/conus/hrrr.t18z.wrfsfcf01.grib2\n"
     ]
    },
    {
     "name": "stderr",
     "output_type": "stream",
     "text": [
      " 97%|█████████▋| 309/318 [10:41<00:08,  1.05it/s]"
     ]
    },
    {
     "name": "stdout",
     "output_type": "stream",
     "text": [
      "https://noaa-hrrr-bdp-pds.s3.amazonaws.com/hrrr.20131016/conus/hrrr.t18z.wrfsfcf01.grib2\n"
     ]
    },
    {
     "name": "stderr",
     "output_type": "stream",
     "text": [
      " 97%|█████████▋| 310/318 [10:42<00:07,  1.05it/s]"
     ]
    },
    {
     "name": "stdout",
     "output_type": "stream",
     "text": [
      "https://noaa-hrrr-bdp-pds.s3.amazonaws.com/hrrr.20130607/conus/hrrr.t18z.wrfsfcf01.grib2\n"
     ]
    },
    {
     "name": "stderr",
     "output_type": "stream",
     "text": [
      " 98%|█████████▊| 311/318 [10:42<00:06,  1.06it/s]"
     ]
    },
    {
     "name": "stdout",
     "output_type": "stream",
     "text": [
      "https://noaa-hrrr-bdp-pds.s3.amazonaws.com/hrrr.20140202/conus/hrrr.t18z.wrfsfcf01.grib2\n"
     ]
    },
    {
     "name": "stderr",
     "output_type": "stream",
     "text": [
      " 98%|█████████▊| 312/318 [10:43<00:05,  1.04it/s]"
     ]
    },
    {
     "name": "stdout",
     "output_type": "stream",
     "text": [
      "https://noaa-hrrr-bdp-pds.s3.amazonaws.com/hrrr.20130802/conus/hrrr.t18z.wrfsfcf01.grib2\n"
     ]
    },
    {
     "name": "stderr",
     "output_type": "stream",
     "text": [
      " 98%|█████████▊| 313/318 [10:44<00:04,  1.05it/s]"
     ]
    },
    {
     "name": "stdout",
     "output_type": "stream",
     "text": [
      "https://noaa-hrrr-bdp-pds.s3.amazonaws.com/hrrr.20130508/conus/hrrr.t18z.wrfsfcf01.grib2\n"
     ]
    },
    {
     "name": "stderr",
     "output_type": "stream",
     "text": [
      " 99%|█████████▊| 314/318 [10:45<00:03,  1.04it/s]"
     ]
    },
    {
     "name": "stdout",
     "output_type": "stream",
     "text": [
      "https://noaa-hrrr-bdp-pds.s3.amazonaws.com/hrrr.20131002/conus/hrrr.t18z.wrfsfcf01.grib2\n"
     ]
    },
    {
     "name": "stderr",
     "output_type": "stream",
     "text": [
      " 99%|█████████▉| 315/318 [10:46<00:02,  1.05it/s]"
     ]
    },
    {
     "name": "stdout",
     "output_type": "stream",
     "text": [
      "https://noaa-hrrr-bdp-pds.s3.amazonaws.com/hrrr.20140218/conus/hrrr.t18z.wrfsfcf01.grib2\n"
     ]
    },
    {
     "name": "stderr",
     "output_type": "stream",
     "text": [
      " 99%|█████████▉| 316/318 [10:47<00:01,  1.05it/s]"
     ]
    },
    {
     "name": "stdout",
     "output_type": "stream",
     "text": [
      "https://noaa-hrrr-bdp-pds.s3.amazonaws.com/hrrr.20130714/conus/hrrr.t18z.wrfsfcf01.grib2\n"
     ]
    },
    {
     "name": "stderr",
     "output_type": "stream",
     "text": [
      "100%|█████████▉| 317/318 [10:48<00:00,  1.05it/s]"
     ]
    },
    {
     "name": "stdout",
     "output_type": "stream",
     "text": [
      "https://noaa-hrrr-bdp-pds.s3.amazonaws.com/hrrr.20131208/conus/hrrr.t18z.wrfsfcf01.grib2\n"
     ]
    },
    {
     "name": "stderr",
     "output_type": "stream",
     "text": [
      "100%|██████████| 318/318 [10:49<00:00,  2.04s/it]\n"
     ]
    }
   ],
   "source": [
    "print(meta[~meta.date.isin(exist)].date.unique().shape)\n",
    "for unique_date in tqdm.tqdm(meta[~meta.date.isin(exist)].date.unique()):\n",
    "    fmt = unique_date.replace('-', '')\n",
    "    sub = meta[meta.date == unique_date].copy()\n",
    "    try:\n",
    "        download_info((unique_date, sub.to_json(), 18))\n",
    "    except:\n",
    "        pass"
   ]
  },
  {
   "cell_type": "code",
   "execution_count": 11,
   "metadata": {},
   "outputs": [
    {
     "data": {
      "text/plain": [
       "1326"
      ]
     },
     "execution_count": 11,
     "metadata": {},
     "output_type": "execute_result"
    }
   ],
   "source": [
    "exist = [x.split('.')[0] for x in os.listdir('./nrrr/')]\n",
    "len(exist)"
   ]
  },
  {
   "cell_type": "code",
   "execution_count": 12,
   "metadata": {
    "tags": []
   },
   "outputs": [
    {
     "name": "stdout",
     "output_type": "stream",
     "text": [
      "(311,)\n"
     ]
    },
    {
     "name": "stderr",
     "output_type": "stream",
     "text": [
      "  0%|          | 0/311 [00:00<?, ?it/s]"
     ]
    },
    {
     "name": "stdout",
     "output_type": "stream",
     "text": [
      "https://noaa-hrrr-bdp-pds.s3.amazonaws.com/hrrr.20140812/conus/hrrr.t22z.wrfsfcf01.grib2\n"
     ]
    },
    {
     "name": "stderr",
     "output_type": "stream",
     "text": [
      "  0%|          | 1/311 [00:00<04:47,  1.08it/s]"
     ]
    },
    {
     "name": "stdout",
     "output_type": "stream",
     "text": [
      "https://noaa-hrrr-bdp-pds.s3.amazonaws.com/hrrr.20131106/conus/hrrr.t22z.wrfsfcf01.grib2\n"
     ]
    },
    {
     "name": "stderr",
     "output_type": "stream",
     "text": [
      "  1%|          | 2/311 [00:01<04:52,  1.06it/s]"
     ]
    },
    {
     "name": "stdout",
     "output_type": "stream",
     "text": [
      "https://noaa-hrrr-bdp-pds.s3.amazonaws.com/hrrr.20130709/conus/hrrr.t22z.wrfsfcf01.grib2\n"
     ]
    },
    {
     "name": "stderr",
     "output_type": "stream",
     "text": [
      "  1%|          | 3/311 [00:02<04:49,  1.06it/s]"
     ]
    },
    {
     "name": "stdout",
     "output_type": "stream",
     "text": [
      "https://noaa-hrrr-bdp-pds.s3.amazonaws.com/hrrr.20130817/conus/hrrr.t22z.wrfsfcf01.grib2\n"
     ]
    },
    {
     "name": "stderr",
     "output_type": "stream",
     "text": [
      "  1%|▏         | 4/311 [00:03<04:48,  1.06it/s]"
     ]
    },
    {
     "name": "stdout",
     "output_type": "stream",
     "text": [
      "https://noaa-hrrr-bdp-pds.s3.amazonaws.com/hrrr.20130729/conus/hrrr.t22z.wrfsfcf01.grib2\n"
     ]
    },
    {
     "name": "stderr",
     "output_type": "stream",
     "text": [
      "  2%|▏         | 5/311 [00:04<04:49,  1.06it/s]"
     ]
    },
    {
     "name": "stdout",
     "output_type": "stream",
     "text": [
      "https://noaa-hrrr-bdp-pds.s3.amazonaws.com/hrrr.20130115/conus/hrrr.t22z.wrfsfcf01.grib2\n"
     ]
    },
    {
     "name": "stderr",
     "output_type": "stream",
     "text": [
      "  2%|▏         | 6/311 [00:05<04:47,  1.06it/s]"
     ]
    },
    {
     "name": "stdout",
     "output_type": "stream",
     "text": [
      "https://noaa-hrrr-bdp-pds.s3.amazonaws.com/hrrr.20140228/conus/hrrr.t22z.wrfsfcf01.grib2\n"
     ]
    },
    {
     "name": "stderr",
     "output_type": "stream",
     "text": [
      "  2%|▏         | 7/311 [00:06<04:47,  1.06it/s]"
     ]
    },
    {
     "name": "stdout",
     "output_type": "stream",
     "text": [
      "https://noaa-hrrr-bdp-pds.s3.amazonaws.com/hrrr.20140715/conus/hrrr.t22z.wrfsfcf01.grib2\n"
     ]
    },
    {
     "name": "stderr",
     "output_type": "stream",
     "text": [
      "  3%|▎         | 8/311 [00:07<04:47,  1.06it/s]"
     ]
    },
    {
     "name": "stdout",
     "output_type": "stream",
     "text": [
      "https://noaa-hrrr-bdp-pds.s3.amazonaws.com/hrrr.20130820/conus/hrrr.t22z.wrfsfcf01.grib2\n"
     ]
    },
    {
     "name": "stderr",
     "output_type": "stream",
     "text": [
      "  3%|▎         | 9/311 [00:08<04:43,  1.06it/s]"
     ]
    },
    {
     "name": "stdout",
     "output_type": "stream",
     "text": [
      "https://noaa-hrrr-bdp-pds.s3.amazonaws.com/hrrr.20130716/conus/hrrr.t22z.wrfsfcf01.grib2\n"
     ]
    },
    {
     "name": "stderr",
     "output_type": "stream",
     "text": [
      "  3%|▎         | 10/311 [00:09<04:42,  1.07it/s]"
     ]
    },
    {
     "name": "stdout",
     "output_type": "stream",
     "text": [
      "https://noaa-hrrr-bdp-pds.s3.amazonaws.com/hrrr.20140722/conus/hrrr.t22z.wrfsfcf01.grib2\n"
     ]
    },
    {
     "name": "stderr",
     "output_type": "stream",
     "text": [
      "  4%|▎         | 11/311 [00:10<04:40,  1.07it/s]"
     ]
    },
    {
     "name": "stdout",
     "output_type": "stream",
     "text": [
      "https://noaa-hrrr-bdp-pds.s3.amazonaws.com/hrrr.20130923/conus/hrrr.t22z.wrfsfcf01.grib2\n"
     ]
    },
    {
     "name": "stderr",
     "output_type": "stream",
     "text": [
      "  4%|▍         | 12/311 [00:11<04:39,  1.07it/s]"
     ]
    },
    {
     "name": "stdout",
     "output_type": "stream",
     "text": [
      "https://noaa-hrrr-bdp-pds.s3.amazonaws.com/hrrr.20130212/conus/hrrr.t22z.wrfsfcf01.grib2\n"
     ]
    },
    {
     "name": "stderr",
     "output_type": "stream",
     "text": [
      "  4%|▍         | 13/311 [00:12<04:39,  1.07it/s]"
     ]
    },
    {
     "name": "stdout",
     "output_type": "stream",
     "text": [
      "https://noaa-hrrr-bdp-pds.s3.amazonaws.com/hrrr.20140623/conus/hrrr.t22z.wrfsfcf01.grib2\n"
     ]
    },
    {
     "name": "stderr",
     "output_type": "stream",
     "text": [
      "  5%|▍         | 14/311 [00:13<04:42,  1.05it/s]"
     ]
    },
    {
     "name": "stdout",
     "output_type": "stream",
     "text": [
      "https://noaa-hrrr-bdp-pds.s3.amazonaws.com/hrrr.20130423/conus/hrrr.t22z.wrfsfcf01.grib2\n"
     ]
    },
    {
     "name": "stderr",
     "output_type": "stream",
     "text": [
      "  5%|▍         | 15/311 [00:14<04:40,  1.05it/s]"
     ]
    },
    {
     "name": "stdout",
     "output_type": "stream",
     "text": [
      "https://noaa-hrrr-bdp-pds.s3.amazonaws.com/hrrr.20130528/conus/hrrr.t22z.wrfsfcf01.grib2\n"
     ]
    },
    {
     "name": "stderr",
     "output_type": "stream",
     "text": [
      "  5%|▌         | 16/311 [00:15<04:38,  1.06it/s]"
     ]
    },
    {
     "name": "stdout",
     "output_type": "stream",
     "text": [
      "https://noaa-hrrr-bdp-pds.s3.amazonaws.com/hrrr.20130618/conus/hrrr.t22z.wrfsfcf01.grib2\n"
     ]
    },
    {
     "name": "stderr",
     "output_type": "stream",
     "text": [
      "  5%|▌         | 17/311 [00:16<04:36,  1.06it/s]"
     ]
    },
    {
     "name": "stdout",
     "output_type": "stream",
     "text": [
      "https://noaa-hrrr-bdp-pds.s3.amazonaws.com/hrrr.20140519/conus/hrrr.t22z.wrfsfcf01.grib2\n"
     ]
    },
    {
     "name": "stderr",
     "output_type": "stream",
     "text": [
      "  6%|▌         | 18/311 [00:16<04:34,  1.07it/s]"
     ]
    },
    {
     "name": "stdout",
     "output_type": "stream",
     "text": [
      "https://noaa-hrrr-bdp-pds.s3.amazonaws.com/hrrr.20140227/conus/hrrr.t22z.wrfsfcf01.grib2\n"
     ]
    },
    {
     "name": "stderr",
     "output_type": "stream",
     "text": [
      "  6%|▌         | 19/311 [00:17<04:33,  1.07it/s]"
     ]
    },
    {
     "name": "stdout",
     "output_type": "stream",
     "text": [
      "https://noaa-hrrr-bdp-pds.s3.amazonaws.com/hrrr.20130415/conus/hrrr.t22z.wrfsfcf01.grib2\n"
     ]
    },
    {
     "name": "stderr",
     "output_type": "stream",
     "text": [
      "  6%|▋         | 20/311 [00:18<04:31,  1.07it/s]"
     ]
    },
    {
     "name": "stdout",
     "output_type": "stream",
     "text": [
      "https://noaa-hrrr-bdp-pds.s3.amazonaws.com/hrrr.20130826/conus/hrrr.t22z.wrfsfcf01.grib2\n"
     ]
    },
    {
     "name": "stderr",
     "output_type": "stream",
     "text": [
      "  7%|▋         | 21/311 [00:19<04:30,  1.07it/s]"
     ]
    },
    {
     "name": "stdout",
     "output_type": "stream",
     "text": [
      "https://noaa-hrrr-bdp-pds.s3.amazonaws.com/hrrr.20140813/conus/hrrr.t22z.wrfsfcf01.grib2\n"
     ]
    },
    {
     "name": "stderr",
     "output_type": "stream",
     "text": [
      "  7%|▋         | 22/311 [00:20<04:30,  1.07it/s]"
     ]
    },
    {
     "name": "stdout",
     "output_type": "stream",
     "text": [
      "https://noaa-hrrr-bdp-pds.s3.amazonaws.com/hrrr.20140610/conus/hrrr.t22z.wrfsfcf01.grib2\n"
     ]
    },
    {
     "name": "stderr",
     "output_type": "stream",
     "text": [
      "  7%|▋         | 23/311 [00:21<04:29,  1.07it/s]"
     ]
    },
    {
     "name": "stdout",
     "output_type": "stream",
     "text": [
      "https://noaa-hrrr-bdp-pds.s3.amazonaws.com/hrrr.20130812/conus/hrrr.t22z.wrfsfcf01.grib2\n"
     ]
    },
    {
     "name": "stderr",
     "output_type": "stream",
     "text": [
      "  8%|▊         | 24/311 [00:22<04:28,  1.07it/s]"
     ]
    },
    {
     "name": "stdout",
     "output_type": "stream",
     "text": [
      "https://noaa-hrrr-bdp-pds.s3.amazonaws.com/hrrr.20160915/conus/hrrr.t22z.wrfsfcf01.grib2\n"
     ]
    },
    {
     "name": "stderr",
     "output_type": "stream",
     "text": [
      "  8%|▊         | 25/311 [02:34<3:11:10, 40.11s/it]"
     ]
    },
    {
     "name": "stdout",
     "output_type": "stream",
     "text": [
      "https://noaa-hrrr-bdp-pds.s3.amazonaws.com/hrrr.20130730/conus/hrrr.t22z.wrfsfcf01.grib2\n"
     ]
    },
    {
     "name": "stderr",
     "output_type": "stream",
     "text": [
      "  8%|▊         | 26/311 [02:34<2:14:41, 28.36s/it]"
     ]
    },
    {
     "name": "stdout",
     "output_type": "stream",
     "text": [
      "https://noaa-hrrr-bdp-pds.s3.amazonaws.com/hrrr.20130516/conus/hrrr.t22z.wrfsfcf01.grib2\n"
     ]
    },
    {
     "name": "stderr",
     "output_type": "stream",
     "text": [
      "  9%|▊         | 27/311 [02:35<1:35:17, 20.13s/it]"
     ]
    },
    {
     "name": "stdout",
     "output_type": "stream",
     "text": [
      "https://noaa-hrrr-bdp-pds.s3.amazonaws.com/hrrr.20130114/conus/hrrr.t22z.wrfsfcf01.grib2\n"
     ]
    },
    {
     "name": "stderr",
     "output_type": "stream",
     "text": [
      "  9%|▉         | 28/311 [02:36<1:07:47, 14.37s/it]"
     ]
    },
    {
     "name": "stdout",
     "output_type": "stream",
     "text": [
      "https://noaa-hrrr-bdp-pds.s3.amazonaws.com/hrrr.20140425/conus/hrrr.t22z.wrfsfcf01.grib2\n"
     ]
    },
    {
     "name": "stderr",
     "output_type": "stream",
     "text": [
      "  9%|▉         | 29/311 [02:37<48:36, 10.34s/it]  "
     ]
    },
    {
     "name": "stdout",
     "output_type": "stream",
     "text": [
      "https://noaa-hrrr-bdp-pds.s3.amazonaws.com/hrrr.20130903/conus/hrrr.t22z.wrfsfcf01.grib2\n"
     ]
    },
    {
     "name": "stderr",
     "output_type": "stream",
     "text": [
      " 10%|▉         | 30/311 [02:38<35:15,  7.53s/it]"
     ]
    },
    {
     "name": "stdout",
     "output_type": "stream",
     "text": [
      "https://noaa-hrrr-bdp-pds.s3.amazonaws.com/hrrr.20140422/conus/hrrr.t22z.wrfsfcf01.grib2\n"
     ]
    },
    {
     "name": "stderr",
     "output_type": "stream",
     "text": [
      " 10%|▉         | 31/311 [02:39<25:54,  5.55s/it]"
     ]
    },
    {
     "name": "stdout",
     "output_type": "stream",
     "text": [
      "https://noaa-hrrr-bdp-pds.s3.amazonaws.com/hrrr.20140414/conus/hrrr.t22z.wrfsfcf01.grib2\n"
     ]
    },
    {
     "name": "stderr",
     "output_type": "stream",
     "text": [
      " 10%|█         | 32/311 [02:40<19:21,  4.16s/it]"
     ]
    },
    {
     "name": "stdout",
     "output_type": "stream",
     "text": [
      "https://noaa-hrrr-bdp-pds.s3.amazonaws.com/hrrr.20140819/conus/hrrr.t22z.wrfsfcf01.grib2\n"
     ]
    },
    {
     "name": "stderr",
     "output_type": "stream",
     "text": [
      " 11%|█         | 33/311 [02:41<14:49,  3.20s/it]"
     ]
    },
    {
     "name": "stdout",
     "output_type": "stream",
     "text": [
      "https://noaa-hrrr-bdp-pds.s3.amazonaws.com/hrrr.20130627/conus/hrrr.t22z.wrfsfcf01.grib2\n"
     ]
    },
    {
     "name": "stderr",
     "output_type": "stream",
     "text": [
      " 11%|█         | 34/311 [02:42<11:39,  2.52s/it]"
     ]
    },
    {
     "name": "stdout",
     "output_type": "stream",
     "text": [
      "https://noaa-hrrr-bdp-pds.s3.amazonaws.com/hrrr.20130227/conus/hrrr.t22z.wrfsfcf01.grib2\n"
     ]
    },
    {
     "name": "stderr",
     "output_type": "stream",
     "text": [
      " 11%|█▏        | 35/311 [02:43<09:26,  2.05s/it]"
     ]
    },
    {
     "name": "stdout",
     "output_type": "stream",
     "text": [
      "https://noaa-hrrr-bdp-pds.s3.amazonaws.com/hrrr.20140418/conus/hrrr.t22z.wrfsfcf01.grib2\n"
     ]
    },
    {
     "name": "stderr",
     "output_type": "stream",
     "text": [
      " 12%|█▏        | 36/311 [02:44<07:55,  1.73s/it]"
     ]
    },
    {
     "name": "stdout",
     "output_type": "stream",
     "text": [
      "https://noaa-hrrr-bdp-pds.s3.amazonaws.com/hrrr.20130530/conus/hrrr.t22z.wrfsfcf01.grib2\n"
     ]
    },
    {
     "name": "stderr",
     "output_type": "stream",
     "text": [
      " 12%|█▏        | 37/311 [02:45<06:47,  1.49s/it]"
     ]
    },
    {
     "name": "stdout",
     "output_type": "stream",
     "text": [
      "https://noaa-hrrr-bdp-pds.s3.amazonaws.com/hrrr.20140716/conus/hrrr.t22z.wrfsfcf01.grib2\n"
     ]
    },
    {
     "name": "stderr",
     "output_type": "stream",
     "text": [
      " 12%|█▏        | 38/311 [02:46<06:01,  1.32s/it]"
     ]
    },
    {
     "name": "stdout",
     "output_type": "stream",
     "text": [
      "https://noaa-hrrr-bdp-pds.s3.amazonaws.com/hrrr.20130402/conus/hrrr.t22z.wrfsfcf01.grib2\n"
     ]
    },
    {
     "name": "stderr",
     "output_type": "stream",
     "text": [
      " 13%|█▎        | 39/311 [02:47<05:31,  1.22s/it]"
     ]
    },
    {
     "name": "stdout",
     "output_type": "stream",
     "text": [
      "https://noaa-hrrr-bdp-pds.s3.amazonaws.com/hrrr.20130209/conus/hrrr.t22z.wrfsfcf01.grib2\n"
     ]
    },
    {
     "name": "stderr",
     "output_type": "stream",
     "text": [
      " 13%|█▎        | 40/311 [02:48<05:07,  1.13s/it]"
     ]
    },
    {
     "name": "stdout",
     "output_type": "stream",
     "text": [
      "https://noaa-hrrr-bdp-pds.s3.amazonaws.com/hrrr.20131112/conus/hrrr.t22z.wrfsfcf01.grib2\n"
     ]
    },
    {
     "name": "stderr",
     "output_type": "stream",
     "text": [
      " 13%|█▎        | 41/311 [02:49<04:50,  1.08s/it]"
     ]
    },
    {
     "name": "stdout",
     "output_type": "stream",
     "text": [
      "https://noaa-hrrr-bdp-pds.s3.amazonaws.com/hrrr.20140922/conus/hrrr.t22z.wrfsfcf01.grib2\n"
     ]
    },
    {
     "name": "stderr",
     "output_type": "stream",
     "text": [
      " 14%|█▎        | 42/311 [02:50<04:38,  1.04s/it]"
     ]
    },
    {
     "name": "stdout",
     "output_type": "stream",
     "text": [
      "https://noaa-hrrr-bdp-pds.s3.amazonaws.com/hrrr.20140508/conus/hrrr.t22z.wrfsfcf01.grib2\n"
     ]
    },
    {
     "name": "stderr",
     "output_type": "stream",
     "text": [
      " 14%|█▍        | 43/311 [02:51<04:29,  1.01s/it]"
     ]
    },
    {
     "name": "stdout",
     "output_type": "stream",
     "text": [
      "https://noaa-hrrr-bdp-pds.s3.amazonaws.com/hrrr.20140505/conus/hrrr.t22z.wrfsfcf01.grib2\n"
     ]
    },
    {
     "name": "stderr",
     "output_type": "stream",
     "text": [
      " 14%|█▍        | 44/311 [02:52<04:25,  1.01it/s]"
     ]
    },
    {
     "name": "stdout",
     "output_type": "stream",
     "text": [
      "https://noaa-hrrr-bdp-pds.s3.amazonaws.com/hrrr.20131017/conus/hrrr.t22z.wrfsfcf01.grib2\n"
     ]
    },
    {
     "name": "stderr",
     "output_type": "stream",
     "text": [
      " 14%|█▍        | 45/311 [02:52<04:20,  1.02it/s]"
     ]
    },
    {
     "name": "stdout",
     "output_type": "stream",
     "text": [
      "https://noaa-hrrr-bdp-pds.s3.amazonaws.com/hrrr.20140408/conus/hrrr.t22z.wrfsfcf01.grib2\n"
     ]
    },
    {
     "name": "stderr",
     "output_type": "stream",
     "text": [
      " 15%|█▍        | 46/311 [02:53<04:17,  1.03it/s]"
     ]
    },
    {
     "name": "stdout",
     "output_type": "stream",
     "text": [
      "https://noaa-hrrr-bdp-pds.s3.amazonaws.com/hrrr.20140825/conus/hrrr.t22z.wrfsfcf01.grib2\n"
     ]
    },
    {
     "name": "stderr",
     "output_type": "stream",
     "text": [
      " 15%|█▌        | 47/311 [02:54<04:14,  1.04it/s]"
     ]
    },
    {
     "name": "stdout",
     "output_type": "stream",
     "text": [
      "https://noaa-hrrr-bdp-pds.s3.amazonaws.com/hrrr.20140114/conus/hrrr.t22z.wrfsfcf01.grib2\n"
     ]
    },
    {
     "name": "stderr",
     "output_type": "stream",
     "text": [
      " 15%|█▌        | 48/311 [02:55<04:11,  1.05it/s]"
     ]
    },
    {
     "name": "stdout",
     "output_type": "stream",
     "text": [
      "https://noaa-hrrr-bdp-pds.s3.amazonaws.com/hrrr.20130328/conus/hrrr.t22z.wrfsfcf01.grib2\n"
     ]
    },
    {
     "name": "stderr",
     "output_type": "stream",
     "text": [
      " 16%|█▌        | 49/311 [02:56<04:11,  1.04it/s]"
     ]
    },
    {
     "name": "stdout",
     "output_type": "stream",
     "text": [
      "https://noaa-hrrr-bdp-pds.s3.amazonaws.com/hrrr.20130918/conus/hrrr.t22z.wrfsfcf01.grib2\n"
     ]
    },
    {
     "name": "stderr",
     "output_type": "stream",
     "text": [
      " 16%|█▌        | 50/311 [02:57<04:11,  1.04it/s]"
     ]
    },
    {
     "name": "stdout",
     "output_type": "stream",
     "text": [
      "https://noaa-hrrr-bdp-pds.s3.amazonaws.com/hrrr.20140814/conus/hrrr.t22z.wrfsfcf01.grib2\n"
     ]
    },
    {
     "name": "stderr",
     "output_type": "stream",
     "text": [
      " 16%|█▋        | 51/311 [02:58<04:15,  1.02it/s]"
     ]
    },
    {
     "name": "stdout",
     "output_type": "stream",
     "text": [
      "https://noaa-hrrr-bdp-pds.s3.amazonaws.com/hrrr.20131205/conus/hrrr.t22z.wrfsfcf01.grib2\n"
     ]
    },
    {
     "name": "stderr",
     "output_type": "stream",
     "text": [
      " 17%|█▋        | 52/311 [02:59<04:09,  1.04it/s]"
     ]
    },
    {
     "name": "stdout",
     "output_type": "stream",
     "text": [
      "https://noaa-hrrr-bdp-pds.s3.amazonaws.com/hrrr.20130811/conus/hrrr.t22z.wrfsfcf01.grib2\n"
     ]
    },
    {
     "name": "stderr",
     "output_type": "stream",
     "text": [
      " 17%|█▋        | 53/311 [03:00<04:06,  1.05it/s]"
     ]
    },
    {
     "name": "stdout",
     "output_type": "stream",
     "text": [
      "https://noaa-hrrr-bdp-pds.s3.amazonaws.com/hrrr.20130329/conus/hrrr.t22z.wrfsfcf01.grib2\n"
     ]
    },
    {
     "name": "stderr",
     "output_type": "stream",
     "text": [
      " 17%|█▋        | 54/311 [03:01<04:05,  1.05it/s]"
     ]
    },
    {
     "name": "stdout",
     "output_type": "stream",
     "text": [
      "https://noaa-hrrr-bdp-pds.s3.amazonaws.com/hrrr.20131211/conus/hrrr.t22z.wrfsfcf01.grib2\n"
     ]
    },
    {
     "name": "stderr",
     "output_type": "stream",
     "text": [
      " 18%|█▊        | 55/311 [03:02<04:04,  1.05it/s]"
     ]
    },
    {
     "name": "stdout",
     "output_type": "stream",
     "text": [
      "https://noaa-hrrr-bdp-pds.s3.amazonaws.com/hrrr.20130919/conus/hrrr.t22z.wrfsfcf01.grib2\n"
     ]
    },
    {
     "name": "stderr",
     "output_type": "stream",
     "text": [
      " 18%|█▊        | 56/311 [03:03<04:05,  1.04it/s]"
     ]
    },
    {
     "name": "stdout",
     "output_type": "stream",
     "text": [
      "https://noaa-hrrr-bdp-pds.s3.amazonaws.com/hrrr.20130819/conus/hrrr.t22z.wrfsfcf01.grib2\n"
     ]
    },
    {
     "name": "stderr",
     "output_type": "stream",
     "text": [
      " 18%|█▊        | 57/311 [03:04<04:03,  1.04it/s]"
     ]
    },
    {
     "name": "stdout",
     "output_type": "stream",
     "text": [
      "https://noaa-hrrr-bdp-pds.s3.amazonaws.com/hrrr.20130619/conus/hrrr.t22z.wrfsfcf01.grib2\n"
     ]
    },
    {
     "name": "stderr",
     "output_type": "stream",
     "text": [
      " 19%|█▊        | 58/311 [03:05<04:03,  1.04it/s]"
     ]
    },
    {
     "name": "stdout",
     "output_type": "stream",
     "text": [
      "https://noaa-hrrr-bdp-pds.s3.amazonaws.com/hrrr.20130320/conus/hrrr.t22z.wrfsfcf01.grib2\n"
     ]
    },
    {
     "name": "stderr",
     "output_type": "stream",
     "text": [
      " 19%|█▉        | 59/311 [03:06<03:59,  1.05it/s]"
     ]
    },
    {
     "name": "stdout",
     "output_type": "stream",
     "text": [
      "https://noaa-hrrr-bdp-pds.s3.amazonaws.com/hrrr.20140815/conus/hrrr.t22z.wrfsfcf01.grib2\n"
     ]
    },
    {
     "name": "stderr",
     "output_type": "stream",
     "text": [
      " 19%|█▉        | 60/311 [03:07<03:58,  1.05it/s]"
     ]
    },
    {
     "name": "stdout",
     "output_type": "stream",
     "text": [
      "https://noaa-hrrr-bdp-pds.s3.amazonaws.com/hrrr.20130710/conus/hrrr.t22z.wrfsfcf01.grib2\n"
     ]
    },
    {
     "name": "stderr",
     "output_type": "stream",
     "text": [
      " 20%|█▉        | 61/311 [03:08<03:56,  1.06it/s]"
     ]
    },
    {
     "name": "stdout",
     "output_type": "stream",
     "text": [
      "https://noaa-hrrr-bdp-pds.s3.amazonaws.com/hrrr.20130722/conus/hrrr.t22z.wrfsfcf01.grib2\n"
     ]
    },
    {
     "name": "stderr",
     "output_type": "stream",
     "text": [
      " 20%|█▉        | 62/311 [03:09<03:54,  1.06it/s]"
     ]
    },
    {
     "name": "stdout",
     "output_type": "stream",
     "text": [
      "https://noaa-hrrr-bdp-pds.s3.amazonaws.com/hrrr.20130611/conus/hrrr.t22z.wrfsfcf01.grib2\n"
     ]
    },
    {
     "name": "stderr",
     "output_type": "stream",
     "text": [
      " 20%|██        | 63/311 [03:10<03:57,  1.04it/s]"
     ]
    },
    {
     "name": "stdout",
     "output_type": "stream",
     "text": [
      "https://noaa-hrrr-bdp-pds.s3.amazonaws.com/hrrr.20130610/conus/hrrr.t22z.wrfsfcf01.grib2\n"
     ]
    },
    {
     "name": "stderr",
     "output_type": "stream",
     "text": [
      " 21%|██        | 64/311 [03:11<03:54,  1.06it/s]"
     ]
    },
    {
     "name": "stdout",
     "output_type": "stream",
     "text": [
      "https://noaa-hrrr-bdp-pds.s3.amazonaws.com/hrrr.20140708/conus/hrrr.t22z.wrfsfcf01.grib2\n"
     ]
    },
    {
     "name": "stderr",
     "output_type": "stream",
     "text": [
      " 21%|██        | 65/311 [03:12<03:53,  1.05it/s]"
     ]
    },
    {
     "name": "stdout",
     "output_type": "stream",
     "text": [
      "https://noaa-hrrr-bdp-pds.s3.amazonaws.com/hrrr.20130925/conus/hrrr.t22z.wrfsfcf01.grib2\n"
     ]
    },
    {
     "name": "stderr",
     "output_type": "stream",
     "text": [
      " 21%|██        | 66/311 [03:12<03:50,  1.06it/s]"
     ]
    },
    {
     "name": "stdout",
     "output_type": "stream",
     "text": [
      "https://noaa-hrrr-bdp-pds.s3.amazonaws.com/hrrr.20130731/conus/hrrr.t22z.wrfsfcf01.grib2\n"
     ]
    },
    {
     "name": "stderr",
     "output_type": "stream",
     "text": [
      " 22%|██▏       | 67/311 [03:13<03:50,  1.06it/s]"
     ]
    },
    {
     "name": "stdout",
     "output_type": "stream",
     "text": [
      "https://noaa-hrrr-bdp-pds.s3.amazonaws.com/hrrr.20130905/conus/hrrr.t22z.wrfsfcf01.grib2\n"
     ]
    },
    {
     "name": "stderr",
     "output_type": "stream",
     "text": [
      " 22%|██▏       | 68/311 [03:14<03:48,  1.06it/s]"
     ]
    },
    {
     "name": "stdout",
     "output_type": "stream",
     "text": [
      "https://noaa-hrrr-bdp-pds.s3.amazonaws.com/hrrr.20130917/conus/hrrr.t22z.wrfsfcf01.grib2\n"
     ]
    },
    {
     "name": "stderr",
     "output_type": "stream",
     "text": [
      " 22%|██▏       | 69/311 [03:15<03:49,  1.05it/s]"
     ]
    },
    {
     "name": "stdout",
     "output_type": "stream",
     "text": [
      "https://noaa-hrrr-bdp-pds.s3.amazonaws.com/hrrr.20130522/conus/hrrr.t22z.wrfsfcf01.grib2\n"
     ]
    },
    {
     "name": "stderr",
     "output_type": "stream",
     "text": [
      " 23%|██▎       | 70/311 [03:16<03:47,  1.06it/s]"
     ]
    },
    {
     "name": "stdout",
     "output_type": "stream",
     "text": [
      "https://noaa-hrrr-bdp-pds.s3.amazonaws.com/hrrr.20140210/conus/hrrr.t22z.wrfsfcf01.grib2\n"
     ]
    },
    {
     "name": "stderr",
     "output_type": "stream",
     "text": [
      " 23%|██▎       | 71/311 [03:17<03:47,  1.06it/s]"
     ]
    },
    {
     "name": "stdout",
     "output_type": "stream",
     "text": [
      "https://noaa-hrrr-bdp-pds.s3.amazonaws.com/hrrr.20140326/conus/hrrr.t22z.wrfsfcf01.grib2\n"
     ]
    },
    {
     "name": "stderr",
     "output_type": "stream",
     "text": [
      " 23%|██▎       | 72/311 [03:18<03:45,  1.06it/s]"
     ]
    },
    {
     "name": "stdout",
     "output_type": "stream",
     "text": [
      "https://noaa-hrrr-bdp-pds.s3.amazonaws.com/hrrr.20140327/conus/hrrr.t22z.wrfsfcf01.grib2\n"
     ]
    },
    {
     "name": "stderr",
     "output_type": "stream",
     "text": [
      " 23%|██▎       | 73/311 [03:19<03:43,  1.06it/s]"
     ]
    },
    {
     "name": "stdout",
     "output_type": "stream",
     "text": [
      "https://noaa-hrrr-bdp-pds.s3.amazonaws.com/hrrr.20140827/conus/hrrr.t22z.wrfsfcf01.grib2\n"
     ]
    },
    {
     "name": "stderr",
     "output_type": "stream",
     "text": [
      " 24%|██▍       | 74/311 [03:20<03:46,  1.05it/s]"
     ]
    },
    {
     "name": "stdout",
     "output_type": "stream",
     "text": [
      "https://noaa-hrrr-bdp-pds.s3.amazonaws.com/hrrr.20140602/conus/hrrr.t22z.wrfsfcf01.grib2\n"
     ]
    },
    {
     "name": "stderr",
     "output_type": "stream",
     "text": [
      " 24%|██▍       | 75/311 [03:21<03:44,  1.05it/s]"
     ]
    },
    {
     "name": "stdout",
     "output_type": "stream",
     "text": [
      "https://noaa-hrrr-bdp-pds.s3.amazonaws.com/hrrr.20140918/conus/hrrr.t22z.wrfsfcf01.grib2\n"
     ]
    },
    {
     "name": "stderr",
     "output_type": "stream",
     "text": [
      " 24%|██▍       | 76/311 [03:22<03:43,  1.05it/s]"
     ]
    },
    {
     "name": "stdout",
     "output_type": "stream",
     "text": [
      "https://noaa-hrrr-bdp-pds.s3.amazonaws.com/hrrr.20131210/conus/hrrr.t22z.wrfsfcf01.grib2\n"
     ]
    },
    {
     "name": "stderr",
     "output_type": "stream",
     "text": [
      " 25%|██▍       | 77/311 [03:23<03:42,  1.05it/s]"
     ]
    },
    {
     "name": "stdout",
     "output_type": "stream",
     "text": [
      "https://noaa-hrrr-bdp-pds.s3.amazonaws.com/hrrr.20130417/conus/hrrr.t22z.wrfsfcf01.grib2\n"
     ]
    },
    {
     "name": "stderr",
     "output_type": "stream",
     "text": [
      " 25%|██▌       | 78/311 [03:24<03:41,  1.05it/s]"
     ]
    },
    {
     "name": "stdout",
     "output_type": "stream",
     "text": [
      "https://noaa-hrrr-bdp-pds.s3.amazonaws.com/hrrr.20140115/conus/hrrr.t22z.wrfsfcf01.grib2\n"
     ]
    },
    {
     "name": "stderr",
     "output_type": "stream",
     "text": [
      " 25%|██▌       | 79/311 [03:25<03:40,  1.05it/s]"
     ]
    },
    {
     "name": "stdout",
     "output_type": "stream",
     "text": [
      "https://noaa-hrrr-bdp-pds.s3.amazonaws.com/hrrr.20140211/conus/hrrr.t22z.wrfsfcf01.grib2\n"
     ]
    },
    {
     "name": "stderr",
     "output_type": "stream",
     "text": [
      " 26%|██▌       | 80/311 [03:26<03:40,  1.05it/s]"
     ]
    },
    {
     "name": "stdout",
     "output_type": "stream",
     "text": [
      "https://noaa-hrrr-bdp-pds.s3.amazonaws.com/hrrr.20140423/conus/hrrr.t22z.wrfsfcf01.grib2\n"
     ]
    },
    {
     "name": "stderr",
     "output_type": "stream",
     "text": [
      " 26%|██▌       | 81/311 [03:27<03:38,  1.05it/s]"
     ]
    },
    {
     "name": "stdout",
     "output_type": "stream",
     "text": [
      "https://noaa-hrrr-bdp-pds.s3.amazonaws.com/hrrr.20130327/conus/hrrr.t22z.wrfsfcf01.grib2\n"
     ]
    },
    {
     "name": "stderr",
     "output_type": "stream",
     "text": [
      " 26%|██▋       | 82/311 [03:28<03:36,  1.06it/s]"
     ]
    },
    {
     "name": "stdout",
     "output_type": "stream",
     "text": [
      "https://noaa-hrrr-bdp-pds.s3.amazonaws.com/hrrr.20130813/conus/hrrr.t22z.wrfsfcf01.grib2\n"
     ]
    },
    {
     "name": "stderr",
     "output_type": "stream",
     "text": [
      " 27%|██▋       | 83/311 [03:29<03:35,  1.06it/s]"
     ]
    },
    {
     "name": "stdout",
     "output_type": "stream",
     "text": [
      "https://noaa-hrrr-bdp-pds.s3.amazonaws.com/hrrr.20130725/conus/hrrr.t22z.wrfsfcf01.grib2\n"
     ]
    },
    {
     "name": "stderr",
     "output_type": "stream",
     "text": [
      " 27%|██▋       | 84/311 [03:30<03:33,  1.06it/s]"
     ]
    },
    {
     "name": "stdout",
     "output_type": "stream",
     "text": [
      "https://noaa-hrrr-bdp-pds.s3.amazonaws.com/hrrr.20140513/conus/hrrr.t22z.wrfsfcf01.grib2\n"
     ]
    },
    {
     "name": "stderr",
     "output_type": "stream",
     "text": [
      " 27%|██▋       | 85/311 [03:30<03:32,  1.06it/s]"
     ]
    },
    {
     "name": "stdout",
     "output_type": "stream",
     "text": [
      "https://noaa-hrrr-bdp-pds.s3.amazonaws.com/hrrr.20140702/conus/hrrr.t22z.wrfsfcf01.grib2\n"
     ]
    },
    {
     "name": "stderr",
     "output_type": "stream",
     "text": [
      " 28%|██▊       | 86/311 [03:31<03:31,  1.06it/s]"
     ]
    },
    {
     "name": "stdout",
     "output_type": "stream",
     "text": [
      "https://noaa-hrrr-bdp-pds.s3.amazonaws.com/hrrr.20130723/conus/hrrr.t22z.wrfsfcf01.grib2\n"
     ]
    },
    {
     "name": "stderr",
     "output_type": "stream",
     "text": [
      " 28%|██▊       | 87/311 [03:32<03:30,  1.06it/s]"
     ]
    },
    {
     "name": "stdout",
     "output_type": "stream",
     "text": [
      "https://noaa-hrrr-bdp-pds.s3.amazonaws.com/hrrr.20140410/conus/hrrr.t22z.wrfsfcf01.grib2\n"
     ]
    },
    {
     "name": "stderr",
     "output_type": "stream",
     "text": [
      " 28%|██▊       | 88/311 [03:33<03:29,  1.06it/s]"
     ]
    },
    {
     "name": "stdout",
     "output_type": "stream",
     "text": [
      "https://noaa-hrrr-bdp-pds.s3.amazonaws.com/hrrr.20160809/conus/hrrr.t22z.wrfsfcf01.grib2\n"
     ]
    },
    {
     "name": "stderr",
     "output_type": "stream",
     "text": [
      " 29%|██▊       | 89/311 [03:34<03:28,  1.06it/s]"
     ]
    },
    {
     "name": "stdout",
     "output_type": "stream",
     "text": [
      "https://noaa-hrrr-bdp-pds.s3.amazonaws.com/hrrr.20130612/conus/hrrr.t22z.wrfsfcf01.grib2\n"
     ]
    },
    {
     "name": "stderr",
     "output_type": "stream",
     "text": [
      " 29%|██▉       | 90/311 [03:35<03:27,  1.06it/s]"
     ]
    },
    {
     "name": "stdout",
     "output_type": "stream",
     "text": [
      "https://noaa-hrrr-bdp-pds.s3.amazonaws.com/hrrr.20130916/conus/hrrr.t22z.wrfsfcf01.grib2\n"
     ]
    },
    {
     "name": "stderr",
     "output_type": "stream",
     "text": [
      " 29%|██▉       | 91/311 [03:36<03:27,  1.06it/s]"
     ]
    },
    {
     "name": "stdout",
     "output_type": "stream",
     "text": [
      "https://noaa-hrrr-bdp-pds.s3.amazonaws.com/hrrr.20130911/conus/hrrr.t22z.wrfsfcf01.grib2\n"
     ]
    },
    {
     "name": "stderr",
     "output_type": "stream",
     "text": [
      " 30%|██▉       | 92/311 [03:37<03:26,  1.06it/s]"
     ]
    },
    {
     "name": "stdout",
     "output_type": "stream",
     "text": [
      "https://noaa-hrrr-bdp-pds.s3.amazonaws.com/hrrr.20130904/conus/hrrr.t22z.wrfsfcf01.grib2\n"
     ]
    },
    {
     "name": "stderr",
     "output_type": "stream",
     "text": [
      " 30%|██▉       | 93/311 [03:38<03:25,  1.06it/s]"
     ]
    },
    {
     "name": "stdout",
     "output_type": "stream",
     "text": [
      "https://noaa-hrrr-bdp-pds.s3.amazonaws.com/hrrr.20140617/conus/hrrr.t22z.wrfsfcf01.grib2\n"
     ]
    },
    {
     "name": "stderr",
     "output_type": "stream",
     "text": [
      " 30%|███       | 94/311 [03:39<03:24,  1.06it/s]"
     ]
    },
    {
     "name": "stdout",
     "output_type": "stream",
     "text": [
      "https://noaa-hrrr-bdp-pds.s3.amazonaws.com/hrrr.20140226/conus/hrrr.t22z.wrfsfcf01.grib2\n"
     ]
    },
    {
     "name": "stderr",
     "output_type": "stream",
     "text": [
      " 31%|███       | 95/311 [03:40<03:24,  1.05it/s]"
     ]
    },
    {
     "name": "stdout",
     "output_type": "stream",
     "text": [
      "https://noaa-hrrr-bdp-pds.s3.amazonaws.com/hrrr.20130313/conus/hrrr.t22z.wrfsfcf01.grib2\n"
     ]
    },
    {
     "name": "stderr",
     "output_type": "stream",
     "text": [
      " 31%|███       | 96/311 [03:41<03:23,  1.06it/s]"
     ]
    },
    {
     "name": "stdout",
     "output_type": "stream",
     "text": [
      "https://noaa-hrrr-bdp-pds.s3.amazonaws.com/hrrr.20131007/conus/hrrr.t22z.wrfsfcf01.grib2\n"
     ]
    },
    {
     "name": "stderr",
     "output_type": "stream",
     "text": [
      " 31%|███       | 97/311 [03:42<03:25,  1.04it/s]"
     ]
    },
    {
     "name": "stdout",
     "output_type": "stream",
     "text": [
      "https://noaa-hrrr-bdp-pds.s3.amazonaws.com/hrrr.20130909/conus/hrrr.t22z.wrfsfcf01.grib2\n"
     ]
    },
    {
     "name": "stderr",
     "output_type": "stream",
     "text": [
      " 32%|███▏      | 98/311 [03:43<03:23,  1.05it/s]"
     ]
    },
    {
     "name": "stdout",
     "output_type": "stream",
     "text": [
      "https://noaa-hrrr-bdp-pds.s3.amazonaws.com/hrrr.20140430/conus/hrrr.t22z.wrfsfcf01.grib2\n"
     ]
    },
    {
     "name": "stderr",
     "output_type": "stream",
     "text": [
      " 32%|███▏      | 99/311 [03:44<03:21,  1.05it/s]"
     ]
    },
    {
     "name": "stdout",
     "output_type": "stream",
     "text": [
      "https://noaa-hrrr-bdp-pds.s3.amazonaws.com/hrrr.20130507/conus/hrrr.t22z.wrfsfcf01.grib2\n"
     ]
    },
    {
     "name": "stderr",
     "output_type": "stream",
     "text": [
      " 32%|███▏      | 100/311 [03:45<03:20,  1.05it/s]"
     ]
    },
    {
     "name": "stdout",
     "output_type": "stream",
     "text": [
      "https://noaa-hrrr-bdp-pds.s3.amazonaws.com/hrrr.20130624/conus/hrrr.t22z.wrfsfcf01.grib2\n"
     ]
    },
    {
     "name": "stderr",
     "output_type": "stream",
     "text": [
      " 32%|███▏      | 101/311 [03:46<03:26,  1.02it/s]"
     ]
    },
    {
     "name": "stdout",
     "output_type": "stream",
     "text": [
      "https://noaa-hrrr-bdp-pds.s3.amazonaws.com/hrrr.20130502/conus/hrrr.t22z.wrfsfcf01.grib2\n"
     ]
    },
    {
     "name": "stderr",
     "output_type": "stream",
     "text": [
      " 33%|███▎      | 102/311 [03:47<03:25,  1.02it/s]"
     ]
    },
    {
     "name": "stdout",
     "output_type": "stream",
     "text": [
      "https://noaa-hrrr-bdp-pds.s3.amazonaws.com/hrrr.20130409/conus/hrrr.t22z.wrfsfcf01.grib2\n"
     ]
    },
    {
     "name": "stderr",
     "output_type": "stream",
     "text": [
      " 33%|███▎      | 103/311 [03:48<03:22,  1.03it/s]"
     ]
    },
    {
     "name": "stdout",
     "output_type": "stream",
     "text": [
      "https://noaa-hrrr-bdp-pds.s3.amazonaws.com/hrrr.20140225/conus/hrrr.t22z.wrfsfcf01.grib2\n"
     ]
    },
    {
     "name": "stderr",
     "output_type": "stream",
     "text": [
      " 33%|███▎      | 104/311 [03:49<03:20,  1.03it/s]"
     ]
    },
    {
     "name": "stdout",
     "output_type": "stream",
     "text": [
      "https://noaa-hrrr-bdp-pds.s3.amazonaws.com/hrrr.20140611/conus/hrrr.t22z.wrfsfcf01.grib2\n"
     ]
    },
    {
     "name": "stderr",
     "output_type": "stream",
     "text": [
      " 34%|███▍      | 105/311 [03:50<03:17,  1.04it/s]"
     ]
    },
    {
     "name": "stdout",
     "output_type": "stream",
     "text": [
      "https://noaa-hrrr-bdp-pds.s3.amazonaws.com/hrrr.20130924/conus/hrrr.t22z.wrfsfcf01.grib2\n"
     ]
    },
    {
     "name": "stderr",
     "output_type": "stream",
     "text": [
      " 34%|███▍      | 106/311 [03:51<03:16,  1.04it/s]"
     ]
    },
    {
     "name": "stdout",
     "output_type": "stream",
     "text": [
      "https://noaa-hrrr-bdp-pds.s3.amazonaws.com/hrrr.20131120/conus/hrrr.t22z.wrfsfcf01.grib2\n"
     ]
    },
    {
     "name": "stderr",
     "output_type": "stream",
     "text": [
      " 34%|███▍      | 107/311 [03:52<03:18,  1.03it/s]"
     ]
    },
    {
     "name": "stdout",
     "output_type": "stream",
     "text": [
      "https://noaa-hrrr-bdp-pds.s3.amazonaws.com/hrrr.20130219/conus/hrrr.t22z.wrfsfcf01.grib2\n"
     ]
    },
    {
     "name": "stderr",
     "output_type": "stream",
     "text": [
      " 35%|███▍      | 108/311 [03:52<03:16,  1.04it/s]"
     ]
    },
    {
     "name": "stdout",
     "output_type": "stream",
     "text": [
      "https://noaa-hrrr-bdp-pds.s3.amazonaws.com/hrrr.20140520/conus/hrrr.t22z.wrfsfcf01.grib2\n"
     ]
    },
    {
     "name": "stderr",
     "output_type": "stream",
     "text": [
      " 35%|███▌      | 109/311 [03:53<03:15,  1.04it/s]"
     ]
    },
    {
     "name": "stdout",
     "output_type": "stream",
     "text": [
      "https://noaa-hrrr-bdp-pds.s3.amazonaws.com/hrrr.20130301/conus/hrrr.t22z.wrfsfcf01.grib2\n"
     ]
    },
    {
     "name": "stderr",
     "output_type": "stream",
     "text": [
      " 35%|███▌      | 110/311 [03:54<03:12,  1.04it/s]"
     ]
    },
    {
     "name": "stdout",
     "output_type": "stream",
     "text": [
      "https://noaa-hrrr-bdp-pds.s3.amazonaws.com/hrrr.20130210/conus/hrrr.t22z.wrfsfcf01.grib2\n"
     ]
    },
    {
     "name": "stderr",
     "output_type": "stream",
     "text": [
      " 36%|███▌      | 111/311 [03:55<03:12,  1.04it/s]"
     ]
    },
    {
     "name": "stdout",
     "output_type": "stream",
     "text": [
      "https://noaa-hrrr-bdp-pds.s3.amazonaws.com/hrrr.20130521/conus/hrrr.t22z.wrfsfcf01.grib2\n"
     ]
    },
    {
     "name": "stderr",
     "output_type": "stream",
     "text": [
      " 36%|███▌      | 112/311 [03:56<03:10,  1.05it/s]"
     ]
    },
    {
     "name": "stdout",
     "output_type": "stream",
     "text": [
      "https://noaa-hrrr-bdp-pds.s3.amazonaws.com/hrrr.20130717/conus/hrrr.t22z.wrfsfcf01.grib2\n"
     ]
    },
    {
     "name": "stderr",
     "output_type": "stream",
     "text": [
      " 36%|███▋      | 113/311 [03:57<03:08,  1.05it/s]"
     ]
    },
    {
     "name": "stdout",
     "output_type": "stream",
     "text": [
      "https://noaa-hrrr-bdp-pds.s3.amazonaws.com/hrrr.20130515/conus/hrrr.t22z.wrfsfcf01.grib2\n"
     ]
    },
    {
     "name": "stderr",
     "output_type": "stream",
     "text": [
      " 37%|███▋      | 114/311 [03:58<03:06,  1.05it/s]"
     ]
    },
    {
     "name": "stdout",
     "output_type": "stream",
     "text": [
      "https://noaa-hrrr-bdp-pds.s3.amazonaws.com/hrrr.20130108/conus/hrrr.t22z.wrfsfcf01.grib2\n"
     ]
    },
    {
     "name": "stderr",
     "output_type": "stream",
     "text": [
      " 37%|███▋      | 115/311 [03:59<03:05,  1.06it/s]"
     ]
    },
    {
     "name": "stdout",
     "output_type": "stream",
     "text": [
      "https://noaa-hrrr-bdp-pds.s3.amazonaws.com/hrrr.20140701/conus/hrrr.t22z.wrfsfcf01.grib2\n"
     ]
    },
    {
     "name": "stderr",
     "output_type": "stream",
     "text": [
      " 37%|███▋      | 116/311 [04:00<03:05,  1.05it/s]"
     ]
    },
    {
     "name": "stdout",
     "output_type": "stream",
     "text": [
      "https://noaa-hrrr-bdp-pds.s3.amazonaws.com/hrrr.20130129/conus/hrrr.t22z.wrfsfcf01.grib2\n"
     ]
    },
    {
     "name": "stderr",
     "output_type": "stream",
     "text": [
      " 38%|███▊      | 117/311 [04:01<03:03,  1.05it/s]"
     ]
    },
    {
     "name": "stdout",
     "output_type": "stream",
     "text": [
      "https://noaa-hrrr-bdp-pds.s3.amazonaws.com/hrrr.20140929/conus/hrrr.t22z.wrfsfcf01.grib2\n"
     ]
    },
    {
     "name": "stderr",
     "output_type": "stream",
     "text": [
      " 38%|███▊      | 118/311 [04:02<03:02,  1.06it/s]"
     ]
    },
    {
     "name": "stdout",
     "output_type": "stream",
     "text": [
      "https://noaa-hrrr-bdp-pds.s3.amazonaws.com/hrrr.20130801/conus/hrrr.t22z.wrfsfcf01.grib2\n"
     ]
    },
    {
     "name": "stderr",
     "output_type": "stream",
     "text": [
      " 38%|███▊      | 119/311 [04:03<03:03,  1.05it/s]"
     ]
    },
    {
     "name": "stdout",
     "output_type": "stream",
     "text": [
      "https://noaa-hrrr-bdp-pds.s3.amazonaws.com/hrrr.20130926/conus/hrrr.t22z.wrfsfcf01.grib2\n"
     ]
    },
    {
     "name": "stderr",
     "output_type": "stream",
     "text": [
      " 39%|███▊      | 120/311 [04:04<03:01,  1.05it/s]"
     ]
    },
    {
     "name": "stdout",
     "output_type": "stream",
     "text": [
      "https://noaa-hrrr-bdp-pds.s3.amazonaws.com/hrrr.20140521/conus/hrrr.t22z.wrfsfcf01.grib2\n"
     ]
    },
    {
     "name": "stderr",
     "output_type": "stream",
     "text": [
      " 39%|███▉      | 121/311 [04:05<03:01,  1.05it/s]"
     ]
    },
    {
     "name": "stdout",
     "output_type": "stream",
     "text": [
      "https://noaa-hrrr-bdp-pds.s3.amazonaws.com/hrrr.20130912/conus/hrrr.t22z.wrfsfcf01.grib2\n"
     ]
    },
    {
     "name": "stderr",
     "output_type": "stream",
     "text": [
      " 39%|███▉      | 122/311 [04:06<02:59,  1.05it/s]"
     ]
    },
    {
     "name": "stdout",
     "output_type": "stream",
     "text": [
      "https://noaa-hrrr-bdp-pds.s3.amazonaws.com/hrrr.20140319/conus/hrrr.t22z.wrfsfcf01.grib2\n"
     ]
    },
    {
     "name": "stderr",
     "output_type": "stream",
     "text": [
      " 40%|███▉      | 123/311 [04:07<02:59,  1.05it/s]"
     ]
    },
    {
     "name": "stdout",
     "output_type": "stream",
     "text": [
      "https://noaa-hrrr-bdp-pds.s3.amazonaws.com/hrrr.20130828/conus/hrrr.t22z.wrfsfcf01.grib2\n"
     ]
    },
    {
     "name": "stderr",
     "output_type": "stream",
     "text": [
      " 40%|███▉      | 124/311 [04:08<02:58,  1.04it/s]"
     ]
    },
    {
     "name": "stdout",
     "output_type": "stream",
     "text": [
      "https://noaa-hrrr-bdp-pds.s3.amazonaws.com/hrrr.20130130/conus/hrrr.t22z.wrfsfcf01.grib2\n"
     ]
    },
    {
     "name": "stderr",
     "output_type": "stream",
     "text": [
      " 40%|████      | 125/311 [04:09<02:57,  1.05it/s]"
     ]
    },
    {
     "name": "stdout",
     "output_type": "stream",
     "text": [
      "https://noaa-hrrr-bdp-pds.s3.amazonaws.com/hrrr.20130613/conus/hrrr.t22z.wrfsfcf01.grib2\n"
     ]
    },
    {
     "name": "stderr",
     "output_type": "stream",
     "text": [
      " 41%|████      | 126/311 [04:10<02:55,  1.06it/s]"
     ]
    },
    {
     "name": "stdout",
     "output_type": "stream",
     "text": [
      "https://noaa-hrrr-bdp-pds.s3.amazonaws.com/hrrr.20130501/conus/hrrr.t22z.wrfsfcf01.grib2\n"
     ]
    },
    {
     "name": "stderr",
     "output_type": "stream",
     "text": [
      " 41%|████      | 127/311 [04:11<02:53,  1.06it/s]"
     ]
    },
    {
     "name": "stdout",
     "output_type": "stream",
     "text": [
      "https://noaa-hrrr-bdp-pds.s3.amazonaws.com/hrrr.20130711/conus/hrrr.t22z.wrfsfcf01.grib2\n"
     ]
    },
    {
     "name": "stderr",
     "output_type": "stream",
     "text": [
      " 41%|████      | 128/311 [04:11<02:52,  1.06it/s]"
     ]
    },
    {
     "name": "stdout",
     "output_type": "stream",
     "text": [
      "https://noaa-hrrr-bdp-pds.s3.amazonaws.com/hrrr.20131028/conus/hrrr.t22z.wrfsfcf01.grib2\n"
     ]
    },
    {
     "name": "stderr",
     "output_type": "stream",
     "text": [
      " 41%|████▏     | 129/311 [04:12<02:51,  1.06it/s]"
     ]
    },
    {
     "name": "stdout",
     "output_type": "stream",
     "text": [
      "https://noaa-hrrr-bdp-pds.s3.amazonaws.com/hrrr.20140923/conus/hrrr.t22z.wrfsfcf01.grib2\n"
     ]
    },
    {
     "name": "stderr",
     "output_type": "stream",
     "text": [
      " 42%|████▏     | 130/311 [04:13<02:51,  1.05it/s]"
     ]
    },
    {
     "name": "stdout",
     "output_type": "stream",
     "text": [
      "https://noaa-hrrr-bdp-pds.s3.amazonaws.com/hrrr.20140724/conus/hrrr.t22z.wrfsfcf01.grib2\n"
     ]
    },
    {
     "name": "stderr",
     "output_type": "stream",
     "text": [
      " 42%|████▏     | 131/311 [04:14<02:50,  1.05it/s]"
     ]
    },
    {
     "name": "stdout",
     "output_type": "stream",
     "text": [
      "https://noaa-hrrr-bdp-pds.s3.amazonaws.com/hrrr.20131022/conus/hrrr.t22z.wrfsfcf01.grib2\n"
     ]
    },
    {
     "name": "stderr",
     "output_type": "stream",
     "text": [
      " 42%|████▏     | 132/311 [04:15<02:50,  1.05it/s]"
     ]
    },
    {
     "name": "stdout",
     "output_type": "stream",
     "text": [
      "https://noaa-hrrr-bdp-pds.s3.amazonaws.com/hrrr.20140730/conus/hrrr.t22z.wrfsfcf01.grib2\n"
     ]
    },
    {
     "name": "stderr",
     "output_type": "stream",
     "text": [
      " 43%|████▎     | 133/311 [04:16<02:49,  1.05it/s]"
     ]
    },
    {
     "name": "stdout",
     "output_type": "stream",
     "text": [
      "https://noaa-hrrr-bdp-pds.s3.amazonaws.com/hrrr.20140818/conus/hrrr.t22z.wrfsfcf01.grib2\n"
     ]
    },
    {
     "name": "stderr",
     "output_type": "stream",
     "text": [
      " 43%|████▎     | 134/311 [04:17<02:48,  1.05it/s]"
     ]
    },
    {
     "name": "stdout",
     "output_type": "stream",
     "text": [
      "https://noaa-hrrr-bdp-pds.s3.amazonaws.com/hrrr.20130604/conus/hrrr.t22z.wrfsfcf01.grib2\n"
     ]
    },
    {
     "name": "stderr",
     "output_type": "stream",
     "text": [
      " 43%|████▎     | 135/311 [04:18<02:46,  1.06it/s]"
     ]
    },
    {
     "name": "stdout",
     "output_type": "stream",
     "text": [
      "https://noaa-hrrr-bdp-pds.s3.amazonaws.com/hrrr.20140420/conus/hrrr.t22z.wrfsfcf01.grib2\n"
     ]
    },
    {
     "name": "stderr",
     "output_type": "stream",
     "text": [
      " 44%|████▎     | 136/311 [04:19<02:45,  1.06it/s]"
     ]
    },
    {
     "name": "stdout",
     "output_type": "stream",
     "text": [
      "https://noaa-hrrr-bdp-pds.s3.amazonaws.com/hrrr.20130330/conus/hrrr.t22z.wrfsfcf01.grib2\n"
     ]
    },
    {
     "name": "stderr",
     "output_type": "stream",
     "text": [
      " 44%|████▍     | 137/311 [04:20<02:43,  1.06it/s]"
     ]
    },
    {
     "name": "stdout",
     "output_type": "stream",
     "text": [
      "https://noaa-hrrr-bdp-pds.s3.amazonaws.com/hrrr.20140303/conus/hrrr.t22z.wrfsfcf01.grib2\n"
     ]
    },
    {
     "name": "stderr",
     "output_type": "stream",
     "text": [
      " 44%|████▍     | 138/311 [04:21<02:43,  1.06it/s]"
     ]
    },
    {
     "name": "stdout",
     "output_type": "stream",
     "text": [
      "https://noaa-hrrr-bdp-pds.s3.amazonaws.com/hrrr.20130807/conus/hrrr.t22z.wrfsfcf01.grib2\n"
     ]
    },
    {
     "name": "stderr",
     "output_type": "stream",
     "text": [
      " 45%|████▍     | 139/311 [04:22<02:44,  1.05it/s]"
     ]
    },
    {
     "name": "stdout",
     "output_type": "stream",
     "text": [
      "https://noaa-hrrr-bdp-pds.s3.amazonaws.com/hrrr.20130626/conus/hrrr.t22z.wrfsfcf01.grib2\n"
     ]
    },
    {
     "name": "stderr",
     "output_type": "stream",
     "text": [
      " 45%|████▌     | 140/311 [04:23<02:42,  1.05it/s]"
     ]
    },
    {
     "name": "stdout",
     "output_type": "stream",
     "text": [
      "https://noaa-hrrr-bdp-pds.s3.amazonaws.com/hrrr.20140717/conus/hrrr.t22z.wrfsfcf01.grib2\n"
     ]
    },
    {
     "name": "stderr",
     "output_type": "stream",
     "text": [
      " 45%|████▌     | 141/311 [04:24<02:41,  1.05it/s]"
     ]
    },
    {
     "name": "stdout",
     "output_type": "stream",
     "text": [
      "https://noaa-hrrr-bdp-pds.s3.amazonaws.com/hrrr.20130726/conus/hrrr.t22z.wrfsfcf01.grib2\n"
     ]
    },
    {
     "name": "stderr",
     "output_type": "stream",
     "text": [
      " 46%|████▌     | 142/311 [04:25<02:40,  1.05it/s]"
     ]
    },
    {
     "name": "stdout",
     "output_type": "stream",
     "text": [
      "https://noaa-hrrr-bdp-pds.s3.amazonaws.com/hrrr.20140502/conus/hrrr.t22z.wrfsfcf01.grib2\n"
     ]
    },
    {
     "name": "stderr",
     "output_type": "stream",
     "text": [
      " 46%|████▌     | 143/311 [04:26<02:39,  1.05it/s]"
     ]
    },
    {
     "name": "stdout",
     "output_type": "stream",
     "text": [
      "https://noaa-hrrr-bdp-pds.s3.amazonaws.com/hrrr.20140415/conus/hrrr.t22z.wrfsfcf01.grib2\n"
     ]
    },
    {
     "name": "stderr",
     "output_type": "stream",
     "text": [
      " 46%|████▋     | 144/311 [04:27<02:39,  1.05it/s]"
     ]
    },
    {
     "name": "stdout",
     "output_type": "stream",
     "text": [
      "https://noaa-hrrr-bdp-pds.s3.amazonaws.com/hrrr.20130628/conus/hrrr.t22z.wrfsfcf01.grib2\n"
     ]
    },
    {
     "name": "stderr",
     "output_type": "stream",
     "text": [
      " 47%|████▋     | 145/311 [04:28<02:37,  1.05it/s]"
     ]
    },
    {
     "name": "stdout",
     "output_type": "stream",
     "text": [
      "https://noaa-hrrr-bdp-pds.s3.amazonaws.com/hrrr.20140816/conus/hrrr.t22z.wrfsfcf01.grib2\n"
     ]
    },
    {
     "name": "stderr",
     "output_type": "stream",
     "text": [
      " 47%|████▋     | 146/311 [04:29<02:37,  1.05it/s]"
     ]
    },
    {
     "name": "stdout",
     "output_type": "stream",
     "text": [
      "https://noaa-hrrr-bdp-pds.s3.amazonaws.com/hrrr.20130724/conus/hrrr.t22z.wrfsfcf01.grib2\n"
     ]
    },
    {
     "name": "stderr",
     "output_type": "stream",
     "text": [
      " 47%|████▋     | 147/311 [04:30<02:36,  1.05it/s]"
     ]
    },
    {
     "name": "stdout",
     "output_type": "stream",
     "text": [
      "https://noaa-hrrr-bdp-pds.s3.amazonaws.com/hrrr.20131218/conus/hrrr.t22z.wrfsfcf01.grib2\n"
     ]
    },
    {
     "name": "stderr",
     "output_type": "stream",
     "text": [
      " 48%|████▊     | 148/311 [04:30<02:34,  1.05it/s]"
     ]
    },
    {
     "name": "stdout",
     "output_type": "stream",
     "text": [
      "https://noaa-hrrr-bdp-pds.s3.amazonaws.com/hrrr.20140910/conus/hrrr.t22z.wrfsfcf01.grib2\n"
     ]
    },
    {
     "name": "stderr",
     "output_type": "stream",
     "text": [
      " 48%|████▊     | 149/311 [04:31<02:33,  1.05it/s]"
     ]
    },
    {
     "name": "stdout",
     "output_type": "stream",
     "text": [
      "https://noaa-hrrr-bdp-pds.s3.amazonaws.com/hrrr.20130424/conus/hrrr.t22z.wrfsfcf01.grib2\n"
     ]
    },
    {
     "name": "stderr",
     "output_type": "stream",
     "text": [
      " 48%|████▊     | 150/311 [04:32<02:31,  1.06it/s]"
     ]
    },
    {
     "name": "stdout",
     "output_type": "stream",
     "text": [
      "https://noaa-hrrr-bdp-pds.s3.amazonaws.com/hrrr.20140514/conus/hrrr.t22z.wrfsfcf01.grib2\n"
     ]
    },
    {
     "name": "stderr",
     "output_type": "stream",
     "text": [
      " 49%|████▊     | 151/311 [04:33<02:31,  1.06it/s]"
     ]
    },
    {
     "name": "stdout",
     "output_type": "stream",
     "text": [
      "https://noaa-hrrr-bdp-pds.s3.amazonaws.com/hrrr.20130529/conus/hrrr.t22z.wrfsfcf01.grib2\n"
     ]
    },
    {
     "name": "stderr",
     "output_type": "stream",
     "text": [
      " 49%|████▉     | 152/311 [04:34<02:30,  1.06it/s]"
     ]
    },
    {
     "name": "stdout",
     "output_type": "stream",
     "text": [
      "https://noaa-hrrr-bdp-pds.s3.amazonaws.com/hrrr.20140707/conus/hrrr.t22z.wrfsfcf01.grib2\n"
     ]
    },
    {
     "name": "stderr",
     "output_type": "stream",
     "text": [
      " 49%|████▉     | 153/311 [04:35<02:29,  1.06it/s]"
     ]
    },
    {
     "name": "stdout",
     "output_type": "stream",
     "text": [
      "https://noaa-hrrr-bdp-pds.s3.amazonaws.com/hrrr.20140728/conus/hrrr.t22z.wrfsfcf01.grib2\n"
     ]
    },
    {
     "name": "stderr",
     "output_type": "stream",
     "text": [
      " 50%|████▉     | 154/311 [04:36<02:27,  1.07it/s]"
     ]
    },
    {
     "name": "stdout",
     "output_type": "stream",
     "text": [
      "https://noaa-hrrr-bdp-pds.s3.amazonaws.com/hrrr.20130827/conus/hrrr.t22z.wrfsfcf01.grib2\n"
     ]
    },
    {
     "name": "stderr",
     "output_type": "stream",
     "text": [
      " 50%|████▉     | 155/311 [04:37<02:27,  1.06it/s]"
     ]
    },
    {
     "name": "stdout",
     "output_type": "stream",
     "text": [
      "https://noaa-hrrr-bdp-pds.s3.amazonaws.com/hrrr.20131023/conus/hrrr.t22z.wrfsfcf01.grib2\n"
     ]
    },
    {
     "name": "stderr",
     "output_type": "stream",
     "text": [
      " 50%|█████     | 156/311 [04:38<02:26,  1.06it/s]"
     ]
    },
    {
     "name": "stdout",
     "output_type": "stream",
     "text": [
      "https://noaa-hrrr-bdp-pds.s3.amazonaws.com/hrrr.20140714/conus/hrrr.t22z.wrfsfcf01.grib2\n"
     ]
    },
    {
     "name": "stderr",
     "output_type": "stream",
     "text": [
      " 50%|█████     | 157/311 [04:39<02:26,  1.05it/s]"
     ]
    },
    {
     "name": "stdout",
     "output_type": "stream",
     "text": [
      "https://noaa-hrrr-bdp-pds.s3.amazonaws.com/hrrr.20140721/conus/hrrr.t22z.wrfsfcf01.grib2\n"
     ]
    },
    {
     "name": "stderr",
     "output_type": "stream",
     "text": [
      " 51%|█████     | 158/311 [04:40<02:26,  1.05it/s]"
     ]
    },
    {
     "name": "stdout",
     "output_type": "stream",
     "text": [
      "https://noaa-hrrr-bdp-pds.s3.amazonaws.com/hrrr.20140817/conus/hrrr.t22z.wrfsfcf01.grib2\n"
     ]
    },
    {
     "name": "stderr",
     "output_type": "stream",
     "text": [
      " 51%|█████     | 159/311 [04:41<02:25,  1.04it/s]"
     ]
    },
    {
     "name": "stdout",
     "output_type": "stream",
     "text": [
      "https://noaa-hrrr-bdp-pds.s3.amazonaws.com/hrrr.20130701/conus/hrrr.t22z.wrfsfcf01.grib2\n"
     ]
    },
    {
     "name": "stderr",
     "output_type": "stream",
     "text": [
      " 51%|█████▏    | 160/311 [04:42<02:24,  1.05it/s]"
     ]
    },
    {
     "name": "stdout",
     "output_type": "stream",
     "text": [
      "https://noaa-hrrr-bdp-pds.s3.amazonaws.com/hrrr.20140630/conus/hrrr.t22z.wrfsfcf01.grib2\n"
     ]
    },
    {
     "name": "stderr",
     "output_type": "stream",
     "text": [
      " 52%|█████▏    | 161/311 [04:43<02:23,  1.05it/s]"
     ]
    },
    {
     "name": "stdout",
     "output_type": "stream",
     "text": [
      "https://noaa-hrrr-bdp-pds.s3.amazonaws.com/hrrr.20140512/conus/hrrr.t22z.wrfsfcf01.grib2\n"
     ]
    },
    {
     "name": "stderr",
     "output_type": "stream",
     "text": [
      " 52%|█████▏    | 162/311 [04:44<02:22,  1.05it/s]"
     ]
    },
    {
     "name": "stdout",
     "output_type": "stream",
     "text": [
      "https://noaa-hrrr-bdp-pds.s3.amazonaws.com/hrrr.20140723/conus/hrrr.t22z.wrfsfcf01.grib2\n"
     ]
    },
    {
     "name": "stderr",
     "output_type": "stream",
     "text": [
      " 52%|█████▏    | 163/311 [04:45<02:20,  1.05it/s]"
     ]
    },
    {
     "name": "stdout",
     "output_type": "stream",
     "text": [
      "https://noaa-hrrr-bdp-pds.s3.amazonaws.com/hrrr.20130910/conus/hrrr.t22z.wrfsfcf01.grib2\n"
     ]
    },
    {
     "name": "stderr",
     "output_type": "stream",
     "text": [
      " 53%|█████▎    | 164/311 [04:46<02:20,  1.05it/s]"
     ]
    },
    {
     "name": "stdout",
     "output_type": "stream",
     "text": [
      "https://noaa-hrrr-bdp-pds.s3.amazonaws.com/hrrr.20140612/conus/hrrr.t22z.wrfsfcf01.grib2\n"
     ]
    },
    {
     "name": "stderr",
     "output_type": "stream",
     "text": [
      " 53%|█████▎    | 165/311 [04:47<02:19,  1.05it/s]"
     ]
    },
    {
     "name": "stdout",
     "output_type": "stream",
     "text": [
      "https://noaa-hrrr-bdp-pds.s3.amazonaws.com/hrrr.20130403/conus/hrrr.t22z.wrfsfcf01.grib2\n"
     ]
    },
    {
     "name": "stderr",
     "output_type": "stream",
     "text": [
      " 53%|█████▎    | 166/311 [04:48<02:18,  1.05it/s]"
     ]
    },
    {
     "name": "stdout",
     "output_type": "stream",
     "text": [
      "https://noaa-hrrr-bdp-pds.s3.amazonaws.com/hrrr.20130326/conus/hrrr.t22z.wrfsfcf01.grib2\n"
     ]
    },
    {
     "name": "stderr",
     "output_type": "stream",
     "text": [
      " 54%|█████▎    | 167/311 [04:49<02:16,  1.05it/s]"
     ]
    },
    {
     "name": "stdout",
     "output_type": "stream",
     "text": [
      "https://noaa-hrrr-bdp-pds.s3.amazonaws.com/hrrr.20130625/conus/hrrr.t22z.wrfsfcf01.grib2\n"
     ]
    },
    {
     "name": "stderr",
     "output_type": "stream",
     "text": [
      " 54%|█████▍    | 168/311 [04:49<02:15,  1.05it/s]"
     ]
    },
    {
     "name": "stdout",
     "output_type": "stream",
     "text": [
      "https://noaa-hrrr-bdp-pds.s3.amazonaws.com/hrrr.20140826/conus/hrrr.t22z.wrfsfcf01.grib2\n"
     ]
    },
    {
     "name": "stderr",
     "output_type": "stream",
     "text": [
      " 54%|█████▍    | 169/311 [04:50<02:15,  1.05it/s]"
     ]
    },
    {
     "name": "stdout",
     "output_type": "stream",
     "text": [
      "https://noaa-hrrr-bdp-pds.s3.amazonaws.com/hrrr.20130718/conus/hrrr.t22z.wrfsfcf01.grib2\n"
     ]
    },
    {
     "name": "stderr",
     "output_type": "stream",
     "text": [
      " 55%|█████▍    | 170/311 [04:51<02:14,  1.05it/s]"
     ]
    },
    {
     "name": "stdout",
     "output_type": "stream",
     "text": [
      "https://noaa-hrrr-bdp-pds.s3.amazonaws.com/hrrr.20130430/conus/hrrr.t22z.wrfsfcf01.grib2\n"
     ]
    },
    {
     "name": "stderr",
     "output_type": "stream",
     "text": [
      " 55%|█████▍    | 171/311 [04:52<02:13,  1.05it/s]"
     ]
    },
    {
     "name": "stdout",
     "output_type": "stream",
     "text": [
      "https://noaa-hrrr-bdp-pds.s3.amazonaws.com/hrrr.20130221/conus/hrrr.t22z.wrfsfcf01.grib2\n"
     ]
    },
    {
     "name": "stderr",
     "output_type": "stream",
     "text": [
      " 55%|█████▌    | 172/311 [04:53<02:12,  1.05it/s]"
     ]
    },
    {
     "name": "stdout",
     "output_type": "stream",
     "text": [
      "https://noaa-hrrr-bdp-pds.s3.amazonaws.com/hrrr.20140203/conus/hrrr.t22z.wrfsfcf01.grib2\n"
     ]
    },
    {
     "name": "stderr",
     "output_type": "stream",
     "text": [
      " 56%|█████▌    | 173/311 [04:54<02:11,  1.05it/s]"
     ]
    },
    {
     "name": "stdout",
     "output_type": "stream",
     "text": [
      "https://noaa-hrrr-bdp-pds.s3.amazonaws.com/hrrr.20130514/conus/hrrr.t22z.wrfsfcf01.grib2\n"
     ]
    },
    {
     "name": "stderr",
     "output_type": "stream",
     "text": [
      " 56%|█████▌    | 174/311 [04:55<02:10,  1.05it/s]"
     ]
    },
    {
     "name": "stdout",
     "output_type": "stream",
     "text": [
      "https://noaa-hrrr-bdp-pds.s3.amazonaws.com/hrrr.20130815/conus/hrrr.t22z.wrfsfcf01.grib2\n"
     ]
    },
    {
     "name": "stderr",
     "output_type": "stream",
     "text": [
      " 56%|█████▋    | 175/311 [04:56<02:08,  1.05it/s]"
     ]
    },
    {
     "name": "stdout",
     "output_type": "stream",
     "text": [
      "https://noaa-hrrr-bdp-pds.s3.amazonaws.com/hrrr.20140811/conus/hrrr.t22z.wrfsfcf01.grib2\n"
     ]
    },
    {
     "name": "stderr",
     "output_type": "stream",
     "text": [
      " 57%|█████▋    | 176/311 [04:57<02:08,  1.05it/s]"
     ]
    },
    {
     "name": "stdout",
     "output_type": "stream",
     "text": [
      "https://noaa-hrrr-bdp-pds.s3.amazonaws.com/hrrr.20131024/conus/hrrr.t22z.wrfsfcf01.grib2\n"
     ]
    },
    {
     "name": "stderr",
     "output_type": "stream",
     "text": [
      " 57%|█████▋    | 177/311 [04:58<02:07,  1.05it/s]"
     ]
    },
    {
     "name": "stdout",
     "output_type": "stream",
     "text": [
      "https://noaa-hrrr-bdp-pds.s3.amazonaws.com/hrrr.20140417/conus/hrrr.t22z.wrfsfcf01.grib2\n"
     ]
    },
    {
     "name": "stderr",
     "output_type": "stream",
     "text": [
      " 57%|█████▋    | 178/311 [04:59<02:09,  1.03it/s]"
     ]
    },
    {
     "name": "stdout",
     "output_type": "stream",
     "text": [
      "https://noaa-hrrr-bdp-pds.s3.amazonaws.com/hrrr.20140915/conus/hrrr.t22z.wrfsfcf01.grib2\n"
     ]
    },
    {
     "name": "stderr",
     "output_type": "stream",
     "text": [
      " 58%|█████▊    | 179/311 [05:00<02:06,  1.04it/s]"
     ]
    },
    {
     "name": "stdout",
     "output_type": "stream",
     "text": [
      "https://noaa-hrrr-bdp-pds.s3.amazonaws.com/hrrr.20130808/conus/hrrr.t22z.wrfsfcf01.grib2\n"
     ]
    },
    {
     "name": "stderr",
     "output_type": "stream",
     "text": [
      " 58%|█████▊    | 180/311 [05:01<02:05,  1.05it/s]"
     ]
    },
    {
     "name": "stdout",
     "output_type": "stream",
     "text": [
      "https://noaa-hrrr-bdp-pds.s3.amazonaws.com/hrrr.20140828/conus/hrrr.t22z.wrfsfcf01.grib2\n"
     ]
    },
    {
     "name": "stderr",
     "output_type": "stream",
     "text": [
      " 58%|█████▊    | 181/311 [05:02<02:03,  1.05it/s]"
     ]
    },
    {
     "name": "stdout",
     "output_type": "stream",
     "text": [
      "https://noaa-hrrr-bdp-pds.s3.amazonaws.com/hrrr.20131217/conus/hrrr.t22z.wrfsfcf01.grib2\n"
     ]
    },
    {
     "name": "stderr",
     "output_type": "stream",
     "text": [
      " 59%|█████▊    | 182/311 [05:03<02:03,  1.05it/s]"
     ]
    },
    {
     "name": "stdout",
     "output_type": "stream",
     "text": [
      "https://noaa-hrrr-bdp-pds.s3.amazonaws.com/hrrr.20131212/conus/hrrr.t22z.wrfsfcf01.grib2\n"
     ]
    },
    {
     "name": "stderr",
     "output_type": "stream",
     "text": [
      " 59%|█████▉    | 183/311 [05:04<02:02,  1.05it/s]"
     ]
    },
    {
     "name": "stdout",
     "output_type": "stream",
     "text": [
      "https://noaa-hrrr-bdp-pds.s3.amazonaws.com/hrrr.20131113/conus/hrrr.t22z.wrfsfcf01.grib2\n"
     ]
    },
    {
     "name": "stderr",
     "output_type": "stream",
     "text": [
      " 59%|█████▉    | 184/311 [05:05<02:00,  1.05it/s]"
     ]
    },
    {
     "name": "stdout",
     "output_type": "stream",
     "text": [
      "https://noaa-hrrr-bdp-pds.s3.amazonaws.com/hrrr.20130814/conus/hrrr.t22z.wrfsfcf01.grib2\n"
     ]
    },
    {
     "name": "stderr",
     "output_type": "stream",
     "text": [
      " 59%|█████▉    | 185/311 [05:06<01:59,  1.05it/s]"
     ]
    },
    {
     "name": "stdout",
     "output_type": "stream",
     "text": [
      "https://noaa-hrrr-bdp-pds.s3.amazonaws.com/hrrr.20130804/conus/hrrr.t22z.wrfsfcf01.grib2\n"
     ]
    },
    {
     "name": "stderr",
     "output_type": "stream",
     "text": [
      " 60%|█████▉    | 186/311 [05:07<01:59,  1.05it/s]"
     ]
    },
    {
     "name": "stdout",
     "output_type": "stream",
     "text": [
      "https://noaa-hrrr-bdp-pds.s3.amazonaws.com/hrrr.20130930/conus/hrrr.t22z.wrfsfcf01.grib2\n"
     ]
    },
    {
     "name": "stderr",
     "output_type": "stream",
     "text": [
      " 60%|██████    | 187/311 [05:08<01:58,  1.04it/s]"
     ]
    },
    {
     "name": "stdout",
     "output_type": "stream",
     "text": [
      "https://noaa-hrrr-bdp-pds.s3.amazonaws.com/hrrr.20131030/conus/hrrr.t22z.wrfsfcf01.grib2\n"
     ]
    },
    {
     "name": "stderr",
     "output_type": "stream",
     "text": [
      " 60%|██████    | 188/311 [05:09<01:57,  1.05it/s]"
     ]
    },
    {
     "name": "stdout",
     "output_type": "stream",
     "text": [
      "https://noaa-hrrr-bdp-pds.s3.amazonaws.com/hrrr.20140820/conus/hrrr.t22z.wrfsfcf01.grib2\n"
     ]
    },
    {
     "name": "stderr",
     "output_type": "stream",
     "text": [
      " 61%|██████    | 189/311 [05:09<01:56,  1.05it/s]"
     ]
    },
    {
     "name": "stdout",
     "output_type": "stream",
     "text": [
      "https://noaa-hrrr-bdp-pds.s3.amazonaws.com/hrrr.20140515/conus/hrrr.t22z.wrfsfcf01.grib2\n"
     ]
    },
    {
     "name": "stderr",
     "output_type": "stream",
     "text": [
      " 61%|██████    | 190/311 [05:10<01:55,  1.05it/s]"
     ]
    },
    {
     "name": "stdout",
     "output_type": "stream",
     "text": [
      "https://noaa-hrrr-bdp-pds.s3.amazonaws.com/hrrr.20130617/conus/hrrr.t22z.wrfsfcf01.grib2\n"
     ]
    },
    {
     "name": "stderr",
     "output_type": "stream",
     "text": [
      " 61%|██████▏   | 191/311 [05:11<01:54,  1.05it/s]"
     ]
    },
    {
     "name": "stdout",
     "output_type": "stream",
     "text": [
      "https://noaa-hrrr-bdp-pds.s3.amazonaws.com/hrrr.20140916/conus/hrrr.t22z.wrfsfcf01.grib2\n"
     ]
    },
    {
     "name": "stderr",
     "output_type": "stream",
     "text": [
      " 62%|██████▏   | 192/311 [05:12<01:53,  1.05it/s]"
     ]
    },
    {
     "name": "stdout",
     "output_type": "stream",
     "text": [
      "https://noaa-hrrr-bdp-pds.s3.amazonaws.com/hrrr.20130206/conus/hrrr.t22z.wrfsfcf01.grib2\n"
     ]
    },
    {
     "name": "stderr",
     "output_type": "stream",
     "text": [
      " 62%|██████▏   | 193/311 [05:13<01:52,  1.05it/s]"
     ]
    },
    {
     "name": "stdout",
     "output_type": "stream",
     "text": [
      "https://noaa-hrrr-bdp-pds.s3.amazonaws.com/hrrr.20140209/conus/hrrr.t22z.wrfsfcf01.grib2\n"
     ]
    },
    {
     "name": "stderr",
     "output_type": "stream",
     "text": [
      " 62%|██████▏   | 194/311 [05:14<01:52,  1.04it/s]"
     ]
    },
    {
     "name": "stdout",
     "output_type": "stream",
     "text": [
      "https://noaa-hrrr-bdp-pds.s3.amazonaws.com/hrrr.20131202/conus/hrrr.t22z.wrfsfcf01.grib2\n"
     ]
    },
    {
     "name": "stderr",
     "output_type": "stream",
     "text": [
      " 63%|██████▎   | 195/311 [05:15<01:50,  1.05it/s]"
     ]
    },
    {
     "name": "stdout",
     "output_type": "stream",
     "text": [
      "https://noaa-hrrr-bdp-pds.s3.amazonaws.com/hrrr.20131119/conus/hrrr.t22z.wrfsfcf01.grib2\n"
     ]
    },
    {
     "name": "stderr",
     "output_type": "stream",
     "text": [
      " 63%|██████▎   | 196/311 [05:16<01:50,  1.04it/s]"
     ]
    },
    {
     "name": "stdout",
     "output_type": "stream",
     "text": [
      "https://noaa-hrrr-bdp-pds.s3.amazonaws.com/hrrr.20140421/conus/hrrr.t22z.wrfsfcf01.grib2\n"
     ]
    },
    {
     "name": "stderr",
     "output_type": "stream",
     "text": [
      " 63%|██████▎   | 197/311 [05:17<01:48,  1.05it/s]"
     ]
    },
    {
     "name": "stdout",
     "output_type": "stream",
     "text": [
      "https://noaa-hrrr-bdp-pds.s3.amazonaws.com/hrrr.20130208/conus/hrrr.t22z.wrfsfcf01.grib2\n"
     ]
    },
    {
     "name": "stderr",
     "output_type": "stream",
     "text": [
      " 64%|██████▎   | 198/311 [05:18<01:48,  1.04it/s]"
     ]
    },
    {
     "name": "stdout",
     "output_type": "stream",
     "text": [
      "https://noaa-hrrr-bdp-pds.s3.amazonaws.com/hrrr.20140208/conus/hrrr.t22z.wrfsfcf01.grib2\n"
     ]
    },
    {
     "name": "stderr",
     "output_type": "stream",
     "text": [
      " 64%|██████▍   | 199/311 [05:19<01:46,  1.05it/s]"
     ]
    },
    {
     "name": "stdout",
     "output_type": "stream",
     "text": [
      "https://noaa-hrrr-bdp-pds.s3.amazonaws.com/hrrr.20131015/conus/hrrr.t22z.wrfsfcf01.grib2\n"
     ]
    },
    {
     "name": "stderr",
     "output_type": "stream",
     "text": [
      " 64%|██████▍   | 200/311 [05:20<01:46,  1.04it/s]"
     ]
    },
    {
     "name": "stdout",
     "output_type": "stream",
     "text": [
      "https://noaa-hrrr-bdp-pds.s3.amazonaws.com/hrrr.20131008/conus/hrrr.t22z.wrfsfcf01.grib2\n"
     ]
    },
    {
     "name": "stderr",
     "output_type": "stream",
     "text": [
      " 65%|██████▍   | 201/311 [05:21<01:45,  1.04it/s]"
     ]
    },
    {
     "name": "stdout",
     "output_type": "stream",
     "text": [
      "https://noaa-hrrr-bdp-pds.s3.amazonaws.com/hrrr.20130818/conus/hrrr.t22z.wrfsfcf01.grib2\n"
     ]
    },
    {
     "name": "stderr",
     "output_type": "stream",
     "text": [
      " 65%|██████▍   | 202/311 [05:22<01:43,  1.05it/s]"
     ]
    },
    {
     "name": "stdout",
     "output_type": "stream",
     "text": [
      "https://noaa-hrrr-bdp-pds.s3.amazonaws.com/hrrr.20130220/conus/hrrr.t22z.wrfsfcf01.grib2\n"
     ]
    },
    {
     "name": "stderr",
     "output_type": "stream",
     "text": [
      " 65%|██████▌   | 203/311 [05:23<01:42,  1.05it/s]"
     ]
    },
    {
     "name": "stdout",
     "output_type": "stream",
     "text": [
      "https://noaa-hrrr-bdp-pds.s3.amazonaws.com/hrrr.20140824/conus/hrrr.t22z.wrfsfcf01.grib2\n"
     ]
    },
    {
     "name": "stderr",
     "output_type": "stream",
     "text": [
      " 66%|██████▌   | 204/311 [05:24<01:41,  1.06it/s]"
     ]
    },
    {
     "name": "stdout",
     "output_type": "stream",
     "text": [
      "https://noaa-hrrr-bdp-pds.s3.amazonaws.com/hrrr.20130821/conus/hrrr.t22z.wrfsfcf01.grib2\n"
     ]
    },
    {
     "name": "stderr",
     "output_type": "stream",
     "text": [
      " 66%|██████▌   | 205/311 [05:25<01:41,  1.04it/s]"
     ]
    },
    {
     "name": "stdout",
     "output_type": "stream",
     "text": [
      "https://noaa-hrrr-bdp-pds.s3.amazonaws.com/hrrr.20131010/conus/hrrr.t22z.wrfsfcf01.grib2\n"
     ]
    },
    {
     "name": "stderr",
     "output_type": "stream",
     "text": [
      " 66%|██████▌   | 206/311 [05:26<01:41,  1.04it/s]"
     ]
    },
    {
     "name": "stdout",
     "output_type": "stream",
     "text": [
      "https://noaa-hrrr-bdp-pds.s3.amazonaws.com/hrrr.20130401/conus/hrrr.t22z.wrfsfcf01.grib2\n"
     ]
    },
    {
     "name": "stderr",
     "output_type": "stream",
     "text": [
      " 67%|██████▋   | 207/311 [05:27<01:39,  1.04it/s]"
     ]
    },
    {
     "name": "stdout",
     "output_type": "stream",
     "text": [
      "https://noaa-hrrr-bdp-pds.s3.amazonaws.com/hrrr.20130416/conus/hrrr.t22z.wrfsfcf01.grib2\n"
     ]
    },
    {
     "name": "stderr",
     "output_type": "stream",
     "text": [
      " 67%|██████▋   | 208/311 [05:28<01:38,  1.05it/s]"
     ]
    },
    {
     "name": "stdout",
     "output_type": "stream",
     "text": [
      "https://noaa-hrrr-bdp-pds.s3.amazonaws.com/hrrr.20130603/conus/hrrr.t22z.wrfsfcf01.grib2\n"
     ]
    },
    {
     "name": "stderr",
     "output_type": "stream",
     "text": [
      " 67%|██████▋   | 209/311 [05:29<01:36,  1.05it/s]"
     ]
    },
    {
     "name": "stdout",
     "output_type": "stream",
     "text": [
      "https://noaa-hrrr-bdp-pds.s3.amazonaws.com/hrrr.20130902/conus/hrrr.t22z.wrfsfcf01.grib2\n"
     ]
    },
    {
     "name": "stderr",
     "output_type": "stream",
     "text": [
      " 68%|██████▊   | 210/311 [05:30<01:36,  1.05it/s]"
     ]
    },
    {
     "name": "stdout",
     "output_type": "stream",
     "text": [
      "https://noaa-hrrr-bdp-pds.s3.amazonaws.com/hrrr.20130806/conus/hrrr.t22z.wrfsfcf01.grib2\n"
     ]
    },
    {
     "name": "stderr",
     "output_type": "stream",
     "text": [
      " 68%|██████▊   | 211/311 [05:31<01:35,  1.05it/s]"
     ]
    },
    {
     "name": "stdout",
     "output_type": "stream",
     "text": [
      "https://noaa-hrrr-bdp-pds.s3.amazonaws.com/hrrr.20130104/conus/hrrr.t22z.wrfsfcf01.grib2\n"
     ]
    },
    {
     "name": "stderr",
     "output_type": "stream",
     "text": [
      " 68%|██████▊   | 212/311 [05:31<01:33,  1.05it/s]"
     ]
    },
    {
     "name": "stdout",
     "output_type": "stream",
     "text": [
      "https://noaa-hrrr-bdp-pds.s3.amazonaws.com/hrrr.20140626/conus/hrrr.t22z.wrfsfcf01.grib2\n"
     ]
    },
    {
     "name": "stderr",
     "output_type": "stream",
     "text": [
      " 68%|██████▊   | 213/311 [05:32<01:33,  1.05it/s]"
     ]
    },
    {
     "name": "stdout",
     "output_type": "stream",
     "text": [
      "https://noaa-hrrr-bdp-pds.s3.amazonaws.com/hrrr.20140206/conus/hrrr.t22z.wrfsfcf01.grib2\n"
     ]
    },
    {
     "name": "stderr",
     "output_type": "stream",
     "text": [
      " 69%|██████▉   | 214/311 [05:33<01:32,  1.05it/s]"
     ]
    },
    {
     "name": "stdout",
     "output_type": "stream",
     "text": [
      "https://noaa-hrrr-bdp-pds.s3.amazonaws.com/hrrr.20140911/conus/hrrr.t22z.wrfsfcf01.grib2\n"
     ]
    },
    {
     "name": "stderr",
     "output_type": "stream",
     "text": [
      " 69%|██████▉   | 215/311 [05:34<01:31,  1.05it/s]"
     ]
    },
    {
     "name": "stdout",
     "output_type": "stream",
     "text": [
      "https://noaa-hrrr-bdp-pds.s3.amazonaws.com/hrrr.20140616/conus/hrrr.t22z.wrfsfcf01.grib2\n"
     ]
    },
    {
     "name": "stderr",
     "output_type": "stream",
     "text": [
      " 69%|██████▉   | 216/311 [05:35<01:30,  1.05it/s]"
     ]
    },
    {
     "name": "stdout",
     "output_type": "stream",
     "text": [
      "https://noaa-hrrr-bdp-pds.s3.amazonaws.com/hrrr.20140429/conus/hrrr.t22z.wrfsfcf01.grib2\n"
     ]
    },
    {
     "name": "stderr",
     "output_type": "stream",
     "text": [
      " 70%|██████▉   | 217/311 [05:36<01:29,  1.05it/s]"
     ]
    },
    {
     "name": "stdout",
     "output_type": "stream",
     "text": [
      "https://noaa-hrrr-bdp-pds.s3.amazonaws.com/hrrr.20130715/conus/hrrr.t22z.wrfsfcf01.grib2\n"
     ]
    },
    {
     "name": "stderr",
     "output_type": "stream",
     "text": [
      " 70%|███████   | 218/311 [05:37<01:28,  1.05it/s]"
     ]
    },
    {
     "name": "stdout",
     "output_type": "stream",
     "text": [
      "https://noaa-hrrr-bdp-pds.s3.amazonaws.com/hrrr.20140424/conus/hrrr.t22z.wrfsfcf01.grib2\n"
     ]
    },
    {
     "name": "stderr",
     "output_type": "stream",
     "text": [
      " 70%|███████   | 219/311 [05:38<01:27,  1.05it/s]"
     ]
    },
    {
     "name": "stdout",
     "output_type": "stream",
     "text": [
      "https://noaa-hrrr-bdp-pds.s3.amazonaws.com/hrrr.20130809/conus/hrrr.t22z.wrfsfcf01.grib2\n"
     ]
    },
    {
     "name": "stderr",
     "output_type": "stream",
     "text": [
      " 71%|███████   | 220/311 [05:39<01:26,  1.05it/s]"
     ]
    },
    {
     "name": "stdout",
     "output_type": "stream",
     "text": [
      "https://noaa-hrrr-bdp-pds.s3.amazonaws.com/hrrr.20140729/conus/hrrr.t22z.wrfsfcf01.grib2\n"
     ]
    },
    {
     "name": "stderr",
     "output_type": "stream",
     "text": [
      " 71%|███████   | 221/311 [05:40<01:25,  1.05it/s]"
     ]
    },
    {
     "name": "stdout",
     "output_type": "stream",
     "text": [
      "https://noaa-hrrr-bdp-pds.s3.amazonaws.com/hrrr.20140618/conus/hrrr.t22z.wrfsfcf01.grib2\n"
     ]
    },
    {
     "name": "stderr",
     "output_type": "stream",
     "text": [
      " 71%|███████▏  | 222/311 [05:41<01:25,  1.04it/s]"
     ]
    },
    {
     "name": "stdout",
     "output_type": "stream",
     "text": [
      "https://noaa-hrrr-bdp-pds.s3.amazonaws.com/hrrr.20140204/conus/hrrr.t22z.wrfsfcf01.grib2\n"
     ]
    },
    {
     "name": "stderr",
     "output_type": "stream",
     "text": [
      " 72%|███████▏  | 223/311 [05:42<01:24,  1.05it/s]"
     ]
    },
    {
     "name": "stdout",
     "output_type": "stream",
     "text": [
      "https://noaa-hrrr-bdp-pds.s3.amazonaws.com/hrrr.20140609/conus/hrrr.t22z.wrfsfcf01.grib2\n"
     ]
    },
    {
     "name": "stderr",
     "output_type": "stream",
     "text": [
      " 72%|███████▏  | 224/311 [05:43<01:23,  1.04it/s]"
     ]
    },
    {
     "name": "stdout",
     "output_type": "stream",
     "text": [
      "https://noaa-hrrr-bdp-pds.s3.amazonaws.com/hrrr.20140924/conus/hrrr.t22z.wrfsfcf01.grib2\n"
     ]
    },
    {
     "name": "stderr",
     "output_type": "stream",
     "text": [
      " 72%|███████▏  | 225/311 [05:44<01:22,  1.05it/s]"
     ]
    },
    {
     "name": "stdout",
     "output_type": "stream",
     "text": [
      "https://noaa-hrrr-bdp-pds.s3.amazonaws.com/hrrr.20140426/conus/hrrr.t22z.wrfsfcf01.grib2\n"
     ]
    },
    {
     "name": "stderr",
     "output_type": "stream",
     "text": [
      " 73%|███████▎  | 226/311 [05:45<01:21,  1.04it/s]"
     ]
    },
    {
     "name": "stdout",
     "output_type": "stream",
     "text": [
      "https://noaa-hrrr-bdp-pds.s3.amazonaws.com/hrrr.20130319/conus/hrrr.t22z.wrfsfcf01.grib2\n"
     ]
    },
    {
     "name": "stderr",
     "output_type": "stream",
     "text": [
      " 73%|███████▎  | 227/311 [05:46<01:20,  1.04it/s]"
     ]
    },
    {
     "name": "stdout",
     "output_type": "stream",
     "text": [
      "https://noaa-hrrr-bdp-pds.s3.amazonaws.com/hrrr.20140224/conus/hrrr.t22z.wrfsfcf01.grib2\n"
     ]
    },
    {
     "name": "stderr",
     "output_type": "stream",
     "text": [
      " 73%|███████▎  | 228/311 [05:47<01:19,  1.04it/s]"
     ]
    },
    {
     "name": "stdout",
     "output_type": "stream",
     "text": [
      "https://noaa-hrrr-bdp-pds.s3.amazonaws.com/hrrr.20130708/conus/hrrr.t22z.wrfsfcf01.grib2\n"
     ]
    },
    {
     "name": "stderr",
     "output_type": "stream",
     "text": [
      " 74%|███████▎  | 229/311 [05:48<01:17,  1.05it/s]"
     ]
    },
    {
     "name": "stdout",
     "output_type": "stream",
     "text": [
      "https://noaa-hrrr-bdp-pds.s3.amazonaws.com/hrrr.20130126/conus/hrrr.t22z.wrfsfcf01.grib2\n"
     ]
    },
    {
     "name": "stderr",
     "output_type": "stream",
     "text": [
      " 74%|███████▍  | 230/311 [05:49<01:16,  1.05it/s]"
     ]
    },
    {
     "name": "stdout",
     "output_type": "stream",
     "text": [
      "https://noaa-hrrr-bdp-pds.s3.amazonaws.com/hrrr.20130422/conus/hrrr.t22z.wrfsfcf01.grib2\n"
     ]
    },
    {
     "name": "stderr",
     "output_type": "stream",
     "text": [
      " 74%|███████▍  | 231/311 [05:50<01:16,  1.05it/s]"
     ]
    },
    {
     "name": "stdout",
     "output_type": "stream",
     "text": [
      "https://noaa-hrrr-bdp-pds.s3.amazonaws.com/hrrr.20160321/conus/hrrr.t22z.wrfsfcf01.grib2\n"
     ]
    },
    {
     "name": "stderr",
     "output_type": "stream",
     "text": [
      " 75%|███████▍  | 232/311 [05:51<01:15,  1.05it/s]"
     ]
    },
    {
     "name": "stdout",
     "output_type": "stream",
     "text": [
      "https://noaa-hrrr-bdp-pds.s3.amazonaws.com/hrrr.20130810/conus/hrrr.t22z.wrfsfcf01.grib2\n"
     ]
    },
    {
     "name": "stderr",
     "output_type": "stream",
     "text": [
      " 75%|███████▍  | 233/311 [05:52<01:14,  1.05it/s]"
     ]
    },
    {
     "name": "stdout",
     "output_type": "stream",
     "text": [
      "https://noaa-hrrr-bdp-pds.s3.amazonaws.com/hrrr.20130520/conus/hrrr.t22z.wrfsfcf01.grib2\n"
     ]
    },
    {
     "name": "stderr",
     "output_type": "stream",
     "text": [
      " 75%|███████▌  | 234/311 [05:52<01:13,  1.05it/s]"
     ]
    },
    {
     "name": "stdout",
     "output_type": "stream",
     "text": [
      "https://noaa-hrrr-bdp-pds.s3.amazonaws.com/hrrr.20140213/conus/hrrr.t22z.wrfsfcf01.grib2\n"
     ]
    },
    {
     "name": "stderr",
     "output_type": "stream",
     "text": [
      " 76%|███████▌  | 235/311 [05:53<01:11,  1.06it/s]"
     ]
    },
    {
     "name": "stdout",
     "output_type": "stream",
     "text": [
      "https://noaa-hrrr-bdp-pds.s3.amazonaws.com/hrrr.20130513/conus/hrrr.t22z.wrfsfcf01.grib2\n"
     ]
    },
    {
     "name": "stderr",
     "output_type": "stream",
     "text": [
      " 76%|███████▌  | 236/311 [05:54<01:11,  1.05it/s]"
     ]
    },
    {
     "name": "stdout",
     "output_type": "stream",
     "text": [
      "https://noaa-hrrr-bdp-pds.s3.amazonaws.com/hrrr.20140207/conus/hrrr.t22z.wrfsfcf01.grib2\n"
     ]
    },
    {
     "name": "stderr",
     "output_type": "stream",
     "text": [
      " 76%|███████▌  | 237/311 [05:55<01:10,  1.06it/s]"
     ]
    },
    {
     "name": "stdout",
     "output_type": "stream",
     "text": [
      "https://noaa-hrrr-bdp-pds.s3.amazonaws.com/hrrr.20140810/conus/hrrr.t22z.wrfsfcf01.grib2\n"
     ]
    },
    {
     "name": "stderr",
     "output_type": "stream",
     "text": [
      " 77%|███████▋  | 238/311 [05:56<01:09,  1.05it/s]"
     ]
    },
    {
     "name": "stdout",
     "output_type": "stream",
     "text": [
      "https://noaa-hrrr-bdp-pds.s3.amazonaws.com/hrrr.20140603/conus/hrrr.t22z.wrfsfcf01.grib2\n"
     ]
    },
    {
     "name": "stderr",
     "output_type": "stream",
     "text": [
      " 77%|███████▋  | 239/311 [05:57<01:08,  1.05it/s]"
     ]
    },
    {
     "name": "stdout",
     "output_type": "stream",
     "text": [
      "https://noaa-hrrr-bdp-pds.s3.amazonaws.com/hrrr.20130605/conus/hrrr.t22z.wrfsfcf01.grib2\n"
     ]
    },
    {
     "name": "stderr",
     "output_type": "stream",
     "text": [
      " 77%|███████▋  | 240/311 [05:58<01:07,  1.06it/s]"
     ]
    },
    {
     "name": "stdout",
     "output_type": "stream",
     "text": [
      "https://noaa-hrrr-bdp-pds.s3.amazonaws.com/hrrr.20130312/conus/hrrr.t22z.wrfsfcf01.grib2\n"
     ]
    },
    {
     "name": "stderr",
     "output_type": "stream",
     "text": [
      " 77%|███████▋  | 241/311 [05:59<01:06,  1.05it/s]"
     ]
    },
    {
     "name": "stdout",
     "output_type": "stream",
     "text": [
      "https://noaa-hrrr-bdp-pds.s3.amazonaws.com/hrrr.20140605/conus/hrrr.t22z.wrfsfcf01.grib2\n"
     ]
    },
    {
     "name": "stderr",
     "output_type": "stream",
     "text": [
      " 78%|███████▊  | 242/311 [06:00<01:05,  1.05it/s]"
     ]
    },
    {
     "name": "stdout",
     "output_type": "stream",
     "text": [
      "https://noaa-hrrr-bdp-pds.s3.amazonaws.com/hrrr.20130408/conus/hrrr.t22z.wrfsfcf01.grib2\n"
     ]
    },
    {
     "name": "stderr",
     "output_type": "stream",
     "text": [
      " 78%|███████▊  | 243/311 [06:01<01:04,  1.05it/s]"
     ]
    },
    {
     "name": "stdout",
     "output_type": "stream",
     "text": [
      "https://noaa-hrrr-bdp-pds.s3.amazonaws.com/hrrr.20140731/conus/hrrr.t22z.wrfsfcf01.grib2\n"
     ]
    },
    {
     "name": "stderr",
     "output_type": "stream",
     "text": [
      " 78%|███████▊  | 244/311 [06:02<01:03,  1.06it/s]"
     ]
    },
    {
     "name": "stdout",
     "output_type": "stream",
     "text": [
      "https://noaa-hrrr-bdp-pds.s3.amazonaws.com/hrrr.20140416/conus/hrrr.t22z.wrfsfcf01.grib2\n"
     ]
    },
    {
     "name": "stderr",
     "output_type": "stream",
     "text": [
      " 79%|███████▉  | 245/311 [06:03<01:02,  1.06it/s]"
     ]
    },
    {
     "name": "stdout",
     "output_type": "stream",
     "text": [
      "https://noaa-hrrr-bdp-pds.s3.amazonaws.com/hrrr.20140318/conus/hrrr.t22z.wrfsfcf01.grib2\n"
     ]
    },
    {
     "name": "stderr",
     "output_type": "stream",
     "text": [
      " 79%|███████▉  | 246/311 [06:04<01:01,  1.06it/s]"
     ]
    },
    {
     "name": "stdout",
     "output_type": "stream",
     "text": [
      "https://noaa-hrrr-bdp-pds.s3.amazonaws.com/hrrr.20130226/conus/hrrr.t22z.wrfsfcf01.grib2\n"
     ]
    },
    {
     "name": "stderr",
     "output_type": "stream",
     "text": [
      " 79%|███████▉  | 247/311 [06:05<01:01,  1.05it/s]"
     ]
    },
    {
     "name": "stdout",
     "output_type": "stream",
     "text": [
      "https://noaa-hrrr-bdp-pds.s3.amazonaws.com/hrrr.20131216/conus/hrrr.t22z.wrfsfcf01.grib2\n"
     ]
    },
    {
     "name": "stderr",
     "output_type": "stream",
     "text": [
      " 80%|███████▉  | 248/311 [06:06<00:59,  1.05it/s]"
     ]
    },
    {
     "name": "stdout",
     "output_type": "stream",
     "text": [
      "https://noaa-hrrr-bdp-pds.s3.amazonaws.com/hrrr.20140625/conus/hrrr.t22z.wrfsfcf01.grib2\n"
     ]
    },
    {
     "name": "stderr",
     "output_type": "stream",
     "text": [
      " 80%|████████  | 249/311 [06:07<00:58,  1.06it/s]"
     ]
    },
    {
     "name": "stdout",
     "output_type": "stream",
     "text": [
      "https://noaa-hrrr-bdp-pds.s3.amazonaws.com/hrrr.20130414/conus/hrrr.t22z.wrfsfcf01.grib2\n"
     ]
    },
    {
     "name": "stderr",
     "output_type": "stream",
     "text": [
      " 80%|████████  | 250/311 [06:08<00:57,  1.06it/s]"
     ]
    },
    {
     "name": "stdout",
     "output_type": "stream",
     "text": [
      "https://noaa-hrrr-bdp-pds.s3.amazonaws.com/hrrr.20140619/conus/hrrr.t22z.wrfsfcf01.grib2\n"
     ]
    },
    {
     "name": "stderr",
     "output_type": "stream",
     "text": [
      " 81%|████████  | 251/311 [06:09<00:56,  1.06it/s]"
     ]
    },
    {
     "name": "stdout",
     "output_type": "stream",
     "text": [
      "https://noaa-hrrr-bdp-pds.s3.amazonaws.com/hrrr.20130410/conus/hrrr.t22z.wrfsfcf01.grib2\n"
     ]
    },
    {
     "name": "stderr",
     "output_type": "stream",
     "text": [
      " 81%|████████  | 252/311 [06:10<00:55,  1.05it/s]"
     ]
    },
    {
     "name": "stdout",
     "output_type": "stream",
     "text": [
      "https://noaa-hrrr-bdp-pds.s3.amazonaws.com/hrrr.20131009/conus/hrrr.t22z.wrfsfcf01.grib2\n"
     ]
    },
    {
     "name": "stderr",
     "output_type": "stream",
     "text": [
      " 81%|████████▏ | 253/311 [06:10<00:55,  1.05it/s]"
     ]
    },
    {
     "name": "stdout",
     "output_type": "stream",
     "text": [
      "https://noaa-hrrr-bdp-pds.s3.amazonaws.com/hrrr.20140106/conus/hrrr.t22z.wrfsfcf01.grib2\n"
     ]
    },
    {
     "name": "stderr",
     "output_type": "stream",
     "text": [
      " 82%|████████▏ | 254/311 [06:11<00:54,  1.05it/s]"
     ]
    },
    {
     "name": "stdout",
     "output_type": "stream",
     "text": [
      "https://noaa-hrrr-bdp-pds.s3.amazonaws.com/hrrr.20140507/conus/hrrr.t22z.wrfsfcf01.grib2\n"
     ]
    },
    {
     "name": "stderr",
     "output_type": "stream",
     "text": [
      " 82%|████████▏ | 255/311 [06:12<00:53,  1.05it/s]"
     ]
    },
    {
     "name": "stdout",
     "output_type": "stream",
     "text": [
      "https://noaa-hrrr-bdp-pds.s3.amazonaws.com/hrrr.20130805/conus/hrrr.t22z.wrfsfcf01.grib2\n"
     ]
    },
    {
     "name": "stderr",
     "output_type": "stream",
     "text": [
      " 82%|████████▏ | 256/311 [06:13<00:52,  1.05it/s]"
     ]
    },
    {
     "name": "stdout",
     "output_type": "stream",
     "text": [
      "https://noaa-hrrr-bdp-pds.s3.amazonaws.com/hrrr.20130404/conus/hrrr.t22z.wrfsfcf01.grib2\n"
     ]
    },
    {
     "name": "stderr",
     "output_type": "stream",
     "text": [
      " 83%|████████▎ | 257/311 [06:14<00:51,  1.04it/s]"
     ]
    },
    {
     "name": "stdout",
     "output_type": "stream",
     "text": [
      "https://noaa-hrrr-bdp-pds.s3.amazonaws.com/hrrr.20131029/conus/hrrr.t22z.wrfsfcf01.grib2\n"
     ]
    },
    {
     "name": "stderr",
     "output_type": "stream",
     "text": [
      " 83%|████████▎ | 258/311 [06:15<00:50,  1.05it/s]"
     ]
    },
    {
     "name": "stdout",
     "output_type": "stream",
     "text": [
      "https://noaa-hrrr-bdp-pds.s3.amazonaws.com/hrrr.20130803/conus/hrrr.t22z.wrfsfcf01.grib2\n"
     ]
    },
    {
     "name": "stderr",
     "output_type": "stream",
     "text": [
      " 83%|████████▎ | 259/311 [06:16<00:49,  1.04it/s]"
     ]
    },
    {
     "name": "stdout",
     "output_type": "stream",
     "text": [
      "https://noaa-hrrr-bdp-pds.s3.amazonaws.com/hrrr.20130305/conus/hrrr.t22z.wrfsfcf01.grib2\n"
     ]
    },
    {
     "name": "stderr",
     "output_type": "stream",
     "text": [
      " 84%|████████▎ | 260/311 [06:17<00:48,  1.05it/s]"
     ]
    },
    {
     "name": "stdout",
     "output_type": "stream",
     "text": [
      "https://noaa-hrrr-bdp-pds.s3.amazonaws.com/hrrr.20131121/conus/hrrr.t22z.wrfsfcf01.grib2\n"
     ]
    },
    {
     "name": "stderr",
     "output_type": "stream",
     "text": [
      " 84%|████████▍ | 261/311 [06:18<00:47,  1.05it/s]"
     ]
    },
    {
     "name": "stdout",
     "output_type": "stream",
     "text": [
      "https://noaa-hrrr-bdp-pds.s3.amazonaws.com/hrrr.20140516/conus/hrrr.t22z.wrfsfcf01.grib2\n"
     ]
    },
    {
     "name": "stderr",
     "output_type": "stream",
     "text": [
      " 84%|████████▍ | 262/311 [06:19<00:46,  1.05it/s]"
     ]
    },
    {
     "name": "stdout",
     "output_type": "stream",
     "text": [
      "https://noaa-hrrr-bdp-pds.s3.amazonaws.com/hrrr.20140305/conus/hrrr.t22z.wrfsfcf01.grib2\n"
     ]
    },
    {
     "name": "stderr",
     "output_type": "stream",
     "text": [
      " 85%|████████▍ | 263/311 [06:20<00:45,  1.05it/s]"
     ]
    },
    {
     "name": "stdout",
     "output_type": "stream",
     "text": [
      "https://noaa-hrrr-bdp-pds.s3.amazonaws.com/hrrr.20131021/conus/hrrr.t22z.wrfsfcf01.grib2\n"
     ]
    },
    {
     "name": "stderr",
     "output_type": "stream",
     "text": [
      " 85%|████████▍ | 264/311 [06:21<00:44,  1.05it/s]"
     ]
    },
    {
     "name": "stdout",
     "output_type": "stream",
     "text": [
      "https://noaa-hrrr-bdp-pds.s3.amazonaws.com/hrrr.20140301/conus/hrrr.t22z.wrfsfcf01.grib2\n"
     ]
    },
    {
     "name": "stderr",
     "output_type": "stream",
     "text": [
      " 85%|████████▌ | 265/311 [06:22<00:43,  1.05it/s]"
     ]
    },
    {
     "name": "stdout",
     "output_type": "stream",
     "text": [
      "https://noaa-hrrr-bdp-pds.s3.amazonaws.com/hrrr.20140329/conus/hrrr.t22z.wrfsfcf01.grib2\n"
     ]
    },
    {
     "name": "stderr",
     "output_type": "stream",
     "text": [
      " 86%|████████▌ | 266/311 [06:23<00:42,  1.05it/s]"
     ]
    },
    {
     "name": "stdout",
     "output_type": "stream",
     "text": [
      "https://noaa-hrrr-bdp-pds.s3.amazonaws.com/hrrr.20131014/conus/hrrr.t22z.wrfsfcf01.grib2\n"
     ]
    },
    {
     "name": "stderr",
     "output_type": "stream",
     "text": [
      " 86%|████████▌ | 267/311 [06:24<00:41,  1.05it/s]"
     ]
    },
    {
     "name": "stdout",
     "output_type": "stream",
     "text": [
      "https://noaa-hrrr-bdp-pds.s3.amazonaws.com/hrrr.20140419/conus/hrrr.t22z.wrfsfcf01.grib2\n"
     ]
    },
    {
     "name": "stderr",
     "output_type": "stream",
     "text": [
      " 86%|████████▌ | 268/311 [06:25<00:40,  1.05it/s]"
     ]
    },
    {
     "name": "stdout",
     "output_type": "stream",
     "text": [
      "https://noaa-hrrr-bdp-pds.s3.amazonaws.com/hrrr.20140128/conus/hrrr.t22z.wrfsfcf01.grib2\n"
     ]
    },
    {
     "name": "stderr",
     "output_type": "stream",
     "text": [
      " 86%|████████▋ | 269/311 [06:26<00:39,  1.05it/s]"
     ]
    },
    {
     "name": "stdout",
     "output_type": "stream",
     "text": [
      "https://noaa-hrrr-bdp-pds.s3.amazonaws.com/hrrr.20141219/conus/hrrr.t22z.wrfsfcf01.grib2\n"
     ]
    },
    {
     "name": "stderr",
     "output_type": "stream",
     "text": [
      " 87%|████████▋ | 270/311 [06:27<00:38,  1.05it/s]"
     ]
    },
    {
     "name": "stdout",
     "output_type": "stream",
     "text": [
      "https://noaa-hrrr-bdp-pds.s3.amazonaws.com/hrrr.20140331/conus/hrrr.t22z.wrfsfcf01.grib2\n"
     ]
    },
    {
     "name": "stderr",
     "output_type": "stream",
     "text": [
      " 87%|████████▋ | 271/311 [06:28<00:37,  1.06it/s]"
     ]
    },
    {
     "name": "stdout",
     "output_type": "stream",
     "text": [
      "https://noaa-hrrr-bdp-pds.s3.amazonaws.com/hrrr.20140604/conus/hrrr.t22z.wrfsfcf01.grib2\n"
     ]
    },
    {
     "name": "stderr",
     "output_type": "stream",
     "text": [
      " 87%|████████▋ | 272/311 [06:29<00:36,  1.06it/s]"
     ]
    },
    {
     "name": "stdout",
     "output_type": "stream",
     "text": [
      "https://noaa-hrrr-bdp-pds.s3.amazonaws.com/hrrr.20130405/conus/hrrr.t22z.wrfsfcf01.grib2\n"
     ]
    },
    {
     "name": "stderr",
     "output_type": "stream",
     "text": [
      " 88%|████████▊ | 273/311 [06:29<00:36,  1.05it/s]"
     ]
    },
    {
     "name": "stdout",
     "output_type": "stream",
     "text": [
      "https://noaa-hrrr-bdp-pds.s3.amazonaws.com/hrrr.20160814/conus/hrrr.t22z.wrfsfcf01.grib2\n"
     ]
    },
    {
     "name": "stderr",
     "output_type": "stream",
     "text": [
      " 88%|████████▊ | 274/311 [06:50<04:09,  6.73s/it]"
     ]
    },
    {
     "name": "stdout",
     "output_type": "stream",
     "text": [
      "https://noaa-hrrr-bdp-pds.s3.amazonaws.com/hrrr.20130822/conus/hrrr.t22z.wrfsfcf01.grib2\n"
     ]
    },
    {
     "name": "stderr",
     "output_type": "stream",
     "text": [
      " 88%|████████▊ | 275/311 [06:51<02:59,  5.00s/it]"
     ]
    },
    {
     "name": "stdout",
     "output_type": "stream",
     "text": [
      "https://noaa-hrrr-bdp-pds.s3.amazonaws.com/hrrr.20130122/conus/hrrr.t22z.wrfsfcf01.grib2\n"
     ]
    },
    {
     "name": "stderr",
     "output_type": "stream",
     "text": [
      " 89%|████████▊ | 276/311 [06:52<02:12,  3.78s/it]"
     ]
    },
    {
     "name": "stdout",
     "output_type": "stream",
     "text": [
      "https://noaa-hrrr-bdp-pds.s3.amazonaws.com/hrrr.20131104/conus/hrrr.t22z.wrfsfcf01.grib2\n"
     ]
    },
    {
     "name": "stderr",
     "output_type": "stream",
     "text": [
      " 89%|████████▉ | 277/311 [06:53<01:39,  2.93s/it]"
     ]
    },
    {
     "name": "stdout",
     "output_type": "stream",
     "text": [
      "https://noaa-hrrr-bdp-pds.s3.amazonaws.com/hrrr.20140821/conus/hrrr.t22z.wrfsfcf01.grib2\n"
     ]
    },
    {
     "name": "stderr",
     "output_type": "stream",
     "text": [
      " 89%|████████▉ | 278/311 [06:53<01:17,  2.33s/it]"
     ]
    },
    {
     "name": "stdout",
     "output_type": "stream",
     "text": [
      "https://noaa-hrrr-bdp-pds.s3.amazonaws.com/hrrr.20140428/conus/hrrr.t22z.wrfsfcf01.grib2\n"
     ]
    },
    {
     "name": "stderr",
     "output_type": "stream",
     "text": [
      " 90%|████████▉ | 279/311 [06:54<01:01,  1.92s/it]"
     ]
    },
    {
     "name": "stdout",
     "output_type": "stream",
     "text": [
      "https://noaa-hrrr-bdp-pds.s3.amazonaws.com/hrrr.20140917/conus/hrrr.t22z.wrfsfcf01.grib2\n"
     ]
    },
    {
     "name": "stderr",
     "output_type": "stream",
     "text": [
      " 90%|█████████ | 280/311 [06:55<00:50,  1.63s/it]"
     ]
    },
    {
     "name": "stdout",
     "output_type": "stream",
     "text": [
      "https://noaa-hrrr-bdp-pds.s3.amazonaws.com/hrrr.20140528/conus/hrrr.t22z.wrfsfcf01.grib2\n"
     ]
    },
    {
     "name": "stderr",
     "output_type": "stream",
     "text": [
      " 90%|█████████ | 281/311 [06:56<00:42,  1.43s/it]"
     ]
    },
    {
     "name": "stdout",
     "output_type": "stream",
     "text": [
      "https://noaa-hrrr-bdp-pds.s3.amazonaws.com/hrrr.20140220/conus/hrrr.t22z.wrfsfcf01.grib2\n"
     ]
    },
    {
     "name": "stderr",
     "output_type": "stream",
     "text": [
      " 91%|█████████ | 282/311 [06:57<00:37,  1.28s/it]"
     ]
    },
    {
     "name": "stdout",
     "output_type": "stream",
     "text": [
      "https://noaa-hrrr-bdp-pds.s3.amazonaws.com/hrrr.20131001/conus/hrrr.t22z.wrfsfcf01.grib2\n"
     ]
    },
    {
     "name": "stderr",
     "output_type": "stream",
     "text": [
      " 91%|█████████ | 283/311 [06:58<00:32,  1.18s/it]"
     ]
    },
    {
     "name": "stdout",
     "output_type": "stream",
     "text": [
      "https://noaa-hrrr-bdp-pds.s3.amazonaws.com/hrrr.20140401/conus/hrrr.t22z.wrfsfcf01.grib2\n"
     ]
    },
    {
     "name": "stderr",
     "output_type": "stream",
     "text": [
      " 91%|█████████▏| 284/311 [06:59<00:29,  1.11s/it]"
     ]
    },
    {
     "name": "stdout",
     "output_type": "stream",
     "text": [
      "https://noaa-hrrr-bdp-pds.s3.amazonaws.com/hrrr.20130606/conus/hrrr.t22z.wrfsfcf01.grib2\n"
     ]
    },
    {
     "name": "stderr",
     "output_type": "stream",
     "text": [
      " 92%|█████████▏| 285/311 [07:00<00:27,  1.08s/it]"
     ]
    },
    {
     "name": "stdout",
     "output_type": "stream",
     "text": [
      "https://noaa-hrrr-bdp-pds.s3.amazonaws.com/hrrr.20140703/conus/hrrr.t22z.wrfsfcf01.grib2\n"
     ]
    },
    {
     "name": "stderr",
     "output_type": "stream",
     "text": [
      " 92%|█████████▏| 286/311 [07:01<00:25,  1.03s/it]"
     ]
    },
    {
     "name": "stdout",
     "output_type": "stream",
     "text": [
      "https://noaa-hrrr-bdp-pds.s3.amazonaws.com/hrrr.20131209/conus/hrrr.t22z.wrfsfcf01.grib2\n"
     ]
    },
    {
     "name": "stderr",
     "output_type": "stream",
     "text": [
      " 92%|█████████▏| 287/311 [07:02<00:24,  1.01s/it]"
     ]
    },
    {
     "name": "stdout",
     "output_type": "stream",
     "text": [
      "https://noaa-hrrr-bdp-pds.s3.amazonaws.com/hrrr.20130702/conus/hrrr.t22z.wrfsfcf01.grib2\n"
     ]
    },
    {
     "name": "stderr",
     "output_type": "stream",
     "text": [
      " 93%|█████████▎| 288/311 [07:03<00:22,  1.02it/s]"
     ]
    },
    {
     "name": "stdout",
     "output_type": "stream",
     "text": [
      "https://noaa-hrrr-bdp-pds.s3.amazonaws.com/hrrr.20130823/conus/hrrr.t22z.wrfsfcf01.grib2\n"
     ]
    },
    {
     "name": "stderr",
     "output_type": "stream",
     "text": [
      " 93%|█████████▎| 289/311 [07:04<00:21,  1.03it/s]"
     ]
    },
    {
     "name": "stdout",
     "output_type": "stream",
     "text": [
      "https://noaa-hrrr-bdp-pds.s3.amazonaws.com/hrrr.20130318/conus/hrrr.t22z.wrfsfcf01.grib2\n"
     ]
    },
    {
     "name": "stderr",
     "output_type": "stream",
     "text": [
      " 93%|█████████▎| 290/311 [07:05<00:20,  1.03it/s]"
     ]
    },
    {
     "name": "stdout",
     "output_type": "stream",
     "text": [
      "https://noaa-hrrr-bdp-pds.s3.amazonaws.com/hrrr.20130413/conus/hrrr.t22z.wrfsfcf01.grib2\n"
     ]
    },
    {
     "name": "stderr",
     "output_type": "stream",
     "text": [
      " 94%|█████████▎| 291/311 [07:06<00:19,  1.04it/s]"
     ]
    },
    {
     "name": "stdout",
     "output_type": "stream",
     "text": [
      "https://noaa-hrrr-bdp-pds.s3.amazonaws.com/hrrr.20140506/conus/hrrr.t22z.wrfsfcf01.grib2\n"
     ]
    },
    {
     "name": "stderr",
     "output_type": "stream",
     "text": [
      " 94%|█████████▍| 292/311 [07:07<00:18,  1.04it/s]"
     ]
    },
    {
     "name": "stdout",
     "output_type": "stream",
     "text": [
      "https://noaa-hrrr-bdp-pds.s3.amazonaws.com/hrrr.20130321/conus/hrrr.t22z.wrfsfcf01.grib2\n"
     ]
    },
    {
     "name": "stderr",
     "output_type": "stream",
     "text": [
      " 94%|█████████▍| 293/311 [07:08<00:17,  1.05it/s]"
     ]
    },
    {
     "name": "stdout",
     "output_type": "stream",
     "text": [
      "https://noaa-hrrr-bdp-pds.s3.amazonaws.com/hrrr.20130125/conus/hrrr.t22z.wrfsfcf01.grib2\n"
     ]
    },
    {
     "name": "stderr",
     "output_type": "stream",
     "text": [
      " 95%|█████████▍| 294/311 [07:09<00:16,  1.05it/s]"
     ]
    },
    {
     "name": "stdout",
     "output_type": "stream",
     "text": [
      "https://noaa-hrrr-bdp-pds.s3.amazonaws.com/hrrr.20130608/conus/hrrr.t22z.wrfsfcf01.grib2\n"
     ]
    },
    {
     "name": "stderr",
     "output_type": "stream",
     "text": [
      " 95%|█████████▍| 295/311 [07:10<00:15,  1.05it/s]"
     ]
    },
    {
     "name": "stdout",
     "output_type": "stream",
     "text": [
      "https://noaa-hrrr-bdp-pds.s3.amazonaws.com/hrrr.20130306/conus/hrrr.t22z.wrfsfcf01.grib2\n"
     ]
    },
    {
     "name": "stderr",
     "output_type": "stream",
     "text": [
      " 95%|█████████▌| 296/311 [07:11<00:14,  1.05it/s]"
     ]
    },
    {
     "name": "stdout",
     "output_type": "stream",
     "text": [
      "https://noaa-hrrr-bdp-pds.s3.amazonaws.com/hrrr.20131105/conus/hrrr.t22z.wrfsfcf01.grib2\n"
     ]
    },
    {
     "name": "stderr",
     "output_type": "stream",
     "text": [
      " 95%|█████████▌| 297/311 [07:12<00:13,  1.06it/s]"
     ]
    },
    {
     "name": "stdout",
     "output_type": "stream",
     "text": [
      "https://noaa-hrrr-bdp-pds.s3.amazonaws.com/hrrr.20140127/conus/hrrr.t22z.wrfsfcf01.grib2\n"
     ]
    },
    {
     "name": "stderr",
     "output_type": "stream",
     "text": [
      " 96%|█████████▌| 298/311 [07:12<00:12,  1.05it/s]"
     ]
    },
    {
     "name": "stdout",
     "output_type": "stream",
     "text": [
      "https://noaa-hrrr-bdp-pds.s3.amazonaws.com/hrrr.20130315/conus/hrrr.t22z.wrfsfcf01.grib2\n"
     ]
    },
    {
     "name": "stderr",
     "output_type": "stream",
     "text": [
      " 96%|█████████▌| 299/311 [07:13<00:11,  1.05it/s]"
     ]
    },
    {
     "name": "stdout",
     "output_type": "stream",
     "text": [
      "https://noaa-hrrr-bdp-pds.s3.amazonaws.com/hrrr.20140518/conus/hrrr.t22z.wrfsfcf01.grib2\n"
     ]
    },
    {
     "name": "stderr",
     "output_type": "stream",
     "text": [
      " 96%|█████████▋| 300/311 [07:14<00:10,  1.06it/s]"
     ]
    },
    {
     "name": "stdout",
     "output_type": "stream",
     "text": [
      "https://noaa-hrrr-bdp-pds.s3.amazonaws.com/hrrr.20131118/conus/hrrr.t22z.wrfsfcf01.grib2\n"
     ]
    },
    {
     "name": "stderr",
     "output_type": "stream",
     "text": [
      " 97%|█████████▋| 301/311 [07:15<00:09,  1.06it/s]"
     ]
    },
    {
     "name": "stdout",
     "output_type": "stream",
     "text": [
      "https://noaa-hrrr-bdp-pds.s3.amazonaws.com/hrrr.20130331/conus/hrrr.t22z.wrfsfcf01.grib2\n"
     ]
    },
    {
     "name": "stderr",
     "output_type": "stream",
     "text": [
      " 97%|█████████▋| 302/311 [07:16<00:08,  1.05it/s]"
     ]
    },
    {
     "name": "stdout",
     "output_type": "stream",
     "text": [
      "https://noaa-hrrr-bdp-pds.s3.amazonaws.com/hrrr.20131016/conus/hrrr.t22z.wrfsfcf01.grib2\n"
     ]
    },
    {
     "name": "stderr",
     "output_type": "stream",
     "text": [
      " 97%|█████████▋| 303/311 [07:17<00:07,  1.05it/s]"
     ]
    },
    {
     "name": "stdout",
     "output_type": "stream",
     "text": [
      "https://noaa-hrrr-bdp-pds.s3.amazonaws.com/hrrr.20130607/conus/hrrr.t22z.wrfsfcf01.grib2\n"
     ]
    },
    {
     "name": "stderr",
     "output_type": "stream",
     "text": [
      " 98%|█████████▊| 304/311 [07:18<00:06,  1.05it/s]"
     ]
    },
    {
     "name": "stdout",
     "output_type": "stream",
     "text": [
      "https://noaa-hrrr-bdp-pds.s3.amazonaws.com/hrrr.20140202/conus/hrrr.t22z.wrfsfcf01.grib2\n"
     ]
    },
    {
     "name": "stderr",
     "output_type": "stream",
     "text": [
      " 98%|█████████▊| 305/311 [07:19<00:05,  1.05it/s]"
     ]
    },
    {
     "name": "stdout",
     "output_type": "stream",
     "text": [
      "https://noaa-hrrr-bdp-pds.s3.amazonaws.com/hrrr.20130802/conus/hrrr.t22z.wrfsfcf01.grib2\n"
     ]
    },
    {
     "name": "stderr",
     "output_type": "stream",
     "text": [
      " 98%|█████████▊| 306/311 [07:20<00:04,  1.06it/s]"
     ]
    },
    {
     "name": "stdout",
     "output_type": "stream",
     "text": [
      "https://noaa-hrrr-bdp-pds.s3.amazonaws.com/hrrr.20130508/conus/hrrr.t22z.wrfsfcf01.grib2\n"
     ]
    },
    {
     "name": "stderr",
     "output_type": "stream",
     "text": [
      " 99%|█████████▊| 307/311 [07:21<00:03,  1.06it/s]"
     ]
    },
    {
     "name": "stdout",
     "output_type": "stream",
     "text": [
      "https://noaa-hrrr-bdp-pds.s3.amazonaws.com/hrrr.20131002/conus/hrrr.t22z.wrfsfcf01.grib2\n"
     ]
    },
    {
     "name": "stderr",
     "output_type": "stream",
     "text": [
      " 99%|█████████▉| 308/311 [07:22<00:02,  1.06it/s]"
     ]
    },
    {
     "name": "stdout",
     "output_type": "stream",
     "text": [
      "https://noaa-hrrr-bdp-pds.s3.amazonaws.com/hrrr.20140218/conus/hrrr.t22z.wrfsfcf01.grib2\n"
     ]
    },
    {
     "name": "stderr",
     "output_type": "stream",
     "text": [
      " 99%|█████████▉| 309/311 [07:23<00:01,  1.06it/s]"
     ]
    },
    {
     "name": "stdout",
     "output_type": "stream",
     "text": [
      "https://noaa-hrrr-bdp-pds.s3.amazonaws.com/hrrr.20130714/conus/hrrr.t22z.wrfsfcf01.grib2\n"
     ]
    },
    {
     "name": "stderr",
     "output_type": "stream",
     "text": [
      "100%|█████████▉| 310/311 [07:24<00:00,  1.06it/s]"
     ]
    },
    {
     "name": "stdout",
     "output_type": "stream",
     "text": [
      "https://noaa-hrrr-bdp-pds.s3.amazonaws.com/hrrr.20131208/conus/hrrr.t22z.wrfsfcf01.grib2\n"
     ]
    },
    {
     "name": "stderr",
     "output_type": "stream",
     "text": [
      "100%|██████████| 311/311 [07:25<00:00,  1.43s/it]\n"
     ]
    }
   ],
   "source": [
    "print(meta[~meta.date.isin(exist)].date.unique().shape)\n",
    "for unique_date in tqdm.tqdm(meta[~meta.date.isin(exist)].date.unique()):\n",
    "    fmt = unique_date.replace('-', '')\n",
    "    sub = meta[meta.date == unique_date].copy()\n",
    "    try:\n",
    "        download_info((unique_date, sub.to_json(), 22))\n",
    "    except:\n",
    "        pass"
   ]
  },
  {
   "cell_type": "markdown",
   "metadata": {},
   "source": [
    "## NRRR data start with 2014-08-01 (aws), try search margin case"
   ]
  },
  {
   "cell_type": "code",
   "execution_count": 13,
   "metadata": {},
   "outputs": [],
   "source": [
    "def download_info_m(x):\n",
    "    replace_date, unique_date, sub, cycle = x\n",
    "    sub = pd.read_json(sub)\n",
    "    \n",
    "    blob_container = 'https://noaa-hrrr-bdp-pds.s3.amazonaws.com'\n",
    "    sector = \"conus\"\n",
    "    yesterday = datetime.strptime(replace_date, \"%Y-%m-%d\")\n",
    "    # cycle = 0          # noon\n",
    "    forecast_hour = 1   # offset from cycle time\n",
    "    product = \"wrfsfcf\" # 2D surface levels\n",
    "\n",
    "    # Put it all together\n",
    "    file_path = f\"hrrr.t{cycle:02}z.{product}{forecast_hour:02}.grib2\"\n",
    "    url = f\"{blob_container}/hrrr.{yesterday:%Y%m%d}/{sector}/{file_path}\"\n",
    "\n",
    "    print(url)\n",
    "    filename = 'file/' + unique_date + url.split('/')[-1]\n",
    "    \n",
    "    wget.download(url, out=filename)\n",
    "        \n",
    "    ds = xr.open_dataset(filename, engine='cfgrib', \n",
    "                     backend_kwargs={'indexpath':''},\n",
    "                     filter_by_keys={'stepType': 'instant', 'typeOfLevel': 'surface'})\n",
    "    \n",
    "    sub_infos = []\n",
    "    for i, row in sub.iterrows():\n",
    "        lat = row.latitude\n",
    "        lon = row.longitude + 360\n",
    "\n",
    "        abslat = np.abs(ds.latitude-lat)\n",
    "        abslon = np.abs(ds.longitude-lon)\n",
    "        c = np.maximum(abslon, abslat)\n",
    "\n",
    "        ([xloc], [yloc]) = np.where(c == np.min(c))\n",
    "\n",
    "        meta_info = {'id': row['uid']}\n",
    "        for varname, da in ds.sel(y=xloc, x=yloc).data_vars.items():\n",
    "            meta_info[da.attrs['long_name']] = da.values.item()\n",
    "        sub_infos.append(meta_info)\n",
    "\n",
    "    sub_info = pd.DataFrame(sub_infos)\n",
    "    sub_info.to_csv('./nrrr/' + unique_date + '.csv')\n"
   ]
  },
  {
   "cell_type": "code",
   "execution_count": 14,
   "metadata": {},
   "outputs": [
    {
     "data": {
      "text/plain": [
       "1328"
      ]
     },
     "execution_count": 14,
     "metadata": {},
     "output_type": "execute_result"
    }
   ],
   "source": [
    "exist = [x.split('.')[0] for x in os.listdir('./nrrr/')]\n",
    "len(exist)"
   ]
  },
  {
   "cell_type": "code",
   "execution_count": 15,
   "metadata": {},
   "outputs": [],
   "source": [
    "exist = [x for x in sorted(exist) if x]"
   ]
  },
  {
   "cell_type": "code",
   "execution_count": 16,
   "metadata": {},
   "outputs": [],
   "source": [
    "rest_todo = meta[~meta.date.isin(exist) & (meta.date > '2014-08-01') & (meta.date < '2014-10-01')].sort_values('date').date.unique()"
   ]
  },
  {
   "cell_type": "code",
   "execution_count": 18,
   "metadata": {},
   "outputs": [
    {
     "name": "stdout",
     "output_type": "stream",
     "text": [
      "closest date of 2014-08-10 is : 2014-08-09\n",
      "https://noaa-hrrr-bdp-pds.s3.amazonaws.com/hrrr.20140809/conus/hrrr.t01z.wrfsfcf01.grib2\n",
      "closest date of 2014-08-11 is : 2014-08-09\n",
      "https://noaa-hrrr-bdp-pds.s3.amazonaws.com/hrrr.20140809/conus/hrrr.t01z.wrfsfcf01.grib2\n",
      "closest date of 2014-08-12 is : 2014-08-09\n",
      "https://noaa-hrrr-bdp-pds.s3.amazonaws.com/hrrr.20140809/conus/hrrr.t01z.wrfsfcf01.grib2\n",
      "closest date of 2014-08-13 is : 2014-08-09\n",
      "https://noaa-hrrr-bdp-pds.s3.amazonaws.com/hrrr.20140809/conus/hrrr.t01z.wrfsfcf01.grib2\n",
      "closest date of 2014-08-14 is : 2014-08-09\n",
      "https://noaa-hrrr-bdp-pds.s3.amazonaws.com/hrrr.20140809/conus/hrrr.t01z.wrfsfcf01.grib2\n",
      "closest date of 2014-08-15 is : 2014-08-09\n",
      "https://noaa-hrrr-bdp-pds.s3.amazonaws.com/hrrr.20140809/conus/hrrr.t01z.wrfsfcf01.grib2\n",
      "closest date of 2014-08-16 is : 2014-08-09\n",
      "https://noaa-hrrr-bdp-pds.s3.amazonaws.com/hrrr.20140809/conus/hrrr.t01z.wrfsfcf01.grib2\n",
      "closest date of 2014-08-17 is : 2014-08-09\n",
      "https://noaa-hrrr-bdp-pds.s3.amazonaws.com/hrrr.20140809/conus/hrrr.t01z.wrfsfcf01.grib2\n",
      "closest date of 2014-08-18 is : 2014-08-09\n",
      "https://noaa-hrrr-bdp-pds.s3.amazonaws.com/hrrr.20140809/conus/hrrr.t01z.wrfsfcf01.grib2\n",
      "closest date of 2014-08-19 is : 2014-08-09\n",
      "https://noaa-hrrr-bdp-pds.s3.amazonaws.com/hrrr.20140809/conus/hrrr.t01z.wrfsfcf01.grib2\n",
      "closest date of 2014-08-20 is : 2014-08-09\n",
      "https://noaa-hrrr-bdp-pds.s3.amazonaws.com/hrrr.20140809/conus/hrrr.t01z.wrfsfcf01.grib2\n",
      "closest date of 2014-08-21 is : 2014-08-09\n",
      "https://noaa-hrrr-bdp-pds.s3.amazonaws.com/hrrr.20140809/conus/hrrr.t01z.wrfsfcf01.grib2\n",
      "closest date of 2014-08-24 is : 2014-08-09\n",
      "https://noaa-hrrr-bdp-pds.s3.amazonaws.com/hrrr.20140809/conus/hrrr.t01z.wrfsfcf01.grib2\n",
      "closest date of 2014-08-25 is : 2014-08-09\n",
      "https://noaa-hrrr-bdp-pds.s3.amazonaws.com/hrrr.20140809/conus/hrrr.t01z.wrfsfcf01.grib2\n",
      "closest date of 2014-08-26 is : 2014-08-09\n",
      "https://noaa-hrrr-bdp-pds.s3.amazonaws.com/hrrr.20140809/conus/hrrr.t01z.wrfsfcf01.grib2\n",
      "closest date of 2014-08-27 is : 2014-08-09\n",
      "https://noaa-hrrr-bdp-pds.s3.amazonaws.com/hrrr.20140809/conus/hrrr.t01z.wrfsfcf01.grib2\n",
      "closest date of 2014-08-28 is : 2014-08-09\n",
      "https://noaa-hrrr-bdp-pds.s3.amazonaws.com/hrrr.20140809/conus/hrrr.t01z.wrfsfcf01.grib2\n",
      "closest date of 2014-09-10 is : 2014-09-09\n",
      "https://noaa-hrrr-bdp-pds.s3.amazonaws.com/hrrr.20140909/conus/hrrr.t01z.wrfsfcf01.grib2\n",
      "closest date of 2014-09-11 is : 2014-09-09\n",
      "https://noaa-hrrr-bdp-pds.s3.amazonaws.com/hrrr.20140909/conus/hrrr.t01z.wrfsfcf01.grib2\n",
      "closest date of 2014-09-15 is : 2014-09-09\n",
      "https://noaa-hrrr-bdp-pds.s3.amazonaws.com/hrrr.20140909/conus/hrrr.t01z.wrfsfcf01.grib2\n",
      "closest date of 2014-09-16 is : 2014-09-09\n",
      "https://noaa-hrrr-bdp-pds.s3.amazonaws.com/hrrr.20140909/conus/hrrr.t01z.wrfsfcf01.grib2\n",
      "closest date of 2014-09-17 is : 2014-09-09\n",
      "https://noaa-hrrr-bdp-pds.s3.amazonaws.com/hrrr.20140909/conus/hrrr.t01z.wrfsfcf01.grib2\n",
      "closest date of 2014-09-18 is : 2014-09-09\n",
      "https://noaa-hrrr-bdp-pds.s3.amazonaws.com/hrrr.20140909/conus/hrrr.t01z.wrfsfcf01.grib2\n",
      "closest date of 2014-09-22 is : 2014-09-09\n",
      "https://noaa-hrrr-bdp-pds.s3.amazonaws.com/hrrr.20140909/conus/hrrr.t01z.wrfsfcf01.grib2\n",
      "closest date of 2014-09-23 is : 2014-09-09\n",
      "https://noaa-hrrr-bdp-pds.s3.amazonaws.com/hrrr.20140909/conus/hrrr.t01z.wrfsfcf01.grib2\n",
      "closest date of 2014-09-24 is : 2014-09-09\n",
      "https://noaa-hrrr-bdp-pds.s3.amazonaws.com/hrrr.20140909/conus/hrrr.t01z.wrfsfcf01.grib2\n",
      "closest date of 2014-09-29 is : 2014-09-09\n",
      "https://noaa-hrrr-bdp-pds.s3.amazonaws.com/hrrr.20140909/conus/hrrr.t01z.wrfsfcf01.grib2\n"
     ]
    }
   ],
   "source": [
    "for r in rest_todo:\n",
    "    clost = ''\n",
    "    for est in sorted(exist):\n",
    "        target = datetime.strptime(r, \"%Y-%m-%d\")\n",
    "        candidates = datetime.strptime(est, \"%Y-%m-%d\")\n",
    "        if (target - candidates).days <= 0:\n",
    "            print(f'closest date of {r} is : {clost}')\n",
    "            # fmt = unique_date.replace('-', '')\n",
    "            sub = meta[meta.date == r].copy()\n",
    "            for t in [1, 12, 18, 22]:\n",
    "                try:\n",
    "                    download_info_m((clost, r, sub.to_json(), t))\n",
    "                    break\n",
    "                except:\n",
    "                    continue\n",
    "            break\n",
    "        else:\n",
    "            clost = est"
   ]
  },
  {
   "cell_type": "code",
   "execution_count": null,
   "metadata": {},
   "outputs": [],
   "source": []
  }
 ],
 "metadata": {
  "kernelspec": {
   "display_name": "Python 3 (ipykernel)",
   "language": "python",
   "name": "python3"
  },
  "language_info": {
   "codemirror_mode": {
    "name": "ipython",
    "version": 3
   },
   "file_extension": ".py",
   "mimetype": "text/x-python",
   "name": "python",
   "nbconvert_exporter": "python",
   "pygments_lexer": "ipython3",
   "version": "3.8.0"
  }
 },
 "nbformat": 4,
 "nbformat_minor": 4
}
