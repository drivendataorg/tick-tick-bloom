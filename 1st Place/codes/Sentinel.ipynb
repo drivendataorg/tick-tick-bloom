{
 "cells": [
  {
   "cell_type": "code",
   "execution_count": 1,
   "metadata": {
    "id": "Ltd0U-72-tkg"
   },
   "outputs": [],
   "source": [
    "# !pip install rioxarray planetary_computer pystac_client"
   ]
  },
  {
   "cell_type": "code",
   "execution_count": 1,
   "metadata": {
    "id": "PpxrzM3X-pk1"
   },
   "outputs": [],
   "source": [
    "import pandas as pd\n",
    "import geopy.distance as distance\n",
    "from datetime import timedelta\n",
    "import numpy as np\n",
    "\n",
    "from collections import Counter\n",
    "import rioxarray\n",
    "from IPython.display import Image\n",
    "from PIL import Image as PILImage\n",
    "import matplotlib.pyplot as plt\n",
    "import cv2\n",
    "from skimage.io import imsave, imread\n",
    "from multiprocessing import Pool\n",
    "\n",
    "import planetary_computer as pc\n",
    "from pystac_client import Client\n",
    "import traceback\n",
    "# import odc.stac\n",
    "import os\n",
    "import tqdm\n",
    "import warnings\n",
    "warnings.filterwarnings(\"ignore\")"
   ]
  },
  {
   "cell_type": "code",
   "execution_count": 2,
   "metadata": {
    "id": "6P15682s_QEc"
   },
   "outputs": [],
   "source": [
    "!mkdir Sentinel"
   ]
  },
  {
   "cell_type": "code",
   "execution_count": 3,
   "metadata": {
    "id": "Sb3uWEKR_cx3"
   },
   "outputs": [],
   "source": [
    "# get our bounding box to search latitude and longitude coordinates\n",
    "def get_bounding_box(latitude, longitude, meter_buffer=50000):\n",
    "    \"\"\"\n",
    "    Given a latitude, longitude, and buffer in meters, returns a bounding\n",
    "    box around the point with the buffer on the left, right, top, and bottom.\n",
    "\n",
    "    Returns a list of [minx, miny, maxx, maxy]\n",
    "    \"\"\"\n",
    "    distance_search = distance.distance(meters=meter_buffer)\n",
    "\n",
    "    # calculate the lat/long bounds based on ground distance\n",
    "    # bearings are cardinal directions to move (south, west, north, and east)\n",
    "    min_lat = distance_search.destination((latitude, longitude), bearing=180)[0]\n",
    "    min_long = distance_search.destination((latitude, longitude), bearing=270)[1]\n",
    "    max_lat = distance_search.destination((latitude, longitude), bearing=0)[0]\n",
    "    max_long = distance_search.destination((latitude, longitude), bearing=90)[1]\n",
    "\n",
    "    return [min_long, min_lat, max_long, max_lat]\n",
    "\n",
    "\n",
    "# get our date range to search, and format correctly for query\n",
    "def get_date_range(date, time_buffer_days=30):\n",
    "    \"\"\"Get a date range to search for in the planetary computer based\n",
    "    on a sample's date. The time range will include the sample date\n",
    "    and time_buffer_days days prior\n",
    "\n",
    "    Returns a string\"\"\"\n",
    "    datetime_format = \"%Y-%m-%dT\"\n",
    "    range_start = pd.to_datetime(date) - timedelta(days=time_buffer_days)\n",
    "    date_range = f\"{range_start.strftime(datetime_format)}/{pd.to_datetime(date).strftime(datetime_format)}\"\n",
    "\n",
    "    return date_range\n",
    "\n",
    "\n",
    "def crop_sentinel_image(item, bounding_box):\n",
    "    \"\"\"\n",
    "    Given a STAC item from Sentinel-2 and a bounding box tuple in the format\n",
    "    (minx, miny, maxx, maxy), return a cropped portion of the item's visual\n",
    "    imagery in the bounding box.\n",
    "\n",
    "    Returns the image as a numpy array with dimensions (color band, height, width)\n",
    "    \"\"\"\n",
    "    (minx, miny, maxx, maxy) = bounding_box\n",
    "\n",
    "    image = rioxarray.open_rasterio(pc.sign(item.assets[\"visual\"].href)).rio.clip_box(\n",
    "        minx=minx,\n",
    "        miny=miny,\n",
    "        maxx=maxx,\n",
    "        maxy=maxy,\n",
    "        crs=\"EPSG:4326\",\n",
    "    )\n",
    "\n",
    "    return image.to_numpy()\n",
    "\n",
    "\n",
    "def crop_sentinel_image_with_water(item, bounding_box):\n",
    "    \"\"\"\n",
    "    Given a STAC item from Sentinel-2 and a bounding box tuple in the format\n",
    "    (minx, miny, maxx, maxy), return a cropped portion of the item's visual\n",
    "    imagery in the bounding box.\n",
    "\n",
    "    Returns the image as a numpy array with dimensions (color band, height, width)\n",
    "    \"\"\"\n",
    "    (minx, miny, maxx, maxy) = bounding_box\n",
    "\n",
    "    image = rioxarray.open_rasterio(pc.sign(item.assets[\"visual\"].href)).rio.clip_box(\n",
    "        minx=minx,\n",
    "        miny=miny,\n",
    "        maxx=maxx,\n",
    "        maxy=maxy,\n",
    "        crs=\"EPSG:4326\",\n",
    "    )\n",
    "\n",
    "\n",
    "    scl_arr = rioxarray.open_rasterio(pc.sign(item.assets[\"SCL\"].href)).rio.clip_box(\n",
    "            minx=minx,\n",
    "            miny=miny,\n",
    "            maxx=maxx,\n",
    "            maxy=maxy,\n",
    "            crs=\"EPSG:4326\",\n",
    "        )\n",
    "\n",
    "    return image.to_numpy(), scl_arr[0]\n",
    "\n",
    "\n",
    "def crop_landsat_image(item, bounding_box):\n",
    "    \"\"\"\n",
    "    Given a STAC item from Landsat and a bounding box tuple in the format\n",
    "    (minx, miny, maxx, maxy), return a cropped portion of the item's visual\n",
    "    imagery in the bounding box.\n",
    "\n",
    "    Returns the image as a numpy array with dimensions (color band, height, width)\n",
    "    \"\"\"\n",
    "    (minx, miny, maxx, maxy) = bounding_box\n",
    "\n",
    "    image = odc.stac.stac_load(\n",
    "        [pc.sign(item)], bands=[\"red\", \"green\", \"blue\"], bbox=[minx, miny, maxx, maxy]\n",
    "    ).isel(time=0)\n",
    "    image_array = image[[\"red\", \"green\", \"blue\"]].to_array().to_numpy()\n",
    "\n",
    "    # normalize to 0 - 255 values\n",
    "    image_array = cv2.normalize(image_array, None, 0, 255, cv2.NORM_MINMAX)\n",
    "\n",
    "    return image_array\n",
    "\n",
    "\n",
    "def get_stats(scl_arr_):\n",
    "    data_ratio = (scl_arr_ > 0).sum() / scl_arr_.shape[0] / scl_arr_.shape[1]\n",
    "    water_ratio = (scl_arr_ == 6).sum() / scl_arr_.shape[0] / scl_arr_.shape[1]\n",
    "    land_ratio = ((scl_arr_ <= 6) & (scl_arr_ >= 4)).sum() / scl_arr_.shape[0] / scl_arr_.shape[1]\n",
    "    cloud_ratio = ((scl_arr_ >= 7) & (scl_arr_ <= 10)).sum() / scl_arr_.shape[0] / scl_arr_.shape[1]\n",
    "    return data_ratio, water_ratio, land_ratio, cloud_ratio"
   ]
  },
  {
   "cell_type": "code",
   "execution_count": 4,
   "metadata": {
    "colab": {
     "base_uri": "https://localhost:8080/",
     "height": 204
    },
    "id": "FymYZEIk_S5r",
    "outputId": "07b24e73-b7d5-4302-83a1-cca1f2519f2e"
   },
   "outputs": [
    {
     "data": {
      "text/html": [
       "<div>\n",
       "<style scoped>\n",
       "    .dataframe tbody tr th:only-of-type {\n",
       "        vertical-align: middle;\n",
       "    }\n",
       "\n",
       "    .dataframe tbody tr th {\n",
       "        vertical-align: top;\n",
       "    }\n",
       "\n",
       "    .dataframe thead th {\n",
       "        text-align: right;\n",
       "    }\n",
       "</style>\n",
       "<table border=\"1\" class=\"dataframe\">\n",
       "  <thead>\n",
       "    <tr style=\"text-align: right;\">\n",
       "      <th></th>\n",
       "      <th>uid</th>\n",
       "      <th>latitude</th>\n",
       "      <th>longitude</th>\n",
       "      <th>date</th>\n",
       "      <th>split</th>\n",
       "    </tr>\n",
       "  </thead>\n",
       "  <tbody>\n",
       "    <tr>\n",
       "      <th>3208</th>\n",
       "      <td>dnot</td>\n",
       "      <td>39.14193</td>\n",
       "      <td>-95.479570</td>\n",
       "      <td>2020-06-29</td>\n",
       "      <td>test</td>\n",
       "    </tr>\n",
       "    <tr>\n",
       "      <th>2690</th>\n",
       "      <td>czoi</td>\n",
       "      <td>39.39920</td>\n",
       "      <td>-99.424810</td>\n",
       "      <td>2018-07-30</td>\n",
       "      <td>train</td>\n",
       "    </tr>\n",
       "    <tr>\n",
       "      <th>23154</th>\n",
       "      <td>znwj</td>\n",
       "      <td>37.26060</td>\n",
       "      <td>-121.992000</td>\n",
       "      <td>2014-06-04</td>\n",
       "      <td>train</td>\n",
       "    </tr>\n",
       "    <tr>\n",
       "      <th>13801</th>\n",
       "      <td>pevh</td>\n",
       "      <td>37.45830</td>\n",
       "      <td>-120.967000</td>\n",
       "      <td>2014-01-14</td>\n",
       "      <td>train</td>\n",
       "    </tr>\n",
       "    <tr>\n",
       "      <th>7245</th>\n",
       "      <td>hzrk</td>\n",
       "      <td>41.93500</td>\n",
       "      <td>-81.478333</td>\n",
       "      <td>2016-04-05</td>\n",
       "      <td>test</td>\n",
       "    </tr>\n",
       "  </tbody>\n",
       "</table>\n",
       "</div>"
      ],
      "text/plain": [
       "        uid  latitude   longitude        date  split\n",
       "3208   dnot  39.14193  -95.479570  2020-06-29   test\n",
       "2690   czoi  39.39920  -99.424810  2018-07-30  train\n",
       "23154  znwj  37.26060 -121.992000  2014-06-04  train\n",
       "13801  pevh  37.45830 -120.967000  2014-01-14  train\n",
       "7245   hzrk  41.93500  -81.478333  2016-04-05   test"
      ]
     },
     "execution_count": 4,
     "metadata": {},
     "output_type": "execute_result"
    }
   ],
   "source": [
    "catalog = Client.open(\n",
    "    \"https://planetarycomputer.microsoft.com/api/stac/v1\", modifier=pc.sign_inplace\n",
    ")\n",
    "\n",
    "metadata = pd.read_csv('../inputs/metadata.csv')\n",
    "metadata.sample(5)"
   ]
  },
  {
   "cell_type": "code",
   "execution_count": 5,
   "metadata": {
    "id": "OE6BU-0_qQkq"
   },
   "outputs": [
    {
     "name": "stdout",
     "output_type": "stream",
     "text": [
      "rm: cannot remove 'Sentinel/*': No such file or directory\n"
     ]
    }
   ],
   "source": [
    "!rm Sentinel/*"
   ]
  },
  {
   "cell_type": "code",
   "execution_count": 6,
   "metadata": {
    "id": "RVXpdi7XB_gN"
   },
   "outputs": [],
   "source": [
    "def get_row(x):\n",
    "    try:\n",
    "        example_row = pd.Series(x)\n",
    "        # example_row['date'] = '2022-' + example_row['date'].split('-')[1] + '-' + example_row['date'].split('-')[2]\n",
    "        bbox = get_bounding_box(example_row.latitude, example_row.longitude, meter_buffer=50000)\n",
    "        date_range = get_date_range(example_row.date, 60).replace('T', '')\n",
    "        # print(date_range)\n",
    "        # search the planetary computer sentinel-l2a and landsat level-2 collections\n",
    "        search = catalog.search(\n",
    "            collections=[\"sentinel-2-l2a\"], bbox=bbox, datetime=date_range\n",
    "        )\n",
    "\n",
    "        # see how many items were returned\n",
    "        items = [item for item in search.get_all_items()]\n",
    "        \n",
    "        # get details of all of the items returned\n",
    "        item_details = pd.DataFrame(\n",
    "            [\n",
    "                {\n",
    "                    \"datetime\": item.datetime.strftime(\"%Y-%m-%d\"),\n",
    "                    \"platform\": item.properties[\"platform\"],\n",
    "                    \"min_long\": item.bbox[0],\n",
    "                    \"max_long\": item.bbox[2],\n",
    "                    \"min_lat\": item.bbox[1],\n",
    "                    \"max_lat\": item.bbox[3],\n",
    "                    \"bbox\": item.bbox,\n",
    "                    \"item_obj\": item,\n",
    "                }\n",
    "                for item in items\n",
    "            ]\n",
    "        )\n",
    "        if item_details.shape[0] == 0:\n",
    "            return\n",
    "        # check which rows actually contain the sample location\n",
    "        item_details[\"contains_sample_point\"] = (\n",
    "            (item_details.min_lat < example_row.latitude)\n",
    "            & (item_details.max_lat > example_row.latitude)\n",
    "            & (item_details.min_long < example_row.longitude)\n",
    "            & (item_details.max_long > example_row.longitude)\n",
    "        )\n",
    "\n",
    "        item_details = item_details[item_details[\"contains_sample_point\"]]\n",
    "        item_details[[\"datetime\", \"platform\", \"contains_sample_point\", \"bbox\"]].sort_values(\n",
    "            by=\"datetime\"\n",
    "        )\n",
    "        # break\n",
    "        for i, x in item_details.iterrows():\n",
    "            if 'Sentinel' in x.platform:\n",
    "                item = x.item_obj\n",
    "                # breaks = True\n",
    "                # break\n",
    "\n",
    "            minx, miny, maxx, maxy = get_bounding_box(\n",
    "                example_row.latitude, example_row.longitude, meter_buffer=2000\n",
    "            )\n",
    "\n",
    "            # get SCL layer first and filter\n",
    "            scl_arr = rioxarray.open_rasterio(pc.sign(item.assets[\"SCL\"].href)).rio.clip_box(\n",
    "                    minx=minx,\n",
    "                    miny=miny,\n",
    "                    maxx=maxx,\n",
    "                    maxy=maxy,\n",
    "                    crs=\"EPSG:4326\",\n",
    "                ).to_numpy()[0].astype(np.uint8)\n",
    "\n",
    "            data_ratio, water_ratio, land_ratio, cloud_ratio = get_stats(scl_arr)\n",
    "            # print(data_ratio, water_ratio, land_ratio, cloud_ratio)\n",
    "            if (data_ratio > 0.99 and cloud_ratio < 0.05):\n",
    "                vis_arr = rioxarray.open_rasterio(pc.sign(item.assets[\"visual\"].href)).rio.clip_box(\n",
    "                    minx=minx,\n",
    "                    miny=miny,\n",
    "                    maxx=maxx,\n",
    "                    maxy=maxy,\n",
    "                    crs=\"EPSG:4326\",\n",
    "                ).to_numpy()\n",
    "                vis_arr = np.transpose(vis_arr, axes=[1, 2, 0]).astype(np.uint8)          \n",
    "                \n",
    "                fname = f'{example_row.uid}_{x.datetime}_{x.item_obj.id}.png'\n",
    "                fname_water = f'W_{example_row.uid}_{x.datetime}_{x.item_obj.id}.png'\n",
    "                imsave('./Sentinel/' + fname, vis_arr)\n",
    "                imsave('./Sentinel/' + fname_water, scl_arr)\n",
    "                break\n",
    "    except:\n",
    "#         raise\n",
    "#         print(traceback.format_exc())\n",
    "        print('Failed: {}'.format(x['uid']))"
   ]
  },
  {
   "cell_type": "markdown",
   "metadata": {},
   "source": [
    "## retrival\n",
    "* if any network exception, please retry"
   ]
  },
  {
   "attachments": {},
   "cell_type": "markdown",
   "metadata": {},
   "source": [
    "> _DrivenData note: remove the `.head(10)` in the following cell to not limit to 10 downloads._"
   ]
  },
  {
   "cell_type": "code",
   "execution_count": 8,
   "metadata": {
    "colab": {
     "base_uri": "https://localhost:8080/"
    },
    "id": "5L2rC11roUff",
    "outputId": "99133b52-6b10-4c8b-eed1-f0f68eebc487"
   },
   "outputs": [
    {
     "name": "stderr",
     "output_type": "stream",
     "text": [
      "10it [00:00, 9892.23it/s]\n"
     ]
    },
    {
     "name": "stdout",
     "output_type": "stream",
     "text": [
      "CPU times: user 12.8 ms, sys: 48.3 ms, total: 61.1 ms\n",
      "Wall time: 2min 32s\n"
     ]
    }
   ],
   "source": [
    "%%time\n",
    "p = Pool(processes=16)\n",
    "for i, row in tqdm.tqdm(metadata.head(10).iterrows()):\n",
    "    example_row = row\n",
    "    p.apply_async(get_row, (dict(example_row), ))\n",
    "p.close()\n",
    "p.join()"
   ]
  },
  {
   "cell_type": "code",
   "execution_count": 8,
   "metadata": {
    "colab": {
     "base_uri": "https://localhost:8080/"
    },
    "id": "ask81t_UQkCo",
    "outputId": "7c171deb-29b0-4328-eb9e-876b532c1b53"
   },
   "outputs": [],
   "source": [
    "get_row(dict(example_row))"
   ]
  }
 ],
 "metadata": {
  "colab": {
   "machine_shape": "hm",
   "provenance": []
  },
  "gpuClass": "standard",
  "kernelspec": {
   "display_name": "Python [conda env:tickdown]",
   "language": "python",
   "name": "conda-env-tickdown-py"
  },
  "language_info": {
   "codemirror_mode": {
    "name": "ipython",
    "version": 3
   },
   "file_extension": ".py",
   "mimetype": "text/x-python",
   "name": "python",
   "nbconvert_exporter": "python",
   "pygments_lexer": "ipython3",
   "version": "3.8.0"
  }
 },
 "nbformat": 4,
 "nbformat_minor": 4
}
